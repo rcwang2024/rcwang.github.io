{
 "cells": [
  {
   "cell_type": "markdown",
   "id": "0b09efec-dd29-4acd-bb93-55188588833d",
   "metadata": {},
   "source": [
    "# \\<Python for Data Analysis\\>"
   ]
  },
  {
   "cell_type": "markdown",
   "id": "d8fea2a6-37c2-4647-ae13-86231a68c457",
   "metadata": {},
   "source": [
    "## This Notebook includs following aspects about Python application in Data science by using Numpy, Pandas, and other Python modules:\n",
    "> Important Knowledges of What, Why and How\n",
    ">\n",
    "> Practice with examles\n",
    ">\n",
    "> My summary"
   ]
  },
  {
   "cell_type": "markdown",
   "id": "1a43c8ac-d46e-41f6-9972-9879c8983106",
   "metadata": {},
   "source": [
    "##  Python packages required for data analysis\n",
    "\n",
    "### Based on the terminal, intsall the packages with conda\n",
    "- On macOS terminal:\n",
    "> `conda config --add channels conda-forge`\n",
    "> \n",
    "> `conda config --set channel-priority strick`\n",
    ">\n",
    "> `conda install --changes conda-forge pandas` ## install package pandas\n",
    "\n",
    "  \n",
    "> import pandas as pd\n",
    "> \n",
    "> import numpy as np\n",
    "> \n",
    "> import seaborn as sns\n",
    "> \n",
    "> import matpltlib.pyplopt as plt\n",
    "> \n",
    "> import scipy as sp\n",
    "> \n",
    "> import sklearn\n",
    ">\n",
    "> import statsmodels as sm"
   ]
  },
  {
   "cell_type": "code",
   "execution_count": 27,
   "id": "bf3bc394-8f8d-43a5-ad6c-3e2950641053",
   "metadata": {},
   "outputs": [
    {
     "name": "stdout",
     "output_type": "stream",
     "text": [
      "pandas version: 2.2.2\n",
      "numpy version: 1.24.3\n",
      "scipy version: 1.11.4\n",
      "scikit-learn version: 1.3.0\n",
      "statsmodels version: 0.14.0\n"
     ]
    },
    {
     "data": {
      "text/plain": [
       "'/Users/ruichaowang/GitHub/rcwang.github.io/Python_for_MLDL'"
      ]
     },
     "execution_count": 27,
     "metadata": {},
     "output_type": "execute_result"
    }
   ],
   "source": [
    "import os\n",
    "import pandas as pd\n",
    "import numpy as np\n",
    "import seaborn as sns\n",
    "import matplotlib.pyplot as plt\n",
    "import scipy as scp\n",
    "import sklearn\n",
    "import statsmodels as sm\n",
    "\n",
    "print('pandas version:', pd.__version__)\n",
    "print('numpy version:', np.__version__)\n",
    "print('scipy version:', scp.__version__)\n",
    "print('scikit-learn version:', sklearn.__version__)\n",
    "print('statsmodels version:', sm.__version__)\n",
    "\n",
    "os.getcwd()"
   ]
  },
  {
   "cell_type": "markdown",
   "id": "d077d396-db55-4a6e-9c66-62d7af62a76f",
   "metadata": {},
   "source": [
    "## Start using Python\n",
    "- We can type `python` in the terminal, enter the python interpreter, then type in python codes like `print('data science')` then press the return will get the output.\n",
    "- Also, we can write a python script save it as `example.py`, and run it with `python example.py`.\n",
    "- we can also use `ipython`, then we can display the input code and output line by line\n",
    "- Last but not least, we can use `Jupyter`, which is the very popular application for python and data science\n",
    "- To start Jupyter Notebook, run `jupyter notebook` in a terminal"
   ]
  },
  {
   "cell_type": "code",
   "execution_count": 28,
   "id": "ed4ad277-17e3-4d9e-a452-c4ec52bbfc97",
   "metadata": {},
   "outputs": [
    {
     "name": "stdout",
     "output_type": "stream",
     "text": [
      "5\n",
      "[0.9894832104188699, -2.018668474040232, -3.1691015820407116, -0.37122840631950516, -0.08812759711177834, -0.03663158632423939, -0.2982782527603676]\n"
     ]
    }
   ],
   "source": [
    "## for example to use Jupyter:\n",
    "import numpy as np\n",
    "\n",
    "a = 5\n",
    "print(a)\n",
    "\n",
    "# generate 7 random numbers following normal distribution\n",
    "data = [np.random.standard_normal() for i in range(7)]\n",
    "print(data)"
   ]
  },
  {
   "cell_type": "code",
   "execution_count": 29,
   "id": "b9d87d8e-609d-43a4-9426-99fc5eb273de",
   "metadata": {},
   "outputs": [
    {
     "data": {
      "text/plain": [
       "np.__loader__\n",
       "np.load\n",
       "np.loadtxt"
      ]
     },
     "metadata": {},
     "output_type": "display_data"
    }
   ],
   "source": [
    "## Using Introspection '?', which is very useful for looking help. Becasue it will show the Docs of an object, like a function, \n",
    "b = [\"1\", 2, 'abc']\n",
    "b?\n",
    "print?\n",
    "\n",
    "## If we are uncertain of certain key word we can us ** to match, like\n",
    "# will show the function or attribute including keyword load\n",
    "np.*load*?"
   ]
  },
  {
   "cell_type": "markdown",
   "id": "da46e04f-855a-4049-972b-b5a45f8bb21a",
   "metadata": {},
   "source": [
    "## Python Language semantics\n",
    "    \n",
    "- Indentation matters for **loops**, **functions**, **class**. For spaces used by default for Jupyter when start a new line after colon. No big bracs used for loops and defining fuctions.\n",
    "- Everything python is considered as object with certain types. Each object has **attribute**, **methods** and **values**.\n",
    "- Of cause, we can comment at every where, just start with a has mark **#**, and then write comments after it.\n",
    "- There are many default functions or methods attached to object, to call method: `obj.method(x, y, z)`.\n",
    "- We can also define functions and call fuctions, for example: `def f(x, y, z): ...` `f(x=a, y=b, y=z)`\n",
    "- For mutable object, if we want to get a copy of this object, we better use the method `a.copy()`"
   ]
  },
  {
   "cell_type": "code",
   "execution_count": 30,
   "id": "0c7f175d-af30-46eb-bdf8-2d0d61fb24cc",
   "metadata": {},
   "outputs": [
    {
     "name": "stdout",
     "output_type": "stream",
     "text": [
      "The values smaller then 3 in [1, 2, 8, 9, 5, 2, 3, 4] is here: [1, 2, 2]\n",
      "The values greater then 3 in [1, 2, 8, 9, 5, 2, 3, 4] is here: [8, 9, 5, 3, 4]\n",
      "2\n",
      "2\n",
      "[1, 2, 3]\n"
     ]
    }
   ],
   "source": [
    "### Examples\n",
    "def less_greater(array, pivot): ## define a function\n",
    "    \"\"\"\n",
    "    Aim: \n",
    "    To separete an array into two parts according to the given pivot. \n",
    "    The values of one parts all small then pivot, and the rest in the other part\n",
    "    \n",
    "    Paraters:\n",
    "    array, the array that going to be splie\n",
    "    pivot, used as point for spliting\n",
    "    \"\"\"\n",
    "    less = [] # initialize an empety list\n",
    "    greater = []\n",
    "\n",
    "    for x in array: # looping values in array\n",
    "        if x < pivot: # branching the pipeline with if .. else\n",
    "            less.append(x) # used 'append' method attached to list\n",
    "        else:\n",
    "            greater.append(x)\n",
    "    \n",
    "    return less, greater # return values for the function\n",
    "\n",
    "## build and assign values to objects\n",
    "a_array, a_pivot = [1, 2, 8, 9, 5, 2, 3, 4], 3 \n",
    "## call the function and accept the return values\n",
    "less, greater = less_greater(array=a_array, pivot=a_pivot) \n",
    "## print with format method\n",
    "print(f'The values smaller then {a_pivot} in {a_array} is here: {less}') \n",
    "print(f'The values greater then {a_pivot} in {a_array} is here: {greater}') \n",
    "\n",
    "## Assign values to variable\n",
    "a = 2\n",
    "print(a)\n",
    "b = a # get a copy\n",
    "a = 3\n",
    "print(b)\n",
    "\n",
    "a = [1, 2, 3]\n",
    "b = a.copy() \n",
    "a = [1, 2, 3, 4]\n",
    "print(b)  # Output: [1, 2, 3]\n"
   ]
  },
  {
   "cell_type": "code",
   "execution_count": 31,
   "id": "ec472329-a906-4c38-b370-3439a01f0df3",
   "metadata": {},
   "outputs": [
    {
     "data": {
      "text/plain": [
       "['This a test file with much bar, but I want to change it to bar\\n',\n",
       " 'here is a bar,\\n',\n",
       " 'here is another bar']"
      ]
     },
     "execution_count": 31,
     "metadata": {},
     "output_type": "execute_result"
    }
   ],
   "source": [
    "## Examples for read and modify files\n",
    "def line_replace(file_handle, old, new):\n",
    "    results = []\n",
    "    for line in file_handle:\n",
    "        # keep the empty lines\n",
    "        if len(line) == 0:\n",
    "            continue\n",
    "        results.append(line.replace(a, b))\n",
    "    return results\n",
    "\n",
    "a, b = 'foo', 'bar'\n",
    "with open('example_line_replace.txt', 'r') as file_handle:\n",
    "    replace_results = line_replace(file_handle, a, b)\n",
    "replace_results"
   ]
  },
  {
   "cell_type": "markdown",
   "id": "733f7c66-7eed-42f6-8bd3-afe34a2c8c40",
   "metadata": {},
   "source": [
    "## Objects and attached methods\n",
    "- Everything in python is object\n",
    "- Two types of object in Python: mutable and immutable\n",
    "- Common data types:\n",
    "    - **number**: including **int**, **float**, **complex**.\n",
    "    - **bool**: including `True` and `False`.\n",
    "    - **string**: including short string, multiple-line string\n",
    "    - **tuple**: an immutable ordered set of values\n",
    "    - **list**: a mutable ordered set of values of all possible types\n",
    "    - **dict**: a hashable object, including keys and values. Keys are not mutable, but the values can be changed\n",
    "    - **set**: a non-ordered set of values, can not indexing values\n",
    "    - **file**\n",
    "\n",
    "- For each object, we can handle it from the following aspect:\n",
    "    - **create**: we should be able to create a object\n",
    "    - **convert**: wether we can build a required type of object from other objects, and how to do that\n",
    "    - **modify**: wheter we can modify the element values in the container object, and how\n",
    "    - **add**: whether we can add new elements to the object, and how\n",
    "    - **delete**: wheter we can delete elements, and how\n",
    "    - **structure**: any requirement about the elements, can we nest it to make complex but useful objects\n",
    "    - **formats**: the special symbols for the object, like `[]` is used for list, `()` for tuple\n",
    "    - **operations**: can we perform operations like calculate the values, comparisons on objects\n",
    "    - Last but not least **attached in-built attributes/methods**\n",
    "      "
   ]
  },
  {
   "cell_type": "markdown",
   "id": "10e3009d-670f-4984-9af6-e79e3b46e6ec",
   "metadata": {},
   "source": [
    "### Examples of Objects and attached attributes methods"
   ]
  },
  {
   "cell_type": "code",
   "execution_count": 18,
   "id": "59fb2c0b-13c1-41e8-9826-6e161dfe4cfc",
   "metadata": {
    "scrolled": true
   },
   "outputs": [
    {
     "data": {
      "text/plain": [
       "(9+3j)"
      ]
     },
     "execution_count": 18,
     "metadata": {},
     "output_type": "execute_result"
    },
    {
     "data": {
      "text/plain": [
       "9.0"
      ]
     },
     "execution_count": 18,
     "metadata": {},
     "output_type": "execute_result"
    },
    {
     "data": {
      "text/plain": [
       "3.0"
      ]
     },
     "execution_count": 18,
     "metadata": {},
     "output_type": "execute_result"
    },
    {
     "data": {
      "text/plain": [
       "(9+3j)"
      ]
     },
     "execution_count": 18,
     "metadata": {},
     "output_type": "execute_result"
    },
    {
     "data": {
      "text/plain": [
       "123"
      ]
     },
     "execution_count": 18,
     "metadata": {},
     "output_type": "execute_result"
    },
    {
     "data": {
      "text/plain": [
       "2.5806451612903225"
      ]
     },
     "execution_count": 18,
     "metadata": {},
     "output_type": "execute_result"
    },
    {
     "data": {
      "text/plain": [
       "2.0"
      ]
     },
     "execution_count": 18,
     "metadata": {},
     "output_type": "execute_result"
    },
    {
     "data": {
      "text/plain": [
       "1.7999999999999998"
      ]
     },
     "execution_count": 18,
     "metadata": {},
     "output_type": "execute_result"
    },
    {
     "data": {
      "text/plain": [
       "24.8"
      ]
     },
     "execution_count": 18,
     "metadata": {},
     "output_type": "execute_result"
    },
    {
     "data": {
      "text/plain": [
       "630.3459396325973"
      ]
     },
     "execution_count": 18,
     "metadata": {},
     "output_type": "execute_result"
    },
    {
     "data": {
      "text/plain": [
       "11.1"
      ]
     },
     "execution_count": 18,
     "metadata": {},
     "output_type": "execute_result"
    },
    {
     "data": {
      "text/plain": [
       "4.9"
      ]
     },
     "execution_count": 18,
     "metadata": {},
     "output_type": "execute_result"
    },
    {
     "data": {
      "text/plain": [
       "False"
      ]
     },
     "execution_count": 18,
     "metadata": {},
     "output_type": "execute_result"
    },
    {
     "data": {
      "text/plain": [
       "True"
      ]
     },
     "execution_count": 18,
     "metadata": {},
     "output_type": "execute_result"
    },
    {
     "data": {
      "text/plain": [
       "False"
      ]
     },
     "execution_count": 18,
     "metadata": {},
     "output_type": "execute_result"
    },
    {
     "data": {
      "text/plain": [
       "True"
      ]
     },
     "execution_count": 18,
     "metadata": {},
     "output_type": "execute_result"
    },
    {
     "data": {
      "text/plain": [
       "True"
      ]
     },
     "execution_count": 18,
     "metadata": {},
     "output_type": "execute_result"
    },
    {
     "data": {
      "text/plain": [
       "False"
      ]
     },
     "execution_count": 18,
     "metadata": {},
     "output_type": "execute_result"
    }
   ],
   "source": [
    "from IPython.core.interactiveshell import InteractiveShell\n",
    "InteractiveShell.ast_node_interactivity = \"all\"\n",
    "\n",
    "###++++++++++\n",
    "# Numbers\n",
    "###++++++++++\n",
    "\n",
    "a = 123 # interger\n",
    "b = 2.2415965 # float\n",
    "c = 9 + 3j # complex\n",
    "c\n",
    "c.real\n",
    "c.imag\n",
    "c\n",
    "a.numerator\n",
    "\n",
    "### Operations of Numbers\n",
    "a = 3.1\n",
    "b = 8\n",
    "b / a\n",
    "b // a ## divide b with a and drop the fraction\n",
    "b % a ## return the reminder of a divide b\n",
    "b * a\n",
    "b ** a\n",
    "b + a\n",
    "b - a\n",
    "\n",
    "a == b ## comparing values\n",
    "a != b\n",
    "a is b ## check whether a and b refer to the same object\n",
    "a is not b\n",
    "b > a\n",
    "b <= a\n"
   ]
  },
  {
   "cell_type": "code",
   "execution_count": 36,
   "id": "db2aeed5-ca21-4400-a446-ccb93fe8121f",
   "metadata": {
    "scrolled": true
   },
   "outputs": [
    {
     "data": {
      "text/plain": [
       "True"
      ]
     },
     "execution_count": 36,
     "metadata": {},
     "output_type": "execute_result"
    },
    {
     "data": {
      "text/plain": [
       "False"
      ]
     },
     "execution_count": 36,
     "metadata": {},
     "output_type": "execute_result"
    },
    {
     "data": {
      "text/plain": [
       "False"
      ]
     },
     "execution_count": 36,
     "metadata": {},
     "output_type": "execute_result"
    },
    {
     "data": {
      "text/plain": [
       "True"
      ]
     },
     "execution_count": 36,
     "metadata": {},
     "output_type": "execute_result"
    },
    {
     "data": {
      "text/plain": [
       "False"
      ]
     },
     "execution_count": 36,
     "metadata": {},
     "output_type": "execute_result"
    },
    {
     "data": {
      "text/plain": [
       "False"
      ]
     },
     "execution_count": 36,
     "metadata": {},
     "output_type": "execute_result"
    },
    {
     "data": {
      "text/plain": [
       "True"
      ]
     },
     "execution_count": 36,
     "metadata": {},
     "output_type": "execute_result"
    },
    {
     "data": {
      "text/plain": [
       "False"
      ]
     },
     "execution_count": 36,
     "metadata": {},
     "output_type": "execute_result"
    },
    {
     "name": "stdout",
     "output_type": "stream",
     "text": [
      "False\n"
     ]
    },
    {
     "data": {
      "text/plain": [
       "False"
      ]
     },
     "execution_count": 36,
     "metadata": {},
     "output_type": "execute_result"
    },
    {
     "data": {
      "text/plain": [
       "True"
      ]
     },
     "execution_count": 36,
     "metadata": {},
     "output_type": "execute_result"
    },
    {
     "data": {
      "text/plain": [
       "True"
      ]
     },
     "execution_count": 36,
     "metadata": {},
     "output_type": "execute_result"
    },
    {
     "data": {
      "text/plain": [
       "False"
      ]
     },
     "execution_count": 36,
     "metadata": {},
     "output_type": "execute_result"
    },
    {
     "data": {
      "text/plain": [
       "False"
      ]
     },
     "execution_count": 36,
     "metadata": {},
     "output_type": "execute_result"
    },
    {
     "data": {
      "text/plain": [
       "True"
      ]
     },
     "execution_count": 36,
     "metadata": {},
     "output_type": "execute_result"
    },
    {
     "data": {
      "text/plain": [
       "False"
      ]
     },
     "execution_count": 36,
     "metadata": {},
     "output_type": "execute_result"
    },
    {
     "data": {
      "text/plain": [
       "True"
      ]
     },
     "execution_count": 36,
     "metadata": {},
     "output_type": "execute_result"
    }
   ],
   "source": [
    "###++++\n",
    "# Bool\n",
    "###++++\n",
    "\n",
    "True \n",
    "False\n",
    "\n",
    "True and False\n",
    "True or False\n",
    "not True\n",
    "\n",
    "True & False\n",
    "True | False\n",
    "!True\n",
    "!False\n",
    "\n",
    "a = 1; b = 2; a > b\n",
    "a_str = 'hello, python'\n",
    "c = 'z'\n",
    "print(c in a_str)\n",
    "\n",
    "a = 0\n",
    "b = 10\n",
    "c = -1\n",
    "d = ''\n",
    "d1 = {}\n",
    "e = 'hello'\n",
    "bool(a)\n",
    "bool(b)\n",
    "bool(c)\n",
    "bool(d)\n",
    "bool(d1)\n",
    "bool(e)\n",
    "bool(a and b)\n",
    "bool(c or d)\n",
    "\n",
    "# The `bool()` function will return 'False' if the object is Zero of any numerical type \n",
    "# or any empty sequence or collection"
   ]
  },
  {
   "cell_type": "code",
   "execution_count": 111,
   "id": "2ce2157e-9154-436d-b332-9930642bbd15",
   "metadata": {
    "scrolled": true
   },
   "outputs": [
    {
     "data": {
      "text/plain": [
       "'Hello'"
      ]
     },
     "execution_count": 111,
     "metadata": {},
     "output_type": "execute_result"
    },
    {
     "data": {
      "text/plain": [
       "'Python'"
      ]
     },
     "execution_count": 111,
     "metadata": {},
     "output_type": "execute_result"
    },
    {
     "data": {
      "text/plain": [
       "'Hello, World'"
      ]
     },
     "execution_count": 111,
     "metadata": {},
     "output_type": "execute_result"
    },
    {
     "data": {
      "text/plain": [
       "'Hello, pYTHON'"
      ]
     },
     "execution_count": 111,
     "metadata": {},
     "output_type": "execute_result"
    },
    {
     "data": {
      "text/plain": [
       "\"hello, i'm Alex, and I'm 30 years old\""
      ]
     },
     "execution_count": 111,
     "metadata": {},
     "output_type": "execute_result"
    },
    {
     "data": {
      "text/plain": [
       "\"hello, i'm Alex, and I'm 30 years old\""
      ]
     },
     "execution_count": 111,
     "metadata": {},
     "output_type": "execute_result"
    },
    {
     "data": {
      "text/plain": [
       "'hello, my name is ALEX'"
      ]
     },
     "execution_count": 111,
     "metadata": {},
     "output_type": "execute_result"
    },
    {
     "data": {
      "text/plain": [
       "'Name: Alex, Age: 34'"
      ]
     },
     "execution_count": 111,
     "metadata": {},
     "output_type": "execute_result"
    },
    {
     "data": {
      "text/plain": [
       "'The value of pi is 3.14'"
      ]
     },
     "execution_count": 111,
     "metadata": {},
     "output_type": "execute_result"
    },
    {
     "data": {
      "text/plain": [
       "2"
      ]
     },
     "execution_count": 111,
     "metadata": {},
     "output_type": "execute_result"
    },
    {
     "data": {
      "text/plain": [
       "1"
      ]
     },
     "execution_count": 111,
     "metadata": {},
     "output_type": "execute_result"
    },
    {
     "data": {
      "text/plain": [
       "2"
      ]
     },
     "execution_count": 111,
     "metadata": {},
     "output_type": "execute_result"
    },
    {
     "data": {
      "text/plain": [
       "2"
      ]
     },
     "execution_count": 111,
     "metadata": {},
     "output_type": "execute_result"
    },
    {
     "data": {
      "text/plain": [
       "16"
      ]
     },
     "execution_count": 111,
     "metadata": {},
     "output_type": "execute_result"
    },
    {
     "data": {
      "text/plain": [
       "1"
      ]
     },
     "execution_count": 111,
     "metadata": {},
     "output_type": "execute_result"
    },
    {
     "data": {
      "text/plain": [
       "-1"
      ]
     },
     "execution_count": 111,
     "metadata": {},
     "output_type": "execute_result"
    },
    {
     "data": {
      "text/plain": [
       "'Halle, world, halle, universe'"
      ]
     },
     "execution_count": 111,
     "metadata": {},
     "output_type": "execute_result"
    },
    {
     "data": {
      "text/plain": [
       "'Halle, world, hello, universe'"
      ]
     },
     "execution_count": 111,
     "metadata": {},
     "output_type": "execute_result"
    },
    {
     "data": {
      "text/plain": [
       "True"
      ]
     },
     "execution_count": 111,
     "metadata": {},
     "output_type": "execute_result"
    },
    {
     "data": {
      "text/plain": [
       "False"
      ]
     },
     "execution_count": 111,
     "metadata": {},
     "output_type": "execute_result"
    },
    {
     "data": {
      "text/plain": [
       "True"
      ]
     },
     "execution_count": 111,
     "metadata": {},
     "output_type": "execute_result"
    },
    {
     "data": {
      "text/plain": [
       "False"
      ]
     },
     "execution_count": 111,
     "metadata": {},
     "output_type": "execute_result"
    },
    {
     "data": {
      "text/plain": [
       "True"
      ]
     },
     "execution_count": 111,
     "metadata": {},
     "output_type": "execute_result"
    },
    {
     "data": {
      "text/plain": [
       "False"
      ]
     },
     "execution_count": 111,
     "metadata": {},
     "output_type": "execute_result"
    },
    {
     "data": {
      "text/plain": [
       "True"
      ]
     },
     "execution_count": 111,
     "metadata": {},
     "output_type": "execute_result"
    },
    {
     "data": {
      "text/plain": [
       "['Hello,', 'world']"
      ]
     },
     "execution_count": 111,
     "metadata": {},
     "output_type": "execute_result"
    },
    {
     "data": {
      "text/plain": [
       "['1', ' 2', ' 3', ' 4', ' 5']"
      ]
     },
     "execution_count": 111,
     "metadata": {},
     "output_type": "execute_result"
    },
    {
     "data": {
      "text/plain": [
       "['2024', '01', '01']"
      ]
     },
     "execution_count": 111,
     "metadata": {},
     "output_type": "execute_result"
    },
    {
     "data": {
      "text/plain": [
       "'hello, world'"
      ]
     },
     "execution_count": 111,
     "metadata": {},
     "output_type": "execute_result"
    },
    {
     "data": {
      "text/plain": [
       "'hello\\nworld'"
      ]
     },
     "execution_count": 111,
     "metadata": {},
     "output_type": "execute_result"
    },
    {
     "data": {
      "text/plain": [
       "'python is good'"
      ]
     },
     "execution_count": 111,
     "metadata": {},
     "output_type": "execute_result"
    },
    {
     "name": "stdout",
     "output_type": "stream",
     "text": [
      "Hello\n",
      "World\n",
      "Python\n",
      "Programming\n"
     ]
    },
    {
     "data": {
      "text/plain": [
       "'hello, world'"
      ]
     },
     "execution_count": 111,
     "metadata": {},
     "output_type": "execute_result"
    },
    {
     "data": {
      "text/plain": [
       "'hello, world    '"
      ]
     },
     "execution_count": 111,
     "metadata": {},
     "output_type": "execute_result"
    },
    {
     "data": {
      "text/plain": [
       "'    hello, world'"
      ]
     },
     "execution_count": 111,
     "metadata": {},
     "output_type": "execute_result"
    },
    {
     "data": {
      "text/plain": [
       "[' ', 'Hello,', 'world,', 'OK']"
      ]
     },
     "execution_count": 111,
     "metadata": {},
     "output_type": "execute_result"
    },
    {
     "data": {
      "text/plain": [
       "b'\\xff\\xfeh\\x00e\\x00l\\x00l\\x00o\\x00'"
      ]
     },
     "execution_count": 111,
     "metadata": {},
     "output_type": "execute_result"
    },
    {
     "data": {
      "text/plain": [
       "'hello'"
      ]
     },
     "execution_count": 111,
     "metadata": {},
     "output_type": "execute_result"
    },
    {
     "data": {
      "text/plain": [
       "False"
      ]
     },
     "execution_count": 111,
     "metadata": {},
     "output_type": "execute_result"
    },
    {
     "data": {
      "text/plain": [
       "False"
      ]
     },
     "execution_count": 111,
     "metadata": {},
     "output_type": "execute_result"
    },
    {
     "data": {
      "text/plain": [
       "False"
      ]
     },
     "execution_count": 111,
     "metadata": {},
     "output_type": "execute_result"
    },
    {
     "data": {
      "text/plain": [
       "True"
      ]
     },
     "execution_count": 111,
     "metadata": {},
     "output_type": "execute_result"
    },
    {
     "data": {
      "text/plain": [
       "False"
      ]
     },
     "execution_count": 111,
     "metadata": {},
     "output_type": "execute_result"
    },
    {
     "data": {
      "text/plain": [
       "False"
      ]
     },
     "execution_count": 111,
     "metadata": {},
     "output_type": "execute_result"
    },
    {
     "data": {
      "text/plain": [
       "True"
      ]
     },
     "execution_count": 111,
     "metadata": {},
     "output_type": "execute_result"
    },
    {
     "data": {
      "text/plain": [
       "True"
      ]
     },
     "execution_count": 111,
     "metadata": {},
     "output_type": "execute_result"
    },
    {
     "data": {
      "text/plain": [
       "'l'"
      ]
     },
     "execution_count": 111,
     "metadata": {},
     "output_type": "execute_result"
    }
   ],
   "source": [
    "###++++++++\n",
    "# String\n",
    "###++++++++\n",
    "\n",
    "### String is immutable, so most methdos return new strings rather then modifying \n",
    "\n",
    "##-----------\n",
    "# Methods\n",
    "##-----------\n",
    "\n",
    "## form of lowercase or upper case\n",
    "str1 = 'hello'\n",
    "str1.capitalize()\n",
    "str2 = 'python'\n",
    "str2.upper().lower().capitalize()\n",
    "str3 = 'hello, world'\n",
    "str3.title()\n",
    "str4 = 'hELLO, Python'\n",
    "str4.swapcase()\n",
    "\n",
    "## format\n",
    "name = 'Alex'\n",
    "age = 30\n",
    "greetings = 'hello, i\\'m {}, and I\\'m {} years old'.format(name, age)\n",
    "greetings2 = f'hello, i\\'m {name}, and I\\'m {age} years old'\n",
    "greetings3 = f'hello, my name is {name.upper()}'\n",
    "greetings\n",
    "greetings2\n",
    "greetings3\n",
    "\n",
    "data = {\"name\": 'Alex', \"age\": 34}\n",
    "\"Name: {data[name]}, Age: {data[age]}\".format(data=data)\n",
    "\n",
    "PI = 3.1415926\n",
    "formatPI = 'The value of pi is {:.2f}'.format(PI)\n",
    "formatPI\n",
    "\n",
    "## Search and replace, count, find, replace, all of them are case sensitive and no overlapping in the seraching\n",
    "# count\n",
    "str = 'Hello, ill, kill'\n",
    "str.count('ll', 3, 16) # str.count(substr, start, end)\n",
    "str = 'Hello, world, hello, universe'\n",
    "str.count('hello') # case sensitive\n",
    "text = 'aaaa'\n",
    "text.count('aa') # searching will be no overlaping\n",
    "# find\n",
    "str.find('ll') # return the lowest index of 'll'\n",
    "str.find('ll', 4, 18) # find the lowest index of 'll' in the given range\n",
    "index = str.find('ello')\n",
    "index\n",
    "str.find('alle') # if dont find the sub str will return -1\n",
    "# replace\n",
    "str.replace('ello', 'alle')\n",
    "str.replace('ello', 'alle', 1) # str.replace(old, new, numberOfreplace)\n",
    "\n",
    "## Testing and comparison\n",
    "str = 'Apple better than orange'\n",
    "# starts with, ends with \n",
    "str.startswith('App') # True\n",
    "str.startswith('App', 4, 9) # False not starts with 'App' in range 4, 9\n",
    "str.endswith('nge') # True\n",
    "str.endswith('e', 3, 7) # False\n",
    "# isalnum, isalpha, isdigit\n",
    "str = '89779907'\n",
    "str.isalnum() # True, check if all the character s are number\n",
    "str.isalpha() # False, check if all the elements are alphabetic\n",
    "str.isdigit() # check if all are digits, digits are [0, 1, .. 9]\n",
    "\n",
    "## Spliting and joining\n",
    "# split, return a list of elements, defalut sep based on the space, can be defined with certain values \n",
    "str = 'Hello, world'\n",
    "str.split()\n",
    "str = '1, 2, 3, 4, 5'\n",
    "str.split(sep=',')\n",
    "str = '2024-01-01'\n",
    "str.split(sep='-')\n",
    "# join, form a string from an iterable object such as list, tuple\n",
    "ls = ['hello', 'world']\n",
    "str = ', '.join(ls)\n",
    "str\n",
    "str = '\\n'.join(ls)\n",
    "str\n",
    "tuple = ('python', 'is', 'good')\n",
    "str = ' '.join(tuple)\n",
    "str\n",
    "lines = ['Hello', 'World', 'Python', 'Programming']\n",
    "multiline_text = '\\n'.join(lines)\n",
    "print(multiline_text)\n",
    "\n",
    "## Strip, remove whitespace in a string\n",
    "str = '    hello, world    '\n",
    "str.strip()\n",
    "str.lstrip()\n",
    "str.rstrip()\n",
    "\n",
    "## splitlines, split multiple line string into a list hold values of each line\n",
    "str = ''' \n",
    "Hello,\n",
    "world,\n",
    "OK\n",
    "'''\n",
    "str.splitlines()\n",
    "\n",
    "## encode and decode, encode string with given format like 'utf-8' 'utf-16'\n",
    "str = 'hello'\n",
    "str.encode('utf-16')\n",
    "str = str.encode('utf-16')\n",
    "str.decode('utf-16')\n",
    "\n",
    "###----\n",
    "# Normally used attributes, some are also methods applied to string\n",
    "###----\n",
    "str = 'hello, 123'\n",
    "str.isalnum() #Checks if all characters are alphanumeric.\n",
    "str.isalpha() #Checks if all characters are alphabetic.\n",
    "str.isdigit() #Checks if all characters are digits.\n",
    "str.islower() #Checks if all characters are lowercase.\n",
    "str.isupper() #Checks if all characters are uppercase.\n",
    "str.isspace() #Checks if all characters are whitespace.\n",
    "str.startswith('he') #Checks if the string starts with a specified prefix.\n",
    "str.endswith('3') #Checks if the string ends with a specified suffix.\n",
    "\n",
    "## indexing\n",
    "str[3]\n",
    "#str[3] = 4 # TypeError: 'str' object does not support item assignment\n"
   ]
  },
  {
   "cell_type": "code",
   "execution_count": 114,
   "id": "2ae927c6-1be4-47ac-8243-5009610f0e6c",
   "metadata": {
    "scrolled": true
   },
   "outputs": [
    {
     "data": {
      "text/plain": [
       "\"\\nTuple is an ordered sequence of values, which is immutable. \\nWe can't add, remove, or modify items once the tuple is created. \\nHowever, we can always create a new tuple with the desired modifications.\\n\""
      ]
     },
     "execution_count": 114,
     "metadata": {},
     "output_type": "execute_result"
    },
    {
     "data": {
      "text/plain": [
       "(1, 2, 3)"
      ]
     },
     "execution_count": 114,
     "metadata": {},
     "output_type": "execute_result"
    },
    {
     "data": {
      "text/plain": [
       "3"
      ]
     },
     "execution_count": 114,
     "metadata": {},
     "output_type": "execute_result"
    },
    {
     "data": {
      "text/plain": [
       "((1, 2, 3), ('a', 'b'))"
      ]
     },
     "execution_count": 114,
     "metadata": {},
     "output_type": "execute_result"
    },
    {
     "data": {
      "text/plain": [
       "2"
      ]
     },
     "execution_count": 114,
     "metadata": {},
     "output_type": "execute_result"
    },
    {
     "data": {
      "text/plain": [
       "2"
      ]
     },
     "execution_count": 114,
     "metadata": {},
     "output_type": "execute_result"
    },
    {
     "data": {
      "text/plain": [
       "4"
      ]
     },
     "execution_count": 114,
     "metadata": {},
     "output_type": "execute_result"
    },
    {
     "data": {
      "text/plain": [
       "2"
      ]
     },
     "execution_count": 114,
     "metadata": {},
     "output_type": "execute_result"
    },
    {
     "data": {
      "text/plain": [
       "(2, 3, 'apple')"
      ]
     },
     "execution_count": 114,
     "metadata": {},
     "output_type": "execute_result"
    },
    {
     "name": "stdout",
     "output_type": "stream",
     "text": [
      "2\n",
      "3\n",
      "apple\n",
      "number\n"
     ]
    }
   ],
   "source": [
    "###++++++++\n",
    "# Tuple\n",
    "###++++++++\n",
    "\n",
    "\"\"\"\n",
    "Tuple is an ordered sequence of values, which is immutable. \n",
    "We can't add, remove, or modify items once the tuple is created. \n",
    "However, we can always create a new tuple with the desired modifications.\n",
    "\"\"\"\n",
    "\n",
    "tuple = (1, 2, 3)\n",
    "tuple = 1, 2, 3\n",
    "tuple\n",
    "tuple[2]\n",
    "tuple = (1, 2, 3), ('a', 'b')\n",
    "tuple # nested tuple\n",
    "#tuple[2] = 'o' # TypeError: 'tuple' object does not support item assignment\n",
    "\n",
    "###---------\n",
    "# Methods/Attributes on tuple\n",
    "###---------\n",
    "tuple0 = (1, 2, 3, 2, 4, 5)\n",
    "tuple0.count(2) # count number of elements\n",
    "tuple1 = ('a', 'b', 'hello', 'python', 'apple')\n",
    "tuple1.index('hello') # return the index of 'hello'\n",
    "\n",
    "tuple = (2, 3, 'apple', 'number')\n",
    "len(tuple)\n",
    "\n",
    "tuple[0]\n",
    "tuple[0:3]\n",
    "\n",
    "for item in tuple:\n",
    "    print(item)\n"
   ]
  },
  {
   "cell_type": "code",
   "execution_count": 149,
   "id": "536df284-dd08-4600-b0a6-f193f8fe8e38",
   "metadata": {
    "scrolled": true
   },
   "outputs": [
    {
     "data": {
      "text/plain": [
       "'\\nList is one of the most popular object in python. It is mutable, meaning we can modify the contents of an existed list. \\nAny objects could be included in a list, even list of list is acceptable by python. \\nThere are pretty much methods/attributes attached to List, and there are many ways to build an list\\n'"
      ]
     },
     "execution_count": 149,
     "metadata": {},
     "output_type": "execute_result"
    },
    {
     "data": {
      "text/plain": [
       "[1, 2, 3, 4, 5]"
      ]
     },
     "execution_count": 149,
     "metadata": {},
     "output_type": "execute_result"
    },
    {
     "data": {
      "text/plain": [
       "[1, 2, 3, 4, 5, 'a', 'b', 'c']"
      ]
     },
     "execution_count": 149,
     "metadata": {},
     "output_type": "execute_result"
    },
    {
     "data": {
      "text/plain": [
       "[1, 2, 'hello, python', 3, 4, 5, 'a', 'b', 'c']"
      ]
     },
     "execution_count": 149,
     "metadata": {},
     "output_type": "execute_result"
    },
    {
     "data": {
      "text/plain": [
       "[1, 2, 'hello, python', 3, 4, 5, 'a', 'c']"
      ]
     },
     "execution_count": 149,
     "metadata": {},
     "output_type": "execute_result"
    },
    {
     "data": {
      "text/plain": [
       "[]"
      ]
     },
     "execution_count": 149,
     "metadata": {},
     "output_type": "execute_result"
    },
    {
     "data": {
      "text/plain": [
       "'c'"
      ]
     },
     "execution_count": 149,
     "metadata": {},
     "output_type": "execute_result"
    },
    {
     "data": {
      "text/plain": [
       "[1, 2, 'hello, python', 3, 4, 5, 'a']"
      ]
     },
     "execution_count": 149,
     "metadata": {},
     "output_type": "execute_result"
    },
    {
     "data": {
      "text/plain": [
       "1"
      ]
     },
     "execution_count": 149,
     "metadata": {},
     "output_type": "execute_result"
    },
    {
     "data": {
      "text/plain": [
       "[2, 'hello, python', 3, 4, 5, 'a']"
      ]
     },
     "execution_count": 149,
     "metadata": {},
     "output_type": "execute_result"
    },
    {
     "data": {
      "text/plain": [
       "3"
      ]
     },
     "execution_count": 149,
     "metadata": {},
     "output_type": "execute_result"
    },
    {
     "data": {
      "text/plain": [
       "1"
      ]
     },
     "execution_count": 149,
     "metadata": {},
     "output_type": "execute_result"
    },
    {
     "data": {
      "text/plain": [
       "['a', 5, 4, 3, 'hello, python', 2]"
      ]
     },
     "execution_count": 149,
     "metadata": {},
     "output_type": "execute_result"
    },
    {
     "data": {
      "text/plain": [
       "1"
      ]
     },
     "execution_count": 149,
     "metadata": {},
     "output_type": "execute_result"
    },
    {
     "data": {
      "text/plain": [
       "7"
      ]
     },
     "execution_count": 149,
     "metadata": {},
     "output_type": "execute_result"
    },
    {
     "data": {
      "text/plain": [
       "[1, 2, 2, 3, 4, 5, 6, 7]"
      ]
     },
     "execution_count": 149,
     "metadata": {},
     "output_type": "execute_result"
    },
    {
     "data": {
      "text/plain": [
       "[7, 6, 5, 4, 3, 2, 2, 1]"
      ]
     },
     "execution_count": 149,
     "metadata": {},
     "output_type": "execute_result"
    },
    {
     "data": {
      "text/plain": [
       "[7, 6, 5, 4, 3, 2, 2, 1]"
      ]
     },
     "execution_count": 149,
     "metadata": {},
     "output_type": "execute_result"
    },
    {
     "data": {
      "text/plain": [
       "['cherr', 'applkkke', 'bananannn']"
      ]
     },
     "execution_count": 149,
     "metadata": {},
     "output_type": "execute_result"
    },
    {
     "data": {
      "text/plain": [
       "('a', 5)"
      ]
     },
     "execution_count": 149,
     "metadata": {},
     "output_type": "execute_result"
    },
    {
     "name": "stdout",
     "output_type": "stream",
     "text": [
      "a\n",
      "5\n",
      "4\n",
      "3\n",
      "hello, python\n",
      "2\n",
      "0 a\n",
      "1 5\n",
      "2 4\n",
      "3 3\n",
      "4 hello, python\n",
      "5 2\n"
     ]
    },
    {
     "data": {
      "text/plain": [
       "6"
      ]
     },
     "execution_count": 149,
     "metadata": {},
     "output_type": "execute_result"
    },
    {
     "data": {
      "text/plain": [
       "'a-fg-pple'"
      ]
     },
     "execution_count": 149,
     "metadata": {},
     "output_type": "execute_result"
    },
    {
     "data": {
      "text/plain": [
       "['a', 'fg', 'pple', 1, 2, 5]"
      ]
     },
     "execution_count": 149,
     "metadata": {},
     "output_type": "execute_result"
    }
   ],
   "source": [
    "###+++++\n",
    "# List\n",
    "###+++++\n",
    "\n",
    "'''\n",
    "List is one of the most popular object in python. It is mutable, meaning we can modify the contents of an existed list. \n",
    "Any objects could be included in a list, even list of list is acceptable by python. \n",
    "There are pretty much methods/attributes attached to List, and there are many ways to build an list\n",
    "'''\n",
    "\n",
    "a_lst = [1, 2, 'str2', 'apple', ['hello', 'world']]\n",
    "b_lst = [(1, 2, 3), 'hello', 'world']\n",
    "c_lst = list((1, 2, 3)) # covert a tuple to list\n",
    "d_lst = list() # build a empty list\n",
    "e_lst = [] # empty list\n",
    "f_lst = list({1,2, 100, 99}) # conver a set to list\n",
    "\n",
    "## Methods/Attributes attached to List\n",
    "\n",
    "lst = [1, 2, 3, 4]\n",
    "lst.append(5) # add element at the end of a list\n",
    "lst\n",
    "\n",
    "lst1 = ['a', 'b', 'c']\n",
    "lst.extend(lst1) # add new list to the existed list\n",
    "lst\n",
    "\n",
    "lst.insert(2, 'hello, python') # insert element at given position\n",
    "lst\n",
    "\n",
    "lst.remove('b') # delete the element 'b'\n",
    "lst\n",
    "\n",
    "lst1 = lst.copy() # make a copy of existed list\n",
    "lst1.clear() # clear all the contents in list\n",
    "lst1\n",
    "\n",
    "del lst1 # delete the object lst1\n",
    "#lst1 # NameError: name 'lst1' is not defined\n",
    "\n",
    "lst.pop() # pop the last values by default, and return the poped value\n",
    "lst # 'c' is gone \n",
    "lst.pop(0) # pop the first element, and return it\n",
    "lst\n",
    "\n",
    "lst.index(4) # return the index of first occurence of specified values\n",
    "lst.count(3) # return the number of specified values\n",
    "\n",
    "lst.reverse() # reverse the list\n",
    "lst\n",
    "\n",
    "lst1 = [1, 3, 2, 5, 4, 2, 7, 6]\n",
    "min(lst1)\n",
    "max(lst1)\n",
    "lst1.sort() # sort a list\n",
    "lst1\n",
    "lst1.sort(reverse=True)\n",
    "lst1\n",
    "sorted(lst1, reverse=True)\n",
    "\n",
    "lst1 = ['bananannn', 'applkkke', 'cherr']\n",
    "lst1.sort(key=len, reverse=False) # sort according to the given key\n",
    "lst1\n",
    "\n",
    "a, b = lst[0:2] # indexing, take values from list according to index\n",
    "a, b\n",
    "\n",
    "for x in lst: # list is iterable\n",
    "    print(x)\n",
    "for i, x in enumerate(lst): # enumerate, build a paired iterater object of list, (index, value)\n",
    "    print(i, x)\n",
    "\n",
    "len(lst) # the length of lits\n",
    "\n",
    "lst1 = ['a', 'fg', 'pple']\n",
    "str = '-'.join(lst1) # Join all the elements to form a string\n",
    "str\n",
    "\n",
    "lst2 = [1, 2, 5]\n",
    "lst = lst1 + lst2\n",
    "lst\n"
   ]
  },
  {
   "cell_type": "code",
   "execution_count": 192,
   "id": "ed42f666-4f4b-42a3-87a5-54c980bc6a88",
   "metadata": {},
   "outputs": [
    {
     "data": {
      "text/plain": [
       "'\\nDictionary is a very useful object, which is mutable regarding the velues. also iterable\\nBasically, it has keys and corresponding values. by using the keys, we will get the values\\nDictionary also can be nested, and the values could be any type of value. \\nUsually, string were choosed as keys\\n'"
      ]
     },
     "execution_count": 192,
     "metadata": {},
     "output_type": "execute_result"
    },
    {
     "data": {
      "text/plain": [
       "{'age': 32, 'name': 'alex', 'grade': 'A', 'score': 85}"
      ]
     },
     "execution_count": 192,
     "metadata": {},
     "output_type": "execute_result"
    },
    {
     "data": {
      "text/plain": [
       "{}"
      ]
     },
     "execution_count": 192,
     "metadata": {},
     "output_type": "execute_result"
    },
    {
     "data": {
      "text/plain": [
       "{}"
      ]
     },
     "execution_count": 192,
     "metadata": {},
     "output_type": "execute_result"
    },
    {
     "data": {
      "text/plain": [
       "{'age': 32, 'name': 'alex', 'grade': 'A', 'score': 85}"
      ]
     },
     "execution_count": 192,
     "metadata": {},
     "output_type": "execute_result"
    },
    {
     "data": {
      "text/plain": [
       "{'age': 32, 'name': 'alex', 'grader': 'A', 'score': 85}"
      ]
     },
     "execution_count": 192,
     "metadata": {},
     "output_type": "execute_result"
    },
    {
     "data": {
      "text/plain": [
       "{'age': 32, 'name': 'alex'}"
      ]
     },
     "execution_count": 192,
     "metadata": {},
     "output_type": "execute_result"
    },
    {
     "data": {
      "text/plain": [
       "{'age': ['defaults'], 'name': ['defaults'], 'grade': ['defaults']}"
      ]
     },
     "execution_count": 192,
     "metadata": {},
     "output_type": "execute_result"
    },
    {
     "data": {
      "text/plain": [
       "{'age': 32, 'name': 'alex', 'grade': 'A', 'score': 85}"
      ]
     },
     "execution_count": 192,
     "metadata": {},
     "output_type": "execute_result"
    },
    {
     "data": {
      "text/plain": [
       "{}"
      ]
     },
     "execution_count": 192,
     "metadata": {},
     "output_type": "execute_result"
    },
    {
     "data": {
      "text/plain": [
       "'default_values'"
      ]
     },
     "execution_count": 192,
     "metadata": {},
     "output_type": "execute_result"
    },
    {
     "data": {
      "text/plain": [
       "dict_items([('age', 32), ('name', 'alex'), ('grade', 'A'), ('score', 85)])"
      ]
     },
     "execution_count": 192,
     "metadata": {},
     "output_type": "execute_result"
    },
    {
     "data": {
      "text/plain": [
       "dict_keys(['age', 'name', 'grade', 'score'])"
      ]
     },
     "execution_count": 192,
     "metadata": {},
     "output_type": "execute_result"
    },
    {
     "data": {
      "text/plain": [
       "dict_values([32, 'alex', 'A', 85])"
      ]
     },
     "execution_count": 192,
     "metadata": {},
     "output_type": "execute_result"
    },
    {
     "data": {
      "text/plain": [
       "{'name': 'alex', 'grade': 'A', 'age': 32, 'score': 85, 'Year': 2024}"
      ]
     },
     "execution_count": 192,
     "metadata": {},
     "output_type": "execute_result"
    },
    {
     "data": {
      "text/plain": [
       "5"
      ]
     },
     "execution_count": 192,
     "metadata": {},
     "output_type": "execute_result"
    },
    {
     "data": {
      "text/plain": [
       "\"dict() -> new empty dictionary\\ndict(mapping) -> new dictionary initialized from a mapping object's\\n    (key, value) pairs\\ndict(iterable) -> new dictionary initialized as if via:\\n    d = {}\\n    for k, v in iterable:\\n        d[k] = v\\ndict(**kwargs) -> new dictionary initialized with the name=value pairs\\n    in the keyword argument list.  For example:  dict(one=1, two=2)\""
      ]
     },
     "execution_count": 192,
     "metadata": {},
     "output_type": "execute_result"
    },
    {
     "data": {
      "text/plain": [
       "dict"
      ]
     },
     "execution_count": 192,
     "metadata": {},
     "output_type": "execute_result"
    },
    {
     "name": "stdout",
     "output_type": "stream",
     "text": [
      "name\n",
      "grade\n",
      "age\n",
      "score\n",
      "Year\n"
     ]
    },
    {
     "data": {
      "text/plain": [
       "False"
      ]
     },
     "execution_count": 192,
     "metadata": {},
     "output_type": "execute_result"
    },
    {
     "data": {
      "text/plain": [
       "\"{'name': 'alex', 'grade': 'A', 'age': 32, 'score': 85, 'Year': 2024}\""
      ]
     },
     "execution_count": 192,
     "metadata": {},
     "output_type": "execute_result"
    },
    {
     "data": {
      "text/plain": [
       "{'name': 'alex',\n",
       " 'age': 32,\n",
       " 'score': 85,\n",
       " 'Year': 2024,\n",
       " 'Python': 'level_B',\n",
       " 'Java': 'level_B'}"
      ]
     },
     "execution_count": 192,
     "metadata": {},
     "output_type": "execute_result"
    }
   ],
   "source": [
    "###+++++++\n",
    "# Dict\n",
    "###+++++++\n",
    "\n",
    "\"\"\"\n",
    "Dictionary is a very useful object, which is mutable regarding the velues. also iterable\n",
    "Basically, it has keys and corresponding values. by using the keys, we will get the values\n",
    "Dictionary also can be nested, and the values could be any type of value. \n",
    "Usually, string were choosed as keys\n",
    "\"\"\"\n",
    "# del dict # delete the variable that using default function name \n",
    "\n",
    "a_dict = {'age': 32, 'name': 'alex', 'grade': 'A', 'score': 85}\n",
    "a_dict\n",
    "b_dict = dict()\n",
    "b_dict\n",
    "c_dict = {} # empty dict, also could be empty set, but usually we use set() to build an empyt set\n",
    "c_dict\n",
    "lst1 = ['age', 'name', 'grade', 'score']\n",
    "lst2 = [32, 'alex', 'A', 85]\n",
    "d_dict = dict(zip(lst1, lst2)) # dict from zip two lists of same lengeth\n",
    "d_dict\n",
    "\n",
    "e_dict = dict(age=32, name='alex', grader='A', score=85) # dict give values to keys\n",
    "e_dict\n",
    "\n",
    "f_dict = dict([('age', 32), ('name', 'alex')]) # dict from a list of paired tuple\n",
    "f_dict\n",
    "\n",
    "keys = ['age', 'name', 'grade']\n",
    "values = ['defaults']\n",
    "g_dict = dict.fromkeys(keys, values) # build a dict with given keys, and the values\n",
    "g_dict\n",
    "\n",
    "lst1 = ['age', 'name', 'grade', 'score']\n",
    "lst2 = [32, 'alex', 'A', 85]\n",
    "h_dict = {key: value for key, value in zip(lst1, lst2)} # build a dict using comprehension\n",
    "h_dict\n",
    "\n",
    "\n",
    "###++++\n",
    "# Methods/attributes attached to \n",
    "###++++\n",
    "new_dict = h_dict.copy()\n",
    "new_dict.clear()\n",
    "new_dict\n",
    "del new_dict\n",
    "\n",
    "my_dict = a_dict.copy()\n",
    "# return the value of gven key, if the key did not existed, return given default value\n",
    "value = my_dict.get('Age', 'default_values') \n",
    "value\n",
    "\n",
    "items = my_dict.items() # return a turple of dict items, which holds all the paired keys and values\n",
    "items\n",
    "keys = my_dict.keys()\n",
    "keys\n",
    "values = my_dict.values()\n",
    "values\n",
    "\n",
    "# return the poped values of given key, if not existed return default-value\n",
    "value = my_dict.pop('age', 'default_value') \n",
    "\n",
    "key, value = my_dict.popitem() # pop the last item\n",
    "\n",
    "my_dict.update(h_dict) \n",
    "my_dict.update({'Year': 2024}) # update the dict with given dict or iterable object\n",
    "my_dict\n",
    "\n",
    "len(my_dict)\n",
    "my_dict.__doc__\n",
    "my_dict.__class__\n",
    "\n",
    "iterator = iter(my_dict)\n",
    "for item in iterator:\n",
    "    print(item) \n",
    "'key' in my_dict # whether the key is in the dict object\n",
    "\n",
    "# del str\n",
    "str_dict = str(my_dict) # represent the dict in a string\n",
    "str_dict\n",
    "\n",
    "my_dict['Python'] = 'level_A' # insert a new item at the end\n",
    "my_dict['Python'] = 'level_B' # will cover the existed item of same key\n",
    "my_dict['Java'] = 'level_B' # items of different keys can have same values\n",
    "del my_dict['grade'] # delete a item according to the key\n",
    "my_dict\n",
    "\n"
   ]
  },
  {
   "cell_type": "code",
   "execution_count": 216,
   "id": "7d2c0109-1d21-4cf9-95fc-d875c4b82c62",
   "metadata": {
    "scrolled": true
   },
   "outputs": [
    {
     "data": {
      "text/plain": [
       "'\\nSet in Python is similar to concept of set in Mathmatics. \\nIt is not ordered, just a collection of objects, and the objects in the set should be different\\nand we can not modify the values in a set\\n'"
      ]
     },
     "execution_count": 216,
     "metadata": {},
     "output_type": "execute_result"
    },
    {
     "data": {
      "text/plain": [
       "{1, 2, 3, 4, 89}"
      ]
     },
     "execution_count": 216,
     "metadata": {},
     "output_type": "execute_result"
    },
    {
     "data": {
      "text/plain": [
       "{1, 2, 56, 78, 89}"
      ]
     },
     "execution_count": 216,
     "metadata": {},
     "output_type": "execute_result"
    },
    {
     "data": {
      "text/plain": [
       "{0, 1, 2, 3, 4, 89}"
      ]
     },
     "execution_count": 216,
     "metadata": {},
     "output_type": "execute_result"
    },
    {
     "data": {
      "text/plain": [
       "{1, 2, 56, 78}"
      ]
     },
     "execution_count": 216,
     "metadata": {},
     "output_type": "execute_result"
    },
    {
     "data": {
      "text/plain": [
       "{1, 2, 3, 4, 89}"
      ]
     },
     "execution_count": 216,
     "metadata": {},
     "output_type": "execute_result"
    },
    {
     "data": {
      "text/plain": [
       "set()"
      ]
     },
     "execution_count": 216,
     "metadata": {},
     "output_type": "execute_result"
    },
    {
     "data": {
      "text/plain": [
       "{1, 2, 3, 4, 56, 78, 89}"
      ]
     },
     "execution_count": 216,
     "metadata": {},
     "output_type": "execute_result"
    },
    {
     "data": {
      "text/plain": [
       "{1, 2}"
      ]
     },
     "execution_count": 216,
     "metadata": {},
     "output_type": "execute_result"
    },
    {
     "data": {
      "text/plain": [
       "{3, 4, 89}"
      ]
     },
     "execution_count": 216,
     "metadata": {},
     "output_type": "execute_result"
    },
    {
     "data": {
      "text/plain": [
       "{56, 78}"
      ]
     },
     "execution_count": 216,
     "metadata": {},
     "output_type": "execute_result"
    },
    {
     "data": {
      "text/plain": [
       "{3, 4, 56, 78, 89}"
      ]
     },
     "execution_count": 216,
     "metadata": {},
     "output_type": "execute_result"
    },
    {
     "data": {
      "text/plain": [
       "False"
      ]
     },
     "execution_count": 216,
     "metadata": {},
     "output_type": "execute_result"
    },
    {
     "data": {
      "text/plain": [
       "False"
      ]
     },
     "execution_count": 216,
     "metadata": {},
     "output_type": "execute_result"
    },
    {
     "data": {
      "text/plain": [
       "5"
      ]
     },
     "execution_count": 216,
     "metadata": {},
     "output_type": "execute_result"
    },
    {
     "data": {
      "text/plain": [
       "False"
      ]
     },
     "execution_count": 216,
     "metadata": {},
     "output_type": "execute_result"
    },
    {
     "data": {
      "text/plain": [
       "2"
      ]
     },
     "execution_count": 216,
     "metadata": {},
     "output_type": "execute_result"
    },
    {
     "data": {
      "text/plain": [
       "{3}"
      ]
     },
     "execution_count": 216,
     "metadata": {},
     "output_type": "execute_result"
    },
    {
     "data": {
      "text/plain": [
       "{1, 2, 3, 4, 56, 78, 89}"
      ]
     },
     "execution_count": 216,
     "metadata": {},
     "output_type": "execute_result"
    },
    {
     "data": {
      "text/plain": [
       "set()"
      ]
     },
     "execution_count": 216,
     "metadata": {},
     "output_type": "execute_result"
    },
    {
     "data": {
      "text/plain": [
       "{1, 2, 56, 78, 'hello'}"
      ]
     },
     "execution_count": 216,
     "metadata": {},
     "output_type": "execute_result"
    }
   ],
   "source": [
    "###+++++++\n",
    "# Set\n",
    "###+++++++\n",
    "\n",
    "\"\"\"\n",
    "Set in Python is similar to concept of set in Mathmatics. \n",
    "It is not ordered, just a collection of objects, and the objects in the set should be different\n",
    "and we can not modify the values in a set\n",
    "\"\"\"\n",
    "\n",
    "set_1 = {1, 2, 3, 4, 89}\n",
    "set_1\n",
    "set_2 = set([1, 2, 2, 56, 78, 89])\n",
    "set_2\n",
    "\n",
    "##-------\n",
    "# Methods and attributes\n",
    "##---\n",
    "\n",
    "set_1.add(0) #  add a element\n",
    "set_1\n",
    "\n",
    "set_2.remove(89) # remove an element\n",
    "set_2\n",
    "\n",
    "set_1.discard(0) # remove a element, if not existed will raise error\n",
    "set_1\n",
    "\n",
    "new_set = set_1.copy()\n",
    "new_set.clear()\n",
    "new_set # empty set\n",
    "\n",
    "set_1.union(set_2) # union of two sets\n",
    "set_1.intersection(set_2) # intersection of two sets\n",
    "set_1.difference(set_2) # elements in set_1, not set_2\n",
    "set_2.difference(set_1) # elements in set_2, not set_1\n",
    "set_1.symmetric_difference(set_2) # elements in other set_1 or set_2, but not in both of them\n",
    "\n",
    "set_3 = {2, 3}\n",
    "set_3.issubset(set_2) # check if a set is a sunset of another set\n",
    "set_2.issuperset(set_3) # check if a set is including all the elements of another set\n",
    "\n",
    "len(set_1) # length of a set\n",
    "\n",
    "set_2.isdisjoint(set_1) # check whether two sets have common elements. if no joint elements, return True, \n",
    "\n",
    "set_3.pop() # pop an elements, arbitary\n",
    "set_3\n",
    "\n",
    "set_1.update(set_2)\n",
    "set_1\n",
    "set_2.add('hello')\n",
    "set_1.intersection_update(set_2) # use the intersection of two sets to update set\n",
    "set_1.difference_update(set_2) # use the difference to update\n",
    "set_1\n",
    "set_1.update(set_2) # use the union to update the set\n",
    "set_1\n",
    "\n"
   ]
  },
  {
   "cell_type": "code",
   "execution_count": null,
   "id": "3adb572a-cd0e-4dc5-a7ad-b8acf272a5bc",
   "metadata": {},
   "outputs": [],
   "source": [
    "###+++++++++\n",
    "# Files and directory\n",
    "###+++++++++\n",
    "\n",
    "\"\"\"\n",
    "Usually, we need to load data from outside for python to processing, interacting. \n",
    "Therefore, it is important to know the how to dealing with files and directory.\n",
    "Even there some other Python packages like pandas can simpley load files, \n",
    "but here we would like to handle the basic operations of files with python built-in modules\n",
    "\"\"\"\n",
    "\n"
   ]
  }
 ],
 "metadata": {
  "kernelspec": {
   "display_name": "Python 3 (ipykernel)",
   "language": "python",
   "name": "python3"
  },
  "language_info": {
   "codemirror_mode": {
    "name": "ipython",
    "version": 3
   },
   "file_extension": ".py",
   "mimetype": "text/x-python",
   "name": "python",
   "nbconvert_exporter": "python",
   "pygments_lexer": "ipython3",
   "version": "3.11.7"
  }
 },
 "nbformat": 4,
 "nbformat_minor": 5
}
