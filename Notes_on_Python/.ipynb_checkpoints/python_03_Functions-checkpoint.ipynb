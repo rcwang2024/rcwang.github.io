{
 "cells": [
  {
   "cell_type": "markdown",
   "id": "0b09efec-dd29-4acd-bb93-55188588833d",
   "metadata": {},
   "source": [
    "# Python: Functions"
   ]
  },
  {
   "cell_type": "markdown",
   "id": "1a43c8ac-d46e-41f6-9972-9879c8983106",
   "metadata": {},
   "source": [
    "## Function is a key topic for programming with any languages, including Python. \n",
    "\n",
    "Functions allow us to use a chunk of script repeatly and conventiently. Where there is possible, define a function for your job. Also, using function encourage people to criticlally think how to write the scripts. Also it makes the modification and debugging more simple when writing large scipts for complex task. \n",
    "\n",
    "Briefly, to write a function, we first need to know, what is the goal, what is the input and what should be the output. and organize the scripts to generate expected output with input.\n",
    "\n",
    "To handle the function in Pythion, we need to know:\n",
    "\n",
    "- **Basics of Syntax**: `def func(para1, para2, ...): ..., return ...`.\n",
    "\n",
    "- **Parameters and Arguments**. How to define parameters and pass arguments to them?\n",
    "\n",
    "- **Return values**. Not always given, but usually, we want return some values after execution.\n",
    "\n",
    "- **Scope**. Variable inside a function only valid in function, and the outside variable cannot directly used inside a function, if not specified with `global`.\n",
    "\n",
    "- **Lambda function**. The way for concisely define function without name\n",
    "\n",
    "- **Recursion**. Function that call itself inside.\n",
    "\n",
    "- **Decorator**. Decorate the function with more ability.\n",
    "\n",
    "- **Generator function**. A function that generate a Generator with `yield`. \n",
    "\n"
   ]
  },
  {
   "cell_type": "markdown",
   "id": "c37ffe31-ab52-4d3a-b3dd-82d4a44ecf7f",
   "metadata": {},
   "source": [
    "## Let's get start with the basic Syntax of functions\n",
    "\n",
    "- To define a function, starting with `def func(para1, para2, ..): ...`\n",
    "\n",
    "- To call a functio, we just need to run `func(arg1, arg2, ...)`\n",
    "\n",
    "- "
   ]
  },
  {
   "cell_type": "markdown",
   "id": "0ad5bc40-a1d9-4d22-a8d9-eb8b753ae478",
   "metadata": {},
   "source": [
    "### Example of basic syntax of functions"
   ]
  },
  {
   "cell_type": "code",
   "execution_count": 12,
   "id": "6a30f357-fa66-4abd-abec-653955d4e2d6",
   "metadata": {},
   "outputs": [
    {
     "name": "stdout",
     "output_type": "stream",
     "text": [
      "sum is 8, and product is 15\n",
      "The input should be two numbers\n"
     ]
    },
    {
     "ename": "UnboundLocalError",
     "evalue": "cannot access local variable 's' where it is not associated with a value",
     "output_type": "error",
     "traceback": [
      "\u001b[0;31m---------------------------------------------------------------------------\u001b[0m",
      "\u001b[0;31mUnboundLocalError\u001b[0m                         Traceback (most recent call last)",
      "Cell \u001b[0;32mIn[12], line 15\u001b[0m\n\u001b[1;32m     12\u001b[0m s, p \u001b[38;5;241m=\u001b[39m sum_product(\u001b[38;5;241m3\u001b[39m, \u001b[38;5;241m5\u001b[39m)\n\u001b[1;32m     13\u001b[0m \u001b[38;5;28mprint\u001b[39m(\u001b[38;5;124mf\u001b[39m\u001b[38;5;124m'\u001b[39m\u001b[38;5;124msum is \u001b[39m\u001b[38;5;132;01m{\u001b[39;00ms\u001b[38;5;132;01m}\u001b[39;00m\u001b[38;5;124m, and product is \u001b[39m\u001b[38;5;132;01m{\u001b[39;00mp\u001b[38;5;132;01m}\u001b[39;00m\u001b[38;5;124m'\u001b[39m)\n\u001b[0;32m---> 15\u001b[0m s, p \u001b[38;5;241m=\u001b[39m sum_product(\u001b[38;5;124m'\u001b[39m\u001b[38;5;124mhell0\u001b[39m\u001b[38;5;124m'\u001b[39m, \u001b[38;5;241m5\u001b[39m)\n",
      "Cell \u001b[0;32mIn[12], line 10\u001b[0m, in \u001b[0;36msum_product\u001b[0;34m(a, b)\u001b[0m\n\u001b[1;32m      7\u001b[0m \u001b[38;5;28;01mexcept\u001b[39;00m:\n\u001b[1;32m      8\u001b[0m     \u001b[38;5;28mprint\u001b[39m(\u001b[38;5;124m'\u001b[39m\u001b[38;5;124mThe input should be two numbers\u001b[39m\u001b[38;5;124m'\u001b[39m)\n\u001b[0;32m---> 10\u001b[0m \u001b[38;5;28;01mreturn\u001b[39;00m s, p\n",
      "\u001b[0;31mUnboundLocalError\u001b[0m: cannot access local variable 's' where it is not associated with a value"
     ]
    }
   ],
   "source": [
    "def sum_product(a, b): # define a function to calcualte the sum and product of two numbers\n",
    "    # the inpout should be two numbers\n",
    "    try:\n",
    "        s = a + b\n",
    "        p = a * b\n",
    "    \n",
    "    except:\n",
    "        print('The input should be two numbers')\n",
    "    \n",
    "    return s, p\n",
    "\n",
    "s, p = sum_product(3, 5)\n",
    "print(f'sum is {s}, and product is {p}')\n",
    "\n",
    "s, p = sum_product('hell0', 5) # Error occurs\n",
    "print(f'sum is {s}, and product is {p}') "
   ]
  },
  {
   "cell_type": "code",
   "execution_count": 10,
   "id": "61f969b2-adeb-4dad-8307-774425198d46",
   "metadata": {},
   "outputs": [
    {
     "name": "stdout",
     "output_type": "stream",
     "text": [
      "The values smaller then 3 in [1, 2, 8, 9, 5, 2, 3, 4] is here: [1, 2, 2]\n",
      "The values greater then 3 in [1, 2, 8, 9, 5, 2, 3, 4] is here: [8, 9, 5, 3, 4]\n"
     ]
    }
   ],
   "source": [
    "##+++\n",
    "# Example of basic function syntax\n",
    "##+++\n",
    "\n",
    "from IPython.core.interactiveshell import InteractiveShell\n",
    "InteractiveShell.ast_node_interactivity = 'all'\n",
    "\n",
    "def less_greater(array, pivot): ## define a function\n",
    "    \"\"\"\n",
    "    Aim: \n",
    "    To separete an array into two parts according to the given pivot. \n",
    "    The values of one parts all small then pivot, and the rest in the other part\n",
    "    \n",
    "    Paraters:\n",
    "    array, the array that going to be splie\n",
    "    pivot, used as point for spliting\n",
    "    \"\"\"\n",
    "    less = [] # initialize an empety list\n",
    "    greater = []\n",
    "\n",
    "    for x in array: # looping values in array\n",
    "        if x < pivot: # branching the pipeline with if .. else\n",
    "            less.append(x) # used 'append' method attached to list\n",
    "        else:\n",
    "            greater.append(x)\n",
    "    \n",
    "    return less, greater # return values for the function\n",
    "\n",
    "## build and assign values to objects\n",
    "a_array, a_pivot = [1, 2, 8, 9, 5, 2, 3, 4], 3 \n",
    "## call the function and accept the return values\n",
    "less, greater = less_greater(array=a_array, pivot=a_pivot) \n",
    "## print with format method\n",
    "print(f'The values smaller then {a_pivot} in {a_array} is here: {less}') \n",
    "print(f'The values greater then {a_pivot} in {a_array} is here: {greater}') \n"
   ]
  },
  {
   "cell_type": "code",
   "execution_count": 95,
   "id": "ec472329-a906-4c38-b370-3439a01f0df3",
   "metadata": {},
   "outputs": [
    {
     "data": {
      "text/plain": [
       "['This a test file with much bar, but I want to change it to bar\\n',\n",
       " 'here is a bar,\\n',\n",
       " 'here is another bar']"
      ]
     },
     "execution_count": 95,
     "metadata": {},
     "output_type": "execute_result"
    }
   ],
   "source": [
    "## Examples for read and modify files\n",
    "def line_replace(file_handle, old, new):\n",
    "    results = []\n",
    "    for line in file_handle:\n",
    "        # keep the empty lines\n",
    "        if len(line) == 0:\n",
    "            continue\n",
    "        results.append(line.replace(a, b))\n",
    "    return results\n",
    "\n",
    "a, b = 'foo', 'bar'\n",
    "with open('example_line_replace.txt', 'r') as file_handle:\n",
    "    replace_results = line_replace(file_handle, a, b)\n",
    "replace_results"
   ]
  },
  {
   "cell_type": "markdown",
   "id": "77725c00-c2a9-4231-a944-748a3683e3c0",
   "metadata": {},
   "source": [
    "## About Parameters and Arguments.\n",
    "\n",
    "- Difference between Parameters and Arguments.\n",
    "  > Parameters are placeholders when defining functions\n",
    "  > The types Parameters will be spcified during the definition of function,\n",
    "  \n",
    "  > Arguments are the actual values that passed to parameters when calling a function.\n",
    "  > The arguments are corresponding to the parameters defined in the function\n",
    "\n",
    "- Positional Arguments:\n",
    "  > Passing arguments by position.\n",
    "- Keyword Arguments:\n",
    "  > Passing arguments by keyword.\n",
    "- Default Parameters:\n",
    "  > Providing default values for parameters.\n",
    "\n",
    "- Arbitrary Number of Arguments:\n",
    "  > Using *args to accept a variable number of positional arguments. Allows a function to accept any number of positional arguments\n",
    "  \n",
    "  > The *args parameter collects all the positional arguments passed to the function into a tuple. We can then iterate over this tuple or access its elements using indexing.\n",
    "  \n",
    "- Arbitrary Number of Keyword Arguments:\n",
    "  > Using **kwargs to accept a variable number of keyword arguments. Allows a function to accept any number of keyword arguments.\n",
    "  \n",
    "  > The **kwargs parameter collect all the keyword arguments passed to the function into a dictionary. Then we can use the values according to the keys\n",
    "  \n",
    "  > Arbitrary keyword parameters provide flexibility when defining functions that need to accept various additional arguments that may not be known beforehand.\n",
    "  \n",
    "- Ordering of Parameters:\n",
    "\n",
    "  > Understanding the order of parameters when using different types of arguments.\n",
    "  \n",
    "  > The order of different types of Parameters:\n",
    "      - `Positional Parameters`\n",
    "      - `Default Parameters`\n",
    "      - `Arbitrary Positional Parameters`\n",
    "      - `Keyword Parameters`\n",
    "      - `Arbitrary keyword Parameters`\n",
    "  \n",
    "- Mixing Parameter Types:\n",
    "  > Mixing positional, keyword, default, and arbitrary arguments."
   ]
  },
  {
   "cell_type": "markdown",
   "id": "d0c93a86-41c8-4237-b18b-4d764441f6d1",
   "metadata": {},
   "source": [
    "### Example of Parameters and Arguments"
   ]
  },
  {
   "cell_type": "code",
   "execution_count": 14,
   "id": "5c88c5bf-2b30-4782-bda3-0553b1e6be10",
   "metadata": {},
   "outputs": [
    {
     "data": {
      "text/plain": [
       "1718"
      ]
     },
     "execution_count": 14,
     "metadata": {},
     "output_type": "execute_result"
    }
   ],
   "source": [
    "### Positional parameters\n",
    "\n",
    "def sum_up(num1, num2): # num1 and num2 are two positional parameters\n",
    "    sum_up = num1 + num2\n",
    "    return sum_up\n",
    "a = 809\n",
    "b = 909\n",
    "\n",
    "s = sum_up(a, b) # a and b are two arguments that correspoding to the positional parameters \n",
    "s"
   ]
  },
  {
   "cell_type": "code",
   "execution_count": 17,
   "id": "e8f474e7-40f8-4e4c-b525-a007191d67b7",
   "metadata": {},
   "outputs": [
    {
     "data": {
      "text/plain": [
       "25"
      ]
     },
     "execution_count": 17,
     "metadata": {},
     "output_type": "execute_result"
    },
    {
     "data": {
      "text/plain": [
       "1679616"
      ]
     },
     "execution_count": 17,
     "metadata": {},
     "output_type": "execute_result"
    }
   ],
   "source": [
    "### Default parameters, used to provide a default value in the definition of function, can treated as a positional parameters. \n",
    "### If default parameter dont specified in calling a function, default value will be used\n",
    "def squared(num, index=2):\n",
    "    return num**index\n",
    "s = squared(5)\n",
    "s\n",
    "\n",
    "s = squared(6, 8) # 8 will be used to replace the default value 2\n",
    "s"
   ]
  },
  {
   "cell_type": "code",
   "execution_count": 20,
   "id": "4964d0e5-beae-434d-a186-e07c0d70328d",
   "metadata": {},
   "outputs": [
    {
     "data": {
      "text/plain": [
       "6"
      ]
     },
     "execution_count": 20,
     "metadata": {},
     "output_type": "execute_result"
    },
    {
     "data": {
      "text/plain": [
       "6"
      ]
     },
     "execution_count": 20,
     "metadata": {},
     "output_type": "execute_result"
    }
   ],
   "source": [
    "### Keyword parameters applied druing calling a function, we assigned actual values to parameters directly, will ignore the position of parameters. \n",
    "### Since we directly pass values to parameter names, it's making the fucntion calling more flexible\n",
    "\n",
    "def product(a, b):\n",
    "    return a*b\n",
    "\n",
    "p = product(a=2, b=3)\n",
    "p\n",
    "p = product(b=3, a=2) # change the position, did not make the result different \n",
    "p\n",
    "\n"
   ]
  },
  {
   "cell_type": "code",
   "execution_count": 25,
   "id": "0423919c-2492-4f36-b3fe-09e809454342",
   "metadata": {},
   "outputs": [
    {
     "data": {
      "text/plain": [
       "'adam-adam-abra-alex'"
      ]
     },
     "execution_count": 25,
     "metadata": {},
     "output_type": "execute_result"
    },
    {
     "data": {
      "text/plain": [
       "'alice-alice-grace-hannan-luise-fiona'"
      ]
     },
     "execution_count": 25,
     "metadata": {},
     "output_type": "execute_result"
    }
   ],
   "source": [
    "### Arbitary positional parameters\n",
    "\n",
    "def join_str(*args): # nultiple can be passed into the function as a tuple, then we can iterate the tuple and do what we need\n",
    "    str = args[0]\n",
    "    for arg in args:\n",
    "        str = '-'.join([str, arg])\n",
    "    return str\n",
    "\n",
    "joined_str = join_str('adam', 'abra', 'alex')\n",
    "joined_str\n",
    "joined_str = join_str('alice', 'grace', 'hannan', 'luise', 'fiona')\n",
    "joined_str\n",
    "        "
   ]
  },
  {
   "cell_type": "code",
   "execution_count": 33,
   "id": "54b794b8-7e83-48d8-a8e7-462cf9ae4377",
   "metadata": {},
   "outputs": [
    {
     "data": {
      "text/plain": [
       "'alex..32..female..wired'"
      ]
     },
     "execution_count": 33,
     "metadata": {},
     "output_type": "execute_result"
    },
    {
     "data": {
      "text/plain": [
       "'alex..stefan..alven'"
      ]
     },
     "execution_count": 33,
     "metadata": {},
     "output_type": "execute_result"
    }
   ],
   "source": [
    "### Arbitary keyword parameters\n",
    "\n",
    "# define a function that will get all the values of a dict and put them into a list\n",
    "def value_to_list(**kwargs): \n",
    "    lst = []\n",
    "    for value in kwargs.values():\n",
    "        lst.append(value)\n",
    "    a_str = '..'.join(str(item) for item in lst)\n",
    "    return a_str\n",
    "\n",
    "a_dict = {\"name\": 'alex', \"age\": 32, \"gender\": 'female', \"info\": 'wired'}\n",
    "a_str = value_to_list(**a_dict)\n",
    "a_str\n",
    "\n",
    "b_str = value_to_list(p1=\"alex\", p2=\"stefan\", p3='alven')\n",
    "b_str"
   ]
  },
  {
   "cell_type": "code",
   "execution_count": 35,
   "id": "d1f0c960-7af1-4e23-8500-fa52a0b0a31e",
   "metadata": {},
   "outputs": [
    {
     "name": "stdout",
     "output_type": "stream",
     "text": [
      "Total cost: 58.8\n",
      "Total cost: 1164.9999999999998\n"
     ]
    }
   ],
   "source": [
    "### Ordering of Parameters\n",
    "\n",
    "def calculate_total_cost(*item_prices, tax_rate=0.1, discount=0): # arbitary positional parameters, keyword parameters with default values\n",
    "    subtotal = sum(item_prices) # sum up the arbitary positional parameters\n",
    "    total_tax = subtotal * tax_rate\n",
    "    total_discount = subtotal * discount\n",
    "    total_cost = subtotal + total_tax - total_discount\n",
    "    return total_cost\n",
    "\n",
    "# Example usage\n",
    "total = calculate_total_cost(10, 20, 30, tax_rate=0.08, discount=0.1)\n",
    "print(\"Total cost:\", total)\n",
    "\n",
    "total = calculate_total_cost(1000, 67, 98, tax_rate=0.98, discount=0.98)\n",
    "print(\"Total cost:\", total)\n"
   ]
  },
  {
   "cell_type": "code",
   "execution_count": 37,
   "id": "e3a29a35-b91c-4a75-a8eb-c0d943a92f58",
   "metadata": {},
   "outputs": [
    {
     "name": "stdout",
     "output_type": "stream",
     "text": [
      "{'username': 'john_doe', 'email': 'john@example.com', 'password': 'secretpass', 'age': 30, 'location': 'New York', 'bio': 'Python enthusiast'}\n",
      "{'username': 'jane_smith', 'email': 'jane@example.com', 'password': 'password123', 'age': None, 'location': 'California', 'role': 'Admin'}\n"
     ]
    }
   ],
   "source": [
    "### Ordering of Parameters\n",
    "\n",
    "def build_user_profile(username, email, password, age=None, **additional_info): # Positional, Default, Arbitary keyword  \n",
    "    profile = {\n",
    "        'username': username,\n",
    "        'email': email,\n",
    "        'password': password,\n",
    "        'age': age,\n",
    "    }\n",
    "    profile.update(additional_info)\n",
    "    return profile\n",
    "\n",
    "# Example usage\n",
    "user1 = build_user_profile('john_doe', 'john@example.com', 'secretpass', age=30, location='New York', bio='Python enthusiast')\n",
    "user2 = build_user_profile('jane_smith', 'jane@example.com', 'password123', location='California', role='Admin')\n",
    "\n",
    "print(user1)\n",
    "print(user2)\n"
   ]
  },
  {
   "cell_type": "code",
   "execution_count": 42,
   "id": "63e52abd-b711-46fa-9fcf-72ff3d7f064f",
   "metadata": {},
   "outputs": [
    {
     "name": "stdout",
     "output_type": "stream",
     "text": [
      "Hi, Alice!\n",
      "age: 30\n",
      "location: New York\n",
      "\n",
      "how are you, Sam!\n",
      "Whether: Raining\n",
      "Place: Germany\n"
     ]
    }
   ],
   "source": [
    "### Ordering of Parameters\n",
    "\n",
    "def greet(name, greeting=\"Hello\", **kwargs):\n",
    "    personalized_greeting = f\"{greeting}, {name}!\"\n",
    "\n",
    "    # Add additional information provided via keyword arguments\n",
    "    for key, value in kwargs.items():\n",
    "        personalized_greeting += f\"\\n{key}: {value}\"\n",
    "\n",
    "    return personalized_greeting\n",
    "\n",
    "# Usage\n",
    "name = \"Alice\"\n",
    "greeting = \"Hi\"\n",
    "additional_info = {\"age\": 30, \"location\": \"New York\"}\n",
    "\n",
    "message = greet(name, greeting=greeting, **additional_info)\n",
    "print(message)\n",
    "\n",
    "print()\n",
    "name = \"Sam\"\n",
    "greeting = \"how are you\"\n",
    "additional_info = {\"Whether\": 'Raining', \"Place\": \"Germany\"}\n",
    "\n",
    "message = greet(name, greeting=greeting, **additional_info)\n",
    "print(message)\n"
   ]
  },
  {
   "cell_type": "markdown",
   "id": "2c103b5c-178c-49d2-9fdc-94ff15647539",
   "metadata": {},
   "source": [
    "## About Return values\n",
    "\n",
    "- A return value is the value that a function sends back to the caller after execution of scripts\n",
    "\n",
    "- The statement of return values is `return ...`. there could be single varibale after `return`, or expression after `return`\n",
    "\n",
    "- can return multiple values or no return value\n",
    "\n",
    "- After calling a function with return, we can accept the returned values with a variable or use it directy in an expression\n",
    "\n",
    "- Function can return early before complete the function, when execution encounter a `return` statement\n",
    "\n",
    "- Also, function can return special values for exceptional situation, similar to `try: ... except: ...`\n"
   ]
  },
  {
   "cell_type": "markdown",
   "id": "4419274f-eac4-4395-a68a-300b97993ed4",
   "metadata": {},
   "source": [
    "### Example of return values\n"
   ]
  },
  {
   "cell_type": "code",
   "execution_count": 6,
   "id": "92bbea88-6cf4-4d25-8165-66c2a197389e",
   "metadata": {},
   "outputs": [
    {
     "data": {
      "text/plain": [
       "8"
      ]
     },
     "execution_count": 6,
     "metadata": {},
     "output_type": "execute_result"
    },
    {
     "data": {
      "text/plain": [
       "962359038001"
      ]
     },
     "execution_count": 6,
     "metadata": {},
     "output_type": "execute_result"
    },
    {
     "data": {
      "text/plain": [
       "944073253919942999"
      ]
     },
     "execution_count": 6,
     "metadata": {},
     "output_type": "execute_result"
    }
   ],
   "source": [
    "## We have used `return` to get execution results of functions previously, here are more examples\n",
    "from IPython.core.interactiveshell import InteractiveShell\n",
    "InteractiveShell.ast_node_interactivity = 'all'\n",
    "\n",
    "## return single value\n",
    "def add(a, b):\n",
    "    return a + b\n",
    "sum_up = add(3, 5)\n",
    "sum_up\n",
    "\n",
    "## return multiple value\n",
    "def squared_cube(x):\n",
    "    return x**2, x**3\n",
    "square, cube = squared_cube(980999)\n",
    "square\n",
    "cube"
   ]
  },
  {
   "cell_type": "code",
   "execution_count": 9,
   "id": "f0d60941-ea9a-4761-82fc-ba45132409d4",
   "metadata": {
    "scrolled": true
   },
   "outputs": [
    {
     "data": {
      "text/plain": [
       "[0,\n",
       " 2,\n",
       " 4,\n",
       " 6,\n",
       " 8,\n",
       " 10,\n",
       " 12,\n",
       " 14,\n",
       " 16,\n",
       " 18,\n",
       " 20,\n",
       " 22,\n",
       " 24,\n",
       " 26,\n",
       " 28,\n",
       " 30,\n",
       " 32,\n",
       " 34,\n",
       " 36,\n",
       " 38,\n",
       " 40,\n",
       " 42,\n",
       " 44,\n",
       " 46,\n",
       " 48,\n",
       " 50,\n",
       " 52,\n",
       " 54,\n",
       " 56,\n",
       " 58,\n",
       " 60,\n",
       " 62,\n",
       " 64,\n",
       " 66,\n",
       " 68,\n",
       " 70,\n",
       " 72,\n",
       " 74,\n",
       " 76,\n",
       " 78,\n",
       " 80,\n",
       " 82,\n",
       " 84,\n",
       " 86,\n",
       " 88,\n",
       " 90,\n",
       " 92,\n",
       " 94,\n",
       " 96]"
      ]
     },
     "execution_count": 9,
     "metadata": {},
     "output_type": "execute_result"
    },
    {
     "data": {
      "text/plain": [
       "{'name': 'alex', 'age': 32}"
      ]
     },
     "execution_count": 9,
     "metadata": {},
     "output_type": "execute_result"
    }
   ],
   "source": [
    "## return a list\n",
    "def even_number(n):\n",
    "    return [x for x in range(n) if x%2 == 0]\n",
    "even_numbers = even_number(98)\n",
    "even_numbers\n",
    "\n",
    "def person_profile(name, age):\n",
    "    return {'name': name, 'age': age}\n",
    "person = person_profile('alex', 32)\n",
    "person"
   ]
  },
  {
   "cell_type": "code",
   "execution_count": 10,
   "id": "922f0cb3-dca7-4663-8904-afbe7f0deb14",
   "metadata": {},
   "outputs": [
    {
     "name": "stdout",
     "output_type": "stream",
     "text": [
      "There is no return of this func\n"
     ]
    }
   ],
   "source": [
    "## return none\n",
    "def empty_func():\n",
    "    print('There is no return of this func')\n",
    "    pass\n",
    "x = empty_func()\n",
    "x # Nothing print out\n"
   ]
  },
  {
   "cell_type": "code",
   "execution_count": 17,
   "id": "b767db16-c1a5-43a4-a5da-9545d496e1e8",
   "metadata": {},
   "outputs": [
    {
     "data": {
      "text/plain": [
       "True"
      ]
     },
     "execution_count": 17,
     "metadata": {},
     "output_type": "execute_result"
    },
    {
     "name": "stdout",
     "output_type": "stream",
     "text": [
      "Error, cannot divide by zero\n"
     ]
    },
    {
     "data": {
      "text/plain": [
       "0.494949494949495"
      ]
     },
     "execution_count": 17,
     "metadata": {},
     "output_type": "execute_result"
    },
    {
     "name": "stdout",
     "output_type": "stream",
     "text": [
      "Error: Index out of range\n"
     ]
    }
   ],
   "source": [
    "## return early\n",
    "\n",
    "# return of each branch\n",
    "def is_odd(num):\n",
    "    if num%2 != 0:\n",
    "        return True\n",
    "    if num%2 ==0:\n",
    "        return False\n",
    "is_odd(97)\n",
    "\n",
    "# return for branch\n",
    "def divide(a, b):\n",
    "    if b==0:\n",
    "        print('Error, cannot divide by zero')\n",
    "        return None # same as No return\n",
    "    return a/b\n",
    "d = divide(5, 0)\n",
    "d\n",
    "d = divide(98, 198)\n",
    "d\n",
    "\n",
    "# return with error message\n",
    "def get_element(lst, index):\n",
    "    if index < 0 or index >= len(lst):\n",
    "        return \"Error: Index out of range\"\n",
    "    return lst[index]\n",
    "\n",
    "numbers = [1, 2, 3]\n",
    "result = get_element(numbers, 5)\n",
    "print(result)  # Output: Error: Index out of range\n"
   ]
  },
  {
   "cell_type": "markdown",
   "id": "9052e026-4f66-471b-bd3e-19414c09ca41",
   "metadata": {},
   "source": [
    "## About Variable scope. \n",
    "`Usually, the variable used in functions can not directly assessed outside of a function`. there are different types of scope in python\n",
    "\n",
    "- `Global scope`. Variables that defined outside of functions are considered as global variable, which can be accessed from anywhere from a code\n",
    "\n",
    "- `Local scope`. Variables that defined within a function, which can only be accessed in functions where they defined\n",
    "\n",
    "- `Enclosing scope`. If a function is defined inside another function, the inner function has access of the variable of the outer function.\n",
    "\n",
    "- `Scope resolution`. Python follows the LEGB (Local, Enclosing, Global, Built-in) rule to resolve variable names. It search variable starts from Local, then move to enclosing socpe, then to global and lastly to built-in\n",
    "\n",
    "- `global` and `nonglobal`. Inside a function, we can use the `global` keyword to declare that a variable refers to the global scope rather than creating a new local variable. The `nonlocal` keyword allows you to assign values to variables in an enclosing scope from within a nested function.\n",
    "\n",
    "- `Shadowing`. If a local variable has the same name as a variable in an enclosing scope, the local variable shadows the enclosing variable within the local scope, which makes the value of variables confused possibly.\n",
    "\n",
    "- `Built-in scope`. The variable that can be used in any python code, such as `print`, `sum`, these names are globally available over all python code. To make using them properly, do not define your variable with such names\n",
    "- "
   ]
  },
  {
   "cell_type": "markdown",
   "id": "2d43ddff-2777-4852-9b16-0e45cffe1f57",
   "metadata": {},
   "source": [
    "### Exampls about scope"
   ]
  },
  {
   "cell_type": "code",
   "execution_count": 19,
   "id": "00382411-5772-4d8b-853b-5c2a9f2f873e",
   "metadata": {},
   "outputs": [
    {
     "name": "stdout",
     "output_type": "stream",
     "text": [
      "Inside my_function, x is: 10\n",
      "Outside my_function, x is : 10\n"
     ]
    }
   ],
   "source": [
    "## Global variable\n",
    "\n",
    "x = 10  # define a global variable\n",
    "\n",
    "def my_fun():\n",
    "    print(\"Inside my_function, x is:\", x)  # Accessing global variable inside a function\n",
    "\n",
    "my_func()\n",
    "print(\"Outside my_function, x is :\", x)  # Accessing global variable outside a function\n"
   ]
  },
  {
   "cell_type": "code",
   "execution_count": 21,
   "id": "ff3f32ad-d0d9-4fd4-8092-9a120cd5c212",
   "metadata": {},
   "outputs": [
    {
     "name": "stdout",
     "output_type": "stream",
     "text": [
      "Inside my_function, x is: 10\n"
     ]
    },
    {
     "ename": "NameError",
     "evalue": "name 'y' is not defined",
     "output_type": "error",
     "traceback": [
      "\u001b[0;31m---------------------------------------------------------------------------\u001b[0m",
      "\u001b[0;31mNameError\u001b[0m                                 Traceback (most recent call last)",
      "Cell \u001b[0;32mIn[21], line 8\u001b[0m\n\u001b[1;32m      5\u001b[0m     \u001b[38;5;28mprint\u001b[39m(\u001b[38;5;124m\"\u001b[39m\u001b[38;5;124mInside my_function, y is:\u001b[39m\u001b[38;5;124m\"\u001b[39m, y)  \u001b[38;5;66;03m# Accessing local variable inside a function\u001b[39;00m\n\u001b[1;32m      7\u001b[0m my_function()\n\u001b[0;32m----> 8\u001b[0m \u001b[38;5;28mprint\u001b[39m(\u001b[38;5;124m\"\u001b[39m\u001b[38;5;124mOutside my_function, y is:\u001b[39m\u001b[38;5;124m\"\u001b[39m, y)\n",
      "\u001b[0;31mNameError\u001b[0m: name 'y' is not defined"
     ]
    }
   ],
   "source": [
    "## Local variable\n",
    "\n",
    "def my_func():\n",
    "    y = 20  # Local variable\n",
    "    print(\"Inside my_function, y is:\", y)  # Accessing local variable inside a function\n",
    "\n",
    "my_function()\n",
    "print(\"Outside my_function, y is:\", y)  # Error: y is not defined\n"
   ]
  },
  {
   "cell_type": "code",
   "execution_count": 22,
   "id": "d5f66c22-73a2-4efe-93ef-cc0726780aae",
   "metadata": {},
   "outputs": [
    {
     "name": "stdout",
     "output_type": "stream",
     "text": [
      "Inside my_function, x is: 20\n",
      "Outside my_function x is: 20\n"
     ]
    }
   ],
   "source": [
    "## Global keyword\n",
    "\n",
    "x = 10  # define a global variable\n",
    "\n",
    "def my_function():\n",
    "    global x  # Accessing and modifying global variable\n",
    "    x = 20\n",
    "    print(\"Inside my_function, x is:\", x)\n",
    "\n",
    "my_function()\n",
    "print(\"Outside my_function x is:\", x)  # The value of x has been modified globally\n"
   ]
  },
  {
   "cell_type": "code",
   "execution_count": 23,
   "id": "8dbe9e0e-94df-4501-aabd-2cdcdde4575c",
   "metadata": {},
   "outputs": [
    {
     "name": "stdout",
     "output_type": "stream",
     "text": [
      "Inside inner_function, x is: 20\n",
      "Outside inner_function, x is: 20\n"
     ]
    }
   ],
   "source": [
    "## nonlocal keyword\n",
    "\n",
    "def outer_function():\n",
    "    x = 10  # outer function's variable\n",
    "\n",
    "    def inner_function():\n",
    "        nonlocal x  # accessing and modifying variable from outer function's scope\n",
    "        x = 20\n",
    "        print(\"Inside inner_function, x is:\", x)\n",
    "\n",
    "    inner_function()\n",
    "    print(\"Outside inner_function, x is:\", x)  # the value of x has been modified in outer function's scope\n",
    "\n",
    "outer_function() # call the outer function, which will call the inner function inside\n"
   ]
  },
  {
   "cell_type": "code",
   "execution_count": 24,
   "id": "a8021d9c-3a3b-4178-b44b-0cd995ee8f74",
   "metadata": {},
   "outputs": [
    {
     "name": "stdout",
     "output_type": "stream",
     "text": [
      "Inside my_function, x is: 20\n",
      "Outside my_function x is: 10\n"
     ]
    }
   ],
   "source": [
    "## Shading of variable\n",
    "\n",
    "x = 10 # global variable\n",
    "\n",
    "def my_function():\n",
    "    x = 20  # this variable x shadows the outer variable x\n",
    "    print(\"Inside my_function, x is:\", x)\n",
    "\n",
    "my_function()\n",
    "print(\"Outside my_function x is:\", x) # the two x have different values, may cause confusion\n"
   ]
  },
  {
   "cell_type": "markdown",
   "id": "e5074bf1-d1a7-41fb-b815-5db8527bad0e",
   "metadata": {},
   "source": [
    "## About Lambda function\n",
    "Lambda functions, also known as anonymous functions, are small, inline functions that can have any number of parameters but can only have one expression. They are defined using the `lambda` keyword. \n",
    "Lambda functions are commonly used in Python for short, simple operations where writing a full function is unnecessary\n",
    "\n",
    "- Syntax: `func = lambda: expression`\n",
    "\n",
    "- Lambda functions are particularly useful for the situation that pass simple function as argument to the functions such as `map()`, `filter()`, `sorted()`\n",
    "\n",
    "- Lambda functions can only contain a single expression, not multiple statements, means you can't use assignments or loops inside a lambda function.\n",
    "\n",
    "- No default arguments, Lambda functions do not support default argument values. we can only specify the parameter list and the expression\n",
    "\n",
    "- Use them for simple, self-explanatory operations, since it can easily become difficult for understanding\n"
   ]
  },
  {
   "cell_type": "markdown",
   "id": "e184bb4a-86f3-40d9-ba7b-f3b374b20881",
   "metadata": {},
   "source": [
    "### Example of lambda function"
   ]
  },
  {
   "cell_type": "code",
   "execution_count": 25,
   "id": "9d60e21e-82b2-4748-8675-4e60d36c7805",
   "metadata": {},
   "outputs": [
    {
     "name": "stdout",
     "output_type": "stream",
     "text": [
      "8\n",
      "15\n"
     ]
    }
   ],
   "source": [
    "### simple lambda\n",
    "\n",
    "add = lambda x, y: x + y\n",
    "print(add(3, 5))  # Output: 8\n",
    "\n",
    "time = lambda x, y: x *y\n",
    "print(time(3, 5))\n"
   ]
  },
  {
   "cell_type": "code",
   "execution_count": 27,
   "id": "241cfdf5-44a1-48bd-b01b-15cdafdba4a6",
   "metadata": {},
   "outputs": [
    {
     "name": "stdout",
     "output_type": "stream",
     "text": [
      "[1, 4, 9, 16, 25]\n",
      "['Alex', 'Adam', 'Alven', 'Abra']\n"
     ]
    }
   ],
   "source": [
    "### lambda with map()\n",
    "\n",
    "numbers = [1, 2, 3, 4, 5]\n",
    "squared = list(map(lambda x: x**2, numbers)) # map the lambda function (lambda x: x**2) to each element in the list, and return the results to a list fucntion\n",
    "print(squared)  # Output: [1, 4, 9, 16, 25]\n",
    "\n",
    "names = ['alex', 'adam', 'alven', 'abra']\n",
    "capitalize_names = list(map(lambda x: x.capitalize(), names))\n",
    "print(capitalize_names)\n"
   ]
  },
  {
   "cell_type": "code",
   "execution_count": 29,
   "id": "74987a66-faf6-429a-b0f4-c21f635e3063",
   "metadata": {},
   "outputs": [
    {
     "name": "stdout",
     "output_type": "stream",
     "text": [
      "[2, 4]\n",
      "['alex', 'adam']\n"
     ]
    }
   ],
   "source": [
    "### lambda with filter()\n",
    "\n",
    "numbers = [1, 2, 3, 4, 5]\n",
    "# filter the numbers based on the returned value of lambda function for each element in the list. If return true number will be keeped\n",
    "even_numbers = list(filter(lambda x: x % 2 == 0, numbers)) \n",
    "print(even_numbers)  # Output: [2, 4]\n",
    "\n",
    "names = ['alex', 'adam', 'ben', 'eric']\n",
    "# filter the names, if name starts with 'a', keep it\n",
    "names_a = list(filter(lambda x: x.startswith('a'), names))\n",
    "print(names_a)\n"
   ]
  },
  {
   "cell_type": "code",
   "execution_count": 41,
   "id": "14d4d96a-039d-4f66-9d35-c4a76c453b90",
   "metadata": {},
   "outputs": [
    {
     "name": "stdout",
     "output_type": "stream",
     "text": [
      "['bob', 'eva', 'alice', 'david', 'charlie']\n",
      "['charlie', 'alice', 'david', 'bob', 'eva']\n"
     ]
    },
    {
     "data": {
      "text/plain": [
       "[2, 4, 1, 3, 5]"
      ]
     },
     "execution_count": 41,
     "metadata": {},
     "output_type": "execute_result"
    },
    {
     "data": {
      "text/plain": [
       "[1, 3, 5, 2, 4]"
      ]
     },
     "execution_count": 41,
     "metadata": {},
     "output_type": "execute_result"
    },
    {
     "name": "stdout",
     "output_type": "stream",
     "text": [
      "[(1, 'one'), (3, 'three'), (2, 'two')]\n",
      "[(1, 'one'), (2, 'two'), (3, 'three')]\n"
     ]
    }
   ],
   "source": [
    "### lambda with sorted()\n",
    "\n",
    "names = ['alice', 'bob', 'charlie', 'david', 'eva']\n",
    "# sorting the list of names according to the given key, which is a lambda function that return the length of each name\n",
    "sorted_names = sorted(names, key=lambda x: len(x)) \n",
    "print(sorted_names) \n",
    "sorted_names = sorted(names, key=lambda x: len(x), reverse=True) # reverse the sorted names\n",
    "print(sorted_names)\n",
    "\n",
    "numbers = [1, 2, 3, 4, 5]\n",
    "# sorting the list of numbers, according to the given key, which is a lambda function that judge whether a number is even. \n",
    "# If return True, then put the number front, since we also set reverse as True\n",
    "sorted_numbers = sorted(numbers, key=lambda x: x%2==0, reverse=True)\n",
    "sorted_numbers\n",
    "\n",
    "sorted_numbers = sorted(numbers, key=lambda x: x%2==0)\n",
    "sorted_numbers\n",
    "\n",
    "# sorting a list of tuples according to the second element in the tuple, will compare the strings, and small one come to front\n",
    "pairs = [(1, 'one'), (3, 'three'), (2, 'two')]\n",
    "sorted_pairs = sorted(pairs, key=lambda x: x[1])\n",
    "print(sorted_pairs)  \n",
    "# sorting according to the first element\n",
    "sorted_pairs = sorted(pairs, key=lambda x: x[0])\n",
    "print(sorted_pairs)  "
   ]
  },
  {
   "cell_type": "code",
   "execution_count": 42,
   "id": "6171d0f7-99d6-472e-9dbc-cd9700326f20",
   "metadata": {},
   "outputs": [
    {
     "name": "stdout",
     "output_type": "stream",
     "text": [
      "9\n",
      "['cat', 'dog', 'apple', 'banana', 'elephant']\n"
     ]
    }
   ],
   "source": [
    "## max() with key lambda\n",
    "numbers = [5, 8, 3, 2, 9]\n",
    "max_value = max(numbers, key=lambda x: x)\n",
    "print(max_value)\n",
    "\n",
    "# Sorting a list of strings by their length, and then alphabetical order\n",
    "words = ['banana', 'apple', 'cat', 'dog', 'elephant']\n",
    "sorted_words = sorted(words, key=lambda x: (len(x), x))\n",
    "print(sorted_words)  # Output: ['cat', 'dog', 'apple', 'banana', 'elephant']\n"
   ]
  },
  {
   "cell_type": "markdown",
   "id": "0e225914-9290-4f70-b981-a5cef7997424",
   "metadata": {},
   "source": [
    "## About Recursion\n",
    "\n",
    "Recursion is a technique where a function calls itself in order to solve a problem. It's often used when a problem can be broken down into smaller, similar sub-problems.\n",
    "\n",
    "- `Base case`. The simplest case that can be solved directly without further recursion. These base cases prevent the function from calling itself indefinitely, leading to an infinite loop. The base case(s) need to be properly defined to avoid infinite recursion.\n",
    "\n",
    "\n",
    "- `Recursive Case`. This is where the function calls itself with modified arguments to solve a smaller instance of the same problem. The recursive case typically moves towards the base case.\n",
    "\n",
    "- `Stack`. Recursion uses the call stack to keep track of function calls. Each time a function is called, its local variables and parameters are stored in a stack frame. When a function returns, its stack frame is removed from the stack.\n",
    "\n",
    "- `Tail Recursion`. In tail recursion, the recursive call is the last thing done by the function before it returns. Some programming languages optimize tail-recursive functions to avoid stack overflow.\n",
    "\n",
    "- `Memory efficient`. The recursion can cost huge memory efficient\n"
   ]
  },
  {
   "cell_type": "markdown",
   "id": "dabc9138-4c46-4535-91f9-0b9ee5a41d89",
   "metadata": {},
   "source": [
    "### Examples of recursion"
   ]
  },
  {
   "cell_type": "code",
   "execution_count": 43,
   "id": "c0a0a684-d9db-421d-b7db-f454202a5f97",
   "metadata": {},
   "outputs": [
    {
     "name": "stdout",
     "output_type": "stream",
     "text": [
      "120\n"
     ]
    }
   ],
   "source": [
    "## factorial \n",
    "\n",
    "def factorial(n):\n",
    "    if n == 0: # the base case: return 1 if n == 0\n",
    "        return 1\n",
    "    else:\n",
    "        return n * factorial(n - 1) # the recursive case, current n times the f(n-1)\n",
    "\n",
    "print(factorial(5))  # Output: 120 (5! = 5 * 4 * 3 * 2 * 1)\n"
   ]
  },
  {
   "cell_type": "code",
   "execution_count": 46,
   "id": "d2233607-6365-41fd-be5e-ff2fbe03f933",
   "metadata": {},
   "outputs": [
    {
     "data": {
      "text/plain": [
       "55"
      ]
     },
     "execution_count": 46,
     "metadata": {},
     "output_type": "execute_result"
    }
   ],
   "source": [
    "## fibonacci\n",
    "\n",
    "def fibonacci(n):\n",
    "    if n <= 1:\n",
    "        return n\n",
    "    else:\n",
    "        return fibonacci(n-1) + fibonacci(n-2)\n",
    "        \n",
    "fibo_10 = fibonacci(10) # return the 10th fibonacci number\n",
    "fibo_10"
   ]
  },
  {
   "cell_type": "code",
   "execution_count": 47,
   "id": "ab323d41-3430-40df-b1f0-589644349260",
   "metadata": {},
   "outputs": [
    {
     "name": "stdout",
     "output_type": "stream",
     "text": [
      "5\n"
     ]
    }
   ],
   "source": [
    "## binary search，search value in a sorted array. return the index of the target value\n",
    "\n",
    "def binary_search(arr, target, low, high): # low and high refer to the start point and end point of the range \n",
    "    if low > high:\n",
    "        return -1  # Target not found\n",
    "    else:\n",
    "        mid = (low + high) // 2\n",
    "        if arr[mid] == target:\n",
    "            return mid\n",
    "        elif arr[mid] < target:\n",
    "            return binary_search(arr, target, mid + 1, high)\n",
    "        else:\n",
    "            return binary_search(arr, target, low, mid - 1)\n",
    "\n",
    "# Example usage\n",
    "arr = [2, 4, 6, 8, 10, 12, 14, 16, 18, 20]\n",
    "target = 12\n",
    "print(binary_search(arr, target, 0, len(arr) - 1))  # Output: 5 (index of target in arr)\n"
   ]
  },
  {
   "cell_type": "code",
   "execution_count": 48,
   "id": "2f8988ba-6617-4c7c-b97a-9a8ad59df998",
   "metadata": {},
   "outputs": [
    {
     "name": "stdout",
     "output_type": "stream",
     "text": [
      "True\n",
      "False\n"
     ]
    }
   ],
   "source": [
    "## check if string is palindrome, like 'abcddcba'\n",
    "\n",
    "def is_palindrome(s):\n",
    "    if len(s) <= 1:\n",
    "        return True\n",
    "    else:\n",
    "        return s[0] == s[-1] and is_palindrome(s[1:-1])\n",
    "\n",
    "# Example usage\n",
    "print(is_palindrome(\"radar\"))  # True\n",
    "print(is_palindrome(\"hello\"))  # False\n"
   ]
  },
  {
   "cell_type": "code",
   "execution_count": 49,
   "id": "a0fe2f96-05e5-4b09-b16e-a702518112f1",
   "metadata": {},
   "outputs": [
    {
     "name": "stdout",
     "output_type": "stream",
     "text": [
      "Move disk 1 from A to C\n",
      "Move disk 2 from A to B\n",
      "Move disk 1 from C to B\n",
      "Move disk 3 from A to C\n",
      "Move disk 1 from B to A\n",
      "Move disk 2 from B to C\n",
      "Move disk 1 from A to C\n"
     ]
    }
   ],
   "source": [
    "## solve the problem of Tower of Hanoi\n",
    "\n",
    "def tower_of_hanoi(n, source, target, auxiliary):\n",
    "    if n == 1:\n",
    "        print(f\"Move disk 1 from {source} to {target}\")\n",
    "    else:\n",
    "        tower_of_hanoi(n-1, source, auxiliary, target)\n",
    "        print(f\"Move disk {n} from {source} to {target}\")\n",
    "        tower_of_hanoi(n-1, auxiliary, target, source)\n",
    "\n",
    "# Example usage\n",
    "tower_of_hanoi(3, 'A', 'C', 'B')  # Output: Moves required to solve Tower of Hanoi with 3 disks\n"
   ]
  },
  {
   "cell_type": "markdown",
   "id": "019c21d0-54a7-4846-aaef-a0f60617c81e",
   "metadata": {},
   "source": [
    "## About decorator of functions\n",
    "Decorators in Python are a powerful way to modify or extend the behavior of functions or methods without changing their code. They allow you to wrap another function and execute code before and after the wrapped function runs.\n",
    "\n",
    "- `Function decorator`, is simply wrapper around other functions, denoted by the `@decorator_name` syntax.\n",
    "\n",
    "- `Decorator function`, is a regular Python function that takes another function as an argument and returns a new function, the new function usually adds some functionality to the original function.\n",
    "\n",
    "- `Syntax`, to prefix the function definition with the @decorator_name line before the function definition.\n",
    "\n",
    "- `Puopose`, add new functionality to the original function, for example: adding logging, authentication, caching, and other cross-cutting concerns to functions without modifying their code directly\n",
    "\n",
    "- `Nested Decorators`, We can stack multiple decorators on top of each other by stacking their `@decorator_name` lines above the function definition."
   ]
  },
  {
   "cell_type": "markdown",
   "id": "5657efd6-6e96-41c5-80f9-0a4e56d8fc4d",
   "metadata": {},
   "source": [
    "### Example of decorator of functions"
   ]
  },
  {
   "cell_type": "code",
   "execution_count": 51,
   "id": "59734d27-02d2-43c0-97c1-f23e8d858d5a",
   "metadata": {},
   "outputs": [
    {
     "name": "stdout",
     "output_type": "stream",
     "text": [
      "Calling function: add\n",
      "Function add executed\n",
      "5\n"
     ]
    }
   ],
   "source": [
    "## a simple example\n",
    "\n",
    "# This decorator is used to add some information of function calling: which function is calling and send a message when the functionis executed \n",
    "\n",
    "# Define the log_function, which takes a func as argument, and return a wrapper,\n",
    "def log_function(func):  \n",
    "    # Define the wrapper function, which accept arbitary positional and keyword parameters, that also used for function being decorated\n",
    "    def wrapper(*args, **kwargs): \n",
    "        # from here, `func`used as an argument that from the outer function `log_function`\n",
    "        print(f\"Calling function: {func.__name__}\") \n",
    "        result = func(*args, **kwargs) # The arguments here are provided when calling it\n",
    "        print(f\"Function {func.__name__} executed\")\n",
    "        return result # return the 'results' calling `func`\n",
    "    return wrapper # return the function wrpper\n",
    "\n",
    "@log_function # Use 'log_function' to decorate the following function 'add'. \n",
    "# For the decoration, the following function `add` will be passed into `log_function` as argument, and used also in the function `wrapper`\n",
    "def add(a, b): # two parameters for `add` function\n",
    "    return a + b\n",
    "\n",
    "print(add(2, 3))\n"
   ]
  },
  {
   "cell_type": "code",
   "execution_count": 53,
   "id": "c4c6be8b-852f-4734-8ecf-a85ca603ae28",
   "metadata": {
    "scrolled": true
   },
   "outputs": [
    {
     "name": "stdout",
     "output_type": "stream",
     "text": [
      "Execution time of fibonacci: 0.0 seconds\n",
      "Execution time of fibonacci: 9.5367431640625e-07 seconds\n",
      "Execution time of fibonacci: 7.295608520507812e-05 seconds\n",
      "Execution time of fibonacci: 1.1920928955078125e-06 seconds\n",
      "Execution time of fibonacci: 8.225440979003906e-05 seconds\n",
      "Execution time of fibonacci: 0.0 seconds\n",
      "Execution time of fibonacci: 0.0 seconds\n",
      "Execution time of fibonacci: 5.245208740234375e-06 seconds\n",
      "Execution time of fibonacci: 9.512901306152344e-05 seconds\n",
      "Execution time of fibonacci: 0.0 seconds\n",
      "Execution time of fibonacci: 0.0 seconds\n",
      "Execution time of fibonacci: 5.245208740234375e-06 seconds\n",
      "Execution time of fibonacci: 0.0 seconds\n",
      "Execution time of fibonacci: 1.0251998901367188e-05 seconds\n",
      "Execution time of fibonacci: 0.00010991096496582031 seconds\n",
      "Execution time of fibonacci: 0.0 seconds\n",
      "Execution time of fibonacci: 0.0 seconds\n",
      "Execution time of fibonacci: 4.0531158447265625e-06 seconds\n",
      "Execution time of fibonacci: 0.0 seconds\n",
      "Execution time of fibonacci: 9.775161743164062e-06 seconds\n",
      "Execution time of fibonacci: 0.0 seconds\n",
      "Execution time of fibonacci: 0.0 seconds\n",
      "Execution time of fibonacci: 3.814697265625e-06 seconds\n",
      "Execution time of fibonacci: 1.9788742065429688e-05 seconds\n",
      "Execution time of fibonacci: 0.00013589859008789062 seconds\n",
      "Execution time of fibonacci: 0.0 seconds\n",
      "Execution time of fibonacci: 0.0 seconds\n",
      "Execution time of fibonacci: 3.814697265625e-06 seconds\n",
      "Execution time of fibonacci: 0.0 seconds\n",
      "Execution time of fibonacci: 9.059906005859375e-06 seconds\n",
      "Execution time of fibonacci: 0.0 seconds\n",
      "Execution time of fibonacci: 0.0 seconds\n",
      "Execution time of fibonacci: 4.0531158447265625e-06 seconds\n",
      "Execution time of fibonacci: 2.002716064453125e-05 seconds\n",
      "Execution time of fibonacci: 0.0 seconds\n",
      "Execution time of fibonacci: 9.5367431640625e-07 seconds\n",
      "Execution time of fibonacci: 5.0067901611328125e-06 seconds\n",
      "Execution time of fibonacci: 0.0 seconds\n",
      "Execution time of fibonacci: 1.0013580322265625e-05 seconds\n",
      "Execution time of fibonacci: 4.887580871582031e-05 seconds\n",
      "Execution time of fibonacci: 0.0001900196075439453 seconds\n",
      "Execution time of fibonacci: 0.0 seconds\n",
      "Execution time of fibonacci: 0.0 seconds\n",
      "Execution time of fibonacci: 4.76837158203125e-06 seconds\n",
      "Execution time of fibonacci: 9.5367431640625e-07 seconds\n",
      "Execution time of fibonacci: 1.0013580322265625e-05 seconds\n",
      "Execution time of fibonacci: 0.0 seconds\n",
      "Execution time of fibonacci: 9.5367431640625e-07 seconds\n",
      "Execution time of fibonacci: 5.245208740234375e-06 seconds\n",
      "Execution time of fibonacci: 2.09808349609375e-05 seconds\n",
      "Execution time of fibonacci: 1.1920928955078125e-06 seconds\n",
      "Execution time of fibonacci: 0.0 seconds\n",
      "Execution time of fibonacci: 5.245208740234375e-06 seconds\n",
      "Execution time of fibonacci: 0.0 seconds\n",
      "Execution time of fibonacci: 9.298324584960938e-06 seconds\n",
      "Execution time of fibonacci: 3.4809112548828125e-05 seconds\n",
      "Execution time of fibonacci: 0.0 seconds\n",
      "Execution time of fibonacci: 9.5367431640625e-07 seconds\n",
      "Execution time of fibonacci: 5.0067901611328125e-06 seconds\n",
      "Execution time of fibonacci: 0.0 seconds\n",
      "Execution time of fibonacci: 9.775161743164062e-06 seconds\n",
      "Execution time of fibonacci: 0.0 seconds\n",
      "Execution time of fibonacci: 0.0 seconds\n",
      "Execution time of fibonacci: 3.814697265625e-06 seconds\n",
      "Execution time of fibonacci: 1.8835067749023438e-05 seconds\n",
      "Execution time of fibonacci: 6.103515625e-05 seconds\n",
      "Execution time of fibonacci: 0.0002551078796386719 seconds\n",
      "Execution time of fibonacci: 1.1920928955078125e-06 seconds\n",
      "Execution time of fibonacci: 0.0 seconds\n",
      "Execution time of fibonacci: 5.245208740234375e-06 seconds\n",
      "Execution time of fibonacci: 0.0 seconds\n",
      "Execution time of fibonacci: 1.0013580322265625e-05 seconds\n",
      "Execution time of fibonacci: 0.0 seconds\n",
      "Execution time of fibonacci: 0.0 seconds\n",
      "Execution time of fibonacci: 4.0531158447265625e-06 seconds\n",
      "Execution time of fibonacci: 1.9311904907226562e-05 seconds\n",
      "Execution time of fibonacci: 0.0 seconds\n",
      "Execution time of fibonacci: 0.0 seconds\n",
      "Execution time of fibonacci: 5.245208740234375e-06 seconds\n",
      "Execution time of fibonacci: 0.0 seconds\n",
      "Execution time of fibonacci: 9.298324584960938e-06 seconds\n",
      "Execution time of fibonacci: 3.218650817871094e-05 seconds\n",
      "Execution time of fibonacci: 0.0 seconds\n",
      "Execution time of fibonacci: 0.0 seconds\n",
      "Execution time of fibonacci: 5.245208740234375e-06 seconds\n",
      "Execution time of fibonacci: 0.0 seconds\n",
      "Execution time of fibonacci: 9.059906005859375e-06 seconds\n",
      "Execution time of fibonacci: 0.0 seconds\n",
      "Execution time of fibonacci: 0.0 seconds\n",
      "Execution time of fibonacci: 4.0531158447265625e-06 seconds\n",
      "Execution time of fibonacci: 1.9073486328125e-05 seconds\n",
      "Execution time of fibonacci: 5.602836608886719e-05 seconds\n",
      "Execution time of fibonacci: 0.0 seconds\n",
      "Execution time of fibonacci: 9.5367431640625e-07 seconds\n",
      "Execution time of fibonacci: 5.0067901611328125e-06 seconds\n",
      "Execution time of fibonacci: 1.1920928955078125e-06 seconds\n",
      "Execution time of fibonacci: 1.0013580322265625e-05 seconds\n",
      "Execution time of fibonacci: 0.0 seconds\n",
      "Execution time of fibonacci: 0.0 seconds\n",
      "Execution time of fibonacci: 2.86102294921875e-06 seconds\n",
      "Execution time of fibonacci: 1.9073486328125e-05 seconds\n",
      "Execution time of fibonacci: 0.0 seconds\n",
      "Execution time of fibonacci: 0.0 seconds\n",
      "Execution time of fibonacci: 3.814697265625e-06 seconds\n",
      "Execution time of fibonacci: 0.0 seconds\n",
      "Execution time of fibonacci: 9.059906005859375e-06 seconds\n",
      "Execution time of fibonacci: 3.218650817871094e-05 seconds\n",
      "Execution time of fibonacci: 9.489059448242188e-05 seconds\n",
      "Execution time of fibonacci: 0.00035381317138671875 seconds\n",
      "Execution time of fibonacci: 0.0 seconds\n",
      "Execution time of fibonacci: 0.0 seconds\n",
      "Execution time of fibonacci: 4.0531158447265625e-06 seconds\n",
      "Execution time of fibonacci: 7.152557373046875e-07 seconds\n",
      "Execution time of fibonacci: 9.059906005859375e-06 seconds\n",
      "Execution time of fibonacci: 0.0 seconds\n",
      "Execution time of fibonacci: 0.0 seconds\n",
      "Execution time of fibonacci: 4.0531158447265625e-06 seconds\n",
      "Execution time of fibonacci: 2.002716064453125e-05 seconds\n",
      "Execution time of fibonacci: 0.0 seconds\n",
      "Execution time of fibonacci: 0.0 seconds\n",
      "Execution time of fibonacci: 5.245208740234375e-06 seconds\n",
      "Execution time of fibonacci: 0.0 seconds\n",
      "Execution time of fibonacci: 9.059906005859375e-06 seconds\n",
      "Execution time of fibonacci: 3.2901763916015625e-05 seconds\n",
      "Execution time of fibonacci: 0.0 seconds\n",
      "Execution time of fibonacci: 0.0 seconds\n",
      "Execution time of fibonacci: 3.814697265625e-06 seconds\n",
      "Execution time of fibonacci: 0.0 seconds\n",
      "Execution time of fibonacci: 9.059906005859375e-06 seconds\n",
      "Execution time of fibonacci: 0.0 seconds\n",
      "Execution time of fibonacci: 7.152557373046875e-07 seconds\n",
      "Execution time of fibonacci: 5.0067901611328125e-06 seconds\n",
      "Execution time of fibonacci: 1.9073486328125e-05 seconds\n",
      "Execution time of fibonacci: 5.698204040527344e-05 seconds\n",
      "Execution time of fibonacci: 0.0 seconds\n",
      "Execution time of fibonacci: 9.5367431640625e-07 seconds\n",
      "Execution time of fibonacci: 5.0067901611328125e-06 seconds\n",
      "Execution time of fibonacci: 0.0 seconds\n",
      "Execution time of fibonacci: 9.059906005859375e-06 seconds\n",
      "Execution time of fibonacci: 0.0 seconds\n",
      "Execution time of fibonacci: 0.0 seconds\n",
      "Execution time of fibonacci: 4.0531158447265625e-06 seconds\n",
      "Execution time of fibonacci: 1.7881393432617188e-05 seconds\n",
      "Execution time of fibonacci: 0.0 seconds\n",
      "Execution time of fibonacci: 0.0 seconds\n",
      "Execution time of fibonacci: 3.814697265625e-06 seconds\n",
      "Execution time of fibonacci: 0.0 seconds\n",
      "Execution time of fibonacci: 8.106231689453125e-06 seconds\n",
      "Execution time of fibonacci: 3.1948089599609375e-05 seconds\n",
      "Execution time of fibonacci: 9.393692016601562e-05 seconds\n",
      "Execution time of fibonacci: 9.5367431640625e-07 seconds\n",
      "Execution time of fibonacci: 0.0 seconds\n",
      "Execution time of fibonacci: 5.0067901611328125e-06 seconds\n",
      "Execution time of fibonacci: 0.0 seconds\n",
      "Execution time of fibonacci: 1.0013580322265625e-05 seconds\n",
      "Execution time of fibonacci: 0.0 seconds\n",
      "Execution time of fibonacci: 9.5367431640625e-07 seconds\n",
      "Execution time of fibonacci: 5.0067901611328125e-06 seconds\n",
      "Execution time of fibonacci: 2.002716064453125e-05 seconds\n",
      "Execution time of fibonacci: 0.0 seconds\n",
      "Execution time of fibonacci: 0.0 seconds\n",
      "Execution time of fibonacci: 4.0531158447265625e-06 seconds\n",
      "Execution time of fibonacci: 0.0 seconds\n",
      "Execution time of fibonacci: 9.059906005859375e-06 seconds\n",
      "Execution time of fibonacci: 3.2901763916015625e-05 seconds\n",
      "Execution time of fibonacci: 0.0 seconds\n",
      "Execution time of fibonacci: 0.0 seconds\n",
      "Execution time of fibonacci: 3.814697265625e-06 seconds\n",
      "Execution time of fibonacci: 9.5367431640625e-07 seconds\n",
      "Execution time of fibonacci: 9.059906005859375e-06 seconds\n",
      "Execution time of fibonacci: 0.0 seconds\n",
      "Execution time of fibonacci: 0.0 seconds\n",
      "Execution time of fibonacci: 3.814697265625e-06 seconds\n",
      "Execution time of fibonacci: 1.7881393432617188e-05 seconds\n",
      "Execution time of fibonacci: 5.602836608886719e-05 seconds\n",
      "Execution time of fibonacci: 0.00015616416931152344 seconds\n",
      "Execution time of fibonacci: 0.0005156993865966797 seconds\n",
      "55\n"
     ]
    }
   ],
   "source": [
    "## Add time record functionality\n",
    "\n",
    "import time\n",
    "\n",
    "def timer(func): # define function `timer` to decorate `func`\n",
    "    # `wrapper` is function defined inside, which will add wrap `func` in it and provide more functionality, \n",
    "    #  here the added ability is recore the running time for the ececution of `func`\n",
    "    def wrapper(*args, **kwargs):  \n",
    "        start_time = time.time()\n",
    "        result = func(*args, **kwargs) # call the decorated function `func`\n",
    "        end_time = time.time()\n",
    "        print(f\"Execution time of {func.__name__}: {end_time - start_time} seconds\")\n",
    "        return result # return the result of `func`\n",
    "    return wrapper # return the function `wrapper`\n",
    "\n",
    "@timer # call `timer` to decorate `func`, will take the following 'func'\n",
    "def fibonacci(n): # this is a recursive function, so the time of each calling of itself will be recorded\n",
    "    if n <= 1:\n",
    "        return n\n",
    "    else:\n",
    "        return fibonacci(n-1) + fibonacci(n-2)\n",
    "\n",
    "print(fibonacci(10))  # Now this function `fibonacci` is decorated with the ability to print out the running time of each calling\n"
   ]
  },
  {
   "cell_type": "code",
   "execution_count": 55,
   "id": "89fc65b3-5bcb-4f01-89f5-b6e44ed07312",
   "metadata": {},
   "outputs": [
    {
     "name": "stdout",
     "output_type": "stream",
     "text": [
      "12\n",
      "Error: All arguments must be integers.\n",
      "None\n",
      "11\n",
      "Error: All arguments must be integers.\n",
      "None\n"
     ]
    }
   ],
   "source": [
    "## add the functionality of checking the arguments before execute function \n",
    "\n",
    "def validate_input(func):\n",
    "    def wrapper(*args, **kwargs): # The arguments of wrapper, also come form the arguments that passed to decorated `func`\n",
    "        if all(isinstance(arg, int) for arg in args): # check if all the argument are integer\n",
    "            return func(*args, **kwargs)\n",
    "        else:\n",
    "            print(\"Error: All arguments must be integers.\")\n",
    "    return wrapper\n",
    "\n",
    "@validate_input\n",
    "def multiply(a, b): # `multiply` decorated by validate_input\n",
    "    return a * b\n",
    "\n",
    "@validate_input\n",
    "def add(a, b):\n",
    "    return a + b\n",
    "\n",
    "print(multiply(3, 4))  # Output: 12\n",
    "print(multiply(3, '4'))  # Output: Error: All arguments must be integers.\n",
    "print(add(5, 6))  # Output: 11\n",
    "print(add(5, '6'))  # Output: Error: All arguments must be integers.\n"
   ]
  },
  {
   "cell_type": "code",
   "execution_count": 57,
   "id": "81074cd7-cd60-444e-b869-755bb9105b47",
   "metadata": {},
   "outputs": [
    {
     "name": "stdout",
     "output_type": "stream",
     "text": [
      "<b><i>Hello, Alice!</i></b>\n"
     ]
    }
   ],
   "source": [
    "## Modify the font of output\n",
    "\n",
    "def bold(func):\n",
    "    def wrapper(*args, **kwargs):\n",
    "        return \"<b>\" + func(*args, **kwargs) + \"</b>\"\n",
    "    return wrapper\n",
    "\n",
    "def italic(func):\n",
    "    def wrapper(*args, **kwargs):\n",
    "        return \"<i>\" + func(*args, **kwargs) + \"</i>\"\n",
    "    return wrapper\n",
    "\n",
    "@bold # second decoration\n",
    "@italic # first decoration\n",
    "def greet(name):\n",
    "    return f\"Hello, {name}!\"\n",
    "\n",
    "print(greet(\"Alice\"))  \n"
   ]
  },
  {
   "cell_type": "code",
   "execution_count": 58,
   "id": "65e60b95-e3c4-42c0-b287-27dd10d5cc5b",
   "metadata": {},
   "outputs": [
    {
     "name": "stdout",
     "output_type": "stream",
     "text": [
      "Calling function: wrapper\n",
      "Entering function: add\n",
      "Exiting function: add\n",
      "Function returned: 8\n",
      "8\n"
     ]
    }
   ],
   "source": [
    "## multiple decorators\n",
    "\n",
    "def debug(func):\n",
    "    def wrapper(*args, **kwargs):\n",
    "        print(f\"Calling function: {func.__name__}\")\n",
    "        result = func(*args, **kwargs)\n",
    "        print(f\"Function returned: {result}\")\n",
    "        return result\n",
    "    return wrapper\n",
    "\n",
    "def trace(func):\n",
    "    def wrapper(*args, **kwargs):\n",
    "        print(f\"Entering function: {func.__name__}\")\n",
    "        result = func(*args, **kwargs)\n",
    "        print(f\"Exiting function: {func.__name__}\")\n",
    "        return result\n",
    "    return wrapper\n",
    "\n",
    "@debug # second decoratoion\n",
    "@trace # first decoration\n",
    "def add(a, b):\n",
    "    return a + b\n",
    "\n",
    "print(add(3, 5))\n"
   ]
  },
  {
   "cell_type": "code",
   "execution_count": 60,
   "id": "a489cb1c-171e-475e-aebe-9d06c9eff56b",
   "metadata": {},
   "outputs": [
    {
     "name": "stdout",
     "output_type": "stream",
     "text": [
      "<B>HELLO, ALICE!</B>\n"
     ]
    }
   ],
   "source": [
    "### Uppercase and bold the output\n",
    "\n",
    "def uppercase(func):\n",
    "    def wrapper(*args, **kwargs):\n",
    "        result = func(*args, **kwargs)\n",
    "        return result.upper()\n",
    "    return wrapper\n",
    "\n",
    "def bold(func):\n",
    "    def wrapper(*args, **kwargs):\n",
    "        result = func(*args, **kwargs)\n",
    "        return f\"<b>{result}</b>\"\n",
    "    return wrapper\n",
    "\n",
    "@uppercase\n",
    "@bold\n",
    "def greet(name):\n",
    "    return f\"Hello, {name}!\"\n",
    "\n",
    "print(greet(\"Alice\"))\n"
   ]
  },
  {
   "cell_type": "code",
   "execution_count": 64,
   "id": "9d59efb8-14e4-4c11-881d-34627eba0109",
   "metadata": {},
   "outputs": [
    {
     "name": "stdout",
     "output_type": "stream",
     "text": [
      "This is a static method\n",
      "This is a class method, class attribute value: 10\n",
      "0\n",
      "10\n",
      "Value must be non-negative\n"
     ]
    }
   ],
   "source": [
    "### Built-in decorator, usually used with class. \n",
    "### Will dive further to the topic of `class`\n",
    "\n",
    "## staticmethod\n",
    "class MyClass:\n",
    "    @staticmethod\n",
    "    def static_method():\n",
    "        print(\"This is a static method\")\n",
    "\n",
    "MyClass.static_method()  # Output: This is a static method\n",
    "\n",
    "## classmethod\n",
    "class MyClass:\n",
    "    class_attribute = 10\n",
    "    @classmethod\n",
    "    def class_method(cls):\n",
    "        print(f\"This is a class method, class attribute value: {cls.class_attribute}\")\n",
    "\n",
    "MyClass.class_method()  # Output: This is a class method, class attribute value: 10\n",
    "\n",
    "## property, value.setter\n",
    "class MyClass:\n",
    "    def __init__(self):\n",
    "        self._value = 0\n",
    "        \n",
    "    @property\n",
    "    def value(self):\n",
    "        return self._value\n",
    "    \n",
    "    @value.setter\n",
    "    def value(self, new_value):\n",
    "        if new_value >= 0:\n",
    "            self._value = new_value\n",
    "        else:\n",
    "            print(\"Value must be non-negative\")\n",
    "\n",
    "obj = MyClass()\n",
    "print(obj.value)  # Output: 0\n",
    "obj.value = 10\n",
    "print(obj.value)  # Output: 10\n",
    "obj.value = -5    # Output: Value must be non-negative\n",
    "\n"
   ]
  },
  {
   "cell_type": "markdown",
   "id": "3027f1ed-81e4-4c07-9550-8279087be64d",
   "metadata": {},
   "source": [
    "## About Generator function\n",
    "\n",
    "Generator function allow us to build a sequnece of values on the fly, which will not generate all the values at once and store them in memory. \n",
    "Instead, it will create an `generator`, which is able to send a value at once when we call it\n",
    "The syntax is `yield`, and we can use `next` to call the elements in it one by one\n"
   ]
  },
  {
   "cell_type": "markdown",
   "id": "d0c590d2-8346-40ff-ba15-5b6527c8f5f3",
   "metadata": {},
   "source": [
    "### Example of generator"
   ]
  },
  {
   "cell_type": "code",
   "execution_count": 65,
   "id": "8a80b0ad-f38a-4f20-aeae-4d67efcd4c1d",
   "metadata": {},
   "outputs": [
    {
     "name": "stdout",
     "output_type": "stream",
     "text": [
      "5\n",
      "4\n",
      "3\n",
      "2\n",
      "1\n"
     ]
    }
   ],
   "source": [
    "def countdown(n): # a generator, which is iterable\n",
    "    while n > 0:\n",
    "        yield n # yield is here\n",
    "        n -= 1\n",
    "\n",
    "# Using the generator function\n",
    "for i in countdown(5):\n",
    "    print(i)\n"
   ]
  },
  {
   "cell_type": "code",
   "execution_count": 67,
   "id": "c9287b15-5ec7-4d43-b906-7c356f802615",
   "metadata": {},
   "outputs": [
    {
     "name": "stdout",
     "output_type": "stream",
     "text": [
      "0\n",
      "1\n",
      "1\n",
      "2\n",
      "3\n",
      "5\n",
      "8\n",
      "13\n",
      "21\n",
      "34\n"
     ]
    }
   ],
   "source": [
    "def fibonacci(): # this is endless generator, we can always use `next` to generate element\n",
    "    a, b = 0, 1\n",
    "    while True:\n",
    "        yield a # considered as the return value for each calling\n",
    "        a, b = b, a + b\n",
    "\n",
    "# Using the generator function to print the first 10 Fibonacci numbers\n",
    "fib_gen = fibonacci() # assign the generator to `fib_gen`\n",
    "for _ in range(10):\n",
    "    print(next(fib_gen))\n"
   ]
  }
 ],
 "metadata": {
  "kernelspec": {
   "display_name": "Python 3 (ipykernel)",
   "language": "python",
   "name": "python3"
  },
  "language_info": {
   "codemirror_mode": {
    "name": "ipython",
    "version": 3
   },
   "file_extension": ".py",
   "mimetype": "text/x-python",
   "name": "python",
   "nbconvert_exporter": "python",
   "pygments_lexer": "ipython3",
   "version": "3.11.7"
  }
 },
 "nbformat": 4,
 "nbformat_minor": 5
}
