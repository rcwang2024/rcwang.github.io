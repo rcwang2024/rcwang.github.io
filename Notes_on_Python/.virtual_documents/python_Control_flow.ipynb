











##+++
# example of if, else, elif
##+++

from IPython.core.interactiveshell import InteractiveShell
InteractiveShell.ast_node_interactivity = 'all'

if -1:
    print('this is -1')

a = 3
b = 5
if a>b:
    print('3 is greater than 5') # not executed
if 'string':
    print('this is a string') # 
if []:
    print('this is a empyth list')

if 'string':
    print('string')
else:
    print('not a string')

grade = 89
if grade < 60:
    print('falied')
elif grade > 60 and grade < 90:
    print('good')
elif grade >= 90 and grade < 100:
    print('very good')
else:
    print('Not a proper grade')







### +++++++++
# Examples of for loop 
### +++++++++

a_seq = ['a', 'hello', 'python', 23, 47, 34, 22, 98]
for item in a_seq: # loop all the items one by one
    print(item) 

## using enumerate()
for ind, item in enumerate(a_seq): # using enumerate
    print(f'The item of index {ind} is: {item}')
print()

## using else couple for 
for ind, item in enumerate(a_seq):
    if ind % 2 == 0: # using if to check the index
        print(f'The item of index {ind} is: {item}')
else: # using else for the other items not processed, coupled with the 'for' loop
    print('the index is odd, discarding')
print()

## using break to stop the loop when given condition satisfied
for ind, item in enumerate(a_seq):
    if ind%2 == 0:
        break # will stop the loop if the condition satisfied, and the following parts of the loop will not be executed 
else: # coupled with for loop and will running, due to the break
    print('The index is even, and the loop is stoped') # not print out
print()

## using ‘continue’ to continue the loop when condition satisfied. Meaning move to the next item 
for ind, item in enumerate(a_seq):
    if ind%2 == 0:
        continue # will do nothing of this item, just continue to the next item
        print('I am the expression after Contnue') # will not print out 
    else:
        print(f'The item of index {ind} is: {item}')
else:
    print("The loop is done")
print()

## using pass, will do nothing at the current position, and continue the following 
for ind, item in enumerate(a_seq):
    if ind%2 == 0:
        pass # will do nothing and continue the flow of current loop
        print('I am the expression after Pass') # will print out this sentence
        print(f'I am index {ind} and my value is {item}')
    else:
        print(f'The item of index {ind} is: {item}')
else:
    print("The loop is done again")
print()

## using range()
for i in range(5):
    print(i**8)
print()
for i in range(0, 5, 2): # range(start, end, step)
    print(i**20)
print()

## using zip()
a_list = [1, 2, 3, 4, 5, 6]
b_str = "string"
c_tuple = ('hello', 'python', 'how', 'do', 'you', 'do')
for a, b, c in zip(a_list, b_str, c_tuple): # will couple this three different types sequence and loop them together
    print(f'Number {a}, Str {b}, Element {c}')

## Nested for loops
a_list = [1, 2, 3, 4, 5, 6]
b_str = "string"
c_tuple = ('hello', 'python', 'how', 'do', 'you', 'do')
for a in a_list: # loop a
    for b in b_str: # loop b under each a
        for c in c_tuple: # loop c under each b
            print(f'a is {a}, b is {b}, c is {c}') # will firstly loop c under each b, and loop the chunk 'loop c under each b' under each a


## Loops regarding dictionary
names = {'name1': 'charles', 'name2': 'alex','name3': 'benjamin',
         'name4': 'luna', 'name5': 'juna', 'name6': 'dana'}
for key, name in names.items(): # loop items
    print(f'{key} is {name}, and it\'s length is:', len(name))
for key in names.keys(): # loop keys
    print(key)
for value in names.values(): # loop values
    print(value.capitalize())
    








### Example of a function
def less_greater(array, pivot): ## define a function
    """
    Aim: 
    To separete an array into two parts according to the given pivot. 
    The values of one parts all small then pivot, and the rest in the other part
    
    Paraters:
    array, the array that going to be splie
    pivot, used as point for spliting
    """
    less = [] # initialize an empety list
    greater = []

    for x in array: # looping values in array
        if x < pivot: # branching the pipeline with if .. else
            less.append(x) # used 'append' method attached to list
        else:
            greater.append(x)
    
    return less, greater # return values for the function

## build and assign values to objects
a_array, a_pivot = [1, 2, 8, 9, 5, 2, 3, 4], 3 
## call the function and accept the return values
less, greater = less_greater(array=a_array, pivot=a_pivot) 
## print with format method
print(f'The values smaller then {a_pivot} in {a_array} is here: {less}') 
print(f'The values greater then {a_pivot} in {a_array} is here: {greater}') 

## Assign values to variable
a = 2
print(a)
b = a # get a copy
a = 3
print(b)

a = [1, 2, 3]
b = a.copy() 
a = [1, 2, 3, 4]
print(b)  # Output: [1, 2, 3]



## Examples for read and modify files
def line_replace(file_handle, old, new):
    results = []
    for line in file_handle:
        # keep the empty lines
        if len(line) == 0:
            continue
        results.append(line.replace(a, b))
    return results

a, b = 'foo', 'bar'
with open('example_line_replace.txt', 'r') as file_handle:
    replace_results = line_replace(file_handle, a, b)
replace_results
