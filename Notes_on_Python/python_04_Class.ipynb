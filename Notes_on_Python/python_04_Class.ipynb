{
 "cells": [
  {
   "cell_type": "markdown",
   "id": "0b09efec-dd29-4acd-bb93-55188588833d",
   "metadata": {},
   "source": [
    "# Python: Class"
   ]
  },
  {
   "cell_type": "markdown",
   "id": "d8fea2a6-37c2-4647-ae13-86231a68c457",
   "metadata": {},
   "source": [
    "## `Class` is an important concept in Python programming . \n",
    "\n",
    "To handle `Class` in python, we need to know:\n",
    "\n",
    "- **Definition**: A class is a blueprint for building objects (instances) that share the same attributes (variables) and behaviors (methods). It defines the structure and behavior of objects of that type. Classes and objects are fundamental concepts in Obeject Oriented Programming (OOP) which treat everything as objects. Every object has its own attributes and methods. Python uses naming conventions to indicate the visibility of attributes and methods. Attributes and methods can be public, protected, or private.\n",
    "\n",
    "- **Attributes**: Attributes are variables that belong to objects, representing the state of the object. Attributes can be either instance variables (unique to each object) or class variables (shared among all objects of the class).\n",
    "\n",
    "- **Methods**: Methods are functions defined within a class that perform operations on objects of that class, defining the behavior of the objects. The `__init__` method is a special method used to initialize objects, being called automatically when an object is created. It can be used to set initial values for attributes.\n",
    "\n",
    "- **Inheritance**: Inheritance is the mechanism by which one class can inherit attributes and methods from another class, which promotes code reusability and allows the creation of hierarchical relationships between classes.\n",
    "\n",
    "- **Encapsulation**: Encapsulation is the bundling of data (attributes) and methods that operate on that data within a single unit (class). It hides the internal state of an object and only exposes the necessary functionalities.\n",
    "\n",
    "- **Polymorphism**: Polymorphism allows objects of different classes to be treated as objects of a common superclass. It enables flexibility and allows for method overriding and method overloading.\n",
    "\n",
    "- **Class Methods and Static Methods**: Besides instance methods, classes can also have class methods and static methods. Class methods are called on the class itself and can access class variables. Static methods are similar to regular functions but are defined within a class.\n"
   ]
  },
  {
   "cell_type": "code",
   "execution_count": 20,
   "id": "8f8be54b-9317-437e-b744-69b98c08d704",
   "metadata": {},
   "outputs": [],
   "source": [
    "from IPython.core.interactiveshell import InteractiveShell\n",
    "InteractiveShell.ast_node_interactivity = \"all\""
   ]
  },
  {
   "cell_type": "markdown",
   "id": "2bb3adb1-692a-44c2-a576-304e16a00ebb",
   "metadata": {},
   "source": [
    "## Examples about class in python"
   ]
  },
  {
   "cell_type": "code",
   "execution_count": 21,
   "id": "a06e9284-e076-4f8b-a3d8-8011ddad716a",
   "metadata": {},
   "outputs": [
    {
     "data": {
      "text/plain": [
       "'dog'"
      ]
     },
     "execution_count": 21,
     "metadata": {},
     "output_type": "execute_result"
    },
    {
     "data": {
      "text/plain": [
       "2"
      ]
     },
     "execution_count": 21,
     "metadata": {},
     "output_type": "execute_result"
    },
    {
     "name": "stdout",
     "output_type": "stream",
     "text": [
      "this dog starts running\n"
     ]
    }
   ],
   "source": [
    "## Basic example of class\n",
    "\n",
    "class animal(): # define a class of animal\n",
    "    \n",
    "    # define the initial function, and the parameters name and age are attributes of this class\n",
    "    def __init__(self, name, age): \n",
    "        self.name = name # name of the object (self)\n",
    "        self.age = age # age of the object\n",
    "        \n",
    "    # define a method on the object itself\n",
    "    def run(self): \n",
    "        print(f'this {self.name} starts running')\n",
    "\n",
    "dog = animal(name='dog', age=2) # Build a object of 'animal' class, and set its name to 'dog', age to 2\n",
    "dog.name # check the name\n",
    "dog.age # check the age\n",
    "dog.run() # run the defined method of object of this class"
   ]
  },
  {
   "cell_type": "code",
   "execution_count": 28,
   "id": "3c0aa8a8-6647-4d27-91eb-8897a173c4ec",
   "metadata": {},
   "outputs": [
    {
     "data": {
      "text/plain": [
       "'BMW'"
      ]
     },
     "execution_count": 28,
     "metadata": {},
     "output_type": "execute_result"
    },
    {
     "data": {
      "text/plain": [
       "'T01'"
      ]
     },
     "execution_count": 28,
     "metadata": {},
     "output_type": "execute_result"
    },
    {
     "data": {
      "text/plain": [
       "'2022'"
      ]
     },
     "execution_count": 28,
     "metadata": {},
     "output_type": "execute_result"
    },
    {
     "data": {
      "text/plain": [
       "0"
      ]
     },
     "execution_count": 28,
     "metadata": {},
     "output_type": "execute_result"
    },
    {
     "data": {
      "text/plain": [
       "'2022 BMW T01'"
      ]
     },
     "execution_count": 28,
     "metadata": {},
     "output_type": "execute_result"
    },
    {
     "data": {
      "text/plain": [
       "'This car has 0 miles on it.'"
      ]
     },
     "execution_count": 28,
     "metadata": {},
     "output_type": "execute_result"
    },
    {
     "data": {
      "text/plain": [
       "'This car has 10000 miles on it.'"
      ]
     },
     "execution_count": 28,
     "metadata": {},
     "output_type": "execute_result"
    },
    {
     "data": {
      "text/plain": [
       "'This car has 10090 miles on it.'"
      ]
     },
     "execution_count": 28,
     "metadata": {},
     "output_type": "execute_result"
    }
   ],
   "source": [
    "## Basic example of class\n",
    "\n",
    "class Car:\n",
    "    # Constructor method (`__init__`) to initialize attributes\n",
    "    def __init__(self, make, model, year):\n",
    "        self.make = make\n",
    "        self.model = model\n",
    "        self.year = year\n",
    "        self.odometer_reading = 0\n",
    "\n",
    "    # Method to describe the car\n",
    "    def describe(self): # will not pass value to parameter 'self' in the calling, since it refer to the object itself\n",
    "        return f\"{self.year} {self.make} {self.model}\"\n",
    "\n",
    "    # Method to read the odometer\n",
    "    def read_odometer(self):\n",
    "        return f\"This car has {self.odometer_reading} miles on it.\"\n",
    "\n",
    "    # Method to update the odometer reading\n",
    "    def update_odometer(self, mileage): # modify the `odometer_reading`\n",
    "        if mileage >= self.odometer_reading:\n",
    "            self.odometer_reading = mileage\n",
    "        else:\n",
    "            print(\"You can't roll back an odometer!\")\n",
    "\n",
    "    # Method to increment the odometer reading\n",
    "    def increment_odometer(self, miles): # modify the `odometer_reading`\n",
    "        self.odometer_reading += miles\n",
    "\n",
    "# build an object 'my_car' of class 'Car' with given attributes\n",
    "my_car = Car(make='BMW', model='T01', year='2022') \n",
    "\n",
    "# show the current attributes of object 'my_car'\n",
    "my_car.make; my_car.model; \n",
    "my_car.year; my_car.odometer_reading\n",
    "\n",
    "# methods of 'my_car'\n",
    "\n",
    "my_car.describe()\n",
    "my_car.read_odometer()\n",
    "\n",
    "my_car.update_odometer(10000) # the odometer_reading will be updated\n",
    "my_car.read_odometer() # will show the new odometer_reading\n",
    "my_car.increment_odometer(90) # update it again by increasing \n",
    "my_car.read_odometer() # show the current odometer_reading value\n"
   ]
  },
  {
   "cell_type": "code",
   "execution_count": 41,
   "id": "ef029e1e-3c3c-4790-a0ba-f078d166597f",
   "metadata": {},
   "outputs": [
    {
     "data": {
      "text/plain": [
       "'Alex'"
      ]
     },
     "execution_count": 41,
     "metadata": {},
     "output_type": "execute_result"
    },
    {
     "data": {
      "text/plain": [
       "0"
      ]
     },
     "execution_count": 41,
     "metadata": {},
     "output_type": "execute_result"
    },
    {
     "name": "stdout",
     "output_type": "stream",
     "text": [
      "Deposited 8990 euro. New balance: 8990 euro\n"
     ]
    },
    {
     "data": {
      "text/plain": [
       "8990"
      ]
     },
     "execution_count": 41,
     "metadata": {},
     "output_type": "execute_result"
    },
    {
     "name": "stdout",
     "output_type": "stream",
     "text": [
      "Withdrowed 1000 euro. New balance: 7990 euro\n"
     ]
    },
    {
     "data": {
      "text/plain": [
       "7990"
      ]
     },
     "execution_count": 41,
     "metadata": {},
     "output_type": "execute_result"
    },
    {
     "data": {
      "text/plain": [
       "'Current balance for Alex: 7990 euro'"
      ]
     },
     "execution_count": 41,
     "metadata": {},
     "output_type": "execute_result"
    },
    {
     "data": {
      "text/plain": [
       "'Bank account owned by Alex'"
      ]
     },
     "execution_count": 41,
     "metadata": {},
     "output_type": "execute_result"
    },
    {
     "data": {
      "text/plain": [
       "'Bank account owned by Alex'"
      ]
     },
     "execution_count": 41,
     "metadata": {},
     "output_type": "execute_result"
    }
   ],
   "source": [
    "## Basic example of class\n",
    "\n",
    "class bank_account():\n",
    "    # Construct an object\n",
    "    def __init__(self, name, balance=0):\n",
    "        self.name = name\n",
    "        self.balance = balance\n",
    "\n",
    "    # define the method `deposit`\n",
    "    def deposit(self, amount):\n",
    "        if amount > 0:\n",
    "            self.balance += amount\n",
    "            print(f\"Deposited {amount} euro. New balance: {self.balance} euro\")\n",
    "        else: \n",
    "            print('The amount of deposit is not valid')\n",
    "\n",
    "    def withdrow(self, amount):\n",
    "        if amount > 0 and amount < self.balance:\n",
    "            self.balance -= amount\n",
    "            print(f\"Withdrowed {amount} euro. New balance: {self.balance} euro\")\n",
    "        else:\n",
    "            print('The amount is not valid or there is no sufficient money')\n",
    "            \n",
    "    def get_balance(self):\n",
    "        return f\"Current balance for {self.name}: {self.balance} euro\"\n",
    "\n",
    "    def __str__(self): # The __str__ method provides a string representation of the account object.\n",
    "        return f\"Bank account owned by {self.name}\"\n",
    "\n",
    "## build an object of this class\n",
    "my_account = bank_account('Alex', 0)\n",
    "my_account.name; my_account.balance\n",
    "\n",
    "my_account.deposit(8990)\n",
    "my_account.balance\n",
    "\n",
    "my_account.withdrow(1000)\n",
    "my_account.balance\n",
    "\n",
    "my_account.get_balance()\n",
    "my_account.__str__()\n",
    "str(my_account)"
   ]
  },
  {
   "cell_type": "code",
   "execution_count": 76,
   "id": "9991f513-13c9-44b2-b1fe-d865ad07e7be",
   "metadata": {},
   "outputs": [
    {
     "name": "stdout",
     "output_type": "stream",
     "text": [
      "The book To Kill a Mockingbird has been deleted.\n",
      "218\n",
      "To Kill a Mockingbird by Harper Lee\n",
      "The book The Great Gatsby has been deleted.\n"
     ]
    }
   ],
   "source": [
    "## Example of special methods, also called magic methods, denoted as `__xxx__`, and the '__' will be removed when calling such methods\n",
    "\n",
    "class Book:\n",
    "    def __init__(self, title, author, pages):\n",
    "        self.title = title\n",
    "        self.author = author\n",
    "        self.pages = pages\n",
    "\n",
    "    def __str__(self):\n",
    "        return f\"{self.title} by {self.author}\"\n",
    "\n",
    "    def __len__(self):\n",
    "        return self.pages\n",
    "\n",
    "    def __del__(self):\n",
    "        print(f\"The book {self.title} has been deleted.\")\n",
    "\n",
    "# Creating instances of Book\n",
    "book1 = Book(\"The Great Gatsby\", \"F. Scott Fitzgerald\", 218)\n",
    "book2 = Book(\"To Kill a Mockingbird\", \"Harper Lee\", 281)\n",
    "\n",
    "# Using special methods and attributes\n",
    "print(len(book1))  # length of book1\n",
    "print(book2)       # show the string information (__str__) of book2 \n",
    "del book1   # delete the book1"
   ]
  },
  {
   "cell_type": "code",
   "execution_count": 78,
   "id": "468ffddb-c792-430a-9023-36388bb6b553",
   "metadata": {},
   "outputs": [
    {
     "name": "stdout",
     "output_type": "stream",
     "text": [
      "Buddy\n",
      "Canine\n",
      "Woof!\n",
      "\n",
      "Whiskers\n",
      "Feline\n",
      "Meow!\n"
     ]
    }
   ],
   "source": [
    "## Example of Inheritance\n",
    "\n",
    "class Animal: # The super class\n",
    "    def __init__(self, species):\n",
    "        self.species = species\n",
    "\n",
    "    def make_sound(self):\n",
    "        pass  # Placeholder method, can  be overridden in subclasses\n",
    "\n",
    "class Dog(Animal): # subclass, inherit attributes and methods from the super class\n",
    "    def __init__(self, name):\n",
    "        # use the `__init__` from the super class `Animal`, and pass \"Canine\" to `species`\n",
    "        super().__init__(\"Canine\") \n",
    "        # The new attributes of class `Dog`, not inherited from `Animal`\n",
    "        self.name = name \n",
    "\n",
    "    def make_sound(self): # override the method that also appeared in the super class\n",
    "        return \"Woof!\"\n",
    "\n",
    "class Cat(Animal):\n",
    "    def __init__(self, name):\n",
    "        super().__init__(\"Feline\")\n",
    "        self.name = name\n",
    "\n",
    "    def make_sound(self):\n",
    "        return \"Meow!\"\n",
    "\n",
    "# Creating instances of subclasses\n",
    "dog = Dog(\"Buddy\") \n",
    "cat = Cat(\"Whiskers\")\n",
    "\n",
    "# Aattributes and methods from the superclass\n",
    "print(dog.name)        \n",
    "print(dog.species)     \n",
    "print(dog.make_sound())\n",
    "\n",
    "print()\n",
    "\n",
    "print(cat.name)     \n",
    "print(cat.species)    \n",
    "print(cat.make_sound()) \n"
   ]
  },
  {
   "cell_type": "code",
   "execution_count": 79,
   "id": "35d5fd82-caea-4ea2-b363-b2e76be564e9",
   "metadata": {},
   "outputs": [
    {
     "name": "stdout",
     "output_type": "stream",
     "text": [
      "Toyota\n",
      "Camry\n",
      "2022\n",
      "Toyota Camry is driving.\n",
      "4\n",
      "Toyota Camry goes beep!\n",
      "\n",
      "Ford\n",
      "F-150\n",
      "2021\n",
      "Ford F-150 is driving.\n",
      "2000 lbs\n",
      "Ford F-150 is loading cargo.\n"
     ]
    }
   ],
   "source": [
    "### Example of Inheritance\n",
    "\n",
    "class Vehicle: \n",
    "    def __init__(self, brand, model, year):\n",
    "        self.brand = brand\n",
    "        self.model = model\n",
    "        self.year = year\n",
    "\n",
    "    def drive(self):\n",
    "        return f\"{self.brand} {self.model} is driving.\"\n",
    "\n",
    "class Car(Vehicle):\n",
    "    def __init__(self, brand, model, year, num_doors):\n",
    "        super().__init__(brand, model, year)\n",
    "        self.num_doors = num_doors\n",
    "\n",
    "    def honk(self):\n",
    "        return f\"{self.brand} {self.model} goes beep!\"\n",
    "\n",
    "class Truck(Vehicle):\n",
    "    def __init__(self, brand, model, year, payload_capacity):\n",
    "        super().__init__(brand, model, year)\n",
    "        self.payload_capacity = payload_capacity\n",
    "\n",
    "    def load(self):\n",
    "        return f\"{self.brand} {self.model} is loading cargo.\"\n",
    "\n",
    "# Creating instances of subclasses\n",
    "car = Car(\"Toyota\", \"Camry\", 2022, 4)\n",
    "truck = Truck(\"Ford\", \"F-150\", 2021, \"2000 lbs\")\n",
    "\n",
    "# Accessing attributes and methods from the superclass\n",
    "print(car.brand)             # Toyota\n",
    "print(car.model)             # Camry\n",
    "print(car.year)              # 2022\n",
    "print(car.drive())           # Toyota Camry is driving.\n",
    "print(car.num_doors)         # 4\n",
    "print(car.honk())            # Toyota Camry goes beep!\n",
    "\n",
    "print()\n",
    "\n",
    "print(truck.brand)           # Ford\n",
    "print(truck.model)           # F-150\n",
    "print(truck.year)            # 2021\n",
    "print(truck.drive())         # Ford F-150 is driving.\n",
    "print(truck.payload_capacity)# 2000 lbs\n",
    "print(truck.load())          # Ford F-150 is loading cargo.\n"
   ]
  },
  {
   "cell_type": "code",
   "execution_count": 87,
   "id": "3e158926-94e9-4e44-b94c-64b7fef81b15",
   "metadata": {
    "scrolled": true
   },
   "outputs": [
    {
     "name": "stdout",
     "output_type": "stream",
     "text": [
      "Alice\n",
      "30\n",
      "Bob\n",
      "25\n"
     ]
    }
   ],
   "source": [
    "## Example of Encapsulation\n",
    "\n",
    "# Encapsulation is a fundamental concept in object-oriented programming that refers to the bundling of data (attributes) \n",
    "# and methods (functions) that operate on the data into a single unit, termed as `class`. \n",
    "# To encapsulate an attributes we can write 'self.__xxx'\n",
    "\n",
    "class Person:\n",
    "    def __init__(self, name, age):\n",
    "        self.__name = name  # The `_name` is an Encapsulated attribute of the object/instance\n",
    "        self.__age = age    # The `_age` is another Encapsulated attribute of the object/instance\n",
    "\n",
    "    def get_name(self):\n",
    "        return self.__name\n",
    "\n",
    "    def set_name(self, name):\n",
    "        self.__name = name\n",
    "\n",
    "    def get_age(self):\n",
    "        return self.__age\n",
    "\n",
    "    def set_age(self, age):\n",
    "        if age > 0:\n",
    "            self.__age = age\n",
    "        else:\n",
    "            print(\"Age must be a positive number.\")\n",
    "\n",
    "# build an object/instance of the Person class\n",
    "person1 = Person(\"Alice\", 30)\n",
    "\n",
    "# Accessing encapsulated attributes using getter methods\n",
    "print(person1.get_name())  # Output: Alice\n",
    "#person1.__name             # AttributeError: 'Person' object has no attribute '__name', can not be called from class outside\n",
    "print(person1.get_age())   # Output: 30\n",
    "\n",
    "# Modifying encapsulated attributes using setter methods\n",
    "person1.set_name(\"Bob\")\n",
    "person1.set_age(25)\n",
    "\n",
    "print(person1.get_name())  # Output: Bob\n",
    "print(person1.get_age())   # Output: 25\n"
   ]
  },
  {
   "cell_type": "code",
   "execution_count": 88,
   "id": "90c203b1-6839-41c7-8a48-7dff0d9a58d7",
   "metadata": {},
   "outputs": [
    {
     "name": "stdout",
     "output_type": "stream",
     "text": [
      "100\n",
      "150\n",
      "120\n"
     ]
    }
   ],
   "source": [
    "## Example of Encapslation\n",
    "\n",
    "class BankAccount:\n",
    "    def __init__(self, initial_balance):\n",
    "        # `__balance` now is encapsulated in class 'BankAccount'\n",
    "        self.__balance = initial_balance \n",
    " \n",
    "    def deposit(self, amount):\n",
    "        self.__balance += amount\n",
    "\n",
    "    def withdraw(self, amount):\n",
    "        if amount <= self.__balance:\n",
    "            self.__balance -= amount\n",
    "        else:\n",
    "            print(\"Insufficient funds\")\n",
    "\n",
    "    def get_balance(self):\n",
    "        return self.__balance\n",
    "\n",
    "# Example usage\n",
    "account = BankAccount(100)\n",
    "print(account.get_balance())  # Output: 100\n",
    "account.deposit(50)\n",
    "print(account.get_balance())  # Output: 150\n",
    "account.withdraw(30)\n",
    "print(account.get_balance())  # Output: 120\n"
   ]
  },
  {
   "cell_type": "code",
   "execution_count": null,
   "id": "45c956b3-f4dc-4453-b0fe-108acd9b5827",
   "metadata": {},
   "outputs": [],
   "source": [
    "### Example of Polymorphism\n",
    "\n",
    "# Polymorphism allows objects of different classes to be treated as objects of a common superclass. \n",
    "# This means that a method defined in a superclass can be implemented differently by each subclass\n",
    "\n",
    "class Animal:\n",
    "    def speak(self): # the common methods in super class\n",
    "        pass\n",
    "\n",
    "class Dog(Animal):\n",
    "    def speak(self): # re-write the method inherited from superclass\n",
    "        return \"Woof!\"\n",
    "\n",
    "class Cat(Animal):\n",
    "    def speak(self):\n",
    "        return \"Meow!\"\n",
    "\n",
    "class Cow(Animal):\n",
    "    def speak(self):\n",
    "        return \"Moo!\"\n",
    "\n",
    "# Function that demonstrates polymorphism\n",
    "def animal_sound(animal): # take 'animal'， the object/instance of class `Animal` as parameter\n",
    "    return animal.speak() # call the defined method of object/instance\n",
    "\n",
    "# Example usage\n",
    "dog = Dog()\n",
    "cat = Cat()\n",
    "cow = Cow()\n",
    "\n",
    "print(animal_sound(dog))  # Output: Woof!\n",
    "print(animal_sound(cat))  # Output: Meow!\n",
    "print(animal_sound(cow))  # Output: Moo!\n"
   ]
  },
  {
   "cell_type": "code",
   "execution_count": 90,
   "id": "ffe2344b-1873-4f01-8f90-3508fa0e03da",
   "metadata": {},
   "outputs": [
    {
     "name": "stdout",
     "output_type": "stream",
     "text": [
      "Total area is:  302.34000000000003\n"
     ]
    }
   ],
   "source": [
    "### Example of Polymorphism\n",
    "\n",
    "class Shape:\n",
    "    def area(self): # Placeholder function\n",
    "        pass\n",
    "\n",
    "class Rectangle(Shape):\n",
    "    def __init__(self, width, height):\n",
    "        self.width = width\n",
    "        self.height = height\n",
    "    \n",
    "    def area(self): # Inherited from super class and override it\n",
    "        return self.width * self.height\n",
    "\n",
    "class Circle(Shape):\n",
    "    def __init__(self, radius):\n",
    "        self.radius = radius\n",
    "\n",
    "    def area(self):\n",
    "        return 3.14 * self.radius * self.radius\n",
    "\n",
    "def total_area(shapes):\n",
    "    total = 0\n",
    "    for shape in shapes:\n",
    "        total += shape.area()\n",
    "    return total\n",
    "\n",
    "rectangle = Rectangle(6, 8)\n",
    "circle = Circle(9)\n",
    "\n",
    "shapes = [rectangle, circle]\n",
    "print('Total area is: ', total_area(shapes))\n"
   ]
  },
  {
   "cell_type": "markdown",
   "id": "295954c8-10f2-4867-9c1e-6f4db988f61e",
   "metadata": {},
   "source": [
    "### About Class Methods and Static Methods\n",
    "Class methods and static methods are both methods defined within a class, but they serve different purposes.\n",
    "\n",
    "- Class Methods:\n",
    "\n",
    "> Class methods are methods that are bound to the class itself rather than to instances of the class. They are defined using the @classmethod decorator.\n",
    "\n",
    "> The first parameter of a class method is conventionally named cls (short for class), which refers to the class itself.\n",
    "Class methods can access and modify class-level variables and perform operations that are not specific to any particular instance of the class.\n",
    "\n",
    "> They can be called on the class itself or on instances of the class. Class methods are often used for alternative constructors, to create instances of a class using different input formats or configurations.\n",
    "\n",
    "- Static Methods:\n",
    "\n",
    "> Static methods are methods that are bound to the class, but they do not have access to the class itself or its instances. They are defined using the @staticmethod decorator.\n",
    "\n",
    "> Static methods do not have a reference to either the class or its instances as their first parameter. They are similar to regular functions but are defined within the class namespace for better organization and logical grouping.\n",
    "\n",
    "> Static methods can be called on the class itself or on instances of the class, but they do not have access to any instance-specific data. Static methods are often used for utility functions that are related to the class but do not require access to instance or class data.\n",
    "\n",
    "- In summary, class methods are used when the method needs access to the class itself or class-level variables, while static methods are used when the method does not require access to the class or its instances. Both types of methods provide ways to organize and encapsulate functionality within a class.\n"
   ]
  },
  {
   "cell_type": "code",
   "execution_count": 92,
   "id": "b5497ed2-74d4-489a-bfcb-c689ebe3793f",
   "metadata": {},
   "outputs": [
    {
     "name": "stdout",
     "output_type": "stream",
     "text": [
      "Number of instances: 3\n",
      "Number of instances: 4\n"
     ]
    }
   ],
   "source": [
    "### Example of class method\n",
    "\n",
    "class MyClass:\n",
    "    num_instances = 0 # This is the attribute of class, not for any specific instance\n",
    "    \n",
    "    def __init__(self, data): # initialize an object/instance\n",
    "        self.data = data\n",
    "        MyClass.num_instances += 1 # increase the number of instance of this class after initializing an object\n",
    "    \n",
    "    @classmethod # symbol of classmethod\n",
    "    def get_num_instances(cls): \n",
    "        # The parameter is `cls` refer to the class, but not the object. `self` is used to refer instance\n",
    "        return cls.num_instances\n",
    "\n",
    "# Creating instances of MyClass\n",
    "obj1 = MyClass(\"data1\")\n",
    "obj2 = MyClass(\"data2\")\n",
    "obj3 = MyClass(\"data3\")\n",
    "\n",
    "# Accessing class method\n",
    "print(\"Number of instances:\", MyClass.get_num_instances())\n",
    "\n",
    "obj4 = MyClass('hello')\n",
    "# Accessing class method\n",
    "print(\"Number of instances:\", MyClass.get_num_instances())\n"
   ]
  },
  {
   "cell_type": "code",
   "execution_count": 96,
   "id": "7fcc9024-4e3a-411e-8019-71040d26e4e2",
   "metadata": {},
   "outputs": [
    {
     "name": "stdout",
     "output_type": "stream",
     "text": [
      "The number of cars is: 2\n"
     ]
    }
   ],
   "source": [
    "### Example of class method\n",
    "\n",
    "class Car:\n",
    "    num_cars = 0 # class-level variable to record of the number of cars\n",
    "\n",
    "    def __init__(self, make, model):\n",
    "        self.make = make\n",
    "        self.model = model\n",
    "        Car.num_cars += 1 # Increase num_cars each time a new car is created\n",
    "    \n",
    "    @classmethod\n",
    "    def from_string(cls, car_string): # class-level method, used to create new instance\n",
    "        make, model = car_string.split(',')\n",
    "        # Here 'cls' used to call the constructor method '__init__', and create a new object\n",
    "        return cls(make, model) # Create and return a new Car instance, \n",
    "\n",
    "    @classmethod\n",
    "    def display_num_cars(cls): # display the number of created objects/instances of class 'Car'\n",
    "        print(f'The number of cars is: {cls.num_cars}')\n",
    "\n",
    "car1 = Car('Toyota', 'Camry')\n",
    "car2 = Car.from_string('Ford, JK009')\n",
    "\n",
    "Car.display_num_cars()"
   ]
  },
  {
   "cell_type": "code",
   "execution_count": 97,
   "id": "ddc97d98-a65e-4d78-b4c3-762171b86555",
   "metadata": {},
   "outputs": [
    {
     "name": "stdout",
     "output_type": "stream",
     "text": [
      "8\n",
      "6\n",
      "12\n"
     ]
    }
   ],
   "source": [
    "### Example of static method. \n",
    "\n",
    "## Static method used for the parameters directly, without creating any instance\n",
    "class MathUtils:\n",
    "    \n",
    "    @staticmethod # specify a static method\n",
    "    def add(x, y):\n",
    "        return x + y\n",
    "\n",
    "    @staticmethod\n",
    "    def subtract(x, y):\n",
    "        return x - y\n",
    "\n",
    "    @staticmethod\n",
    "    def multiply(x, y):\n",
    "        return x * y\n",
    "\n",
    "# Using the static methods without needing to create an instance of MathUtils\n",
    "print(MathUtils.add(5, 3))       # Output: 8\n",
    "print(MathUtils.subtract(10, 4))  # Output: 6\n",
    "print(MathUtils.multiply(2, 6))   # Output: 12\n"
   ]
  },
  {
   "cell_type": "code",
   "execution_count": 98,
   "id": "e78bdd8a-778a-4e59-b43d-5d3dc40f1929",
   "metadata": {},
   "outputs": [
    {
     "name": "stdout",
     "output_type": "stream",
     "text": [
      "True\n",
      "2\n"
     ]
    }
   ],
   "source": [
    "### Example of static method\n",
    "\n",
    "class StringUtils:\n",
    "    @staticmethod\n",
    "    def is_palindrome(word):\n",
    "        word = word.lower()\n",
    "        return word == word[::-1]\n",
    "\n",
    "    @staticmethod\n",
    "    def count_vowels(word):\n",
    "        vowels = 'aeiou'\n",
    "        count = 0\n",
    "        for char in word.lower():\n",
    "            if char in vowels:\n",
    "                count += 1\n",
    "        return count\n",
    "\n",
    "# Using the static methods\n",
    "print(StringUtils.is_palindrome(\"radar\"))  # Output: True\n",
    "print(StringUtils.count_vowels(\"hello\"))   # Output: 2\n"
   ]
  },
  {
   "cell_type": "code",
   "execution_count": 101,
   "id": "db61b814-59fc-481b-a8d2-4a436fb16661",
   "metadata": {},
   "outputs": [
    {
     "name": "stdout",
     "output_type": "stream",
     "text": [
      "The result is: 8\n",
      "The result is: 6\n",
      "The result is: reuslz\n"
     ]
    }
   ],
   "source": [
    "### Example of use both class method and static method\n",
    "\n",
    "class MathUtils:\n",
    "    @classmethod # define the class method, which can be used directly by class, not by instance\n",
    "    def add(cls, x, y): # cls is necessary\n",
    "        return cls.format_result(x + y) # will \n",
    "\n",
    "    @classmethod\n",
    "    def subtract(cls, x, y):\n",
    "        return cls.format_result(x - y)\n",
    "\n",
    "    @staticmethod # define static method, that can be directly used by class, dont need creating instance\n",
    "    def format_result(result): # no `cls`, like a regular function\n",
    "        return f\"The result is: {result}\"\n",
    "\n",
    "# Using class methods and static methods\n",
    "\n",
    "# Calling class method `add` firstly, and inside `add` calling `format_results`, the static method\n",
    "print(MathUtils.add(5, 3))        \n",
    "print(MathUtils.subtract(10, 4))  # Output: The result is: 6\n",
    "\n"
   ]
  },
  {
   "cell_type": "code",
   "execution_count": 103,
   "id": "77c50c20-9751-4457-a92a-da65afd7ad67",
   "metadata": {},
   "outputs": [
    {
     "name": "stdout",
     "output_type": "stream",
     "text": [
      "Circle 1:\n",
      "Area: 78.53981633974483\n",
      "Perimeter: 31.41592653589793\n",
      "\n",
      "Circle 2:\n",
      "Area: 78.53981633974483\n",
      "Perimeter: 31.41592653589793\n"
     ]
    }
   ],
   "source": [
    "### Example of use both class method and static method\n",
    "\n",
    "import math\n",
    "\n",
    "class ShapeUtils:\n",
    "    @staticmethod\n",
    "    def calculate_area(radius): # Static method for calculate are\n",
    "        return math.pi * radius ** 2\n",
    "\n",
    "    @staticmethod\n",
    "    def calculate_perimeter(radius):\n",
    "        return 2 * math.pi * radius\n",
    "\n",
    "class Circle:\n",
    "    def __init__(self, radius): # Initilaize an object, and pass the radius\n",
    "        self.radius = radius\n",
    "\n",
    "    def area(self): # Regular method for object/instance that of this class\n",
    "        # The class `ShapeUtils` already defined above, which has the static method `calculate_area`\n",
    "        # So we can dirctly call it here, and pass the radius of the new created object to it\n",
    "        return ShapeUtils.calculate_area(self.radius) \n",
    "\n",
    "    def perimeter(self):\n",
    "        return ShapeUtils.calculate_perimeter(self.radius)\n",
    "\n",
    "    @classmethod \n",
    "    def from_diameter(cls, diameter): # Define the class method for `cls` use it to create new object\n",
    "        radius = diameter / 2\n",
    "        return cls(radius)\n",
    "\n",
    "# Creating circles using different methods\n",
    "circle1 = Circle(5)\n",
    "circle2 = Circle.from_diameter(10)\n",
    "\n",
    "# Accessing area and perimeter using instance methods\n",
    "print(\"Circle 1:\")\n",
    "print(\"Area:\", circle1.area())\n",
    "print(\"Perimeter:\", circle1.perimeter())\n",
    "\n",
    "print(\"\\nCircle 2:\")\n",
    "print(\"Area:\", circle2.area())\n",
    "print(\"Perimeter:\", circle2.perimeter())\n",
    "\n"
   ]
  }
 ],
 "metadata": {
  "kernelspec": {
   "display_name": "Python 3 (ipykernel)",
   "language": "python",
   "name": "python3"
  },
  "language_info": {
   "codemirror_mode": {
    "name": "ipython",
    "version": 3
   },
   "file_extension": ".py",
   "mimetype": "text/x-python",
   "name": "python",
   "nbconvert_exporter": "python",
   "pygments_lexer": "ipython3",
   "version": "3.11.7"
  }
 },
 "nbformat": 4,
 "nbformat_minor": 5
}
