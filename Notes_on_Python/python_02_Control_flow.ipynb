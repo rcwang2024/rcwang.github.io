{
 "cells": [
  {
   "cell_type": "markdown",
   "id": "0b09efec-dd29-4acd-bb93-55188588833d",
   "metadata": {},
   "source": [
    "# Python: Control flow"
   ]
  },
  {
   "cell_type": "markdown",
   "id": "d8fea2a6-37c2-4647-ae13-86231a68c457",
   "metadata": {},
   "source": [
    "## This Notebook includs following aspects about Python Control flow\n",
    "> Important Knowledges of What, Why and How\n",
    ">\n",
    "> Practice with examles\n",
    ">\n",
    "> My summary"
   ]
  },
  {
   "cell_type": "markdown",
   "id": "1a43c8ac-d46e-41f6-9972-9879c8983106",
   "metadata": {},
   "source": [
    "## The control flow in python including the key concepts like:\n",
    "\n",
    "- **if**, **else**, **elif**. Conditional statement, used for branching the flow, \n",
    "  \n",
    "- **for**, **while**. Loops, used for looping the chunk of scripts\n",
    "  \n",
    "- **pass**, **continue**, **break**. Loop control statement \n",
    "\n",
    "- **try**, **except**, **finally**, Error handling\n",
    "\n",
    "- Iterable and iterable **_unpacking_**\n",
    "\n",
    "- List **_Comprehensions_**, using the loop to build a list\n",
    "\n",
    "- Generator Expression\n",
    "\n",
    "- Optimization of control flow\n",
    "> Avoid unnecessary nested loops\n",
    "> Avoid excessive using of control flow\n",
    "\n"
   ]
  },
  {
   "cell_type": "markdown",
   "id": "c37ffe31-ab52-4d3a-b3dd-82d4a44ecf7f",
   "metadata": {},
   "source": [
    "## Let's start with `if`, `else`, `elif`\n",
    "- Sentence starts with `if` will first check the expression behind `if`,  and then decide whether to continue the following expressions after `:`\n",
    "\n",
    "- if the value is `True` will execute the following expression, otherwise will not execute.\n",
    "\n",
    "- The value following `if` could be any kind of expressions, but it should return `True` or `False`.\n",
    "  > All the empyty objects (like empyt string list tuple dict), 0 and `False` itself will return a value of **False**\n",
    "  \n",
    "  > All the other objects, even negative values will return **True**\n",
    "\n",
    "- Usually, there exists `else`, used to perform the other expressions when the condition of `if` failed (value is `False`). Then, we will have two branches of the flow of execution.\n",
    "\n",
    "- Also, some time if we want to make more than two branches, we need to use `elif`, which is short of `else if`, to check whether the interested conditions are `True`, and deciding the branch to be executed.\n",
    "\n",
    "- When using `elif`, the conditions for branchs should be exclusive to each other.\n"
   ]
  },
  {
   "cell_type": "code",
   "execution_count": 19,
   "id": "61f969b2-adeb-4dad-8307-774425198d46",
   "metadata": {},
   "outputs": [
    {
     "name": "stdout",
     "output_type": "stream",
     "text": [
      "this is -1\n",
      "this is a string\n",
      "string\n",
      "good\n"
     ]
    }
   ],
   "source": [
    "##+++\n",
    "# example of if, else, elif\n",
    "##+++\n",
    "\n",
    "from IPython.core.interactiveshell import InteractiveShell\n",
    "InteractiveShell.ast_node_interactivity = 'all'\n",
    "\n",
    "if -1:\n",
    "    print('this is -1')\n",
    "\n",
    "a = 3\n",
    "b = 5\n",
    "if a>b:\n",
    "    print('3 is greater than 5') # not executed\n",
    "if 'string':\n",
    "    print('this is a string') # \n",
    "if []:\n",
    "    print('this is a empyth list')\n",
    "\n",
    "if 'string':\n",
    "    print('string')\n",
    "else:\n",
    "    print('not a string')\n",
    "\n",
    "grade = 89\n",
    "if grade < 60:\n",
    "    print('falied')\n",
    "elif grade > 60 and grade < 90:\n",
    "    print('good')\n",
    "elif grade >= 90 and grade < 100:\n",
    "    print('very good')\n",
    "else:\n",
    "    print('Not a proper grade')\n",
    "\n"
   ]
  },
  {
   "cell_type": "markdown",
   "id": "afe79e73-e94e-4de3-8118-266e3cf1585b",
   "metadata": {},
   "source": [
    "## About `for item in items:` \n",
    "\n",
    "- `for` loop used to iterate over a sequence of elements one by one. It allows people to excute a block of code repeately for each item in a sequence.\n",
    "  \n",
    "- The sequence must be iterable and orderable, such as list, tuple, string, range and dictionary\n",
    "  \n",
    "- `break`, `continue` and `pass` can be used to control the loop together with `if`\n",
    "  \n",
    "- `enumerate()` allows people to loop both the index and values of items in a sequence\n",
    "  \n",
    "- `zip()` allows looping two or more sequences of same length\n",
    "  \n",
    "- Nested loops are also very common. However too much layers of nested loops are not suggested, since it will make the code difficult to understand.\n",
    "  \n",
    "- Regarding looping dictonary, the `dic.items()` `dict.keys()` `dict.values()` are usually required.\n",
    "  \n",
    "- `range()` usually applied in the `for` loop to iterate a structured sequence of values\n",
    "\n",
    "- `else` could also be used with `for` loop. it usually applied in nested for loops, together with the application of `if`\n",
    "\n",
    "- The sequence can be sorted in advance for looping, where we can use for example `sorted()` function"
   ]
  },
  {
   "cell_type": "markdown",
   "id": "832098a6-c6c5-4654-aa94-82d17a77bad9",
   "metadata": {},
   "source": [
    "### Examples of `for` loop:"
   ]
  },
  {
   "cell_type": "code",
   "execution_count": 68,
   "id": "3cf2e976-c3fa-4364-b4ea-6c5d5a2a1d02",
   "metadata": {
    "scrolled": true
   },
   "outputs": [
    {
     "name": "stdout",
     "output_type": "stream",
     "text": [
      "a\n",
      "hello\n",
      "python\n",
      "23\n",
      "47\n",
      "34\n",
      "22\n",
      "98\n",
      "The item of index 0 is: a\n",
      "The item of index 1 is: hello\n",
      "The item of index 2 is: python\n",
      "The item of index 3 is: 23\n",
      "The item of index 4 is: 47\n",
      "The item of index 5 is: 34\n",
      "The item of index 6 is: 22\n",
      "The item of index 7 is: 98\n",
      "\n"
     ]
    }
   ],
   "source": [
    "a_seq = ['a', 'hello', 'python', 23, 47, 34, 22, 98]\n",
    "for item in a_seq: # loop all the items one by one\n",
    "    print(item) \n",
    "\n",
    "## using enumerate()\n",
    "for ind, item in enumerate(a_seq): # using enumerate\n",
    "    print(f'The item of index {ind} is: {item}')\n",
    "print()\n"
   ]
  },
  {
   "cell_type": "code",
   "execution_count": 69,
   "id": "5325945d-6046-4f3e-adec-c51db6b4ce31",
   "metadata": {},
   "outputs": [
    {
     "name": "stdout",
     "output_type": "stream",
     "text": [
      "The item of index 0 is: a\n",
      "The item of index 2 is: python\n",
      "The item of index 4 is: 47\n",
      "The item of index 6 is: 22\n",
      "the index is odd, discarding\n",
      "\n"
     ]
    }
   ],
   "source": [
    "## using else couple for \n",
    "for ind, item in enumerate(a_seq):\n",
    "    if ind % 2 == 0: # using if to check the index\n",
    "        print(f'The item of index {ind} is: {item}')\n",
    "else: # using else for the other items not processed, coupled with the 'for' loop\n",
    "    print('the index is odd, discarding')\n",
    "print()\n"
   ]
  },
  {
   "cell_type": "code",
   "execution_count": 71,
   "id": "b0871826-4bdd-4cd4-b9d1-a16c49a807b7",
   "metadata": {},
   "outputs": [],
   "source": [
    "## using break to stop the loop when given condition satisfied\n",
    "for ind, item in enumerate(a_seq):\n",
    "    if ind%2 == 0:\n",
    "        break # will stop the loop if the condition satisfied, and the following parts of the loop will not be executed \n",
    "else: # coupled with for loop and will running, due to the break\n",
    "    print('The index is even, and the loop is stoped') # not print out"
   ]
  },
  {
   "cell_type": "code",
   "execution_count": 72,
   "id": "c58dbf31-3a71-4608-8bd5-9fe5e4221681",
   "metadata": {},
   "outputs": [
    {
     "name": "stdout",
     "output_type": "stream",
     "text": [
      "The item of index 1 is: hello\n",
      "The item of index 3 is: 23\n",
      "The item of index 5 is: 34\n",
      "The item of index 7 is: 98\n",
      "The loop is done\n",
      "\n"
     ]
    }
   ],
   "source": [
    "## using ‘continue’ to continue the loop when condition satisfied. Meaning move to the next item \n",
    "for ind, item in enumerate(a_seq):\n",
    "    if ind%2 == 0:\n",
    "        continue # will do nothing of this item, just continue to the next item\n",
    "        print('I am the expression after Contnue') # will not print out \n",
    "    else:\n",
    "        print(f'The item of index {ind} is: {item}')\n",
    "else:\n",
    "    print(\"The loop is done\")\n",
    "print()"
   ]
  },
  {
   "cell_type": "code",
   "execution_count": 73,
   "id": "8ee060c4-5822-4463-8b6a-305ba415acf6",
   "metadata": {},
   "outputs": [
    {
     "name": "stdout",
     "output_type": "stream",
     "text": [
      "I am the expression after Pass\n",
      "I am index 0 and my value is a\n",
      "The item of index 1 is: hello\n",
      "I am the expression after Pass\n",
      "I am index 2 and my value is python\n",
      "The item of index 3 is: 23\n",
      "I am the expression after Pass\n",
      "I am index 4 and my value is 47\n",
      "The item of index 5 is: 34\n",
      "I am the expression after Pass\n",
      "I am index 6 and my value is 22\n",
      "The item of index 7 is: 98\n",
      "The loop is done again\n",
      "\n"
     ]
    }
   ],
   "source": [
    "## using pass, will do nothing at the current position, and continue the following \n",
    "for ind, item in enumerate(a_seq):\n",
    "    if ind%2 == 0:\n",
    "        pass # will do nothing and continue the flow of current loop\n",
    "        print('I am the expression after Pass') # will print out this sentence\n",
    "        print(f'I am index {ind} and my value is {item}')\n",
    "    else:\n",
    "        print(f'The item of index {ind} is: {item}')\n",
    "else:\n",
    "    print(\"The loop is done again\")\n",
    "print()"
   ]
  },
  {
   "cell_type": "code",
   "execution_count": 74,
   "id": "5b9bdcea-9f18-4390-a872-79f1ec7fea0f",
   "metadata": {},
   "outputs": [
    {
     "name": "stdout",
     "output_type": "stream",
     "text": [
      "0\n",
      "1\n",
      "256\n",
      "6561\n",
      "65536\n",
      "\n",
      "0\n",
      "1048576\n",
      "1099511627776\n",
      "\n"
     ]
    }
   ],
   "source": [
    "## using range()\n",
    "for i in range(5):\n",
    "    print(i**8)\n",
    "print()\n",
    "for i in range(0, 5, 2): # range(start, end, step)\n",
    "    print(i**20)\n",
    "print()"
   ]
  },
  {
   "cell_type": "code",
   "execution_count": 75,
   "id": "ba6a2e86-502c-4190-bc2b-4a8abd3295f7",
   "metadata": {},
   "outputs": [
    {
     "name": "stdout",
     "output_type": "stream",
     "text": [
      "Number 1, Str s, Element hello\n",
      "Number 2, Str t, Element python\n",
      "Number 3, Str r, Element how\n",
      "Number 4, Str i, Element do\n",
      "Number 5, Str n, Element you\n",
      "Number 6, Str g, Element do\n"
     ]
    }
   ],
   "source": [
    "## using zip()\n",
    "a_list = [1, 2, 3, 4, 5, 6]\n",
    "b_str = \"string\"\n",
    "c_tuple = ('hello', 'python', 'how', 'do', 'you', 'do')\n",
    "for a, b, c in zip(a_list, b_str, c_tuple): # will couple this three different types sequence and loop them together\n",
    "    print(f'Number {a}, Str {b}, Element {c}')\n"
   ]
  },
  {
   "cell_type": "code",
   "execution_count": 76,
   "id": "46802048-9bb8-4ee5-b90a-79725751686d",
   "metadata": {
    "scrolled": true
   },
   "outputs": [
    {
     "name": "stdout",
     "output_type": "stream",
     "text": [
      "a is 1, b is s, c is hello\n",
      "a is 1, b is s, c is python\n",
      "a is 1, b is s, c is how\n",
      "a is 1, b is s, c is do\n",
      "a is 1, b is s, c is you\n",
      "a is 1, b is s, c is do\n",
      "a is 1, b is t, c is hello\n",
      "a is 1, b is t, c is python\n",
      "a is 1, b is t, c is how\n",
      "a is 1, b is t, c is do\n",
      "a is 1, b is t, c is you\n",
      "a is 1, b is t, c is do\n",
      "a is 1, b is r, c is hello\n",
      "a is 1, b is r, c is python\n",
      "a is 1, b is r, c is how\n",
      "a is 1, b is r, c is do\n",
      "a is 1, b is r, c is you\n",
      "a is 1, b is r, c is do\n",
      "a is 1, b is i, c is hello\n",
      "a is 1, b is i, c is python\n",
      "a is 1, b is i, c is how\n",
      "a is 1, b is i, c is do\n",
      "a is 1, b is i, c is you\n",
      "a is 1, b is i, c is do\n",
      "a is 1, b is n, c is hello\n",
      "a is 1, b is n, c is python\n",
      "a is 1, b is n, c is how\n",
      "a is 1, b is n, c is do\n",
      "a is 1, b is n, c is you\n",
      "a is 1, b is n, c is do\n",
      "a is 1, b is g, c is hello\n",
      "a is 1, b is g, c is python\n",
      "a is 1, b is g, c is how\n",
      "a is 1, b is g, c is do\n",
      "a is 1, b is g, c is you\n",
      "a is 1, b is g, c is do\n",
      "a is 2, b is s, c is hello\n",
      "a is 2, b is s, c is python\n",
      "a is 2, b is s, c is how\n",
      "a is 2, b is s, c is do\n",
      "a is 2, b is s, c is you\n",
      "a is 2, b is s, c is do\n",
      "a is 2, b is t, c is hello\n",
      "a is 2, b is t, c is python\n",
      "a is 2, b is t, c is how\n",
      "a is 2, b is t, c is do\n",
      "a is 2, b is t, c is you\n",
      "a is 2, b is t, c is do\n",
      "a is 2, b is r, c is hello\n",
      "a is 2, b is r, c is python\n",
      "a is 2, b is r, c is how\n",
      "a is 2, b is r, c is do\n",
      "a is 2, b is r, c is you\n",
      "a is 2, b is r, c is do\n",
      "a is 2, b is i, c is hello\n",
      "a is 2, b is i, c is python\n",
      "a is 2, b is i, c is how\n",
      "a is 2, b is i, c is do\n",
      "a is 2, b is i, c is you\n",
      "a is 2, b is i, c is do\n",
      "a is 2, b is n, c is hello\n",
      "a is 2, b is n, c is python\n",
      "a is 2, b is n, c is how\n",
      "a is 2, b is n, c is do\n",
      "a is 2, b is n, c is you\n",
      "a is 2, b is n, c is do\n",
      "a is 2, b is g, c is hello\n",
      "a is 2, b is g, c is python\n",
      "a is 2, b is g, c is how\n",
      "a is 2, b is g, c is do\n",
      "a is 2, b is g, c is you\n",
      "a is 2, b is g, c is do\n",
      "a is 3, b is s, c is hello\n",
      "a is 3, b is s, c is python\n",
      "a is 3, b is s, c is how\n",
      "a is 3, b is s, c is do\n",
      "a is 3, b is s, c is you\n",
      "a is 3, b is s, c is do\n",
      "a is 3, b is t, c is hello\n",
      "a is 3, b is t, c is python\n",
      "a is 3, b is t, c is how\n",
      "a is 3, b is t, c is do\n",
      "a is 3, b is t, c is you\n",
      "a is 3, b is t, c is do\n",
      "a is 3, b is r, c is hello\n",
      "a is 3, b is r, c is python\n",
      "a is 3, b is r, c is how\n",
      "a is 3, b is r, c is do\n",
      "a is 3, b is r, c is you\n",
      "a is 3, b is r, c is do\n",
      "a is 3, b is i, c is hello\n",
      "a is 3, b is i, c is python\n",
      "a is 3, b is i, c is how\n",
      "a is 3, b is i, c is do\n",
      "a is 3, b is i, c is you\n",
      "a is 3, b is i, c is do\n",
      "a is 3, b is n, c is hello\n",
      "a is 3, b is n, c is python\n",
      "a is 3, b is n, c is how\n",
      "a is 3, b is n, c is do\n",
      "a is 3, b is n, c is you\n",
      "a is 3, b is n, c is do\n",
      "a is 3, b is g, c is hello\n",
      "a is 3, b is g, c is python\n",
      "a is 3, b is g, c is how\n",
      "a is 3, b is g, c is do\n",
      "a is 3, b is g, c is you\n",
      "a is 3, b is g, c is do\n",
      "a is 4, b is s, c is hello\n",
      "a is 4, b is s, c is python\n",
      "a is 4, b is s, c is how\n",
      "a is 4, b is s, c is do\n",
      "a is 4, b is s, c is you\n",
      "a is 4, b is s, c is do\n",
      "a is 4, b is t, c is hello\n",
      "a is 4, b is t, c is python\n",
      "a is 4, b is t, c is how\n",
      "a is 4, b is t, c is do\n",
      "a is 4, b is t, c is you\n",
      "a is 4, b is t, c is do\n",
      "a is 4, b is r, c is hello\n",
      "a is 4, b is r, c is python\n",
      "a is 4, b is r, c is how\n",
      "a is 4, b is r, c is do\n",
      "a is 4, b is r, c is you\n",
      "a is 4, b is r, c is do\n",
      "a is 4, b is i, c is hello\n",
      "a is 4, b is i, c is python\n",
      "a is 4, b is i, c is how\n",
      "a is 4, b is i, c is do\n",
      "a is 4, b is i, c is you\n",
      "a is 4, b is i, c is do\n",
      "a is 4, b is n, c is hello\n",
      "a is 4, b is n, c is python\n",
      "a is 4, b is n, c is how\n",
      "a is 4, b is n, c is do\n",
      "a is 4, b is n, c is you\n",
      "a is 4, b is n, c is do\n",
      "a is 4, b is g, c is hello\n",
      "a is 4, b is g, c is python\n",
      "a is 4, b is g, c is how\n",
      "a is 4, b is g, c is do\n",
      "a is 4, b is g, c is you\n",
      "a is 4, b is g, c is do\n",
      "a is 5, b is s, c is hello\n",
      "a is 5, b is s, c is python\n",
      "a is 5, b is s, c is how\n",
      "a is 5, b is s, c is do\n",
      "a is 5, b is s, c is you\n",
      "a is 5, b is s, c is do\n",
      "a is 5, b is t, c is hello\n",
      "a is 5, b is t, c is python\n",
      "a is 5, b is t, c is how\n",
      "a is 5, b is t, c is do\n",
      "a is 5, b is t, c is you\n",
      "a is 5, b is t, c is do\n",
      "a is 5, b is r, c is hello\n",
      "a is 5, b is r, c is python\n",
      "a is 5, b is r, c is how\n",
      "a is 5, b is r, c is do\n",
      "a is 5, b is r, c is you\n",
      "a is 5, b is r, c is do\n",
      "a is 5, b is i, c is hello\n",
      "a is 5, b is i, c is python\n",
      "a is 5, b is i, c is how\n",
      "a is 5, b is i, c is do\n",
      "a is 5, b is i, c is you\n",
      "a is 5, b is i, c is do\n",
      "a is 5, b is n, c is hello\n",
      "a is 5, b is n, c is python\n",
      "a is 5, b is n, c is how\n",
      "a is 5, b is n, c is do\n",
      "a is 5, b is n, c is you\n",
      "a is 5, b is n, c is do\n",
      "a is 5, b is g, c is hello\n",
      "a is 5, b is g, c is python\n",
      "a is 5, b is g, c is how\n",
      "a is 5, b is g, c is do\n",
      "a is 5, b is g, c is you\n",
      "a is 5, b is g, c is do\n",
      "a is 6, b is s, c is hello\n",
      "a is 6, b is s, c is python\n",
      "a is 6, b is s, c is how\n",
      "a is 6, b is s, c is do\n",
      "a is 6, b is s, c is you\n",
      "a is 6, b is s, c is do\n",
      "a is 6, b is t, c is hello\n",
      "a is 6, b is t, c is python\n",
      "a is 6, b is t, c is how\n",
      "a is 6, b is t, c is do\n",
      "a is 6, b is t, c is you\n",
      "a is 6, b is t, c is do\n",
      "a is 6, b is r, c is hello\n",
      "a is 6, b is r, c is python\n",
      "a is 6, b is r, c is how\n",
      "a is 6, b is r, c is do\n",
      "a is 6, b is r, c is you\n",
      "a is 6, b is r, c is do\n",
      "a is 6, b is i, c is hello\n",
      "a is 6, b is i, c is python\n",
      "a is 6, b is i, c is how\n",
      "a is 6, b is i, c is do\n",
      "a is 6, b is i, c is you\n",
      "a is 6, b is i, c is do\n",
      "a is 6, b is n, c is hello\n",
      "a is 6, b is n, c is python\n",
      "a is 6, b is n, c is how\n",
      "a is 6, b is n, c is do\n",
      "a is 6, b is n, c is you\n",
      "a is 6, b is n, c is do\n",
      "a is 6, b is g, c is hello\n",
      "a is 6, b is g, c is python\n",
      "a is 6, b is g, c is how\n",
      "a is 6, b is g, c is do\n",
      "a is 6, b is g, c is you\n",
      "a is 6, b is g, c is do\n"
     ]
    }
   ],
   "source": [
    "## Nested for loops\n",
    "a_list = [1, 2, 3, 4, 5, 6]\n",
    "b_str = \"string\"\n",
    "c_tuple = ('hello', 'python', 'how', 'do', 'you', 'do')\n",
    "for a in a_list: # loop a\n",
    "    for b in b_str: # loop b under each a\n",
    "        for c in c_tuple: # loop c under each b\n",
    "            print(f'a is {a}, b is {b}, c is {c}') # will firstly loop c under each b, and loop the chunk 'loop c under each b' under each a\n"
   ]
  },
  {
   "cell_type": "code",
   "execution_count": 77,
   "id": "8974288d-100e-45ae-b4d2-d337ed20bceb",
   "metadata": {},
   "outputs": [
    {
     "name": "stdout",
     "output_type": "stream",
     "text": [
      "name1 is charles, and it's length is: 7\n",
      "name2 is alex, and it's length is: 4\n",
      "name3 is benjamin, and it's length is: 8\n",
      "name4 is luna, and it's length is: 4\n",
      "name5 is juna, and it's length is: 4\n",
      "name6 is dana, and it's length is: 4\n",
      "name1\n",
      "name2\n",
      "name3\n",
      "name4\n",
      "name5\n",
      "name6\n",
      "Charles\n",
      "Alex\n",
      "Benjamin\n",
      "Luna\n",
      "Juna\n",
      "Dana\n"
     ]
    }
   ],
   "source": [
    "## Loops regarding dictionary\n",
    "names = {'name1': 'charles', 'name2': 'alex','name3': 'benjamin',\n",
    "         'name4': 'luna', 'name5': 'juna', 'name6': 'dana'}\n",
    "for key, name in names.items(): # loop items\n",
    "    print(f'{key} is {name}, and it\\'s length is:', len(name))\n",
    "for key in names.keys(): # loop keys\n",
    "    print(key)\n",
    "for value in names.values(): # loop values\n",
    "    print(value.capitalize())\n",
    "    "
   ]
  },
  {
   "cell_type": "markdown",
   "id": "1b649113-4408-40b7-8f39-86f209f6227f",
   "metadata": {},
   "source": [
    "## About `while condition: ... modify(condition)` \n",
    "\n",
    "- `while` loop used to excute a code block, as long as the condition satisfied\n",
    "- Usually, there is a start condition, which is true for the startuing of the while loop. During each round of a loop, the condition will be modified. Finally the condition will not be satisfied, and the `while` loop stoped.\n",
    "- These steps are called **variable condition**, **initialization**, **code block**, **modifying variable of condition**, **termination**.\n",
    "- Be careful, there must be an mechinism of terminate the while loop, otherwise will cause errors\n",
    "- For the other aspects, like couple with `else`, neseted loop, `while` and `for` are similar\n",
    "- \n",
    "  "
   ]
  },
  {
   "cell_type": "markdown",
   "id": "24798635-cdb8-44d9-a1d6-0869fe26e3a2",
   "metadata": {},
   "source": [
    "### Example of `while` loop:"
   ]
  },
  {
   "cell_type": "code",
   "execution_count": 78,
   "id": "258305ea-7b34-4c79-9822-6e0c5f2dd3d4",
   "metadata": {
    "scrolled": true
   },
   "outputs": [
    {
     "name": "stdout",
     "output_type": "stream",
     "text": [
      "the flag is true\n",
      "the flag is false, and the loop is ended\n"
     ]
    }
   ],
   "source": [
    "flag = True # variable of condition\n",
    "while flag:\n",
    "    print('the flag is true')\n",
    "    flag = False\n",
    "    print('the flag is false, and the loop is ended')\n"
   ]
  },
  {
   "cell_type": "code",
   "execution_count": 79,
   "id": "09d4d8f9-88af-4e39-aa9a-bd3fa41201b5",
   "metadata": {},
   "outputs": [
    {
     "name": "stdout",
     "output_type": "stream",
     "text": [
      "the number is 0 now, less than 10, and the loop will continue\n",
      "the number is 1 now, less than 10, and the loop will continue\n",
      "the number is 2 now, less than 10, and the loop will continue\n",
      "the number is 3 now, less than 10, and the loop will continue\n",
      "the number is 4 now, less than 10, and the loop will continue\n",
      "the number is 5 now, less than 10, and the loop will continue\n",
      "the number is 6 now, less than 10, and the loop will continue\n",
      "the number is 7 now, less than 10, and the loop will continue\n",
      "the number is 8 now, less than 10, and the loop will continue\n",
      "the number is 9 now, less than 10, and the loop will continue\n",
      "the number is 10 now, not less than 10, and the loop ended\n"
     ]
    }
   ],
   "source": [
    "num = 0\n",
    "while num<10:\n",
    "    print(f'the number is {num} now, less than 10, and the loop will continue')\n",
    "    num += 1\n",
    "else:\n",
    "    print(f'the number is {num} now, not less than 10, and the loop ended')\n"
   ]
  },
  {
   "cell_type": "code",
   "execution_count": 80,
   "id": "2d6d8056-1251-4b88-b20a-ec13865f1a2b",
   "metadata": {},
   "outputs": [
    {
     "name": "stdout",
     "output_type": "stream",
     "text": [
      "h\n",
      "e\n",
      "l\n",
      "l\n",
      "o\n",
      ",\n",
      " \n",
      "p\n",
      "y\n",
      "t\n",
      "h\n",
      "o\n",
      "n\n",
      "All the elements in the while loop are executed now\n"
     ]
    }
   ],
   "source": [
    "ind = 0\n",
    "a_str = 'hello, python'\n",
    "while ind<len(a_str):\n",
    "    print(a_str[ind])\n",
    "    ind += 1\n",
    "else:\n",
    "    print('All the elements in the while loop are executed now')"
   ]
  },
  {
   "cell_type": "markdown",
   "id": "f037550f-bbb8-40f0-9526-d390c235ba3c",
   "metadata": {},
   "source": [
    "## About error handling with `try: ... except: ... finally:...`\n",
    "\n",
    "Error handling, also known as exception handling, is a crucial aspect of programming that allows prople to manage unexpected situations or errors that may occur during program execution. When the `try` run into a exception, the flow will jump to the `except` block, And will move to the `finally` block if this part provided. Also, the excution flow can move to `else` block that couple with `except` block. \n",
    "\n",
    "In the following are the common types of exception handling\n",
    "\n",
    "- **try-except**. the block under `try`may arise exception, and the block under 'except' will be excuted if exception raised\n",
    "\n",
    "- **multiple except blocks**. dealing with multiple exceptions.\n",
    "\n",
    "- **else block**. The block of `else` can be used following the `try-except` block.\n",
    "\n",
    "- **finally block**. this block will be exceuted any way, regardless of the exceptions, usually placed at the end of `try-except` block.\n",
    "\n",
    "- **nultiple exceptions** can be put multiple error types into the `except` block.\n",
    "\n",
    "The common exception types that specified after `except`:\n",
    "> ZeroDivisionError. result = 10/0\n",
    ">\n",
    "> ValueError. int('aba')\n",
    ">\n",
    "> TypeError. 'Hell0'/2\n",
    ">\n",
    "> IndexError. lst = [1, 2]; ind = lst[5]\n",
    ">\n",
    "> KeyError. The key is not existed in dict\n",
    ">\n",
    "> FileNotFoundError. The file is not exsted in the address\n",
    ">\n",
    "> ImportError. Module, function or variable not existed when importing\n",
    ">\n",
    "> AttributeError. Raised when an attribute reference or assignment fails\n",
    ">\n",
    "> NameError. The used variable is not defined in advance"
   ]
  },
  {
   "cell_type": "markdown",
   "id": "8165ab1f-3237-4d48-a1e0-67a3d55c618a",
   "metadata": {},
   "source": [
    "### Examples of exception handling: "
   ]
  },
  {
   "cell_type": "code",
   "execution_count": 81,
   "id": "38feb5a5-df5e-43c1-9d5f-911fa8e1bf13",
   "metadata": {},
   "outputs": [
    {
     "name": "stdout",
     "output_type": "stream",
     "text": [
      "division by zero is not allowed\n"
     ]
    }
   ],
   "source": [
    "## basically use of try-except\n",
    "try:\n",
    "    zero_div = 10/0\n",
    "except ZeroDivisionError:\n",
    "    print('division by zero is not allowed')\n",
    "    "
   ]
  },
  {
   "cell_type": "code",
   "execution_count": 82,
   "id": "7daa84ef-f1e1-4b17-a648-70f128b704df",
   "metadata": {},
   "outputs": [
    {
     "name": "stdout",
     "output_type": "stream",
     "text": [
      "Invalid value to integer\n"
     ]
    }
   ],
   "source": [
    "## multiple exception block\n",
    "try:\n",
    "    result1 = int('hello') # this will raise a value error\n",
    "    result2 = 10/0 # and then this sentence will not be excuted, the flow will move to proper except part\n",
    "except ValueError:\n",
    "    # handle value error\n",
    "    print('Invalid value to integer')\n",
    "except ZeroDivisionError:\n",
    "    # handle the zero division error\n",
    "    print('Division by zero is not allowed')\n",
    "    "
   ]
  },
  {
   "cell_type": "code",
   "execution_count": 83,
   "id": "693d5acd-6ad9-469d-9315-979e2c4dd8e8",
   "metadata": {},
   "outputs": [
    {
     "name": "stdout",
     "output_type": "stream",
     "text": [
      "the result of division is 5.0\n"
     ]
    }
   ],
   "source": [
    "## else couple with except\n",
    "try:\n",
    "    result = 10/2\n",
    "except ZeroDivisionError:\n",
    "    print('plesase dont divide by zero')\n",
    "else:\n",
    "    print(f'the result of division is {result}')"
   ]
  },
  {
   "cell_type": "code",
   "execution_count": 84,
   "id": "13b2cae3-1a13-49c9-bee6-e20bbb14a686",
   "metadata": {},
   "outputs": [
    {
     "name": "stdout",
     "output_type": "stream",
     "text": [
      "The given string can not to integer\n",
      "This block will run, and confirm the end of execution\n"
     ]
    }
   ],
   "source": [
    "## finally block\n",
    "try:\n",
    "    results = int('abandnnd')\n",
    "    print(abcd_name)\n",
    "except ValueError:\n",
    "    print('The given string can not to integer')\n",
    "except NameError:\n",
    "    print('The aplied variable is not defined') # did not run, because the exception met\n",
    "else:\n",
    "    print('Do you think the execution is finished?') # did not run, because the exception block got executed\n",
    "finally: # this block will be run anyway\n",
    "    print('This block will run, and confirm the end of execution')"
   ]
  },
  {
   "cell_type": "code",
   "execution_count": 85,
   "id": "aa14d1b2-7f2c-4c9b-a1e6-0debecf4a797",
   "metadata": {},
   "outputs": [
    {
     "name": "stdout",
     "output_type": "stream",
     "text": [
      "There must be somthing wrong!!!\n",
      "Complete the execution!!!\n"
     ]
    }
   ],
   "source": [
    "## Multiple exception in one except\n",
    "try:\n",
    "    results = int(abcd)\n",
    "except (ValueError, NameError, ZeroDivisionError): # multiple exception types \n",
    "    print('There must be somthing wrong!!!')\n",
    "finally:\n",
    "    print(\"Complete the execution!!!\")"
   ]
  },
  {
   "cell_type": "code",
   "execution_count": 86,
   "id": "7dbab55a-0295-4e34-bc07-c8da34053458",
   "metadata": {},
   "outputs": [],
   "source": [
    "## what if dont specific the exception type. Still fine, but provide no clue of exception and There should be no except block after it\n",
    "try:\n",
    "    result = 10/a\n",
    "except ZeroDivisionError:\n",
    "    print('Division by zero is not allowed')\n",
    "except:\n",
    "    print('Any way, something is wrong')\n"
   ]
  },
  {
   "cell_type": "markdown",
   "id": "f4ca9112-d5b5-496d-84a1-6687243f9d47",
   "metadata": {},
   "source": [
    "## About Iterable and Iterable Unpacking\n",
    "\n",
    "**Iterable** means a sequence can return it's elements one at a time, like list, string, which make them applicaple in loops.\n",
    "\n",
    "**Iterable unpacking** means assign the elements of a iterable sequnece to individual varibales in one sentence"
   ]
  },
  {
   "cell_type": "markdown",
   "id": "9971b4e4-6663-4b6c-860b-5d96506bb560",
   "metadata": {},
   "source": [
    "### Examples of Iterable unpacking"
   ]
  },
  {
   "cell_type": "code",
   "execution_count": 87,
   "id": "abadb829-e9cf-4e74-81bb-d1e9cbde6cd6",
   "metadata": {},
   "outputs": [
    {
     "data": {
      "text/plain": [
       "{'Alex': 89, 'Adam': 90, 'Abra': 87, 'Alice': 23}"
      ]
     },
     "execution_count": 87,
     "metadata": {},
     "output_type": "execute_result"
    }
   ],
   "source": [
    "grade = [89, 90, 87, 23]\n",
    "alex, adam, abra, alice = grade # unpcaking the lits\n",
    "dict_grade = {'Alex': alex, 'Adam': adam, 'Abra': abra, 'Alice': alice} # build a dict of grade\n",
    "dict_grade"
   ]
  },
  {
   "cell_type": "markdown",
   "id": "66b5d91e-b5e2-4e8e-960f-cc95981eae10",
   "metadata": {},
   "source": [
    "## About List comprehensions\n",
    "\n",
    "**list comprehensions** is a concise way to build a list using for loops from the given iterable sequnece, where we can sepcifiy the conditons\n",
    "\n",
    "Key points:\n",
    "\n",
    "- This happens in a **square bracket []**, containing `for` clause and optionally one or more `if`clasues\n",
    "\n",
    "- From **Iterable** object. Often use with `range()`\n",
    "\n",
    "- Can be **nested** and can be from **multiple iterable objects**\n",
    "\n",
    "Adavanages: intutive and concise comparing to the traditional way of building list\n"
   ]
  },
  {
   "cell_type": "markdown",
   "id": "daf37889-4591-486f-903a-0d437e130e10",
   "metadata": {},
   "source": [
    "### Examples of List comprehension"
   ]
  },
  {
   "cell_type": "code",
   "execution_count": 88,
   "id": "ec4071ce-129d-4674-98fb-f2188e730000",
   "metadata": {},
   "outputs": [
    {
     "data": {
      "text/plain": [
       "[0, 2, 4, 6, 8, 10, 12, 14, 16, 18]"
      ]
     },
     "execution_count": 88,
     "metadata": {},
     "output_type": "execute_result"
    }
   ],
   "source": [
    "## A basic example\n",
    "time_2 = [x*2 for x in range(10)]\n",
    "time_2"
   ]
  },
  {
   "cell_type": "code",
   "execution_count": 89,
   "id": "7a6e6eb9-4664-4e81-b54f-59b57c643d3e",
   "metadata": {},
   "outputs": [
    {
     "data": {
      "text/plain": [
       "[{'Alex': 2},\n",
       " {'Alex': 89},\n",
       " {'Alex': 10},\n",
       " {'Adam': 2},\n",
       " {'Adam': 89},\n",
       " {'Adam': 10},\n",
       " {'Abra': 2},\n",
       " {'Abra': 89},\n",
       " {'Abra': 10}]"
      ]
     },
     "execution_count": 89,
     "metadata": {},
     "output_type": "execute_result"
    },
    {
     "data": {
      "text/plain": [
       "[{'Alex': 2}, {'Adam': 89}, {'Abra': 10}]"
      ]
     },
     "execution_count": 89,
     "metadata": {},
     "output_type": "execute_result"
    },
    {
     "name": "stdout",
     "output_type": "stream",
     "text": [
      "[(1, 'a'), (1, 'b'), (1, 'c'), (2, 'a'), (2, 'b'), (2, 'c'), (3, 'a'), (3, 'b'), (3, 'c')]\n"
     ]
    }
   ],
   "source": [
    "## Comprehension from two iterable sequence\n",
    "\n",
    "from IPython.core.interactiveshell import InteractiveShell\n",
    "InteractiveShell.ast_node_interactivity = 'all'\n",
    "\n",
    "names = ['Alex', 'Adam', 'Abra']\n",
    "grades = [2, 89, 10]\n",
    "\n",
    "score1 = [{name: grade} for name in names for grade in grades] # this will be build a dict of score, in a nested way\n",
    "score1\n",
    "score2 = [{name: grade} for name, grade in zip(names, grades)] # build score from two list and couple them\n",
    "score2\n",
    "\n",
    "# nested comprehension\n",
    "list1 = [1, 2, 3]\n",
    "list2 = ['a', 'b', 'c']\n",
    "pairs = [(x, y) for x in list1 for y in list2]\n",
    "print(pairs)\n"
   ]
  },
  {
   "cell_type": "code",
   "execution_count": 90,
   "id": "5feec251-2dca-48c3-9111-eb8cbdedb440",
   "metadata": {},
   "outputs": [
    {
     "data": {
      "text/plain": [
       "[1, 9, 25, 49, 81]"
      ]
     },
     "execution_count": 90,
     "metadata": {},
     "output_type": "execute_result"
    },
    {
     "data": {
      "text/plain": [
       "['Adam', 'Noha']"
      ]
     },
     "execution_count": 90,
     "metadata": {},
     "output_type": "execute_result"
    },
    {
     "data": {
      "text/plain": [
       "['0-h-12', '2-l-10']"
      ]
     },
     "execution_count": 90,
     "metadata": {},
     "output_type": "execute_result"
    }
   ],
   "source": [
    "## Comprehension with conditions \n",
    "square = [x**2 for x in range(10) if x%2 != 0]\n",
    "square\n",
    "\n",
    "names = ['Adam', 'Noha', 'Benj']\n",
    "s_names = [name for name in names if 'a' in name]\n",
    "s_names\n",
    "\n",
    "a_str = 'hello, python'\n",
    "b_num = range(len(a_str))\n",
    "c_tup = sorted(b_num, reverse=True)\n",
    "abc_str = ['-'.join([str(b), a, str(c)]) for a, b, c in zip(a_str, b_num, c_tup) if (b%2 == 0 and a.isalpha() and c>8)] # guess what is the output?\n",
    "abc_str"
   ]
  },
  {
   "cell_type": "markdown",
   "id": "4a26e812-1850-4d1c-85c6-3864c5545206",
   "metadata": {},
   "source": [
    "## About Generator expression\n",
    "\n",
    "**Generator expression** is used to create a iterable object, which similar to list comprehension. Simply, we can replace the square brcaket `[]` of a list comprehension with parentheses `()` to form a generator expression. \n",
    "\n",
    "**Generator** is memory-efficient because they generate values on-the-fly rather than storing values in memory all at once. Generate values on-the-fly means generate values for single use, after using, the value will be discarded. Once exhausted, the generator will not take memory space for the values on-the-fly\n"
   ]
  },
  {
   "cell_type": "markdown",
   "id": "ee8090f6-a67e-4655-85f2-980c4a529de3",
   "metadata": {},
   "source": [
    "### Example of Generator"
   ]
  },
  {
   "cell_type": "code",
   "execution_count": 91,
   "id": "bb42a6d1-fdff-4e56-80ee-07de5c273679",
   "metadata": {},
   "outputs": [
    {
     "name": "stdout",
     "output_type": "stream",
     "text": [
      "1\n",
      "4\n",
      "9\n",
      "16\n",
      "25\n",
      "36\n",
      "49\n",
      "64\n",
      "81\n",
      "100\n"
     ]
    }
   ],
   "source": [
    "## a simple example\n",
    "squares = (x ** 2 for x in range(1, 11))\n",
    "for square in squares:\n",
    "    print(square)"
   ]
  },
  {
   "cell_type": "code",
   "execution_count": 92,
   "id": "2ab35611-33e6-4519-a8f2-d26572328c6b",
   "metadata": {},
   "outputs": [
    {
     "data": {
      "text/plain": [
       "<generator object <genexpr> at 0x10785ea80>"
      ]
     },
     "execution_count": 92,
     "metadata": {},
     "output_type": "execute_result"
    },
    {
     "name": "stdout",
     "output_type": "stream",
     "text": [
      "0\n",
      "1\n",
      "1\n",
      "1267650600228229401496703205376\n",
      "515377520732011331036461129765621272702107522001\n",
      "7888609052210118054117285652827862296732064351090230047702789306640625\n",
      "2037035976334486086268445688409378161051468393665936250636140449354381299763336706183397376\n",
      "2479335110965972533511072884734865136238774467874941149812189099406158699837975560158285662939982180192171594001\n",
      "1666976484396337359195972108050766529167300667828951014331365469362133029070327866633033064632426906380900918045096212631206355582001\n",
      "1405696955498267491541705127961637555026742863683784726712507274522355585042137573835346212619282244621664528557733175717906457091122459228663147843813376\n",
      "1087098632489204160950137314865273070456302105194638892992956883912979645653547544259883966430473213086146446611517881273578054555765427802160871806336217559874057769775390625\n",
      "868961758838235800287756364471948378335796838288975942380290688618631629298190451688200804595799187620583691268029782284423459421328787441070241643294159775050113833420284747674478527063285036001\n"
     ]
    }
   ],
   "source": [
    "## Fibonacci numbers, using yield\n",
    "def fibonacci(limit):\n",
    "    a, b = 0, 1\n",
    "    while a < limit:\n",
    "        yield a # clause for generator\n",
    "        a, b = b, a+b\n",
    "fib_squence = (x for x in fibonacci(100))\n",
    "fib_squence # will tell you this is a generator object\n",
    "for fib in fib_squence: # use this generator\n",
    "    print(fib**100) ## haha, very large numbers\n"
   ]
  },
  {
   "cell_type": "code",
   "execution_count": 93,
   "id": "b5210cd0-0fa0-4383-bd3e-655df40c8e06",
   "metadata": {},
   "outputs": [
    {
     "data": {
      "text/plain": [
       "<generator object count_to_n at 0x1076f7780>"
      ]
     },
     "execution_count": 93,
     "metadata": {},
     "output_type": "execute_result"
    },
    {
     "name": "stdout",
     "output_type": "stream",
     "text": [
      "1\n",
      "2\n",
      "3\n",
      "4\n",
      "5\n",
      "6\n"
     ]
    }
   ],
   "source": [
    "## another example using yield\n",
    "def count_to_n(n):\n",
    "    count = 1\n",
    "    while count <= n:\n",
    "        yield count\n",
    "        count += 1\n",
    "gen = count_to_n(6)\n",
    "gen\n",
    "for num in gen:\n",
    "    print(num)"
   ]
  },
  {
   "cell_type": "markdown",
   "id": "700c2003-ef52-4e59-aeb2-0aa3b1bf73b5",
   "metadata": {},
   "source": [
    "## About optimization of control flow\n",
    "\n",
    "Tips:\n",
    "\n",
    "- Miminaze the unnecessary computation\n",
    "\n",
    "- Use proper data structure\n",
    "\n",
    "- Avoid unnecessary loop, fusion loop is poosible\n",
    "\n",
    "- Algorithm optimization. (This is another big topic)\n",
    "\n"
   ]
  },
  {
   "cell_type": "code",
   "execution_count": 94,
   "id": "0c7f175d-af30-46eb-bdf8-2d0d61fb24cc",
   "metadata": {},
   "outputs": [
    {
     "name": "stdout",
     "output_type": "stream",
     "text": [
      "The values smaller then 3 in [1, 2, 8, 9, 5, 2, 3, 4] is here: [1, 2, 2]\n",
      "The values greater then 3 in [1, 2, 8, 9, 5, 2, 3, 4] is here: [8, 9, 5, 3, 4]\n",
      "2\n",
      "2\n",
      "[1, 2, 3]\n"
     ]
    }
   ],
   "source": [
    "### Example of a function, \n",
    "def less_greater(array, pivot): ## define a function\n",
    "    \"\"\"\n",
    "    Aim: \n",
    "    To separete an array into two parts according to the given pivot. \n",
    "    The values of one parts all small then pivot, and the rest in the other part\n",
    "    \n",
    "    Paraters:\n",
    "    array, the array that going to be splie\n",
    "    pivot, used as point for spliting\n",
    "    \"\"\"\n",
    "    less = [] # initialize an empety list\n",
    "    greater = []\n",
    "\n",
    "    for x in array: # looping values in array\n",
    "        if x < pivot: # branching the pipeline with if .. else\n",
    "            less.append(x) # used 'append' method attached to list\n",
    "        else:\n",
    "            greater.append(x)\n",
    "    \n",
    "    return less, greater # return values for the function\n",
    "\n",
    "## build and assign values to objects\n",
    "a_array, a_pivot = [1, 2, 8, 9, 5, 2, 3, 4], 3 \n",
    "## call the function and accept the return values\n",
    "less, greater = less_greater(array=a_array, pivot=a_pivot) \n",
    "## print with format method\n",
    "print(f'The values smaller then {a_pivot} in {a_array} is here: {less}') \n",
    "print(f'The values greater then {a_pivot} in {a_array} is here: {greater}') \n",
    "\n",
    "## Assign values to variable\n",
    "a = 2\n",
    "print(a)\n",
    "b = a # get a copy\n",
    "a = 3\n",
    "print(b)\n",
    "\n",
    "a = [1, 2, 3]\n",
    "b = a.copy() \n",
    "a = [1, 2, 3, 4]\n",
    "print(b)  # Output: [1, 2, 3]\n"
   ]
  },
  {
   "cell_type": "code",
   "execution_count": 95,
   "id": "ec472329-a906-4c38-b370-3439a01f0df3",
   "metadata": {},
   "outputs": [
    {
     "data": {
      "text/plain": [
       "['This a test file with much bar, but I want to change it to bar\\n',\n",
       " 'here is a bar,\\n',\n",
       " 'here is another bar']"
      ]
     },
     "execution_count": 95,
     "metadata": {},
     "output_type": "execute_result"
    }
   ],
   "source": [
    "## Examples for read and modify files\n",
    "def line_replace(file_handle, old, new):\n",
    "    results = []\n",
    "    for line in file_handle:\n",
    "        # keep the empty lines\n",
    "        if len(line) == 0:\n",
    "            continue\n",
    "        results.append(line.replace(a, b))\n",
    "    return results\n",
    "\n",
    "a, b = 'foo', 'bar'\n",
    "with open('example_line_replace.txt', 'r') as file_handle:\n",
    "    replace_results = line_replace(file_handle, a, b)\n",
    "replace_results"
   ]
  }
 ],
 "metadata": {
  "kernelspec": {
   "display_name": "Python 3 (ipykernel)",
   "language": "python",
   "name": "python3"
  },
  "language_info": {
   "codemirror_mode": {
    "name": "ipython",
    "version": 3
   },
   "file_extension": ".py",
   "mimetype": "text/x-python",
   "name": "python",
   "nbconvert_exporter": "python",
   "pygments_lexer": "ipython3",
   "version": "3.11.7"
  }
 },
 "nbformat": 4,
 "nbformat_minor": 5
}
