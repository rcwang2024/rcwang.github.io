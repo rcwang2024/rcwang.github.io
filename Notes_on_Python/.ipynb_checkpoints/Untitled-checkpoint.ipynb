{
 "cells": [
  {
   "cell_type": "markdown",
   "id": "0b09efec-dd29-4acd-bb93-55188588833d",
   "metadata": {},
   "source": [
    "# This is a notebook which used to learn: <<Python for Data science>>"
   ]
  },
  {
   "cell_type": "code",
   "execution_count": null,
   "id": "72d9e9e9-c362-457a-b9ec-585ddde050b1",
   "metadata": {},
   "outputs": [],
   "source": []
  }
 ],
 "metadata": {
  "kernelspec": {
   "display_name": "Python 3 (ipykernel)",
   "language": "python",
   "name": "python3"
  },
  "language_info": {
   "codemirror_mode": {
    "name": "ipython",
    "version": 3
   },
   "file_extension": ".py",
   "mimetype": "text/x-python",
   "name": "python",
   "nbconvert_exporter": "python",
   "pygments_lexer": "ipython3",
   "version": "3.11.7"
  }
 },
 "nbformat": 4,
 "nbformat_minor": 5
}
