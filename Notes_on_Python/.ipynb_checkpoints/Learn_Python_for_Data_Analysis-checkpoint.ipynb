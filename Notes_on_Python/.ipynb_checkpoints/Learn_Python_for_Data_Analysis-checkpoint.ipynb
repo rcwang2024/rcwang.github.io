{
 "cells": [
  {
   "cell_type": "markdown",
   "id": "0b09efec-dd29-4acd-bb93-55188588833d",
   "metadata": {},
   "source": [
    "# \\<Python for Data Analysis\\>"
   ]
  },
  {
   "cell_type": "markdown",
   "id": "d8fea2a6-37c2-4647-ae13-86231a68c457",
   "metadata": {},
   "source": [
    "## This Notebook includs following aspects about Python application in Data science by using Numpy, Pandas, and other Python modules:\n",
    "> Important Knowledges of What, Why and How\n",
    ">\n",
    "> Practice with examles\n",
    ">\n",
    "> My summary"
   ]
  },
  {
   "cell_type": "markdown",
   "id": "1a43c8ac-d46e-41f6-9972-9879c8983106",
   "metadata": {},
   "source": [
    "##  Python packages required for data analysis\n",
    "\n",
    "### Based on the terminal, intsall the packages with conda\n",
    "- On macOS terminal:\n",
    "> `conda config --add channels conda-forge`\n",
    "> \n",
    "> `conda config --set channel-priority strick`\n",
    ">\n",
    "> `conda install --changes conda-forge pandas` ## install package pandas\n",
    "\n",
    "  \n",
    "> import pandas as pd\n",
    "> \n",
    "> import numpy as np\n",
    "> \n",
    "> import seaborn as sns\n",
    "> \n",
    "> import matpltlib.pyplopt as plt\n",
    "> \n",
    "> import scipy as sp\n",
    "> \n",
    "> import sklearn\n",
    ">\n",
    "> import statsmodels as sm"
   ]
  },
  {
   "cell_type": "code",
   "execution_count": 27,
   "id": "bf3bc394-8f8d-43a5-ad6c-3e2950641053",
   "metadata": {},
   "outputs": [
    {
     "name": "stdout",
     "output_type": "stream",
     "text": [
      "pandas version: 2.2.2\n",
      "numpy version: 1.24.3\n",
      "scipy version: 1.11.4\n",
      "scikit-learn version: 1.3.0\n",
      "statsmodels version: 0.14.0\n"
     ]
    },
    {
     "data": {
      "text/plain": [
       "'/Users/ruichaowang/GitHub/rcwang.github.io/Python_for_MLDL'"
      ]
     },
     "execution_count": 27,
     "metadata": {},
     "output_type": "execute_result"
    }
   ],
   "source": [
    "import os\n",
    "import pandas as pd\n",
    "import numpy as np\n",
    "import seaborn as sns\n",
    "import matplotlib.pyplot as plt\n",
    "import scipy as scp\n",
    "import sklearn\n",
    "import statsmodels as sm\n",
    "\n",
    "print('pandas version:', pd.__version__)\n",
    "print('numpy version:', np.__version__)\n",
    "print('scipy version:', scp.__version__)\n",
    "print('scikit-learn version:', sklearn.__version__)\n",
    "print('statsmodels version:', sm.__version__)\n",
    "\n",
    "os.getcwd()"
   ]
  },
  {
   "cell_type": "markdown",
   "id": "d077d396-db55-4a6e-9c66-62d7af62a76f",
   "metadata": {},
   "source": [
    "## Start using Python\n",
    "- We can type `python` in the terminal, enter the python interpreter, then type in python codes like `print('data science')` then press the return will get the output.\n",
    "- Also, we can write a python script save it as `example.py`, and run it with `python example.py`.\n",
    "- we can also use `ipython`, then we can display the input code and output line by line\n",
    "- Last but not least, we can use `Jupyter`, which is the very popular application for python and data science\n",
    "- To start Jupyter Notebook, run `jupyter notebook` in a terminal"
   ]
  },
  {
   "cell_type": "code",
   "execution_count": 28,
   "id": "ed4ad277-17e3-4d9e-a452-c4ec52bbfc97",
   "metadata": {},
   "outputs": [
    {
     "name": "stdout",
     "output_type": "stream",
     "text": [
      "5\n",
      "[0.9894832104188699, -2.018668474040232, -3.1691015820407116, -0.37122840631950516, -0.08812759711177834, -0.03663158632423939, -0.2982782527603676]\n"
     ]
    }
   ],
   "source": [
    "## for example to use Jupyter:\n",
    "import numpy as np\n",
    "\n",
    "a = 5\n",
    "print(a)\n",
    "\n",
    "# generate 7 random numbers following normal distribution\n",
    "data = [np.random.standard_normal() for i in range(7)]\n",
    "print(data)"
   ]
  },
  {
   "cell_type": "code",
   "execution_count": 29,
   "id": "b9d87d8e-609d-43a4-9426-99fc5eb273de",
   "metadata": {},
   "outputs": [
    {
     "data": {
      "text/plain": [
       "np.__loader__\n",
       "np.load\n",
       "np.loadtxt"
      ]
     },
     "metadata": {},
     "output_type": "display_data"
    }
   ],
   "source": [
    "## Using Introspection '?', which is very useful for looking help. Becasue it will show the Docs of an object, like a function, \n",
    "b = [\"1\", 2, 'abc']\n",
    "b?\n",
    "print?\n",
    "\n",
    "## If we are uncertain of certain key word we can us ** to match, like\n",
    "# will show the function or attribute including keyword load\n",
    "np.*load*?"
   ]
  },
  {
   "cell_type": "markdown",
   "id": "da46e04f-855a-4049-972b-b5a45f8bb21a",
   "metadata": {},
   "source": [
    "## Python Language semantics\n",
    "    \n",
    "- Indentation matters for **loops**, **functions**, **class**. For spaces used by default for Jupyter when start a new line after colon. No big bracs used for loops and defining fuctions.\n",
    "- Everything python is considered as object with certain types. Each object has **attribute**, **methods** and **values**.\n",
    "- Of cause, we can comment at every where, just start with a has mark **#**, and then write comments after it.\n",
    "- There are many default functions or methods attached to object, to call method: `obj.method(x, y, z)`.\n",
    "- We can also define functions and call fuctions, for example: `def f(x, y, z): ...` `f(x=a, y=b, y=z)`\n",
    "- For mutable object, if we want to get a copy of this object, we better use the method `a.copy()`"
   ]
  },
  {
   "cell_type": "code",
   "execution_count": 30,
   "id": "0c7f175d-af30-46eb-bdf8-2d0d61fb24cc",
   "metadata": {},
   "outputs": [
    {
     "name": "stdout",
     "output_type": "stream",
     "text": [
      "The values smaller then 3 in [1, 2, 8, 9, 5, 2, 3, 4] is here: [1, 2, 2]\n",
      "The values greater then 3 in [1, 2, 8, 9, 5, 2, 3, 4] is here: [8, 9, 5, 3, 4]\n",
      "2\n",
      "2\n",
      "[1, 2, 3]\n"
     ]
    }
   ],
   "source": [
    "### Examples\n",
    "def less_greater(array, pivot): ## define a function\n",
    "    \"\"\"\n",
    "    Aim: \n",
    "    To separete an array into two parts according to the given pivot. \n",
    "    The values of one parts all small then pivot, and the rest in the other part\n",
    "    \n",
    "    Paraters:\n",
    "    array, the array that going to be splie\n",
    "    pivot, used as point for spliting\n",
    "    \"\"\"\n",
    "    less = [] # initialize an empety list\n",
    "    greater = []\n",
    "\n",
    "    for x in array: # looping values in array\n",
    "        if x < pivot: # branching the pipeline with if .. else\n",
    "            less.append(x) # used 'append' method attached to list\n",
    "        else:\n",
    "            greater.append(x)\n",
    "    \n",
    "    return less, greater # return values for the function\n",
    "\n",
    "## build and assign values to objects\n",
    "a_array, a_pivot = [1, 2, 8, 9, 5, 2, 3, 4], 3 \n",
    "## call the function and accept the return values\n",
    "less, greater = less_greater(array=a_array, pivot=a_pivot) \n",
    "## print with format method\n",
    "print(f'The values smaller then {a_pivot} in {a_array} is here: {less}') \n",
    "print(f'The values greater then {a_pivot} in {a_array} is here: {greater}') \n",
    "\n",
    "## Assign values to variable\n",
    "a = 2\n",
    "print(a)\n",
    "b = a # get a copy\n",
    "a = 3\n",
    "print(b)\n",
    "\n",
    "a = [1, 2, 3]\n",
    "b = a.copy() \n",
    "a = [1, 2, 3, 4]\n",
    "print(b)  # Output: [1, 2, 3]\n"
   ]
  },
  {
   "cell_type": "code",
   "execution_count": 31,
   "id": "ec472329-a906-4c38-b370-3439a01f0df3",
   "metadata": {},
   "outputs": [
    {
     "data": {
      "text/plain": [
       "['This a test file with much bar, but I want to change it to bar\\n',\n",
       " 'here is a bar,\\n',\n",
       " 'here is another bar']"
      ]
     },
     "execution_count": 31,
     "metadata": {},
     "output_type": "execute_result"
    }
   ],
   "source": [
    "## Examples for read and modify files\n",
    "def line_replace(file_handle, old, new):\n",
    "    results = []\n",
    "    for line in file_handle:\n",
    "        # keep the empty lines\n",
    "        if len(line) == 0:\n",
    "            continue\n",
    "        results.append(line.replace(a, b))\n",
    "    return results\n",
    "\n",
    "a, b = 'foo', 'bar'\n",
    "with open('example_line_replace.txt', 'r') as file_handle:\n",
    "    replace_results = line_replace(file_handle, a, b)\n",
    "replace_results"
   ]
  },
  {
   "cell_type": "markdown",
   "id": "733f7c66-7eed-42f6-8bd3-afe34a2c8c40",
   "metadata": {},
   "source": [
    "## Objects and attached methods\n",
    "- Everything in python is object\n",
    "- Two types of object in Python: mutable and immutable\n",
    "- Common data types:\n",
    "    - **number**: including **int**, **float**, **complex**.\n",
    "    - **bool**: including `True` and `False`.\n",
    "    - **string**: including short string, multiple-line string\n",
    "    - **tuple**: an immutable ordered set of values\n",
    "    - **list**: an mutable ordered set of values of all possible types\n",
    "    - **dict**: an hashable object, including keys and values. Keys are not mutable, but the values can be changed\n",
    "    - **set**: an non-ordered set of values, can not indexing values\n",
    "    - **file**\n",
    "\n",
    "- For each object, we can handle it from the following aspect:\n",
    "    - **create**: we should be able to create a object\n",
    "    - **convert**: wether we can build a required type of object from other objects, and how to do that\n",
    "    - **modify**: wheter we can modify the element values in the container object, and how\n",
    "    - **add**: whether we can add new elements to the object, and how\n",
    "    - **delete**: wheter we can delete elements, and how\n",
    "    - **structure**: any requirement about the elements, can we nest it to make complex but useful objects\n",
    "    - **formats**: the special symbols for the object, like `[]` is used for list, `()` for tuple\n",
    "    - **operations**: can we perform operations like calculate the values, comparisons on objects\n",
    "    - Last but not least **attached in-built attributes/methods**\n",
    "      "
   ]
  },
  {
   "cell_type": "markdown",
   "id": "10e3009d-670f-4984-9af6-e79e3b46e6ec",
   "metadata": {},
   "source": [
    "### Examples of Objects and attached attributes methods"
   ]
  },
  {
   "cell_type": "code",
   "execution_count": 18,
   "id": "59fb2c0b-13c1-41e8-9826-6e161dfe4cfc",
   "metadata": {
    "scrolled": true
   },
   "outputs": [
    {
     "data": {
      "text/plain": [
       "(9+3j)"
      ]
     },
     "execution_count": 18,
     "metadata": {},
     "output_type": "execute_result"
    },
    {
     "data": {
      "text/plain": [
       "9.0"
      ]
     },
     "execution_count": 18,
     "metadata": {},
     "output_type": "execute_result"
    },
    {
     "data": {
      "text/plain": [
       "3.0"
      ]
     },
     "execution_count": 18,
     "metadata": {},
     "output_type": "execute_result"
    },
    {
     "data": {
      "text/plain": [
       "(9+3j)"
      ]
     },
     "execution_count": 18,
     "metadata": {},
     "output_type": "execute_result"
    },
    {
     "data": {
      "text/plain": [
       "123"
      ]
     },
     "execution_count": 18,
     "metadata": {},
     "output_type": "execute_result"
    },
    {
     "data": {
      "text/plain": [
       "2.5806451612903225"
      ]
     },
     "execution_count": 18,
     "metadata": {},
     "output_type": "execute_result"
    },
    {
     "data": {
      "text/plain": [
       "2.0"
      ]
     },
     "execution_count": 18,
     "metadata": {},
     "output_type": "execute_result"
    },
    {
     "data": {
      "text/plain": [
       "1.7999999999999998"
      ]
     },
     "execution_count": 18,
     "metadata": {},
     "output_type": "execute_result"
    },
    {
     "data": {
      "text/plain": [
       "24.8"
      ]
     },
     "execution_count": 18,
     "metadata": {},
     "output_type": "execute_result"
    },
    {
     "data": {
      "text/plain": [
       "630.3459396325973"
      ]
     },
     "execution_count": 18,
     "metadata": {},
     "output_type": "execute_result"
    },
    {
     "data": {
      "text/plain": [
       "11.1"
      ]
     },
     "execution_count": 18,
     "metadata": {},
     "output_type": "execute_result"
    },
    {
     "data": {
      "text/plain": [
       "4.9"
      ]
     },
     "execution_count": 18,
     "metadata": {},
     "output_type": "execute_result"
    },
    {
     "data": {
      "text/plain": [
       "False"
      ]
     },
     "execution_count": 18,
     "metadata": {},
     "output_type": "execute_result"
    },
    {
     "data": {
      "text/plain": [
       "True"
      ]
     },
     "execution_count": 18,
     "metadata": {},
     "output_type": "execute_result"
    },
    {
     "data": {
      "text/plain": [
       "False"
      ]
     },
     "execution_count": 18,
     "metadata": {},
     "output_type": "execute_result"
    },
    {
     "data": {
      "text/plain": [
       "True"
      ]
     },
     "execution_count": 18,
     "metadata": {},
     "output_type": "execute_result"
    },
    {
     "data": {
      "text/plain": [
       "True"
      ]
     },
     "execution_count": 18,
     "metadata": {},
     "output_type": "execute_result"
    },
    {
     "data": {
      "text/plain": [
       "False"
      ]
     },
     "execution_count": 18,
     "metadata": {},
     "output_type": "execute_result"
    }
   ],
   "source": [
    "from IPython.core.interactiveshell import InteractiveShell\n",
    "InteractiveShell.ast_node_interactivity = \"all\"\n",
    "\n",
    "###++++++++++\n",
    "# Numbers\n",
    "###++++++++++\n",
    "\n",
    "a = 123 # interger\n",
    "b = 2.2415965 # float\n",
    "c = 9 + 3j # complex\n",
    "c\n",
    "c.real\n",
    "c.imag\n",
    "c\n",
    "a.numerator\n",
    "\n",
    "### Operations of Numbers\n",
    "a = 3.1\n",
    "b = 8\n",
    "b / a\n",
    "b // a ## divide b with a and drop the fraction\n",
    "b % a ## return the reminder of a divide b\n",
    "b * a\n",
    "b ** a\n",
    "b + a\n",
    "b - a\n",
    "\n",
    "a == b ## comparing values\n",
    "a != b\n",
    "a is b ## check whether a and b refer to the same object\n",
    "a is not b\n",
    "b > a\n",
    "b <= a\n"
   ]
  },
  {
   "cell_type": "code",
   "execution_count": 36,
   "id": "db2aeed5-ca21-4400-a446-ccb93fe8121f",
   "metadata": {
    "scrolled": true
   },
   "outputs": [
    {
     "data": {
      "text/plain": [
       "True"
      ]
     },
     "execution_count": 36,
     "metadata": {},
     "output_type": "execute_result"
    },
    {
     "data": {
      "text/plain": [
       "False"
      ]
     },
     "execution_count": 36,
     "metadata": {},
     "output_type": "execute_result"
    },
    {
     "data": {
      "text/plain": [
       "False"
      ]
     },
     "execution_count": 36,
     "metadata": {},
     "output_type": "execute_result"
    },
    {
     "data": {
      "text/plain": [
       "True"
      ]
     },
     "execution_count": 36,
     "metadata": {},
     "output_type": "execute_result"
    },
    {
     "data": {
      "text/plain": [
       "False"
      ]
     },
     "execution_count": 36,
     "metadata": {},
     "output_type": "execute_result"
    },
    {
     "data": {
      "text/plain": [
       "False"
      ]
     },
     "execution_count": 36,
     "metadata": {},
     "output_type": "execute_result"
    },
    {
     "data": {
      "text/plain": [
       "True"
      ]
     },
     "execution_count": 36,
     "metadata": {},
     "output_type": "execute_result"
    },
    {
     "data": {
      "text/plain": [
       "False"
      ]
     },
     "execution_count": 36,
     "metadata": {},
     "output_type": "execute_result"
    },
    {
     "name": "stdout",
     "output_type": "stream",
     "text": [
      "False\n"
     ]
    },
    {
     "data": {
      "text/plain": [
       "False"
      ]
     },
     "execution_count": 36,
     "metadata": {},
     "output_type": "execute_result"
    },
    {
     "data": {
      "text/plain": [
       "True"
      ]
     },
     "execution_count": 36,
     "metadata": {},
     "output_type": "execute_result"
    },
    {
     "data": {
      "text/plain": [
       "True"
      ]
     },
     "execution_count": 36,
     "metadata": {},
     "output_type": "execute_result"
    },
    {
     "data": {
      "text/plain": [
       "False"
      ]
     },
     "execution_count": 36,
     "metadata": {},
     "output_type": "execute_result"
    },
    {
     "data": {
      "text/plain": [
       "False"
      ]
     },
     "execution_count": 36,
     "metadata": {},
     "output_type": "execute_result"
    },
    {
     "data": {
      "text/plain": [
       "True"
      ]
     },
     "execution_count": 36,
     "metadata": {},
     "output_type": "execute_result"
    },
    {
     "data": {
      "text/plain": [
       "False"
      ]
     },
     "execution_count": 36,
     "metadata": {},
     "output_type": "execute_result"
    },
    {
     "data": {
      "text/plain": [
       "True"
      ]
     },
     "execution_count": 36,
     "metadata": {},
     "output_type": "execute_result"
    }
   ],
   "source": [
    "###++++\n",
    "# Bool\n",
    "###++++\n",
    "\n",
    "True \n",
    "False\n",
    "\n",
    "True and False\n",
    "True or False\n",
    "not True\n",
    "\n",
    "True & False\n",
    "True | False\n",
    "!True\n",
    "!False\n",
    "\n",
    "a = 1; b = 2; a > b\n",
    "a_str = 'hello, python'\n",
    "c = 'z'\n",
    "print(c in a_str)\n",
    "\n",
    "a = 0\n",
    "b = 10\n",
    "c = -1\n",
    "d = ''\n",
    "d1 = {}\n",
    "e = 'hello'\n",
    "bool(a)\n",
    "bool(b)\n",
    "bool(c)\n",
    "bool(d)\n",
    "bool(d1)\n",
    "bool(e)\n",
    "bool(a and b)\n",
    "bool(c or d)\n",
    "\n",
    "# The `bool()` function will return 'False' if the object is Zero of any numerical type \n",
    "# or any empty sequence or collection"
   ]
  },
  {
   "cell_type": "code",
   "execution_count": 111,
   "id": "2ce2157e-9154-436d-b332-9930642bbd15",
   "metadata": {
    "scrolled": true
   },
   "outputs": [
    {
     "data": {
      "text/plain": [
       "'Hello'"
      ]
     },
     "execution_count": 111,
     "metadata": {},
     "output_type": "execute_result"
    },
    {
     "data": {
      "text/plain": [
       "'Python'"
      ]
     },
     "execution_count": 111,
     "metadata": {},
     "output_type": "execute_result"
    },
    {
     "data": {
      "text/plain": [
       "'Hello, World'"
      ]
     },
     "execution_count": 111,
     "metadata": {},
     "output_type": "execute_result"
    },
    {
     "data": {
      "text/plain": [
       "'Hello, pYTHON'"
      ]
     },
     "execution_count": 111,
     "metadata": {},
     "output_type": "execute_result"
    },
    {
     "data": {
      "text/plain": [
       "\"hello, i'm Alex, and I'm 30 years old\""
      ]
     },
     "execution_count": 111,
     "metadata": {},
     "output_type": "execute_result"
    },
    {
     "data": {
      "text/plain": [
       "\"hello, i'm Alex, and I'm 30 years old\""
      ]
     },
     "execution_count": 111,
     "metadata": {},
     "output_type": "execute_result"
    },
    {
     "data": {
      "text/plain": [
       "'hello, my name is ALEX'"
      ]
     },
     "execution_count": 111,
     "metadata": {},
     "output_type": "execute_result"
    },
    {
     "data": {
      "text/plain": [
       "'Name: Alex, Age: 34'"
      ]
     },
     "execution_count": 111,
     "metadata": {},
     "output_type": "execute_result"
    },
    {
     "data": {
      "text/plain": [
       "'The value of pi is 3.14'"
      ]
     },
     "execution_count": 111,
     "metadata": {},
     "output_type": "execute_result"
    },
    {
     "data": {
      "text/plain": [
       "2"
      ]
     },
     "execution_count": 111,
     "metadata": {},
     "output_type": "execute_result"
    },
    {
     "data": {
      "text/plain": [
       "1"
      ]
     },
     "execution_count": 111,
     "metadata": {},
     "output_type": "execute_result"
    },
    {
     "data": {
      "text/plain": [
       "2"
      ]
     },
     "execution_count": 111,
     "metadata": {},
     "output_type": "execute_result"
    },
    {
     "data": {
      "text/plain": [
       "2"
      ]
     },
     "execution_count": 111,
     "metadata": {},
     "output_type": "execute_result"
    },
    {
     "data": {
      "text/plain": [
       "16"
      ]
     },
     "execution_count": 111,
     "metadata": {},
     "output_type": "execute_result"
    },
    {
     "data": {
      "text/plain": [
       "1"
      ]
     },
     "execution_count": 111,
     "metadata": {},
     "output_type": "execute_result"
    },
    {
     "data": {
      "text/plain": [
       "-1"
      ]
     },
     "execution_count": 111,
     "metadata": {},
     "output_type": "execute_result"
    },
    {
     "data": {
      "text/plain": [
       "'Halle, world, halle, universe'"
      ]
     },
     "execution_count": 111,
     "metadata": {},
     "output_type": "execute_result"
    },
    {
     "data": {
      "text/plain": [
       "'Halle, world, hello, universe'"
      ]
     },
     "execution_count": 111,
     "metadata": {},
     "output_type": "execute_result"
    },
    {
     "data": {
      "text/plain": [
       "True"
      ]
     },
     "execution_count": 111,
     "metadata": {},
     "output_type": "execute_result"
    },
    {
     "data": {
      "text/plain": [
       "False"
      ]
     },
     "execution_count": 111,
     "metadata": {},
     "output_type": "execute_result"
    },
    {
     "data": {
      "text/plain": [
       "True"
      ]
     },
     "execution_count": 111,
     "metadata": {},
     "output_type": "execute_result"
    },
    {
     "data": {
      "text/plain": [
       "False"
      ]
     },
     "execution_count": 111,
     "metadata": {},
     "output_type": "execute_result"
    },
    {
     "data": {
      "text/plain": [
       "True"
      ]
     },
     "execution_count": 111,
     "metadata": {},
     "output_type": "execute_result"
    },
    {
     "data": {
      "text/plain": [
       "False"
      ]
     },
     "execution_count": 111,
     "metadata": {},
     "output_type": "execute_result"
    },
    {
     "data": {
      "text/plain": [
       "True"
      ]
     },
     "execution_count": 111,
     "metadata": {},
     "output_type": "execute_result"
    },
    {
     "data": {
      "text/plain": [
       "['Hello,', 'world']"
      ]
     },
     "execution_count": 111,
     "metadata": {},
     "output_type": "execute_result"
    },
    {
     "data": {
      "text/plain": [
       "['1', ' 2', ' 3', ' 4', ' 5']"
      ]
     },
     "execution_count": 111,
     "metadata": {},
     "output_type": "execute_result"
    },
    {
     "data": {
      "text/plain": [
       "['2024', '01', '01']"
      ]
     },
     "execution_count": 111,
     "metadata": {},
     "output_type": "execute_result"
    },
    {
     "data": {
      "text/plain": [
       "'hello, world'"
      ]
     },
     "execution_count": 111,
     "metadata": {},
     "output_type": "execute_result"
    },
    {
     "data": {
      "text/plain": [
       "'hello\\nworld'"
      ]
     },
     "execution_count": 111,
     "metadata": {},
     "output_type": "execute_result"
    },
    {
     "data": {
      "text/plain": [
       "'python is good'"
      ]
     },
     "execution_count": 111,
     "metadata": {},
     "output_type": "execute_result"
    },
    {
     "name": "stdout",
     "output_type": "stream",
     "text": [
      "Hello\n",
      "World\n",
      "Python\n",
      "Programming\n"
     ]
    },
    {
     "data": {
      "text/plain": [
       "'hello, world'"
      ]
     },
     "execution_count": 111,
     "metadata": {},
     "output_type": "execute_result"
    },
    {
     "data": {
      "text/plain": [
       "'hello, world    '"
      ]
     },
     "execution_count": 111,
     "metadata": {},
     "output_type": "execute_result"
    },
    {
     "data": {
      "text/plain": [
       "'    hello, world'"
      ]
     },
     "execution_count": 111,
     "metadata": {},
     "output_type": "execute_result"
    },
    {
     "data": {
      "text/plain": [
       "[' ', 'Hello,', 'world,', 'OK']"
      ]
     },
     "execution_count": 111,
     "metadata": {},
     "output_type": "execute_result"
    },
    {
     "data": {
      "text/plain": [
       "b'\\xff\\xfeh\\x00e\\x00l\\x00l\\x00o\\x00'"
      ]
     },
     "execution_count": 111,
     "metadata": {},
     "output_type": "execute_result"
    },
    {
     "data": {
      "text/plain": [
       "'hello'"
      ]
     },
     "execution_count": 111,
     "metadata": {},
     "output_type": "execute_result"
    },
    {
     "data": {
      "text/plain": [
       "False"
      ]
     },
     "execution_count": 111,
     "metadata": {},
     "output_type": "execute_result"
    },
    {
     "data": {
      "text/plain": [
       "False"
      ]
     },
     "execution_count": 111,
     "metadata": {},
     "output_type": "execute_result"
    },
    {
     "data": {
      "text/plain": [
       "False"
      ]
     },
     "execution_count": 111,
     "metadata": {},
     "output_type": "execute_result"
    },
    {
     "data": {
      "text/plain": [
       "True"
      ]
     },
     "execution_count": 111,
     "metadata": {},
     "output_type": "execute_result"
    },
    {
     "data": {
      "text/plain": [
       "False"
      ]
     },
     "execution_count": 111,
     "metadata": {},
     "output_type": "execute_result"
    },
    {
     "data": {
      "text/plain": [
       "False"
      ]
     },
     "execution_count": 111,
     "metadata": {},
     "output_type": "execute_result"
    },
    {
     "data": {
      "text/plain": [
       "True"
      ]
     },
     "execution_count": 111,
     "metadata": {},
     "output_type": "execute_result"
    },
    {
     "data": {
      "text/plain": [
       "True"
      ]
     },
     "execution_count": 111,
     "metadata": {},
     "output_type": "execute_result"
    },
    {
     "data": {
      "text/plain": [
       "'l'"
      ]
     },
     "execution_count": 111,
     "metadata": {},
     "output_type": "execute_result"
    }
   ],
   "source": [
    "###++++++++\n",
    "# String\n",
    "###++++++++\n",
    "\n",
    "### String is immutable, so most methdos return new strings rather then modifying \n",
    "\n",
    "##-----------\n",
    "# Methods\n",
    "##-----------\n",
    "\n",
    "## form of lowercase or upper case\n",
    "str1 = 'hello'\n",
    "str1.capitalize()\n",
    "str2 = 'python'\n",
    "str2.upper().lower().capitalize()\n",
    "str3 = 'hello, world'\n",
    "str3.title()\n",
    "str4 = 'hELLO, Python'\n",
    "str4.swapcase()\n",
    "\n",
    "## format\n",
    "name = 'Alex'\n",
    "age = 30\n",
    "greetings = 'hello, i\\'m {}, and I\\'m {} years old'.format(name, age)\n",
    "greetings2 = f'hello, i\\'m {name}, and I\\'m {age} years old'\n",
    "greetings3 = f'hello, my name is {name.upper()}'\n",
    "greetings\n",
    "greetings2\n",
    "greetings3\n",
    "\n",
    "data = {\"name\": 'Alex', \"age\": 34}\n",
    "\"Name: {data[name]}, Age: {data[age]}\".format(data=data)\n",
    "\n",
    "PI = 3.1415926\n",
    "formatPI = 'The value of pi is {:.2f}'.format(PI)\n",
    "formatPI\n",
    "\n",
    "## Search and replace, count, find, replace, all of them are case sensitive and no overlapping in the seraching\n",
    "# count\n",
    "str = 'Hello, ill, kill'\n",
    "str.count('ll', 3, 16) # str.count(substr, start, end)\n",
    "str = 'Hello, world, hello, universe'\n",
    "str.count('hello') # case sensitive\n",
    "text = 'aaaa'\n",
    "text.count('aa') # searching will be no overlaping\n",
    "# find\n",
    "str.find('ll') # return the lowest index of 'll'\n",
    "str.find('ll', 4, 18) # find the lowest index of 'll' in the given range\n",
    "index = str.find('ello')\n",
    "index\n",
    "str.find('alle') # if dont find the sub str will return -1\n",
    "# replace\n",
    "str.replace('ello', 'alle')\n",
    "str.replace('ello', 'alle', 1) # str.replace(old, new, numberOfreplace)\n",
    "\n",
    "## Testing and comparison\n",
    "str = 'Apple better than orange'\n",
    "# starts with, ends with \n",
    "str.startswith('App') # True\n",
    "str.startswith('App', 4, 9) # False not starts with 'App' in range 4, 9\n",
    "str.endswith('nge') # True\n",
    "str.endswith('e', 3, 7) # False\n",
    "# isalnum, isalpha, isdigit\n",
    "str = '89779907'\n",
    "str.isalnum() # True, check if all the character s are number\n",
    "str.isalpha() # False, check if all the elements are alphabetic\n",
    "str.isdigit() # check if all are digits, digits are [0, 1, .. 9]\n",
    "\n",
    "## Spliting and joining\n",
    "# split, return a list of elements, defalut sep based on the space, can be defined with certain values \n",
    "str = 'Hello, world'\n",
    "str.split()\n",
    "str = '1, 2, 3, 4, 5'\n",
    "str.split(sep=',')\n",
    "str = '2024-01-01'\n",
    "str.split(sep='-')\n",
    "# join, form a string from an iterable object such as list, tuple\n",
    "ls = ['hello', 'world']\n",
    "str = ', '.join(ls)\n",
    "str\n",
    "str = '\\n'.join(ls)\n",
    "str\n",
    "tuple = ('python', 'is', 'good')\n",
    "str = ' '.join(tuple)\n",
    "str\n",
    "lines = ['Hello', 'World', 'Python', 'Programming']\n",
    "multiline_text = '\\n'.join(lines)\n",
    "print(multiline_text)\n",
    "\n",
    "## Strip, remove whitespace in a string\n",
    "str = '    hello, world    '\n",
    "str.strip()\n",
    "str.lstrip()\n",
    "str.rstrip()\n",
    "\n",
    "## splitlines, split multiple line string into a list hold values of each line\n",
    "str = ''' \n",
    "Hello,\n",
    "world,\n",
    "OK\n",
    "'''\n",
    "str.splitlines()\n",
    "\n",
    "## encode and decode, encode string with given format like 'utf-8' 'utf-16'\n",
    "str = 'hello'\n",
    "str.encode('utf-16')\n",
    "str = str.encode('utf-16')\n",
    "str.decode('utf-16')\n",
    "\n",
    "###----\n",
    "# Normally used attributes, some are also methods applied to string\n",
    "###----\n",
    "str = 'hello, 123'\n",
    "str.isalnum() #Checks if all characters are alphanumeric.\n",
    "str.isalpha() #Checks if all characters are alphabetic.\n",
    "str.isdigit() #Checks if all characters are digits.\n",
    "str.islower() #Checks if all characters are lowercase.\n",
    "str.isupper() #Checks if all characters are uppercase.\n",
    "str.isspace() #Checks if all characters are whitespace.\n",
    "str.startswith('he') #Checks if the string starts with a specified prefix.\n",
    "str.endswith('3') #Checks if the string ends with a specified suffix.\n",
    "\n",
    "## indexing\n",
    "str[3]\n",
    "#str[3] = 4 # TypeError: 'str' object does not support item assignment\n"
   ]
  },
  {
   "cell_type": "code",
   "execution_count": 114,
   "id": "2ae927c6-1be4-47ac-8243-5009610f0e6c",
   "metadata": {
    "scrolled": true
   },
   "outputs": [
    {
     "data": {
      "text/plain": [
       "\"\\nTuple is an ordered sequence of values, which is immutable. \\nWe can't add, remove, or modify items once the tuple is created. \\nHowever, we can always create a new tuple with the desired modifications.\\n\""
      ]
     },
     "execution_count": 114,
     "metadata": {},
     "output_type": "execute_result"
    },
    {
     "data": {
      "text/plain": [
       "(1, 2, 3)"
      ]
     },
     "execution_count": 114,
     "metadata": {},
     "output_type": "execute_result"
    },
    {
     "data": {
      "text/plain": [
       "3"
      ]
     },
     "execution_count": 114,
     "metadata": {},
     "output_type": "execute_result"
    },
    {
     "data": {
      "text/plain": [
       "((1, 2, 3), ('a', 'b'))"
      ]
     },
     "execution_count": 114,
     "metadata": {},
     "output_type": "execute_result"
    },
    {
     "data": {
      "text/plain": [
       "2"
      ]
     },
     "execution_count": 114,
     "metadata": {},
     "output_type": "execute_result"
    },
    {
     "data": {
      "text/plain": [
       "2"
      ]
     },
     "execution_count": 114,
     "metadata": {},
     "output_type": "execute_result"
    },
    {
     "data": {
      "text/plain": [
       "4"
      ]
     },
     "execution_count": 114,
     "metadata": {},
     "output_type": "execute_result"
    },
    {
     "data": {
      "text/plain": [
       "2"
      ]
     },
     "execution_count": 114,
     "metadata": {},
     "output_type": "execute_result"
    },
    {
     "data": {
      "text/plain": [
       "(2, 3, 'apple')"
      ]
     },
     "execution_count": 114,
     "metadata": {},
     "output_type": "execute_result"
    },
    {
     "name": "stdout",
     "output_type": "stream",
     "text": [
      "2\n",
      "3\n",
      "apple\n",
      "number\n"
     ]
    }
   ],
   "source": [
    "###++++++++\n",
    "# Tuple\n",
    "###++++++++\n",
    "\n",
    "\"\"\"\n",
    "Tuple is an ordered sequence of values, which is immutable. \n",
    "We can't add, remove, or modify items once the tuple is created. \n",
    "However, we can always create a new tuple with the desired modifications.\n",
    "\"\"\"\n",
    "\n",
    "tuple = (1, 2, 3)\n",
    "tuple = 1, 2, 3\n",
    "tuple\n",
    "tuple[2]\n",
    "tuple = (1, 2, 3), ('a', 'b')\n",
    "tuple # nested tuple\n",
    "#tuple[2] = 'o' # TypeError: 'tuple' object does not support item assignment\n",
    "\n",
    "###---------\n",
    "# Methods/Attributes on tuple\n",
    "###---------\n",
    "tuple0 = (1, 2, 3, 2, 4, 5)\n",
    "tuple0.count(2) # count number of elements\n",
    "tuple1 = ('a', 'b', 'hello', 'python', 'apple')\n",
    "tuple1.index('hello') # return the index of 'hello'\n",
    "\n",
    "tuple = (2, 3, 'apple', 'number')\n",
    "len(tuple)\n",
    "\n",
    "tuple[0]\n",
    "tuple[0:3]\n",
    "\n",
    "for item in tuple:\n",
    "    print(item)\n"
   ]
  },
  {
   "cell_type": "code",
   "execution_count": null,
   "id": "536df284-dd08-4600-b0a6-f193f8fe8e38",
   "metadata": {},
   "outputs": [],
   "source": [
    "###+++++\n",
    "# List\n",
    "###+++++\n",
    "\n",
    "'''\n",
    "List is one of the most popular object in python. It is mutable, we can modify the contents of an existed list. \n",
    "Any objects could be included in a list, even list of list is acceptable by python. \n",
    "There are pretty much methods/attributes attached to List, and there are many ways to build an list\n",
    "'''\n",
    "\n"
   ]
  }
 ],
 "metadata": {
  "kernelspec": {
   "display_name": "Python 3 (ipykernel)",
   "language": "python",
   "name": "python3"
  },
  "language_info": {
   "codemirror_mode": {
    "name": "ipython",
    "version": 3
   },
   "file_extension": ".py",
   "mimetype": "text/x-python",
   "name": "python",
   "nbconvert_exporter": "python",
   "pygments_lexer": "ipython3",
   "version": "3.11.7"
  }
 },
 "nbformat": 4,
 "nbformat_minor": 5
}
