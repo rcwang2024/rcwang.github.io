{
 "cells": [
  {
   "cell_type": "code",
   "execution_count": 1,
   "id": "a6a36c38-9b7d-47d6-9b14-6a6e2956fcb8",
   "metadata": {},
   "outputs": [
    {
     "name": "stdout",
     "output_type": "stream",
     "text": [
      "834\n"
     ]
    }
   ],
   "source": [
    "import random\n",
    "r = random.randrange(1, 1000)\n",
    "print(r)"
   ]
  },
  {
   "cell_type": "code",
   "execution_count": 4,
   "id": "bcacc3b7-3b28-4943-8d83-b889b2f3c58a",
   "metadata": {},
   "outputs": [
    {
     "data": {
      "text/plain": [
       "False"
      ]
     },
     "execution_count": 4,
     "metadata": {},
     "output_type": "execute_result"
    },
    {
     "data": {
      "text/plain": [
       "True"
      ]
     },
     "execution_count": 4,
     "metadata": {},
     "output_type": "execute_result"
    },
    {
     "data": {
      "text/plain": [
       "True"
      ]
     },
     "execution_count": 4,
     "metadata": {},
     "output_type": "execute_result"
    }
   ],
   "source": [
    "from IPython.core.interactiveshell import InteractiveShell\n",
    "InteractiveShell.ast_node_interactivity = \"all\"\n",
    "\n",
    "1 == 2\n",
    "1 != 2\n",
    "'a' in 'basic'"
   ]
  },
  {
   "cell_type": "code",
   "execution_count": 11,
   "id": "09d9af2c-798d-4281-b31a-9794cda96908",
   "metadata": {},
   "outputs": [
    {
     "name": "stdout",
     "output_type": "stream",
     "text": [
      "535 is odd\n"
     ]
    }
   ],
   "source": [
    "import random\n",
    "r = random.randrange(1, 1000)\n",
    "\n",
    "if r % 2 == 0:\n",
    "    print(r, 'is even')\n",
    "else:\n",
    "    print(r, 'is odd')"
   ]
  },
  {
   "cell_type": "code",
   "execution_count": 23,
   "id": "b64b2a33-bd7d-4a03-b96d-7367e1eae7dc",
   "metadata": {
    "scrolled": true
   },
   "outputs": [
    {
     "name": "stdout",
     "output_type": "stream",
     "text": [
      "2\n",
      "3\n",
      "5\n",
      "7\n",
      "11\n",
      "13\n",
      "17\n",
      "19\n",
      "23\n",
      "29\n",
      "31\n",
      "37\n",
      "41\n",
      "43\n",
      "47\n",
      "53\n",
      "59\n",
      "61\n",
      "67\n",
      "71\n",
      "73\n",
      "79\n",
      "83\n",
      "89\n",
      "97\n"
     ]
    }
   ],
   "source": [
    "#for n in range(10):\n",
    " #   if n % 2 != 0:\n",
    "  #      print(n)\n",
    "\n",
    "for n in range(2, 100):\n",
    "    if n == 2:\n",
    "        print(n)\n",
    "        continue\n",
    "    for i in range(2, int(n ** 0.5)+1):\n",
    "        if n%i == 0:\n",
    "            break\n",
    "    else:\n",
    "        print(n)"
   ]
  },
  {
   "cell_type": "code",
   "execution_count": 27,
   "id": "fe52b35c-7449-4466-ba7b-d8efa89a597b",
   "metadata": {},
   "outputs": [
    {
     "name": "stdout",
     "output_type": "stream",
     "text": [
      "83\n",
      "89\n",
      "97\n"
     ]
    }
   ],
   "source": [
    "def is_prime(n):\n",
    "    if n < 2:\n",
    "        return False\n",
    "    if n==2:\n",
    "        return True\n",
    "    for m in range(2, int(n**0.5)+1):\n",
    "        if (n % m) == 0:\n",
    "            return False\n",
    "    else:\n",
    "        return True\n",
    "            \n",
    "for n in range(80, 100):\n",
    "    if is_prime(n):\n",
    "        print(n)"
   ]
  },
  {
   "cell_type": "code",
   "execution_count": 1,
   "id": "5da8e561-8b23-44e0-8418-8fad52f64d15",
   "metadata": {},
   "outputs": [
    {
     "name": "stdout",
     "output_type": "stream",
     "text": [
      "None\n",
      "None\n",
      "None\n"
     ]
    }
   ],
   "source": [
    "def f():\n",
    "    pass\n",
    "print(f())\n",
    "print(print(f()))"
   ]
  },
  {
   "cell_type": "code",
   "execution_count": 7,
   "id": "6fc75837-e474-4b61-b65d-bc01a1a4be5f",
   "metadata": {},
   "outputs": [
    {
     "data": {
      "text/plain": [
       "3.1415926"
      ]
     },
     "execution_count": 7,
     "metadata": {},
     "output_type": "execute_result"
    },
    {
     "data": {
      "text/plain": [
       "3"
      ]
     },
     "execution_count": 7,
     "metadata": {},
     "output_type": "execute_result"
    },
    {
     "data": {
      "text/plain": [
       "3.0"
      ]
     },
     "execution_count": 7,
     "metadata": {},
     "output_type": "execute_result"
    }
   ],
   "source": [
    "from IPython.core.interactiveshell import InteractiveShell\n",
    "InteractiveShell.ast_node_interactivity = \"all\"\n",
    "\n",
    "abs(-3.1415926)\n",
    "int(abs(-3.1415926))\n",
    "float(int(abs(-3.1415926)))"
   ]
  },
  {
   "cell_type": "code",
   "execution_count": 9,
   "id": "d9634814-3441-42c4-a6c5-517976f585aa",
   "metadata": {},
   "outputs": [
    {
     "data": {
      "text/plain": [
       "int"
      ]
     },
     "execution_count": 9,
     "metadata": {},
     "output_type": "execute_result"
    },
    {
     "data": {
      "text/plain": [
       "float"
      ]
     },
     "execution_count": 9,
     "metadata": {},
     "output_type": "execute_result"
    },
    {
     "data": {
      "text/plain": [
       "str"
      ]
     },
     "execution_count": 9,
     "metadata": {},
     "output_type": "execute_result"
    },
    {
     "data": {
      "text/plain": [
       "bool"
      ]
     },
     "execution_count": 9,
     "metadata": {},
     "output_type": "execute_result"
    },
    {
     "data": {
      "text/plain": [
       "range"
      ]
     },
     "execution_count": 9,
     "metadata": {},
     "output_type": "execute_result"
    },
    {
     "data": {
      "text/plain": [
       "list"
      ]
     },
     "execution_count": 9,
     "metadata": {},
     "output_type": "execute_result"
    },
    {
     "data": {
      "text/plain": [
       "tuple"
      ]
     },
     "execution_count": 9,
     "metadata": {},
     "output_type": "execute_result"
    },
    {
     "data": {
      "text/plain": [
       "set"
      ]
     },
     "execution_count": 9,
     "metadata": {},
     "output_type": "execute_result"
    },
    {
     "data": {
      "text/plain": [
       "dict"
      ]
     },
     "execution_count": 9,
     "metadata": {},
     "output_type": "execute_result"
    }
   ],
   "source": [
    "from IPython.core.interactiveshell import InteractiveShell\n",
    "InteractiveShell.ast_node_interactivity = 'all'\n",
    "\n",
    "type(3)\n",
    "type(3.0)\n",
    "type('3.14')\n",
    "type(True)\n",
    "type(range(10))\n",
    "type([1,2,3])\n",
    "type((1,2,3))\n",
    "type({1,2,3})\n",
    "type({'a':1, 'b':2, 'c':3})"
   ]
  },
  {
   "cell_type": "code",
   "execution_count": 11,
   "id": "b5b5d965-53be-439a-bffe-76848f9f02b8",
   "metadata": {},
   "outputs": [
    {
     "data": {
      "text/plain": [
       "False"
      ]
     },
     "execution_count": 11,
     "metadata": {},
     "output_type": "execute_result"
    },
    {
     "data": {
      "text/plain": [
       "True"
      ]
     },
     "execution_count": 11,
     "metadata": {},
     "output_type": "execute_result"
    }
   ],
   "source": [
    "True and False or not True # not > and > or\n",
    "n = -95\n",
    "n < 0 and (n + 1)%2 == 0"
   ]
  },
  {
   "cell_type": "code",
   "execution_count": 15,
   "id": "9f734e04-bcba-44aa-b64a-2299c2f06980",
   "metadata": {},
   "outputs": [
    {
     "data": {
      "text/plain": [
       "'AwesomePython'"
      ]
     },
     "execution_count": 15,
     "metadata": {},
     "output_type": "execute_result"
    },
    {
     "data": {
      "text/plain": [
       "'AwesomePython'"
      ]
     },
     "execution_count": 15,
     "metadata": {},
     "output_type": "execute_result"
    },
    {
     "data": {
      "text/plain": [
       "'Awesome, PythonPythonPython'"
      ]
     },
     "execution_count": 15,
     "metadata": {},
     "output_type": "execute_result"
    },
    {
     "data": {
      "text/plain": [
       "False"
      ]
     },
     "execution_count": 15,
     "metadata": {},
     "output_type": "execute_result"
    },
    {
     "data": {
      "text/plain": [
       "True"
      ]
     },
     "execution_count": 15,
     "metadata": {},
     "output_type": "execute_result"
    },
    {
     "data": {
      "text/plain": [
       "False"
      ]
     },
     "execution_count": 15,
     "metadata": {},
     "output_type": "execute_result"
    },
    {
     "data": {
      "text/plain": [
       "65"
      ]
     },
     "execution_count": 15,
     "metadata": {},
     "output_type": "execute_result"
    },
    {
     "data": {
      "text/plain": [
       "97"
      ]
     },
     "execution_count": 15,
     "metadata": {},
     "output_type": "execute_result"
    }
   ],
   "source": [
    "## Operation of string\n",
    "'Awesome' + 'Python'\n",
    "'Awesome' 'Python'\n",
    "'Awesome, ' + 'Python' * 3\n",
    "'o' in 'Awesome' and 'o' not in 'Python'\n",
    "\n",
    "'a' < 'b'\n",
    "'A' > 'a'\n",
    "ord('A')\n",
    "ord('a')"
   ]
  },
  {
   "cell_type": "code",
   "execution_count": 16,
   "id": "727a14bf-18b6-4ac5-94e0-5aee703be3a7",
   "metadata": {},
   "outputs": [
    {
     "data": {
      "text/plain": [
       "False"
      ]
     },
     "execution_count": 16,
     "metadata": {},
     "output_type": "execute_result"
    },
    {
     "data": {
      "text/plain": [
       "True"
      ]
     },
     "execution_count": 16,
     "metadata": {},
     "output_type": "execute_result"
    },
    {
     "data": {
      "text/plain": [
       "True"
      ]
     },
     "execution_count": 16,
     "metadata": {},
     "output_type": "execute_result"
    },
    {
     "data": {
      "text/plain": [
       "'\\n        (Python\\tBuilt-in\\tFunctions)\\nabs()\\tdelattr()\\thash()\\tmemoryview()\\tset()\\nall()\\tdict()\\thelp()\\tmin()\\tsetattr()\\nany()\\tdir()\\thex()\\tnext()\\tslice()\\nascii()\\tdivmod()\\tid()\\tobject()\\tsorted()\\nbin()\\tenumerate()\\tinput()\\toct()\\tstaticmethod()\\nbool()\\teval()\\tint()\\topen()\\tstr()\\nbreakpoint()\\texec()\\tisinstance()\\tord()\\tsum()\\nbytearray()\\tfilter()\\tissubclass()\\tpow()\\tsuper()\\nbytes()\\tfloat()\\titer()\\tprint()\\ttuple()\\ncallable()\\tformat()\\tlen()\\tproperty()\\ttype()\\nchr()\\tfrozenset()\\tlist()\\trange()\\tvars()\\nclassmethod()\\tgetattr()\\tlocals()\\trepr()\\tzip()\\ncompile()\\tglobals()\\tmap()\\treversed()\\timport()\\ncomplex()\\thasattr()\\tmax()\\tround()\\t\\n'"
      ]
     },
     "execution_count": 16,
     "metadata": {},
     "output_type": "execute_result"
    },
    {
     "data": {
      "text/plain": [
       "(3, 2)"
      ]
     },
     "execution_count": 16,
     "metadata": {},
     "output_type": "execute_result"
    },
    {
     "data": {
      "text/plain": [
       "-0.9589242746631385"
      ]
     },
     "execution_count": 16,
     "metadata": {},
     "output_type": "execute_result"
    },
    {
     "data": {
      "text/plain": [
       "(3537118815677477, 1125899906842624)"
      ]
     },
     "execution_count": 16,
     "metadata": {},
     "output_type": "execute_result"
    },
    {
     "data": {
      "text/plain": [
       "True"
      ]
     },
     "execution_count": 16,
     "metadata": {},
     "output_type": "execute_result"
    },
    {
     "data": {
      "text/plain": [
       "[1, 2, 3, 4, 4, 5]"
      ]
     },
     "execution_count": 16,
     "metadata": {},
     "output_type": "execute_result"
    },
    {
     "data": {
      "text/plain": [
       "{1, 2, 3, 4, 5}"
      ]
     },
     "execution_count": 16,
     "metadata": {},
     "output_type": "execute_result"
    },
    {
     "data": {
      "text/plain": [
       "[1, 2, 3, 4, 5]"
      ]
     },
     "execution_count": 16,
     "metadata": {},
     "output_type": "execute_result"
    },
    {
     "data": {
      "text/plain": [
       "(1, 2, 3, 4, 5)"
      ]
     },
     "execution_count": 16,
     "metadata": {},
     "output_type": "execute_result"
    }
   ],
   "source": [
    "## Operation of list\n",
    "\n",
    "from IPython.core.interactiveshell import InteractiveShell\n",
    "InteractiveShell.ast_node_interactivity = 'all'\n",
    "\n",
    "a_lst = [1, 2, 3, 4, 5, 6]\n",
    "b_lst = [1, 2, 3, 5, 6, 7]\n",
    "c_lst = ['Albert', 'Borris', 'David', 'Fly']\n",
    "\n",
    "a_lst > b_lst\n",
    "'Albert' in c_lst\n",
    "10 not in a_lst\n",
    "\n",
    "\n",
    "\"\"\"\n",
    "        (Python\tBuilt-in\tFunctions)\n",
    "abs()\tdelattr()\thash()\tmemoryview()\tset()\n",
    "all()\tdict()\thelp()\tmin()\tsetattr()\n",
    "any()\tdir()\thex()\tnext()\tslice()\n",
    "ascii()\tdivmod()\tid()\tobject()\tsorted()\n",
    "bin()\tenumerate()\tinput()\toct()\tstaticmethod()\n",
    "bool()\teval()\tint()\topen()\tstr()\n",
    "breakpoint()\texec()\tisinstance()\tord()\tsum()\n",
    "bytearray()\tfilter()\tissubclass()\tpow()\tsuper()\n",
    "bytes()\tfloat()\titer()\tprint()\ttuple()\n",
    "callable()\tformat()\tlen()\tproperty()\ttype()\n",
    "chr()\tfrozenset()\tlist()\trange()\tvars()\n",
    "classmethod()\tgetattr()\tlocals()\trepr()\tzip()\n",
    "compile()\tglobals()\tmap()\treversed()\timport()\n",
    "complex()\thasattr()\tmax()\tround()\t\n",
    "\"\"\"\n",
    "\n",
    "divmod(11, 3) \n",
    "import math\n",
    "math.sin(5)\n",
    "3.1415926.as_integer_ratio()\n",
    "True or 'Python'\n",
    "\n",
    "a = [1, 2, 3, 4, 4, 5]\n",
    "a\n",
    "b = set(a)\n",
    "b\n",
    "c = list(b)\n",
    "c\n",
    "d = tuple(c)\n",
    "d"
   ]
  },
  {
   "cell_type": "code",
   "execution_count": 25,
   "id": "08cad304-dbd6-4c1a-bf86-a1cf5252ec2b",
   "metadata": {},
   "outputs": [
    {
     "name": "stdout",
     "output_type": "stream",
     "text": [
      "647 is odd\n"
     ]
    }
   ],
   "source": [
    "## If, else\n",
    "\n",
    "import random\n",
    "r = random.randrange(0, 1000)\n",
    "\n",
    "if r % 2 == 0:\n",
    "    print(f'{r} is even')\n",
    "else:\n",
    "    print(f'{r} is odd')"
   ]
  },
  {
   "cell_type": "code",
   "execution_count": 36,
   "id": "bbff8268-c253-4957-b49a-735672f399bf",
   "metadata": {},
   "outputs": [
    {
     "name": "stdout",
     "output_type": "stream",
     "text": [
      "1\n",
      "Not valid\n"
     ]
    }
   ],
   "source": [
    "## If, elif\n",
    "import random\n",
    "\n",
    "r = random.randrange(0, 13)\n",
    "if r == 7:\n",
    "    print(r)\n",
    "    print('Draw')\n",
    "elif r > 7:\n",
    "    print(r)\n",
    "    print('Big')\n",
    "elif 2 <= r < 7:\n",
    "    print(r)\n",
    "    print('Small')\n",
    "else:\n",
    "    print(r)\n",
    "    print('Not valid')"
   ]
  },
  {
   "cell_type": "code",
   "execution_count": 38,
   "id": "38a08abb-a00a-4012-b5f9-4a56374a4e86",
   "metadata": {},
   "outputs": [
    {
     "name": "stdout",
     "output_type": "stream",
     "text": [
      "value of a: 0\n",
      "value of a: 1\n",
      "value of a: 2\n",
      "value of a: 3\n",
      "value of a: 4\n",
      "value of a: 5\n",
      "value of a: 6\n",
      "value of a: 7\n",
      "value of a: 8\n",
      "value of a: 9\n"
     ]
    },
    {
     "data": {
      "text/plain": [
       "range(0, 10)"
      ]
     },
     "execution_count": 38,
     "metadata": {},
     "output_type": "execute_result"
    },
    {
     "data": {
      "text/plain": [
       "[0, 1, 2, 3, 4, 5, 6, 7, 8, 9]"
      ]
     },
     "execution_count": 38,
     "metadata": {},
     "output_type": "execute_result"
    }
   ],
   "source": [
    "## for\n",
    "for a in range(10):\n",
    "    print(f'value of a: {a}')\n",
    "\n",
    "range(10)\n",
    "list(range(10))"
   ]
  },
  {
   "cell_type": "code",
   "execution_count": 2,
   "id": "42ce8223-7ffd-424f-a2ef-499a0b8e7ac7",
   "metadata": {
    "scrolled": true
   },
   "outputs": [
    {
     "name": "stdout",
     "output_type": "stream",
     "text": [
      "2\n",
      "3\n",
      "5\n",
      "7\n",
      "11\n",
      "13\n",
      "17\n",
      "19\n",
      "23\n",
      "29\n",
      "31\n",
      "37\n",
      "41\n",
      "43\n",
      "47\n",
      "53\n",
      "59\n",
      "61\n",
      "67\n",
      "71\n",
      "73\n",
      "79\n",
      "83\n",
      "89\n",
      "97\n"
     ]
    }
   ],
   "source": [
    "## continue, break, pass\n",
    "# continue 语句将忽略其后的语句开始下次循环，\n",
    "# 而 break 语句将从此结束当前循环，开始执行循环之后的语句, \n",
    "# pass 用来占位，什么也不做，写给程序员自身\n",
    "\n",
    "for n in range(2, 100):\n",
    "    if n == 2:\n",
    "        print(n)\n",
    "        continue\n",
    "    for m in range(2, n):\n",
    "        if (n%m) == 0:\n",
    "            break\n",
    "    else:\n",
    "        print(n)\n",
    "\n",
    "for i in range(2, 100):\n",
    "    pass\n",
    "    if (i%2) == 0:\n",
    "        pass"
   ]
  },
  {
   "cell_type": "code",
   "execution_count": 6,
   "id": "b4e95733-7721-448e-b851-e931e8d83260",
   "metadata": {
    "scrolled": true
   },
   "outputs": [
    {
     "name": "stdout",
     "output_type": "stream",
     "text": [
      "0 1 1 2 3 5 8 13 21 34 55 89 144 233 377 610 987 "
     ]
    }
   ],
   "source": [
    "### While\n",
    "\n",
    "n = 1000\n",
    "a, b = 0, 1\n",
    "while a < n:\n",
    "    print(a, end=' ')\n",
    "    a, b = b, a+b\n",
    "\n"
   ]
  },
  {
   "cell_type": "code",
   "execution_count": 15,
   "id": "ff11b959-a1af-4811-b070-80ae49ca79b0",
   "metadata": {
    "scrolled": true
   },
   "outputs": [
    {
     "name": "stdout",
     "output_type": "stream",
     "text": [
      "You: 10 \n",
      "Bot: 10\n"
     ]
    },
    {
     "name": "stdin",
     "output_type": "stream",
     "text": [
      "what is your bet? u\n"
     ]
    },
    {
     "name": "stdout",
     "output_type": "stream",
     "text": [
      "u is not a valid bet, game over\n",
      "You've played 0 rounds.\n",
      "\n",
      "You have 10 coins now.\n",
      "Bye!\n"
     ]
    }
   ],
   "source": [
    "from random import randrange\n",
    "\n",
    "coin_user, coin_bot = 10, 10\n",
    "round_of_game = 0\n",
    "\n",
    "def bet(dice, wager):\n",
    "    if dice == 7:\n",
    "        print(f'The dice is {dice}, \\n DRAW \\n')\n",
    "        return 0\n",
    "        \n",
    "    elif dice < 7:\n",
    "        if wager == 's':\n",
    "            print(f'The dice is {dice}, \\n You win!')\n",
    "            return 1\n",
    "        elif wager == 'b':\n",
    "            print(f'The dice is {dice}, \\n You lose!')\n",
    "            return -1\n",
    "        \n",
    "    elif dice > 7:\n",
    "        if wager == 's':\n",
    "            print(f'The dice is {dice}, \\n You lose!')\n",
    "            return -1\n",
    "        elif wager == 'b':\n",
    "            print(f'The dice is {dice}, \\n You win!')\n",
    "            return 1\n",
    "\n",
    "while True:\n",
    "    print(f'You: {coin_user} \\nBot: {coin_bot}')\n",
    "    dice = randrange(2, 13)\n",
    "    wager = input('what is your bet?')\n",
    "    if wager == 'q':\n",
    "        break\n",
    "    elif wager in 'sb':\n",
    "        result = bet(dice, wager)\n",
    "        coin_user += result\n",
    "        coin_bot -= result\n",
    "    else: \n",
    "        print(f'{wager} is not a valid bet, game over')\n",
    "        break\n",
    "        \n",
    "    if coin_user == 0:\n",
    "        print('Woops, you lost all your coins, game over')\n",
    "        break\n",
    "    elif coin_bot == 0:\n",
    "        print('Haha, you win all the coins, game over')\n",
    "        break\n",
    "    \n",
    "\n",
    "print(f\"You've played {round_of_game} rounds.\\n\")\n",
    "print(f\"You have {coin_user} coins now.\\nBye!\")   "
   ]
  },
  {
   "cell_type": "code",
   "execution_count": 26,
   "id": "e5439a0d-5dad-4faf-99d1-6c7e1cb182b5",
   "metadata": {},
   "outputs": [
    {
     "name": "stdout",
     "output_type": "stream",
     "text": [
      "line 1\n",
      "\n",
      "line 2\n",
      "Ann is 22 years old\n",
      "hello--world\t1\n",
      "None\n"
     ]
    }
   ],
   "source": [
    "import sys\n",
    "print('line 1')\n",
    "print()\n",
    "print('line 2')\n",
    "\n",
    "name = 'Ann'\n",
    "age = '22'\n",
    "print(f'{name} is {age} years old')\n",
    "f'{name} is {age} years old'\n",
    "\n",
    "print('hello', 'world', sep='--', end='\\t', file=sys.stdout, flush=False)\n",
    "print(print(1))"
   ]
  },
  {
   "cell_type": "code",
   "execution_count": 34,
   "id": "3878c333-247b-4a9d-84cb-8967bbda5ccf",
   "metadata": {},
   "outputs": [
    {
     "data": {
      "text/plain": [
       "['a', 'b', 'g', 'h']"
      ]
     },
     "execution_count": 34,
     "metadata": {},
     "output_type": "execute_result"
    },
    {
     "data": {
      "text/plain": [
       "['d', 'c', 'b', 'a']"
      ]
     },
     "execution_count": 34,
     "metadata": {},
     "output_type": "execute_result"
    },
    {
     "data": {
      "text/plain": [
       "(3, 2)"
      ]
     },
     "execution_count": 34,
     "metadata": {},
     "output_type": "execute_result"
    },
    {
     "data": {
      "text/plain": [
       "3"
      ]
     },
     "execution_count": 34,
     "metadata": {},
     "output_type": "execute_result"
    },
    {
     "data": {
      "text/plain": [
       "2"
      ]
     },
     "execution_count": 34,
     "metadata": {},
     "output_type": "execute_result"
    },
    {
     "data": {
      "text/plain": [
       "(0, 3)"
      ]
     },
     "execution_count": 34,
     "metadata": {},
     "output_type": "execute_result"
    },
    {
     "data": {
      "text/plain": [
       "0"
      ]
     },
     "execution_count": 34,
     "metadata": {},
     "output_type": "execute_result"
    },
    {
     "data": {
      "text/plain": [
       "3"
      ]
     },
     "execution_count": 34,
     "metadata": {},
     "output_type": "execute_result"
    },
    {
     "data": {
      "text/plain": [
       "8"
      ]
     },
     "execution_count": 34,
     "metadata": {},
     "output_type": "execute_result"
    },
    {
     "data": {
      "text/plain": [
       "0"
      ]
     },
     "execution_count": 34,
     "metadata": {},
     "output_type": "execute_result"
    },
    {
     "data": {
      "text/plain": [
       "False"
      ]
     },
     "execution_count": 34,
     "metadata": {},
     "output_type": "execute_result"
    },
    {
     "data": {
      "text/plain": [
       "True"
      ]
     },
     "execution_count": 34,
     "metadata": {},
     "output_type": "execute_result"
    },
    {
     "data": {
      "text/plain": [
       "False"
      ]
     },
     "execution_count": 34,
     "metadata": {},
     "output_type": "execute_result"
    },
    {
     "data": {
      "text/plain": [
       "False"
      ]
     },
     "execution_count": 34,
     "metadata": {},
     "output_type": "execute_result"
    },
    {
     "data": {
      "text/plain": [
       "True"
      ]
     },
     "execution_count": 34,
     "metadata": {},
     "output_type": "execute_result"
    },
    {
     "data": {
      "text/plain": [
       "False"
      ]
     },
     "execution_count": 34,
     "metadata": {},
     "output_type": "execute_result"
    },
    {
     "data": {
      "text/plain": [
       "True"
      ]
     },
     "execution_count": 34,
     "metadata": {},
     "output_type": "execute_result"
    }
   ],
   "source": [
    "## basic of using functions\n",
    "from IPython.core.interactiveshell import InteractiveShell\n",
    "InteractiveShell.ast_node_interactivity = 'all'\n",
    "\n",
    "sorted('abgh')\n",
    "sorted('abcd', reverse=True)\n",
    "\n",
    "divmod(11, 3)\n",
    "a, b = divmod(11, 3)\n",
    "a\n",
    "b\n",
    "\n",
    "divmod(3, 11)\n",
    "a, b = divmod(3, 11)\n",
    "a\n",
    "b\n",
    "\n",
    "pow(2, 3)\n",
    "pow(2, 3, 4)\n",
    "\n",
    "bool()\n",
    "bool(1234)\n",
    "bool(0)\n",
    "bool('')\n",
    "bool('kjia')\n",
    "bool(False)\n",
    "bool(-1)"
   ]
  },
  {
   "cell_type": "code",
   "execution_count": 41,
   "id": "316aa6ef-d0d8-4148-852a-964d2e0118e1",
   "metadata": {},
   "outputs": [
    {
     "data": {
      "text/plain": [
       "3.3000000000000003"
      ]
     },
     "execution_count": 41,
     "metadata": {},
     "output_type": "execute_result"
    },
    {
     "data": {
      "text/plain": [
       "97"
      ]
     },
     "execution_count": 41,
     "metadata": {},
     "output_type": "execute_result"
    },
    {
     "data": {
      "text/plain": [
       "'z'"
      ]
     },
     "execution_count": 41,
     "metadata": {},
     "output_type": "execute_result"
    },
    {
     "data": {
      "text/plain": [
       "27653"
      ]
     },
     "execution_count": 41,
     "metadata": {},
     "output_type": "execute_result"
    },
    {
     "data": {
      "text/plain": [
       "'挊'"
      ]
     },
     "execution_count": 41,
     "metadata": {},
     "output_type": "execute_result"
    },
    {
     "data": {
      "text/plain": [
       "'Simple is better than complex'"
      ]
     },
     "execution_count": 41,
     "metadata": {},
     "output_type": "execute_result"
    },
    {
     "data": {
      "text/plain": [
       "\"Simple is better 'than' complex\""
      ]
     },
     "execution_count": 41,
     "metadata": {},
     "output_type": "execute_result"
    },
    {
     "data": {
      "text/plain": [
       "'\\nsimple is better than complex;\\ncomplex is better than complicated\\n'"
      ]
     },
     "execution_count": 41,
     "metadata": {},
     "output_type": "execute_result"
    }
   ],
   "source": [
    "## string\n",
    "1.1 + 2.2\n",
    "\n",
    "ord('a')\n",
    "chr(122)\n",
    "ord('氅')\n",
    "chr(25354)\n",
    "\n",
    "'Simple is better than complex'\n",
    "\"Simple is better 'than' complex\"\n",
    "\n",
    "\"\"\"\n",
    "simple is better than complex;\n",
    "complex is better than complicated\n",
    "\"\"\""
   ]
  },
  {
   "cell_type": "code",
   "execution_count": 46,
   "id": "bc0bdaaa-83dc-4894-8b72-8517aa03687b",
   "metadata": {},
   "outputs": [
    {
     "name": "stdout",
     "output_type": "stream",
     "text": [
      "\n",
      "simple is better than complex;\n",
      "complex is better than complicated\n",
      "\n"
     ]
    },
    {
     "data": {
      "text/plain": [
       "3"
      ]
     },
     "execution_count": 46,
     "metadata": {},
     "output_type": "execute_result"
    },
    {
     "data": {
      "text/plain": [
       "3.0"
      ]
     },
     "execution_count": 46,
     "metadata": {},
     "output_type": "execute_result"
    },
    {
     "data": {
      "text/plain": [
       "'19'"
      ]
     },
     "execution_count": 46,
     "metadata": {},
     "output_type": "execute_result"
    },
    {
     "ename": "ValueError",
     "evalue": "invalid literal for int() with base 10: '3.6'",
     "output_type": "error",
     "traceback": [
      "\u001b[0;31m---------------------------------------------------------------------------\u001b[0m",
      "\u001b[0;31mValueError\u001b[0m                                Traceback (most recent call last)",
      "Cell \u001b[0;32mIn[46], line 11\u001b[0m\n\u001b[1;32m      9\u001b[0m \u001b[38;5;28mstr\u001b[39m(\u001b[38;5;241m19\u001b[39m)\n\u001b[1;32m     10\u001b[0m \u001b[38;5;66;03m#int('3.1515765')\u001b[39;00m\n\u001b[0;32m---> 11\u001b[0m \u001b[38;5;28mint\u001b[39m(\u001b[38;5;124m'\u001b[39m\u001b[38;5;124m3.6\u001b[39m\u001b[38;5;124m'\u001b[39m)\n",
      "\u001b[0;31mValueError\u001b[0m: invalid literal for int() with base 10: '3.6'"
     ]
    }
   ],
   "source": [
    "print(\n",
    "\"\"\"\n",
    "simple is better than complex;\n",
    "complex is better than complicated\n",
    "\"\"\")\n",
    "\n",
    "int('3')\n",
    "float('3')\n",
    "str(19)\n",
    "#int('3.1515765')\n",
    "int('3.6')"
   ]
  },
  {
   "cell_type": "code",
   "execution_count": 47,
   "id": "7c7cbdc7-da43-46eb-a2d2-726b18cd6256",
   "metadata": {},
   "outputs": [
    {
     "name": "stdin",
     "output_type": "stream",
     "text": [
      "\n",
      "please tell me your age:\n",
      "an integer, e.g. 22\n",
      " 78\n"
     ]
    },
    {
     "name": "stdout",
     "output_type": "stream",
     "text": [
      "Have a nice drink!\n"
     ]
    }
   ],
   "source": [
    "age = int(input(\"\"\"\n",
    "please tell me your age:\n",
    "an integer, e.g. 22\n",
    "\"\"\"))\n",
    "if age < 18:\n",
    "    print('I can not sell you beer')\n",
    "else:\n",
    "    print('Have a nice drink!')\n"
   ]
  },
  {
   "cell_type": "code",
   "execution_count": 54,
   "id": "84c51708-5ba1-4db2-b76b-e54595ab3c78",
   "metadata": {},
   "outputs": [
    {
     "data": {
      "text/plain": [
       "'\\\\'"
      ]
     },
     "execution_count": 54,
     "metadata": {},
     "output_type": "execute_result"
    },
    {
     "data": {
      "text/plain": [
       "'\\\\t'"
      ]
     },
     "execution_count": 54,
     "metadata": {},
     "output_type": "execute_result"
    },
    {
     "data": {
      "text/plain": [
       "'\\\\n'"
      ]
     },
     "execution_count": 54,
     "metadata": {},
     "output_type": "execute_result"
    },
    {
     "data": {
      "text/plain": [
       "'\\n'"
      ]
     },
     "execution_count": 54,
     "metadata": {},
     "output_type": "execute_result"
    },
    {
     "data": {
      "text/plain": [
       "\"He said, it's fine.\""
      ]
     },
     "execution_count": 54,
     "metadata": {},
     "output_type": "execute_result"
    },
    {
     "data": {
      "text/plain": [
       "\"He said, it's fine.\""
      ]
     },
     "execution_count": 54,
     "metadata": {},
     "output_type": "execute_result"
    }
   ],
   "source": [
    "'\\\\'\n",
    "'\\\\t'\n",
    "'\\\\n'\n",
    "'\\n'\n",
    "\n",
    "'He said, it\\'s fine.'\n",
    "\"He said, it\\'s fine.\""
   ]
  },
  {
   "cell_type": "code",
   "execution_count": 58,
   "id": "2b592293-338e-48d6-807a-e9257b3f8d86",
   "metadata": {},
   "outputs": [
    {
     "name": "stdout",
     "output_type": "stream",
     "text": [
      "0 p\n",
      "1 y\n",
      "2 t\n",
      "3 h\n",
      "4 o\n",
      "5 n\n"
     ]
    },
    {
     "data": {
      "text/plain": [
       "'y'"
      ]
     },
     "execution_count": 58,
     "metadata": {},
     "output_type": "execute_result"
    },
    {
     "data": {
      "text/plain": [
       "'thon'"
      ]
     },
     "execution_count": 58,
     "metadata": {},
     "output_type": "execute_result"
    },
    {
     "data": {
      "text/plain": [
       "'py'"
      ]
     },
     "execution_count": 58,
     "metadata": {},
     "output_type": "execute_result"
    },
    {
     "data": {
      "text/plain": [
       "'th'"
      ]
     },
     "execution_count": 58,
     "metadata": {},
     "output_type": "execute_result"
    },
    {
     "data": {
      "text/plain": [
       "'yh'"
      ]
     },
     "execution_count": 58,
     "metadata": {},
     "output_type": "execute_result"
    }
   ],
   "source": [
    "s = 'python'\n",
    "for char in s:\n",
    "    print(s.index(char), char)\n",
    "s[1]\n",
    "s[2:]\n",
    "s[:2]\n",
    "s[2:4]\n",
    "s[1:5:2]"
   ]
  },
  {
   "cell_type": "code",
   "execution_count": 65,
   "id": "ad7b84f9-c9fb-49da-8327-f19d1215bc8e",
   "metadata": {},
   "outputs": [
    {
     "name": "stdin",
     "output_type": "stream",
     "text": [
      "Enter a number, will be stored as in string:  8.98\n"
     ]
    },
    {
     "data": {
      "text/plain": [
       "'8.98'"
      ]
     },
     "execution_count": 65,
     "metadata": {},
     "output_type": "execute_result"
    },
    {
     "data": {
      "text/plain": [
       "80.82000000000001"
      ]
     },
     "execution_count": 65,
     "metadata": {},
     "output_type": "execute_result"
    },
    {
     "data": {
      "text/plain": [
       "90"
      ]
     },
     "execution_count": 65,
     "metadata": {},
     "output_type": "execute_result"
    },
    {
     "data": {
      "text/plain": [
       "4"
      ]
     },
     "execution_count": 65,
     "metadata": {},
     "output_type": "execute_result"
    },
    {
     "name": "stdout",
     "output_type": "stream",
     "text": [
      "8.988.988.98\n"
     ]
    }
   ],
   "source": [
    "s = input('Enter a number, will be stored as in string: ')\n",
    "s \n",
    "float(s)*9\n",
    "int('90')\n",
    "len(s)\n",
    "print(s*3)"
   ]
  },
  {
   "cell_type": "code",
   "execution_count": 82,
   "id": "869ac0f9-2737-4348-bdae-d467a720ad00",
   "metadata": {},
   "outputs": [
    {
     "data": {
      "text/plain": [
       "'PYTHON'"
      ]
     },
     "execution_count": 82,
     "metadata": {},
     "output_type": "execute_result"
    },
    {
     "data": {
      "text/plain": [
       "'python'"
      ]
     },
     "execution_count": 82,
     "metadata": {},
     "output_type": "execute_result"
    },
    {
     "data": {
      "text/plain": [
       "'NOW IS BETTER THAN NEVER'"
      ]
     },
     "execution_count": 82,
     "metadata": {},
     "output_type": "execute_result"
    },
    {
     "data": {
      "text/plain": [
       "'now is better than never'"
      ]
     },
     "execution_count": 82,
     "metadata": {},
     "output_type": "execute_result"
    },
    {
     "data": {
      "text/plain": [
       "'ss'"
      ]
     },
     "execution_count": 82,
     "metadata": {},
     "output_type": "execute_result"
    },
    {
     "data": {
      "text/plain": [
       "'Now is better than never'"
      ]
     },
     "execution_count": 82,
     "metadata": {},
     "output_type": "execute_result"
    },
    {
     "data": {
      "text/plain": [
       "'NOW IS bETTER THAN NEVEr'"
      ]
     },
     "execution_count": 82,
     "metadata": {},
     "output_type": "execute_result"
    },
    {
     "data": {
      "text/plain": [
       "'Now Is Better Than Never'"
      ]
     },
     "execution_count": 82,
     "metadata": {},
     "output_type": "execute_result"
    },
    {
     "data": {
      "text/plain": [
       "'nOW iS bETTER tHAN nEVER'"
      ]
     },
     "execution_count": 82,
     "metadata": {},
     "output_type": "execute_result"
    },
    {
     "data": {
      "text/plain": [
       "b'\\xe6\\x88\\x91\\xe6\\x98\\xaf\\xe8\\xb0\\x81'"
      ]
     },
     "execution_count": 82,
     "metadata": {},
     "output_type": "execute_result"
    }
   ],
   "source": [
    "## Method of string\n",
    "'Python'.upper()\n",
    "'Python'.lower()\n",
    "'Now is better than never'.upper()\n",
    "_.lower()\n",
    "\n",
    "'ß'.casefold()\n",
    "\n",
    "s = 'now is Better than neveR'\n",
    "s.capitalize()\n",
    "s.swapcase()\n",
    "s.title()\n",
    "s.title().swapcase()\n",
    "s='我是谁'\n",
    "s.encode()"
   ]
  },
  {
   "cell_type": "code",
   "execution_count": 87,
   "id": "8f959643-a865-42eb-9966-362bbe7ccc02",
   "metadata": {},
   "outputs": [
    {
     "data": {
      "text/plain": [
       "4"
      ]
     },
     "execution_count": 87,
     "metadata": {},
     "output_type": "execute_result"
    },
    {
     "data": {
      "text/plain": [
       "3"
      ]
     },
     "execution_count": 87,
     "metadata": {},
     "output_type": "execute_result"
    },
    {
     "data": {
      "text/plain": [
       "1"
      ]
     },
     "execution_count": 87,
     "metadata": {},
     "output_type": "execute_result"
    },
    {
     "name": "stdout",
     "output_type": "stream",
     "text": [
      "\n"
     ]
    },
    {
     "data": {
      "text/plain": [
       "3"
      ]
     },
     "execution_count": 87,
     "metadata": {},
     "output_type": "execute_result"
    },
    {
     "data": {
      "text/plain": [
       "25"
      ]
     },
     "execution_count": 87,
     "metadata": {},
     "output_type": "execute_result"
    },
    {
     "data": {
      "text/plain": [
       "-1"
      ]
     },
     "execution_count": 87,
     "metadata": {},
     "output_type": "execute_result"
    },
    {
     "name": "stdout",
     "output_type": "stream",
     "text": [
      "\n"
     ]
    },
    {
     "data": {
      "text/plain": [
       "57"
      ]
     },
     "execution_count": 87,
     "metadata": {},
     "output_type": "execute_result"
    },
    {
     "data": {
      "text/plain": [
       "57"
      ]
     },
     "execution_count": 87,
     "metadata": {},
     "output_type": "execute_result"
    },
    {
     "data": {
      "text/plain": [
       "34"
      ]
     },
     "execution_count": 87,
     "metadata": {},
     "output_type": "execute_result"
    },
    {
     "name": "stdout",
     "output_type": "stream",
     "text": [
      "\n"
     ]
    },
    {
     "data": {
      "text/plain": [
       "3"
      ]
     },
     "execution_count": 87,
     "metadata": {},
     "output_type": "execute_result"
    },
    {
     "data": {
      "text/plain": [
       "25"
      ]
     },
     "execution_count": 87,
     "metadata": {},
     "output_type": "execute_result"
    },
    {
     "data": {
      "text/plain": [
       "25"
      ]
     },
     "execution_count": 87,
     "metadata": {},
     "output_type": "execute_result"
    }
   ],
   "source": [
    "s = \"\"\"\n",
    "Simple is better than complex.\n",
    "Complex is better than complicated.\n",
    "\"\"\"\n",
    "s.lower().count('mp')\n",
    "s.lower().count('mp', 10)\n",
    "s.lower().count('mp', 10, 30)\n",
    "print()\n",
    "\n",
    "s.lower().find('mpl')\n",
    "s.lower().find('mpl', 10)\n",
    "s.lower().find('mpl', 10, 20)\n",
    "print()\n",
    "\n",
    "s.lower().rfind('mpl')\n",
    "s.lower().rfind('mpl', 20)\n",
    "s.lower().rfind('mpl', 20, 56)\n",
    "print()\n",
    "\n",
    "s.lower().index('mpl')\n",
    "s.lower().index('mpl', 20)\n",
    "s.lower().index('mpl', 20, 60)"
   ]
  },
  {
   "cell_type": "code",
   "execution_count": 91,
   "id": "68ac3517-48f0-42ca-9651-2e2c1d85ba8d",
   "metadata": {},
   "outputs": [
    {
     "data": {
      "text/plain": [
       "True"
      ]
     },
     "execution_count": 91,
     "metadata": {},
     "output_type": "execute_result"
    },
    {
     "name": "stdout",
     "output_type": "stream",
     "text": [
      "s.startwith S: True\n",
      "s.lower().startswith('S'): False\n",
      "s.lower().startswith('b', 10): True\n",
      "s.lower().startswith('e', 11, 20): True\n",
      "s.lower().endswith('.'): True\n",
      "s.lower().endswith('.', 10): True\n",
      "s.lower().endswith('.', 10, 20): False\n",
      "True\n"
     ]
    }
   ],
   "source": [
    "s.startswith('S')\n",
    "\n",
    "print('s.startwith S:', \\\n",
    "     s.startswith('S'))\n",
    "\n",
    "s = \"\"\"Simple is better than complex.\n",
    "Complex is better than complicated.\"\"\"\n",
    "\n",
    "# str.startswith(prefix[, start[, end]])\n",
    "print(\"s.lower().startswith('S'):\", \\\n",
    "      s.lower().startswith('S'))\n",
    "print(\"s.lower().startswith('b', 10):\", \\\n",
    "      s.lower().startswith('b', 10))\n",
    "print(\"s.lower().startswith('e', 11, 20):\", \\\n",
    "      s.lower().startswith('e', 11, 20))\n",
    "\n",
    "# str.endswith(suffix[, start[, end]])\n",
    "print(\"s.lower().endswith('.'):\", \\\n",
    "      s.lower().endswith('.'))\n",
    "print(\"s.lower().endswith('.', 10):\", \\\n",
    "      s.lower().endswith('.', 10))\n",
    "print(\"s.lower().endswith('.', 10, 20):\", \\\n",
    "      s.lower().endswith('.', 10, 20))\n",
    "\n",
    "# 好玩：中国人一不小心就会把这两个函数写成或者记成\n",
    "# startwith() 和 endwith() —— 少写一个 s!\n",
    "\n",
    "print('mpl' in s)"
   ]
  },
  {
   "cell_type": "code",
   "execution_count": 99,
   "id": "3ce13f41-2b07-4555-a952-82c9448de45c",
   "metadata": {},
   "outputs": [
    {
     "name": "stdout",
     "output_type": "stream",
     "text": [
      "s.lower().replace('mpl', '[ ]'): \n",
      " \n",
      "si[ ]e is better than co[ ]ex,\n",
      "co[ ]ex is better than complicated\n",
      "\n"
     ]
    }
   ],
   "source": [
    "s = \"\"\"\n",
    "simple is better than complex,\n",
    "complex is better than complicated\n",
    "\"\"\"\n",
    "\n",
    "print(\"s.lower().replace('mpl', '[ ]'): \\n\", s.lower().replace('mpl', '[ ]', 3))\n"
   ]
  },
  {
   "cell_type": "code",
   "execution_count": 102,
   "id": "a539ddbf-7313-4626-9a98-1d13bf733eb4",
   "metadata": {},
   "outputs": [
    {
     "data": {
      "text/plain": [
       "'special case    did     not     mean    esuilts'"
      ]
     },
     "execution_count": 102,
     "metadata": {},
     "output_type": "execute_result"
    },
    {
     "data": {
      "text/plain": [
       "'special case  did not mean  esuilts'"
      ]
     },
     "execution_count": 102,
     "metadata": {},
     "output_type": "execute_result"
    }
   ],
   "source": [
    "s = 'special\\tcase\\tdid\\tnot\\tmean\\tesuilts'\n",
    "s.lower().expandtabs()\n",
    "s.lower().expandtabs(2)"
   ]
  },
  {
   "cell_type": "code",
   "execution_count": 104,
   "id": "6590f0b8-7ece-43f3-812d-e9b555d41bcc",
   "metadata": {},
   "outputs": [
    {
     "data": {
      "text/plain": [
       "'Simple is better than complex'"
      ]
     },
     "execution_count": 104,
     "metadata": {},
     "output_type": "execute_result"
    },
    {
     "data": {
      "text/plain": [
       "'mple is better than comple'"
      ]
     },
     "execution_count": 104,
     "metadata": {},
     "output_type": "execute_result"
    },
    {
     "data": {
      "text/plain": [
       "' is better than co'"
      ]
     },
     "execution_count": 104,
     "metadata": {},
     "output_type": "execute_result"
    }
   ],
   "source": [
    "S = \"\\r \\t  Simple is better than complex \\r \\t\"\n",
    "s = S.strip()\n",
    "s\n",
    "s.strip('Six.p')\n",
    "s.strip('pSix.male')"
   ]
  },
  {
   "cell_type": "code",
   "execution_count": 105,
   "id": "78b4a643-93ad-4edc-bb78-de3afc1af0c8",
   "metadata": {},
   "outputs": [
    {
     "data": {
      "text/plain": [
       "'Simple is better than complex.'"
      ]
     },
     "execution_count": 105,
     "metadata": {},
     "output_type": "execute_result"
    },
    {
     "data": {
      "text/plain": [
       "'mple is better than complex.'"
      ]
     },
     "execution_count": 105,
     "metadata": {},
     "output_type": "execute_result"
    },
    {
     "data": {
      "text/plain": [
       "' is better than complex.'"
      ]
     },
     "execution_count": 105,
     "metadata": {},
     "output_type": "execute_result"
    }
   ],
   "source": [
    "# str.lstrip([chars])\n",
    "s = \"Simple is better than complex.\"\n",
    "s\n",
    "s.lstrip('Six.p')    # p 全部处理完之后，p 并不在首部，所以原字符串中的 p 字母不受影响；\n",
    "s.lstrip('pSix.mle') # 这一次，首部的 p 被处理了…… 参数中的字符顺序对结果没有影响，换成 Sipx.mle 也一样……"
   ]
  },
  {
   "cell_type": "code",
   "execution_count": 106,
   "id": "9f15f82d-b4e5-40d1-a84f-8219a815629b",
   "metadata": {},
   "outputs": [
    {
     "data": {
      "text/plain": [
       "'Simple is better than complex.'"
      ]
     },
     "execution_count": 106,
     "metadata": {},
     "output_type": "execute_result"
    },
    {
     "data": {
      "text/plain": [
       "'Simple is better than comple'"
      ]
     },
     "execution_count": 106,
     "metadata": {},
     "output_type": "execute_result"
    },
    {
     "data": {
      "text/plain": [
       "'Simple is better than co'"
      ]
     },
     "execution_count": 106,
     "metadata": {},
     "output_type": "execute_result"
    }
   ],
   "source": [
    "from IPython.core.interactiveshell import InteractiveShell\n",
    "InteractiveShell.ast_node_interactivity = \"all\"\n",
    "\n",
    "# str.rstrip([chars])\n",
    "s = \"Simple is better than complex.\"\n",
    "s\n",
    "s.rstrip('Six.p')    # p 全部处理完之后，p 并不在尾部，所以原字符串中的 p 字母不受影响；\n",
    "s.rstrip('pSix.mle') # 这一次，尾部的 p 被处理了…… 参数中的字符顺序对结果没有影响，换成 Sipx.mle 也一样……"
   ]
  },
  {
   "cell_type": "code",
   "execution_count": 113,
   "id": "86586d84-3365-474a-a9c2-fc9de5790d88",
   "metadata": {},
   "outputs": [
    {
     "data": {
      "text/plain": [
       "['Name,Age,Location',\n",
       " 'John,18,New York',\n",
       " 'Mike,22,San Francisco',\n",
       " 'Janny,25,Miami',\n",
       " 'Sunny,21,Shanghai']"
      ]
     },
     "execution_count": 113,
     "metadata": {},
     "output_type": "execute_result"
    },
    {
     "data": {
      "text/plain": [
       "['Mike', '22', 'San Francisco']"
      ]
     },
     "execution_count": 113,
     "metadata": {},
     "output_type": "execute_result"
    },
    {
     "data": {
      "text/plain": [
       "['Mike', '22,San Francisco']"
      ]
     },
     "execution_count": 113,
     "metadata": {},
     "output_type": "execute_result"
    },
    {
     "data": {
      "text/plain": [
       "['Mike,22,San Francisco']"
      ]
     },
     "execution_count": 113,
     "metadata": {},
     "output_type": "execute_result"
    },
    {
     "data": {
      "text/plain": [
       "['Mike', '22', 'San Francisco']"
      ]
     },
     "execution_count": 113,
     "metadata": {},
     "output_type": "execute_result"
    }
   ],
   "source": [
    "s = \"\"\"Name,Age,Location\n",
    "John,18,New York\n",
    "Mike,22,San Francisco\n",
    "Janny,25,Miami\n",
    "Sunny,21,Shanghai\"\"\"\n",
    "\n",
    "s.splitlines()\n",
    "r = s.splitlines()[2]\n",
    "r.split(sep=',')\n",
    "r.split(sep=',', maxsplit=1)\n",
    "r.split(sep=',', maxsplit=0)\n",
    "r.split(sep=',', maxsplit=-1)\n"
   ]
  },
  {
   "cell_type": "code",
   "execution_count": 114,
   "id": "3bd3b981-6b9d-45cb-a2d8-2b2aa1b5c10c",
   "metadata": {},
   "outputs": [
    {
     "data": {
      "text/plain": [
       "'Python'"
      ]
     },
     "execution_count": 114,
     "metadata": {},
     "output_type": "execute_result"
    }
   ],
   "source": [
    "s = ''\n",
    "t = ['P', 'y', 't', 'h', 'o', 'n']\n",
    "s.join(t)"
   ]
  },
  {
   "cell_type": "code",
   "execution_count": 123,
   "id": "3f0754c7-7c87-4261-9a60-7b1187c594f4",
   "metadata": {},
   "outputs": [
    {
     "data": {
      "text/plain": [
       "'                  Python Is Good To Learn                   '"
      ]
     },
     "execution_count": 123,
     "metadata": {},
     "output_type": "execute_result"
    },
    {
     "data": {
      "text/plain": [
       "'##################Python Is Good To Learn###################'"
      ]
     },
     "execution_count": 123,
     "metadata": {},
     "output_type": "execute_result"
    },
    {
     "data": {
      "text/plain": [
       "'##################################################################Python Is Good To Learn'"
      ]
     },
     "execution_count": 123,
     "metadata": {},
     "output_type": "execute_result"
    },
    {
     "data": {
      "text/plain": [
       "'Python Is Good To Learn+++++++++++++++++++++++++++++++++++++++++++++++++++++++++++++++++++'"
      ]
     },
     "execution_count": 123,
     "metadata": {},
     "output_type": "execute_result"
    }
   ],
   "source": [
    "s = 'Python is good to learn'\n",
    "s.title().center(60)\n",
    "s.title().center(60, '#')\n",
    "\n",
    "s.title().rjust(89, '#')\n",
    "s.title().ljust(90, '+')"
   ]
  },
  {
   "cell_type": "code",
   "execution_count": 107,
   "id": "513cba86-ac75-409f-91a5-31efb3bdde96",
   "metadata": {},
   "outputs": [
    {
     "name": "stdout",
     "output_type": "stream",
     "text": [
      "001.mp3\n",
      "002.mp3\n",
      "003.mp3\n",
      "004.mp3\n",
      "005.mp3\n",
      "006.mp3\n",
      "007.mp3\n",
      "008.mp3\n",
      "009.mp3\n",
      "010.mp3\n"
     ]
    }
   ],
   "source": [
    "for i in range(1, 11):\n",
    "    filename = str(i).zfill(3) + '.mp3'\n",
    "    print(filename)"
   ]
  },
  {
   "cell_type": "code",
   "execution_count": 124,
   "id": "da3be65a-4424-4c0a-8f7c-2bfbebe9cd4a",
   "metadata": {},
   "outputs": [
    {
     "data": {
      "text/plain": [
       "'John is 25 years old.'"
      ]
     },
     "execution_count": 124,
     "metadata": {},
     "output_type": "execute_result"
    },
    {
     "data": {
      "text/plain": [
       "'John is a grown up? True'"
      ]
     },
     "execution_count": 124,
     "metadata": {},
     "output_type": "execute_result"
    },
    {
     "data": {
      "text/plain": [
       "'John is 25 years old'"
      ]
     },
     "execution_count": 124,
     "metadata": {},
     "output_type": "execute_result"
    }
   ],
   "source": [
    "name = 'John'\n",
    "age = 25\n",
    "f'{name} is {age} years old.'\n",
    "f'{name} is a grown up? {age >= 18}'\n",
    "\n",
    "'{0} is {1} years old'.format(name, age)"
   ]
  },
  {
   "cell_type": "code",
   "execution_count": 125,
   "id": "99efda3d-506d-4bbf-a7c1-087e297cc16e",
   "metadata": {},
   "outputs": [
    {
     "name": "stdout",
     "output_type": "stream",
     "text": [
      "'1234567890'.isalnum(): True\n",
      "'abcdefghij'.isalpha(): True\n",
      "'山巅一寺一壶酒'.isascii(): False\n",
      "'0.123456789'.isdecimal(): False\n"
     ]
    }
   ],
   "source": [
    "# str.isalnum()\n",
    "print(\"'1234567890'.isalnum():\", \\\n",
    "      '1234567890'.isalnum()) # '3.14'.isalnum() 返回的是 False\n",
    "\n",
    "# str.isalpha()\n",
    "print(\"'abcdefghij'.isalpha():\", \\\n",
    "      'abcdefghij'.isalpha()) \n",
    "\n",
    "# str.isascii()\n",
    "print(\"'山巅一寺一壶酒'.isascii():\", \\\n",
    "      '山巅一寺一壶酒'.isascii())\n",
    "\n",
    "# str.isdecimal()\n",
    "print(\"'0.123456789'.isdecimal():\", \\\n",
    "      '0.1234567890'.isdecimal())"
   ]
  },
  {
   "cell_type": "code",
   "execution_count": 131,
   "id": "af040586-8eac-4ee0-a044-7bc6ea13b57f",
   "metadata": {},
   "outputs": [
    {
     "name": "stdout",
     "output_type": "stream",
     "text": [
      "[2, 3] The length of a_lst is:  2\n",
      "the length of b_lst is:  11\n",
      "c_lst has 36 elements\n"
     ]
    }
   ],
   "source": [
    "a_lst = []\n",
    "a_lst.append(2)\n",
    "a_lst.append(3)\n",
    "print(a_lst, 'The length of a_lst is: ', f'{len(a_lst)}')\n",
    "\n",
    "b_lst = list(range(1, 11))\n",
    "b_lst.append(11)\n",
    "print('the length of b_lst is: ', f'{len(b_lst)}')\n",
    "\n",
    "c_lst=[9*x for x in range(36)]\n",
    "print(f'c_lst has {len(c_lst)} elements')"
   ]
  },
  {
   "cell_type": "code",
   "execution_count": 138,
   "id": "ab65521f-6ee3-4fe3-9b2d-48d6f1978592",
   "metadata": {},
   "outputs": [
    {
     "data": {
      "text/plain": [
       "[63, 11, 50, 71, 40, 39, 52, 52, 1, 5]"
      ]
     },
     "execution_count": 138,
     "metadata": {},
     "output_type": "execute_result"
    },
    {
     "name": "stdout",
     "output_type": "stream",
     "text": [
      "a_lst has 10 random numbers:  [63, 11, 50, 71, 40, 39, 52, 52, 1, 5]\n",
      "... and it has 4 even number:  [50, 40, 52, 52]\n"
     ]
    }
   ],
   "source": [
    "import random\n",
    "n = 10\n",
    "\n",
    "a_lst = [random.randrange(1, 100) for i in range(n)]\n",
    "a_lst\n",
    "print(f'a_lst has {len(a_lst)} random numbers: ', a_lst)\n",
    "\n",
    "b_lst = [x for x in a_lst if x % 2 == 0]\n",
    "print(f'... and it has {len(b_lst)} even number: ', b_lst)\n"
   ]
  },
  {
   "cell_type": "code",
   "execution_count": 144,
   "id": "116edaf0-2646-4ce9-b307-3eb91d1da9e2",
   "metadata": {},
   "outputs": [
    {
     "data": {
      "text/plain": [
       "False"
      ]
     },
     "execution_count": 144,
     "metadata": {},
     "output_type": "execute_result"
    },
    {
     "data": {
      "text/plain": [
       "[1, 2, 3, 4, 5, 6, 4, 5, 6, 4, 5, 6]"
      ]
     },
     "execution_count": 144,
     "metadata": {},
     "output_type": "execute_result"
    },
    {
     "data": {
      "text/plain": [
       "True"
      ]
     },
     "execution_count": 144,
     "metadata": {},
     "output_type": "execute_result"
    }
   ],
   "source": [
    "a = [1, 2, 3]\n",
    "b = [4, 5, 6]\n",
    "a > b\n",
    "\n",
    "c = a + b*3\n",
    "c\n",
    "6 in c"
   ]
  },
  {
   "cell_type": "code",
   "execution_count": 169,
   "id": "074337b8-d552-41cd-a0b9-3c33d849a009",
   "metadata": {},
   "outputs": [
    {
     "data": {
      "text/plain": [
       "[77, 70, 85]"
      ]
     },
     "execution_count": 169,
     "metadata": {},
     "output_type": "execute_result"
    },
    {
     "data": {
      "text/plain": [
       "['R', 'U', 'V', 'S', 'P', 'T']"
      ]
     },
     "execution_count": 169,
     "metadata": {},
     "output_type": "execute_result"
    },
    {
     "data": {
      "text/plain": [
       "[77, 70, 85, 'R', 'U', 'V', 'S', 'P', 'T']"
      ]
     },
     "execution_count": 169,
     "metadata": {},
     "output_type": "execute_result"
    },
    {
     "data": {
      "text/plain": [
       "77"
      ]
     },
     "execution_count": 169,
     "metadata": {},
     "output_type": "execute_result"
    },
    {
     "data": {
      "text/plain": [
       "9"
      ]
     },
     "execution_count": 169,
     "metadata": {},
     "output_type": "execute_result"
    },
    {
     "data": {
      "text/plain": [
       "['R', 'U', 'V', 'S', 'P']"
      ]
     },
     "execution_count": 169,
     "metadata": {},
     "output_type": "execute_result"
    },
    {
     "data": {
      "text/plain": [
       "'T'"
      ]
     },
     "execution_count": 169,
     "metadata": {},
     "output_type": "execute_result"
    },
    {
     "data": {
      "text/plain": [
       "['R', 'U', 'V', 'S', 'P', 'T']"
      ]
     },
     "execution_count": 169,
     "metadata": {},
     "output_type": "execute_result"
    },
    {
     "data": {
      "text/plain": [
       "[77, 70, 85, 'R', 'U', 'V', 'S', 'P']"
      ]
     },
     "execution_count": 169,
     "metadata": {},
     "output_type": "execute_result"
    },
    {
     "name": "stdout",
     "output_type": "stream",
     "text": [
      "\n"
     ]
    },
    {
     "data": {
      "text/plain": [
       "[70, 85, 'R', 'U', 'V', 'S', 'P', 'T']"
      ]
     },
     "execution_count": 169,
     "metadata": {},
     "output_type": "execute_result"
    },
    {
     "data": {
      "text/plain": [
       "[70, 'R', 'U', 'V', 'S', 'P', 'T']"
      ]
     },
     "execution_count": 169,
     "metadata": {},
     "output_type": "execute_result"
    },
    {
     "data": {
      "text/plain": [
       "[70, 'R', 'U', 'V', 'S']"
      ]
     },
     "execution_count": 169,
     "metadata": {},
     "output_type": "execute_result"
    },
    {
     "data": {
      "text/plain": [
       "[70, 'R', 'U', 'V', 'S']"
      ]
     },
     "execution_count": 169,
     "metadata": {},
     "output_type": "execute_result"
    },
    {
     "data": {
      "text/plain": [
       "[70, 'a', 'U', 2, 'S']"
      ]
     },
     "execution_count": 169,
     "metadata": {},
     "output_type": "execute_result"
    },
    {
     "name": "stdout",
     "output_type": "stream",
     "text": [
      "['p', 'y', 't', 'h', 'o', 'n']\n"
     ]
    },
    {
     "data": {
      "text/plain": [
       "['p', 'y', 't', 'h', 'o']"
      ]
     },
     "execution_count": 169,
     "metadata": {},
     "output_type": "execute_result"
    }
   ],
   "source": [
    "import random\n",
    "\n",
    "a_lst = [random.randrange(65, 89) for i in range(3)]\n",
    "a_lst\n",
    "b_lst = [chr(random.randrange(78, 87)) for i in range(6)]\n",
    "b_lst\n",
    "\n",
    "c_lst = a_lst + b_lst\n",
    "c_lst\n",
    "\n",
    "c_lst[0]\n",
    "len(c_lst)\n",
    "c_lst[3:8]\n",
    "c_lst[len(c_lst)-1]\n",
    "c_lst[3:]\n",
    "c_lst[:8]\n",
    "print()\n",
    "\n",
    "del c_lst[0]\n",
    "c_lst\n",
    "del c_lst[1]\n",
    "c_lst\n",
    "del c_lst[5:8]\n",
    "c_lst\n",
    "\n",
    "del c_lst[5:8]\n",
    "c_lst\n",
    "\n",
    "c_lst[1:5:2] = ['a', 2]\n",
    "c_lst\n",
    "\n",
    "# 列表（List）是可变序列，而字符串（str）是不可变序列\n",
    "\n",
    "s = 'python'\n",
    "S = list(s)\n",
    "print(S)\n",
    "del S[5]\n",
    "S"
   ]
  },
  {
   "cell_type": "code",
   "execution_count": 182,
   "id": "c0fc3b7f-1d36-485f-81e9-a65a3c214091",
   "metadata": {},
   "outputs": [
    {
     "data": {
      "text/plain": [
       "[67, 86, 73, 67, 86, 73, 67, 86, 73]"
      ]
     },
     "execution_count": 182,
     "metadata": {},
     "output_type": "execute_result"
    },
    {
     "data": {
      "text/plain": [
       "['[', '\\\\', 'a']"
      ]
     },
     "execution_count": 182,
     "metadata": {},
     "output_type": "execute_result"
    },
    {
     "data": {
      "text/plain": [
       "[67, 86, 73, '[', '\\\\', 'a', 67, 86, 73, 67, 86, 73]"
      ]
     },
     "execution_count": 182,
     "metadata": {},
     "output_type": "execute_result"
    },
    {
     "data": {
      "text/plain": [
       "86"
      ]
     },
     "execution_count": 182,
     "metadata": {},
     "output_type": "execute_result"
    },
    {
     "data": {
      "text/plain": [
       "'['"
      ]
     },
     "execution_count": 182,
     "metadata": {},
     "output_type": "execute_result"
    },
    {
     "data": {
      "text/plain": [
       "12"
      ]
     },
     "execution_count": 182,
     "metadata": {},
     "output_type": "execute_result"
    },
    {
     "name": "stdout",
     "output_type": "stream",
     "text": [
      "True\n"
     ]
    }
   ],
   "source": [
    "import random \n",
    "n = 3\n",
    "\n",
    "a_lst = [random.randrange(66, 88) for i in range(n)]\n",
    "b_lst = [chr(random.randrange(77, 99)) for i in range(n)]\n",
    "c_lst = a_lst + b_lst + a_lst*2\n",
    "\n",
    "a_lst *= 3\n",
    "\n",
    "a_lst\n",
    "b_lst\n",
    "c_lst\n",
    "\n",
    "max(a_lst)\n",
    "min(b_lst)\n",
    "len(c_lst)\n",
    "\n",
    "print('X' not in c_lst)"
   ]
  },
  {
   "cell_type": "code",
   "execution_count": 198,
   "id": "bd0378cf-46af-4111-8133-e5a87040e504",
   "metadata": {},
   "outputs": [
    {
     "name": "stdout",
     "output_type": "stream",
     "text": [
      "You: 10 \n",
      "Bot: 10\n"
     ]
    },
    {
     "name": "stdin",
     "output_type": "stream",
     "text": [
      "what is your bet? b\n"
     ]
    },
    {
     "name": "stdout",
     "output_type": "stream",
     "text": [
      "The dice is 10, \n",
      " You win!\n",
      "You: 11 \n",
      "Bot: 9\n"
     ]
    },
    {
     "name": "stdin",
     "output_type": "stream",
     "text": [
      "what is your bet? s\n"
     ]
    },
    {
     "name": "stdout",
     "output_type": "stream",
     "text": [
      "The dice is 11, \n",
      " You lose!\n",
      "You: 10 \n",
      "Bot: 10\n"
     ]
    },
    {
     "name": "stdin",
     "output_type": "stream",
     "text": [
      "what is your bet? q\n"
     ]
    },
    {
     "name": "stdout",
     "output_type": "stream",
     "text": [
      "You've played 0 rounds.\n",
      "\n",
      "You have 10 coins now.\n",
      "Bye!\n"
     ]
    }
   ],
   "source": [
    "from random import randrange\n",
    "\n",
    "coin_user, coin_bot = 10, 10\n",
    "round_of_game = 0\n",
    "\n",
    "def bet(dice, wager):\n",
    "    if dice == 7:\n",
    "        print(f'The dice is {dice}, \\n DRAW \\n')\n",
    "        return 0\n",
    "        \n",
    "    elif dice < 7:\n",
    "        if wager == 's':\n",
    "            print(f'The dice is {dice}, \\n You win!')\n",
    "            return 1\n",
    "        elif wager == 'b':\n",
    "            print(f'The dice is {dice}, \\n You lose!')\n",
    "            return -1\n",
    "        \n",
    "    elif dice > 7:\n",
    "        if wager == 's':\n",
    "            print(f'The dice is {dice}, \\n You lose!')\n",
    "            return -1\n",
    "        elif wager == 'b':\n",
    "            print(f'The dice is {dice}, \\n You win!')\n",
    "            return 1\n",
    "\n",
    "while True:\n",
    "    print(f'You: {coin_user} \\nBot: {coin_bot}')\n",
    "    dice = randrange(2, 13)\n",
    "    wager = input('what is your bet?')\n",
    "    if wager == 'q':\n",
    "        break\n",
    "    elif wager in 'sb':\n",
    "        result = bet(dice, wager)\n",
    "        coin_user += result\n",
    "        coin_bot -= result\n",
    "    else: \n",
    "        print(f'{wager} is not a valid bet, game over')\n",
    "        break\n",
    "        \n",
    "    if coin_user == 0:\n",
    "        print('Woops, you lost all your coins, game over')\n",
    "        break\n",
    "    elif coin_bot == 0:\n",
    "        print('Haha, you win all the coins, game over')\n",
    "        break\n",
    "    \n",
    "\n",
    "print(f\"You've played {round_of_game} rounds.\\n\")\n",
    "print(f\"You have {coin_user} coins now.\\nBye!\")   "
   ]
  },
  {
   "cell_type": "code",
   "execution_count": 199,
   "id": "f33c9876-b13f-45ac-a528-29c9eea4b94b",
   "metadata": {},
   "outputs": [
    {
     "name": "stdout",
     "output_type": "stream",
     "text": [
      "a_lst comprehends 10 random numbers:  [66, 71, 87, 68, 70, 87, 71, 76, 69, 87]\n",
      "\n",
      "The sorted a_lst is:\n",
      " [66, 68, 69, 70, 71, 71, 76, 87, 87, 87]\n",
      "The reverse of a_lst is:\n",
      " [87, 87, 87, 76, 71, 71, 70, 69, 68, 66]\n"
     ]
    },
    {
     "data": {
      "text/plain": [
       "['\\x0f', '\\x16', '+', '6', 'H', 'P', 'T', 'Y', 'Y', '_']"
      ]
     },
     "execution_count": 199,
     "metadata": {},
     "output_type": "execute_result"
    },
    {
     "data": {
      "text/plain": [
       "['_', 'Y', 'Y', 'T', 'P', 'H', '6', '+', '\\x16', '\\x0f']"
      ]
     },
     "execution_count": 199,
     "metadata": {},
     "output_type": "execute_result"
    }
   ],
   "source": [
    "import random\n",
    "n = 10\n",
    "\n",
    "a_lst = [random.randrange(1, 100) for i in range(n)]\n",
    "print(f'a_lst comprehends {len(a_lst)} random numbers: ', a_lst)\n",
    "print()\n",
    "\n",
    "a_lst.sort()\n",
    "print('The sorted a_lst is:\\n', a_lst)\n",
    "\n",
    "a_lst.sort(reverse=True)\n",
    "print('The reverse of a_lst is:\\n', a_lst)\n"
   ]
  },
  {
   "cell_type": "code",
   "execution_count": 204,
   "id": "83247fc0-4494-4f38-a7de-6139ca431e44",
   "metadata": {},
   "outputs": [
    {
     "data": {
      "text/plain": [
       "['Gx', 'Mx', 'Op', 'Sj', 'Tj', 'Ut', 'Wj', 'Xn', 'Xz', 'Yd']"
      ]
     },
     "execution_count": 204,
     "metadata": {},
     "output_type": "execute_result"
    },
    {
     "data": {
      "text/plain": [
       "['Yd', 'Xz', 'Xn', 'Wj', 'Ut', 'Tj', 'Sj', 'Op', 'Mx', 'Gx']"
      ]
     },
     "execution_count": 204,
     "metadata": {},
     "output_type": "execute_result"
    },
    {
     "data": {
      "text/plain": [
       "['Yd', 'Xz', 'Xn', 'Wj', 'Ut', 'Tj', 'Sj', 'Op', 'Mx', 'Gx']"
      ]
     },
     "execution_count": 204,
     "metadata": {},
     "output_type": "execute_result"
    }
   ],
   "source": [
    "b_lst = [chr(random.randrange(65, 91)) + chr(random.randrange(97, 123)) for i in range(n)]\n",
    "\n",
    "b_lst.sort()\n",
    "b_lst\n",
    "\n",
    "b_lst.sort(reverse=True)\n",
    "b_lst\n",
    "\n",
    "b_lst.sort(key=str.lower, reverse=True)\n",
    "b_lst\n"
   ]
  },
  {
   "cell_type": "code",
   "execution_count": 4,
   "id": "cfd05214-3438-48f9-99b4-fc8ff0ec02b1",
   "metadata": {
    "scrolled": true
   },
   "outputs": [
    {
     "data": {
      "text/plain": [
       "[89, 73, 82, 90, 72, 'y', 'w', 'e', 't', 'g', 'y', 'w', 'e', 't', 'g']"
      ]
     },
     "execution_count": 4,
     "metadata": {},
     "output_type": "execute_result"
    },
    {
     "data": {
      "text/plain": [
       "[89,\n",
       " 73,\n",
       " 82,\n",
       " 90,\n",
       " 72,\n",
       " 'y',\n",
       " 'w',\n",
       " 'e',\n",
       " 't',\n",
       " 'g',\n",
       " 'y',\n",
       " 'w',\n",
       " 'e',\n",
       " 't',\n",
       " 'g',\n",
       " [89, 73, 82, 90, 72],\n",
       " 'uuuu']"
      ]
     },
     "execution_count": 4,
     "metadata": {},
     "output_type": "execute_result"
    },
    {
     "data": {
      "text/plain": [
       "[]"
      ]
     },
     "execution_count": 4,
     "metadata": {},
     "output_type": "execute_result"
    },
    {
     "data": {
      "text/plain": [
       "[89,\n",
       " 73,\n",
       " 82,\n",
       " 90,\n",
       " 72,\n",
       " 'y',\n",
       " 'w',\n",
       " 'e',\n",
       " 't',\n",
       " 'g',\n",
       " 'y',\n",
       " 'w',\n",
       " 'e',\n",
       " 't',\n",
       " 'g',\n",
       " [],\n",
       " 'uuuu']"
      ]
     },
     "execution_count": 4,
     "metadata": {},
     "output_type": "execute_result"
    },
    {
     "data": {
      "text/plain": [
       "[89, 73, 82, 90, 72, 't', 'g', 'y', 'w', 'e', 't', 'g', [], 'uuuu']"
      ]
     },
     "execution_count": 4,
     "metadata": {},
     "output_type": "execute_result"
    },
    {
     "data": {
      "text/plain": [
       "[89, 73, 82, 90, 72, 't', 'g', 'y', 'w', 'e', 't', 'g', [], 'uuuu']"
      ]
     },
     "execution_count": 4,
     "metadata": {},
     "output_type": "execute_result"
    },
    {
     "data": {
      "text/plain": [
       "[89, 73, 82, 90, 72, 'w', 'e', 't', 'g', [], 'uuuu']"
      ]
     },
     "execution_count": 4,
     "metadata": {},
     "output_type": "execute_result"
    },
    {
     "data": {
      "text/plain": [
       "[89, 73, 82, 90, 72, 't', 'g', 'y', 'w', 'e', 't', 'g', [], 'uuuu']"
      ]
     },
     "execution_count": 4,
     "metadata": {},
     "output_type": "execute_result"
    },
    {
     "ename": "IndexError",
     "evalue": "pop from empty list",
     "output_type": "error",
     "traceback": [
      "\u001b[0;31m---------------------------------------------------------------------------\u001b[0m",
      "\u001b[0;31mIndexError\u001b[0m                                Traceback (most recent call last)",
      "Cell \u001b[0;32mIn[4], line 33\u001b[0m\n\u001b[1;32m     30\u001b[0m e_lst\n\u001b[1;32m     31\u001b[0m d_lst\n\u001b[0;32m---> 33\u001b[0m p \u001b[38;5;241m=\u001b[39m a_lst\u001b[38;5;241m.\u001b[39mpop(\u001b[38;5;241m2\u001b[39m)\n\u001b[1;32m     34\u001b[0m p\n\u001b[1;32m     35\u001b[0m a_lst\n",
      "\u001b[0;31mIndexError\u001b[0m: pop from empty list"
     ]
    }
   ],
   "source": [
    "from IPython.core.interactiveshell import InteractiveShell\n",
    "InteractiveShell.ast_node_interactivity = 'all'\n",
    "\n",
    "import random\n",
    "n = 5\n",
    "\n",
    "a_lst = [random.randrange(65, 91) for i in range(n)]\n",
    "b_lst = [chr(random.randrange(97, 123)) for i in range(n)]\n",
    "\n",
    "c_lst = a_lst + b_lst*2\n",
    "c_lst\n",
    "\n",
    "c_lst.append(a_lst)\n",
    "c_lst.append('uuuu')\n",
    "c_lst\n",
    "\n",
    "a_lst.clear()\n",
    "a_lst\n",
    "\n",
    "d_lst = c_lst.copy()\n",
    "d_lst\n",
    "\n",
    "e_lst = d_lst\n",
    "del e_lst[5:8]\n",
    "e_lst\n",
    "d_lst\n",
    "\n",
    "e_lst = d_lst.copy()\n",
    "del e_lst[5:8]\n",
    "e_lst\n",
    "d_lst\n",
    "\n",
    "p = a_lst.pop(2)\n",
    "p\n",
    "a_lst\n",
    "\n",
    "a_lst.insert(1, 'example')\n",
    "a_lst\n",
    "a_lst.insert(3, 'example2')\n",
    "a_lst\n",
    "\n",
    "a_lst.remove('example')\n",
    "a_lst\n"
   ]
  },
  {
   "cell_type": "code",
   "execution_count": 6,
   "id": "399d9938-93ed-45e2-991c-372cf1fe379e",
   "metadata": {},
   "outputs": [
    {
     "data": {
      "text/plain": [
       "(1, 2, 3, 4)"
      ]
     },
     "execution_count": 6,
     "metadata": {},
     "output_type": "execute_result"
    },
    {
     "data": {
      "text/plain": [
       "(1, 2, 3, 4)"
      ]
     },
     "execution_count": 6,
     "metadata": {},
     "output_type": "execute_result"
    },
    {
     "data": {
      "text/plain": [
       "True"
      ]
     },
     "execution_count": 6,
     "metadata": {},
     "output_type": "execute_result"
    }
   ],
   "source": [
    "### Turple\n",
    "\n",
    "a = 1, 2, 3, 4\n",
    "a\n",
    "b = (1, 2, 3, 4)\n",
    "b\n",
    "a == b\n"
   ]
  },
  {
   "cell_type": "code",
   "execution_count": 10,
   "id": "e68412fb-738f-43f2-ad30-ac8c05dd7cb5",
   "metadata": {},
   "outputs": [
    {
     "data": {
      "text/plain": [
       "(2,)"
      ]
     },
     "execution_count": 10,
     "metadata": {},
     "output_type": "execute_result"
    },
    {
     "data": {
      "text/plain": [
       "False"
      ]
     },
     "execution_count": 10,
     "metadata": {},
     "output_type": "execute_result"
    },
    {
     "data": {
      "text/plain": [
       "int"
      ]
     },
     "execution_count": 10,
     "metadata": {},
     "output_type": "execute_result"
    },
    {
     "data": {
      "text/plain": [
       "tuple"
      ]
     },
     "execution_count": 10,
     "metadata": {},
     "output_type": "execute_result"
    },
    {
     "data": {
      "text/plain": [
       "False"
      ]
     },
     "execution_count": 10,
     "metadata": {},
     "output_type": "execute_result"
    }
   ],
   "source": [
    "a = 2,\n",
    "a\n",
    "b = 2\n",
    "a == b\n",
    "\n",
    "c = (2)\n",
    "type(c)\n",
    "d = (2,)\n",
    "type(d)\n",
    "c == d"
   ]
  },
  {
   "cell_type": "code",
   "execution_count": 12,
   "id": "aa0f4f2b-5d56-4f6a-b77c-2a596ce818b1",
   "metadata": {},
   "outputs": [
    {
     "name": "stdout",
     "output_type": "stream",
     "text": [
      "4370735760\n"
     ]
    },
    {
     "data": {
      "text/plain": [
       "(1, 3, 5)"
      ]
     },
     "execution_count": 12,
     "metadata": {},
     "output_type": "execute_result"
    },
    {
     "name": "stdout",
     "output_type": "stream",
     "text": [
      "4383884288\n"
     ]
    }
   ],
   "source": [
    "a = 1,\n",
    "print(id(a))\n",
    "a += 3, 5\n",
    "a\n",
    "print(id(a))"
   ]
  },
  {
   "cell_type": "code",
   "execution_count": 14,
   "id": "3fae4952-6e51-4ac6-a79f-ca34190ae21d",
   "metadata": {},
   "outputs": [
    {
     "data": {
      "text/plain": [
       "48"
      ]
     },
     "execution_count": 14,
     "metadata": {},
     "output_type": "execute_result"
    },
    {
     "data": {
      "text/plain": [
       "8024"
      ]
     },
     "execution_count": 14,
     "metadata": {},
     "output_type": "execute_result"
    },
    {
     "data": {
      "text/plain": [
       "8040"
      ]
     },
     "execution_count": 14,
     "metadata": {},
     "output_type": "execute_result"
    }
   ],
   "source": [
    "n = 1000\n",
    "a = range(n)\n",
    "b = tuple(a)\n",
    "c = list(a)\n",
    "\n",
    "a.__sizeof__()\n",
    "b.__sizeof__()\n",
    "c.__sizeof__()"
   ]
  },
  {
   "cell_type": "code",
   "execution_count": 21,
   "id": "344bed76-f865-4f6d-92c0-47b20f6f68be",
   "metadata": {},
   "outputs": [
    {
     "data": {
      "text/plain": [
       "{1, 2, 3, 4, 5}"
      ]
     },
     "execution_count": 21,
     "metadata": {},
     "output_type": "execute_result"
    },
    {
     "data": {
      "text/plain": [
       "{1, 2, 3, 4, 5}"
      ]
     },
     "execution_count": 21,
     "metadata": {},
     "output_type": "execute_result"
    },
    {
     "data": {
      "text/plain": [
       "True"
      ]
     },
     "execution_count": 21,
     "metadata": {},
     "output_type": "execute_result"
    }
   ],
   "source": [
    "## set\n",
    "a = {1, 2, 3, 4, 5}\n",
    "b = {5, 4, 3, 2, 1, 2}\n",
    "b\n",
    "a\n",
    "a == b"
   ]
  },
  {
   "cell_type": "code",
   "execution_count": 22,
   "id": "10d05653-8894-4ff4-8b5f-0e89c635a2b0",
   "metadata": {},
   "outputs": [
    {
     "data": {
      "text/plain": [
       "dict"
      ]
     },
     "execution_count": 22,
     "metadata": {},
     "output_type": "execute_result"
    },
    {
     "data": {
      "text/plain": [
       "set"
      ]
     },
     "execution_count": 22,
     "metadata": {},
     "output_type": "execute_result"
    }
   ],
   "source": [
    "a = {} # it's a dict\n",
    "b = set() # a set\n",
    "\n",
    "type(a)\n",
    "type(b)\n"
   ]
  },
  {
   "cell_type": "code",
   "execution_count": 23,
   "id": "7e008489-4acc-4475-9344-331a8ff58839",
   "metadata": {},
   "outputs": [
    {
     "data": {
      "text/plain": [
       "{'a', 'b', 'c', 'd'}"
      ]
     },
     "execution_count": 23,
     "metadata": {},
     "output_type": "execute_result"
    },
    {
     "data": {
      "text/plain": [
       "{1, 2, 3, 4, 5, 6}"
      ]
     },
     "execution_count": 23,
     "metadata": {},
     "output_type": "execute_result"
    },
    {
     "data": {
      "text/plain": [
       "{5, 8, 9}"
      ]
     },
     "execution_count": 23,
     "metadata": {},
     "output_type": "execute_result"
    }
   ],
   "source": [
    "a = 'abcdabbbcdaacdb'\n",
    "b = [1, 2, 2, 3, 4, 4, 5, 6]\n",
    "c = (8, 8, 9,9,9, 9, 5,)\n",
    "\n",
    "set(a)\n",
    "set(b)\n",
    "set(c)"
   ]
  },
  {
   "cell_type": "code",
   "execution_count": 24,
   "id": "d3d22aa4-9e0e-4b48-a396-829e78435ff5",
   "metadata": {},
   "outputs": [
    {
     "data": {
      "text/plain": [
       "{'d', 'e', 'f', 'g'}"
      ]
     },
     "execution_count": 24,
     "metadata": {},
     "output_type": "execute_result"
    }
   ],
   "source": [
    "a = 'abcdabcdefgabcd'\n",
    "b = {x for x in a if x not in 'abc'}\n",
    "b"
   ]
  },
  {
   "cell_type": "code",
   "execution_count": 39,
   "id": "96c85b14-6fea-40aa-8a68-d4f69fba0e3e",
   "metadata": {},
   "outputs": [
    {
     "data": {
      "text/plain": [
       "{'Joker', 'Keivin', 'Moose'}"
      ]
     },
     "execution_count": 39,
     "metadata": {},
     "output_type": "execute_result"
    },
    {
     "data": {
      "text/plain": [
       "{'Ann', 'Benjamin', 'Keivin', 'Moose', 'Tom'}"
      ]
     },
     "execution_count": 39,
     "metadata": {},
     "output_type": "execute_result"
    },
    {
     "data": {
      "text/plain": [
       "True"
      ]
     },
     "execution_count": 39,
     "metadata": {},
     "output_type": "execute_result"
    },
    {
     "data": {
      "text/plain": [
       "False"
      ]
     },
     "execution_count": 39,
     "metadata": {},
     "output_type": "execute_result"
    },
    {
     "data": {
      "text/plain": [
       "{'Keivin', 'Moose'}"
      ]
     },
     "execution_count": 39,
     "metadata": {},
     "output_type": "execute_result"
    },
    {
     "data": {
      "text/plain": [
       "{'Ann', 'Benjamin', 'Joker', 'Keivin', 'Moose', 'Tom'}"
      ]
     },
     "execution_count": 39,
     "metadata": {},
     "output_type": "execute_result"
    },
    {
     "data": {
      "text/plain": [
       "{'Ann', 'Benjamin', 'Tom'}"
      ]
     },
     "execution_count": 39,
     "metadata": {},
     "output_type": "execute_result"
    },
    {
     "data": {
      "text/plain": [
       "{'Joker'}"
      ]
     },
     "execution_count": 39,
     "metadata": {},
     "output_type": "execute_result"
    },
    {
     "data": {
      "text/plain": [
       "{'Ann', 'Benjamin', 'Joker', 'Tom'}"
      ]
     },
     "execution_count": 39,
     "metadata": {},
     "output_type": "execute_result"
    },
    {
     "data": {
      "text/plain": [
       "{'Ann', 'Benjamin', 'Joker', 'Keivin', 'Moose', 'Tom'}"
      ]
     },
     "execution_count": 39,
     "metadata": {},
     "output_type": "execute_result"
    },
    {
     "data": {
      "text/plain": [
       "{'Keivin', 'Moose'}"
      ]
     },
     "execution_count": 39,
     "metadata": {},
     "output_type": "execute_result"
    },
    {
     "data": {
      "text/plain": [
       "{'Joker'}"
      ]
     },
     "execution_count": 39,
     "metadata": {},
     "output_type": "execute_result"
    },
    {
     "data": {
      "text/plain": [
       "{'Ann', 'Benjamin', 'Joker', 'Tom'}"
      ]
     },
     "execution_count": 39,
     "metadata": {},
     "output_type": "execute_result"
    }
   ],
   "source": [
    "admins = {'Moose', 'Joker', 'Joker', 'Keivin'}\n",
    "moderators = {'Ann', 'Benjamin', 'Moose', 'Keivin', 'Tom', 'Tom'}\n",
    "\n",
    "admins\n",
    "moderators\n",
    "\n",
    "'Moose' in admins\n",
    "'Ann' not in moderators\n",
    "\n",
    "admins & moderators\n",
    "admins | moderators\n",
    "moderators - admins\n",
    "admins - moderators\n",
    "admins ^ moderators\n",
    "\n",
    "admins.union(moderators)\n",
    "admins.intersection(moderators)\n",
    "admins.difference(moderators)\n",
    "admins.symmetric_difference(moderators)\n",
    "\n"
   ]
  },
  {
   "cell_type": "code",
   "execution_count": 38,
   "id": "c623636c-ab48-44c9-9ed9-0d9b6d9762f6",
   "metadata": {},
   "outputs": [
    {
     "data": {
      "image/png": "[encoded data removed]",
      "text/plain": [
       "<Figure size 640x480 with 1 Axes>"
      ]
     },
     "metadata": {},
     "output_type": "display_data"
    }
   ],
   "source": [
    "import matplotlib.pyplot as plt\n",
    "from matplotlib_venn import venn2\n",
    "\n",
    "admins = {'Moose', 'Joker', 'Joker', 'Keivin'}\n",
    "moderators = {'Ann', 'Benjamin', 'Moose', 'Keivin', 'Tom', 'Tom'}\n",
    "\n",
    "v = venn2(subsets=(admins, moderators), set_labels=('admins', 'moderators'))\n",
    "v.get_label_by_id('11').set_text('\\n'.join(admins & moderators))\n",
    "v.get_label_by_id('10').set_text('\\n'.join(admins - moderators))\n",
    "v.get_label_by_id('01').set_text('\\n'.join(moderators - admins))\n",
    "\n",
    "plt.show()\n"
   ]
  },
  {
   "cell_type": "code",
   "execution_count": 41,
   "id": "3d205222-982a-4c69-a6c1-538888b8e9ca",
   "metadata": {},
   "outputs": [
    {
     "data": {
      "text/plain": [
       "{}"
      ]
     },
     "execution_count": 41,
     "metadata": {},
     "output_type": "execute_result"
    },
    {
     "data": {
      "text/plain": [
       "{'a': 1, 'b': 2, 'c': 3}"
      ]
     },
     "execution_count": 41,
     "metadata": {},
     "output_type": "execute_result"
    },
    {
     "data": {
      "text/plain": [
       "{'a': 1, 'b': 1000, 'c': 3}"
      ]
     },
     "execution_count": 41,
     "metadata": {},
     "output_type": "execute_result"
    }
   ],
   "source": [
    "## Dict\n",
    "a_dict = {}\n",
    "b_dict = dict()\n",
    "b_dict = {'a': 1, 'b': 2, 'c': 3}\n",
    "\n",
    "a_dict\n",
    "b_dict\n",
    "\n",
    "b_dict['b'] = 1000\n",
    "b_dict\n"
   ]
  },
  {
   "cell_type": "code",
   "execution_count": 48,
   "id": "bf0caf45-0a33-49b4-ae77-f69b1d1daede",
   "metadata": {
    "scrolled": true
   },
   "outputs": [
    {
     "data": {
      "text/plain": [
       "{'ann': 6585,\n",
       " 'bob': 8982,\n",
       " 'joe': 2598,\n",
       " 'zoe': 1225,\n",
       " 'john': 9876,\n",
       " 'mike': 5603,\n",
       " 'stan': 6898,\n",
       " 'eric': 7898}"
      ]
     },
     "execution_count": 48,
     "metadata": {},
     "output_type": "execute_result"
    },
    {
     "data": {
      "text/plain": [
       "{'john': 9876, 'mike': 5603, 'stan': 6898, 'eric': 7898}"
      ]
     },
     "execution_count": 48,
     "metadata": {},
     "output_type": "execute_result"
    },
    {
     "data": {
      "text/plain": [
       "{'bob': 8982,\n",
       " 'joe': 2598,\n",
       " 'zoe': 1225,\n",
       " 'john': 9876,\n",
       " 'mike': 5603,\n",
       " 'stan': 6898,\n",
       " 'eric': 7898}"
      ]
     },
     "execution_count": 48,
     "metadata": {},
     "output_type": "execute_result"
    },
    {
     "data": {
      "text/plain": [
       "False"
      ]
     },
     "execution_count": 48,
     "metadata": {},
     "output_type": "execute_result"
    },
    {
     "data": {
      "text/plain": [
       "dict_keys(['bob', 'joe', 'zoe', 'john', 'mike', 'stan', 'eric'])"
      ]
     },
     "execution_count": 48,
     "metadata": {},
     "output_type": "execute_result"
    },
    {
     "data": {
      "text/plain": [
       "True"
      ]
     },
     "execution_count": 48,
     "metadata": {},
     "output_type": "execute_result"
    },
    {
     "data": {
      "text/plain": [
       "dict_values([8982, 2598, 1225, 9876, 5603, 6898, 7898])"
      ]
     },
     "execution_count": 48,
     "metadata": {},
     "output_type": "execute_result"
    },
    {
     "data": {
      "text/plain": [
       "True"
      ]
     },
     "execution_count": 48,
     "metadata": {},
     "output_type": "execute_result"
    },
    {
     "data": {
      "text/plain": [
       "dict_items([('bob', 8982), ('joe', 2598), ('zoe', 1225), ('john', 9876), ('mike', 5603), ('stan', 6898), ('eric', 7898)])"
      ]
     },
     "execution_count": 48,
     "metadata": {},
     "output_type": "execute_result"
    },
    {
     "data": {
      "text/plain": [
       "True"
      ]
     },
     "execution_count": 48,
     "metadata": {},
     "output_type": "execute_result"
    }
   ],
   "source": [
    "phonebook1 = {'ann':6575, 'bob':8982, 'joe':2598, 'zoe':1225, 'ann':6585}\n",
    "phonebook2 = {'john':9876, 'mike':5603, 'stan':6898, 'eric':7898}\n",
    "\n",
    "phonebook1.update(phonebook2)\n",
    "phonebook1\n",
    "phonebook2\n",
    "\n",
    "del phonebook1['ann']\n",
    "phonebook1\n",
    "\n",
    "'ann' in phonebook1\n",
    "phonebook1.keys()\n",
    "'bob' in phonebook1.keys()\n",
    "phonebook1.values()\n",
    "1225 in phonebook1.values()\n",
    "phonebook1.items()\n",
    "('zoe', 1225) in phonebook1.items()\n"
   ]
  },
  {
   "cell_type": "code",
   "execution_count": 53,
   "id": "66aad97e-e29e-4e67-b77e-a31d23e615c8",
   "metadata": {},
   "outputs": [
    {
     "data": {
      "text/plain": [
       "7"
      ]
     },
     "execution_count": 53,
     "metadata": {},
     "output_type": "execute_result"
    },
    {
     "data": {
      "text/plain": [
       "'zoe'"
      ]
     },
     "execution_count": 53,
     "metadata": {},
     "output_type": "execute_result"
    },
    {
     "data": {
      "text/plain": [
       "'bob'"
      ]
     },
     "execution_count": 53,
     "metadata": {},
     "output_type": "execute_result"
    },
    {
     "data": {
      "text/plain": [
       "['bob', 'joe', 'zoe', 'john', 'mike', 'stan', 'eric']"
      ]
     },
     "execution_count": 53,
     "metadata": {},
     "output_type": "execute_result"
    },
    {
     "data": {
      "text/plain": [
       "('bob', 'joe', 'zoe', 'john', 'mike', 'stan', 'eric')"
      ]
     },
     "execution_count": 53,
     "metadata": {},
     "output_type": "execute_result"
    },
    {
     "data": {
      "text/plain": [
       "{'bob', 'eric', 'joe', 'john', 'mike', 'stan', 'zoe'}"
      ]
     },
     "execution_count": 53,
     "metadata": {},
     "output_type": "execute_result"
    },
    {
     "data": {
      "text/plain": [
       "['bob', 'eric', 'joe', 'john', 'mike', 'stan', 'zoe']"
      ]
     },
     "execution_count": 53,
     "metadata": {},
     "output_type": "execute_result"
    },
    {
     "data": {
      "text/plain": [
       "['zoe', 'stan', 'mike', 'john', 'joe', 'eric', 'bob']"
      ]
     },
     "execution_count": 53,
     "metadata": {},
     "output_type": "execute_result"
    }
   ],
   "source": [
    "len(phonebook1)\n",
    "max(phonebook1)\n",
    "min(phonebook1)\n",
    "list(phonebook1)\n",
    "tuple(phonebook1)\n",
    "set(phonebook1)\n",
    "sorted(phonebook1)\n",
    "sorted(phonebook1, reverse=True)"
   ]
  },
  {
   "cell_type": "code",
   "execution_count": 62,
   "id": "f3f138b3-e982-40ef-a7b6-1b89cda5c4c0",
   "metadata": {},
   "outputs": [
    {
     "data": {
      "text/plain": [
       "{'joe': 2598, 'zoe': 1225}"
      ]
     },
     "execution_count": 62,
     "metadata": {},
     "output_type": "execute_result"
    },
    {
     "data": {
      "text/plain": [
       "{}"
      ]
     },
     "execution_count": 62,
     "metadata": {},
     "output_type": "execute_result"
    },
    {
     "data": {
      "text/plain": [
       "('zoe', 1225)"
      ]
     },
     "execution_count": 62,
     "metadata": {},
     "output_type": "execute_result"
    },
    {
     "data": {
      "text/plain": [
       "{'joe': 2598}"
      ]
     },
     "execution_count": 62,
     "metadata": {},
     "output_type": "execute_result"
    },
    {
     "data": {
      "text/plain": [
       "8982"
      ]
     },
     "execution_count": 62,
     "metadata": {},
     "output_type": "execute_result"
    },
    {
     "data": {
      "text/plain": [
       "{'joe': 2598}"
      ]
     },
     "execution_count": 62,
     "metadata": {},
     "output_type": "execute_result"
    },
    {
     "data": {
      "text/plain": [
       "3538"
      ]
     },
     "execution_count": 62,
     "metadata": {},
     "output_type": "execute_result"
    },
    {
     "data": {
      "text/plain": [
       "{'joe': 2598}"
      ]
     },
     "execution_count": 62,
     "metadata": {},
     "output_type": "execute_result"
    },
    {
     "data": {
      "text/plain": [
       "3538"
      ]
     },
     "execution_count": 62,
     "metadata": {},
     "output_type": "execute_result"
    },
    {
     "data": {
      "text/plain": [
       "{'joe': 2598, 'adam': 3538}"
      ]
     },
     "execution_count": 62,
     "metadata": {},
     "output_type": "execute_result"
    }
   ],
   "source": [
    "phonebook3 = phonebook1.copy()\n",
    "phonebook3\n",
    "\n",
    "phonebook3.clear()\n",
    "phonebook3\n",
    "\n",
    "p = phonebook1.popitem()\n",
    "p\n",
    "phonebook1\n",
    "\n",
    "p = phonebook1.pop('bob', 8982)\n",
    "p\n",
    "phonebook1\n",
    "\n",
    "p = phonebook1.get('adam', 3538)\n",
    "p\n",
    "phonebook1\n",
    "\n",
    "p = phonebook1.setdefault('adam', 3538)\n",
    "p\n",
    "phonebook1"
   ]
  },
  {
   "cell_type": "code",
   "execution_count": 67,
   "id": "1bd31a53-4ef9-4ad5-be4e-822c10ff0685",
   "metadata": {},
   "outputs": [
    {
     "name": "stdout",
     "output_type": "stream",
     "text": [
      "0 P\n",
      "1 y\n",
      "2 t\n",
      "3 h\n",
      "4 o\n",
      "5 n\n",
      "\n",
      "0 ann\n",
      "1 bob\n",
      "2 joe\n",
      "3 john\n",
      "4 mike\n",
      "\n",
      "0 mike\n",
      "1 john\n",
      "2 joe\n",
      "3 bob\n",
      "4 ann\n",
      "\n",
      "Let's assume a equals 1。\n",
      "Let's assume b equals 2。\n",
      "Let's assume c equals 3。\n",
      "Let's assume d equals 4。\n",
      "Let's assume e equals 5。\n",
      "Let's assume f equals 6。\n",
      "Let's assume g equals 7。\n",
      "Let's assume h equals 8。\n",
      "Let's assume i equals 9。\n",
      "Let's assume j equals 10。\n",
      "Let's assume k equals 11。\n",
      "Let's assume l equals 12。\n",
      "Let's assume m equals 13。\n",
      "Let's assume n equals 14。\n",
      "Let's assume o equals 15。\n",
      "Let's assume p equals 16。\n",
      "Let's assume q equals 17。\n",
      "Let's assume r equals 18。\n",
      "Let's assume s equals 19。\n",
      "Let's assume t equals 20。\n",
      "Let's assume u equals 21。\n",
      "Let's assume v equals 22。\n",
      "Let's assume w equals 23。\n",
      "Let's assume x equals 24。\n",
      "Let's assume y equals 25。\n",
      "Let's assume z equals 26。\n"
     ]
    }
   ],
   "source": [
    "s = 'Python'\n",
    "L = ['ann', 'bob', 'joe', 'john', 'mike']\n",
    "\n",
    "\n",
    "for i, letter in enumerate(s):\n",
    "    print(i, letter)\n",
    "print()\n",
    "\n",
    "for i, name in enumerate(L):\n",
    "    print(i, name)\n",
    "print()\n",
    "\n",
    "t = ('bob', 'ann', 'john', 'mike', 'joe')\n",
    "for i, t in enumerate(sorted(t, reverse=True)):\n",
    "    print(i, t)\n",
    "print()\n",
    "\n",
    "chars = 'abcdefghijklmnopqrstuvwxyz'\n",
    "nums = range(1, 27)\n",
    "\n",
    "for char, num in zip(chars, nums):\n",
    "    print(f\"Let's assume {char} equals {num}。\")"
   ]
  },
  {
   "cell_type": "code",
   "execution_count": 69,
   "id": "a420270a-1148-49ae-9336-50161f5dd6b5",
   "metadata": {},
   "outputs": [
    {
     "name": "stdout",
     "output_type": "stream",
     "text": [
      "ann 6585\n",
      "bob 8982\n",
      "joe 2598\n",
      "zoe 1225\n",
      "\n",
      "ann 6585\n",
      "bob 8982\n",
      "joe 2598\n",
      "zoe 1225\n"
     ]
    }
   ],
   "source": [
    "phonebook1 = {'ann':6575, 'bob':8982, 'joe':2598, 'zoe':1225, 'ann':6585}\n",
    "\n",
    "for key in phonebook1.keys():\n",
    "    print(key, phonebook1[key])\n",
    "\n",
    "print()\n",
    "for key, value in phonebook1.items():\n",
    "    print(key, value)\n"
   ]
  },
  {
   "cell_type": "code",
   "execution_count": 72,
   "id": "ab0bd71c-5f87-424f-a085-6ffab1f3cc92",
   "metadata": {},
   "outputs": [
    {
     "data": {
      "text/plain": [
       "<_io.TextIOWrapper name='file_example.txt' mode='w' encoding='UTF-8'>"
      ]
     },
     "execution_count": 72,
     "metadata": {},
     "output_type": "execute_result"
    },
    {
     "name": "stdout",
     "output_type": "stream",
     "text": [
      "file_example.txt\n"
     ]
    }
   ],
   "source": [
    "## Files\n",
    "file = open('file_example.txt', mode='w')\n",
    "file\n",
    "print(file.name)\n",
    "file.close()"
   ]
  },
  {
   "cell_type": "code",
   "execution_count": 73,
   "id": "3cbab9f6-106c-4387-a095-c5bd408ac53b",
   "metadata": {},
   "outputs": [
    {
     "name": "stdout",
     "output_type": "stream",
     "text": [
      "example_file.txt\n",
      "example_file.txt is removed\n"
     ]
    }
   ],
   "source": [
    "import os\n",
    "\n",
    "file = open('example_file.txt', mode='w')\n",
    "print(file.name)\n",
    "file.close()\n",
    "\n",
    "if os.path.exists(file.name):\n",
    "    os.remove(file.name)\n",
    "    print(f'{file.name} is removed')\n",
    "else:\n",
    "    print(f'{file.name} does not existed')\n"
   ]
  },
  {
   "cell_type": "code",
   "execution_count": 88,
   "id": "08dff12d-ece9-43f8-9404-9ac77a0bf3f7",
   "metadata": {},
   "outputs": [
    {
     "data": {
      "text/plain": [
       "33"
      ]
     },
     "execution_count": 88,
     "metadata": {},
     "output_type": "execute_result"
    },
    {
     "name": "stdout",
     "output_type": "stream",
     "text": [
      "['first line\\n', 'second line\\n', 'third line']\n",
      "first line\n",
      "\n",
      "second line\n",
      "\n",
      "third line\n",
      "\n",
      "first line\n",
      "second line\n"
     ]
    },
    {
     "data": {
      "text/plain": [
       "'third line'"
      ]
     },
     "execution_count": 88,
     "metadata": {},
     "output_type": "execute_result"
    },
    {
     "data": {
      "text/plain": [
       "''"
      ]
     },
     "execution_count": 88,
     "metadata": {},
     "output_type": "execute_result"
    }
   ],
   "source": [
    "f = open('example_file.txt', mode='w')\n",
    "f.write('first line\\nsecond line\\nthird line')\n",
    "f.close()\n",
    "\n",
    "f = open('example_file.txt', mode='r')\n",
    "s = f.readlines()\n",
    "print(s)\n",
    "for line in s:\n",
    "    print(line)\n",
    "f.close()\n",
    "print()\n",
    "\n",
    "f = open('example_file.txt', mode='r')\n",
    "s = f.readline().strip()\n",
    "print(s)\n",
    "s = f.readline().strip()\n",
    "print(s)\n",
    "s = f.readline().strip()\n",
    "s\n",
    "s = f.readline().strip()\n",
    "s\n",
    "\n",
    "\n"
   ]
  },
  {
   "cell_type": "code",
   "execution_count": 90,
   "id": "2bd7b629-d057-46be-aa9d-d58dccf6ab0f",
   "metadata": {},
   "outputs": [
    {
     "name": "stdout",
     "output_type": "stream",
     "text": [
      "first line\n",
      "\n",
      "second line\n",
      "\n",
      "third line\n",
      "\n"
     ]
    }
   ],
   "source": [
    "a_list = ['first line\\n', 'second line\\n', 'third line\\n']\n",
    "\n",
    "file = open('example_file.txt', mode='w')\n",
    "file.writelines(a_list)\n",
    "file.close()\n",
    "\n",
    "file = open('example_file.txt', mode='r')\n",
    "s = file.readlines()\n",
    "for line in s:\n",
    "    print(line)\n",
    "    "
   ]
  },
  {
   "cell_type": "code",
   "execution_count": 92,
   "id": "b329c519-3544-480d-b4f0-f2c7fb1d471e",
   "metadata": {},
   "outputs": [
    {
     "data": {
      "text/plain": [
       "33"
      ]
     },
     "execution_count": 92,
     "metadata": {},
     "output_type": "execute_result"
    },
    {
     "name": "stdout",
     "output_type": "stream",
     "text": [
      "first line\n",
      "\n",
      "second line\n",
      "\n",
      "third line\n",
      "example_file.txt is removed\n"
     ]
    }
   ],
   "source": [
    "with open('example_file.txt', mode='w') as f:\n",
    "    f.write('first line\\nsecond line\\nthird line')\n",
    "\n",
    "with open('example_file.txt', mode='r') as f:\n",
    "    for line in f.readlines():\n",
    "        print(line)\n",
    "\n",
    "filename = 'example_file.txt'\n",
    "if os.path.exists(filename):\n",
    "    os.remove(filename)\n",
    "    print(f'{filename} is removed')\n",
    "else:\n",
    "    print(f'{filename} is not existed')"
   ]
  },
  {
   "cell_type": "code",
   "execution_count": 101,
   "id": "c794e4b1-6482-4b0d-8c20-1eeb24450bdd",
   "metadata": {
    "scrolled": true
   },
   "outputs": [
    {
     "data": {
      "text/plain": [
       "12"
      ]
     },
     "execution_count": 101,
     "metadata": {},
     "output_type": "execute_result"
    },
    {
     "data": {
      "text/plain": [
       "11"
      ]
     },
     "execution_count": 101,
     "metadata": {},
     "output_type": "execute_result"
    },
    {
     "data": {
      "text/plain": [
       "14"
      ]
     },
     "execution_count": 101,
     "metadata": {},
     "output_type": "execute_result"
    },
    {
     "data": {
      "text/plain": [
       "9"
      ]
     },
     "execution_count": 101,
     "metadata": {},
     "output_type": "execute_result"
    },
    {
     "data": {
      "text/plain": [
       "10"
      ]
     },
     "execution_count": 101,
     "metadata": {},
     "output_type": "execute_result"
    },
    {
     "data": {
      "text/plain": [
       "10"
      ]
     },
     "execution_count": 101,
     "metadata": {},
     "output_type": "execute_result"
    },
    {
     "data": {
      "text/plain": [
       "11"
      ]
     },
     "execution_count": 101,
     "metadata": {},
     "output_type": "execute_result"
    },
    {
     "data": {
      "text/plain": [
       "11"
      ]
     },
     "execution_count": 101,
     "metadata": {},
     "output_type": "execute_result"
    },
    {
     "data": {
      "text/plain": [
       "10"
      ]
     },
     "execution_count": 101,
     "metadata": {},
     "output_type": "execute_result"
    },
    {
     "data": {
      "text/plain": [
       "11"
      ]
     },
     "execution_count": 101,
     "metadata": {},
     "output_type": "execute_result"
    },
    {
     "data": {
      "text/plain": [
       "11"
      ]
     },
     "execution_count": 101,
     "metadata": {},
     "output_type": "execute_result"
    },
    {
     "data": {
      "text/plain": [
       "10"
      ]
     },
     "execution_count": 101,
     "metadata": {},
     "output_type": "execute_result"
    },
    {
     "data": {
      "text/plain": [
       "12"
      ]
     },
     "execution_count": 101,
     "metadata": {},
     "output_type": "execute_result"
    },
    {
     "data": {
      "text/plain": [
       "10"
      ]
     },
     "execution_count": 101,
     "metadata": {},
     "output_type": "execute_result"
    },
    {
     "data": {
      "text/plain": [
       "11"
      ]
     },
     "execution_count": 101,
     "metadata": {},
     "output_type": "execute_result"
    },
    {
     "data": {
      "text/plain": [
       "13"
      ]
     },
     "execution_count": 101,
     "metadata": {},
     "output_type": "execute_result"
    },
    {
     "data": {
      "text/plain": [
       "10"
      ]
     },
     "execution_count": 101,
     "metadata": {},
     "output_type": "execute_result"
    },
    {
     "data": {
      "text/plain": [
       "9"
      ]
     },
     "execution_count": 101,
     "metadata": {},
     "output_type": "execute_result"
    },
    {
     "data": {
      "text/plain": [
       "10"
      ]
     },
     "execution_count": 101,
     "metadata": {},
     "output_type": "execute_result"
    },
    {
     "data": {
      "text/plain": [
       "12"
      ]
     },
     "execution_count": 101,
     "metadata": {},
     "output_type": "execute_result"
    },
    {
     "data": {
      "text/plain": [
       "9"
      ]
     },
     "execution_count": 101,
     "metadata": {},
     "output_type": "execute_result"
    },
    {
     "data": {
      "text/plain": [
       "10"
      ]
     },
     "execution_count": 101,
     "metadata": {},
     "output_type": "execute_result"
    },
    {
     "data": {
      "text/plain": [
       "10"
      ]
     },
     "execution_count": 101,
     "metadata": {},
     "output_type": "execute_result"
    },
    {
     "data": {
      "text/plain": [
       "12"
      ]
     },
     "execution_count": 101,
     "metadata": {},
     "output_type": "execute_result"
    },
    {
     "data": {
      "text/plain": [
       "11"
      ]
     },
     "execution_count": 101,
     "metadata": {},
     "output_type": "execute_result"
    },
    {
     "data": {
      "text/plain": [
       "11"
      ]
     },
     "execution_count": 101,
     "metadata": {},
     "output_type": "execute_result"
    },
    {
     "data": {
      "text/plain": [
       "10"
      ]
     },
     "execution_count": 101,
     "metadata": {},
     "output_type": "execute_result"
    },
    {
     "data": {
      "text/plain": [
       "8"
      ]
     },
     "execution_count": 101,
     "metadata": {},
     "output_type": "execute_result"
    },
    {
     "data": {
      "text/plain": [
       "11"
      ]
     },
     "execution_count": 101,
     "metadata": {},
     "output_type": "execute_result"
    },
    {
     "data": {
      "text/plain": [
       "10"
      ]
     },
     "execution_count": 101,
     "metadata": {},
     "output_type": "execute_result"
    },
    {
     "data": {
      "text/plain": [
       "10"
      ]
     },
     "execution_count": 101,
     "metadata": {},
     "output_type": "execute_result"
    },
    {
     "data": {
      "text/plain": [
       "10"
      ]
     },
     "execution_count": 101,
     "metadata": {},
     "output_type": "execute_result"
    },
    {
     "data": {
      "text/plain": [
       "11"
      ]
     },
     "execution_count": 101,
     "metadata": {},
     "output_type": "execute_result"
    },
    {
     "data": {
      "text/plain": [
       "13"
      ]
     },
     "execution_count": 101,
     "metadata": {},
     "output_type": "execute_result"
    },
    {
     "data": {
      "text/plain": [
       "10"
      ]
     },
     "execution_count": 101,
     "metadata": {},
     "output_type": "execute_result"
    },
    {
     "data": {
      "text/plain": [
       "14"
      ]
     },
     "execution_count": 101,
     "metadata": {},
     "output_type": "execute_result"
    },
    {
     "data": {
      "text/plain": [
       "11"
      ]
     },
     "execution_count": 101,
     "metadata": {},
     "output_type": "execute_result"
    },
    {
     "data": {
      "text/plain": [
       "9"
      ]
     },
     "execution_count": 101,
     "metadata": {},
     "output_type": "execute_result"
    },
    {
     "data": {
      "text/plain": [
       "10"
      ]
     },
     "execution_count": 101,
     "metadata": {},
     "output_type": "execute_result"
    },
    {
     "data": {
      "text/plain": [
       "12"
      ]
     },
     "execution_count": 101,
     "metadata": {},
     "output_type": "execute_result"
    },
    {
     "data": {
      "text/plain": [
       "10"
      ]
     },
     "execution_count": 101,
     "metadata": {},
     "output_type": "execute_result"
    },
    {
     "data": {
      "text/plain": [
       "10"
      ]
     },
     "execution_count": 101,
     "metadata": {},
     "output_type": "execute_result"
    },
    {
     "data": {
      "text/plain": [
       "10"
      ]
     },
     "execution_count": 101,
     "metadata": {},
     "output_type": "execute_result"
    },
    {
     "data": {
      "text/plain": [
       "9"
      ]
     },
     "execution_count": 101,
     "metadata": {},
     "output_type": "execute_result"
    },
    {
     "data": {
      "text/plain": [
       "10"
      ]
     },
     "execution_count": 101,
     "metadata": {},
     "output_type": "execute_result"
    },
    {
     "data": {
      "text/plain": [
       "10"
      ]
     },
     "execution_count": 101,
     "metadata": {},
     "output_type": "execute_result"
    },
    {
     "data": {
      "text/plain": [
       "10"
      ]
     },
     "execution_count": 101,
     "metadata": {},
     "output_type": "execute_result"
    },
    {
     "data": {
      "text/plain": [
       "9"
      ]
     },
     "execution_count": 101,
     "metadata": {},
     "output_type": "execute_result"
    },
    {
     "data": {
      "text/plain": [
       "12"
      ]
     },
     "execution_count": 101,
     "metadata": {},
     "output_type": "execute_result"
    },
    {
     "data": {
      "text/plain": [
       "12"
      ]
     },
     "execution_count": 101,
     "metadata": {},
     "output_type": "execute_result"
    },
    {
     "data": {
      "text/plain": [
       "12"
      ]
     },
     "execution_count": 101,
     "metadata": {},
     "output_type": "execute_result"
    },
    {
     "data": {
      "text/plain": [
       "11"
      ]
     },
     "execution_count": 101,
     "metadata": {},
     "output_type": "execute_result"
    },
    {
     "data": {
      "text/plain": [
       "12"
      ]
     },
     "execution_count": 101,
     "metadata": {},
     "output_type": "execute_result"
    },
    {
     "data": {
      "text/plain": [
       "11"
      ]
     },
     "execution_count": 101,
     "metadata": {},
     "output_type": "execute_result"
    },
    {
     "data": {
      "text/plain": [
       "13"
      ]
     },
     "execution_count": 101,
     "metadata": {},
     "output_type": "execute_result"
    },
    {
     "data": {
      "text/plain": [
       "10"
      ]
     },
     "execution_count": 101,
     "metadata": {},
     "output_type": "execute_result"
    },
    {
     "data": {
      "text/plain": [
       "12"
      ]
     },
     "execution_count": 101,
     "metadata": {},
     "output_type": "execute_result"
    },
    {
     "data": {
      "text/plain": [
       "10"
      ]
     },
     "execution_count": 101,
     "metadata": {},
     "output_type": "execute_result"
    },
    {
     "data": {
      "text/plain": [
       "10"
      ]
     },
     "execution_count": 101,
     "metadata": {},
     "output_type": "execute_result"
    },
    {
     "data": {
      "text/plain": [
       "10"
      ]
     },
     "execution_count": 101,
     "metadata": {},
     "output_type": "execute_result"
    },
    {
     "data": {
      "text/plain": [
       "9"
      ]
     },
     "execution_count": 101,
     "metadata": {},
     "output_type": "execute_result"
    },
    {
     "data": {
      "text/plain": [
       "12"
      ]
     },
     "execution_count": 101,
     "metadata": {},
     "output_type": "execute_result"
    },
    {
     "data": {
      "text/plain": [
       "13"
      ]
     },
     "execution_count": 101,
     "metadata": {},
     "output_type": "execute_result"
    },
    {
     "data": {
      "text/plain": [
       "10"
      ]
     },
     "execution_count": 101,
     "metadata": {},
     "output_type": "execute_result"
    },
    {
     "data": {
      "text/plain": [
       "9"
      ]
     },
     "execution_count": 101,
     "metadata": {},
     "output_type": "execute_result"
    },
    {
     "data": {
      "text/plain": [
       "10"
      ]
     },
     "execution_count": 101,
     "metadata": {},
     "output_type": "execute_result"
    },
    {
     "data": {
      "text/plain": [
       "10"
      ]
     },
     "execution_count": 101,
     "metadata": {},
     "output_type": "execute_result"
    },
    {
     "data": {
      "text/plain": [
       "12"
      ]
     },
     "execution_count": 101,
     "metadata": {},
     "output_type": "execute_result"
    },
    {
     "data": {
      "text/plain": [
       "11"
      ]
     },
     "execution_count": 101,
     "metadata": {},
     "output_type": "execute_result"
    },
    {
     "data": {
      "text/plain": [
       "12"
      ]
     },
     "execution_count": 101,
     "metadata": {},
     "output_type": "execute_result"
    },
    {
     "data": {
      "text/plain": [
       "9"
      ]
     },
     "execution_count": 101,
     "metadata": {},
     "output_type": "execute_result"
    },
    {
     "data": {
      "text/plain": [
       "10"
      ]
     },
     "execution_count": 101,
     "metadata": {},
     "output_type": "execute_result"
    },
    {
     "data": {
      "text/plain": [
       "10"
      ]
     },
     "execution_count": 101,
     "metadata": {},
     "output_type": "execute_result"
    },
    {
     "data": {
      "text/plain": [
       "11"
      ]
     },
     "execution_count": 101,
     "metadata": {},
     "output_type": "execute_result"
    },
    {
     "data": {
      "text/plain": [
       "14"
      ]
     },
     "execution_count": 101,
     "metadata": {},
     "output_type": "execute_result"
    },
    {
     "data": {
      "text/plain": [
       "11"
      ]
     },
     "execution_count": 101,
     "metadata": {},
     "output_type": "execute_result"
    },
    {
     "data": {
      "text/plain": [
       "11"
      ]
     },
     "execution_count": 101,
     "metadata": {},
     "output_type": "execute_result"
    },
    {
     "data": {
      "text/plain": [
       "10"
      ]
     },
     "execution_count": 101,
     "metadata": {},
     "output_type": "execute_result"
    },
    {
     "data": {
      "text/plain": [
       "11"
      ]
     },
     "execution_count": 101,
     "metadata": {},
     "output_type": "execute_result"
    },
    {
     "data": {
      "text/plain": [
       "8"
      ]
     },
     "execution_count": 101,
     "metadata": {},
     "output_type": "execute_result"
    },
    {
     "data": {
      "text/plain": [
       "10"
      ]
     },
     "execution_count": 101,
     "metadata": {},
     "output_type": "execute_result"
    },
    {
     "data": {
      "text/plain": [
       "10"
      ]
     },
     "execution_count": 101,
     "metadata": {},
     "output_type": "execute_result"
    },
    {
     "data": {
      "text/plain": [
       "11"
      ]
     },
     "execution_count": 101,
     "metadata": {},
     "output_type": "execute_result"
    },
    {
     "data": {
      "text/plain": [
       "10"
      ]
     },
     "execution_count": 101,
     "metadata": {},
     "output_type": "execute_result"
    },
    {
     "data": {
      "text/plain": [
       "11"
      ]
     },
     "execution_count": 101,
     "metadata": {},
     "output_type": "execute_result"
    },
    {
     "data": {
      "text/plain": [
       "9"
      ]
     },
     "execution_count": 101,
     "metadata": {},
     "output_type": "execute_result"
    },
    {
     "data": {
      "text/plain": [
       "11"
      ]
     },
     "execution_count": 101,
     "metadata": {},
     "output_type": "execute_result"
    },
    {
     "data": {
      "text/plain": [
       "10"
      ]
     },
     "execution_count": 101,
     "metadata": {},
     "output_type": "execute_result"
    },
    {
     "data": {
      "text/plain": [
       "9"
      ]
     },
     "execution_count": 101,
     "metadata": {},
     "output_type": "execute_result"
    },
    {
     "data": {
      "text/plain": [
       "9"
      ]
     },
     "execution_count": 101,
     "metadata": {},
     "output_type": "execute_result"
    },
    {
     "data": {
      "text/plain": [
       "9"
      ]
     },
     "execution_count": 101,
     "metadata": {},
     "output_type": "execute_result"
    },
    {
     "data": {
      "text/plain": [
       "9"
      ]
     },
     "execution_count": 101,
     "metadata": {},
     "output_type": "execute_result"
    },
    {
     "data": {
      "text/plain": [
       "9"
      ]
     },
     "execution_count": 101,
     "metadata": {},
     "output_type": "execute_result"
    },
    {
     "data": {
      "text/plain": [
       "11"
      ]
     },
     "execution_count": 101,
     "metadata": {},
     "output_type": "execute_result"
    },
    {
     "data": {
      "text/plain": [
       "10"
      ]
     },
     "execution_count": 101,
     "metadata": {},
     "output_type": "execute_result"
    },
    {
     "data": {
      "text/plain": [
       "10"
      ]
     },
     "execution_count": 101,
     "metadata": {},
     "output_type": "execute_result"
    },
    {
     "data": {
      "text/plain": [
       "10"
      ]
     },
     "execution_count": 101,
     "metadata": {},
     "output_type": "execute_result"
    },
    {
     "data": {
      "text/plain": [
       "10"
      ]
     },
     "execution_count": 101,
     "metadata": {},
     "output_type": "execute_result"
    },
    {
     "data": {
      "text/plain": [
       "11"
      ]
     },
     "execution_count": 101,
     "metadata": {},
     "output_type": "execute_result"
    },
    {
     "data": {
      "text/plain": [
       "10"
      ]
     },
     "execution_count": 101,
     "metadata": {},
     "output_type": "execute_result"
    },
    {
     "data": {
      "text/plain": [
       "11"
      ]
     },
     "execution_count": 101,
     "metadata": {},
     "output_type": "execute_result"
    },
    {
     "data": {
      "text/plain": [
       "10"
      ]
     },
     "execution_count": 101,
     "metadata": {},
     "output_type": "execute_result"
    },
    {
     "data": {
      "text/plain": [
       "12"
      ]
     },
     "execution_count": 101,
     "metadata": {},
     "output_type": "execute_result"
    },
    {
     "data": {
      "text/plain": [
       "9"
      ]
     },
     "execution_count": 101,
     "metadata": {},
     "output_type": "execute_result"
    },
    {
     "data": {
      "text/plain": [
       "11"
      ]
     },
     "execution_count": 101,
     "metadata": {},
     "output_type": "execute_result"
    },
    {
     "data": {
      "text/plain": [
       "13"
      ]
     },
     "execution_count": 101,
     "metadata": {},
     "output_type": "execute_result"
    },
    {
     "data": {
      "text/plain": [
       "10"
      ]
     },
     "execution_count": 101,
     "metadata": {},
     "output_type": "execute_result"
    },
    {
     "data": {
      "text/plain": [
       "9"
      ]
     },
     "execution_count": 101,
     "metadata": {},
     "output_type": "execute_result"
    },
    {
     "data": {
      "text/plain": [
       "11"
      ]
     },
     "execution_count": 101,
     "metadata": {},
     "output_type": "execute_result"
    },
    {
     "data": {
      "text/plain": [
       "13"
      ]
     },
     "execution_count": 101,
     "metadata": {},
     "output_type": "execute_result"
    },
    {
     "data": {
      "text/plain": [
       "12"
      ]
     },
     "execution_count": 101,
     "metadata": {},
     "output_type": "execute_result"
    },
    {
     "data": {
      "text/plain": [
       "9"
      ]
     },
     "execution_count": 101,
     "metadata": {},
     "output_type": "execute_result"
    },
    {
     "data": {
      "text/plain": [
       "9"
      ]
     },
     "execution_count": 101,
     "metadata": {},
     "output_type": "execute_result"
    },
    {
     "data": {
      "text/plain": [
       "12"
      ]
     },
     "execution_count": 101,
     "metadata": {},
     "output_type": "execute_result"
    },
    {
     "data": {
      "text/plain": [
       "9"
      ]
     },
     "execution_count": 101,
     "metadata": {},
     "output_type": "execute_result"
    },
    {
     "data": {
      "text/plain": [
       "13"
      ]
     },
     "execution_count": 101,
     "metadata": {},
     "output_type": "execute_result"
    },
    {
     "data": {
      "text/plain": [
       "11"
      ]
     },
     "execution_count": 101,
     "metadata": {},
     "output_type": "execute_result"
    },
    {
     "data": {
      "text/plain": [
       "11"
      ]
     },
     "execution_count": 101,
     "metadata": {},
     "output_type": "execute_result"
    },
    {
     "data": {
      "text/plain": [
       "11"
      ]
     },
     "execution_count": 101,
     "metadata": {},
     "output_type": "execute_result"
    },
    {
     "data": {
      "text/plain": [
       "12"
      ]
     },
     "execution_count": 101,
     "metadata": {},
     "output_type": "execute_result"
    },
    {
     "data": {
      "text/plain": [
       "11"
      ]
     },
     "execution_count": 101,
     "metadata": {},
     "output_type": "execute_result"
    },
    {
     "data": {
      "text/plain": [
       "9"
      ]
     },
     "execution_count": 101,
     "metadata": {},
     "output_type": "execute_result"
    },
    {
     "data": {
      "text/plain": [
       "12"
      ]
     },
     "execution_count": 101,
     "metadata": {},
     "output_type": "execute_result"
    },
    {
     "data": {
      "text/plain": [
       "10"
      ]
     },
     "execution_count": 101,
     "metadata": {},
     "output_type": "execute_result"
    },
    {
     "data": {
      "text/plain": [
       "12"
      ]
     },
     "execution_count": 101,
     "metadata": {},
     "output_type": "execute_result"
    },
    {
     "data": {
      "text/plain": [
       "9"
      ]
     },
     "execution_count": 101,
     "metadata": {},
     "output_type": "execute_result"
    },
    {
     "data": {
      "text/plain": [
       "11"
      ]
     },
     "execution_count": 101,
     "metadata": {},
     "output_type": "execute_result"
    },
    {
     "data": {
      "text/plain": [
       "11"
      ]
     },
     "execution_count": 101,
     "metadata": {},
     "output_type": "execute_result"
    },
    {
     "data": {
      "text/plain": [
       "9"
      ]
     },
     "execution_count": 101,
     "metadata": {},
     "output_type": "execute_result"
    },
    {
     "data": {
      "text/plain": [
       "11"
      ]
     },
     "execution_count": 101,
     "metadata": {},
     "output_type": "execute_result"
    },
    {
     "data": {
      "text/plain": [
       "12"
      ]
     },
     "execution_count": 101,
     "metadata": {},
     "output_type": "execute_result"
    },
    {
     "data": {
      "text/plain": [
       "10"
      ]
     },
     "execution_count": 101,
     "metadata": {},
     "output_type": "execute_result"
    },
    {
     "data": {
      "text/plain": [
       "11"
      ]
     },
     "execution_count": 101,
     "metadata": {},
     "output_type": "execute_result"
    },
    {
     "data": {
      "text/plain": [
       "11"
      ]
     },
     "execution_count": 101,
     "metadata": {},
     "output_type": "execute_result"
    },
    {
     "data": {
      "text/plain": [
       "10"
      ]
     },
     "execution_count": 101,
     "metadata": {},
     "output_type": "execute_result"
    },
    {
     "data": {
      "text/plain": [
       "10"
      ]
     },
     "execution_count": 101,
     "metadata": {},
     "output_type": "execute_result"
    },
    {
     "data": {
      "text/plain": [
       "10"
      ]
     },
     "execution_count": 101,
     "metadata": {},
     "output_type": "execute_result"
    },
    {
     "data": {
      "text/plain": [
       "12"
      ]
     },
     "execution_count": 101,
     "metadata": {},
     "output_type": "execute_result"
    },
    {
     "data": {
      "text/plain": [
       "10"
      ]
     },
     "execution_count": 101,
     "metadata": {},
     "output_type": "execute_result"
    },
    {
     "data": {
      "text/plain": [
       "9"
      ]
     },
     "execution_count": 101,
     "metadata": {},
     "output_type": "execute_result"
    },
    {
     "data": {
      "text/plain": [
       "10"
      ]
     },
     "execution_count": 101,
     "metadata": {},
     "output_type": "execute_result"
    },
    {
     "data": {
      "text/plain": [
       "11"
      ]
     },
     "execution_count": 101,
     "metadata": {},
     "output_type": "execute_result"
    },
    {
     "data": {
      "text/plain": [
       "10"
      ]
     },
     "execution_count": 101,
     "metadata": {},
     "output_type": "execute_result"
    },
    {
     "data": {
      "text/plain": [
       "12"
      ]
     },
     "execution_count": 101,
     "metadata": {},
     "output_type": "execute_result"
    },
    {
     "data": {
      "text/plain": [
       "10"
      ]
     },
     "execution_count": 101,
     "metadata": {},
     "output_type": "execute_result"
    },
    {
     "data": {
      "text/plain": [
       "11"
      ]
     },
     "execution_count": 101,
     "metadata": {},
     "output_type": "execute_result"
    },
    {
     "data": {
      "text/plain": [
       "12"
      ]
     },
     "execution_count": 101,
     "metadata": {},
     "output_type": "execute_result"
    },
    {
     "data": {
      "text/plain": [
       "11"
      ]
     },
     "execution_count": 101,
     "metadata": {},
     "output_type": "execute_result"
    },
    {
     "data": {
      "text/plain": [
       "12"
      ]
     },
     "execution_count": 101,
     "metadata": {},
     "output_type": "execute_result"
    },
    {
     "data": {
      "text/plain": [
       "12"
      ]
     },
     "execution_count": 101,
     "metadata": {},
     "output_type": "execute_result"
    },
    {
     "data": {
      "text/plain": [
       "10"
      ]
     },
     "execution_count": 101,
     "metadata": {},
     "output_type": "execute_result"
    },
    {
     "data": {
      "text/plain": [
       "9"
      ]
     },
     "execution_count": 101,
     "metadata": {},
     "output_type": "execute_result"
    },
    {
     "data": {
      "text/plain": [
       "9"
      ]
     },
     "execution_count": 101,
     "metadata": {},
     "output_type": "execute_result"
    },
    {
     "data": {
      "text/plain": [
       "12"
      ]
     },
     "execution_count": 101,
     "metadata": {},
     "output_type": "execute_result"
    },
    {
     "data": {
      "text/plain": [
       "10"
      ]
     },
     "execution_count": 101,
     "metadata": {},
     "output_type": "execute_result"
    },
    {
     "data": {
      "text/plain": [
       "10"
      ]
     },
     "execution_count": 101,
     "metadata": {},
     "output_type": "execute_result"
    },
    {
     "data": {
      "text/plain": [
       "9"
      ]
     },
     "execution_count": 101,
     "metadata": {},
     "output_type": "execute_result"
    },
    {
     "data": {
      "text/plain": [
       "9"
      ]
     },
     "execution_count": 101,
     "metadata": {},
     "output_type": "execute_result"
    },
    {
     "data": {
      "text/plain": [
       "13"
      ]
     },
     "execution_count": 101,
     "metadata": {},
     "output_type": "execute_result"
    },
    {
     "data": {
      "text/plain": [
       "11"
      ]
     },
     "execution_count": 101,
     "metadata": {},
     "output_type": "execute_result"
    },
    {
     "data": {
      "text/plain": [
       "9"
      ]
     },
     "execution_count": 101,
     "metadata": {},
     "output_type": "execute_result"
    },
    {
     "data": {
      "text/plain": [
       "10"
      ]
     },
     "execution_count": 101,
     "metadata": {},
     "output_type": "execute_result"
    },
    {
     "data": {
      "text/plain": [
       "10"
      ]
     },
     "execution_count": 101,
     "metadata": {},
     "output_type": "execute_result"
    },
    {
     "data": {
      "text/plain": [
       "11"
      ]
     },
     "execution_count": 101,
     "metadata": {},
     "output_type": "execute_result"
    },
    {
     "data": {
      "text/plain": [
       "9"
      ]
     },
     "execution_count": 101,
     "metadata": {},
     "output_type": "execute_result"
    },
    {
     "data": {
      "text/plain": [
       "10"
      ]
     },
     "execution_count": 101,
     "metadata": {},
     "output_type": "execute_result"
    },
    {
     "data": {
      "text/plain": [
       "11"
      ]
     },
     "execution_count": 101,
     "metadata": {},
     "output_type": "execute_result"
    },
    {
     "data": {
      "text/plain": [
       "9"
      ]
     },
     "execution_count": 101,
     "metadata": {},
     "output_type": "execute_result"
    },
    {
     "data": {
      "text/plain": [
       "11"
      ]
     },
     "execution_count": 101,
     "metadata": {},
     "output_type": "execute_result"
    },
    {
     "data": {
      "text/plain": [
       "11"
      ]
     },
     "execution_count": 101,
     "metadata": {},
     "output_type": "execute_result"
    },
    {
     "data": {
      "text/plain": [
       "9"
      ]
     },
     "execution_count": 101,
     "metadata": {},
     "output_type": "execute_result"
    },
    {
     "data": {
      "text/plain": [
       "12"
      ]
     },
     "execution_count": 101,
     "metadata": {},
     "output_type": "execute_result"
    },
    {
     "data": {
      "text/plain": [
       "10"
      ]
     },
     "execution_count": 101,
     "metadata": {},
     "output_type": "execute_result"
    },
    {
     "data": {
      "text/plain": [
       "11"
      ]
     },
     "execution_count": 101,
     "metadata": {},
     "output_type": "execute_result"
    },
    {
     "data": {
      "text/plain": [
       "10"
      ]
     },
     "execution_count": 101,
     "metadata": {},
     "output_type": "execute_result"
    },
    {
     "data": {
      "text/plain": [
       "11"
      ]
     },
     "execution_count": 101,
     "metadata": {},
     "output_type": "execute_result"
    },
    {
     "data": {
      "text/plain": [
       "10"
      ]
     },
     "execution_count": 101,
     "metadata": {},
     "output_type": "execute_result"
    },
    {
     "data": {
      "text/plain": [
       "9"
      ]
     },
     "execution_count": 101,
     "metadata": {},
     "output_type": "execute_result"
    },
    {
     "data": {
      "text/plain": [
       "10"
      ]
     },
     "execution_count": 101,
     "metadata": {},
     "output_type": "execute_result"
    },
    {
     "data": {
      "text/plain": [
       "12"
      ]
     },
     "execution_count": 101,
     "metadata": {},
     "output_type": "execute_result"
    },
    {
     "data": {
      "text/plain": [
       "8"
      ]
     },
     "execution_count": 101,
     "metadata": {},
     "output_type": "execute_result"
    },
    {
     "data": {
      "text/plain": [
       "11"
      ]
     },
     "execution_count": 101,
     "metadata": {},
     "output_type": "execute_result"
    },
    {
     "data": {
      "text/plain": [
       "9"
      ]
     },
     "execution_count": 101,
     "metadata": {},
     "output_type": "execute_result"
    },
    {
     "data": {
      "text/plain": [
       "11"
      ]
     },
     "execution_count": 101,
     "metadata": {},
     "output_type": "execute_result"
    },
    {
     "data": {
      "text/plain": [
       "11"
      ]
     },
     "execution_count": 101,
     "metadata": {},
     "output_type": "execute_result"
    },
    {
     "data": {
      "text/plain": [
       "10"
      ]
     },
     "execution_count": 101,
     "metadata": {},
     "output_type": "execute_result"
    },
    {
     "data": {
      "text/plain": [
       "12"
      ]
     },
     "execution_count": 101,
     "metadata": {},
     "output_type": "execute_result"
    },
    {
     "data": {
      "text/plain": [
       "12"
      ]
     },
     "execution_count": 101,
     "metadata": {},
     "output_type": "execute_result"
    },
    {
     "data": {
      "text/plain": [
       "13"
      ]
     },
     "execution_count": 101,
     "metadata": {},
     "output_type": "execute_result"
    },
    {
     "data": {
      "text/plain": [
       "12"
      ]
     },
     "execution_count": 101,
     "metadata": {},
     "output_type": "execute_result"
    },
    {
     "data": {
      "text/plain": [
       "13"
      ]
     },
     "execution_count": 101,
     "metadata": {},
     "output_type": "execute_result"
    },
    {
     "data": {
      "text/plain": [
       "10"
      ]
     },
     "execution_count": 101,
     "metadata": {},
     "output_type": "execute_result"
    },
    {
     "data": {
      "text/plain": [
       "12"
      ]
     },
     "execution_count": 101,
     "metadata": {},
     "output_type": "execute_result"
    },
    {
     "data": {
      "text/plain": [
       "11"
      ]
     },
     "execution_count": 101,
     "metadata": {},
     "output_type": "execute_result"
    },
    {
     "data": {
      "text/plain": [
       "11"
      ]
     },
     "execution_count": 101,
     "metadata": {},
     "output_type": "execute_result"
    },
    {
     "data": {
      "text/plain": [
       "10"
      ]
     },
     "execution_count": 101,
     "metadata": {},
     "output_type": "execute_result"
    },
    {
     "data": {
      "text/plain": [
       "11"
      ]
     },
     "execution_count": 101,
     "metadata": {},
     "output_type": "execute_result"
    },
    {
     "data": {
      "text/plain": [
       "11"
      ]
     },
     "execution_count": 101,
     "metadata": {},
     "output_type": "execute_result"
    },
    {
     "data": {
      "text/plain": [
       "10"
      ]
     },
     "execution_count": 101,
     "metadata": {},
     "output_type": "execute_result"
    },
    {
     "data": {
      "text/plain": [
       "11"
      ]
     },
     "execution_count": 101,
     "metadata": {},
     "output_type": "execute_result"
    },
    {
     "data": {
      "text/plain": [
       "12"
      ]
     },
     "execution_count": 101,
     "metadata": {},
     "output_type": "execute_result"
    },
    {
     "data": {
      "text/plain": [
       "10"
      ]
     },
     "execution_count": 101,
     "metadata": {},
     "output_type": "execute_result"
    },
    {
     "data": {
      "text/plain": [
       "10"
      ]
     },
     "execution_count": 101,
     "metadata": {},
     "output_type": "execute_result"
    },
    {
     "data": {
      "text/plain": [
       "9"
      ]
     },
     "execution_count": 101,
     "metadata": {},
     "output_type": "execute_result"
    },
    {
     "data": {
      "text/plain": [
       "9"
      ]
     },
     "execution_count": 101,
     "metadata": {},
     "output_type": "execute_result"
    },
    {
     "data": {
      "text/plain": [
       "9"
      ]
     },
     "execution_count": 101,
     "metadata": {},
     "output_type": "execute_result"
    },
    {
     "data": {
      "text/plain": [
       "8"
      ]
     },
     "execution_count": 101,
     "metadata": {},
     "output_type": "execute_result"
    },
    {
     "data": {
      "text/plain": [
       "9"
      ]
     },
     "execution_count": 101,
     "metadata": {},
     "output_type": "execute_result"
    },
    {
     "data": {
      "text/plain": [
       "7"
      ]
     },
     "execution_count": 101,
     "metadata": {},
     "output_type": "execute_result"
    },
    {
     "data": {
      "text/plain": [
       "9"
      ]
     },
     "execution_count": 101,
     "metadata": {},
     "output_type": "execute_result"
    },
    {
     "data": {
      "text/plain": [
       "9"
      ]
     },
     "execution_count": 101,
     "metadata": {},
     "output_type": "execute_result"
    },
    {
     "data": {
      "text/plain": [
       "9"
      ]
     },
     "execution_count": 101,
     "metadata": {},
     "output_type": "execute_result"
    },
    {
     "data": {
      "text/plain": [
       "9"
      ]
     },
     "execution_count": 101,
     "metadata": {},
     "output_type": "execute_result"
    },
    {
     "data": {
      "text/plain": [
       "11"
      ]
     },
     "execution_count": 101,
     "metadata": {},
     "output_type": "execute_result"
    },
    {
     "data": {
      "text/plain": [
       "8"
      ]
     },
     "execution_count": 101,
     "metadata": {},
     "output_type": "execute_result"
    },
    {
     "data": {
      "text/plain": [
       "10"
      ]
     },
     "execution_count": 101,
     "metadata": {},
     "output_type": "execute_result"
    },
    {
     "data": {
      "text/plain": [
       "10"
      ]
     },
     "execution_count": 101,
     "metadata": {},
     "output_type": "execute_result"
    },
    {
     "data": {
      "text/plain": [
       "10"
      ]
     },
     "execution_count": 101,
     "metadata": {},
     "output_type": "execute_result"
    },
    {
     "data": {
      "text/plain": [
       "11"
      ]
     },
     "execution_count": 101,
     "metadata": {},
     "output_type": "execute_result"
    },
    {
     "data": {
      "text/plain": [
       "10"
      ]
     },
     "execution_count": 101,
     "metadata": {},
     "output_type": "execute_result"
    },
    {
     "data": {
      "text/plain": [
       "12"
      ]
     },
     "execution_count": 101,
     "metadata": {},
     "output_type": "execute_result"
    },
    {
     "data": {
      "text/plain": [
       "12"
      ]
     },
     "execution_count": 101,
     "metadata": {},
     "output_type": "execute_result"
    },
    {
     "data": {
      "text/plain": [
       "10"
      ]
     },
     "execution_count": 101,
     "metadata": {},
     "output_type": "execute_result"
    },
    {
     "data": {
      "text/plain": [
       "10"
      ]
     },
     "execution_count": 101,
     "metadata": {},
     "output_type": "execute_result"
    },
    {
     "data": {
      "text/plain": [
       "10"
      ]
     },
     "execution_count": 101,
     "metadata": {},
     "output_type": "execute_result"
    },
    {
     "data": {
      "text/plain": [
       "10"
      ]
     },
     "execution_count": 101,
     "metadata": {},
     "output_type": "execute_result"
    },
    {
     "data": {
      "text/plain": [
       "10"
      ]
     },
     "execution_count": 101,
     "metadata": {},
     "output_type": "execute_result"
    },
    {
     "data": {
      "text/plain": [
       "10"
      ]
     },
     "execution_count": 101,
     "metadata": {},
     "output_type": "execute_result"
    },
    {
     "data": {
      "text/plain": [
       "8"
      ]
     },
     "execution_count": 101,
     "metadata": {},
     "output_type": "execute_result"
    },
    {
     "data": {
      "text/plain": [
       "9"
      ]
     },
     "execution_count": 101,
     "metadata": {},
     "output_type": "execute_result"
    },
    {
     "data": {
      "text/plain": [
       "10"
      ]
     },
     "execution_count": 101,
     "metadata": {},
     "output_type": "execute_result"
    },
    {
     "data": {
      "text/plain": [
       "11"
      ]
     },
     "execution_count": 101,
     "metadata": {},
     "output_type": "execute_result"
    },
    {
     "data": {
      "text/plain": [
       "9"
      ]
     },
     "execution_count": 101,
     "metadata": {},
     "output_type": "execute_result"
    },
    {
     "data": {
      "text/plain": [
       "9"
      ]
     },
     "execution_count": 101,
     "metadata": {},
     "output_type": "execute_result"
    },
    {
     "data": {
      "text/plain": [
       "9"
      ]
     },
     "execution_count": 101,
     "metadata": {},
     "output_type": "execute_result"
    },
    {
     "data": {
      "text/plain": [
       "8"
      ]
     },
     "execution_count": 101,
     "metadata": {},
     "output_type": "execute_result"
    },
    {
     "data": {
      "text/plain": [
       "10"
      ]
     },
     "execution_count": 101,
     "metadata": {},
     "output_type": "execute_result"
    },
    {
     "data": {
      "text/plain": [
       "11"
      ]
     },
     "execution_count": 101,
     "metadata": {},
     "output_type": "execute_result"
    },
    {
     "data": {
      "text/plain": [
       "9"
      ]
     },
     "execution_count": 101,
     "metadata": {},
     "output_type": "execute_result"
    },
    {
     "data": {
      "text/plain": [
       "11"
      ]
     },
     "execution_count": 101,
     "metadata": {},
     "output_type": "execute_result"
    },
    {
     "data": {
      "text/plain": [
       "9"
      ]
     },
     "execution_count": 101,
     "metadata": {},
     "output_type": "execute_result"
    },
    {
     "data": {
      "text/plain": [
       "10"
      ]
     },
     "execution_count": 101,
     "metadata": {},
     "output_type": "execute_result"
    },
    {
     "data": {
      "text/plain": [
       "8"
      ]
     },
     "execution_count": 101,
     "metadata": {},
     "output_type": "execute_result"
    },
    {
     "data": {
      "text/plain": [
       "9"
      ]
     },
     "execution_count": 101,
     "metadata": {},
     "output_type": "execute_result"
    },
    {
     "data": {
      "text/plain": [
       "10"
      ]
     },
     "execution_count": 101,
     "metadata": {},
     "output_type": "execute_result"
    },
    {
     "data": {
      "text/plain": [
       "9"
      ]
     },
     "execution_count": 101,
     "metadata": {},
     "output_type": "execute_result"
    },
    {
     "data": {
      "text/plain": [
       "10"
      ]
     },
     "execution_count": 101,
     "metadata": {},
     "output_type": "execute_result"
    },
    {
     "data": {
      "text/plain": [
       "9"
      ]
     },
     "execution_count": 101,
     "metadata": {},
     "output_type": "execute_result"
    },
    {
     "data": {
      "text/plain": [
       "10"
      ]
     },
     "execution_count": 101,
     "metadata": {},
     "output_type": "execute_result"
    },
    {
     "data": {
      "text/plain": [
       "9"
      ]
     },
     "execution_count": 101,
     "metadata": {},
     "output_type": "execute_result"
    },
    {
     "data": {
      "text/plain": [
       "8"
      ]
     },
     "execution_count": 101,
     "metadata": {},
     "output_type": "execute_result"
    },
    {
     "data": {
      "text/plain": [
       "9"
      ]
     },
     "execution_count": 101,
     "metadata": {},
     "output_type": "execute_result"
    },
    {
     "data": {
      "text/plain": [
       "9"
      ]
     },
     "execution_count": 101,
     "metadata": {},
     "output_type": "execute_result"
    },
    {
     "data": {
      "text/plain": [
       "10"
      ]
     },
     "execution_count": 101,
     "metadata": {},
     "output_type": "execute_result"
    },
    {
     "data": {
      "text/plain": [
       "10"
      ]
     },
     "execution_count": 101,
     "metadata": {},
     "output_type": "execute_result"
    },
    {
     "data": {
      "text/plain": [
       "8"
      ]
     },
     "execution_count": 101,
     "metadata": {},
     "output_type": "execute_result"
    },
    {
     "data": {
      "text/plain": [
       "7"
      ]
     },
     "execution_count": 101,
     "metadata": {},
     "output_type": "execute_result"
    },
    {
     "data": {
      "text/plain": [
       "8"
      ]
     },
     "execution_count": 101,
     "metadata": {},
     "output_type": "execute_result"
    },
    {
     "data": {
      "text/plain": [
       "11"
      ]
     },
     "execution_count": 101,
     "metadata": {},
     "output_type": "execute_result"
    },
    {
     "data": {
      "text/plain": [
       "12"
      ]
     },
     "execution_count": 101,
     "metadata": {},
     "output_type": "execute_result"
    },
    {
     "data": {
      "text/plain": [
       "12"
      ]
     },
     "execution_count": 101,
     "metadata": {},
     "output_type": "execute_result"
    },
    {
     "data": {
      "text/plain": [
       "10"
      ]
     },
     "execution_count": 101,
     "metadata": {},
     "output_type": "execute_result"
    },
    {
     "data": {
      "text/plain": [
       "13"
      ]
     },
     "execution_count": 101,
     "metadata": {},
     "output_type": "execute_result"
    },
    {
     "data": {
      "text/plain": [
       "11"
      ]
     },
     "execution_count": 101,
     "metadata": {},
     "output_type": "execute_result"
    },
    {
     "data": {
      "text/plain": [
       "12"
      ]
     },
     "execution_count": 101,
     "metadata": {},
     "output_type": "execute_result"
    },
    {
     "data": {
      "text/plain": [
       "11"
      ]
     },
     "execution_count": 101,
     "metadata": {},
     "output_type": "execute_result"
    },
    {
     "data": {
      "text/plain": [
       "10"
      ]
     },
     "execution_count": 101,
     "metadata": {},
     "output_type": "execute_result"
    },
    {
     "data": {
      "text/plain": [
       "11"
      ]
     },
     "execution_count": 101,
     "metadata": {},
     "output_type": "execute_result"
    },
    {
     "data": {
      "text/plain": [
       "11"
      ]
     },
     "execution_count": 101,
     "metadata": {},
     "output_type": "execute_result"
    },
    {
     "data": {
      "text/plain": [
       "12"
      ]
     },
     "execution_count": 101,
     "metadata": {},
     "output_type": "execute_result"
    },
    {
     "data": {
      "text/plain": [
       "10"
      ]
     },
     "execution_count": 101,
     "metadata": {},
     "output_type": "execute_result"
    },
    {
     "data": {
      "text/plain": [
       "11"
      ]
     },
     "execution_count": 101,
     "metadata": {},
     "output_type": "execute_result"
    },
    {
     "data": {
      "text/plain": [
       "11"
      ]
     },
     "execution_count": 101,
     "metadata": {},
     "output_type": "execute_result"
    },
    {
     "data": {
      "text/plain": [
       "10"
      ]
     },
     "execution_count": 101,
     "metadata": {},
     "output_type": "execute_result"
    },
    {
     "data": {
      "text/plain": [
       "12"
      ]
     },
     "execution_count": 101,
     "metadata": {},
     "output_type": "execute_result"
    },
    {
     "data": {
      "text/plain": [
       "12"
      ]
     },
     "execution_count": 101,
     "metadata": {},
     "output_type": "execute_result"
    },
    {
     "data": {
      "text/plain": [
       "11"
      ]
     },
     "execution_count": 101,
     "metadata": {},
     "output_type": "execute_result"
    },
    {
     "data": {
      "text/plain": [
       "9"
      ]
     },
     "execution_count": 101,
     "metadata": {},
     "output_type": "execute_result"
    },
    {
     "data": {
      "text/plain": [
       "11"
      ]
     },
     "execution_count": 101,
     "metadata": {},
     "output_type": "execute_result"
    },
    {
     "data": {
      "text/plain": [
       "12"
      ]
     },
     "execution_count": 101,
     "metadata": {},
     "output_type": "execute_result"
    },
    {
     "data": {
      "text/plain": [
       "12"
      ]
     },
     "execution_count": 101,
     "metadata": {},
     "output_type": "execute_result"
    },
    {
     "data": {
      "text/plain": [
       "12"
      ]
     },
     "execution_count": 101,
     "metadata": {},
     "output_type": "execute_result"
    },
    {
     "data": {
      "text/plain": [
       "9"
      ]
     },
     "execution_count": 101,
     "metadata": {},
     "output_type": "execute_result"
    },
    {
     "data": {
      "text/plain": [
       "12"
      ]
     },
     "execution_count": 101,
     "metadata": {},
     "output_type": "execute_result"
    },
    {
     "data": {
      "text/plain": [
       "11"
      ]
     },
     "execution_count": 101,
     "metadata": {},
     "output_type": "execute_result"
    },
    {
     "data": {
      "text/plain": [
       "9"
      ]
     },
     "execution_count": 101,
     "metadata": {},
     "output_type": "execute_result"
    },
    {
     "data": {
      "text/plain": [
       "11"
      ]
     },
     "execution_count": 101,
     "metadata": {},
     "output_type": "execute_result"
    },
    {
     "data": {
      "text/plain": [
       "11"
      ]
     },
     "execution_count": 101,
     "metadata": {},
     "output_type": "execute_result"
    },
    {
     "data": {
      "text/plain": [
       "11"
      ]
     },
     "execution_count": 101,
     "metadata": {},
     "output_type": "execute_result"
    },
    {
     "data": {
      "text/plain": [
       "12"
      ]
     },
     "execution_count": 101,
     "metadata": {},
     "output_type": "execute_result"
    },
    {
     "data": {
      "text/plain": [
       "11"
      ]
     },
     "execution_count": 101,
     "metadata": {},
     "output_type": "execute_result"
    },
    {
     "data": {
      "text/plain": [
       "11"
      ]
     },
     "execution_count": 101,
     "metadata": {},
     "output_type": "execute_result"
    },
    {
     "data": {
      "text/plain": [
       "11"
      ]
     },
     "execution_count": 101,
     "metadata": {},
     "output_type": "execute_result"
    },
    {
     "data": {
      "text/plain": [
       "10"
      ]
     },
     "execution_count": 101,
     "metadata": {},
     "output_type": "execute_result"
    },
    {
     "data": {
      "text/plain": [
       "12"
      ]
     },
     "execution_count": 101,
     "metadata": {},
     "output_type": "execute_result"
    },
    {
     "data": {
      "text/plain": [
       "11"
      ]
     },
     "execution_count": 101,
     "metadata": {},
     "output_type": "execute_result"
    },
    {
     "data": {
      "text/plain": [
       "12"
      ]
     },
     "execution_count": 101,
     "metadata": {},
     "output_type": "execute_result"
    },
    {
     "data": {
      "text/plain": [
       "9"
      ]
     },
     "execution_count": 101,
     "metadata": {},
     "output_type": "execute_result"
    },
    {
     "data": {
      "text/plain": [
       "15"
      ]
     },
     "execution_count": 101,
     "metadata": {},
     "output_type": "execute_result"
    },
    {
     "data": {
      "text/plain": [
       "11"
      ]
     },
     "execution_count": 101,
     "metadata": {},
     "output_type": "execute_result"
    },
    {
     "data": {
      "text/plain": [
       "10"
      ]
     },
     "execution_count": 101,
     "metadata": {},
     "output_type": "execute_result"
    },
    {
     "data": {
      "text/plain": [
       "10"
      ]
     },
     "execution_count": 101,
     "metadata": {},
     "output_type": "execute_result"
    },
    {
     "data": {
      "text/plain": [
       "8"
      ]
     },
     "execution_count": 101,
     "metadata": {},
     "output_type": "execute_result"
    },
    {
     "data": {
      "text/plain": [
       "11"
      ]
     },
     "execution_count": 101,
     "metadata": {},
     "output_type": "execute_result"
    },
    {
     "data": {
      "text/plain": [
       "12"
      ]
     },
     "execution_count": 101,
     "metadata": {},
     "output_type": "execute_result"
    },
    {
     "data": {
      "text/plain": [
       "11"
      ]
     },
     "execution_count": 101,
     "metadata": {},
     "output_type": "execute_result"
    },
    {
     "data": {
      "text/plain": [
       "10"
      ]
     },
     "execution_count": 101,
     "metadata": {},
     "output_type": "execute_result"
    },
    {
     "data": {
      "text/plain": [
       "9"
      ]
     },
     "execution_count": 101,
     "metadata": {},
     "output_type": "execute_result"
    },
    {
     "data": {
      "text/plain": [
       "11"
      ]
     },
     "execution_count": 101,
     "metadata": {},
     "output_type": "execute_result"
    },
    {
     "data": {
      "text/plain": [
       "10"
      ]
     },
     "execution_count": 101,
     "metadata": {},
     "output_type": "execute_result"
    },
    {
     "data": {
      "text/plain": [
       "9"
      ]
     },
     "execution_count": 101,
     "metadata": {},
     "output_type": "execute_result"
    },
    {
     "data": {
      "text/plain": [
       "11"
      ]
     },
     "execution_count": 101,
     "metadata": {},
     "output_type": "execute_result"
    },
    {
     "data": {
      "text/plain": [
       "11"
      ]
     },
     "execution_count": 101,
     "metadata": {},
     "output_type": "execute_result"
    },
    {
     "data": {
      "text/plain": [
       "12"
      ]
     },
     "execution_count": 101,
     "metadata": {},
     "output_type": "execute_result"
    },
    {
     "data": {
      "text/plain": [
       "10"
      ]
     },
     "execution_count": 101,
     "metadata": {},
     "output_type": "execute_result"
    },
    {
     "data": {
      "text/plain": [
       "10"
      ]
     },
     "execution_count": 101,
     "metadata": {},
     "output_type": "execute_result"
    },
    {
     "data": {
      "text/plain": [
       "12"
      ]
     },
     "execution_count": 101,
     "metadata": {},
     "output_type": "execute_result"
    },
    {
     "data": {
      "text/plain": [
       "10"
      ]
     },
     "execution_count": 101,
     "metadata": {},
     "output_type": "execute_result"
    },
    {
     "data": {
      "text/plain": [
       "10"
      ]
     },
     "execution_count": 101,
     "metadata": {},
     "output_type": "execute_result"
    },
    {
     "data": {
      "text/plain": [
       "10"
      ]
     },
     "execution_count": 101,
     "metadata": {},
     "output_type": "execute_result"
    },
    {
     "data": {
      "text/plain": [
       "10"
      ]
     },
     "execution_count": 101,
     "metadata": {},
     "output_type": "execute_result"
    },
    {
     "data": {
      "text/plain": [
       "10"
      ]
     },
     "execution_count": 101,
     "metadata": {},
     "output_type": "execute_result"
    },
    {
     "data": {
      "text/plain": [
       "11"
      ]
     },
     "execution_count": 101,
     "metadata": {},
     "output_type": "execute_result"
    },
    {
     "data": {
      "text/plain": [
       "11"
      ]
     },
     "execution_count": 101,
     "metadata": {},
     "output_type": "execute_result"
    },
    {
     "data": {
      "text/plain": [
       "12"
      ]
     },
     "execution_count": 101,
     "metadata": {},
     "output_type": "execute_result"
    },
    {
     "data": {
      "text/plain": [
       "10"
      ]
     },
     "execution_count": 101,
     "metadata": {},
     "output_type": "execute_result"
    },
    {
     "data": {
      "text/plain": [
       "11"
      ]
     },
     "execution_count": 101,
     "metadata": {},
     "output_type": "execute_result"
    },
    {
     "data": {
      "text/plain": [
       "9"
      ]
     },
     "execution_count": 101,
     "metadata": {},
     "output_type": "execute_result"
    },
    {
     "data": {
      "text/plain": [
       "11"
      ]
     },
     "execution_count": 101,
     "metadata": {},
     "output_type": "execute_result"
    },
    {
     "data": {
      "text/plain": [
       "10"
      ]
     },
     "execution_count": 101,
     "metadata": {},
     "output_type": "execute_result"
    },
    {
     "data": {
      "text/plain": [
       "10"
      ]
     },
     "execution_count": 101,
     "metadata": {},
     "output_type": "execute_result"
    },
    {
     "data": {
      "text/plain": [
       "10"
      ]
     },
     "execution_count": 101,
     "metadata": {},
     "output_type": "execute_result"
    },
    {
     "data": {
      "text/plain": [
       "11"
      ]
     },
     "execution_count": 101,
     "metadata": {},
     "output_type": "execute_result"
    },
    {
     "data": {
      "text/plain": [
       "10"
      ]
     },
     "execution_count": 101,
     "metadata": {},
     "output_type": "execute_result"
    },
    {
     "data": {
      "text/plain": [
       "9"
      ]
     },
     "execution_count": 101,
     "metadata": {},
     "output_type": "execute_result"
    },
    {
     "data": {
      "text/plain": [
       "13"
      ]
     },
     "execution_count": 101,
     "metadata": {},
     "output_type": "execute_result"
    },
    {
     "data": {
      "text/plain": [
       "11"
      ]
     },
     "execution_count": 101,
     "metadata": {},
     "output_type": "execute_result"
    },
    {
     "data": {
      "text/plain": [
       "15"
      ]
     },
     "execution_count": 101,
     "metadata": {},
     "output_type": "execute_result"
    },
    {
     "data": {
      "text/plain": [
       "10"
      ]
     },
     "execution_count": 101,
     "metadata": {},
     "output_type": "execute_result"
    },
    {
     "data": {
      "text/plain": [
       "10"
      ]
     },
     "execution_count": 101,
     "metadata": {},
     "output_type": "execute_result"
    },
    {
     "data": {
      "text/plain": [
       "10"
      ]
     },
     "execution_count": 101,
     "metadata": {},
     "output_type": "execute_result"
    },
    {
     "data": {
      "text/plain": [
       "12"
      ]
     },
     "execution_count": 101,
     "metadata": {},
     "output_type": "execute_result"
    },
    {
     "data": {
      "text/plain": [
       "11"
      ]
     },
     "execution_count": 101,
     "metadata": {},
     "output_type": "execute_result"
    },
    {
     "data": {
      "text/plain": [
       "11"
      ]
     },
     "execution_count": 101,
     "metadata": {},
     "output_type": "execute_result"
    },
    {
     "data": {
      "text/plain": [
       "12"
      ]
     },
     "execution_count": 101,
     "metadata": {},
     "output_type": "execute_result"
    },
    {
     "data": {
      "text/plain": [
       "9"
      ]
     },
     "execution_count": 101,
     "metadata": {},
     "output_type": "execute_result"
    },
    {
     "data": {
      "text/plain": [
       "10"
      ]
     },
     "execution_count": 101,
     "metadata": {},
     "output_type": "execute_result"
    },
    {
     "data": {
      "text/plain": [
       "11"
      ]
     },
     "execution_count": 101,
     "metadata": {},
     "output_type": "execute_result"
    },
    {
     "data": {
      "text/plain": [
       "10"
      ]
     },
     "execution_count": 101,
     "metadata": {},
     "output_type": "execute_result"
    },
    {
     "data": {
      "text/plain": [
       "9"
      ]
     },
     "execution_count": 101,
     "metadata": {},
     "output_type": "execute_result"
    },
    {
     "data": {
      "text/plain": [
       "9"
      ]
     },
     "execution_count": 101,
     "metadata": {},
     "output_type": "execute_result"
    },
    {
     "data": {
      "text/plain": [
       "10"
      ]
     },
     "execution_count": 101,
     "metadata": {},
     "output_type": "execute_result"
    },
    {
     "data": {
      "text/plain": [
       "8"
      ]
     },
     "execution_count": 101,
     "metadata": {},
     "output_type": "execute_result"
    },
    {
     "data": {
      "text/plain": [
       "10"
      ]
     },
     "execution_count": 101,
     "metadata": {},
     "output_type": "execute_result"
    },
    {
     "data": {
      "text/plain": [
       "10"
      ]
     },
     "execution_count": 101,
     "metadata": {},
     "output_type": "execute_result"
    },
    {
     "data": {
      "text/plain": [
       "10"
      ]
     },
     "execution_count": 101,
     "metadata": {},
     "output_type": "execute_result"
    },
    {
     "data": {
      "text/plain": [
       "10"
      ]
     },
     "execution_count": 101,
     "metadata": {},
     "output_type": "execute_result"
    },
    {
     "data": {
      "text/plain": [
       "12"
      ]
     },
     "execution_count": 101,
     "metadata": {},
     "output_type": "execute_result"
    },
    {
     "data": {
      "text/plain": [
       "10"
      ]
     },
     "execution_count": 101,
     "metadata": {},
     "output_type": "execute_result"
    },
    {
     "data": {
      "text/plain": [
       "9"
      ]
     },
     "execution_count": 101,
     "metadata": {},
     "output_type": "execute_result"
    },
    {
     "data": {
      "text/plain": [
       "8"
      ]
     },
     "execution_count": 101,
     "metadata": {},
     "output_type": "execute_result"
    },
    {
     "data": {
      "text/plain": [
       "11"
      ]
     },
     "execution_count": 101,
     "metadata": {},
     "output_type": "execute_result"
    },
    {
     "data": {
      "text/plain": [
       "9"
      ]
     },
     "execution_count": 101,
     "metadata": {},
     "output_type": "execute_result"
    },
    {
     "data": {
      "text/plain": [
       "12"
      ]
     },
     "execution_count": 101,
     "metadata": {},
     "output_type": "execute_result"
    },
    {
     "data": {
      "text/plain": [
       "10"
      ]
     },
     "execution_count": 101,
     "metadata": {},
     "output_type": "execute_result"
    },
    {
     "data": {
      "text/plain": [
       "11"
      ]
     },
     "execution_count": 101,
     "metadata": {},
     "output_type": "execute_result"
    },
    {
     "data": {
      "text/plain": [
       "10"
      ]
     },
     "execution_count": 101,
     "metadata": {},
     "output_type": "execute_result"
    },
    {
     "data": {
      "text/plain": [
       "10"
      ]
     },
     "execution_count": 101,
     "metadata": {},
     "output_type": "execute_result"
    },
    {
     "data": {
      "text/plain": [
       "12"
      ]
     },
     "execution_count": 101,
     "metadata": {},
     "output_type": "execute_result"
    },
    {
     "data": {
      "text/plain": [
       "11"
      ]
     },
     "execution_count": 101,
     "metadata": {},
     "output_type": "execute_result"
    },
    {
     "data": {
      "text/plain": [
       "10"
      ]
     },
     "execution_count": 101,
     "metadata": {},
     "output_type": "execute_result"
    },
    {
     "data": {
      "text/plain": [
       "9"
      ]
     },
     "execution_count": 101,
     "metadata": {},
     "output_type": "execute_result"
    },
    {
     "data": {
      "text/plain": [
       "10"
      ]
     },
     "execution_count": 101,
     "metadata": {},
     "output_type": "execute_result"
    },
    {
     "data": {
      "text/plain": [
       "9"
      ]
     },
     "execution_count": 101,
     "metadata": {},
     "output_type": "execute_result"
    },
    {
     "data": {
      "text/plain": [
       "9"
      ]
     },
     "execution_count": 101,
     "metadata": {},
     "output_type": "execute_result"
    },
    {
     "data": {
      "text/plain": [
       "9"
      ]
     },
     "execution_count": 101,
     "metadata": {},
     "output_type": "execute_result"
    },
    {
     "data": {
      "text/plain": [
       "12"
      ]
     },
     "execution_count": 101,
     "metadata": {},
     "output_type": "execute_result"
    },
    {
     "data": {
      "text/plain": [
       "10"
      ]
     },
     "execution_count": 101,
     "metadata": {},
     "output_type": "execute_result"
    },
    {
     "data": {
      "text/plain": [
       "11"
      ]
     },
     "execution_count": 101,
     "metadata": {},
     "output_type": "execute_result"
    },
    {
     "data": {
      "text/plain": [
       "9"
      ]
     },
     "execution_count": 101,
     "metadata": {},
     "output_type": "execute_result"
    },
    {
     "data": {
      "text/plain": [
       "8"
      ]
     },
     "execution_count": 101,
     "metadata": {},
     "output_type": "execute_result"
    },
    {
     "data": {
      "text/plain": [
       "8"
      ]
     },
     "execution_count": 101,
     "metadata": {},
     "output_type": "execute_result"
    },
    {
     "data": {
      "text/plain": [
       "10"
      ]
     },
     "execution_count": 101,
     "metadata": {},
     "output_type": "execute_result"
    },
    {
     "data": {
      "text/plain": [
       "10"
      ]
     },
     "execution_count": 101,
     "metadata": {},
     "output_type": "execute_result"
    },
    {
     "data": {
      "text/plain": [
       "13"
      ]
     },
     "execution_count": 101,
     "metadata": {},
     "output_type": "execute_result"
    },
    {
     "data": {
      "text/plain": [
       "10"
      ]
     },
     "execution_count": 101,
     "metadata": {},
     "output_type": "execute_result"
    },
    {
     "data": {
      "text/plain": [
       "10"
      ]
     },
     "execution_count": 101,
     "metadata": {},
     "output_type": "execute_result"
    },
    {
     "data": {
      "text/plain": [
       "9"
      ]
     },
     "execution_count": 101,
     "metadata": {},
     "output_type": "execute_result"
    },
    {
     "data": {
      "text/plain": [
       "10"
      ]
     },
     "execution_count": 101,
     "metadata": {},
     "output_type": "execute_result"
    },
    {
     "data": {
      "text/plain": [
       "9"
      ]
     },
     "execution_count": 101,
     "metadata": {},
     "output_type": "execute_result"
    },
    {
     "data": {
      "text/plain": [
       "12"
      ]
     },
     "execution_count": 101,
     "metadata": {},
     "output_type": "execute_result"
    },
    {
     "data": {
      "text/plain": [
       "11"
      ]
     },
     "execution_count": 101,
     "metadata": {},
     "output_type": "execute_result"
    },
    {
     "data": {
      "text/plain": [
       "8"
      ]
     },
     "execution_count": 101,
     "metadata": {},
     "output_type": "execute_result"
    },
    {
     "data": {
      "text/plain": [
       "10"
      ]
     },
     "execution_count": 101,
     "metadata": {},
     "output_type": "execute_result"
    },
    {
     "data": {
      "text/plain": [
       "8"
      ]
     },
     "execution_count": 101,
     "metadata": {},
     "output_type": "execute_result"
    },
    {
     "data": {
      "text/plain": [
       "9"
      ]
     },
     "execution_count": 101,
     "metadata": {},
     "output_type": "execute_result"
    },
    {
     "data": {
      "text/plain": [
       "9"
      ]
     },
     "execution_count": 101,
     "metadata": {},
     "output_type": "execute_result"
    },
    {
     "data": {
      "text/plain": [
       "9"
      ]
     },
     "execution_count": 101,
     "metadata": {},
     "output_type": "execute_result"
    },
    {
     "data": {
      "text/plain": [
       "9"
      ]
     },
     "execution_count": 101,
     "metadata": {},
     "output_type": "execute_result"
    },
    {
     "data": {
      "text/plain": [
       "9"
      ]
     },
     "execution_count": 101,
     "metadata": {},
     "output_type": "execute_result"
    },
    {
     "data": {
      "text/plain": [
       "9"
      ]
     },
     "execution_count": 101,
     "metadata": {},
     "output_type": "execute_result"
    },
    {
     "data": {
      "text/plain": [
       "9"
      ]
     },
     "execution_count": 101,
     "metadata": {},
     "output_type": "execute_result"
    },
    {
     "data": {
      "text/plain": [
       "10"
      ]
     },
     "execution_count": 101,
     "metadata": {},
     "output_type": "execute_result"
    },
    {
     "data": {
      "text/plain": [
       "11"
      ]
     },
     "execution_count": 101,
     "metadata": {},
     "output_type": "execute_result"
    },
    {
     "data": {
      "text/plain": [
       "9"
      ]
     },
     "execution_count": 101,
     "metadata": {},
     "output_type": "execute_result"
    },
    {
     "data": {
      "text/plain": [
       "9"
      ]
     },
     "execution_count": 101,
     "metadata": {},
     "output_type": "execute_result"
    },
    {
     "data": {
      "text/plain": [
       "9"
      ]
     },
     "execution_count": 101,
     "metadata": {},
     "output_type": "execute_result"
    },
    {
     "data": {
      "text/plain": [
       "9"
      ]
     },
     "execution_count": 101,
     "metadata": {},
     "output_type": "execute_result"
    },
    {
     "data": {
      "text/plain": [
       "9"
      ]
     },
     "execution_count": 101,
     "metadata": {},
     "output_type": "execute_result"
    },
    {
     "data": {
      "text/plain": [
       "8"
      ]
     },
     "execution_count": 101,
     "metadata": {},
     "output_type": "execute_result"
    },
    {
     "data": {
      "text/plain": [
       "10"
      ]
     },
     "execution_count": 101,
     "metadata": {},
     "output_type": "execute_result"
    },
    {
     "data": {
      "text/plain": [
       "8"
      ]
     },
     "execution_count": 101,
     "metadata": {},
     "output_type": "execute_result"
    },
    {
     "data": {
      "text/plain": [
       "10"
      ]
     },
     "execution_count": 101,
     "metadata": {},
     "output_type": "execute_result"
    },
    {
     "data": {
      "text/plain": [
       "10"
      ]
     },
     "execution_count": 101,
     "metadata": {},
     "output_type": "execute_result"
    },
    {
     "data": {
      "text/plain": [
       "12"
      ]
     },
     "execution_count": 101,
     "metadata": {},
     "output_type": "execute_result"
    },
    {
     "data": {
      "text/plain": [
       "10"
      ]
     },
     "execution_count": 101,
     "metadata": {},
     "output_type": "execute_result"
    },
    {
     "data": {
      "text/plain": [
       "11"
      ]
     },
     "execution_count": 101,
     "metadata": {},
     "output_type": "execute_result"
    },
    {
     "data": {
      "text/plain": [
       "11"
      ]
     },
     "execution_count": 101,
     "metadata": {},
     "output_type": "execute_result"
    },
    {
     "data": {
      "text/plain": [
       "8"
      ]
     },
     "execution_count": 101,
     "metadata": {},
     "output_type": "execute_result"
    },
    {
     "data": {
      "text/plain": [
       "11"
      ]
     },
     "execution_count": 101,
     "metadata": {},
     "output_type": "execute_result"
    },
    {
     "data": {
      "text/plain": [
       "10"
      ]
     },
     "execution_count": 101,
     "metadata": {},
     "output_type": "execute_result"
    },
    {
     "data": {
      "text/plain": [
       "11"
      ]
     },
     "execution_count": 101,
     "metadata": {},
     "output_type": "execute_result"
    },
    {
     "data": {
      "text/plain": [
       "10"
      ]
     },
     "execution_count": 101,
     "metadata": {},
     "output_type": "execute_result"
    },
    {
     "data": {
      "text/plain": [
       "10"
      ]
     },
     "execution_count": 101,
     "metadata": {},
     "output_type": "execute_result"
    },
    {
     "data": {
      "text/plain": [
       "9"
      ]
     },
     "execution_count": 101,
     "metadata": {},
     "output_type": "execute_result"
    },
    {
     "data": {
      "text/plain": [
       "9"
      ]
     },
     "execution_count": 101,
     "metadata": {},
     "output_type": "execute_result"
    },
    {
     "data": {
      "text/plain": [
       "11"
      ]
     },
     "execution_count": 101,
     "metadata": {},
     "output_type": "execute_result"
    },
    {
     "data": {
      "text/plain": [
       "9"
      ]
     },
     "execution_count": 101,
     "metadata": {},
     "output_type": "execute_result"
    },
    {
     "data": {
      "text/plain": [
       "9"
      ]
     },
     "execution_count": 101,
     "metadata": {},
     "output_type": "execute_result"
    },
    {
     "data": {
      "text/plain": [
       "11"
      ]
     },
     "execution_count": 101,
     "metadata": {},
     "output_type": "execute_result"
    },
    {
     "data": {
      "text/plain": [
       "13"
      ]
     },
     "execution_count": 101,
     "metadata": {},
     "output_type": "execute_result"
    },
    {
     "data": {
      "text/plain": [
       "9"
      ]
     },
     "execution_count": 101,
     "metadata": {},
     "output_type": "execute_result"
    },
    {
     "data": {
      "text/plain": [
       "10"
      ]
     },
     "execution_count": 101,
     "metadata": {},
     "output_type": "execute_result"
    },
    {
     "data": {
      "text/plain": [
       "10"
      ]
     },
     "execution_count": 101,
     "metadata": {},
     "output_type": "execute_result"
    },
    {
     "data": {
      "text/plain": [
       "12"
      ]
     },
     "execution_count": 101,
     "metadata": {},
     "output_type": "execute_result"
    },
    {
     "data": {
      "text/plain": [
       "9"
      ]
     },
     "execution_count": 101,
     "metadata": {},
     "output_type": "execute_result"
    },
    {
     "data": {
      "text/plain": [
       "7"
      ]
     },
     "execution_count": 101,
     "metadata": {},
     "output_type": "execute_result"
    },
    {
     "data": {
      "text/plain": [
       "9"
      ]
     },
     "execution_count": 101,
     "metadata": {},
     "output_type": "execute_result"
    },
    {
     "data": {
      "text/plain": [
       "10"
      ]
     },
     "execution_count": 101,
     "metadata": {},
     "output_type": "execute_result"
    },
    {
     "data": {
      "text/plain": [
       "10"
      ]
     },
     "execution_count": 101,
     "metadata": {},
     "output_type": "execute_result"
    },
    {
     "data": {
      "text/plain": [
       "8"
      ]
     },
     "execution_count": 101,
     "metadata": {},
     "output_type": "execute_result"
    },
    {
     "data": {
      "text/plain": [
       "9"
      ]
     },
     "execution_count": 101,
     "metadata": {},
     "output_type": "execute_result"
    },
    {
     "data": {
      "text/plain": [
       "9"
      ]
     },
     "execution_count": 101,
     "metadata": {},
     "output_type": "execute_result"
    },
    {
     "data": {
      "text/plain": [
       "9"
      ]
     },
     "execution_count": 101,
     "metadata": {},
     "output_type": "execute_result"
    },
    {
     "data": {
      "text/plain": [
       "9"
      ]
     },
     "execution_count": 101,
     "metadata": {},
     "output_type": "execute_result"
    },
    {
     "data": {
      "text/plain": [
       "10"
      ]
     },
     "execution_count": 101,
     "metadata": {},
     "output_type": "execute_result"
    },
    {
     "data": {
      "text/plain": [
       "9"
      ]
     },
     "execution_count": 101,
     "metadata": {},
     "output_type": "execute_result"
    },
    {
     "data": {
      "text/plain": [
       "8"
      ]
     },
     "execution_count": 101,
     "metadata": {},
     "output_type": "execute_result"
    },
    {
     "data": {
      "text/plain": [
       "9"
      ]
     },
     "execution_count": 101,
     "metadata": {},
     "output_type": "execute_result"
    },
    {
     "data": {
      "text/plain": [
       "9"
      ]
     },
     "execution_count": 101,
     "metadata": {},
     "output_type": "execute_result"
    },
    {
     "data": {
      "text/plain": [
       "8"
      ]
     },
     "execution_count": 101,
     "metadata": {},
     "output_type": "execute_result"
    },
    {
     "data": {
      "text/plain": [
       "9"
      ]
     },
     "execution_count": 101,
     "metadata": {},
     "output_type": "execute_result"
    },
    {
     "data": {
      "text/plain": [
       "11"
      ]
     },
     "execution_count": 101,
     "metadata": {},
     "output_type": "execute_result"
    },
    {
     "data": {
      "text/plain": [
       "10"
      ]
     },
     "execution_count": 101,
     "metadata": {},
     "output_type": "execute_result"
    },
    {
     "data": {
      "text/plain": [
       "10"
      ]
     },
     "execution_count": 101,
     "metadata": {},
     "output_type": "execute_result"
    },
    {
     "data": {
      "text/plain": [
       "10"
      ]
     },
     "execution_count": 101,
     "metadata": {},
     "output_type": "execute_result"
    },
    {
     "data": {
      "text/plain": [
       "10"
      ]
     },
     "execution_count": 101,
     "metadata": {},
     "output_type": "execute_result"
    },
    {
     "data": {
      "text/plain": [
       "6"
      ]
     },
     "execution_count": 101,
     "metadata": {},
     "output_type": "execute_result"
    },
    {
     "data": {
      "text/plain": [
       "11"
      ]
     },
     "execution_count": 101,
     "metadata": {},
     "output_type": "execute_result"
    },
    {
     "data": {
      "text/plain": [
       "12"
      ]
     },
     "execution_count": 101,
     "metadata": {},
     "output_type": "execute_result"
    },
    {
     "data": {
      "text/plain": [
       "11"
      ]
     },
     "execution_count": 101,
     "metadata": {},
     "output_type": "execute_result"
    },
    {
     "data": {
      "text/plain": [
       "10"
      ]
     },
     "execution_count": 101,
     "metadata": {},
     "output_type": "execute_result"
    },
    {
     "data": {
      "text/plain": [
       "13"
      ]
     },
     "execution_count": 101,
     "metadata": {},
     "output_type": "execute_result"
    },
    {
     "data": {
      "text/plain": [
       "10"
      ]
     },
     "execution_count": 101,
     "metadata": {},
     "output_type": "execute_result"
    },
    {
     "data": {
      "text/plain": [
       "12"
      ]
     },
     "execution_count": 101,
     "metadata": {},
     "output_type": "execute_result"
    },
    {
     "data": {
      "text/plain": [
       "11"
      ]
     },
     "execution_count": 101,
     "metadata": {},
     "output_type": "execute_result"
    },
    {
     "data": {
      "text/plain": [
       "11"
      ]
     },
     "execution_count": 101,
     "metadata": {},
     "output_type": "execute_result"
    },
    {
     "data": {
      "text/plain": [
       "10"
      ]
     },
     "execution_count": 101,
     "metadata": {},
     "output_type": "execute_result"
    },
    {
     "data": {
      "text/plain": [
       "11"
      ]
     },
     "execution_count": 101,
     "metadata": {},
     "output_type": "execute_result"
    },
    {
     "data": {
      "text/plain": [
       "9"
      ]
     },
     "execution_count": 101,
     "metadata": {},
     "output_type": "execute_result"
    },
    {
     "data": {
      "text/plain": [
       "12"
      ]
     },
     "execution_count": 101,
     "metadata": {},
     "output_type": "execute_result"
    },
    {
     "data": {
      "text/plain": [
       "10"
      ]
     },
     "execution_count": 101,
     "metadata": {},
     "output_type": "execute_result"
    },
    {
     "data": {
      "text/plain": [
       "10"
      ]
     },
     "execution_count": 101,
     "metadata": {},
     "output_type": "execute_result"
    },
    {
     "data": {
      "text/plain": [
       "11"
      ]
     },
     "execution_count": 101,
     "metadata": {},
     "output_type": "execute_result"
    },
    {
     "data": {
      "text/plain": [
       "11"
      ]
     },
     "execution_count": 101,
     "metadata": {},
     "output_type": "execute_result"
    },
    {
     "data": {
      "text/plain": [
       "11"
      ]
     },
     "execution_count": 101,
     "metadata": {},
     "output_type": "execute_result"
    },
    {
     "data": {
      "text/plain": [
       "12"
      ]
     },
     "execution_count": 101,
     "metadata": {},
     "output_type": "execute_result"
    },
    {
     "data": {
      "text/plain": [
       "11"
      ]
     },
     "execution_count": 101,
     "metadata": {},
     "output_type": "execute_result"
    },
    {
     "data": {
      "text/plain": [
       "13"
      ]
     },
     "execution_count": 101,
     "metadata": {},
     "output_type": "execute_result"
    },
    {
     "data": {
      "text/plain": [
       "9"
      ]
     },
     "execution_count": 101,
     "metadata": {},
     "output_type": "execute_result"
    },
    {
     "data": {
      "text/plain": [
       "10"
      ]
     },
     "execution_count": 101,
     "metadata": {},
     "output_type": "execute_result"
    },
    {
     "data": {
      "text/plain": [
       "11"
      ]
     },
     "execution_count": 101,
     "metadata": {},
     "output_type": "execute_result"
    },
    {
     "data": {
      "text/plain": [
       "10"
      ]
     },
     "execution_count": 101,
     "metadata": {},
     "output_type": "execute_result"
    },
    {
     "data": {
      "text/plain": [
       "10"
      ]
     },
     "execution_count": 101,
     "metadata": {},
     "output_type": "execute_result"
    },
    {
     "data": {
      "text/plain": [
       "11"
      ]
     },
     "execution_count": 101,
     "metadata": {},
     "output_type": "execute_result"
    },
    {
     "data": {
      "text/plain": [
       "12"
      ]
     },
     "execution_count": 101,
     "metadata": {},
     "output_type": "execute_result"
    },
    {
     "data": {
      "text/plain": [
       "11"
      ]
     },
     "execution_count": 101,
     "metadata": {},
     "output_type": "execute_result"
    },
    {
     "data": {
      "text/plain": [
       "11"
      ]
     },
     "execution_count": 101,
     "metadata": {},
     "output_type": "execute_result"
    },
    {
     "data": {
      "text/plain": [
       "9"
      ]
     },
     "execution_count": 101,
     "metadata": {},
     "output_type": "execute_result"
    },
    {
     "data": {
      "text/plain": [
       "11"
      ]
     },
     "execution_count": 101,
     "metadata": {},
     "output_type": "execute_result"
    },
    {
     "data": {
      "text/plain": [
       "12"
      ]
     },
     "execution_count": 101,
     "metadata": {},
     "output_type": "execute_result"
    },
    {
     "data": {
      "text/plain": [
       "12"
      ]
     },
     "execution_count": 101,
     "metadata": {},
     "output_type": "execute_result"
    },
    {
     "data": {
      "text/plain": [
       "13"
      ]
     },
     "execution_count": 101,
     "metadata": {},
     "output_type": "execute_result"
    },
    {
     "data": {
      "text/plain": [
       "12"
      ]
     },
     "execution_count": 101,
     "metadata": {},
     "output_type": "execute_result"
    },
    {
     "data": {
      "text/plain": [
       "10"
      ]
     },
     "execution_count": 101,
     "metadata": {},
     "output_type": "execute_result"
    },
    {
     "data": {
      "text/plain": [
       "10"
      ]
     },
     "execution_count": 101,
     "metadata": {},
     "output_type": "execute_result"
    },
    {
     "data": {
      "text/plain": [
       "10"
      ]
     },
     "execution_count": 101,
     "metadata": {},
     "output_type": "execute_result"
    },
    {
     "data": {
      "text/plain": [
       "11"
      ]
     },
     "execution_count": 101,
     "metadata": {},
     "output_type": "execute_result"
    },
    {
     "data": {
      "text/plain": [
       "10"
      ]
     },
     "execution_count": 101,
     "metadata": {},
     "output_type": "execute_result"
    },
    {
     "data": {
      "text/plain": [
       "10"
      ]
     },
     "execution_count": 101,
     "metadata": {},
     "output_type": "execute_result"
    },
    {
     "data": {
      "text/plain": [
       "9"
      ]
     },
     "execution_count": 101,
     "metadata": {},
     "output_type": "execute_result"
    },
    {
     "data": {
      "text/plain": [
       "10"
      ]
     },
     "execution_count": 101,
     "metadata": {},
     "output_type": "execute_result"
    },
    {
     "data": {
      "text/plain": [
       "11"
      ]
     },
     "execution_count": 101,
     "metadata": {},
     "output_type": "execute_result"
    },
    {
     "data": {
      "text/plain": [
       "10"
      ]
     },
     "execution_count": 101,
     "metadata": {},
     "output_type": "execute_result"
    },
    {
     "data": {
      "text/plain": [
       "8"
      ]
     },
     "execution_count": 101,
     "metadata": {},
     "output_type": "execute_result"
    },
    {
     "data": {
      "text/plain": [
       "10"
      ]
     },
     "execution_count": 101,
     "metadata": {},
     "output_type": "execute_result"
    },
    {
     "data": {
      "text/plain": [
       "11"
      ]
     },
     "execution_count": 101,
     "metadata": {},
     "output_type": "execute_result"
    },
    {
     "data": {
      "text/plain": [
       "9"
      ]
     },
     "execution_count": 101,
     "metadata": {},
     "output_type": "execute_result"
    },
    {
     "data": {
      "text/plain": [
       "11"
      ]
     },
     "execution_count": 101,
     "metadata": {},
     "output_type": "execute_result"
    },
    {
     "data": {
      "text/plain": [
       "9"
      ]
     },
     "execution_count": 101,
     "metadata": {},
     "output_type": "execute_result"
    },
    {
     "data": {
      "text/plain": [
       "11"
      ]
     },
     "execution_count": 101,
     "metadata": {},
     "output_type": "execute_result"
    },
    {
     "data": {
      "text/plain": [
       "11"
      ]
     },
     "execution_count": 101,
     "metadata": {},
     "output_type": "execute_result"
    },
    {
     "data": {
      "text/plain": [
       "13"
      ]
     },
     "execution_count": 101,
     "metadata": {},
     "output_type": "execute_result"
    },
    {
     "data": {
      "text/plain": [
       "12"
      ]
     },
     "execution_count": 101,
     "metadata": {},
     "output_type": "execute_result"
    },
    {
     "data": {
      "text/plain": [
       "11"
      ]
     },
     "execution_count": 101,
     "metadata": {},
     "output_type": "execute_result"
    },
    {
     "data": {
      "text/plain": [
       "11"
      ]
     },
     "execution_count": 101,
     "metadata": {},
     "output_type": "execute_result"
    },
    {
     "data": {
      "text/plain": [
       "12"
      ]
     },
     "execution_count": 101,
     "metadata": {},
     "output_type": "execute_result"
    },
    {
     "data": {
      "text/plain": [
       "11"
      ]
     },
     "execution_count": 101,
     "metadata": {},
     "output_type": "execute_result"
    },
    {
     "data": {
      "text/plain": [
       "11"
      ]
     },
     "execution_count": 101,
     "metadata": {},
     "output_type": "execute_result"
    },
    {
     "data": {
      "text/plain": [
       "10"
      ]
     },
     "execution_count": 101,
     "metadata": {},
     "output_type": "execute_result"
    },
    {
     "data": {
      "text/plain": [
       "8"
      ]
     },
     "execution_count": 101,
     "metadata": {},
     "output_type": "execute_result"
    },
    {
     "data": {
      "text/plain": [
       "10"
      ]
     },
     "execution_count": 101,
     "metadata": {},
     "output_type": "execute_result"
    },
    {
     "data": {
      "text/plain": [
       "11"
      ]
     },
     "execution_count": 101,
     "metadata": {},
     "output_type": "execute_result"
    },
    {
     "data": {
      "text/plain": [
       "10"
      ]
     },
     "execution_count": 101,
     "metadata": {},
     "output_type": "execute_result"
    },
    {
     "data": {
      "text/plain": [
       "11"
      ]
     },
     "execution_count": 101,
     "metadata": {},
     "output_type": "execute_result"
    },
    {
     "data": {
      "text/plain": [
       "10"
      ]
     },
     "execution_count": 101,
     "metadata": {},
     "output_type": "execute_result"
    },
    {
     "data": {
      "text/plain": [
       "14"
      ]
     },
     "execution_count": 101,
     "metadata": {},
     "output_type": "execute_result"
    },
    {
     "data": {
      "text/plain": [
       "10"
      ]
     },
     "execution_count": 101,
     "metadata": {},
     "output_type": "execute_result"
    },
    {
     "data": {
      "text/plain": [
       "10"
      ]
     },
     "execution_count": 101,
     "metadata": {},
     "output_type": "execute_result"
    },
    {
     "data": {
      "text/plain": [
       "10"
      ]
     },
     "execution_count": 101,
     "metadata": {},
     "output_type": "execute_result"
    },
    {
     "data": {
      "text/plain": [
       "12"
      ]
     },
     "execution_count": 101,
     "metadata": {},
     "output_type": "execute_result"
    },
    {
     "data": {
      "text/plain": [
       "10"
      ]
     },
     "execution_count": 101,
     "metadata": {},
     "output_type": "execute_result"
    },
    {
     "data": {
      "text/plain": [
       "11"
      ]
     },
     "execution_count": 101,
     "metadata": {},
     "output_type": "execute_result"
    },
    {
     "data": {
      "text/plain": [
       "11"
      ]
     },
     "execution_count": 101,
     "metadata": {},
     "output_type": "execute_result"
    },
    {
     "data": {
      "text/plain": [
       "10"
      ]
     },
     "execution_count": 101,
     "metadata": {},
     "output_type": "execute_result"
    },
    {
     "data": {
      "text/plain": [
       "10"
      ]
     },
     "execution_count": 101,
     "metadata": {},
     "output_type": "execute_result"
    },
    {
     "data": {
      "text/plain": [
       "11"
      ]
     },
     "execution_count": 101,
     "metadata": {},
     "output_type": "execute_result"
    },
    {
     "data": {
      "text/plain": [
       "10"
      ]
     },
     "execution_count": 101,
     "metadata": {},
     "output_type": "execute_result"
    },
    {
     "data": {
      "text/plain": [
       "12"
      ]
     },
     "execution_count": 101,
     "metadata": {},
     "output_type": "execute_result"
    },
    {
     "data": {
      "text/plain": [
       "11"
      ]
     },
     "execution_count": 101,
     "metadata": {},
     "output_type": "execute_result"
    },
    {
     "data": {
      "text/plain": [
       "9"
      ]
     },
     "execution_count": 101,
     "metadata": {},
     "output_type": "execute_result"
    },
    {
     "data": {
      "text/plain": [
       "12"
      ]
     },
     "execution_count": 101,
     "metadata": {},
     "output_type": "execute_result"
    },
    {
     "data": {
      "text/plain": [
       "11"
      ]
     },
     "execution_count": 101,
     "metadata": {},
     "output_type": "execute_result"
    },
    {
     "data": {
      "text/plain": [
       "11"
      ]
     },
     "execution_count": 101,
     "metadata": {},
     "output_type": "execute_result"
    },
    {
     "data": {
      "text/plain": [
       "13"
      ]
     },
     "execution_count": 101,
     "metadata": {},
     "output_type": "execute_result"
    },
    {
     "data": {
      "text/plain": [
       "11"
      ]
     },
     "execution_count": 101,
     "metadata": {},
     "output_type": "execute_result"
    },
    {
     "data": {
      "text/plain": [
       "13"
      ]
     },
     "execution_count": 101,
     "metadata": {},
     "output_type": "execute_result"
    },
    {
     "data": {
      "text/plain": [
       "10"
      ]
     },
     "execution_count": 101,
     "metadata": {},
     "output_type": "execute_result"
    },
    {
     "data": {
      "text/plain": [
       "11"
      ]
     },
     "execution_count": 101,
     "metadata": {},
     "output_type": "execute_result"
    },
    {
     "data": {
      "text/plain": [
       "9"
      ]
     },
     "execution_count": 101,
     "metadata": {},
     "output_type": "execute_result"
    },
    {
     "data": {
      "text/plain": [
       "11"
      ]
     },
     "execution_count": 101,
     "metadata": {},
     "output_type": "execute_result"
    },
    {
     "data": {
      "text/plain": [
       "10"
      ]
     },
     "execution_count": 101,
     "metadata": {},
     "output_type": "execute_result"
    },
    {
     "data": {
      "text/plain": [
       "13"
      ]
     },
     "execution_count": 101,
     "metadata": {},
     "output_type": "execute_result"
    },
    {
     "data": {
      "text/plain": [
       "13"
      ]
     },
     "execution_count": 101,
     "metadata": {},
     "output_type": "execute_result"
    },
    {
     "data": {
      "text/plain": [
       "12"
      ]
     },
     "execution_count": 101,
     "metadata": {},
     "output_type": "execute_result"
    },
    {
     "data": {
      "text/plain": [
       "9"
      ]
     },
     "execution_count": 101,
     "metadata": {},
     "output_type": "execute_result"
    },
    {
     "data": {
      "text/plain": [
       "12"
      ]
     },
     "execution_count": 101,
     "metadata": {},
     "output_type": "execute_result"
    },
    {
     "data": {
      "text/plain": [
       "11"
      ]
     },
     "execution_count": 101,
     "metadata": {},
     "output_type": "execute_result"
    },
    {
     "data": {
      "text/plain": [
       "11"
      ]
     },
     "execution_count": 101,
     "metadata": {},
     "output_type": "execute_result"
    },
    {
     "data": {
      "text/plain": [
       "10"
      ]
     },
     "execution_count": 101,
     "metadata": {},
     "output_type": "execute_result"
    },
    {
     "data": {
      "text/plain": [
       "11"
      ]
     },
     "execution_count": 101,
     "metadata": {},
     "output_type": "execute_result"
    },
    {
     "data": {
      "text/plain": [
       "10"
      ]
     },
     "execution_count": 101,
     "metadata": {},
     "output_type": "execute_result"
    },
    {
     "data": {
      "text/plain": [
       "11"
      ]
     },
     "execution_count": 101,
     "metadata": {},
     "output_type": "execute_result"
    },
    {
     "data": {
      "text/plain": [
       "9"
      ]
     },
     "execution_count": 101,
     "metadata": {},
     "output_type": "execute_result"
    },
    {
     "data": {
      "text/plain": [
       "11"
      ]
     },
     "execution_count": 101,
     "metadata": {},
     "output_type": "execute_result"
    },
    {
     "data": {
      "text/plain": [
       "13"
      ]
     },
     "execution_count": 101,
     "metadata": {},
     "output_type": "execute_result"
    },
    {
     "data": {
      "text/plain": [
       "14"
      ]
     },
     "execution_count": 101,
     "metadata": {},
     "output_type": "execute_result"
    },
    {
     "data": {
      "text/plain": [
       "10"
      ]
     },
     "execution_count": 101,
     "metadata": {},
     "output_type": "execute_result"
    },
    {
     "data": {
      "text/plain": [
       "11"
      ]
     },
     "execution_count": 101,
     "metadata": {},
     "output_type": "execute_result"
    },
    {
     "data": {
      "text/plain": [
       "11"
      ]
     },
     "execution_count": 101,
     "metadata": {},
     "output_type": "execute_result"
    },
    {
     "data": {
      "text/plain": [
       "10"
      ]
     },
     "execution_count": 101,
     "metadata": {},
     "output_type": "execute_result"
    },
    {
     "data": {
      "text/plain": [
       "9"
      ]
     },
     "execution_count": 101,
     "metadata": {},
     "output_type": "execute_result"
    },
    {
     "data": {
      "text/plain": [
       "10"
      ]
     },
     "execution_count": 101,
     "metadata": {},
     "output_type": "execute_result"
    },
    {
     "data": {
      "text/plain": [
       "9"
      ]
     },
     "execution_count": 101,
     "metadata": {},
     "output_type": "execute_result"
    },
    {
     "data": {
      "text/plain": [
       "9"
      ]
     },
     "execution_count": 101,
     "metadata": {},
     "output_type": "execute_result"
    },
    {
     "data": {
      "text/plain": [
       "9"
      ]
     },
     "execution_count": 101,
     "metadata": {},
     "output_type": "execute_result"
    },
    {
     "data": {
      "text/plain": [
       "11"
      ]
     },
     "execution_count": 101,
     "metadata": {},
     "output_type": "execute_result"
    },
    {
     "data": {
      "text/plain": [
       "9"
      ]
     },
     "execution_count": 101,
     "metadata": {},
     "output_type": "execute_result"
    },
    {
     "data": {
      "text/plain": [
       "10"
      ]
     },
     "execution_count": 101,
     "metadata": {},
     "output_type": "execute_result"
    },
    {
     "data": {
      "text/plain": [
       "10"
      ]
     },
     "execution_count": 101,
     "metadata": {},
     "output_type": "execute_result"
    },
    {
     "data": {
      "text/plain": [
       "10"
      ]
     },
     "execution_count": 101,
     "metadata": {},
     "output_type": "execute_result"
    },
    {
     "data": {
      "text/plain": [
       "8"
      ]
     },
     "execution_count": 101,
     "metadata": {},
     "output_type": "execute_result"
    },
    {
     "data": {
      "text/plain": [
       "11"
      ]
     },
     "execution_count": 101,
     "metadata": {},
     "output_type": "execute_result"
    },
    {
     "data": {
      "text/plain": [
       "9"
      ]
     },
     "execution_count": 101,
     "metadata": {},
     "output_type": "execute_result"
    },
    {
     "data": {
      "text/plain": [
       "12"
      ]
     },
     "execution_count": 101,
     "metadata": {},
     "output_type": "execute_result"
    },
    {
     "data": {
      "text/plain": [
       "12"
      ]
     },
     "execution_count": 101,
     "metadata": {},
     "output_type": "execute_result"
    },
    {
     "data": {
      "text/plain": [
       "9"
      ]
     },
     "execution_count": 101,
     "metadata": {},
     "output_type": "execute_result"
    },
    {
     "data": {
      "text/plain": [
       "10"
      ]
     },
     "execution_count": 101,
     "metadata": {},
     "output_type": "execute_result"
    },
    {
     "data": {
      "text/plain": [
       "9"
      ]
     },
     "execution_count": 101,
     "metadata": {},
     "output_type": "execute_result"
    },
    {
     "data": {
      "text/plain": [
       "10"
      ]
     },
     "execution_count": 101,
     "metadata": {},
     "output_type": "execute_result"
    },
    {
     "data": {
      "text/plain": [
       "11"
      ]
     },
     "execution_count": 101,
     "metadata": {},
     "output_type": "execute_result"
    },
    {
     "data": {
      "text/plain": [
       "9"
      ]
     },
     "execution_count": 101,
     "metadata": {},
     "output_type": "execute_result"
    },
    {
     "data": {
      "text/plain": [
       "10"
      ]
     },
     "execution_count": 101,
     "metadata": {},
     "output_type": "execute_result"
    },
    {
     "data": {
      "text/plain": [
       "11"
      ]
     },
     "execution_count": 101,
     "metadata": {},
     "output_type": "execute_result"
    },
    {
     "data": {
      "text/plain": [
       "11"
      ]
     },
     "execution_count": 101,
     "metadata": {},
     "output_type": "execute_result"
    },
    {
     "data": {
      "text/plain": [
       "10"
      ]
     },
     "execution_count": 101,
     "metadata": {},
     "output_type": "execute_result"
    },
    {
     "data": {
      "text/plain": [
       "10"
      ]
     },
     "execution_count": 101,
     "metadata": {},
     "output_type": "execute_result"
    },
    {
     "data": {
      "text/plain": [
       "11"
      ]
     },
     "execution_count": 101,
     "metadata": {},
     "output_type": "execute_result"
    },
    {
     "data": {
      "text/plain": [
       "9"
      ]
     },
     "execution_count": 101,
     "metadata": {},
     "output_type": "execute_result"
    },
    {
     "data": {
      "text/plain": [
       "10"
      ]
     },
     "execution_count": 101,
     "metadata": {},
     "output_type": "execute_result"
    },
    {
     "data": {
      "text/plain": [
       "11"
      ]
     },
     "execution_count": 101,
     "metadata": {},
     "output_type": "execute_result"
    },
    {
     "data": {
      "text/plain": [
       "10"
      ]
     },
     "execution_count": 101,
     "metadata": {},
     "output_type": "execute_result"
    },
    {
     "data": {
      "text/plain": [
       "10"
      ]
     },
     "execution_count": 101,
     "metadata": {},
     "output_type": "execute_result"
    },
    {
     "data": {
      "text/plain": [
       "11"
      ]
     },
     "execution_count": 101,
     "metadata": {},
     "output_type": "execute_result"
    },
    {
     "data": {
      "text/plain": [
       "11"
      ]
     },
     "execution_count": 101,
     "metadata": {},
     "output_type": "execute_result"
    },
    {
     "data": {
      "text/plain": [
       "11"
      ]
     },
     "execution_count": 101,
     "metadata": {},
     "output_type": "execute_result"
    },
    {
     "data": {
      "text/plain": [
       "9"
      ]
     },
     "execution_count": 101,
     "metadata": {},
     "output_type": "execute_result"
    },
    {
     "data": {
      "text/plain": [
       "11"
      ]
     },
     "execution_count": 101,
     "metadata": {},
     "output_type": "execute_result"
    },
    {
     "data": {
      "text/plain": [
       "9"
      ]
     },
     "execution_count": 101,
     "metadata": {},
     "output_type": "execute_result"
    },
    {
     "data": {
      "text/plain": [
       "11"
      ]
     },
     "execution_count": 101,
     "metadata": {},
     "output_type": "execute_result"
    },
    {
     "data": {
      "text/plain": [
       "13"
      ]
     },
     "execution_count": 101,
     "metadata": {},
     "output_type": "execute_result"
    },
    {
     "data": {
      "text/plain": [
       "11"
      ]
     },
     "execution_count": 101,
     "metadata": {},
     "output_type": "execute_result"
    },
    {
     "data": {
      "text/plain": [
       "11"
      ]
     },
     "execution_count": 101,
     "metadata": {},
     "output_type": "execute_result"
    },
    {
     "data": {
      "text/plain": [
       "10"
      ]
     },
     "execution_count": 101,
     "metadata": {},
     "output_type": "execute_result"
    },
    {
     "data": {
      "text/plain": [
       "10"
      ]
     },
     "execution_count": 101,
     "metadata": {},
     "output_type": "execute_result"
    },
    {
     "data": {
      "text/plain": [
       "13"
      ]
     },
     "execution_count": 101,
     "metadata": {},
     "output_type": "execute_result"
    },
    {
     "data": {
      "text/plain": [
       "11"
      ]
     },
     "execution_count": 101,
     "metadata": {},
     "output_type": "execute_result"
    },
    {
     "data": {
      "text/plain": [
       "10"
      ]
     },
     "execution_count": 101,
     "metadata": {},
     "output_type": "execute_result"
    },
    {
     "data": {
      "text/plain": [
       "11"
      ]
     },
     "execution_count": 101,
     "metadata": {},
     "output_type": "execute_result"
    },
    {
     "data": {
      "text/plain": [
       "9"
      ]
     },
     "execution_count": 101,
     "metadata": {},
     "output_type": "execute_result"
    },
    {
     "data": {
      "text/plain": [
       "8"
      ]
     },
     "execution_count": 101,
     "metadata": {},
     "output_type": "execute_result"
    },
    {
     "data": {
      "text/plain": [
       "9"
      ]
     },
     "execution_count": 101,
     "metadata": {},
     "output_type": "execute_result"
    },
    {
     "data": {
      "text/plain": [
       "9"
      ]
     },
     "execution_count": 101,
     "metadata": {},
     "output_type": "execute_result"
    },
    {
     "data": {
      "text/plain": [
       "10"
      ]
     },
     "execution_count": 101,
     "metadata": {},
     "output_type": "execute_result"
    },
    {
     "data": {
      "text/plain": [
       "9"
      ]
     },
     "execution_count": 101,
     "metadata": {},
     "output_type": "execute_result"
    },
    {
     "data": {
      "text/plain": [
       "9"
      ]
     },
     "execution_count": 101,
     "metadata": {},
     "output_type": "execute_result"
    },
    {
     "data": {
      "text/plain": [
       "10"
      ]
     },
     "execution_count": 101,
     "metadata": {},
     "output_type": "execute_result"
    },
    {
     "data": {
      "text/plain": [
       "9"
      ]
     },
     "execution_count": 101,
     "metadata": {},
     "output_type": "execute_result"
    },
    {
     "data": {
      "text/plain": [
       "9"
      ]
     },
     "execution_count": 101,
     "metadata": {},
     "output_type": "execute_result"
    },
    {
     "data": {
      "text/plain": [
       "10"
      ]
     },
     "execution_count": 101,
     "metadata": {},
     "output_type": "execute_result"
    },
    {
     "data": {
      "text/plain": [
       "11"
      ]
     },
     "execution_count": 101,
     "metadata": {},
     "output_type": "execute_result"
    },
    {
     "data": {
      "text/plain": [
       "11"
      ]
     },
     "execution_count": 101,
     "metadata": {},
     "output_type": "execute_result"
    },
    {
     "data": {
      "text/plain": [
       "11"
      ]
     },
     "execution_count": 101,
     "metadata": {},
     "output_type": "execute_result"
    },
    {
     "data": {
      "text/plain": [
       "12"
      ]
     },
     "execution_count": 101,
     "metadata": {},
     "output_type": "execute_result"
    },
    {
     "data": {
      "text/plain": [
       "9"
      ]
     },
     "execution_count": 101,
     "metadata": {},
     "output_type": "execute_result"
    },
    {
     "data": {
      "text/plain": [
       "9"
      ]
     },
     "execution_count": 101,
     "metadata": {},
     "output_type": "execute_result"
    },
    {
     "data": {
      "text/plain": [
       "10"
      ]
     },
     "execution_count": 101,
     "metadata": {},
     "output_type": "execute_result"
    },
    {
     "data": {
      "text/plain": [
       "9"
      ]
     },
     "execution_count": 101,
     "metadata": {},
     "output_type": "execute_result"
    },
    {
     "data": {
      "text/plain": [
       "10"
      ]
     },
     "execution_count": 101,
     "metadata": {},
     "output_type": "execute_result"
    },
    {
     "data": {
      "text/plain": [
       "9"
      ]
     },
     "execution_count": 101,
     "metadata": {},
     "output_type": "execute_result"
    },
    {
     "data": {
      "text/plain": [
       "11"
      ]
     },
     "execution_count": 101,
     "metadata": {},
     "output_type": "execute_result"
    },
    {
     "data": {
      "text/plain": [
       "8"
      ]
     },
     "execution_count": 101,
     "metadata": {},
     "output_type": "execute_result"
    },
    {
     "data": {
      "text/plain": [
       "11"
      ]
     },
     "execution_count": 101,
     "metadata": {},
     "output_type": "execute_result"
    },
    {
     "data": {
      "text/plain": [
       "8"
      ]
     },
     "execution_count": 101,
     "metadata": {},
     "output_type": "execute_result"
    },
    {
     "data": {
      "text/plain": [
       "11"
      ]
     },
     "execution_count": 101,
     "metadata": {},
     "output_type": "execute_result"
    },
    {
     "data": {
      "text/plain": [
       "10"
      ]
     },
     "execution_count": 101,
     "metadata": {},
     "output_type": "execute_result"
    },
    {
     "data": {
      "text/plain": [
       "11"
      ]
     },
     "execution_count": 101,
     "metadata": {},
     "output_type": "execute_result"
    },
    {
     "data": {
      "text/plain": [
       "11"
      ]
     },
     "execution_count": 101,
     "metadata": {},
     "output_type": "execute_result"
    },
    {
     "data": {
      "text/plain": [
       "9"
      ]
     },
     "execution_count": 101,
     "metadata": {},
     "output_type": "execute_result"
    },
    {
     "data": {
      "text/plain": [
       "10"
      ]
     },
     "execution_count": 101,
     "metadata": {},
     "output_type": "execute_result"
    },
    {
     "data": {
      "text/plain": [
       "10"
      ]
     },
     "execution_count": 101,
     "metadata": {},
     "output_type": "execute_result"
    },
    {
     "data": {
      "text/plain": [
       "11"
      ]
     },
     "execution_count": 101,
     "metadata": {},
     "output_type": "execute_result"
    },
    {
     "data": {
      "text/plain": [
       "11"
      ]
     },
     "execution_count": 101,
     "metadata": {},
     "output_type": "execute_result"
    },
    {
     "data": {
      "text/plain": [
       "10"
      ]
     },
     "execution_count": 101,
     "metadata": {},
     "output_type": "execute_result"
    },
    {
     "data": {
      "text/plain": [
       "9"
      ]
     },
     "execution_count": 101,
     "metadata": {},
     "output_type": "execute_result"
    },
    {
     "data": {
      "text/plain": [
       "9"
      ]
     },
     "execution_count": 101,
     "metadata": {},
     "output_type": "execute_result"
    },
    {
     "data": {
      "text/plain": [
       "13"
      ]
     },
     "execution_count": 101,
     "metadata": {},
     "output_type": "execute_result"
    },
    {
     "data": {
      "text/plain": [
       "11"
      ]
     },
     "execution_count": 101,
     "metadata": {},
     "output_type": "execute_result"
    },
    {
     "data": {
      "text/plain": [
       "10"
      ]
     },
     "execution_count": 101,
     "metadata": {},
     "output_type": "execute_result"
    },
    {
     "data": {
      "text/plain": [
       "10"
      ]
     },
     "execution_count": 101,
     "metadata": {},
     "output_type": "execute_result"
    },
    {
     "data": {
      "text/plain": [
       "10"
      ]
     },
     "execution_count": 101,
     "metadata": {},
     "output_type": "execute_result"
    },
    {
     "data": {
      "text/plain": [
       "11"
      ]
     },
     "execution_count": 101,
     "metadata": {},
     "output_type": "execute_result"
    },
    {
     "data": {
      "text/plain": [
       "11"
      ]
     },
     "execution_count": 101,
     "metadata": {},
     "output_type": "execute_result"
    },
    {
     "data": {
      "text/plain": [
       "11"
      ]
     },
     "execution_count": 101,
     "metadata": {},
     "output_type": "execute_result"
    },
    {
     "data": {
      "text/plain": [
       "8"
      ]
     },
     "execution_count": 101,
     "metadata": {},
     "output_type": "execute_result"
    },
    {
     "data": {
      "text/plain": [
       "10"
      ]
     },
     "execution_count": 101,
     "metadata": {},
     "output_type": "execute_result"
    },
    {
     "data": {
      "text/plain": [
       "10"
      ]
     },
     "execution_count": 101,
     "metadata": {},
     "output_type": "execute_result"
    },
    {
     "data": {
      "text/plain": [
       "12"
      ]
     },
     "execution_count": 101,
     "metadata": {},
     "output_type": "execute_result"
    },
    {
     "data": {
      "text/plain": [
       "11"
      ]
     },
     "execution_count": 101,
     "metadata": {},
     "output_type": "execute_result"
    },
    {
     "data": {
      "text/plain": [
       "12"
      ]
     },
     "execution_count": 101,
     "metadata": {},
     "output_type": "execute_result"
    },
    {
     "data": {
      "text/plain": [
       "13"
      ]
     },
     "execution_count": 101,
     "metadata": {},
     "output_type": "execute_result"
    },
    {
     "data": {
      "text/plain": [
       "10"
      ]
     },
     "execution_count": 101,
     "metadata": {},
     "output_type": "execute_result"
    },
    {
     "data": {
      "text/plain": [
       "10"
      ]
     },
     "execution_count": 101,
     "metadata": {},
     "output_type": "execute_result"
    },
    {
     "data": {
      "text/plain": [
       "11"
      ]
     },
     "execution_count": 101,
     "metadata": {},
     "output_type": "execute_result"
    },
    {
     "data": {
      "text/plain": [
       "11"
      ]
     },
     "execution_count": 101,
     "metadata": {},
     "output_type": "execute_result"
    },
    {
     "data": {
      "text/plain": [
       "9"
      ]
     },
     "execution_count": 101,
     "metadata": {},
     "output_type": "execute_result"
    },
    {
     "data": {
      "text/plain": [
       "9"
      ]
     },
     "execution_count": 101,
     "metadata": {},
     "output_type": "execute_result"
    },
    {
     "data": {
      "text/plain": [
       "11"
      ]
     },
     "execution_count": 101,
     "metadata": {},
     "output_type": "execute_result"
    },
    {
     "data": {
      "text/plain": [
       "9"
      ]
     },
     "execution_count": 101,
     "metadata": {},
     "output_type": "execute_result"
    },
    {
     "data": {
      "text/plain": [
       "11"
      ]
     },
     "execution_count": 101,
     "metadata": {},
     "output_type": "execute_result"
    },
    {
     "data": {
      "text/plain": [
       "9"
      ]
     },
     "execution_count": 101,
     "metadata": {},
     "output_type": "execute_result"
    },
    {
     "data": {
      "text/plain": [
       "9"
      ]
     },
     "execution_count": 101,
     "metadata": {},
     "output_type": "execute_result"
    },
    {
     "data": {
      "text/plain": [
       "9"
      ]
     },
     "execution_count": 101,
     "metadata": {},
     "output_type": "execute_result"
    },
    {
     "data": {
      "text/plain": [
       "8"
      ]
     },
     "execution_count": 101,
     "metadata": {},
     "output_type": "execute_result"
    },
    {
     "data": {
      "text/plain": [
       "10"
      ]
     },
     "execution_count": 101,
     "metadata": {},
     "output_type": "execute_result"
    },
    {
     "data": {
      "text/plain": [
       "9"
      ]
     },
     "execution_count": 101,
     "metadata": {},
     "output_type": "execute_result"
    },
    {
     "data": {
      "text/plain": [
       "9"
      ]
     },
     "execution_count": 101,
     "metadata": {},
     "output_type": "execute_result"
    },
    {
     "data": {
      "text/plain": [
       "9"
      ]
     },
     "execution_count": 101,
     "metadata": {},
     "output_type": "execute_result"
    },
    {
     "data": {
      "text/plain": [
       "10"
      ]
     },
     "execution_count": 101,
     "metadata": {},
     "output_type": "execute_result"
    },
    {
     "data": {
      "text/plain": [
       "8"
      ]
     },
     "execution_count": 101,
     "metadata": {},
     "output_type": "execute_result"
    },
    {
     "data": {
      "text/plain": [
       "9"
      ]
     },
     "execution_count": 101,
     "metadata": {},
     "output_type": "execute_result"
    },
    {
     "data": {
      "text/plain": [
       "9"
      ]
     },
     "execution_count": 101,
     "metadata": {},
     "output_type": "execute_result"
    },
    {
     "data": {
      "text/plain": [
       "9"
      ]
     },
     "execution_count": 101,
     "metadata": {},
     "output_type": "execute_result"
    },
    {
     "data": {
      "text/plain": [
       "10"
      ]
     },
     "execution_count": 101,
     "metadata": {},
     "output_type": "execute_result"
    },
    {
     "data": {
      "text/plain": [
       "8"
      ]
     },
     "execution_count": 101,
     "metadata": {},
     "output_type": "execute_result"
    },
    {
     "data": {
      "text/plain": [
       "8"
      ]
     },
     "execution_count": 101,
     "metadata": {},
     "output_type": "execute_result"
    },
    {
     "data": {
      "text/plain": [
       "10"
      ]
     },
     "execution_count": 101,
     "metadata": {},
     "output_type": "execute_result"
    },
    {
     "data": {
      "text/plain": [
       "9"
      ]
     },
     "execution_count": 101,
     "metadata": {},
     "output_type": "execute_result"
    },
    {
     "data": {
      "text/plain": [
       "8"
      ]
     },
     "execution_count": 101,
     "metadata": {},
     "output_type": "execute_result"
    },
    {
     "data": {
      "text/plain": [
       "8"
      ]
     },
     "execution_count": 101,
     "metadata": {},
     "output_type": "execute_result"
    },
    {
     "data": {
      "text/plain": [
       "11"
      ]
     },
     "execution_count": 101,
     "metadata": {},
     "output_type": "execute_result"
    },
    {
     "data": {
      "text/plain": [
       "12"
      ]
     },
     "execution_count": 101,
     "metadata": {},
     "output_type": "execute_result"
    },
    {
     "data": {
      "text/plain": [
       "11"
      ]
     },
     "execution_count": 101,
     "metadata": {},
     "output_type": "execute_result"
    },
    {
     "data": {
      "text/plain": [
       "10"
      ]
     },
     "execution_count": 101,
     "metadata": {},
     "output_type": "execute_result"
    },
    {
     "data": {
      "text/plain": [
       "8"
      ]
     },
     "execution_count": 101,
     "metadata": {},
     "output_type": "execute_result"
    },
    {
     "data": {
      "text/plain": [
       "9"
      ]
     },
     "execution_count": 101,
     "metadata": {},
     "output_type": "execute_result"
    },
    {
     "data": {
      "text/plain": [
       "9"
      ]
     },
     "execution_count": 101,
     "metadata": {},
     "output_type": "execute_result"
    },
    {
     "data": {
      "text/plain": [
       "9"
      ]
     },
     "execution_count": 101,
     "metadata": {},
     "output_type": "execute_result"
    },
    {
     "data": {
      "text/plain": [
       "10"
      ]
     },
     "execution_count": 101,
     "metadata": {},
     "output_type": "execute_result"
    },
    {
     "data": {
      "text/plain": [
       "9"
      ]
     },
     "execution_count": 101,
     "metadata": {},
     "output_type": "execute_result"
    },
    {
     "data": {
      "text/plain": [
       "9"
      ]
     },
     "execution_count": 101,
     "metadata": {},
     "output_type": "execute_result"
    },
    {
     "data": {
      "text/plain": [
       "10"
      ]
     },
     "execution_count": 101,
     "metadata": {},
     "output_type": "execute_result"
    },
    {
     "data": {
      "text/plain": [
       "11"
      ]
     },
     "execution_count": 101,
     "metadata": {},
     "output_type": "execute_result"
    },
    {
     "data": {
      "text/plain": [
       "9"
      ]
     },
     "execution_count": 101,
     "metadata": {},
     "output_type": "execute_result"
    },
    {
     "data": {
      "text/plain": [
       "10"
      ]
     },
     "execution_count": 101,
     "metadata": {},
     "output_type": "execute_result"
    },
    {
     "data": {
      "text/plain": [
       "11"
      ]
     },
     "execution_count": 101,
     "metadata": {},
     "output_type": "execute_result"
    },
    {
     "data": {
      "text/plain": [
       "8"
      ]
     },
     "execution_count": 101,
     "metadata": {},
     "output_type": "execute_result"
    },
    {
     "data": {
      "text/plain": [
       "9"
      ]
     },
     "execution_count": 101,
     "metadata": {},
     "output_type": "execute_result"
    },
    {
     "data": {
      "text/plain": [
       "11"
      ]
     },
     "execution_count": 101,
     "metadata": {},
     "output_type": "execute_result"
    },
    {
     "data": {
      "text/plain": [
       "10"
      ]
     },
     "execution_count": 101,
     "metadata": {},
     "output_type": "execute_result"
    },
    {
     "data": {
      "text/plain": [
       "9"
      ]
     },
     "execution_count": 101,
     "metadata": {},
     "output_type": "execute_result"
    },
    {
     "data": {
      "text/plain": [
       "8"
      ]
     },
     "execution_count": 101,
     "metadata": {},
     "output_type": "execute_result"
    },
    {
     "data": {
      "text/plain": [
       "10"
      ]
     },
     "execution_count": 101,
     "metadata": {},
     "output_type": "execute_result"
    },
    {
     "data": {
      "text/plain": [
       "9"
      ]
     },
     "execution_count": 101,
     "metadata": {},
     "output_type": "execute_result"
    },
    {
     "data": {
      "text/plain": [
       "8"
      ]
     },
     "execution_count": 101,
     "metadata": {},
     "output_type": "execute_result"
    },
    {
     "data": {
      "text/plain": [
       "8"
      ]
     },
     "execution_count": 101,
     "metadata": {},
     "output_type": "execute_result"
    },
    {
     "data": {
      "text/plain": [
       "8"
      ]
     },
     "execution_count": 101,
     "metadata": {},
     "output_type": "execute_result"
    },
    {
     "data": {
      "text/plain": [
       "8"
      ]
     },
     "execution_count": 101,
     "metadata": {},
     "output_type": "execute_result"
    },
    {
     "data": {
      "text/plain": [
       "10"
      ]
     },
     "execution_count": 101,
     "metadata": {},
     "output_type": "execute_result"
    },
    {
     "data": {
      "text/plain": [
       "9"
      ]
     },
     "execution_count": 101,
     "metadata": {},
     "output_type": "execute_result"
    },
    {
     "data": {
      "text/plain": [
       "10"
      ]
     },
     "execution_count": 101,
     "metadata": {},
     "output_type": "execute_result"
    },
    {
     "data": {
      "text/plain": [
       "8"
      ]
     },
     "execution_count": 101,
     "metadata": {},
     "output_type": "execute_result"
    },
    {
     "data": {
      "text/plain": [
       "10"
      ]
     },
     "execution_count": 101,
     "metadata": {},
     "output_type": "execute_result"
    },
    {
     "data": {
      "text/plain": [
       "9"
      ]
     },
     "execution_count": 101,
     "metadata": {},
     "output_type": "execute_result"
    },
    {
     "data": {
      "text/plain": [
       "12"
      ]
     },
     "execution_count": 101,
     "metadata": {},
     "output_type": "execute_result"
    },
    {
     "data": {
      "text/plain": [
       "12"
      ]
     },
     "execution_count": 101,
     "metadata": {},
     "output_type": "execute_result"
    },
    {
     "data": {
      "text/plain": [
       "14"
      ]
     },
     "execution_count": 101,
     "metadata": {},
     "output_type": "execute_result"
    },
    {
     "data": {
      "text/plain": [
       "10"
      ]
     },
     "execution_count": 101,
     "metadata": {},
     "output_type": "execute_result"
    },
    {
     "data": {
      "text/plain": [
       "10"
      ]
     },
     "execution_count": 101,
     "metadata": {},
     "output_type": "execute_result"
    },
    {
     "data": {
      "text/plain": [
       "9"
      ]
     },
     "execution_count": 101,
     "metadata": {},
     "output_type": "execute_result"
    },
    {
     "data": {
      "text/plain": [
       "9"
      ]
     },
     "execution_count": 101,
     "metadata": {},
     "output_type": "execute_result"
    },
    {
     "data": {
      "text/plain": [
       "13"
      ]
     },
     "execution_count": 101,
     "metadata": {},
     "output_type": "execute_result"
    },
    {
     "data": {
      "text/plain": [
       "10"
      ]
     },
     "execution_count": 101,
     "metadata": {},
     "output_type": "execute_result"
    },
    {
     "data": {
      "text/plain": [
       "9"
      ]
     },
     "execution_count": 101,
     "metadata": {},
     "output_type": "execute_result"
    },
    {
     "data": {
      "text/plain": [
       "12"
      ]
     },
     "execution_count": 101,
     "metadata": {},
     "output_type": "execute_result"
    },
    {
     "data": {
      "text/plain": [
       "10"
      ]
     },
     "execution_count": 101,
     "metadata": {},
     "output_type": "execute_result"
    },
    {
     "data": {
      "text/plain": [
       "10"
      ]
     },
     "execution_count": 101,
     "metadata": {},
     "output_type": "execute_result"
    },
    {
     "data": {
      "text/plain": [
       "11"
      ]
     },
     "execution_count": 101,
     "metadata": {},
     "output_type": "execute_result"
    },
    {
     "data": {
      "text/plain": [
       "9"
      ]
     },
     "execution_count": 101,
     "metadata": {},
     "output_type": "execute_result"
    },
    {
     "data": {
      "text/plain": [
       "10"
      ]
     },
     "execution_count": 101,
     "metadata": {},
     "output_type": "execute_result"
    },
    {
     "data": {
      "text/plain": [
       "10"
      ]
     },
     "execution_count": 101,
     "metadata": {},
     "output_type": "execute_result"
    },
    {
     "data": {
      "text/plain": [
       "10"
      ]
     },
     "execution_count": 101,
     "metadata": {},
     "output_type": "execute_result"
    },
    {
     "data": {
      "text/plain": [
       "8"
      ]
     },
     "execution_count": 101,
     "metadata": {},
     "output_type": "execute_result"
    },
    {
     "data": {
      "text/plain": [
       "9"
      ]
     },
     "execution_count": 101,
     "metadata": {},
     "output_type": "execute_result"
    },
    {
     "data": {
      "text/plain": [
       "9"
      ]
     },
     "execution_count": 101,
     "metadata": {},
     "output_type": "execute_result"
    },
    {
     "data": {
      "text/plain": [
       "9"
      ]
     },
     "execution_count": 101,
     "metadata": {},
     "output_type": "execute_result"
    },
    {
     "data": {
      "text/plain": [
       "9"
      ]
     },
     "execution_count": 101,
     "metadata": {},
     "output_type": "execute_result"
    },
    {
     "data": {
      "text/plain": [
       "7"
      ]
     },
     "execution_count": 101,
     "metadata": {},
     "output_type": "execute_result"
    },
    {
     "data": {
      "text/plain": [
       "11"
      ]
     },
     "execution_count": 101,
     "metadata": {},
     "output_type": "execute_result"
    },
    {
     "data": {
      "text/plain": [
       "11"
      ]
     },
     "execution_count": 101,
     "metadata": {},
     "output_type": "execute_result"
    },
    {
     "data": {
      "text/plain": [
       "8"
      ]
     },
     "execution_count": 101,
     "metadata": {},
     "output_type": "execute_result"
    },
    {
     "data": {
      "text/plain": [
       "11"
      ]
     },
     "execution_count": 101,
     "metadata": {},
     "output_type": "execute_result"
    },
    {
     "data": {
      "text/plain": [
       "9"
      ]
     },
     "execution_count": 101,
     "metadata": {},
     "output_type": "execute_result"
    },
    {
     "data": {
      "text/plain": [
       "9"
      ]
     },
     "execution_count": 101,
     "metadata": {},
     "output_type": "execute_result"
    },
    {
     "data": {
      "text/plain": [
       "8"
      ]
     },
     "execution_count": 101,
     "metadata": {},
     "output_type": "execute_result"
    },
    {
     "data": {
      "text/plain": [
       "8"
      ]
     },
     "execution_count": 101,
     "metadata": {},
     "output_type": "execute_result"
    },
    {
     "data": {
      "text/plain": [
       "10"
      ]
     },
     "execution_count": 101,
     "metadata": {},
     "output_type": "execute_result"
    },
    {
     "data": {
      "text/plain": [
       "11"
      ]
     },
     "execution_count": 101,
     "metadata": {},
     "output_type": "execute_result"
    },
    {
     "data": {
      "text/plain": [
       "9"
      ]
     },
     "execution_count": 101,
     "metadata": {},
     "output_type": "execute_result"
    },
    {
     "data": {
      "text/plain": [
       "10"
      ]
     },
     "execution_count": 101,
     "metadata": {},
     "output_type": "execute_result"
    },
    {
     "data": {
      "text/plain": [
       "8"
      ]
     },
     "execution_count": 101,
     "metadata": {},
     "output_type": "execute_result"
    },
    {
     "data": {
      "text/plain": [
       "9"
      ]
     },
     "execution_count": 101,
     "metadata": {},
     "output_type": "execute_result"
    },
    {
     "data": {
      "text/plain": [
       "8"
      ]
     },
     "execution_count": 101,
     "metadata": {},
     "output_type": "execute_result"
    },
    {
     "data": {
      "text/plain": [
       "9"
      ]
     },
     "execution_count": 101,
     "metadata": {},
     "output_type": "execute_result"
    },
    {
     "data": {
      "text/plain": [
       "10"
      ]
     },
     "execution_count": 101,
     "metadata": {},
     "output_type": "execute_result"
    },
    {
     "data": {
      "text/plain": [
       "9"
      ]
     },
     "execution_count": 101,
     "metadata": {},
     "output_type": "execute_result"
    },
    {
     "data": {
      "text/plain": [
       "8"
      ]
     },
     "execution_count": 101,
     "metadata": {},
     "output_type": "execute_result"
    },
    {
     "data": {
      "text/plain": [
       "9"
      ]
     },
     "execution_count": 101,
     "metadata": {},
     "output_type": "execute_result"
    },
    {
     "data": {
      "text/plain": [
       "9"
      ]
     },
     "execution_count": 101,
     "metadata": {},
     "output_type": "execute_result"
    },
    {
     "data": {
      "text/plain": [
       "9"
      ]
     },
     "execution_count": 101,
     "metadata": {},
     "output_type": "execute_result"
    },
    {
     "data": {
      "text/plain": [
       "8"
      ]
     },
     "execution_count": 101,
     "metadata": {},
     "output_type": "execute_result"
    },
    {
     "data": {
      "text/plain": [
       "8"
      ]
     },
     "execution_count": 101,
     "metadata": {},
     "output_type": "execute_result"
    },
    {
     "data": {
      "text/plain": [
       "7"
      ]
     },
     "execution_count": 101,
     "metadata": {},
     "output_type": "execute_result"
    },
    {
     "data": {
      "text/plain": [
       "8"
      ]
     },
     "execution_count": 101,
     "metadata": {},
     "output_type": "execute_result"
    },
    {
     "data": {
      "text/plain": [
       "7"
      ]
     },
     "execution_count": 101,
     "metadata": {},
     "output_type": "execute_result"
    },
    {
     "data": {
      "text/plain": [
       "9"
      ]
     },
     "execution_count": 101,
     "metadata": {},
     "output_type": "execute_result"
    },
    {
     "data": {
      "text/plain": [
       "10"
      ]
     },
     "execution_count": 101,
     "metadata": {},
     "output_type": "execute_result"
    },
    {
     "data": {
      "text/plain": [
       "8"
      ]
     },
     "execution_count": 101,
     "metadata": {},
     "output_type": "execute_result"
    },
    {
     "data": {
      "text/plain": [
       "9"
      ]
     },
     "execution_count": 101,
     "metadata": {},
     "output_type": "execute_result"
    },
    {
     "data": {
      "text/plain": [
       "9"
      ]
     },
     "execution_count": 101,
     "metadata": {},
     "output_type": "execute_result"
    },
    {
     "data": {
      "text/plain": [
       "13"
      ]
     },
     "execution_count": 101,
     "metadata": {},
     "output_type": "execute_result"
    },
    {
     "data": {
      "text/plain": [
       "12"
      ]
     },
     "execution_count": 101,
     "metadata": {},
     "output_type": "execute_result"
    },
    {
     "data": {
      "text/plain": [
       "10"
      ]
     },
     "execution_count": 101,
     "metadata": {},
     "output_type": "execute_result"
    },
    {
     "data": {
      "text/plain": [
       "10"
      ]
     },
     "execution_count": 101,
     "metadata": {},
     "output_type": "execute_result"
    },
    {
     "data": {
      "text/plain": [
       "12"
      ]
     },
     "execution_count": 101,
     "metadata": {},
     "output_type": "execute_result"
    },
    {
     "data": {
      "text/plain": [
       "12"
      ]
     },
     "execution_count": 101,
     "metadata": {},
     "output_type": "execute_result"
    },
    {
     "data": {
      "text/plain": [
       "13"
      ]
     },
     "execution_count": 101,
     "metadata": {},
     "output_type": "execute_result"
    },
    {
     "data": {
      "text/plain": [
       "11"
      ]
     },
     "execution_count": 101,
     "metadata": {},
     "output_type": "execute_result"
    },
    {
     "data": {
      "text/plain": [
       "10"
      ]
     },
     "execution_count": 101,
     "metadata": {},
     "output_type": "execute_result"
    },
    {
     "data": {
      "text/plain": [
       "14"
      ]
     },
     "execution_count": 101,
     "metadata": {},
     "output_type": "execute_result"
    },
    {
     "data": {
      "text/plain": [
       "12"
      ]
     },
     "execution_count": 101,
     "metadata": {},
     "output_type": "execute_result"
    },
    {
     "data": {
      "text/plain": [
       "10"
      ]
     },
     "execution_count": 101,
     "metadata": {},
     "output_type": "execute_result"
    },
    {
     "data": {
      "text/plain": [
       "12"
      ]
     },
     "execution_count": 101,
     "metadata": {},
     "output_type": "execute_result"
    },
    {
     "data": {
      "text/plain": [
       "11"
      ]
     },
     "execution_count": 101,
     "metadata": {},
     "output_type": "execute_result"
    },
    {
     "data": {
      "text/plain": [
       "11"
      ]
     },
     "execution_count": 101,
     "metadata": {},
     "output_type": "execute_result"
    },
    {
     "data": {
      "text/plain": [
       "9"
      ]
     },
     "execution_count": 101,
     "metadata": {},
     "output_type": "execute_result"
    },
    {
     "data": {
      "text/plain": [
       "10"
      ]
     },
     "execution_count": 101,
     "metadata": {},
     "output_type": "execute_result"
    },
    {
     "data": {
      "text/plain": [
       "12"
      ]
     },
     "execution_count": 101,
     "metadata": {},
     "output_type": "execute_result"
    },
    {
     "data": {
      "text/plain": [
       "10"
      ]
     },
     "execution_count": 101,
     "metadata": {},
     "output_type": "execute_result"
    },
    {
     "data": {
      "text/plain": [
       "10"
      ]
     },
     "execution_count": 101,
     "metadata": {},
     "output_type": "execute_result"
    },
    {
     "data": {
      "text/plain": [
       "10"
      ]
     },
     "execution_count": 101,
     "metadata": {},
     "output_type": "execute_result"
    },
    {
     "data": {
      "text/plain": [
       "13"
      ]
     },
     "execution_count": 101,
     "metadata": {},
     "output_type": "execute_result"
    },
    {
     "data": {
      "text/plain": [
       "11"
      ]
     },
     "execution_count": 101,
     "metadata": {},
     "output_type": "execute_result"
    },
    {
     "data": {
      "text/plain": [
       "12"
      ]
     },
     "execution_count": 101,
     "metadata": {},
     "output_type": "execute_result"
    },
    {
     "data": {
      "text/plain": [
       "11"
      ]
     },
     "execution_count": 101,
     "metadata": {},
     "output_type": "execute_result"
    },
    {
     "data": {
      "text/plain": [
       "11"
      ]
     },
     "execution_count": 101,
     "metadata": {},
     "output_type": "execute_result"
    },
    {
     "data": {
      "text/plain": [
       "10"
      ]
     },
     "execution_count": 101,
     "metadata": {},
     "output_type": "execute_result"
    },
    {
     "data": {
      "text/plain": [
       "10"
      ]
     },
     "execution_count": 101,
     "metadata": {},
     "output_type": "execute_result"
    },
    {
     "data": {
      "text/plain": [
       "10"
      ]
     },
     "execution_count": 101,
     "metadata": {},
     "output_type": "execute_result"
    },
    {
     "data": {
      "text/plain": [
       "10"
      ]
     },
     "execution_count": 101,
     "metadata": {},
     "output_type": "execute_result"
    },
    {
     "data": {
      "text/plain": [
       "13"
      ]
     },
     "execution_count": 101,
     "metadata": {},
     "output_type": "execute_result"
    },
    {
     "data": {
      "text/plain": [
       "11"
      ]
     },
     "execution_count": 101,
     "metadata": {},
     "output_type": "execute_result"
    },
    {
     "data": {
      "text/plain": [
       "10"
      ]
     },
     "execution_count": 101,
     "metadata": {},
     "output_type": "execute_result"
    },
    {
     "data": {
      "text/plain": [
       "9"
      ]
     },
     "execution_count": 101,
     "metadata": {},
     "output_type": "execute_result"
    },
    {
     "data": {
      "text/plain": [
       "12"
      ]
     },
     "execution_count": 101,
     "metadata": {},
     "output_type": "execute_result"
    },
    {
     "data": {
      "text/plain": [
       "12"
      ]
     },
     "execution_count": 101,
     "metadata": {},
     "output_type": "execute_result"
    },
    {
     "data": {
      "text/plain": [
       "12"
      ]
     },
     "execution_count": 101,
     "metadata": {},
     "output_type": "execute_result"
    },
    {
     "data": {
      "text/plain": [
       "11"
      ]
     },
     "execution_count": 101,
     "metadata": {},
     "output_type": "execute_result"
    },
    {
     "data": {
      "text/plain": [
       "9"
      ]
     },
     "execution_count": 101,
     "metadata": {},
     "output_type": "execute_result"
    },
    {
     "data": {
      "text/plain": [
       "9"
      ]
     },
     "execution_count": 101,
     "metadata": {},
     "output_type": "execute_result"
    },
    {
     "data": {
      "text/plain": [
       "10"
      ]
     },
     "execution_count": 101,
     "metadata": {},
     "output_type": "execute_result"
    },
    {
     "data": {
      "text/plain": [
       "12"
      ]
     },
     "execution_count": 101,
     "metadata": {},
     "output_type": "execute_result"
    },
    {
     "data": {
      "text/plain": [
       "12"
      ]
     },
     "execution_count": 101,
     "metadata": {},
     "output_type": "execute_result"
    },
    {
     "data": {
      "text/plain": [
       "9"
      ]
     },
     "execution_count": 101,
     "metadata": {},
     "output_type": "execute_result"
    },
    {
     "data": {
      "text/plain": [
       "9"
      ]
     },
     "execution_count": 101,
     "metadata": {},
     "output_type": "execute_result"
    },
    {
     "data": {
      "text/plain": [
       "11"
      ]
     },
     "execution_count": 101,
     "metadata": {},
     "output_type": "execute_result"
    },
    {
     "data": {
      "text/plain": [
       "11"
      ]
     },
     "execution_count": 101,
     "metadata": {},
     "output_type": "execute_result"
    },
    {
     "data": {
      "text/plain": [
       "10"
      ]
     },
     "execution_count": 101,
     "metadata": {},
     "output_type": "execute_result"
    },
    {
     "data": {
      "text/plain": [
       "9"
      ]
     },
     "execution_count": 101,
     "metadata": {},
     "output_type": "execute_result"
    },
    {
     "data": {
      "text/plain": [
       "12"
      ]
     },
     "execution_count": 101,
     "metadata": {},
     "output_type": "execute_result"
    },
    {
     "data": {
      "text/plain": [
       "12"
      ]
     },
     "execution_count": 101,
     "metadata": {},
     "output_type": "execute_result"
    },
    {
     "data": {
      "text/plain": [
       "11"
      ]
     },
     "execution_count": 101,
     "metadata": {},
     "output_type": "execute_result"
    },
    {
     "data": {
      "text/plain": [
       "11"
      ]
     },
     "execution_count": 101,
     "metadata": {},
     "output_type": "execute_result"
    },
    {
     "data": {
      "text/plain": [
       "10"
      ]
     },
     "execution_count": 101,
     "metadata": {},
     "output_type": "execute_result"
    },
    {
     "data": {
      "text/plain": [
       "11"
      ]
     },
     "execution_count": 101,
     "metadata": {},
     "output_type": "execute_result"
    },
    {
     "data": {
      "text/plain": [
       "12"
      ]
     },
     "execution_count": 101,
     "metadata": {},
     "output_type": "execute_result"
    },
    {
     "data": {
      "text/plain": [
       "12"
      ]
     },
     "execution_count": 101,
     "metadata": {},
     "output_type": "execute_result"
    },
    {
     "data": {
      "text/plain": [
       "12"
      ]
     },
     "execution_count": 101,
     "metadata": {},
     "output_type": "execute_result"
    },
    {
     "data": {
      "text/plain": [
       "13"
      ]
     },
     "execution_count": 101,
     "metadata": {},
     "output_type": "execute_result"
    },
    {
     "data": {
      "text/plain": [
       "10"
      ]
     },
     "execution_count": 101,
     "metadata": {},
     "output_type": "execute_result"
    },
    {
     "data": {
      "text/plain": [
       "10"
      ]
     },
     "execution_count": 101,
     "metadata": {},
     "output_type": "execute_result"
    },
    {
     "data": {
      "text/plain": [
       "10"
      ]
     },
     "execution_count": 101,
     "metadata": {},
     "output_type": "execute_result"
    },
    {
     "data": {
      "text/plain": [
       "10"
      ]
     },
     "execution_count": 101,
     "metadata": {},
     "output_type": "execute_result"
    },
    {
     "data": {
      "text/plain": [
       "10"
      ]
     },
     "execution_count": 101,
     "metadata": {},
     "output_type": "execute_result"
    },
    {
     "data": {
      "text/plain": [
       "10"
      ]
     },
     "execution_count": 101,
     "metadata": {},
     "output_type": "execute_result"
    },
    {
     "data": {
      "text/plain": [
       "11"
      ]
     },
     "execution_count": 101,
     "metadata": {},
     "output_type": "execute_result"
    },
    {
     "data": {
      "text/plain": [
       "9"
      ]
     },
     "execution_count": 101,
     "metadata": {},
     "output_type": "execute_result"
    },
    {
     "data": {
      "text/plain": [
       "11"
      ]
     },
     "execution_count": 101,
     "metadata": {},
     "output_type": "execute_result"
    },
    {
     "data": {
      "text/plain": [
       "11"
      ]
     },
     "execution_count": 101,
     "metadata": {},
     "output_type": "execute_result"
    },
    {
     "data": {
      "text/plain": [
       "12"
      ]
     },
     "execution_count": 101,
     "metadata": {},
     "output_type": "execute_result"
    },
    {
     "data": {
      "text/plain": [
       "10"
      ]
     },
     "execution_count": 101,
     "metadata": {},
     "output_type": "execute_result"
    },
    {
     "data": {
      "text/plain": [
       "13"
      ]
     },
     "execution_count": 101,
     "metadata": {},
     "output_type": "execute_result"
    },
    {
     "data": {
      "text/plain": [
       "12"
      ]
     },
     "execution_count": 101,
     "metadata": {},
     "output_type": "execute_result"
    },
    {
     "data": {
      "text/plain": [
       "10"
      ]
     },
     "execution_count": 101,
     "metadata": {},
     "output_type": "execute_result"
    },
    {
     "data": {
      "text/plain": [
       "12"
      ]
     },
     "execution_count": 101,
     "metadata": {},
     "output_type": "execute_result"
    },
    {
     "data": {
      "text/plain": [
       "9"
      ]
     },
     "execution_count": 101,
     "metadata": {},
     "output_type": "execute_result"
    },
    {
     "data": {
      "text/plain": [
       "10"
      ]
     },
     "execution_count": 101,
     "metadata": {},
     "output_type": "execute_result"
    },
    {
     "data": {
      "text/plain": [
       "11"
      ]
     },
     "execution_count": 101,
     "metadata": {},
     "output_type": "execute_result"
    },
    {
     "data": {
      "text/plain": [
       "10"
      ]
     },
     "execution_count": 101,
     "metadata": {},
     "output_type": "execute_result"
    },
    {
     "data": {
      "text/plain": [
       "9"
      ]
     },
     "execution_count": 101,
     "metadata": {},
     "output_type": "execute_result"
    },
    {
     "data": {
      "text/plain": [
       "9"
      ]
     },
     "execution_count": 101,
     "metadata": {},
     "output_type": "execute_result"
    },
    {
     "data": {
      "text/plain": [
       "10"
      ]
     },
     "execution_count": 101,
     "metadata": {},
     "output_type": "execute_result"
    },
    {
     "data": {
      "text/plain": [
       "10"
      ]
     },
     "execution_count": 101,
     "metadata": {},
     "output_type": "execute_result"
    },
    {
     "data": {
      "text/plain": [
       "9"
      ]
     },
     "execution_count": 101,
     "metadata": {},
     "output_type": "execute_result"
    },
    {
     "data": {
      "text/plain": [
       "11"
      ]
     },
     "execution_count": 101,
     "metadata": {},
     "output_type": "execute_result"
    },
    {
     "data": {
      "text/plain": [
       "11"
      ]
     },
     "execution_count": 101,
     "metadata": {},
     "output_type": "execute_result"
    },
    {
     "data": {
      "text/plain": [
       "10"
      ]
     },
     "execution_count": 101,
     "metadata": {},
     "output_type": "execute_result"
    },
    {
     "data": {
      "text/plain": [
       "9"
      ]
     },
     "execution_count": 101,
     "metadata": {},
     "output_type": "execute_result"
    },
    {
     "data": {
      "text/plain": [
       "11"
      ]
     },
     "execution_count": 101,
     "metadata": {},
     "output_type": "execute_result"
    },
    {
     "data": {
      "text/plain": [
       "11"
      ]
     },
     "execution_count": 101,
     "metadata": {},
     "output_type": "execute_result"
    },
    {
     "data": {
      "text/plain": [
       "11"
      ]
     },
     "execution_count": 101,
     "metadata": {},
     "output_type": "execute_result"
    },
    {
     "data": {
      "text/plain": [
       "11"
      ]
     },
     "execution_count": 101,
     "metadata": {},
     "output_type": "execute_result"
    },
    {
     "data": {
      "text/plain": [
       "11"
      ]
     },
     "execution_count": 101,
     "metadata": {},
     "output_type": "execute_result"
    },
    {
     "data": {
      "text/plain": [
       "12"
      ]
     },
     "execution_count": 101,
     "metadata": {},
     "output_type": "execute_result"
    },
    {
     "data": {
      "text/plain": [
       "13"
      ]
     },
     "execution_count": 101,
     "metadata": {},
     "output_type": "execute_result"
    },
    {
     "data": {
      "text/plain": [
       "10"
      ]
     },
     "execution_count": 101,
     "metadata": {},
     "output_type": "execute_result"
    },
    {
     "data": {
      "text/plain": [
       "12"
      ]
     },
     "execution_count": 101,
     "metadata": {},
     "output_type": "execute_result"
    },
    {
     "data": {
      "text/plain": [
       "12"
      ]
     },
     "execution_count": 101,
     "metadata": {},
     "output_type": "execute_result"
    },
    {
     "data": {
      "text/plain": [
       "10"
      ]
     },
     "execution_count": 101,
     "metadata": {},
     "output_type": "execute_result"
    },
    {
     "data": {
      "text/plain": [
       "10"
      ]
     },
     "execution_count": 101,
     "metadata": {},
     "output_type": "execute_result"
    },
    {
     "data": {
      "text/plain": [
       "10"
      ]
     },
     "execution_count": 101,
     "metadata": {},
     "output_type": "execute_result"
    },
    {
     "data": {
      "text/plain": [
       "10"
      ]
     },
     "execution_count": 101,
     "metadata": {},
     "output_type": "execute_result"
    },
    {
     "data": {
      "text/plain": [
       "11"
      ]
     },
     "execution_count": 101,
     "metadata": {},
     "output_type": "execute_result"
    },
    {
     "data": {
      "text/plain": [
       "10"
      ]
     },
     "execution_count": 101,
     "metadata": {},
     "output_type": "execute_result"
    },
    {
     "data": {
      "text/plain": [
       "10"
      ]
     },
     "execution_count": 101,
     "metadata": {},
     "output_type": "execute_result"
    },
    {
     "data": {
      "text/plain": [
       "10"
      ]
     },
     "execution_count": 101,
     "metadata": {},
     "output_type": "execute_result"
    },
    {
     "data": {
      "text/plain": [
       "13"
      ]
     },
     "execution_count": 101,
     "metadata": {},
     "output_type": "execute_result"
    },
    {
     "data": {
      "text/plain": [
       "12"
      ]
     },
     "execution_count": 101,
     "metadata": {},
     "output_type": "execute_result"
    },
    {
     "data": {
      "text/plain": [
       "10"
      ]
     },
     "execution_count": 101,
     "metadata": {},
     "output_type": "execute_result"
    },
    {
     "data": {
      "text/plain": [
       "10"
      ]
     },
     "execution_count": 101,
     "metadata": {},
     "output_type": "execute_result"
    },
    {
     "data": {
      "text/plain": [
       "11"
      ]
     },
     "execution_count": 101,
     "metadata": {},
     "output_type": "execute_result"
    },
    {
     "data": {
      "text/plain": [
       "11"
      ]
     },
     "execution_count": 101,
     "metadata": {},
     "output_type": "execute_result"
    },
    {
     "data": {
      "text/plain": [
       "9"
      ]
     },
     "execution_count": 101,
     "metadata": {},
     "output_type": "execute_result"
    },
    {
     "data": {
      "text/plain": [
       "11"
      ]
     },
     "execution_count": 101,
     "metadata": {},
     "output_type": "execute_result"
    },
    {
     "data": {
      "text/plain": [
       "10"
      ]
     },
     "execution_count": 101,
     "metadata": {},
     "output_type": "execute_result"
    },
    {
     "data": {
      "text/plain": [
       "12"
      ]
     },
     "execution_count": 101,
     "metadata": {},
     "output_type": "execute_result"
    },
    {
     "data": {
      "text/plain": [
       "11"
      ]
     },
     "execution_count": 101,
     "metadata": {},
     "output_type": "execute_result"
    },
    {
     "data": {
      "text/plain": [
       "12"
      ]
     },
     "execution_count": 101,
     "metadata": {},
     "output_type": "execute_result"
    },
    {
     "data": {
      "text/plain": [
       "11"
      ]
     },
     "execution_count": 101,
     "metadata": {},
     "output_type": "execute_result"
    },
    {
     "data": {
      "text/plain": [
       "12"
      ]
     },
     "execution_count": 101,
     "metadata": {},
     "output_type": "execute_result"
    },
    {
     "data": {
      "text/plain": [
       "11"
      ]
     },
     "execution_count": 101,
     "metadata": {},
     "output_type": "execute_result"
    },
    {
     "data": {
      "text/plain": [
       "11"
      ]
     },
     "execution_count": 101,
     "metadata": {},
     "output_type": "execute_result"
    },
    {
     "data": {
      "text/plain": [
       "12"
      ]
     },
     "execution_count": 101,
     "metadata": {},
     "output_type": "execute_result"
    },
    {
     "data": {
      "text/plain": [
       "11"
      ]
     },
     "execution_count": 101,
     "metadata": {},
     "output_type": "execute_result"
    },
    {
     "data": {
      "text/plain": [
       "11"
      ]
     },
     "execution_count": 101,
     "metadata": {},
     "output_type": "execute_result"
    },
    {
     "data": {
      "text/plain": [
       "12"
      ]
     },
     "execution_count": 101,
     "metadata": {},
     "output_type": "execute_result"
    },
    {
     "data": {
      "text/plain": [
       "9"
      ]
     },
     "execution_count": 101,
     "metadata": {},
     "output_type": "execute_result"
    },
    {
     "data": {
      "text/plain": [
       "11"
      ]
     },
     "execution_count": 101,
     "metadata": {},
     "output_type": "execute_result"
    },
    {
     "data": {
      "text/plain": [
       "9"
      ]
     },
     "execution_count": 101,
     "metadata": {},
     "output_type": "execute_result"
    },
    {
     "data": {
      "text/plain": [
       "10"
      ]
     },
     "execution_count": 101,
     "metadata": {},
     "output_type": "execute_result"
    },
    {
     "data": {
      "text/plain": [
       "11"
      ]
     },
     "execution_count": 101,
     "metadata": {},
     "output_type": "execute_result"
    },
    {
     "data": {
      "text/plain": [
       "12"
      ]
     },
     "execution_count": 101,
     "metadata": {},
     "output_type": "execute_result"
    },
    {
     "data": {
      "text/plain": [
       "9"
      ]
     },
     "execution_count": 101,
     "metadata": {},
     "output_type": "execute_result"
    },
    {
     "data": {
      "text/plain": [
       "9"
      ]
     },
     "execution_count": 101,
     "metadata": {},
     "output_type": "execute_result"
    },
    {
     "data": {
      "text/plain": [
       "10"
      ]
     },
     "execution_count": 101,
     "metadata": {},
     "output_type": "execute_result"
    },
    {
     "data": {
      "text/plain": [
       "11"
      ]
     },
     "execution_count": 101,
     "metadata": {},
     "output_type": "execute_result"
    },
    {
     "data": {
      "text/plain": [
       "10"
      ]
     },
     "execution_count": 101,
     "metadata": {},
     "output_type": "execute_result"
    },
    {
     "data": {
      "text/plain": [
       "11"
      ]
     },
     "execution_count": 101,
     "metadata": {},
     "output_type": "execute_result"
    },
    {
     "data": {
      "text/plain": [
       "8"
      ]
     },
     "execution_count": 101,
     "metadata": {},
     "output_type": "execute_result"
    },
    {
     "data": {
      "text/plain": [
       "14"
      ]
     },
     "execution_count": 101,
     "metadata": {},
     "output_type": "execute_result"
    },
    {
     "data": {
      "text/plain": [
       "10"
      ]
     },
     "execution_count": 101,
     "metadata": {},
     "output_type": "execute_result"
    },
    {
     "data": {
      "text/plain": [
       "10"
      ]
     },
     "execution_count": 101,
     "metadata": {},
     "output_type": "execute_result"
    },
    {
     "data": {
      "text/plain": [
       "10"
      ]
     },
     "execution_count": 101,
     "metadata": {},
     "output_type": "execute_result"
    },
    {
     "data": {
      "text/plain": [
       "9"
      ]
     },
     "execution_count": 101,
     "metadata": {},
     "output_type": "execute_result"
    },
    {
     "data": {
      "text/plain": [
       "10"
      ]
     },
     "execution_count": 101,
     "metadata": {},
     "output_type": "execute_result"
    },
    {
     "data": {
      "text/plain": [
       "8"
      ]
     },
     "execution_count": 101,
     "metadata": {},
     "output_type": "execute_result"
    },
    {
     "data": {
      "text/plain": [
       "8"
      ]
     },
     "execution_count": 101,
     "metadata": {},
     "output_type": "execute_result"
    },
    {
     "data": {
      "text/plain": [
       "10"
      ]
     },
     "execution_count": 101,
     "metadata": {},
     "output_type": "execute_result"
    },
    {
     "data": {
      "text/plain": [
       "10"
      ]
     },
     "execution_count": 101,
     "metadata": {},
     "output_type": "execute_result"
    },
    {
     "data": {
      "text/plain": [
       "11"
      ]
     },
     "execution_count": 101,
     "metadata": {},
     "output_type": "execute_result"
    },
    {
     "data": {
      "text/plain": [
       "9"
      ]
     },
     "execution_count": 101,
     "metadata": {},
     "output_type": "execute_result"
    },
    {
     "data": {
      "text/plain": [
       "11"
      ]
     },
     "execution_count": 101,
     "metadata": {},
     "output_type": "execute_result"
    },
    {
     "data": {
      "text/plain": [
       "10"
      ]
     },
     "execution_count": 101,
     "metadata": {},
     "output_type": "execute_result"
    },
    {
     "data": {
      "text/plain": [
       "10"
      ]
     },
     "execution_count": 101,
     "metadata": {},
     "output_type": "execute_result"
    },
    {
     "data": {
      "text/plain": [
       "9"
      ]
     },
     "execution_count": 101,
     "metadata": {},
     "output_type": "execute_result"
    },
    {
     "data": {
      "text/plain": [
       "9"
      ]
     },
     "execution_count": 101,
     "metadata": {},
     "output_type": "execute_result"
    },
    {
     "data": {
      "text/plain": [
       "8"
      ]
     },
     "execution_count": 101,
     "metadata": {},
     "output_type": "execute_result"
    },
    {
     "data": {
      "text/plain": [
       "11"
      ]
     },
     "execution_count": 101,
     "metadata": {},
     "output_type": "execute_result"
    },
    {
     "data": {
      "text/plain": [
       "10"
      ]
     },
     "execution_count": 101,
     "metadata": {},
     "output_type": "execute_result"
    },
    {
     "data": {
      "text/plain": [
       "9"
      ]
     },
     "execution_count": 101,
     "metadata": {},
     "output_type": "execute_result"
    },
    {
     "data": {
      "text/plain": [
       "9"
      ]
     },
     "execution_count": 101,
     "metadata": {},
     "output_type": "execute_result"
    },
    {
     "data": {
      "text/plain": [
       "10"
      ]
     },
     "execution_count": 101,
     "metadata": {},
     "output_type": "execute_result"
    },
    {
     "data": {
      "text/plain": [
       "11"
      ]
     },
     "execution_count": 101,
     "metadata": {},
     "output_type": "execute_result"
    },
    {
     "data": {
      "text/plain": [
       "10"
      ]
     },
     "execution_count": 101,
     "metadata": {},
     "output_type": "execute_result"
    },
    {
     "data": {
      "text/plain": [
       "10"
      ]
     },
     "execution_count": 101,
     "metadata": {},
     "output_type": "execute_result"
    },
    {
     "data": {
      "text/plain": [
       "10"
      ]
     },
     "execution_count": 101,
     "metadata": {},
     "output_type": "execute_result"
    },
    {
     "data": {
      "text/plain": [
       "9"
      ]
     },
     "execution_count": 101,
     "metadata": {},
     "output_type": "execute_result"
    },
    {
     "data": {
      "text/plain": [
       "10"
      ]
     },
     "execution_count": 101,
     "metadata": {},
     "output_type": "execute_result"
    },
    {
     "data": {
      "text/plain": [
       "12"
      ]
     },
     "execution_count": 101,
     "metadata": {},
     "output_type": "execute_result"
    },
    {
     "data": {
      "text/plain": [
       "10"
      ]
     },
     "execution_count": 101,
     "metadata": {},
     "output_type": "execute_result"
    },
    {
     "data": {
      "text/plain": [
       "9"
      ]
     },
     "execution_count": 101,
     "metadata": {},
     "output_type": "execute_result"
    },
    {
     "data": {
      "text/plain": [
       "10"
      ]
     },
     "execution_count": 101,
     "metadata": {},
     "output_type": "execute_result"
    },
    {
     "data": {
      "text/plain": [
       "9"
      ]
     },
     "execution_count": 101,
     "metadata": {},
     "output_type": "execute_result"
    },
    {
     "data": {
      "text/plain": [
       "9"
      ]
     },
     "execution_count": 101,
     "metadata": {},
     "output_type": "execute_result"
    },
    {
     "data": {
      "text/plain": [
       "9"
      ]
     },
     "execution_count": 101,
     "metadata": {},
     "output_type": "execute_result"
    },
    {
     "data": {
      "text/plain": [
       "11"
      ]
     },
     "execution_count": 101,
     "metadata": {},
     "output_type": "execute_result"
    },
    {
     "data": {
      "text/plain": [
       "13"
      ]
     },
     "execution_count": 101,
     "metadata": {},
     "output_type": "execute_result"
    },
    {
     "data": {
      "text/plain": [
       "8"
      ]
     },
     "execution_count": 101,
     "metadata": {},
     "output_type": "execute_result"
    },
    {
     "data": {
      "text/plain": [
       "8"
      ]
     },
     "execution_count": 101,
     "metadata": {},
     "output_type": "execute_result"
    },
    {
     "data": {
      "text/plain": [
       "9"
      ]
     },
     "execution_count": 101,
     "metadata": {},
     "output_type": "execute_result"
    },
    {
     "data": {
      "text/plain": [
       "8"
      ]
     },
     "execution_count": 101,
     "metadata": {},
     "output_type": "execute_result"
    },
    {
     "data": {
      "text/plain": [
       "10"
      ]
     },
     "execution_count": 101,
     "metadata": {},
     "output_type": "execute_result"
    },
    {
     "data": {
      "text/plain": [
       "10"
      ]
     },
     "execution_count": 101,
     "metadata": {},
     "output_type": "execute_result"
    },
    {
     "data": {
      "text/plain": [
       "10"
      ]
     },
     "execution_count": 101,
     "metadata": {},
     "output_type": "execute_result"
    },
    {
     "data": {
      "text/plain": [
       "9"
      ]
     },
     "execution_count": 101,
     "metadata": {},
     "output_type": "execute_result"
    },
    {
     "data": {
      "text/plain": [
       "10"
      ]
     },
     "execution_count": 101,
     "metadata": {},
     "output_type": "execute_result"
    },
    {
     "data": {
      "text/plain": [
       "11"
      ]
     },
     "execution_count": 101,
     "metadata": {},
     "output_type": "execute_result"
    },
    {
     "data": {
      "text/plain": [
       "7"
      ]
     },
     "execution_count": 101,
     "metadata": {},
     "output_type": "execute_result"
    },
    {
     "data": {
      "text/plain": [
       "10"
      ]
     },
     "execution_count": 101,
     "metadata": {},
     "output_type": "execute_result"
    },
    {
     "data": {
      "text/plain": [
       "8"
      ]
     },
     "execution_count": 101,
     "metadata": {},
     "output_type": "execute_result"
    },
    {
     "data": {
      "text/plain": [
       "9"
      ]
     },
     "execution_count": 101,
     "metadata": {},
     "output_type": "execute_result"
    },
    {
     "data": {
      "text/plain": [
       "8"
      ]
     },
     "execution_count": 101,
     "metadata": {},
     "output_type": "execute_result"
    },
    {
     "data": {
      "text/plain": [
       "9"
      ]
     },
     "execution_count": 101,
     "metadata": {},
     "output_type": "execute_result"
    },
    {
     "data": {
      "text/plain": [
       "7"
      ]
     },
     "execution_count": 101,
     "metadata": {},
     "output_type": "execute_result"
    },
    {
     "data": {
      "text/plain": [
       "10"
      ]
     },
     "execution_count": 101,
     "metadata": {},
     "output_type": "execute_result"
    },
    {
     "data": {
      "text/plain": [
       "9"
      ]
     },
     "execution_count": 101,
     "metadata": {},
     "output_type": "execute_result"
    },
    {
     "data": {
      "text/plain": [
       "8"
      ]
     },
     "execution_count": 101,
     "metadata": {},
     "output_type": "execute_result"
    },
    {
     "data": {
      "text/plain": [
       "10"
      ]
     },
     "execution_count": 101,
     "metadata": {},
     "output_type": "execute_result"
    },
    {
     "data": {
      "text/plain": [
       "12"
      ]
     },
     "execution_count": 101,
     "metadata": {},
     "output_type": "execute_result"
    },
    {
     "data": {
      "text/plain": [
       "10"
      ]
     },
     "execution_count": 101,
     "metadata": {},
     "output_type": "execute_result"
    },
    {
     "data": {
      "text/plain": [
       "10"
      ]
     },
     "execution_count": 101,
     "metadata": {},
     "output_type": "execute_result"
    },
    {
     "data": {
      "text/plain": [
       "9"
      ]
     },
     "execution_count": 101,
     "metadata": {},
     "output_type": "execute_result"
    },
    {
     "data": {
      "text/plain": [
       "10"
      ]
     },
     "execution_count": 101,
     "metadata": {},
     "output_type": "execute_result"
    },
    {
     "data": {
      "text/plain": [
       "10"
      ]
     },
     "execution_count": 101,
     "metadata": {},
     "output_type": "execute_result"
    },
    {
     "data": {
      "text/plain": [
       "8"
      ]
     },
     "execution_count": 101,
     "metadata": {},
     "output_type": "execute_result"
    },
    {
     "data": {
      "text/plain": [
       "9"
      ]
     },
     "execution_count": 101,
     "metadata": {},
     "output_type": "execute_result"
    },
    {
     "data": {
      "text/plain": [
       "9"
      ]
     },
     "execution_count": 101,
     "metadata": {},
     "output_type": "execute_result"
    },
    {
     "data": {
      "text/plain": [
       "10"
      ]
     },
     "execution_count": 101,
     "metadata": {},
     "output_type": "execute_result"
    },
    {
     "data": {
      "text/plain": [
       "8"
      ]
     },
     "execution_count": 101,
     "metadata": {},
     "output_type": "execute_result"
    },
    {
     "data": {
      "text/plain": [
       "9"
      ]
     },
     "execution_count": 101,
     "metadata": {},
     "output_type": "execute_result"
    },
    {
     "data": {
      "text/plain": [
       "11"
      ]
     },
     "execution_count": 101,
     "metadata": {},
     "output_type": "execute_result"
    },
    {
     "data": {
      "text/plain": [
       "10"
      ]
     },
     "execution_count": 101,
     "metadata": {},
     "output_type": "execute_result"
    },
    {
     "data": {
      "text/plain": [
       "11"
      ]
     },
     "execution_count": 101,
     "metadata": {},
     "output_type": "execute_result"
    },
    {
     "data": {
      "text/plain": [
       "8"
      ]
     },
     "execution_count": 101,
     "metadata": {},
     "output_type": "execute_result"
    },
    {
     "data": {
      "text/plain": [
       "10"
      ]
     },
     "execution_count": 101,
     "metadata": {},
     "output_type": "execute_result"
    },
    {
     "data": {
      "text/plain": [
       "11"
      ]
     },
     "execution_count": 101,
     "metadata": {},
     "output_type": "execute_result"
    },
    {
     "data": {
      "text/plain": [
       "11"
      ]
     },
     "execution_count": 101,
     "metadata": {},
     "output_type": "execute_result"
    },
    {
     "data": {
      "text/plain": [
       "14"
      ]
     },
     "execution_count": 101,
     "metadata": {},
     "output_type": "execute_result"
    },
    {
     "data": {
      "text/plain": [
       "11"
      ]
     },
     "execution_count": 101,
     "metadata": {},
     "output_type": "execute_result"
    },
    {
     "data": {
      "text/plain": [
       "12"
      ]
     },
     "execution_count": 101,
     "metadata": {},
     "output_type": "execute_result"
    },
    {
     "data": {
      "text/plain": [
       "10"
      ]
     },
     "execution_count": 101,
     "metadata": {},
     "output_type": "execute_result"
    },
    {
     "data": {
      "text/plain": [
       "10"
      ]
     },
     "execution_count": 101,
     "metadata": {},
     "output_type": "execute_result"
    },
    {
     "data": {
      "text/plain": [
       "11"
      ]
     },
     "execution_count": 101,
     "metadata": {},
     "output_type": "execute_result"
    },
    {
     "data": {
      "text/plain": [
       "11"
      ]
     },
     "execution_count": 101,
     "metadata": {},
     "output_type": "execute_result"
    },
    {
     "data": {
      "text/plain": [
       "11"
      ]
     },
     "execution_count": 101,
     "metadata": {},
     "output_type": "execute_result"
    },
    {
     "data": {
      "text/plain": [
       "11"
      ]
     },
     "execution_count": 101,
     "metadata": {},
     "output_type": "execute_result"
    },
    {
     "data": {
      "text/plain": [
       "10"
      ]
     },
     "execution_count": 101,
     "metadata": {},
     "output_type": "execute_result"
    },
    {
     "data": {
      "text/plain": [
       "10"
      ]
     },
     "execution_count": 101,
     "metadata": {},
     "output_type": "execute_result"
    },
    {
     "data": {
      "text/plain": [
       "10"
      ]
     },
     "execution_count": 101,
     "metadata": {},
     "output_type": "execute_result"
    },
    {
     "data": {
      "text/plain": [
       "12"
      ]
     },
     "execution_count": 101,
     "metadata": {},
     "output_type": "execute_result"
    },
    {
     "data": {
      "text/plain": [
       "11"
      ]
     },
     "execution_count": 101,
     "metadata": {},
     "output_type": "execute_result"
    },
    {
     "data": {
      "text/plain": [
       "10"
      ]
     },
     "execution_count": 101,
     "metadata": {},
     "output_type": "execute_result"
    },
    {
     "data": {
      "text/plain": [
       "10"
      ]
     },
     "execution_count": 101,
     "metadata": {},
     "output_type": "execute_result"
    },
    {
     "data": {
      "text/plain": [
       "11"
      ]
     },
     "execution_count": 101,
     "metadata": {},
     "output_type": "execute_result"
    },
    {
     "data": {
      "text/plain": [
       "11"
      ]
     },
     "execution_count": 101,
     "metadata": {},
     "output_type": "execute_result"
    },
    {
     "data": {
      "text/plain": [
       "13"
      ]
     },
     "execution_count": 101,
     "metadata": {},
     "output_type": "execute_result"
    },
    {
     "data": {
      "text/plain": [
       "10"
      ]
     },
     "execution_count": 101,
     "metadata": {},
     "output_type": "execute_result"
    },
    {
     "data": {
      "text/plain": [
       "11"
      ]
     },
     "execution_count": 101,
     "metadata": {},
     "output_type": "execute_result"
    },
    {
     "data": {
      "text/plain": [
       "10"
      ]
     },
     "execution_count": 101,
     "metadata": {},
     "output_type": "execute_result"
    },
    {
     "data": {
      "text/plain": [
       "9"
      ]
     },
     "execution_count": 101,
     "metadata": {},
     "output_type": "execute_result"
    },
    {
     "data": {
      "text/plain": [
       "10"
      ]
     },
     "execution_count": 101,
     "metadata": {},
     "output_type": "execute_result"
    },
    {
     "data": {
      "text/plain": [
       "11"
      ]
     },
     "execution_count": 101,
     "metadata": {},
     "output_type": "execute_result"
    },
    {
     "data": {
      "text/plain": [
       "11"
      ]
     },
     "execution_count": 101,
     "metadata": {},
     "output_type": "execute_result"
    },
    {
     "data": {
      "text/plain": [
       "12"
      ]
     },
     "execution_count": 101,
     "metadata": {},
     "output_type": "execute_result"
    },
    {
     "data": {
      "text/plain": [
       "11"
      ]
     },
     "execution_count": 101,
     "metadata": {},
     "output_type": "execute_result"
    },
    {
     "data": {
      "text/plain": [
       "9"
      ]
     },
     "execution_count": 101,
     "metadata": {},
     "output_type": "execute_result"
    },
    {
     "data": {
      "text/plain": [
       "11"
      ]
     },
     "execution_count": 101,
     "metadata": {},
     "output_type": "execute_result"
    },
    {
     "data": {
      "text/plain": [
       "10"
      ]
     },
     "execution_count": 101,
     "metadata": {},
     "output_type": "execute_result"
    },
    {
     "data": {
      "text/plain": [
       "11"
      ]
     },
     "execution_count": 101,
     "metadata": {},
     "output_type": "execute_result"
    },
    {
     "data": {
      "text/plain": [
       "9"
      ]
     },
     "execution_count": 101,
     "metadata": {},
     "output_type": "execute_result"
    },
    {
     "data": {
      "text/plain": [
       "9"
      ]
     },
     "execution_count": 101,
     "metadata": {},
     "output_type": "execute_result"
    },
    {
     "data": {
      "text/plain": [
       "8"
      ]
     },
     "execution_count": 101,
     "metadata": {},
     "output_type": "execute_result"
    },
    {
     "data": {
      "text/plain": [
       "9"
      ]
     },
     "execution_count": 101,
     "metadata": {},
     "output_type": "execute_result"
    },
    {
     "data": {
      "text/plain": [
       "11"
      ]
     },
     "execution_count": 101,
     "metadata": {},
     "output_type": "execute_result"
    },
    {
     "data": {
      "text/plain": [
       "10"
      ]
     },
     "execution_count": 101,
     "metadata": {},
     "output_type": "execute_result"
    },
    {
     "data": {
      "text/plain": [
       "11"
      ]
     },
     "execution_count": 101,
     "metadata": {},
     "output_type": "execute_result"
    },
    {
     "data": {
      "text/plain": [
       "8"
      ]
     },
     "execution_count": 101,
     "metadata": {},
     "output_type": "execute_result"
    },
    {
     "data": {
      "text/plain": [
       "10"
      ]
     },
     "execution_count": 101,
     "metadata": {},
     "output_type": "execute_result"
    },
    {
     "data": {
      "text/plain": [
       "11"
      ]
     },
     "execution_count": 101,
     "metadata": {},
     "output_type": "execute_result"
    },
    {
     "data": {
      "text/plain": [
       "11"
      ]
     },
     "execution_count": 101,
     "metadata": {},
     "output_type": "execute_result"
    },
    {
     "data": {
      "text/plain": [
       "11"
      ]
     },
     "execution_count": 101,
     "metadata": {},
     "output_type": "execute_result"
    },
    {
     "data": {
      "text/plain": [
       "11"
      ]
     },
     "execution_count": 101,
     "metadata": {},
     "output_type": "execute_result"
    },
    {
     "data": {
      "text/plain": [
       "12"
      ]
     },
     "execution_count": 101,
     "metadata": {},
     "output_type": "execute_result"
    },
    {
     "data": {
      "text/plain": [
       "10"
      ]
     },
     "execution_count": 101,
     "metadata": {},
     "output_type": "execute_result"
    },
    {
     "data": {
      "text/plain": [
       "13"
      ]
     },
     "execution_count": 101,
     "metadata": {},
     "output_type": "execute_result"
    },
    {
     "data": {
      "text/plain": [
       "10"
      ]
     },
     "execution_count": 101,
     "metadata": {},
     "output_type": "execute_result"
    },
    {
     "data": {
      "text/plain": [
       "12"
      ]
     },
     "execution_count": 101,
     "metadata": {},
     "output_type": "execute_result"
    },
    {
     "data": {
      "text/plain": [
       "11"
      ]
     },
     "execution_count": 101,
     "metadata": {},
     "output_type": "execute_result"
    },
    {
     "data": {
      "text/plain": [
       "9"
      ]
     },
     "execution_count": 101,
     "metadata": {},
     "output_type": "execute_result"
    },
    {
     "data": {
      "text/plain": [
       "13"
      ]
     },
     "execution_count": 101,
     "metadata": {},
     "output_type": "execute_result"
    },
    {
     "data": {
      "text/plain": [
       "9"
      ]
     },
     "execution_count": 101,
     "metadata": {},
     "output_type": "execute_result"
    },
    {
     "data": {
      "text/plain": [
       "9"
      ]
     },
     "execution_count": 101,
     "metadata": {},
     "output_type": "execute_result"
    },
    {
     "data": {
      "text/plain": [
       "11"
      ]
     },
     "execution_count": 101,
     "metadata": {},
     "output_type": "execute_result"
    },
    {
     "data": {
      "text/plain": [
       "8"
      ]
     },
     "execution_count": 101,
     "metadata": {},
     "output_type": "execute_result"
    },
    {
     "data": {
      "text/plain": [
       "8"
      ]
     },
     "execution_count": 101,
     "metadata": {},
     "output_type": "execute_result"
    },
    {
     "data": {
      "text/plain": [
       "10"
      ]
     },
     "execution_count": 101,
     "metadata": {},
     "output_type": "execute_result"
    },
    {
     "data": {
      "text/plain": [
       "8"
      ]
     },
     "execution_count": 101,
     "metadata": {},
     "output_type": "execute_result"
    },
    {
     "data": {
      "text/plain": [
       "9"
      ]
     },
     "execution_count": 101,
     "metadata": {},
     "output_type": "execute_result"
    },
    {
     "data": {
      "text/plain": [
       "9"
      ]
     },
     "execution_count": 101,
     "metadata": {},
     "output_type": "execute_result"
    },
    {
     "data": {
      "text/plain": [
       "7"
      ]
     },
     "execution_count": 101,
     "metadata": {},
     "output_type": "execute_result"
    },
    {
     "data": {
      "text/plain": [
       "10"
      ]
     },
     "execution_count": 101,
     "metadata": {},
     "output_type": "execute_result"
    },
    {
     "data": {
      "text/plain": [
       "10"
      ]
     },
     "execution_count": 101,
     "metadata": {},
     "output_type": "execute_result"
    },
    {
     "data": {
      "text/plain": [
       "10"
      ]
     },
     "execution_count": 101,
     "metadata": {},
     "output_type": "execute_result"
    },
    {
     "data": {
      "text/plain": [
       "10"
      ]
     },
     "execution_count": 101,
     "metadata": {},
     "output_type": "execute_result"
    },
    {
     "data": {
      "text/plain": [
       "9"
      ]
     },
     "execution_count": 101,
     "metadata": {},
     "output_type": "execute_result"
    },
    {
     "data": {
      "text/plain": [
       "11"
      ]
     },
     "execution_count": 101,
     "metadata": {},
     "output_type": "execute_result"
    },
    {
     "data": {
      "text/plain": [
       "10"
      ]
     },
     "execution_count": 101,
     "metadata": {},
     "output_type": "execute_result"
    },
    {
     "data": {
      "text/plain": [
       "9"
      ]
     },
     "execution_count": 101,
     "metadata": {},
     "output_type": "execute_result"
    },
    {
     "data": {
      "text/plain": [
       "11"
      ]
     },
     "execution_count": 101,
     "metadata": {},
     "output_type": "execute_result"
    },
    {
     "data": {
      "text/plain": [
       "11"
      ]
     },
     "execution_count": 101,
     "metadata": {},
     "output_type": "execute_result"
    },
    {
     "data": {
      "text/plain": [
       "9"
      ]
     },
     "execution_count": 101,
     "metadata": {},
     "output_type": "execute_result"
    },
    {
     "data": {
      "text/plain": [
       "12"
      ]
     },
     "execution_count": 101,
     "metadata": {},
     "output_type": "execute_result"
    },
    {
     "data": {
      "text/plain": [
       "8"
      ]
     },
     "execution_count": 101,
     "metadata": {},
     "output_type": "execute_result"
    },
    {
     "data": {
      "text/plain": [
       "8"
      ]
     },
     "execution_count": 101,
     "metadata": {},
     "output_type": "execute_result"
    },
    {
     "data": {
      "text/plain": [
       "9"
      ]
     },
     "execution_count": 101,
     "metadata": {},
     "output_type": "execute_result"
    },
    {
     "data": {
      "text/plain": [
       "10"
      ]
     },
     "execution_count": 101,
     "metadata": {},
     "output_type": "execute_result"
    },
    {
     "data": {
      "text/plain": [
       "9"
      ]
     },
     "execution_count": 101,
     "metadata": {},
     "output_type": "execute_result"
    },
    {
     "data": {
      "text/plain": [
       "10"
      ]
     },
     "execution_count": 101,
     "metadata": {},
     "output_type": "execute_result"
    },
    {
     "data": {
      "text/plain": [
       "12"
      ]
     },
     "execution_count": 101,
     "metadata": {},
     "output_type": "execute_result"
    },
    {
     "data": {
      "text/plain": [
       "8"
      ]
     },
     "execution_count": 101,
     "metadata": {},
     "output_type": "execute_result"
    },
    {
     "data": {
      "text/plain": [
       "11"
      ]
     },
     "execution_count": 101,
     "metadata": {},
     "output_type": "execute_result"
    },
    {
     "data": {
      "text/plain": [
       "10"
      ]
     },
     "execution_count": 101,
     "metadata": {},
     "output_type": "execute_result"
    },
    {
     "data": {
      "text/plain": [
       "9"
      ]
     },
     "execution_count": 101,
     "metadata": {},
     "output_type": "execute_result"
    },
    {
     "data": {
      "text/plain": [
       "12"
      ]
     },
     "execution_count": 101,
     "metadata": {},
     "output_type": "execute_result"
    },
    {
     "data": {
      "text/plain": [
       "8"
      ]
     },
     "execution_count": 101,
     "metadata": {},
     "output_type": "execute_result"
    },
    {
     "data": {
      "text/plain": [
       "8"
      ]
     },
     "execution_count": 101,
     "metadata": {},
     "output_type": "execute_result"
    },
    {
     "data": {
      "text/plain": [
       "8"
      ]
     },
     "execution_count": 101,
     "metadata": {},
     "output_type": "execute_result"
    },
    {
     "data": {
      "text/plain": [
       "11"
      ]
     },
     "execution_count": 101,
     "metadata": {},
     "output_type": "execute_result"
    },
    {
     "data": {
      "text/plain": [
       "9"
      ]
     },
     "execution_count": 101,
     "metadata": {},
     "output_type": "execute_result"
    },
    {
     "data": {
      "text/plain": [
       "9"
      ]
     },
     "execution_count": 101,
     "metadata": {},
     "output_type": "execute_result"
    },
    {
     "data": {
      "text/plain": [
       "9"
      ]
     },
     "execution_count": 101,
     "metadata": {},
     "output_type": "execute_result"
    },
    {
     "data": {
      "text/plain": [
       "8"
      ]
     },
     "execution_count": 101,
     "metadata": {},
     "output_type": "execute_result"
    },
    {
     "data": {
      "text/plain": [
       "9"
      ]
     },
     "execution_count": 101,
     "metadata": {},
     "output_type": "execute_result"
    },
    {
     "data": {
      "text/plain": [
       "9"
      ]
     },
     "execution_count": 101,
     "metadata": {},
     "output_type": "execute_result"
    },
    {
     "data": {
      "text/plain": [
       "10"
      ]
     },
     "execution_count": 101,
     "metadata": {},
     "output_type": "execute_result"
    },
    {
     "data": {
      "text/plain": [
       "10"
      ]
     },
     "execution_count": 101,
     "metadata": {},
     "output_type": "execute_result"
    },
    {
     "data": {
      "text/plain": [
       "10"
      ]
     },
     "execution_count": 101,
     "metadata": {},
     "output_type": "execute_result"
    },
    {
     "data": {
      "text/plain": [
       "11"
      ]
     },
     "execution_count": 101,
     "metadata": {},
     "output_type": "execute_result"
    },
    {
     "data": {
      "text/plain": [
       "9"
      ]
     },
     "execution_count": 101,
     "metadata": {},
     "output_type": "execute_result"
    },
    {
     "data": {
      "text/plain": [
       "9"
      ]
     },
     "execution_count": 101,
     "metadata": {},
     "output_type": "execute_result"
    },
    {
     "data": {
      "text/plain": [
       "9"
      ]
     },
     "execution_count": 101,
     "metadata": {},
     "output_type": "execute_result"
    },
    {
     "data": {
      "text/plain": [
       "10"
      ]
     },
     "execution_count": 101,
     "metadata": {},
     "output_type": "execute_result"
    },
    {
     "data": {
      "text/plain": [
       "11"
      ]
     },
     "execution_count": 101,
     "metadata": {},
     "output_type": "execute_result"
    },
    {
     "data": {
      "text/plain": [
       "10"
      ]
     },
     "execution_count": 101,
     "metadata": {},
     "output_type": "execute_result"
    },
    {
     "data": {
      "text/plain": [
       "7"
      ]
     },
     "execution_count": 101,
     "metadata": {},
     "output_type": "execute_result"
    },
    {
     "data": {
      "text/plain": [
       "9"
      ]
     },
     "execution_count": 101,
     "metadata": {},
     "output_type": "execute_result"
    },
    {
     "data": {
      "text/plain": [
       "9"
      ]
     },
     "execution_count": 101,
     "metadata": {},
     "output_type": "execute_result"
    },
    {
     "data": {
      "text/plain": [
       "9"
      ]
     },
     "execution_count": 101,
     "metadata": {},
     "output_type": "execute_result"
    },
    {
     "data": {
      "text/plain": [
       "8"
      ]
     },
     "execution_count": 101,
     "metadata": {},
     "output_type": "execute_result"
    },
    {
     "data": {
      "text/plain": [
       "8"
      ]
     },
     "execution_count": 101,
     "metadata": {},
     "output_type": "execute_result"
    },
    {
     "data": {
      "text/plain": [
       "10"
      ]
     },
     "execution_count": 101,
     "metadata": {},
     "output_type": "execute_result"
    },
    {
     "data": {
      "text/plain": [
       "10"
      ]
     },
     "execution_count": 101,
     "metadata": {},
     "output_type": "execute_result"
    },
    {
     "data": {
      "text/plain": [
       "10"
      ]
     },
     "execution_count": 101,
     "metadata": {},
     "output_type": "execute_result"
    },
    {
     "data": {
      "text/plain": [
       "10"
      ]
     },
     "execution_count": 101,
     "metadata": {},
     "output_type": "execute_result"
    },
    {
     "data": {
      "text/plain": [
       "10"
      ]
     },
     "execution_count": 101,
     "metadata": {},
     "output_type": "execute_result"
    },
    {
     "data": {
      "text/plain": [
       "9"
      ]
     },
     "execution_count": 101,
     "metadata": {},
     "output_type": "execute_result"
    },
    {
     "data": {
      "text/plain": [
       "11"
      ]
     },
     "execution_count": 101,
     "metadata": {},
     "output_type": "execute_result"
    },
    {
     "data": {
      "text/plain": [
       "10"
      ]
     },
     "execution_count": 101,
     "metadata": {},
     "output_type": "execute_result"
    },
    {
     "data": {
      "text/plain": [
       "10"
      ]
     },
     "execution_count": 101,
     "metadata": {},
     "output_type": "execute_result"
    },
    {
     "data": {
      "text/plain": [
       "10"
      ]
     },
     "execution_count": 101,
     "metadata": {},
     "output_type": "execute_result"
    },
    {
     "data": {
      "text/plain": [
       "11"
      ]
     },
     "execution_count": 101,
     "metadata": {},
     "output_type": "execute_result"
    },
    {
     "data": {
      "text/plain": [
       "9"
      ]
     },
     "execution_count": 101,
     "metadata": {},
     "output_type": "execute_result"
    },
    {
     "data": {
      "text/plain": [
       "8"
      ]
     },
     "execution_count": 101,
     "metadata": {},
     "output_type": "execute_result"
    },
    {
     "data": {
      "text/plain": [
       "11"
      ]
     },
     "execution_count": 101,
     "metadata": {},
     "output_type": "execute_result"
    },
    {
     "data": {
      "text/plain": [
       "10"
      ]
     },
     "execution_count": 101,
     "metadata": {},
     "output_type": "execute_result"
    },
    {
     "data": {
      "text/plain": [
       "10"
      ]
     },
     "execution_count": 101,
     "metadata": {},
     "output_type": "execute_result"
    },
    {
     "data": {
      "text/plain": [
       "10"
      ]
     },
     "execution_count": 101,
     "metadata": {},
     "output_type": "execute_result"
    },
    {
     "data": {
      "text/plain": [
       "9"
      ]
     },
     "execution_count": 101,
     "metadata": {},
     "output_type": "execute_result"
    },
    {
     "data": {
      "text/plain": [
       "9"
      ]
     },
     "execution_count": 101,
     "metadata": {},
     "output_type": "execute_result"
    },
    {
     "data": {
      "text/plain": [
       "8"
      ]
     },
     "execution_count": 101,
     "metadata": {},
     "output_type": "execute_result"
    },
    {
     "data": {
      "text/plain": [
       "9"
      ]
     },
     "execution_count": 101,
     "metadata": {},
     "output_type": "execute_result"
    },
    {
     "data": {
      "text/plain": [
       "11"
      ]
     },
     "execution_count": 101,
     "metadata": {},
     "output_type": "execute_result"
    },
    {
     "data": {
      "text/plain": [
       "10"
      ]
     },
     "execution_count": 101,
     "metadata": {},
     "output_type": "execute_result"
    },
    {
     "data": {
      "text/plain": [
       "11"
      ]
     },
     "execution_count": 101,
     "metadata": {},
     "output_type": "execute_result"
    },
    {
     "data": {
      "text/plain": [
       "11"
      ]
     },
     "execution_count": 101,
     "metadata": {},
     "output_type": "execute_result"
    },
    {
     "data": {
      "text/plain": [
       "9"
      ]
     },
     "execution_count": 101,
     "metadata": {},
     "output_type": "execute_result"
    },
    {
     "data": {
      "text/plain": [
       "10"
      ]
     },
     "execution_count": 101,
     "metadata": {},
     "output_type": "execute_result"
    },
    {
     "data": {
      "text/plain": [
       "11"
      ]
     },
     "execution_count": 101,
     "metadata": {},
     "output_type": "execute_result"
    },
    {
     "data": {
      "text/plain": [
       "10"
      ]
     },
     "execution_count": 101,
     "metadata": {},
     "output_type": "execute_result"
    },
    {
     "data": {
      "text/plain": [
       "10"
      ]
     },
     "execution_count": 101,
     "metadata": {},
     "output_type": "execute_result"
    },
    {
     "data": {
      "text/plain": [
       "10"
      ]
     },
     "execution_count": 101,
     "metadata": {},
     "output_type": "execute_result"
    },
    {
     "data": {
      "text/plain": [
       "9"
      ]
     },
     "execution_count": 101,
     "metadata": {},
     "output_type": "execute_result"
    },
    {
     "data": {
      "text/plain": [
       "11"
      ]
     },
     "execution_count": 101,
     "metadata": {},
     "output_type": "execute_result"
    },
    {
     "data": {
      "text/plain": [
       "10"
      ]
     },
     "execution_count": 101,
     "metadata": {},
     "output_type": "execute_result"
    },
    {
     "data": {
      "text/plain": [
       "9"
      ]
     },
     "execution_count": 101,
     "metadata": {},
     "output_type": "execute_result"
    },
    {
     "data": {
      "text/plain": [
       "8"
      ]
     },
     "execution_count": 101,
     "metadata": {},
     "output_type": "execute_result"
    },
    {
     "data": {
      "text/plain": [
       "12"
      ]
     },
     "execution_count": 101,
     "metadata": {},
     "output_type": "execute_result"
    },
    {
     "data": {
      "text/plain": [
       "10"
      ]
     },
     "execution_count": 101,
     "metadata": {},
     "output_type": "execute_result"
    },
    {
     "data": {
      "text/plain": [
       "10"
      ]
     },
     "execution_count": 101,
     "metadata": {},
     "output_type": "execute_result"
    },
    {
     "data": {
      "text/plain": [
       "11"
      ]
     },
     "execution_count": 101,
     "metadata": {},
     "output_type": "execute_result"
    },
    {
     "data": {
      "text/plain": [
       "11"
      ]
     },
     "execution_count": 101,
     "metadata": {},
     "output_type": "execute_result"
    },
    {
     "data": {
      "text/plain": [
       "11"
      ]
     },
     "execution_count": 101,
     "metadata": {},
     "output_type": "execute_result"
    },
    {
     "data": {
      "text/plain": [
       "9"
      ]
     },
     "execution_count": 101,
     "metadata": {},
     "output_type": "execute_result"
    },
    {
     "data": {
      "text/plain": [
       "9"
      ]
     },
     "execution_count": 101,
     "metadata": {},
     "output_type": "execute_result"
    },
    {
     "data": {
      "text/plain": [
       "11"
      ]
     },
     "execution_count": 101,
     "metadata": {},
     "output_type": "execute_result"
    },
    {
     "data": {
      "text/plain": [
       "12"
      ]
     },
     "execution_count": 101,
     "metadata": {},
     "output_type": "execute_result"
    },
    {
     "data": {
      "text/plain": [
       "12"
      ]
     },
     "execution_count": 101,
     "metadata": {},
     "output_type": "execute_result"
    },
    {
     "data": {
      "text/plain": [
       "10"
      ]
     },
     "execution_count": 101,
     "metadata": {},
     "output_type": "execute_result"
    },
    {
     "data": {
      "text/plain": [
       "9"
      ]
     },
     "execution_count": 101,
     "metadata": {},
     "output_type": "execute_result"
    },
    {
     "data": {
      "text/plain": [
       "10"
      ]
     },
     "execution_count": 101,
     "metadata": {},
     "output_type": "execute_result"
    },
    {
     "data": {
      "text/plain": [
       "9"
      ]
     },
     "execution_count": 101,
     "metadata": {},
     "output_type": "execute_result"
    },
    {
     "data": {
      "text/plain": [
       "10"
      ]
     },
     "execution_count": 101,
     "metadata": {},
     "output_type": "execute_result"
    },
    {
     "data": {
      "text/plain": [
       "12"
      ]
     },
     "execution_count": 101,
     "metadata": {},
     "output_type": "execute_result"
    },
    {
     "data": {
      "text/plain": [
       "9"
      ]
     },
     "execution_count": 101,
     "metadata": {},
     "output_type": "execute_result"
    },
    {
     "data": {
      "text/plain": [
       "10"
      ]
     },
     "execution_count": 101,
     "metadata": {},
     "output_type": "execute_result"
    },
    {
     "data": {
      "text/plain": [
       "10"
      ]
     },
     "execution_count": 101,
     "metadata": {},
     "output_type": "execute_result"
    },
    {
     "data": {
      "text/plain": [
       "9"
      ]
     },
     "execution_count": 101,
     "metadata": {},
     "output_type": "execute_result"
    },
    {
     "data": {
      "text/plain": [
       "9"
      ]
     },
     "execution_count": 101,
     "metadata": {},
     "output_type": "execute_result"
    },
    {
     "data": {
      "text/plain": [
       "8"
      ]
     },
     "execution_count": 101,
     "metadata": {},
     "output_type": "execute_result"
    },
    {
     "data": {
      "text/plain": [
       "10"
      ]
     },
     "execution_count": 101,
     "metadata": {},
     "output_type": "execute_result"
    },
    {
     "data": {
      "text/plain": [
       "9"
      ]
     },
     "execution_count": 101,
     "metadata": {},
     "output_type": "execute_result"
    },
    {
     "data": {
      "text/plain": [
       "9"
      ]
     },
     "execution_count": 101,
     "metadata": {},
     "output_type": "execute_result"
    },
    {
     "data": {
      "text/plain": [
       "12"
      ]
     },
     "execution_count": 101,
     "metadata": {},
     "output_type": "execute_result"
    },
    {
     "data": {
      "text/plain": [
       "12"
      ]
     },
     "execution_count": 101,
     "metadata": {},
     "output_type": "execute_result"
    },
    {
     "data": {
      "text/plain": [
       "11"
      ]
     },
     "execution_count": 101,
     "metadata": {},
     "output_type": "execute_result"
    },
    {
     "data": {
      "text/plain": [
       "12"
      ]
     },
     "execution_count": 101,
     "metadata": {},
     "output_type": "execute_result"
    },
    {
     "data": {
      "text/plain": [
       "12"
      ]
     },
     "execution_count": 101,
     "metadata": {},
     "output_type": "execute_result"
    },
    {
     "data": {
      "text/plain": [
       "10"
      ]
     },
     "execution_count": 101,
     "metadata": {},
     "output_type": "execute_result"
    },
    {
     "data": {
      "text/plain": [
       "9"
      ]
     },
     "execution_count": 101,
     "metadata": {},
     "output_type": "execute_result"
    },
    {
     "data": {
      "text/plain": [
       "12"
      ]
     },
     "execution_count": 101,
     "metadata": {},
     "output_type": "execute_result"
    },
    {
     "data": {
      "text/plain": [
       "11"
      ]
     },
     "execution_count": 101,
     "metadata": {},
     "output_type": "execute_result"
    },
    {
     "data": {
      "text/plain": [
       "8"
      ]
     },
     "execution_count": 101,
     "metadata": {},
     "output_type": "execute_result"
    },
    {
     "data": {
      "text/plain": [
       "9"
      ]
     },
     "execution_count": 101,
     "metadata": {},
     "output_type": "execute_result"
    },
    {
     "data": {
      "text/plain": [
       "9"
      ]
     },
     "execution_count": 101,
     "metadata": {},
     "output_type": "execute_result"
    },
    {
     "data": {
      "text/plain": [
       "10"
      ]
     },
     "execution_count": 101,
     "metadata": {},
     "output_type": "execute_result"
    },
    {
     "data": {
      "text/plain": [
       "11"
      ]
     },
     "execution_count": 101,
     "metadata": {},
     "output_type": "execute_result"
    },
    {
     "data": {
      "text/plain": [
       "9"
      ]
     },
     "execution_count": 101,
     "metadata": {},
     "output_type": "execute_result"
    },
    {
     "data": {
      "text/plain": [
       "13"
      ]
     },
     "execution_count": 101,
     "metadata": {},
     "output_type": "execute_result"
    },
    {
     "data": {
      "text/plain": [
       "12"
      ]
     },
     "execution_count": 101,
     "metadata": {},
     "output_type": "execute_result"
    },
    {
     "data": {
      "text/plain": [
       "11"
      ]
     },
     "execution_count": 101,
     "metadata": {},
     "output_type": "execute_result"
    },
    {
     "data": {
      "text/plain": [
       "11"
      ]
     },
     "execution_count": 101,
     "metadata": {},
     "output_type": "execute_result"
    },
    {
     "data": {
      "text/plain": [
       "10"
      ]
     },
     "execution_count": 101,
     "metadata": {},
     "output_type": "execute_result"
    },
    {
     "data": {
      "text/plain": [
       "10"
      ]
     },
     "execution_count": 101,
     "metadata": {},
     "output_type": "execute_result"
    },
    {
     "data": {
      "text/plain": [
       "11"
      ]
     },
     "execution_count": 101,
     "metadata": {},
     "output_type": "execute_result"
    },
    {
     "data": {
      "text/plain": [
       "9"
      ]
     },
     "execution_count": 101,
     "metadata": {},
     "output_type": "execute_result"
    },
    {
     "data": {
      "text/plain": [
       "9"
      ]
     },
     "execution_count": 101,
     "metadata": {},
     "output_type": "execute_result"
    },
    {
     "data": {
      "text/plain": [
       "9"
      ]
     },
     "execution_count": 101,
     "metadata": {},
     "output_type": "execute_result"
    },
    {
     "data": {
      "text/plain": [
       "10"
      ]
     },
     "execution_count": 101,
     "metadata": {},
     "output_type": "execute_result"
    },
    {
     "data": {
      "text/plain": [
       "8"
      ]
     },
     "execution_count": 101,
     "metadata": {},
     "output_type": "execute_result"
    },
    {
     "data": {
      "text/plain": [
       "9"
      ]
     },
     "execution_count": 101,
     "metadata": {},
     "output_type": "execute_result"
    },
    {
     "data": {
      "text/plain": [
       "10"
      ]
     },
     "execution_count": 101,
     "metadata": {},
     "output_type": "execute_result"
    },
    {
     "data": {
      "text/plain": [
       "10"
      ]
     },
     "execution_count": 101,
     "metadata": {},
     "output_type": "execute_result"
    },
    {
     "data": {
      "text/plain": [
       "9"
      ]
     },
     "execution_count": 101,
     "metadata": {},
     "output_type": "execute_result"
    },
    {
     "data": {
      "text/plain": [
       "9"
      ]
     },
     "execution_count": 101,
     "metadata": {},
     "output_type": "execute_result"
    },
    {
     "data": {
      "text/plain": [
       "9"
      ]
     },
     "execution_count": 101,
     "metadata": {},
     "output_type": "execute_result"
    },
    {
     "data": {
      "text/plain": [
       "9"
      ]
     },
     "execution_count": 101,
     "metadata": {},
     "output_type": "execute_result"
    },
    {
     "data": {
      "text/plain": [
       "7"
      ]
     },
     "execution_count": 101,
     "metadata": {},
     "output_type": "execute_result"
    },
    {
     "data": {
      "text/plain": [
       "9"
      ]
     },
     "execution_count": 101,
     "metadata": {},
     "output_type": "execute_result"
    },
    {
     "data": {
      "text/plain": [
       "10"
      ]
     },
     "execution_count": 101,
     "metadata": {},
     "output_type": "execute_result"
    },
    {
     "data": {
      "text/plain": [
       "11"
      ]
     },
     "execution_count": 101,
     "metadata": {},
     "output_type": "execute_result"
    },
    {
     "data": {
      "text/plain": [
       "10"
      ]
     },
     "execution_count": 101,
     "metadata": {},
     "output_type": "execute_result"
    },
    {
     "data": {
      "text/plain": [
       "11"
      ]
     },
     "execution_count": 101,
     "metadata": {},
     "output_type": "execute_result"
    },
    {
     "data": {
      "text/plain": [
       "9"
      ]
     },
     "execution_count": 101,
     "metadata": {},
     "output_type": "execute_result"
    },
    {
     "data": {
      "text/plain": [
       "10"
      ]
     },
     "execution_count": 101,
     "metadata": {},
     "output_type": "execute_result"
    },
    {
     "data": {
      "text/plain": [
       "9"
      ]
     },
     "execution_count": 101,
     "metadata": {},
     "output_type": "execute_result"
    },
    {
     "data": {
      "text/plain": [
       "9"
      ]
     },
     "execution_count": 101,
     "metadata": {},
     "output_type": "execute_result"
    },
    {
     "data": {
      "text/plain": [
       "10"
      ]
     },
     "execution_count": 101,
     "metadata": {},
     "output_type": "execute_result"
    },
    {
     "data": {
      "text/plain": [
       "7"
      ]
     },
     "execution_count": 101,
     "metadata": {},
     "output_type": "execute_result"
    },
    {
     "data": {
      "text/plain": [
       "11"
      ]
     },
     "execution_count": 101,
     "metadata": {},
     "output_type": "execute_result"
    },
    {
     "data": {
      "text/plain": [
       "12"
      ]
     },
     "execution_count": 101,
     "metadata": {},
     "output_type": "execute_result"
    },
    {
     "data": {
      "text/plain": [
       "11"
      ]
     },
     "execution_count": 101,
     "metadata": {},
     "output_type": "execute_result"
    },
    {
     "data": {
      "text/plain": [
       "9"
      ]
     },
     "execution_count": 101,
     "metadata": {},
     "output_type": "execute_result"
    },
    {
     "data": {
      "text/plain": [
       "9"
      ]
     },
     "execution_count": 101,
     "metadata": {},
     "output_type": "execute_result"
    },
    {
     "data": {
      "text/plain": [
       "9"
      ]
     },
     "execution_count": 101,
     "metadata": {},
     "output_type": "execute_result"
    },
    {
     "data": {
      "text/plain": [
       "10"
      ]
     },
     "execution_count": 101,
     "metadata": {},
     "output_type": "execute_result"
    },
    {
     "data": {
      "text/plain": [
       "10"
      ]
     },
     "execution_count": 101,
     "metadata": {},
     "output_type": "execute_result"
    },
    {
     "data": {
      "text/plain": [
       "11"
      ]
     },
     "execution_count": 101,
     "metadata": {},
     "output_type": "execute_result"
    },
    {
     "data": {
      "text/plain": [
       "9"
      ]
     },
     "execution_count": 101,
     "metadata": {},
     "output_type": "execute_result"
    },
    {
     "data": {
      "text/plain": [
       "9"
      ]
     },
     "execution_count": 101,
     "metadata": {},
     "output_type": "execute_result"
    },
    {
     "data": {
      "text/plain": [
       "9"
      ]
     },
     "execution_count": 101,
     "metadata": {},
     "output_type": "execute_result"
    },
    {
     "data": {
      "text/plain": [
       "10"
      ]
     },
     "execution_count": 101,
     "metadata": {},
     "output_type": "execute_result"
    },
    {
     "data": {
      "text/plain": [
       "8"
      ]
     },
     "execution_count": 101,
     "metadata": {},
     "output_type": "execute_result"
    },
    {
     "data": {
      "text/plain": [
       "9"
      ]
     },
     "execution_count": 101,
     "metadata": {},
     "output_type": "execute_result"
    },
    {
     "data": {
      "text/plain": [
       "9"
      ]
     },
     "execution_count": 101,
     "metadata": {},
     "output_type": "execute_result"
    },
    {
     "data": {
      "text/plain": [
       "8"
      ]
     },
     "execution_count": 101,
     "metadata": {},
     "output_type": "execute_result"
    },
    {
     "data": {
      "text/plain": [
       "9"
      ]
     },
     "execution_count": 101,
     "metadata": {},
     "output_type": "execute_result"
    },
    {
     "data": {
      "text/plain": [
       "9"
      ]
     },
     "execution_count": 101,
     "metadata": {},
     "output_type": "execute_result"
    },
    {
     "data": {
      "text/plain": [
       "11"
      ]
     },
     "execution_count": 101,
     "metadata": {},
     "output_type": "execute_result"
    },
    {
     "data": {
      "text/plain": [
       "9"
      ]
     },
     "execution_count": 101,
     "metadata": {},
     "output_type": "execute_result"
    },
    {
     "data": {
      "text/plain": [
       "8"
      ]
     },
     "execution_count": 101,
     "metadata": {},
     "output_type": "execute_result"
    },
    {
     "data": {
      "text/plain": [
       "10"
      ]
     },
     "execution_count": 101,
     "metadata": {},
     "output_type": "execute_result"
    },
    {
     "data": {
      "text/plain": [
       "9"
      ]
     },
     "execution_count": 101,
     "metadata": {},
     "output_type": "execute_result"
    },
    {
     "data": {
      "text/plain": [
       "11"
      ]
     },
     "execution_count": 101,
     "metadata": {},
     "output_type": "execute_result"
    },
    {
     "data": {
      "text/plain": [
       "10"
      ]
     },
     "execution_count": 101,
     "metadata": {},
     "output_type": "execute_result"
    },
    {
     "data": {
      "text/plain": [
       "10"
      ]
     },
     "execution_count": 101,
     "metadata": {},
     "output_type": "execute_result"
    },
    {
     "data": {
      "text/plain": [
       "9"
      ]
     },
     "execution_count": 101,
     "metadata": {},
     "output_type": "execute_result"
    },
    {
     "data": {
      "text/plain": [
       "9"
      ]
     },
     "execution_count": 101,
     "metadata": {},
     "output_type": "execute_result"
    },
    {
     "data": {
      "text/plain": [
       "11"
      ]
     },
     "execution_count": 101,
     "metadata": {},
     "output_type": "execute_result"
    },
    {
     "data": {
      "text/plain": [
       "11"
      ]
     },
     "execution_count": 101,
     "metadata": {},
     "output_type": "execute_result"
    },
    {
     "data": {
      "text/plain": [
       "11"
      ]
     },
     "execution_count": 101,
     "metadata": {},
     "output_type": "execute_result"
    },
    {
     "data": {
      "text/plain": [
       "8"
      ]
     },
     "execution_count": 101,
     "metadata": {},
     "output_type": "execute_result"
    },
    {
     "data": {
      "text/plain": [
       "9"
      ]
     },
     "execution_count": 101,
     "metadata": {},
     "output_type": "execute_result"
    },
    {
     "data": {
      "text/plain": [
       "9"
      ]
     },
     "execution_count": 101,
     "metadata": {},
     "output_type": "execute_result"
    },
    {
     "data": {
      "text/plain": [
       "8"
      ]
     },
     "execution_count": 101,
     "metadata": {},
     "output_type": "execute_result"
    },
    {
     "data": {
      "text/plain": [
       "9"
      ]
     },
     "execution_count": 101,
     "metadata": {},
     "output_type": "execute_result"
    },
    {
     "data": {
      "text/plain": [
       "11"
      ]
     },
     "execution_count": 101,
     "metadata": {},
     "output_type": "execute_result"
    },
    {
     "data": {
      "text/plain": [
       "8"
      ]
     },
     "execution_count": 101,
     "metadata": {},
     "output_type": "execute_result"
    },
    {
     "data": {
      "text/plain": [
       "9"
      ]
     },
     "execution_count": 101,
     "metadata": {},
     "output_type": "execute_result"
    },
    {
     "data": {
      "text/plain": [
       "11"
      ]
     },
     "execution_count": 101,
     "metadata": {},
     "output_type": "execute_result"
    },
    {
     "data": {
      "text/plain": [
       "9"
      ]
     },
     "execution_count": 101,
     "metadata": {},
     "output_type": "execute_result"
    },
    {
     "data": {
      "text/plain": [
       "9"
      ]
     },
     "execution_count": 101,
     "metadata": {},
     "output_type": "execute_result"
    },
    {
     "data": {
      "text/plain": [
       "9"
      ]
     },
     "execution_count": 101,
     "metadata": {},
     "output_type": "execute_result"
    },
    {
     "data": {
      "text/plain": [
       "8"
      ]
     },
     "execution_count": 101,
     "metadata": {},
     "output_type": "execute_result"
    },
    {
     "data": {
      "text/plain": [
       "11"
      ]
     },
     "execution_count": 101,
     "metadata": {},
     "output_type": "execute_result"
    },
    {
     "data": {
      "text/plain": [
       "10"
      ]
     },
     "execution_count": 101,
     "metadata": {},
     "output_type": "execute_result"
    },
    {
     "data": {
      "text/plain": [
       "9"
      ]
     },
     "execution_count": 101,
     "metadata": {},
     "output_type": "execute_result"
    },
    {
     "data": {
      "text/plain": [
       "11"
      ]
     },
     "execution_count": 101,
     "metadata": {},
     "output_type": "execute_result"
    },
    {
     "data": {
      "text/plain": [
       "13"
      ]
     },
     "execution_count": 101,
     "metadata": {},
     "output_type": "execute_result"
    },
    {
     "data": {
      "text/plain": [
       "10"
      ]
     },
     "execution_count": 101,
     "metadata": {},
     "output_type": "execute_result"
    },
    {
     "data": {
      "text/plain": [
       "11"
      ]
     },
     "execution_count": 101,
     "metadata": {},
     "output_type": "execute_result"
    },
    {
     "data": {
      "text/plain": [
       "12"
      ]
     },
     "execution_count": 101,
     "metadata": {},
     "output_type": "execute_result"
    },
    {
     "data": {
      "text/plain": [
       "10"
      ]
     },
     "execution_count": 101,
     "metadata": {},
     "output_type": "execute_result"
    },
    {
     "data": {
      "text/plain": [
       "12"
      ]
     },
     "execution_count": 101,
     "metadata": {},
     "output_type": "execute_result"
    },
    {
     "data": {
      "text/plain": [
       "10"
      ]
     },
     "execution_count": 101,
     "metadata": {},
     "output_type": "execute_result"
    },
    {
     "data": {
      "text/plain": [
       "10"
      ]
     },
     "execution_count": 101,
     "metadata": {},
     "output_type": "execute_result"
    },
    {
     "data": {
      "text/plain": [
       "10"
      ]
     },
     "execution_count": 101,
     "metadata": {},
     "output_type": "execute_result"
    },
    {
     "data": {
      "text/plain": [
       "10"
      ]
     },
     "execution_count": 101,
     "metadata": {},
     "output_type": "execute_result"
    },
    {
     "data": {
      "text/plain": [
       "10"
      ]
     },
     "execution_count": 101,
     "metadata": {},
     "output_type": "execute_result"
    },
    {
     "data": {
      "text/plain": [
       "10"
      ]
     },
     "execution_count": 101,
     "metadata": {},
     "output_type": "execute_result"
    },
    {
     "data": {
      "text/plain": [
       "12"
      ]
     },
     "execution_count": 101,
     "metadata": {},
     "output_type": "execute_result"
    },
    {
     "data": {
      "text/plain": [
       "9"
      ]
     },
     "execution_count": 101,
     "metadata": {},
     "output_type": "execute_result"
    },
    {
     "data": {
      "text/plain": [
       "8"
      ]
     },
     "execution_count": 101,
     "metadata": {},
     "output_type": "execute_result"
    },
    {
     "data": {
      "text/plain": [
       "11"
      ]
     },
     "execution_count": 101,
     "metadata": {},
     "output_type": "execute_result"
    },
    {
     "data": {
      "text/plain": [
       "11"
      ]
     },
     "execution_count": 101,
     "metadata": {},
     "output_type": "execute_result"
    },
    {
     "data": {
      "text/plain": [
       "10"
      ]
     },
     "execution_count": 101,
     "metadata": {},
     "output_type": "execute_result"
    },
    {
     "data": {
      "text/plain": [
       "11"
      ]
     },
     "execution_count": 101,
     "metadata": {},
     "output_type": "execute_result"
    },
    {
     "data": {
      "text/plain": [
       "10"
      ]
     },
     "execution_count": 101,
     "metadata": {},
     "output_type": "execute_result"
    },
    {
     "data": {
      "text/plain": [
       "12"
      ]
     },
     "execution_count": 101,
     "metadata": {},
     "output_type": "execute_result"
    },
    {
     "data": {
      "text/plain": [
       "10"
      ]
     },
     "execution_count": 101,
     "metadata": {},
     "output_type": "execute_result"
    },
    {
     "data": {
      "text/plain": [
       "10"
      ]
     },
     "execution_count": 101,
     "metadata": {},
     "output_type": "execute_result"
    },
    {
     "data": {
      "text/plain": [
       "10"
      ]
     },
     "execution_count": 101,
     "metadata": {},
     "output_type": "execute_result"
    },
    {
     "data": {
      "text/plain": [
       "11"
      ]
     },
     "execution_count": 101,
     "metadata": {},
     "output_type": "execute_result"
    },
    {
     "data": {
      "text/plain": [
       "12"
      ]
     },
     "execution_count": 101,
     "metadata": {},
     "output_type": "execute_result"
    },
    {
     "data": {
      "text/plain": [
       "11"
      ]
     },
     "execution_count": 101,
     "metadata": {},
     "output_type": "execute_result"
    },
    {
     "data": {
      "text/plain": [
       "9"
      ]
     },
     "execution_count": 101,
     "metadata": {},
     "output_type": "execute_result"
    },
    {
     "data": {
      "text/plain": [
       "10"
      ]
     },
     "execution_count": 101,
     "metadata": {},
     "output_type": "execute_result"
    },
    {
     "data": {
      "text/plain": [
       "9"
      ]
     },
     "execution_count": 101,
     "metadata": {},
     "output_type": "execute_result"
    },
    {
     "data": {
      "text/plain": [
       "10"
      ]
     },
     "execution_count": 101,
     "metadata": {},
     "output_type": "execute_result"
    },
    {
     "data": {
      "text/plain": [
       "11"
      ]
     },
     "execution_count": 101,
     "metadata": {},
     "output_type": "execute_result"
    },
    {
     "data": {
      "text/plain": [
       "10"
      ]
     },
     "execution_count": 101,
     "metadata": {},
     "output_type": "execute_result"
    },
    {
     "data": {
      "text/plain": [
       "10"
      ]
     },
     "execution_count": 101,
     "metadata": {},
     "output_type": "execute_result"
    },
    {
     "data": {
      "text/plain": [
       "9"
      ]
     },
     "execution_count": 101,
     "metadata": {},
     "output_type": "execute_result"
    },
    {
     "data": {
      "text/plain": [
       "14"
      ]
     },
     "execution_count": 101,
     "metadata": {},
     "output_type": "execute_result"
    },
    {
     "data": {
      "text/plain": [
       "11"
      ]
     },
     "execution_count": 101,
     "metadata": {},
     "output_type": "execute_result"
    },
    {
     "data": {
      "text/plain": [
       "9"
      ]
     },
     "execution_count": 101,
     "metadata": {},
     "output_type": "execute_result"
    },
    {
     "data": {
      "text/plain": [
       "11"
      ]
     },
     "execution_count": 101,
     "metadata": {},
     "output_type": "execute_result"
    },
    {
     "data": {
      "text/plain": [
       "11"
      ]
     },
     "execution_count": 101,
     "metadata": {},
     "output_type": "execute_result"
    },
    {
     "data": {
      "text/plain": [
       "10"
      ]
     },
     "execution_count": 101,
     "metadata": {},
     "output_type": "execute_result"
    },
    {
     "data": {
      "text/plain": [
       "8"
      ]
     },
     "execution_count": 101,
     "metadata": {},
     "output_type": "execute_result"
    },
    {
     "data": {
      "text/plain": [
       "8"
      ]
     },
     "execution_count": 101,
     "metadata": {},
     "output_type": "execute_result"
    },
    {
     "data": {
      "text/plain": [
       "9"
      ]
     },
     "execution_count": 101,
     "metadata": {},
     "output_type": "execute_result"
    },
    {
     "data": {
      "text/plain": [
       "9"
      ]
     },
     "execution_count": 101,
     "metadata": {},
     "output_type": "execute_result"
    },
    {
     "data": {
      "text/plain": [
       "9"
      ]
     },
     "execution_count": 101,
     "metadata": {},
     "output_type": "execute_result"
    },
    {
     "data": {
      "text/plain": [
       "12"
      ]
     },
     "execution_count": 101,
     "metadata": {},
     "output_type": "execute_result"
    },
    {
     "data": {
      "text/plain": [
       "10"
      ]
     },
     "execution_count": 101,
     "metadata": {},
     "output_type": "execute_result"
    },
    {
     "data": {
      "text/plain": [
       "10"
      ]
     },
     "execution_count": 101,
     "metadata": {},
     "output_type": "execute_result"
    },
    {
     "data": {
      "text/plain": [
       "10"
      ]
     },
     "execution_count": 101,
     "metadata": {},
     "output_type": "execute_result"
    },
    {
     "data": {
      "text/plain": [
       "10"
      ]
     },
     "execution_count": 101,
     "metadata": {},
     "output_type": "execute_result"
    },
    {
     "data": {
      "text/plain": [
       "10"
      ]
     },
     "execution_count": 101,
     "metadata": {},
     "output_type": "execute_result"
    },
    {
     "data": {
      "text/plain": [
       "11"
      ]
     },
     "execution_count": 101,
     "metadata": {},
     "output_type": "execute_result"
    },
    {
     "data": {
      "text/plain": [
       "11"
      ]
     },
     "execution_count": 101,
     "metadata": {},
     "output_type": "execute_result"
    },
    {
     "data": {
      "text/plain": [
       "11"
      ]
     },
     "execution_count": 101,
     "metadata": {},
     "output_type": "execute_result"
    },
    {
     "data": {
      "text/plain": [
       "10"
      ]
     },
     "execution_count": 101,
     "metadata": {},
     "output_type": "execute_result"
    },
    {
     "data": {
      "text/plain": [
       "10"
      ]
     },
     "execution_count": 101,
     "metadata": {},
     "output_type": "execute_result"
    },
    {
     "data": {
      "text/plain": [
       "9"
      ]
     },
     "execution_count": 101,
     "metadata": {},
     "output_type": "execute_result"
    },
    {
     "data": {
      "text/plain": [
       "10"
      ]
     },
     "execution_count": 101,
     "metadata": {},
     "output_type": "execute_result"
    },
    {
     "data": {
      "text/plain": [
       "10"
      ]
     },
     "execution_count": 101,
     "metadata": {},
     "output_type": "execute_result"
    },
    {
     "data": {
      "text/plain": [
       "11"
      ]
     },
     "execution_count": 101,
     "metadata": {},
     "output_type": "execute_result"
    },
    {
     "data": {
      "text/plain": [
       "10"
      ]
     },
     "execution_count": 101,
     "metadata": {},
     "output_type": "execute_result"
    },
    {
     "data": {
      "text/plain": [
       "9"
      ]
     },
     "execution_count": 101,
     "metadata": {},
     "output_type": "execute_result"
    },
    {
     "data": {
      "text/plain": [
       "8"
      ]
     },
     "execution_count": 101,
     "metadata": {},
     "output_type": "execute_result"
    },
    {
     "data": {
      "text/plain": [
       "9"
      ]
     },
     "execution_count": 101,
     "metadata": {},
     "output_type": "execute_result"
    },
    {
     "data": {
      "text/plain": [
       "9"
      ]
     },
     "execution_count": 101,
     "metadata": {},
     "output_type": "execute_result"
    },
    {
     "data": {
      "text/plain": [
       "11"
      ]
     },
     "execution_count": 101,
     "metadata": {},
     "output_type": "execute_result"
    },
    {
     "data": {
      "text/plain": [
       "10"
      ]
     },
     "execution_count": 101,
     "metadata": {},
     "output_type": "execute_result"
    },
    {
     "data": {
      "text/plain": [
       "9"
      ]
     },
     "execution_count": 101,
     "metadata": {},
     "output_type": "execute_result"
    },
    {
     "data": {
      "text/plain": [
       "12"
      ]
     },
     "execution_count": 101,
     "metadata": {},
     "output_type": "execute_result"
    },
    {
     "data": {
      "text/plain": [
       "10"
      ]
     },
     "execution_count": 101,
     "metadata": {},
     "output_type": "execute_result"
    },
    {
     "data": {
      "text/plain": [
       "10"
      ]
     },
     "execution_count": 101,
     "metadata": {},
     "output_type": "execute_result"
    },
    {
     "data": {
      "text/plain": [
       "13"
      ]
     },
     "execution_count": 101,
     "metadata": {},
     "output_type": "execute_result"
    },
    {
     "data": {
      "text/plain": [
       "12"
      ]
     },
     "execution_count": 101,
     "metadata": {},
     "output_type": "execute_result"
    },
    {
     "data": {
      "text/plain": [
       "10"
      ]
     },
     "execution_count": 101,
     "metadata": {},
     "output_type": "execute_result"
    },
    {
     "data": {
      "text/plain": [
       "10"
      ]
     },
     "execution_count": 101,
     "metadata": {},
     "output_type": "execute_result"
    },
    {
     "data": {
      "text/plain": [
       "10"
      ]
     },
     "execution_count": 101,
     "metadata": {},
     "output_type": "execute_result"
    },
    {
     "data": {
      "text/plain": [
       "11"
      ]
     },
     "execution_count": 101,
     "metadata": {},
     "output_type": "execute_result"
    },
    {
     "data": {
      "text/plain": [
       "10"
      ]
     },
     "execution_count": 101,
     "metadata": {},
     "output_type": "execute_result"
    },
    {
     "data": {
      "text/plain": [
       "9"
      ]
     },
     "execution_count": 101,
     "metadata": {},
     "output_type": "execute_result"
    },
    {
     "data": {
      "text/plain": [
       "9"
      ]
     },
     "execution_count": 101,
     "metadata": {},
     "output_type": "execute_result"
    },
    {
     "data": {
      "text/plain": [
       "10"
      ]
     },
     "execution_count": 101,
     "metadata": {},
     "output_type": "execute_result"
    },
    {
     "data": {
      "text/plain": [
       "11"
      ]
     },
     "execution_count": 101,
     "metadata": {},
     "output_type": "execute_result"
    },
    {
     "data": {
      "text/plain": [
       "8"
      ]
     },
     "execution_count": 101,
     "metadata": {},
     "output_type": "execute_result"
    },
    {
     "data": {
      "text/plain": [
       "12"
      ]
     },
     "execution_count": 101,
     "metadata": {},
     "output_type": "execute_result"
    },
    {
     "data": {
      "text/plain": [
       "10"
      ]
     },
     "execution_count": 101,
     "metadata": {},
     "output_type": "execute_result"
    },
    {
     "data": {
      "text/plain": [
       "9"
      ]
     },
     "execution_count": 101,
     "metadata": {},
     "output_type": "execute_result"
    },
    {
     "data": {
      "text/plain": [
       "8"
      ]
     },
     "execution_count": 101,
     "metadata": {},
     "output_type": "execute_result"
    },
    {
     "data": {
      "text/plain": [
       "11"
      ]
     },
     "execution_count": 101,
     "metadata": {},
     "output_type": "execute_result"
    },
    {
     "data": {
      "text/plain": [
       "10"
      ]
     },
     "execution_count": 101,
     "metadata": {},
     "output_type": "execute_result"
    },
    {
     "data": {
      "text/plain": [
       "9"
      ]
     },
     "execution_count": 101,
     "metadata": {},
     "output_type": "execute_result"
    },
    {
     "data": {
      "text/plain": [
       "10"
      ]
     },
     "execution_count": 101,
     "metadata": {},
     "output_type": "execute_result"
    },
    {
     "data": {
      "text/plain": [
       "12"
      ]
     },
     "execution_count": 101,
     "metadata": {},
     "output_type": "execute_result"
    },
    {
     "data": {
      "text/plain": [
       "10"
      ]
     },
     "execution_count": 101,
     "metadata": {},
     "output_type": "execute_result"
    },
    {
     "data": {
      "text/plain": [
       "10"
      ]
     },
     "execution_count": 101,
     "metadata": {},
     "output_type": "execute_result"
    },
    {
     "data": {
      "text/plain": [
       "10"
      ]
     },
     "execution_count": 101,
     "metadata": {},
     "output_type": "execute_result"
    },
    {
     "data": {
      "text/plain": [
       "10"
      ]
     },
     "execution_count": 101,
     "metadata": {},
     "output_type": "execute_result"
    },
    {
     "data": {
      "text/plain": [
       "11"
      ]
     },
     "execution_count": 101,
     "metadata": {},
     "output_type": "execute_result"
    },
    {
     "data": {
      "text/plain": [
       "11"
      ]
     },
     "execution_count": 101,
     "metadata": {},
     "output_type": "execute_result"
    },
    {
     "data": {
      "text/plain": [
       "11"
      ]
     },
     "execution_count": 101,
     "metadata": {},
     "output_type": "execute_result"
    },
    {
     "data": {
      "text/plain": [
       "10"
      ]
     },
     "execution_count": 101,
     "metadata": {},
     "output_type": "execute_result"
    },
    {
     "data": {
      "text/plain": [
       "9"
      ]
     },
     "execution_count": 101,
     "metadata": {},
     "output_type": "execute_result"
    },
    {
     "data": {
      "text/plain": [
       "9"
      ]
     },
     "execution_count": 101,
     "metadata": {},
     "output_type": "execute_result"
    },
    {
     "data": {
      "text/plain": [
       "9"
      ]
     },
     "execution_count": 101,
     "metadata": {},
     "output_type": "execute_result"
    },
    {
     "data": {
      "text/plain": [
       "8"
      ]
     },
     "execution_count": 101,
     "metadata": {},
     "output_type": "execute_result"
    },
    {
     "data": {
      "text/plain": [
       "9"
      ]
     },
     "execution_count": 101,
     "metadata": {},
     "output_type": "execute_result"
    },
    {
     "data": {
      "text/plain": [
       "12"
      ]
     },
     "execution_count": 101,
     "metadata": {},
     "output_type": "execute_result"
    },
    {
     "data": {
      "text/plain": [
       "9"
      ]
     },
     "execution_count": 101,
     "metadata": {},
     "output_type": "execute_result"
    },
    {
     "data": {
      "text/plain": [
       "7"
      ]
     },
     "execution_count": 101,
     "metadata": {},
     "output_type": "execute_result"
    },
    {
     "data": {
      "text/plain": [
       "8"
      ]
     },
     "execution_count": 101,
     "metadata": {},
     "output_type": "execute_result"
    },
    {
     "data": {
      "text/plain": [
       "8"
      ]
     },
     "execution_count": 101,
     "metadata": {},
     "output_type": "execute_result"
    },
    {
     "data": {
      "text/plain": [
       "7"
      ]
     },
     "execution_count": 101,
     "metadata": {},
     "output_type": "execute_result"
    },
    {
     "data": {
      "text/plain": [
       "10"
      ]
     },
     "execution_count": 101,
     "metadata": {},
     "output_type": "execute_result"
    },
    {
     "data": {
      "text/plain": [
       "7"
      ]
     },
     "execution_count": 101,
     "metadata": {},
     "output_type": "execute_result"
    },
    {
     "data": {
      "text/plain": [
       "8"
      ]
     },
     "execution_count": 101,
     "metadata": {},
     "output_type": "execute_result"
    },
    {
     "data": {
      "text/plain": [
       "7"
      ]
     },
     "execution_count": 101,
     "metadata": {},
     "output_type": "execute_result"
    },
    {
     "data": {
      "text/plain": [
       "8"
      ]
     },
     "execution_count": 101,
     "metadata": {},
     "output_type": "execute_result"
    },
    {
     "data": {
      "text/plain": [
       "11"
      ]
     },
     "execution_count": 101,
     "metadata": {},
     "output_type": "execute_result"
    },
    {
     "data": {
      "text/plain": [
       "11"
      ]
     },
     "execution_count": 101,
     "metadata": {},
     "output_type": "execute_result"
    },
    {
     "data": {
      "text/plain": [
       "11"
      ]
     },
     "execution_count": 101,
     "metadata": {},
     "output_type": "execute_result"
    },
    {
     "data": {
      "text/plain": [
       "10"
      ]
     },
     "execution_count": 101,
     "metadata": {},
     "output_type": "execute_result"
    },
    {
     "data": {
      "text/plain": [
       "8"
      ]
     },
     "execution_count": 101,
     "metadata": {},
     "output_type": "execute_result"
    },
    {
     "data": {
      "text/plain": [
       "9"
      ]
     },
     "execution_count": 101,
     "metadata": {},
     "output_type": "execute_result"
    },
    {
     "data": {
      "text/plain": [
       "8"
      ]
     },
     "execution_count": 101,
     "metadata": {},
     "output_type": "execute_result"
    },
    {
     "data": {
      "text/plain": [
       "9"
      ]
     },
     "execution_count": 101,
     "metadata": {},
     "output_type": "execute_result"
    },
    {
     "data": {
      "text/plain": [
       "9"
      ]
     },
     "execution_count": 101,
     "metadata": {},
     "output_type": "execute_result"
    },
    {
     "data": {
      "text/plain": [
       "8"
      ]
     },
     "execution_count": 101,
     "metadata": {},
     "output_type": "execute_result"
    },
    {
     "data": {
      "text/plain": [
       "11"
      ]
     },
     "execution_count": 101,
     "metadata": {},
     "output_type": "execute_result"
    },
    {
     "data": {
      "text/plain": [
       "11"
      ]
     },
     "execution_count": 101,
     "metadata": {},
     "output_type": "execute_result"
    },
    {
     "data": {
      "text/plain": [
       "13"
      ]
     },
     "execution_count": 101,
     "metadata": {},
     "output_type": "execute_result"
    },
    {
     "data": {
      "text/plain": [
       "10"
      ]
     },
     "execution_count": 101,
     "metadata": {},
     "output_type": "execute_result"
    },
    {
     "data": {
      "text/plain": [
       "10"
      ]
     },
     "execution_count": 101,
     "metadata": {},
     "output_type": "execute_result"
    },
    {
     "data": {
      "text/plain": [
       "10"
      ]
     },
     "execution_count": 101,
     "metadata": {},
     "output_type": "execute_result"
    },
    {
     "data": {
      "text/plain": [
       "10"
      ]
     },
     "execution_count": 101,
     "metadata": {},
     "output_type": "execute_result"
    },
    {
     "data": {
      "text/plain": [
       "10"
      ]
     },
     "execution_count": 101,
     "metadata": {},
     "output_type": "execute_result"
    },
    {
     "data": {
      "text/plain": [
       "12"
      ]
     },
     "execution_count": 101,
     "metadata": {},
     "output_type": "execute_result"
    },
    {
     "data": {
      "text/plain": [
       "11"
      ]
     },
     "execution_count": 101,
     "metadata": {},
     "output_type": "execute_result"
    },
    {
     "data": {
      "text/plain": [
       "10"
      ]
     },
     "execution_count": 101,
     "metadata": {},
     "output_type": "execute_result"
    },
    {
     "data": {
      "text/plain": [
       "11"
      ]
     },
     "execution_count": 101,
     "metadata": {},
     "output_type": "execute_result"
    },
    {
     "data": {
      "text/plain": [
       "10"
      ]
     },
     "execution_count": 101,
     "metadata": {},
     "output_type": "execute_result"
    },
    {
     "data": {
      "text/plain": [
       "10"
      ]
     },
     "execution_count": 101,
     "metadata": {},
     "output_type": "execute_result"
    },
    {
     "data": {
      "text/plain": [
       "11"
      ]
     },
     "execution_count": 101,
     "metadata": {},
     "output_type": "execute_result"
    },
    {
     "data": {
      "text/plain": [
       "10"
      ]
     },
     "execution_count": 101,
     "metadata": {},
     "output_type": "execute_result"
    },
    {
     "data": {
      "text/plain": [
       "9"
      ]
     },
     "execution_count": 101,
     "metadata": {},
     "output_type": "execute_result"
    },
    {
     "data": {
      "text/plain": [
       "10"
      ]
     },
     "execution_count": 101,
     "metadata": {},
     "output_type": "execute_result"
    },
    {
     "data": {
      "text/plain": [
       "9"
      ]
     },
     "execution_count": 101,
     "metadata": {},
     "output_type": "execute_result"
    },
    {
     "data": {
      "text/plain": [
       "9"
      ]
     },
     "execution_count": 101,
     "metadata": {},
     "output_type": "execute_result"
    },
    {
     "data": {
      "text/plain": [
       "10"
      ]
     },
     "execution_count": 101,
     "metadata": {},
     "output_type": "execute_result"
    },
    {
     "data": {
      "text/plain": [
       "12"
      ]
     },
     "execution_count": 101,
     "metadata": {},
     "output_type": "execute_result"
    },
    {
     "data": {
      "text/plain": [
       "10"
      ]
     },
     "execution_count": 101,
     "metadata": {},
     "output_type": "execute_result"
    },
    {
     "data": {
      "text/plain": [
       "10"
      ]
     },
     "execution_count": 101,
     "metadata": {},
     "output_type": "execute_result"
    },
    {
     "data": {
      "text/plain": [
       "11"
      ]
     },
     "execution_count": 101,
     "metadata": {},
     "output_type": "execute_result"
    },
    {
     "data": {
      "text/plain": [
       "11"
      ]
     },
     "execution_count": 101,
     "metadata": {},
     "output_type": "execute_result"
    },
    {
     "data": {
      "text/plain": [
       "11"
      ]
     },
     "execution_count": 101,
     "metadata": {},
     "output_type": "execute_result"
    },
    {
     "data": {
      "text/plain": [
       "9"
      ]
     },
     "execution_count": 101,
     "metadata": {},
     "output_type": "execute_result"
    },
    {
     "data": {
      "text/plain": [
       "11"
      ]
     },
     "execution_count": 101,
     "metadata": {},
     "output_type": "execute_result"
    },
    {
     "data": {
      "text/plain": [
       "9"
      ]
     },
     "execution_count": 101,
     "metadata": {},
     "output_type": "execute_result"
    },
    {
     "data": {
      "text/plain": [
       "11"
      ]
     },
     "execution_count": 101,
     "metadata": {},
     "output_type": "execute_result"
    },
    {
     "data": {
      "text/plain": [
       "12"
      ]
     },
     "execution_count": 101,
     "metadata": {},
     "output_type": "execute_result"
    },
    {
     "data": {
      "text/plain": [
       "10"
      ]
     },
     "execution_count": 101,
     "metadata": {},
     "output_type": "execute_result"
    },
    {
     "data": {
      "text/plain": [
       "11"
      ]
     },
     "execution_count": 101,
     "metadata": {},
     "output_type": "execute_result"
    },
    {
     "data": {
      "text/plain": [
       "11"
      ]
     },
     "execution_count": 101,
     "metadata": {},
     "output_type": "execute_result"
    },
    {
     "data": {
      "text/plain": [
       "9"
      ]
     },
     "execution_count": 101,
     "metadata": {},
     "output_type": "execute_result"
    },
    {
     "data": {
      "text/plain": [
       "10"
      ]
     },
     "execution_count": 101,
     "metadata": {},
     "output_type": "execute_result"
    },
    {
     "data": {
      "text/plain": [
       "12"
      ]
     },
     "execution_count": 101,
     "metadata": {},
     "output_type": "execute_result"
    },
    {
     "data": {
      "text/plain": [
       "13"
      ]
     },
     "execution_count": 101,
     "metadata": {},
     "output_type": "execute_result"
    },
    {
     "data": {
      "text/plain": [
       "11"
      ]
     },
     "execution_count": 101,
     "metadata": {},
     "output_type": "execute_result"
    },
    {
     "data": {
      "text/plain": [
       "11"
      ]
     },
     "execution_count": 101,
     "metadata": {},
     "output_type": "execute_result"
    },
    {
     "data": {
      "text/plain": [
       "12"
      ]
     },
     "execution_count": 101,
     "metadata": {},
     "output_type": "execute_result"
    },
    {
     "data": {
      "text/plain": [
       "10"
      ]
     },
     "execution_count": 101,
     "metadata": {},
     "output_type": "execute_result"
    },
    {
     "data": {
      "text/plain": [
       "10"
      ]
     },
     "execution_count": 101,
     "metadata": {},
     "output_type": "execute_result"
    },
    {
     "data": {
      "text/plain": [
       "11"
      ]
     },
     "execution_count": 101,
     "metadata": {},
     "output_type": "execute_result"
    },
    {
     "data": {
      "text/plain": [
       "11"
      ]
     },
     "execution_count": 101,
     "metadata": {},
     "output_type": "execute_result"
    },
    {
     "data": {
      "text/plain": [
       "9"
      ]
     },
     "execution_count": 101,
     "metadata": {},
     "output_type": "execute_result"
    },
    {
     "data": {
      "text/plain": [
       "11"
      ]
     },
     "execution_count": 101,
     "metadata": {},
     "output_type": "execute_result"
    },
    {
     "data": {
      "text/plain": [
       "10"
      ]
     },
     "execution_count": 101,
     "metadata": {},
     "output_type": "execute_result"
    },
    {
     "data": {
      "text/plain": [
       "11"
      ]
     },
     "execution_count": 101,
     "metadata": {},
     "output_type": "execute_result"
    },
    {
     "data": {
      "text/plain": [
       "9"
      ]
     },
     "execution_count": 101,
     "metadata": {},
     "output_type": "execute_result"
    },
    {
     "data": {
      "text/plain": [
       "11"
      ]
     },
     "execution_count": 101,
     "metadata": {},
     "output_type": "execute_result"
    },
    {
     "data": {
      "text/plain": [
       "10"
      ]
     },
     "execution_count": 101,
     "metadata": {},
     "output_type": "execute_result"
    },
    {
     "data": {
      "text/plain": [
       "10"
      ]
     },
     "execution_count": 101,
     "metadata": {},
     "output_type": "execute_result"
    },
    {
     "data": {
      "text/plain": [
       "10"
      ]
     },
     "execution_count": 101,
     "metadata": {},
     "output_type": "execute_result"
    },
    {
     "data": {
      "text/plain": [
       "10"
      ]
     },
     "execution_count": 101,
     "metadata": {},
     "output_type": "execute_result"
    },
    {
     "data": {
      "text/plain": [
       "11"
      ]
     },
     "execution_count": 101,
     "metadata": {},
     "output_type": "execute_result"
    },
    {
     "data": {
      "text/plain": [
       "12"
      ]
     },
     "execution_count": 101,
     "metadata": {},
     "output_type": "execute_result"
    },
    {
     "data": {
      "text/plain": [
       "11"
      ]
     },
     "execution_count": 101,
     "metadata": {},
     "output_type": "execute_result"
    },
    {
     "data": {
      "text/plain": [
       "9"
      ]
     },
     "execution_count": 101,
     "metadata": {},
     "output_type": "execute_result"
    },
    {
     "data": {
      "text/plain": [
       "12"
      ]
     },
     "execution_count": 101,
     "metadata": {},
     "output_type": "execute_result"
    },
    {
     "data": {
      "text/plain": [
       "13"
      ]
     },
     "execution_count": 101,
     "metadata": {},
     "output_type": "execute_result"
    },
    {
     "data": {
      "text/plain": [
       "9"
      ]
     },
     "execution_count": 101,
     "metadata": {},
     "output_type": "execute_result"
    },
    {
     "data": {
      "text/plain": [
       "10"
      ]
     },
     "execution_count": 101,
     "metadata": {},
     "output_type": "execute_result"
    },
    {
     "data": {
      "text/plain": [
       "9"
      ]
     },
     "execution_count": 101,
     "metadata": {},
     "output_type": "execute_result"
    },
    {
     "data": {
      "text/plain": [
       "10"
      ]
     },
     "execution_count": 101,
     "metadata": {},
     "output_type": "execute_result"
    },
    {
     "data": {
      "text/plain": [
       "9"
      ]
     },
     "execution_count": 101,
     "metadata": {},
     "output_type": "execute_result"
    },
    {
     "data": {
      "text/plain": [
       "8"
      ]
     },
     "execution_count": 101,
     "metadata": {},
     "output_type": "execute_result"
    },
    {
     "data": {
      "text/plain": [
       "12"
      ]
     },
     "execution_count": 101,
     "metadata": {},
     "output_type": "execute_result"
    },
    {
     "data": {
      "text/plain": [
       "9"
      ]
     },
     "execution_count": 101,
     "metadata": {},
     "output_type": "execute_result"
    },
    {
     "data": {
      "text/plain": [
       "10"
      ]
     },
     "execution_count": 101,
     "metadata": {},
     "output_type": "execute_result"
    },
    {
     "data": {
      "text/plain": [
       "10"
      ]
     },
     "execution_count": 101,
     "metadata": {},
     "output_type": "execute_result"
    },
    {
     "data": {
      "text/plain": [
       "9"
      ]
     },
     "execution_count": 101,
     "metadata": {},
     "output_type": "execute_result"
    },
    {
     "data": {
      "text/plain": [
       "10"
      ]
     },
     "execution_count": 101,
     "metadata": {},
     "output_type": "execute_result"
    },
    {
     "data": {
      "text/plain": [
       "10"
      ]
     },
     "execution_count": 101,
     "metadata": {},
     "output_type": "execute_result"
    },
    {
     "data": {
      "text/plain": [
       "9"
      ]
     },
     "execution_count": 101,
     "metadata": {},
     "output_type": "execute_result"
    },
    {
     "data": {
      "text/plain": [
       "9"
      ]
     },
     "execution_count": 101,
     "metadata": {},
     "output_type": "execute_result"
    },
    {
     "data": {
      "text/plain": [
       "8"
      ]
     },
     "execution_count": 101,
     "metadata": {},
     "output_type": "execute_result"
    },
    {
     "data": {
      "text/plain": [
       "10"
      ]
     },
     "execution_count": 101,
     "metadata": {},
     "output_type": "execute_result"
    },
    {
     "data": {
      "text/plain": [
       "9"
      ]
     },
     "execution_count": 101,
     "metadata": {},
     "output_type": "execute_result"
    },
    {
     "data": {
      "text/plain": [
       "8"
      ]
     },
     "execution_count": 101,
     "metadata": {},
     "output_type": "execute_result"
    },
    {
     "data": {
      "text/plain": [
       "10"
      ]
     },
     "execution_count": 101,
     "metadata": {},
     "output_type": "execute_result"
    },
    {
     "data": {
      "text/plain": [
       "8"
      ]
     },
     "execution_count": 101,
     "metadata": {},
     "output_type": "execute_result"
    },
    {
     "data": {
      "text/plain": [
       "7"
      ]
     },
     "execution_count": 101,
     "metadata": {},
     "output_type": "execute_result"
    },
    {
     "data": {
      "text/plain": [
       "11"
      ]
     },
     "execution_count": 101,
     "metadata": {},
     "output_type": "execute_result"
    },
    {
     "data": {
      "text/plain": [
       "12"
      ]
     },
     "execution_count": 101,
     "metadata": {},
     "output_type": "execute_result"
    },
    {
     "data": {
      "text/plain": [
       "9"
      ]
     },
     "execution_count": 101,
     "metadata": {},
     "output_type": "execute_result"
    },
    {
     "data": {
      "text/plain": [
       "12"
      ]
     },
     "execution_count": 101,
     "metadata": {},
     "output_type": "execute_result"
    },
    {
     "data": {
      "text/plain": [
       "9"
      ]
     },
     "execution_count": 101,
     "metadata": {},
     "output_type": "execute_result"
    },
    {
     "data": {
      "text/plain": [
       "10"
      ]
     },
     "execution_count": 101,
     "metadata": {},
     "output_type": "execute_result"
    },
    {
     "data": {
      "text/plain": [
       "10"
      ]
     },
     "execution_count": 101,
     "metadata": {},
     "output_type": "execute_result"
    },
    {
     "data": {
      "text/plain": [
       "12"
      ]
     },
     "execution_count": 101,
     "metadata": {},
     "output_type": "execute_result"
    },
    {
     "data": {
      "text/plain": [
       "11"
      ]
     },
     "execution_count": 101,
     "metadata": {},
     "output_type": "execute_result"
    },
    {
     "data": {
      "text/plain": [
       "11"
      ]
     },
     "execution_count": 101,
     "metadata": {},
     "output_type": "execute_result"
    },
    {
     "data": {
      "text/plain": [
       "10"
      ]
     },
     "execution_count": 101,
     "metadata": {},
     "output_type": "execute_result"
    },
    {
     "data": {
      "text/plain": [
       "11"
      ]
     },
     "execution_count": 101,
     "metadata": {},
     "output_type": "execute_result"
    },
    {
     "data": {
      "text/plain": [
       "10"
      ]
     },
     "execution_count": 101,
     "metadata": {},
     "output_type": "execute_result"
    },
    {
     "data": {
      "text/plain": [
       "10"
      ]
     },
     "execution_count": 101,
     "metadata": {},
     "output_type": "execute_result"
    },
    {
     "data": {
      "text/plain": [
       "9"
      ]
     },
     "execution_count": 101,
     "metadata": {},
     "output_type": "execute_result"
    },
    {
     "data": {
      "text/plain": [
       "10"
      ]
     },
     "execution_count": 101,
     "metadata": {},
     "output_type": "execute_result"
    },
    {
     "data": {
      "text/plain": [
       "10"
      ]
     },
     "execution_count": 101,
     "metadata": {},
     "output_type": "execute_result"
    },
    {
     "data": {
      "text/plain": [
       "9"
      ]
     },
     "execution_count": 101,
     "metadata": {},
     "output_type": "execute_result"
    },
    {
     "data": {
      "text/plain": [
       "9"
      ]
     },
     "execution_count": 101,
     "metadata": {},
     "output_type": "execute_result"
    },
    {
     "data": {
      "text/plain": [
       "10"
      ]
     },
     "execution_count": 101,
     "metadata": {},
     "output_type": "execute_result"
    },
    {
     "data": {
      "text/plain": [
       "10"
      ]
     },
     "execution_count": 101,
     "metadata": {},
     "output_type": "execute_result"
    },
    {
     "data": {
      "text/plain": [
       "10"
      ]
     },
     "execution_count": 101,
     "metadata": {},
     "output_type": "execute_result"
    },
    {
     "data": {
      "text/plain": [
       "8"
      ]
     },
     "execution_count": 101,
     "metadata": {},
     "output_type": "execute_result"
    },
    {
     "data": {
      "text/plain": [
       "10"
      ]
     },
     "execution_count": 101,
     "metadata": {},
     "output_type": "execute_result"
    },
    {
     "data": {
      "text/plain": [
       "9"
      ]
     },
     "execution_count": 101,
     "metadata": {},
     "output_type": "execute_result"
    },
    {
     "data": {
      "text/plain": [
       "8"
      ]
     },
     "execution_count": 101,
     "metadata": {},
     "output_type": "execute_result"
    },
    {
     "data": {
      "text/plain": [
       "10"
      ]
     },
     "execution_count": 101,
     "metadata": {},
     "output_type": "execute_result"
    },
    {
     "data": {
      "text/plain": [
       "10"
      ]
     },
     "execution_count": 101,
     "metadata": {},
     "output_type": "execute_result"
    },
    {
     "data": {
      "text/plain": [
       "8"
      ]
     },
     "execution_count": 101,
     "metadata": {},
     "output_type": "execute_result"
    },
    {
     "data": {
      "text/plain": [
       "10"
      ]
     },
     "execution_count": 101,
     "metadata": {},
     "output_type": "execute_result"
    },
    {
     "data": {
      "text/plain": [
       "9"
      ]
     },
     "execution_count": 101,
     "metadata": {},
     "output_type": "execute_result"
    },
    {
     "data": {
      "text/plain": [
       "10"
      ]
     },
     "execution_count": 101,
     "metadata": {},
     "output_type": "execute_result"
    },
    {
     "data": {
      "text/plain": [
       "11"
      ]
     },
     "execution_count": 101,
     "metadata": {},
     "output_type": "execute_result"
    },
    {
     "data": {
      "text/plain": [
       "9"
      ]
     },
     "execution_count": 101,
     "metadata": {},
     "output_type": "execute_result"
    },
    {
     "data": {
      "text/plain": [
       "8"
      ]
     },
     "execution_count": 101,
     "metadata": {},
     "output_type": "execute_result"
    },
    {
     "data": {
      "text/plain": [
       "9"
      ]
     },
     "execution_count": 101,
     "metadata": {},
     "output_type": "execute_result"
    },
    {
     "data": {
      "text/plain": [
       "7"
      ]
     },
     "execution_count": 101,
     "metadata": {},
     "output_type": "execute_result"
    },
    {
     "data": {
      "text/plain": [
       "8"
      ]
     },
     "execution_count": 101,
     "metadata": {},
     "output_type": "execute_result"
    },
    {
     "data": {
      "text/plain": [
       "10"
      ]
     },
     "execution_count": 101,
     "metadata": {},
     "output_type": "execute_result"
    },
    {
     "data": {
      "text/plain": [
       "9"
      ]
     },
     "execution_count": 101,
     "metadata": {},
     "output_type": "execute_result"
    },
    {
     "data": {
      "text/plain": [
       "9"
      ]
     },
     "execution_count": 101,
     "metadata": {},
     "output_type": "execute_result"
    },
    {
     "data": {
      "text/plain": [
       "9"
      ]
     },
     "execution_count": 101,
     "metadata": {},
     "output_type": "execute_result"
    },
    {
     "data": {
      "text/plain": [
       "9"
      ]
     },
     "execution_count": 101,
     "metadata": {},
     "output_type": "execute_result"
    },
    {
     "data": {
      "text/plain": [
       "9"
      ]
     },
     "execution_count": 101,
     "metadata": {},
     "output_type": "execute_result"
    },
    {
     "data": {
      "text/plain": [
       "12"
      ]
     },
     "execution_count": 101,
     "metadata": {},
     "output_type": "execute_result"
    },
    {
     "data": {
      "text/plain": [
       "8"
      ]
     },
     "execution_count": 101,
     "metadata": {},
     "output_type": "execute_result"
    },
    {
     "data": {
      "text/plain": [
       "8"
      ]
     },
     "execution_count": 101,
     "metadata": {},
     "output_type": "execute_result"
    },
    {
     "data": {
      "text/plain": [
       "9"
      ]
     },
     "execution_count": 101,
     "metadata": {},
     "output_type": "execute_result"
    },
    {
     "data": {
      "text/plain": [
       "10"
      ]
     },
     "execution_count": 101,
     "metadata": {},
     "output_type": "execute_result"
    },
    {
     "data": {
      "text/plain": [
       "8"
      ]
     },
     "execution_count": 101,
     "metadata": {},
     "output_type": "execute_result"
    },
    {
     "data": {
      "text/plain": [
       "7"
      ]
     },
     "execution_count": 101,
     "metadata": {},
     "output_type": "execute_result"
    },
    {
     "data": {
      "text/plain": [
       "8"
      ]
     },
     "execution_count": 101,
     "metadata": {},
     "output_type": "execute_result"
    },
    {
     "data": {
      "text/plain": [
       "10"
      ]
     },
     "execution_count": 101,
     "metadata": {},
     "output_type": "execute_result"
    },
    {
     "data": {
      "text/plain": [
       "8"
      ]
     },
     "execution_count": 101,
     "metadata": {},
     "output_type": "execute_result"
    },
    {
     "data": {
      "text/plain": [
       "7"
      ]
     },
     "execution_count": 101,
     "metadata": {},
     "output_type": "execute_result"
    },
    {
     "data": {
      "text/plain": [
       "8"
      ]
     },
     "execution_count": 101,
     "metadata": {},
     "output_type": "execute_result"
    },
    {
     "data": {
      "text/plain": [
       "11"
      ]
     },
     "execution_count": 101,
     "metadata": {},
     "output_type": "execute_result"
    },
    {
     "data": {
      "text/plain": [
       "9"
      ]
     },
     "execution_count": 101,
     "metadata": {},
     "output_type": "execute_result"
    },
    {
     "data": {
      "text/plain": [
       "11"
      ]
     },
     "execution_count": 101,
     "metadata": {},
     "output_type": "execute_result"
    },
    {
     "data": {
      "text/plain": [
       "11"
      ]
     },
     "execution_count": 101,
     "metadata": {},
     "output_type": "execute_result"
    },
    {
     "data": {
      "text/plain": [
       "11"
      ]
     },
     "execution_count": 101,
     "metadata": {},
     "output_type": "execute_result"
    },
    {
     "data": {
      "text/plain": [
       "11"
      ]
     },
     "execution_count": 101,
     "metadata": {},
     "output_type": "execute_result"
    },
    {
     "data": {
      "text/plain": [
       "9"
      ]
     },
     "execution_count": 101,
     "metadata": {},
     "output_type": "execute_result"
    },
    {
     "data": {
      "text/plain": [
       "12"
      ]
     },
     "execution_count": 101,
     "metadata": {},
     "output_type": "execute_result"
    },
    {
     "data": {
      "text/plain": [
       "8"
      ]
     },
     "execution_count": 101,
     "metadata": {},
     "output_type": "execute_result"
    },
    {
     "data": {
      "text/plain": [
       "9"
      ]
     },
     "execution_count": 101,
     "metadata": {},
     "output_type": "execute_result"
    },
    {
     "data": {
      "text/plain": [
       "10"
      ]
     },
     "execution_count": 101,
     "metadata": {},
     "output_type": "execute_result"
    },
    {
     "data": {
      "text/plain": [
       "9"
      ]
     },
     "execution_count": 101,
     "metadata": {},
     "output_type": "execute_result"
    },
    {
     "data": {
      "text/plain": [
       "8"
      ]
     },
     "execution_count": 101,
     "metadata": {},
     "output_type": "execute_result"
    },
    {
     "data": {
      "text/plain": [
       "9"
      ]
     },
     "execution_count": 101,
     "metadata": {},
     "output_type": "execute_result"
    },
    {
     "data": {
      "text/plain": [
       "10"
      ]
     },
     "execution_count": 101,
     "metadata": {},
     "output_type": "execute_result"
    },
    {
     "data": {
      "text/plain": [
       "10"
      ]
     },
     "execution_count": 101,
     "metadata": {},
     "output_type": "execute_result"
    },
    {
     "data": {
      "text/plain": [
       "8"
      ]
     },
     "execution_count": 101,
     "metadata": {},
     "output_type": "execute_result"
    },
    {
     "data": {
      "text/plain": [
       "9"
      ]
     },
     "execution_count": 101,
     "metadata": {},
     "output_type": "execute_result"
    },
    {
     "data": {
      "text/plain": [
       "11"
      ]
     },
     "execution_count": 101,
     "metadata": {},
     "output_type": "execute_result"
    },
    {
     "data": {
      "text/plain": [
       "10"
      ]
     },
     "execution_count": 101,
     "metadata": {},
     "output_type": "execute_result"
    },
    {
     "data": {
      "text/plain": [
       "9"
      ]
     },
     "execution_count": 101,
     "metadata": {},
     "output_type": "execute_result"
    },
    {
     "data": {
      "text/plain": [
       "10"
      ]
     },
     "execution_count": 101,
     "metadata": {},
     "output_type": "execute_result"
    },
    {
     "data": {
      "text/plain": [
       "9"
      ]
     },
     "execution_count": 101,
     "metadata": {},
     "output_type": "execute_result"
    },
    {
     "data": {
      "text/plain": [
       "12"
      ]
     },
     "execution_count": 101,
     "metadata": {},
     "output_type": "execute_result"
    },
    {
     "data": {
      "text/plain": [
       "10"
      ]
     },
     "execution_count": 101,
     "metadata": {},
     "output_type": "execute_result"
    },
    {
     "data": {
      "text/plain": [
       "10"
      ]
     },
     "execution_count": 101,
     "metadata": {},
     "output_type": "execute_result"
    },
    {
     "data": {
      "text/plain": [
       "11"
      ]
     },
     "execution_count": 101,
     "metadata": {},
     "output_type": "execute_result"
    },
    {
     "data": {
      "text/plain": [
       "11"
      ]
     },
     "execution_count": 101,
     "metadata": {},
     "output_type": "execute_result"
    },
    {
     "data": {
      "text/plain": [
       "9"
      ]
     },
     "execution_count": 101,
     "metadata": {},
     "output_type": "execute_result"
    },
    {
     "data": {
      "text/plain": [
       "9"
      ]
     },
     "execution_count": 101,
     "metadata": {},
     "output_type": "execute_result"
    },
    {
     "data": {
      "text/plain": [
       "10"
      ]
     },
     "execution_count": 101,
     "metadata": {},
     "output_type": "execute_result"
    },
    {
     "data": {
      "text/plain": [
       "9"
      ]
     },
     "execution_count": 101,
     "metadata": {},
     "output_type": "execute_result"
    },
    {
     "data": {
      "text/plain": [
       "9"
      ]
     },
     "execution_count": 101,
     "metadata": {},
     "output_type": "execute_result"
    },
    {
     "data": {
      "text/plain": [
       "10"
      ]
     },
     "execution_count": 101,
     "metadata": {},
     "output_type": "execute_result"
    },
    {
     "data": {
      "text/plain": [
       "9"
      ]
     },
     "execution_count": 101,
     "metadata": {},
     "output_type": "execute_result"
    },
    {
     "data": {
      "text/plain": [
       "9"
      ]
     },
     "execution_count": 101,
     "metadata": {},
     "output_type": "execute_result"
    },
    {
     "data": {
      "text/plain": [
       "8"
      ]
     },
     "execution_count": 101,
     "metadata": {},
     "output_type": "execute_result"
    },
    {
     "data": {
      "text/plain": [
       "11"
      ]
     },
     "execution_count": 101,
     "metadata": {},
     "output_type": "execute_result"
    },
    {
     "data": {
      "text/plain": [
       "11"
      ]
     },
     "execution_count": 101,
     "metadata": {},
     "output_type": "execute_result"
    },
    {
     "data": {
      "text/plain": [
       "10"
      ]
     },
     "execution_count": 101,
     "metadata": {},
     "output_type": "execute_result"
    },
    {
     "data": {
      "text/plain": [
       "10"
      ]
     },
     "execution_count": 101,
     "metadata": {},
     "output_type": "execute_result"
    },
    {
     "data": {
      "text/plain": [
       "13"
      ]
     },
     "execution_count": 101,
     "metadata": {},
     "output_type": "execute_result"
    },
    {
     "data": {
      "text/plain": [
       "11"
      ]
     },
     "execution_count": 101,
     "metadata": {},
     "output_type": "execute_result"
    },
    {
     "data": {
      "text/plain": [
       "10"
      ]
     },
     "execution_count": 101,
     "metadata": {},
     "output_type": "execute_result"
    },
    {
     "data": {
      "text/plain": [
       "9"
      ]
     },
     "execution_count": 101,
     "metadata": {},
     "output_type": "execute_result"
    },
    {
     "data": {
      "text/plain": [
       "11"
      ]
     },
     "execution_count": 101,
     "metadata": {},
     "output_type": "execute_result"
    },
    {
     "data": {
      "text/plain": [
       "12"
      ]
     },
     "execution_count": 101,
     "metadata": {},
     "output_type": "execute_result"
    },
    {
     "data": {
      "text/plain": [
       "14"
      ]
     },
     "execution_count": 101,
     "metadata": {},
     "output_type": "execute_result"
    },
    {
     "data": {
      "text/plain": [
       "11"
      ]
     },
     "execution_count": 101,
     "metadata": {},
     "output_type": "execute_result"
    },
    {
     "data": {
      "text/plain": [
       "11"
      ]
     },
     "execution_count": 101,
     "metadata": {},
     "output_type": "execute_result"
    },
    {
     "data": {
      "text/plain": [
       "13"
      ]
     },
     "execution_count": 101,
     "metadata": {},
     "output_type": "execute_result"
    },
    {
     "data": {
      "text/plain": [
       "11"
      ]
     },
     "execution_count": 101,
     "metadata": {},
     "output_type": "execute_result"
    },
    {
     "data": {
      "text/plain": [
       "11"
      ]
     },
     "execution_count": 101,
     "metadata": {},
     "output_type": "execute_result"
    },
    {
     "data": {
      "text/plain": [
       "10"
      ]
     },
     "execution_count": 101,
     "metadata": {},
     "output_type": "execute_result"
    },
    {
     "data": {
      "text/plain": [
       "11"
      ]
     },
     "execution_count": 101,
     "metadata": {},
     "output_type": "execute_result"
    },
    {
     "data": {
      "text/plain": [
       "10"
      ]
     },
     "execution_count": 101,
     "metadata": {},
     "output_type": "execute_result"
    },
    {
     "data": {
      "text/plain": [
       "9"
      ]
     },
     "execution_count": 101,
     "metadata": {},
     "output_type": "execute_result"
    },
    {
     "data": {
      "text/plain": [
       "9"
      ]
     },
     "execution_count": 101,
     "metadata": {},
     "output_type": "execute_result"
    },
    {
     "data": {
      "text/plain": [
       "11"
      ]
     },
     "execution_count": 101,
     "metadata": {},
     "output_type": "execute_result"
    },
    {
     "data": {
      "text/plain": [
       "12"
      ]
     },
     "execution_count": 101,
     "metadata": {},
     "output_type": "execute_result"
    },
    {
     "data": {
      "text/plain": [
       "8"
      ]
     },
     "execution_count": 101,
     "metadata": {},
     "output_type": "execute_result"
    },
    {
     "data": {
      "text/plain": [
       "10"
      ]
     },
     "execution_count": 101,
     "metadata": {},
     "output_type": "execute_result"
    },
    {
     "data": {
      "text/plain": [
       "9"
      ]
     },
     "execution_count": 101,
     "metadata": {},
     "output_type": "execute_result"
    },
    {
     "data": {
      "text/plain": [
       "10"
      ]
     },
     "execution_count": 101,
     "metadata": {},
     "output_type": "execute_result"
    },
    {
     "data": {
      "text/plain": [
       "11"
      ]
     },
     "execution_count": 101,
     "metadata": {},
     "output_type": "execute_result"
    },
    {
     "data": {
      "text/plain": [
       "9"
      ]
     },
     "execution_count": 101,
     "metadata": {},
     "output_type": "execute_result"
    },
    {
     "data": {
      "text/plain": [
       "10"
      ]
     },
     "execution_count": 101,
     "metadata": {},
     "output_type": "execute_result"
    },
    {
     "data": {
      "text/plain": [
       "10"
      ]
     },
     "execution_count": 101,
     "metadata": {},
     "output_type": "execute_result"
    },
    {
     "data": {
      "text/plain": [
       "10"
      ]
     },
     "execution_count": 101,
     "metadata": {},
     "output_type": "execute_result"
    },
    {
     "data": {
      "text/plain": [
       "8"
      ]
     },
     "execution_count": 101,
     "metadata": {},
     "output_type": "execute_result"
    },
    {
     "data": {
      "text/plain": [
       "8"
      ]
     },
     "execution_count": 101,
     "metadata": {},
     "output_type": "execute_result"
    },
    {
     "data": {
      "text/plain": [
       "9"
      ]
     },
     "execution_count": 101,
     "metadata": {},
     "output_type": "execute_result"
    },
    {
     "data": {
      "text/plain": [
       "9"
      ]
     },
     "execution_count": 101,
     "metadata": {},
     "output_type": "execute_result"
    },
    {
     "data": {
      "text/plain": [
       "9"
      ]
     },
     "execution_count": 101,
     "metadata": {},
     "output_type": "execute_result"
    },
    {
     "data": {
      "text/plain": [
       "10"
      ]
     },
     "execution_count": 101,
     "metadata": {},
     "output_type": "execute_result"
    },
    {
     "data": {
      "text/plain": [
       "9"
      ]
     },
     "execution_count": 101,
     "metadata": {},
     "output_type": "execute_result"
    },
    {
     "data": {
      "text/plain": [
       "12"
      ]
     },
     "execution_count": 101,
     "metadata": {},
     "output_type": "execute_result"
    },
    {
     "data": {
      "text/plain": [
       "8"
      ]
     },
     "execution_count": 101,
     "metadata": {},
     "output_type": "execute_result"
    },
    {
     "data": {
      "text/plain": [
       "10"
      ]
     },
     "execution_count": 101,
     "metadata": {},
     "output_type": "execute_result"
    },
    {
     "data": {
      "text/plain": [
       "8"
      ]
     },
     "execution_count": 101,
     "metadata": {},
     "output_type": "execute_result"
    },
    {
     "data": {
      "text/plain": [
       "9"
      ]
     },
     "execution_count": 101,
     "metadata": {},
     "output_type": "execute_result"
    },
    {
     "data": {
      "text/plain": [
       "8"
      ]
     },
     "execution_count": 101,
     "metadata": {},
     "output_type": "execute_result"
    },
    {
     "data": {
      "text/plain": [
       "8"
      ]
     },
     "execution_count": 101,
     "metadata": {},
     "output_type": "execute_result"
    },
    {
     "data": {
      "text/plain": [
       "10"
      ]
     },
     "execution_count": 101,
     "metadata": {},
     "output_type": "execute_result"
    },
    {
     "data": {
      "text/plain": [
       "9"
      ]
     },
     "execution_count": 101,
     "metadata": {},
     "output_type": "execute_result"
    },
    {
     "data": {
      "text/plain": [
       "11"
      ]
     },
     "execution_count": 101,
     "metadata": {},
     "output_type": "execute_result"
    },
    {
     "data": {
      "text/plain": [
       "11"
      ]
     },
     "execution_count": 101,
     "metadata": {},
     "output_type": "execute_result"
    },
    {
     "data": {
      "text/plain": [
       "10"
      ]
     },
     "execution_count": 101,
     "metadata": {},
     "output_type": "execute_result"
    },
    {
     "data": {
      "text/plain": [
       "9"
      ]
     },
     "execution_count": 101,
     "metadata": {},
     "output_type": "execute_result"
    },
    {
     "data": {
      "text/plain": [
       "10"
      ]
     },
     "execution_count": 101,
     "metadata": {},
     "output_type": "execute_result"
    },
    {
     "data": {
      "text/plain": [
       "10"
      ]
     },
     "execution_count": 101,
     "metadata": {},
     "output_type": "execute_result"
    },
    {
     "data": {
      "text/plain": [
       "10"
      ]
     },
     "execution_count": 101,
     "metadata": {},
     "output_type": "execute_result"
    },
    {
     "data": {
      "text/plain": [
       "9"
      ]
     },
     "execution_count": 101,
     "metadata": {},
     "output_type": "execute_result"
    },
    {
     "data": {
      "text/plain": [
       "9"
      ]
     },
     "execution_count": 101,
     "metadata": {},
     "output_type": "execute_result"
    },
    {
     "data": {
      "text/plain": [
       "9"
      ]
     },
     "execution_count": 101,
     "metadata": {},
     "output_type": "execute_result"
    },
    {
     "data": {
      "text/plain": [
       "10"
      ]
     },
     "execution_count": 101,
     "metadata": {},
     "output_type": "execute_result"
    },
    {
     "data": {
      "text/plain": [
       "11"
      ]
     },
     "execution_count": 101,
     "metadata": {},
     "output_type": "execute_result"
    },
    {
     "data": {
      "text/plain": [
       "10"
      ]
     },
     "execution_count": 101,
     "metadata": {},
     "output_type": "execute_result"
    },
    {
     "data": {
      "text/plain": [
       "9"
      ]
     },
     "execution_count": 101,
     "metadata": {},
     "output_type": "execute_result"
    },
    {
     "data": {
      "text/plain": [
       "8"
      ]
     },
     "execution_count": 101,
     "metadata": {},
     "output_type": "execute_result"
    },
    {
     "data": {
      "text/plain": [
       "8"
      ]
     },
     "execution_count": 101,
     "metadata": {},
     "output_type": "execute_result"
    },
    {
     "data": {
      "text/plain": [
       "9"
      ]
     },
     "execution_count": 101,
     "metadata": {},
     "output_type": "execute_result"
    },
    {
     "data": {
      "text/plain": [
       "9"
      ]
     },
     "execution_count": 101,
     "metadata": {},
     "output_type": "execute_result"
    },
    {
     "data": {
      "text/plain": [
       "10"
      ]
     },
     "execution_count": 101,
     "metadata": {},
     "output_type": "execute_result"
    },
    {
     "data": {
      "text/plain": [
       "9"
      ]
     },
     "execution_count": 101,
     "metadata": {},
     "output_type": "execute_result"
    },
    {
     "data": {
      "text/plain": [
       "8"
      ]
     },
     "execution_count": 101,
     "metadata": {},
     "output_type": "execute_result"
    },
    {
     "data": {
      "text/plain": [
       "9"
      ]
     },
     "execution_count": 101,
     "metadata": {},
     "output_type": "execute_result"
    },
    {
     "data": {
      "text/plain": [
       "8"
      ]
     },
     "execution_count": 101,
     "metadata": {},
     "output_type": "execute_result"
    },
    {
     "data": {
      "text/plain": [
       "9"
      ]
     },
     "execution_count": 101,
     "metadata": {},
     "output_type": "execute_result"
    },
    {
     "data": {
      "text/plain": [
       "9"
      ]
     },
     "execution_count": 101,
     "metadata": {},
     "output_type": "execute_result"
    },
    {
     "data": {
      "text/plain": [
       "10"
      ]
     },
     "execution_count": 101,
     "metadata": {},
     "output_type": "execute_result"
    },
    {
     "data": {
      "text/plain": [
       "11"
      ]
     },
     "execution_count": 101,
     "metadata": {},
     "output_type": "execute_result"
    },
    {
     "data": {
      "text/plain": [
       "12"
      ]
     },
     "execution_count": 101,
     "metadata": {},
     "output_type": "execute_result"
    },
    {
     "data": {
      "text/plain": [
       "10"
      ]
     },
     "execution_count": 101,
     "metadata": {},
     "output_type": "execute_result"
    },
    {
     "data": {
      "text/plain": [
       "10"
      ]
     },
     "execution_count": 101,
     "metadata": {},
     "output_type": "execute_result"
    },
    {
     "data": {
      "text/plain": [
       "9"
      ]
     },
     "execution_count": 101,
     "metadata": {},
     "output_type": "execute_result"
    },
    {
     "data": {
      "text/plain": [
       "10"
      ]
     },
     "execution_count": 101,
     "metadata": {},
     "output_type": "execute_result"
    },
    {
     "data": {
      "text/plain": [
       "9"
      ]
     },
     "execution_count": 101,
     "metadata": {},
     "output_type": "execute_result"
    },
    {
     "data": {
      "text/plain": [
       "9"
      ]
     },
     "execution_count": 101,
     "metadata": {},
     "output_type": "execute_result"
    },
    {
     "data": {
      "text/plain": [
       "9"
      ]
     },
     "execution_count": 101,
     "metadata": {},
     "output_type": "execute_result"
    },
    {
     "data": {
      "text/plain": [
       "7"
      ]
     },
     "execution_count": 101,
     "metadata": {},
     "output_type": "execute_result"
    },
    {
     "data": {
      "text/plain": [
       "8"
      ]
     },
     "execution_count": 101,
     "metadata": {},
     "output_type": "execute_result"
    },
    {
     "data": {
      "text/plain": [
       "12"
      ]
     },
     "execution_count": 101,
     "metadata": {},
     "output_type": "execute_result"
    },
    {
     "data": {
      "text/plain": [
       "11"
      ]
     },
     "execution_count": 101,
     "metadata": {},
     "output_type": "execute_result"
    },
    {
     "data": {
      "text/plain": [
       "10"
      ]
     },
     "execution_count": 101,
     "metadata": {},
     "output_type": "execute_result"
    },
    {
     "data": {
      "text/plain": [
       "9"
      ]
     },
     "execution_count": 101,
     "metadata": {},
     "output_type": "execute_result"
    },
    {
     "data": {
      "text/plain": [
       "8"
      ]
     },
     "execution_count": 101,
     "metadata": {},
     "output_type": "execute_result"
    },
    {
     "data": {
      "text/plain": [
       "9"
      ]
     },
     "execution_count": 101,
     "metadata": {},
     "output_type": "execute_result"
    },
    {
     "data": {
      "text/plain": [
       "10"
      ]
     },
     "execution_count": 101,
     "metadata": {},
     "output_type": "execute_result"
    },
    {
     "data": {
      "text/plain": [
       "9"
      ]
     },
     "execution_count": 101,
     "metadata": {},
     "output_type": "execute_result"
    },
    {
     "data": {
      "text/plain": [
       "10"
      ]
     },
     "execution_count": 101,
     "metadata": {},
     "output_type": "execute_result"
    },
    {
     "data": {
      "text/plain": [
       "9"
      ]
     },
     "execution_count": 101,
     "metadata": {},
     "output_type": "execute_result"
    },
    {
     "data": {
      "text/plain": [
       "10"
      ]
     },
     "execution_count": 101,
     "metadata": {},
     "output_type": "execute_result"
    },
    {
     "data": {
      "text/plain": [
       "9"
      ]
     },
     "execution_count": 101,
     "metadata": {},
     "output_type": "execute_result"
    },
    {
     "data": {
      "text/plain": [
       "12"
      ]
     },
     "execution_count": 101,
     "metadata": {},
     "output_type": "execute_result"
    },
    {
     "data": {
      "text/plain": [
       "9"
      ]
     },
     "execution_count": 101,
     "metadata": {},
     "output_type": "execute_result"
    },
    {
     "data": {
      "text/plain": [
       "8"
      ]
     },
     "execution_count": 101,
     "metadata": {},
     "output_type": "execute_result"
    },
    {
     "data": {
      "text/plain": [
       "10"
      ]
     },
     "execution_count": 101,
     "metadata": {},
     "output_type": "execute_result"
    },
    {
     "data": {
      "text/plain": [
       "10"
      ]
     },
     "execution_count": 101,
     "metadata": {},
     "output_type": "execute_result"
    },
    {
     "data": {
      "text/plain": [
       "9"
      ]
     },
     "execution_count": 101,
     "metadata": {},
     "output_type": "execute_result"
    },
    {
     "data": {
      "text/plain": [
       "9"
      ]
     },
     "execution_count": 101,
     "metadata": {},
     "output_type": "execute_result"
    },
    {
     "data": {
      "text/plain": [
       "10"
      ]
     },
     "execution_count": 101,
     "metadata": {},
     "output_type": "execute_result"
    },
    {
     "data": {
      "text/plain": [
       "8"
      ]
     },
     "execution_count": 101,
     "metadata": {},
     "output_type": "execute_result"
    },
    {
     "data": {
      "text/plain": [
       "9"
      ]
     },
     "execution_count": 101,
     "metadata": {},
     "output_type": "execute_result"
    },
    {
     "data": {
      "text/plain": [
       "8"
      ]
     },
     "execution_count": 101,
     "metadata": {},
     "output_type": "execute_result"
    },
    {
     "data": {
      "text/plain": [
       "9"
      ]
     },
     "execution_count": 101,
     "metadata": {},
     "output_type": "execute_result"
    },
    {
     "data": {
      "text/plain": [
       "10"
      ]
     },
     "execution_count": 101,
     "metadata": {},
     "output_type": "execute_result"
    },
    {
     "data": {
      "text/plain": [
       "9"
      ]
     },
     "execution_count": 101,
     "metadata": {},
     "output_type": "execute_result"
    },
    {
     "data": {
      "text/plain": [
       "11"
      ]
     },
     "execution_count": 101,
     "metadata": {},
     "output_type": "execute_result"
    },
    {
     "data": {
      "text/plain": [
       "10"
      ]
     },
     "execution_count": 101,
     "metadata": {},
     "output_type": "execute_result"
    },
    {
     "data": {
      "text/plain": [
       "10"
      ]
     },
     "execution_count": 101,
     "metadata": {},
     "output_type": "execute_result"
    },
    {
     "data": {
      "text/plain": [
       "10"
      ]
     },
     "execution_count": 101,
     "metadata": {},
     "output_type": "execute_result"
    },
    {
     "data": {
      "text/plain": [
       "9"
      ]
     },
     "execution_count": 101,
     "metadata": {},
     "output_type": "execute_result"
    },
    {
     "data": {
      "text/plain": [
       "10"
      ]
     },
     "execution_count": 101,
     "metadata": {},
     "output_type": "execute_result"
    },
    {
     "data": {
      "text/plain": [
       "9"
      ]
     },
     "execution_count": 101,
     "metadata": {},
     "output_type": "execute_result"
    },
    {
     "data": {
      "text/plain": [
       "9"
      ]
     },
     "execution_count": 101,
     "metadata": {},
     "output_type": "execute_result"
    },
    {
     "data": {
      "text/plain": [
       "10"
      ]
     },
     "execution_count": 101,
     "metadata": {},
     "output_type": "execute_result"
    },
    {
     "data": {
      "text/plain": [
       "12"
      ]
     },
     "execution_count": 101,
     "metadata": {},
     "output_type": "execute_result"
    },
    {
     "data": {
      "text/plain": [
       "9"
      ]
     },
     "execution_count": 101,
     "metadata": {},
     "output_type": "execute_result"
    },
    {
     "data": {
      "text/plain": [
       "9"
      ]
     },
     "execution_count": 101,
     "metadata": {},
     "output_type": "execute_result"
    },
    {
     "data": {
      "text/plain": [
       "8"
      ]
     },
     "execution_count": 101,
     "metadata": {},
     "output_type": "execute_result"
    },
    {
     "data": {
      "text/plain": [
       "7"
      ]
     },
     "execution_count": 101,
     "metadata": {},
     "output_type": "execute_result"
    },
    {
     "data": {
      "text/plain": [
       "10"
      ]
     },
     "execution_count": 101,
     "metadata": {},
     "output_type": "execute_result"
    },
    {
     "data": {
      "text/plain": [
       "9"
      ]
     },
     "execution_count": 101,
     "metadata": {},
     "output_type": "execute_result"
    },
    {
     "data": {
      "text/plain": [
       "10"
      ]
     },
     "execution_count": 101,
     "metadata": {},
     "output_type": "execute_result"
    },
    {
     "data": {
      "text/plain": [
       "10"
      ]
     },
     "execution_count": 101,
     "metadata": {},
     "output_type": "execute_result"
    },
    {
     "data": {
      "text/plain": [
       "9"
      ]
     },
     "execution_count": 101,
     "metadata": {},
     "output_type": "execute_result"
    },
    {
     "data": {
      "text/plain": [
       "7"
      ]
     },
     "execution_count": 101,
     "metadata": {},
     "output_type": "execute_result"
    },
    {
     "data": {
      "text/plain": [
       "11"
      ]
     },
     "execution_count": 101,
     "metadata": {},
     "output_type": "execute_result"
    },
    {
     "data": {
      "text/plain": [
       "9"
      ]
     },
     "execution_count": 101,
     "metadata": {},
     "output_type": "execute_result"
    },
    {
     "data": {
      "text/plain": [
       "11"
      ]
     },
     "execution_count": 101,
     "metadata": {},
     "output_type": "execute_result"
    },
    {
     "data": {
      "text/plain": [
       "9"
      ]
     },
     "execution_count": 101,
     "metadata": {},
     "output_type": "execute_result"
    },
    {
     "data": {
      "text/plain": [
       "9"
      ]
     },
     "execution_count": 101,
     "metadata": {},
     "output_type": "execute_result"
    },
    {
     "data": {
      "text/plain": [
       "8"
      ]
     },
     "execution_count": 101,
     "metadata": {},
     "output_type": "execute_result"
    },
    {
     "data": {
      "text/plain": [
       "7"
      ]
     },
     "execution_count": 101,
     "metadata": {},
     "output_type": "execute_result"
    },
    {
     "data": {
      "text/plain": [
       "10"
      ]
     },
     "execution_count": 101,
     "metadata": {},
     "output_type": "execute_result"
    },
    {
     "data": {
      "text/plain": [
       "8"
      ]
     },
     "execution_count": 101,
     "metadata": {},
     "output_type": "execute_result"
    },
    {
     "data": {
      "text/plain": [
       "7"
      ]
     },
     "execution_count": 101,
     "metadata": {},
     "output_type": "execute_result"
    },
    {
     "data": {
      "text/plain": [
       "10"
      ]
     },
     "execution_count": 101,
     "metadata": {},
     "output_type": "execute_result"
    },
    {
     "data": {
      "text/plain": [
       "11"
      ]
     },
     "execution_count": 101,
     "metadata": {},
     "output_type": "execute_result"
    },
    {
     "data": {
      "text/plain": [
       "12"
      ]
     },
     "execution_count": 101,
     "metadata": {},
     "output_type": "execute_result"
    },
    {
     "data": {
      "text/plain": [
       "11"
      ]
     },
     "execution_count": 101,
     "metadata": {},
     "output_type": "execute_result"
    },
    {
     "data": {
      "text/plain": [
       "10"
      ]
     },
     "execution_count": 101,
     "metadata": {},
     "output_type": "execute_result"
    },
    {
     "data": {
      "text/plain": [
       "11"
      ]
     },
     "execution_count": 101,
     "metadata": {},
     "output_type": "execute_result"
    },
    {
     "data": {
      "text/plain": [
       "11"
      ]
     },
     "execution_count": 101,
     "metadata": {},
     "output_type": "execute_result"
    },
    {
     "data": {
      "text/plain": [
       "11"
      ]
     },
     "execution_count": 101,
     "metadata": {},
     "output_type": "execute_result"
    },
    {
     "data": {
      "text/plain": [
       "12"
      ]
     },
     "execution_count": 101,
     "metadata": {},
     "output_type": "execute_result"
    },
    {
     "data": {
      "text/plain": [
       "11"
      ]
     },
     "execution_count": 101,
     "metadata": {},
     "output_type": "execute_result"
    },
    {
     "data": {
      "text/plain": [
       "10"
      ]
     },
     "execution_count": 101,
     "metadata": {},
     "output_type": "execute_result"
    },
    {
     "data": {
      "text/plain": [
       "11"
      ]
     },
     "execution_count": 101,
     "metadata": {},
     "output_type": "execute_result"
    },
    {
     "data": {
      "text/plain": [
       "10"
      ]
     },
     "execution_count": 101,
     "metadata": {},
     "output_type": "execute_result"
    },
    {
     "data": {
      "text/plain": [
       "12"
      ]
     },
     "execution_count": 101,
     "metadata": {},
     "output_type": "execute_result"
    },
    {
     "data": {
      "text/plain": [
       "12"
      ]
     },
     "execution_count": 101,
     "metadata": {},
     "output_type": "execute_result"
    },
    {
     "data": {
      "text/plain": [
       "10"
      ]
     },
     "execution_count": 101,
     "metadata": {},
     "output_type": "execute_result"
    },
    {
     "data": {
      "text/plain": [
       "11"
      ]
     },
     "execution_count": 101,
     "metadata": {},
     "output_type": "execute_result"
    },
    {
     "data": {
      "text/plain": [
       "9"
      ]
     },
     "execution_count": 101,
     "metadata": {},
     "output_type": "execute_result"
    },
    {
     "data": {
      "text/plain": [
       "9"
      ]
     },
     "execution_count": 101,
     "metadata": {},
     "output_type": "execute_result"
    },
    {
     "data": {
      "text/plain": [
       "10"
      ]
     },
     "execution_count": 101,
     "metadata": {},
     "output_type": "execute_result"
    },
    {
     "data": {
      "text/plain": [
       "12"
      ]
     },
     "execution_count": 101,
     "metadata": {},
     "output_type": "execute_result"
    },
    {
     "data": {
      "text/plain": [
       "10"
      ]
     },
     "execution_count": 101,
     "metadata": {},
     "output_type": "execute_result"
    },
    {
     "data": {
      "text/plain": [
       "8"
      ]
     },
     "execution_count": 101,
     "metadata": {},
     "output_type": "execute_result"
    },
    {
     "data": {
      "text/plain": [
       "9"
      ]
     },
     "execution_count": 101,
     "metadata": {},
     "output_type": "execute_result"
    },
    {
     "data": {
      "text/plain": [
       "10"
      ]
     },
     "execution_count": 101,
     "metadata": {},
     "output_type": "execute_result"
    },
    {
     "data": {
      "text/plain": [
       "9"
      ]
     },
     "execution_count": 101,
     "metadata": {},
     "output_type": "execute_result"
    },
    {
     "data": {
      "text/plain": [
       "8"
      ]
     },
     "execution_count": 101,
     "metadata": {},
     "output_type": "execute_result"
    },
    {
     "data": {
      "text/plain": [
       "9"
      ]
     },
     "execution_count": 101,
     "metadata": {},
     "output_type": "execute_result"
    },
    {
     "data": {
      "text/plain": [
       "8"
      ]
     },
     "execution_count": 101,
     "metadata": {},
     "output_type": "execute_result"
    },
    {
     "data": {
      "text/plain": [
       "11"
      ]
     },
     "execution_count": 101,
     "metadata": {},
     "output_type": "execute_result"
    },
    {
     "data": {
      "text/plain": [
       "11"
      ]
     },
     "execution_count": 101,
     "metadata": {},
     "output_type": "execute_result"
    },
    {
     "data": {
      "text/plain": [
       "10"
      ]
     },
     "execution_count": 101,
     "metadata": {},
     "output_type": "execute_result"
    },
    {
     "data": {
      "text/plain": [
       "10"
      ]
     },
     "execution_count": 101,
     "metadata": {},
     "output_type": "execute_result"
    },
    {
     "data": {
      "text/plain": [
       "9"
      ]
     },
     "execution_count": 101,
     "metadata": {},
     "output_type": "execute_result"
    },
    {
     "data": {
      "text/plain": [
       "11"
      ]
     },
     "execution_count": 101,
     "metadata": {},
     "output_type": "execute_result"
    },
    {
     "data": {
      "text/plain": [
       "9"
      ]
     },
     "execution_count": 101,
     "metadata": {},
     "output_type": "execute_result"
    },
    {
     "data": {
      "text/plain": [
       "9"
      ]
     },
     "execution_count": 101,
     "metadata": {},
     "output_type": "execute_result"
    },
    {
     "data": {
      "text/plain": [
       "10"
      ]
     },
     "execution_count": 101,
     "metadata": {},
     "output_type": "execute_result"
    },
    {
     "data": {
      "text/plain": [
       "9"
      ]
     },
     "execution_count": 101,
     "metadata": {},
     "output_type": "execute_result"
    },
    {
     "data": {
      "text/plain": [
       "10"
      ]
     },
     "execution_count": 101,
     "metadata": {},
     "output_type": "execute_result"
    },
    {
     "data": {
      "text/plain": [
       "9"
      ]
     },
     "execution_count": 101,
     "metadata": {},
     "output_type": "execute_result"
    },
    {
     "data": {
      "text/plain": [
       "11"
      ]
     },
     "execution_count": 101,
     "metadata": {},
     "output_type": "execute_result"
    },
    {
     "data": {
      "text/plain": [
       "11"
      ]
     },
     "execution_count": 101,
     "metadata": {},
     "output_type": "execute_result"
    },
    {
     "data": {
      "text/plain": [
       "10"
      ]
     },
     "execution_count": 101,
     "metadata": {},
     "output_type": "execute_result"
    },
    {
     "data": {
      "text/plain": [
       "10"
      ]
     },
     "execution_count": 101,
     "metadata": {},
     "output_type": "execute_result"
    },
    {
     "data": {
      "text/plain": [
       "11"
      ]
     },
     "execution_count": 101,
     "metadata": {},
     "output_type": "execute_result"
    },
    {
     "data": {
      "text/plain": [
       "10"
      ]
     },
     "execution_count": 101,
     "metadata": {},
     "output_type": "execute_result"
    },
    {
     "data": {
      "text/plain": [
       "12"
      ]
     },
     "execution_count": 101,
     "metadata": {},
     "output_type": "execute_result"
    },
    {
     "data": {
      "text/plain": [
       "10"
      ]
     },
     "execution_count": 101,
     "metadata": {},
     "output_type": "execute_result"
    },
    {
     "data": {
      "text/plain": [
       "7"
      ]
     },
     "execution_count": 101,
     "metadata": {},
     "output_type": "execute_result"
    },
    {
     "data": {
      "text/plain": [
       "9"
      ]
     },
     "execution_count": 101,
     "metadata": {},
     "output_type": "execute_result"
    },
    {
     "data": {
      "text/plain": [
       "9"
      ]
     },
     "execution_count": 101,
     "metadata": {},
     "output_type": "execute_result"
    },
    {
     "data": {
      "text/plain": [
       "9"
      ]
     },
     "execution_count": 101,
     "metadata": {},
     "output_type": "execute_result"
    },
    {
     "data": {
      "text/plain": [
       "10"
      ]
     },
     "execution_count": 101,
     "metadata": {},
     "output_type": "execute_result"
    },
    {
     "data": {
      "text/plain": [
       "9"
      ]
     },
     "execution_count": 101,
     "metadata": {},
     "output_type": "execute_result"
    },
    {
     "data": {
      "text/plain": [
       "10"
      ]
     },
     "execution_count": 101,
     "metadata": {},
     "output_type": "execute_result"
    },
    {
     "data": {
      "text/plain": [
       "11"
      ]
     },
     "execution_count": 101,
     "metadata": {},
     "output_type": "execute_result"
    },
    {
     "data": {
      "text/plain": [
       "9"
      ]
     },
     "execution_count": 101,
     "metadata": {},
     "output_type": "execute_result"
    },
    {
     "data": {
      "text/plain": [
       "9"
      ]
     },
     "execution_count": 101,
     "metadata": {},
     "output_type": "execute_result"
    },
    {
     "data": {
      "text/plain": [
       "9"
      ]
     },
     "execution_count": 101,
     "metadata": {},
     "output_type": "execute_result"
    },
    {
     "data": {
      "text/plain": [
       "12"
      ]
     },
     "execution_count": 101,
     "metadata": {},
     "output_type": "execute_result"
    },
    {
     "data": {
      "text/plain": [
       "8"
      ]
     },
     "execution_count": 101,
     "metadata": {},
     "output_type": "execute_result"
    },
    {
     "data": {
      "text/plain": [
       "9"
      ]
     },
     "execution_count": 101,
     "metadata": {},
     "output_type": "execute_result"
    },
    {
     "data": {
      "text/plain": [
       "11"
      ]
     },
     "execution_count": 101,
     "metadata": {},
     "output_type": "execute_result"
    },
    {
     "data": {
      "text/plain": [
       "9"
      ]
     },
     "execution_count": 101,
     "metadata": {},
     "output_type": "execute_result"
    },
    {
     "data": {
      "text/plain": [
       "9"
      ]
     },
     "execution_count": 101,
     "metadata": {},
     "output_type": "execute_result"
    },
    {
     "data": {
      "text/plain": [
       "8"
      ]
     },
     "execution_count": 101,
     "metadata": {},
     "output_type": "execute_result"
    },
    {
     "data": {
      "text/plain": [
       "7"
      ]
     },
     "execution_count": 101,
     "metadata": {},
     "output_type": "execute_result"
    },
    {
     "data": {
      "text/plain": [
       "10"
      ]
     },
     "execution_count": 101,
     "metadata": {},
     "output_type": "execute_result"
    },
    {
     "data": {
      "text/plain": [
       "10"
      ]
     },
     "execution_count": 101,
     "metadata": {},
     "output_type": "execute_result"
    },
    {
     "data": {
      "text/plain": [
       "9"
      ]
     },
     "execution_count": 101,
     "metadata": {},
     "output_type": "execute_result"
    },
    {
     "data": {
      "text/plain": [
       "9"
      ]
     },
     "execution_count": 101,
     "metadata": {},
     "output_type": "execute_result"
    },
    {
     "data": {
      "text/plain": [
       "9"
      ]
     },
     "execution_count": 101,
     "metadata": {},
     "output_type": "execute_result"
    },
    {
     "data": {
      "text/plain": [
       "11"
      ]
     },
     "execution_count": 101,
     "metadata": {},
     "output_type": "execute_result"
    },
    {
     "data": {
      "text/plain": [
       "10"
      ]
     },
     "execution_count": 101,
     "metadata": {},
     "output_type": "execute_result"
    },
    {
     "data": {
      "text/plain": [
       "9"
      ]
     },
     "execution_count": 101,
     "metadata": {},
     "output_type": "execute_result"
    },
    {
     "data": {
      "text/plain": [
       "12"
      ]
     },
     "execution_count": 101,
     "metadata": {},
     "output_type": "execute_result"
    },
    {
     "data": {
      "text/plain": [
       "9"
      ]
     },
     "execution_count": 101,
     "metadata": {},
     "output_type": "execute_result"
    },
    {
     "data": {
      "text/plain": [
       "9"
      ]
     },
     "execution_count": 101,
     "metadata": {},
     "output_type": "execute_result"
    },
    {
     "data": {
      "text/plain": [
       "8"
      ]
     },
     "execution_count": 101,
     "metadata": {},
     "output_type": "execute_result"
    },
    {
     "data": {
      "text/plain": [
       "11"
      ]
     },
     "execution_count": 101,
     "metadata": {},
     "output_type": "execute_result"
    },
    {
     "data": {
      "text/plain": [
       "8"
      ]
     },
     "execution_count": 101,
     "metadata": {},
     "output_type": "execute_result"
    },
    {
     "data": {
      "text/plain": [
       "9"
      ]
     },
     "execution_count": 101,
     "metadata": {},
     "output_type": "execute_result"
    },
    {
     "data": {
      "text/plain": [
       "9"
      ]
     },
     "execution_count": 101,
     "metadata": {},
     "output_type": "execute_result"
    },
    {
     "data": {
      "text/plain": [
       "9"
      ]
     },
     "execution_count": 101,
     "metadata": {},
     "output_type": "execute_result"
    },
    {
     "data": {
      "text/plain": [
       "10"
      ]
     },
     "execution_count": 101,
     "metadata": {},
     "output_type": "execute_result"
    },
    {
     "data": {
      "text/plain": [
       "9"
      ]
     },
     "execution_count": 101,
     "metadata": {},
     "output_type": "execute_result"
    },
    {
     "data": {
      "text/plain": [
       "9"
      ]
     },
     "execution_count": 101,
     "metadata": {},
     "output_type": "execute_result"
    },
    {
     "data": {
      "text/plain": [
       "8"
      ]
     },
     "execution_count": 101,
     "metadata": {},
     "output_type": "execute_result"
    },
    {
     "data": {
      "text/plain": [
       "9"
      ]
     },
     "execution_count": 101,
     "metadata": {},
     "output_type": "execute_result"
    },
    {
     "data": {
      "text/plain": [
       "8"
      ]
     },
     "execution_count": 101,
     "metadata": {},
     "output_type": "execute_result"
    },
    {
     "data": {
      "text/plain": [
       "8"
      ]
     },
     "execution_count": 101,
     "metadata": {},
     "output_type": "execute_result"
    },
    {
     "data": {
      "text/plain": [
       "9"
      ]
     },
     "execution_count": 101,
     "metadata": {},
     "output_type": "execute_result"
    },
    {
     "data": {
      "text/plain": [
       "8"
      ]
     },
     "execution_count": 101,
     "metadata": {},
     "output_type": "execute_result"
    },
    {
     "data": {
      "text/plain": [
       "9"
      ]
     },
     "execution_count": 101,
     "metadata": {},
     "output_type": "execute_result"
    },
    {
     "data": {
      "text/plain": [
       "9"
      ]
     },
     "execution_count": 101,
     "metadata": {},
     "output_type": "execute_result"
    },
    {
     "data": {
      "text/plain": [
       "12"
      ]
     },
     "execution_count": 101,
     "metadata": {},
     "output_type": "execute_result"
    },
    {
     "data": {
      "text/plain": [
       "10"
      ]
     },
     "execution_count": 101,
     "metadata": {},
     "output_type": "execute_result"
    },
    {
     "data": {
      "text/plain": [
       "10"
      ]
     },
     "execution_count": 101,
     "metadata": {},
     "output_type": "execute_result"
    },
    {
     "data": {
      "text/plain": [
       "10"
      ]
     },
     "execution_count": 101,
     "metadata": {},
     "output_type": "execute_result"
    },
    {
     "data": {
      "text/plain": [
       "11"
      ]
     },
     "execution_count": 101,
     "metadata": {},
     "output_type": "execute_result"
    },
    {
     "data": {
      "text/plain": [
       "11"
      ]
     },
     "execution_count": 101,
     "metadata": {},
     "output_type": "execute_result"
    },
    {
     "data": {
      "text/plain": [
       "11"
      ]
     },
     "execution_count": 101,
     "metadata": {},
     "output_type": "execute_result"
    },
    {
     "data": {
      "text/plain": [
       "13"
      ]
     },
     "execution_count": 101,
     "metadata": {},
     "output_type": "execute_result"
    },
    {
     "data": {
      "text/plain": [
       "12"
      ]
     },
     "execution_count": 101,
     "metadata": {},
     "output_type": "execute_result"
    },
    {
     "data": {
      "text/plain": [
       "13"
      ]
     },
     "execution_count": 101,
     "metadata": {},
     "output_type": "execute_result"
    },
    {
     "data": {
      "text/plain": [
       "10"
      ]
     },
     "execution_count": 101,
     "metadata": {},
     "output_type": "execute_result"
    },
    {
     "data": {
      "text/plain": [
       "10"
      ]
     },
     "execution_count": 101,
     "metadata": {},
     "output_type": "execute_result"
    },
    {
     "data": {
      "text/plain": [
       "10"
      ]
     },
     "execution_count": 101,
     "metadata": {},
     "output_type": "execute_result"
    },
    {
     "data": {
      "text/plain": [
       "8"
      ]
     },
     "execution_count": 101,
     "metadata": {},
     "output_type": "execute_result"
    },
    {
     "data": {
      "text/plain": [
       "10"
      ]
     },
     "execution_count": 101,
     "metadata": {},
     "output_type": "execute_result"
    },
    {
     "data": {
      "text/plain": [
       "10"
      ]
     },
     "execution_count": 101,
     "metadata": {},
     "output_type": "execute_result"
    },
    {
     "data": {
      "text/plain": [
       "10"
      ]
     },
     "execution_count": 101,
     "metadata": {},
     "output_type": "execute_result"
    },
    {
     "data": {
      "text/plain": [
       "10"
      ]
     },
     "execution_count": 101,
     "metadata": {},
     "output_type": "execute_result"
    },
    {
     "data": {
      "text/plain": [
       "12"
      ]
     },
     "execution_count": 101,
     "metadata": {},
     "output_type": "execute_result"
    },
    {
     "data": {
      "text/plain": [
       "10"
      ]
     },
     "execution_count": 101,
     "metadata": {},
     "output_type": "execute_result"
    },
    {
     "data": {
      "text/plain": [
       "10"
      ]
     },
     "execution_count": 101,
     "metadata": {},
     "output_type": "execute_result"
    },
    {
     "data": {
      "text/plain": [
       "13"
      ]
     },
     "execution_count": 101,
     "metadata": {},
     "output_type": "execute_result"
    },
    {
     "data": {
      "text/plain": [
       "11"
      ]
     },
     "execution_count": 101,
     "metadata": {},
     "output_type": "execute_result"
    },
    {
     "data": {
      "text/plain": [
       "12"
      ]
     },
     "execution_count": 101,
     "metadata": {},
     "output_type": "execute_result"
    },
    {
     "data": {
      "text/plain": [
       "10"
      ]
     },
     "execution_count": 101,
     "metadata": {},
     "output_type": "execute_result"
    },
    {
     "data": {
      "text/plain": [
       "10"
      ]
     },
     "execution_count": 101,
     "metadata": {},
     "output_type": "execute_result"
    },
    {
     "data": {
      "text/plain": [
       "9"
      ]
     },
     "execution_count": 101,
     "metadata": {},
     "output_type": "execute_result"
    },
    {
     "data": {
      "text/plain": [
       "9"
      ]
     },
     "execution_count": 101,
     "metadata": {},
     "output_type": "execute_result"
    },
    {
     "data": {
      "text/plain": [
       "10"
      ]
     },
     "execution_count": 101,
     "metadata": {},
     "output_type": "execute_result"
    },
    {
     "data": {
      "text/plain": [
       "10"
      ]
     },
     "execution_count": 101,
     "metadata": {},
     "output_type": "execute_result"
    },
    {
     "data": {
      "text/plain": [
       "13"
      ]
     },
     "execution_count": 101,
     "metadata": {},
     "output_type": "execute_result"
    },
    {
     "data": {
      "text/plain": [
       "10"
      ]
     },
     "execution_count": 101,
     "metadata": {},
     "output_type": "execute_result"
    },
    {
     "data": {
      "text/plain": [
       "10"
      ]
     },
     "execution_count": 101,
     "metadata": {},
     "output_type": "execute_result"
    },
    {
     "data": {
      "text/plain": [
       "10"
      ]
     },
     "execution_count": 101,
     "metadata": {},
     "output_type": "execute_result"
    },
    {
     "data": {
      "text/plain": [
       "11"
      ]
     },
     "execution_count": 101,
     "metadata": {},
     "output_type": "execute_result"
    },
    {
     "data": {
      "text/plain": [
       "10"
      ]
     },
     "execution_count": 101,
     "metadata": {},
     "output_type": "execute_result"
    },
    {
     "data": {
      "text/plain": [
       "9"
      ]
     },
     "execution_count": 101,
     "metadata": {},
     "output_type": "execute_result"
    },
    {
     "data": {
      "text/plain": [
       "11"
      ]
     },
     "execution_count": 101,
     "metadata": {},
     "output_type": "execute_result"
    },
    {
     "data": {
      "text/plain": [
       "11"
      ]
     },
     "execution_count": 101,
     "metadata": {},
     "output_type": "execute_result"
    },
    {
     "data": {
      "text/plain": [
       "10"
      ]
     },
     "execution_count": 101,
     "metadata": {},
     "output_type": "execute_result"
    },
    {
     "data": {
      "text/plain": [
       "9"
      ]
     },
     "execution_count": 101,
     "metadata": {},
     "output_type": "execute_result"
    },
    {
     "data": {
      "text/plain": [
       "9"
      ]
     },
     "execution_count": 101,
     "metadata": {},
     "output_type": "execute_result"
    },
    {
     "data": {
      "text/plain": [
       "9"
      ]
     },
     "execution_count": 101,
     "metadata": {},
     "output_type": "execute_result"
    },
    {
     "data": {
      "text/plain": [
       "9"
      ]
     },
     "execution_count": 101,
     "metadata": {},
     "output_type": "execute_result"
    },
    {
     "data": {
      "text/plain": [
       "10"
      ]
     },
     "execution_count": 101,
     "metadata": {},
     "output_type": "execute_result"
    },
    {
     "data": {
      "text/plain": [
       "12"
      ]
     },
     "execution_count": 101,
     "metadata": {},
     "output_type": "execute_result"
    },
    {
     "data": {
      "text/plain": [
       "9"
      ]
     },
     "execution_count": 101,
     "metadata": {},
     "output_type": "execute_result"
    },
    {
     "data": {
      "text/plain": [
       "8"
      ]
     },
     "execution_count": 101,
     "metadata": {},
     "output_type": "execute_result"
    },
    {
     "data": {
      "text/plain": [
       "9"
      ]
     },
     "execution_count": 101,
     "metadata": {},
     "output_type": "execute_result"
    },
    {
     "data": {
      "text/plain": [
       "9"
      ]
     },
     "execution_count": 101,
     "metadata": {},
     "output_type": "execute_result"
    },
    {
     "data": {
      "text/plain": [
       "9"
      ]
     },
     "execution_count": 101,
     "metadata": {},
     "output_type": "execute_result"
    },
    {
     "data": {
      "text/plain": [
       "8"
      ]
     },
     "execution_count": 101,
     "metadata": {},
     "output_type": "execute_result"
    },
    {
     "data": {
      "text/plain": [
       "9"
      ]
     },
     "execution_count": 101,
     "metadata": {},
     "output_type": "execute_result"
    },
    {
     "data": {
      "text/plain": [
       "10"
      ]
     },
     "execution_count": 101,
     "metadata": {},
     "output_type": "execute_result"
    },
    {
     "data": {
      "text/plain": [
       "9"
      ]
     },
     "execution_count": 101,
     "metadata": {},
     "output_type": "execute_result"
    },
    {
     "data": {
      "text/plain": [
       "10"
      ]
     },
     "execution_count": 101,
     "metadata": {},
     "output_type": "execute_result"
    },
    {
     "data": {
      "text/plain": [
       "13"
      ]
     },
     "execution_count": 101,
     "metadata": {},
     "output_type": "execute_result"
    },
    {
     "data": {
      "text/plain": [
       "11"
      ]
     },
     "execution_count": 101,
     "metadata": {},
     "output_type": "execute_result"
    },
    {
     "data": {
      "text/plain": [
       "9"
      ]
     },
     "execution_count": 101,
     "metadata": {},
     "output_type": "execute_result"
    },
    {
     "data": {
      "text/plain": [
       "12"
      ]
     },
     "execution_count": 101,
     "metadata": {},
     "output_type": "execute_result"
    },
    {
     "data": {
      "text/plain": [
       "9"
      ]
     },
     "execution_count": 101,
     "metadata": {},
     "output_type": "execute_result"
    },
    {
     "data": {
      "text/plain": [
       "11"
      ]
     },
     "execution_count": 101,
     "metadata": {},
     "output_type": "execute_result"
    },
    {
     "data": {
      "text/plain": [
       "9"
      ]
     },
     "execution_count": 101,
     "metadata": {},
     "output_type": "execute_result"
    },
    {
     "data": {
      "text/plain": [
       "10"
      ]
     },
     "execution_count": 101,
     "metadata": {},
     "output_type": "execute_result"
    },
    {
     "data": {
      "text/plain": [
       "12"
      ]
     },
     "execution_count": 101,
     "metadata": {},
     "output_type": "execute_result"
    },
    {
     "data": {
      "text/plain": [
       "11"
      ]
     },
     "execution_count": 101,
     "metadata": {},
     "output_type": "execute_result"
    },
    {
     "data": {
      "text/plain": [
       "11"
      ]
     },
     "execution_count": 101,
     "metadata": {},
     "output_type": "execute_result"
    },
    {
     "data": {
      "text/plain": [
       "11"
      ]
     },
     "execution_count": 101,
     "metadata": {},
     "output_type": "execute_result"
    },
    {
     "data": {
      "text/plain": [
       "10"
      ]
     },
     "execution_count": 101,
     "metadata": {},
     "output_type": "execute_result"
    },
    {
     "data": {
      "text/plain": [
       "8"
      ]
     },
     "execution_count": 101,
     "metadata": {},
     "output_type": "execute_result"
    },
    {
     "data": {
      "text/plain": [
       "11"
      ]
     },
     "execution_count": 101,
     "metadata": {},
     "output_type": "execute_result"
    },
    {
     "data": {
      "text/plain": [
       "11"
      ]
     },
     "execution_count": 101,
     "metadata": {},
     "output_type": "execute_result"
    },
    {
     "data": {
      "text/plain": [
       "10"
      ]
     },
     "execution_count": 101,
     "metadata": {},
     "output_type": "execute_result"
    },
    {
     "data": {
      "text/plain": [
       "10"
      ]
     },
     "execution_count": 101,
     "metadata": {},
     "output_type": "execute_result"
    },
    {
     "data": {
      "text/plain": [
       "10"
      ]
     },
     "execution_count": 101,
     "metadata": {},
     "output_type": "execute_result"
    },
    {
     "data": {
      "text/plain": [
       "11"
      ]
     },
     "execution_count": 101,
     "metadata": {},
     "output_type": "execute_result"
    },
    {
     "data": {
      "text/plain": [
       "10"
      ]
     },
     "execution_count": 101,
     "metadata": {},
     "output_type": "execute_result"
    },
    {
     "data": {
      "text/plain": [
       "8"
      ]
     },
     "execution_count": 101,
     "metadata": {},
     "output_type": "execute_result"
    },
    {
     "data": {
      "text/plain": [
       "10"
      ]
     },
     "execution_count": 101,
     "metadata": {},
     "output_type": "execute_result"
    },
    {
     "data": {
      "text/plain": [
       "9"
      ]
     },
     "execution_count": 101,
     "metadata": {},
     "output_type": "execute_result"
    },
    {
     "data": {
      "text/plain": [
       "11"
      ]
     },
     "execution_count": 101,
     "metadata": {},
     "output_type": "execute_result"
    },
    {
     "data": {
      "text/plain": [
       "10"
      ]
     },
     "execution_count": 101,
     "metadata": {},
     "output_type": "execute_result"
    },
    {
     "data": {
      "text/plain": [
       "10"
      ]
     },
     "execution_count": 101,
     "metadata": {},
     "output_type": "execute_result"
    },
    {
     "data": {
      "text/plain": [
       "9"
      ]
     },
     "execution_count": 101,
     "metadata": {},
     "output_type": "execute_result"
    },
    {
     "data": {
      "text/plain": [
       "11"
      ]
     },
     "execution_count": 101,
     "metadata": {},
     "output_type": "execute_result"
    },
    {
     "data": {
      "text/plain": [
       "11"
      ]
     },
     "execution_count": 101,
     "metadata": {},
     "output_type": "execute_result"
    },
    {
     "data": {
      "text/plain": [
       "9"
      ]
     },
     "execution_count": 101,
     "metadata": {},
     "output_type": "execute_result"
    },
    {
     "data": {
      "text/plain": [
       "10"
      ]
     },
     "execution_count": 101,
     "metadata": {},
     "output_type": "execute_result"
    },
    {
     "data": {
      "text/plain": [
       "10"
      ]
     },
     "execution_count": 101,
     "metadata": {},
     "output_type": "execute_result"
    },
    {
     "data": {
      "text/plain": [
       "11"
      ]
     },
     "execution_count": 101,
     "metadata": {},
     "output_type": "execute_result"
    },
    {
     "data": {
      "text/plain": [
       "10"
      ]
     },
     "execution_count": 101,
     "metadata": {},
     "output_type": "execute_result"
    },
    {
     "data": {
      "text/plain": [
       "11"
      ]
     },
     "execution_count": 101,
     "metadata": {},
     "output_type": "execute_result"
    },
    {
     "data": {
      "text/plain": [
       "10"
      ]
     },
     "execution_count": 101,
     "metadata": {},
     "output_type": "execute_result"
    },
    {
     "data": {
      "text/plain": [
       "9"
      ]
     },
     "execution_count": 101,
     "metadata": {},
     "output_type": "execute_result"
    },
    {
     "data": {
      "text/plain": [
       "8"
      ]
     },
     "execution_count": 101,
     "metadata": {},
     "output_type": "execute_result"
    },
    {
     "data": {
      "text/plain": [
       "9"
      ]
     },
     "execution_count": 101,
     "metadata": {},
     "output_type": "execute_result"
    },
    {
     "data": {
      "text/plain": [
       "10"
      ]
     },
     "execution_count": 101,
     "metadata": {},
     "output_type": "execute_result"
    },
    {
     "data": {
      "text/plain": [
       "13"
      ]
     },
     "execution_count": 101,
     "metadata": {},
     "output_type": "execute_result"
    },
    {
     "data": {
      "text/plain": [
       "9"
      ]
     },
     "execution_count": 101,
     "metadata": {},
     "output_type": "execute_result"
    },
    {
     "data": {
      "text/plain": [
       "11"
      ]
     },
     "execution_count": 101,
     "metadata": {},
     "output_type": "execute_result"
    },
    {
     "data": {
      "text/plain": [
       "10"
      ]
     },
     "execution_count": 101,
     "metadata": {},
     "output_type": "execute_result"
    },
    {
     "data": {
      "text/plain": [
       "9"
      ]
     },
     "execution_count": 101,
     "metadata": {},
     "output_type": "execute_result"
    },
    {
     "data": {
      "text/plain": [
       "10"
      ]
     },
     "execution_count": 101,
     "metadata": {},
     "output_type": "execute_result"
    },
    {
     "data": {
      "text/plain": [
       "9"
      ]
     },
     "execution_count": 101,
     "metadata": {},
     "output_type": "execute_result"
    },
    {
     "data": {
      "text/plain": [
       "10"
      ]
     },
     "execution_count": 101,
     "metadata": {},
     "output_type": "execute_result"
    },
    {
     "data": {
      "text/plain": [
       "9"
      ]
     },
     "execution_count": 101,
     "metadata": {},
     "output_type": "execute_result"
    },
    {
     "data": {
      "text/plain": [
       "10"
      ]
     },
     "execution_count": 101,
     "metadata": {},
     "output_type": "execute_result"
    },
    {
     "data": {
      "text/plain": [
       "10"
      ]
     },
     "execution_count": 101,
     "metadata": {},
     "output_type": "execute_result"
    },
    {
     "data": {
      "text/plain": [
       "10"
      ]
     },
     "execution_count": 101,
     "metadata": {},
     "output_type": "execute_result"
    },
    {
     "data": {
      "text/plain": [
       "11"
      ]
     },
     "execution_count": 101,
     "metadata": {},
     "output_type": "execute_result"
    },
    {
     "data": {
      "text/plain": [
       "8"
      ]
     },
     "execution_count": 101,
     "metadata": {},
     "output_type": "execute_result"
    },
    {
     "data": {
      "text/plain": [
       "9"
      ]
     },
     "execution_count": 101,
     "metadata": {},
     "output_type": "execute_result"
    },
    {
     "data": {
      "text/plain": [
       "9"
      ]
     },
     "execution_count": 101,
     "metadata": {},
     "output_type": "execute_result"
    },
    {
     "data": {
      "text/plain": [
       "8"
      ]
     },
     "execution_count": 101,
     "metadata": {},
     "output_type": "execute_result"
    },
    {
     "data": {
      "text/plain": [
       "8"
      ]
     },
     "execution_count": 101,
     "metadata": {},
     "output_type": "execute_result"
    },
    {
     "data": {
      "text/plain": [
       "7"
      ]
     },
     "execution_count": 101,
     "metadata": {},
     "output_type": "execute_result"
    },
    {
     "data": {
      "text/plain": [
       "10"
      ]
     },
     "execution_count": 101,
     "metadata": {},
     "output_type": "execute_result"
    },
    {
     "data": {
      "text/plain": [
       "11"
      ]
     },
     "execution_count": 101,
     "metadata": {},
     "output_type": "execute_result"
    },
    {
     "data": {
      "text/plain": [
       "11"
      ]
     },
     "execution_count": 101,
     "metadata": {},
     "output_type": "execute_result"
    },
    {
     "data": {
      "text/plain": [
       "9"
      ]
     },
     "execution_count": 101,
     "metadata": {},
     "output_type": "execute_result"
    },
    {
     "data": {
      "text/plain": [
       "10"
      ]
     },
     "execution_count": 101,
     "metadata": {},
     "output_type": "execute_result"
    },
    {
     "data": {
      "text/plain": [
       "11"
      ]
     },
     "execution_count": 101,
     "metadata": {},
     "output_type": "execute_result"
    },
    {
     "data": {
      "text/plain": [
       "11"
      ]
     },
     "execution_count": 101,
     "metadata": {},
     "output_type": "execute_result"
    },
    {
     "data": {
      "text/plain": [
       "10"
      ]
     },
     "execution_count": 101,
     "metadata": {},
     "output_type": "execute_result"
    },
    {
     "data": {
      "text/plain": [
       "8"
      ]
     },
     "execution_count": 101,
     "metadata": {},
     "output_type": "execute_result"
    },
    {
     "data": {
      "text/plain": [
       "10"
      ]
     },
     "execution_count": 101,
     "metadata": {},
     "output_type": "execute_result"
    },
    {
     "data": {
      "text/plain": [
       "10"
      ]
     },
     "execution_count": 101,
     "metadata": {},
     "output_type": "execute_result"
    },
    {
     "data": {
      "text/plain": [
       "11"
      ]
     },
     "execution_count": 101,
     "metadata": {},
     "output_type": "execute_result"
    },
    {
     "data": {
      "text/plain": [
       "8"
      ]
     },
     "execution_count": 101,
     "metadata": {},
     "output_type": "execute_result"
    },
    {
     "data": {
      "text/plain": [
       "10"
      ]
     },
     "execution_count": 101,
     "metadata": {},
     "output_type": "execute_result"
    },
    {
     "data": {
      "text/plain": [
       "11"
      ]
     },
     "execution_count": 101,
     "metadata": {},
     "output_type": "execute_result"
    },
    {
     "data": {
      "text/plain": [
       "11"
      ]
     },
     "execution_count": 101,
     "metadata": {},
     "output_type": "execute_result"
    },
    {
     "data": {
      "text/plain": [
       "9"
      ]
     },
     "execution_count": 101,
     "metadata": {},
     "output_type": "execute_result"
    },
    {
     "data": {
      "text/plain": [
       "11"
      ]
     },
     "execution_count": 101,
     "metadata": {},
     "output_type": "execute_result"
    },
    {
     "data": {
      "text/plain": [
       "9"
      ]
     },
     "execution_count": 101,
     "metadata": {},
     "output_type": "execute_result"
    },
    {
     "data": {
      "text/plain": [
       "7"
      ]
     },
     "execution_count": 101,
     "metadata": {},
     "output_type": "execute_result"
    },
    {
     "data": {
      "text/plain": [
       "9"
      ]
     },
     "execution_count": 101,
     "metadata": {},
     "output_type": "execute_result"
    },
    {
     "data": {
      "text/plain": [
       "8"
      ]
     },
     "execution_count": 101,
     "metadata": {},
     "output_type": "execute_result"
    },
    {
     "data": {
      "text/plain": [
       "9"
      ]
     },
     "execution_count": 101,
     "metadata": {},
     "output_type": "execute_result"
    },
    {
     "data": {
      "text/plain": [
       "8"
      ]
     },
     "execution_count": 101,
     "metadata": {},
     "output_type": "execute_result"
    },
    {
     "data": {
      "text/plain": [
       "7"
      ]
     },
     "execution_count": 101,
     "metadata": {},
     "output_type": "execute_result"
    },
    {
     "data": {
      "text/plain": [
       "8"
      ]
     },
     "execution_count": 101,
     "metadata": {},
     "output_type": "execute_result"
    },
    {
     "data": {
      "text/plain": [
       "8"
      ]
     },
     "execution_count": 101,
     "metadata": {},
     "output_type": "execute_result"
    },
    {
     "data": {
      "text/plain": [
       "10"
      ]
     },
     "execution_count": 101,
     "metadata": {},
     "output_type": "execute_result"
    },
    {
     "data": {
      "text/plain": [
       "9"
      ]
     },
     "execution_count": 101,
     "metadata": {},
     "output_type": "execute_result"
    },
    {
     "data": {
      "text/plain": [
       "10"
      ]
     },
     "execution_count": 101,
     "metadata": {},
     "output_type": "execute_result"
    },
    {
     "data": {
      "text/plain": [
       "10"
      ]
     },
     "execution_count": 101,
     "metadata": {},
     "output_type": "execute_result"
    },
    {
     "data": {
      "text/plain": [
       "9"
      ]
     },
     "execution_count": 101,
     "metadata": {},
     "output_type": "execute_result"
    },
    {
     "data": {
      "text/plain": [
       "9"
      ]
     },
     "execution_count": 101,
     "metadata": {},
     "output_type": "execute_result"
    },
    {
     "data": {
      "text/plain": [
       "10"
      ]
     },
     "execution_count": 101,
     "metadata": {},
     "output_type": "execute_result"
    },
    {
     "data": {
      "text/plain": [
       "9"
      ]
     },
     "execution_count": 101,
     "metadata": {},
     "output_type": "execute_result"
    },
    {
     "data": {
      "text/plain": [
       "10"
      ]
     },
     "execution_count": 101,
     "metadata": {},
     "output_type": "execute_result"
    },
    {
     "data": {
      "text/plain": [
       "9"
      ]
     },
     "execution_count": 101,
     "metadata": {},
     "output_type": "execute_result"
    },
    {
     "data": {
      "text/plain": [
       "9"
      ]
     },
     "execution_count": 101,
     "metadata": {},
     "output_type": "execute_result"
    },
    {
     "data": {
      "text/plain": [
       "10"
      ]
     },
     "execution_count": 101,
     "metadata": {},
     "output_type": "execute_result"
    },
    {
     "data": {
      "text/plain": [
       "10"
      ]
     },
     "execution_count": 101,
     "metadata": {},
     "output_type": "execute_result"
    },
    {
     "data": {
      "text/plain": [
       "10"
      ]
     },
     "execution_count": 101,
     "metadata": {},
     "output_type": "execute_result"
    },
    {
     "data": {
      "text/plain": [
       "9"
      ]
     },
     "execution_count": 101,
     "metadata": {},
     "output_type": "execute_result"
    },
    {
     "data": {
      "text/plain": [
       "9"
      ]
     },
     "execution_count": 101,
     "metadata": {},
     "output_type": "execute_result"
    },
    {
     "data": {
      "text/plain": [
       "9"
      ]
     },
     "execution_count": 101,
     "metadata": {},
     "output_type": "execute_result"
    },
    {
     "data": {
      "text/plain": [
       "10"
      ]
     },
     "execution_count": 101,
     "metadata": {},
     "output_type": "execute_result"
    },
    {
     "data": {
      "text/plain": [
       "9"
      ]
     },
     "execution_count": 101,
     "metadata": {},
     "output_type": "execute_result"
    },
    {
     "data": {
      "text/plain": [
       "8"
      ]
     },
     "execution_count": 101,
     "metadata": {},
     "output_type": "execute_result"
    },
    {
     "data": {
      "text/plain": [
       "9"
      ]
     },
     "execution_count": 101,
     "metadata": {},
     "output_type": "execute_result"
    },
    {
     "data": {
      "text/plain": [
       "10"
      ]
     },
     "execution_count": 101,
     "metadata": {},
     "output_type": "execute_result"
    },
    {
     "data": {
      "text/plain": [
       "9"
      ]
     },
     "execution_count": 101,
     "metadata": {},
     "output_type": "execute_result"
    },
    {
     "data": {
      "text/plain": [
       "9"
      ]
     },
     "execution_count": 101,
     "metadata": {},
     "output_type": "execute_result"
    },
    {
     "data": {
      "text/plain": [
       "8"
      ]
     },
     "execution_count": 101,
     "metadata": {},
     "output_type": "execute_result"
    },
    {
     "data": {
      "text/plain": [
       "9"
      ]
     },
     "execution_count": 101,
     "metadata": {},
     "output_type": "execute_result"
    },
    {
     "data": {
      "text/plain": [
       "10"
      ]
     },
     "execution_count": 101,
     "metadata": {},
     "output_type": "execute_result"
    },
    {
     "data": {
      "text/plain": [
       "8"
      ]
     },
     "execution_count": 101,
     "metadata": {},
     "output_type": "execute_result"
    },
    {
     "data": {
      "text/plain": [
       "9"
      ]
     },
     "execution_count": 101,
     "metadata": {},
     "output_type": "execute_result"
    },
    {
     "data": {
      "text/plain": [
       "9"
      ]
     },
     "execution_count": 101,
     "metadata": {},
     "output_type": "execute_result"
    },
    {
     "data": {
      "text/plain": [
       "7"
      ]
     },
     "execution_count": 101,
     "metadata": {},
     "output_type": "execute_result"
    },
    {
     "data": {
      "text/plain": [
       "8"
      ]
     },
     "execution_count": 101,
     "metadata": {},
     "output_type": "execute_result"
    },
    {
     "data": {
      "text/plain": [
       "7"
      ]
     },
     "execution_count": 101,
     "metadata": {},
     "output_type": "execute_result"
    },
    {
     "data": {
      "text/plain": [
       "7"
      ]
     },
     "execution_count": 101,
     "metadata": {},
     "output_type": "execute_result"
    },
    {
     "data": {
      "text/plain": [
       "8"
      ]
     },
     "execution_count": 101,
     "metadata": {},
     "output_type": "execute_result"
    },
    {
     "data": {
      "text/plain": [
       "9"
      ]
     },
     "execution_count": 101,
     "metadata": {},
     "output_type": "execute_result"
    },
    {
     "data": {
      "text/plain": [
       "8"
      ]
     },
     "execution_count": 101,
     "metadata": {},
     "output_type": "execute_result"
    },
    {
     "data": {
      "text/plain": [
       "9"
      ]
     },
     "execution_count": 101,
     "metadata": {},
     "output_type": "execute_result"
    },
    {
     "data": {
      "text/plain": [
       "11"
      ]
     },
     "execution_count": 101,
     "metadata": {},
     "output_type": "execute_result"
    },
    {
     "data": {
      "text/plain": [
       "8"
      ]
     },
     "execution_count": 101,
     "metadata": {},
     "output_type": "execute_result"
    },
    {
     "data": {
      "text/plain": [
       "9"
      ]
     },
     "execution_count": 101,
     "metadata": {},
     "output_type": "execute_result"
    },
    {
     "data": {
      "text/plain": [
       "8"
      ]
     },
     "execution_count": 101,
     "metadata": {},
     "output_type": "execute_result"
    },
    {
     "data": {
      "text/plain": [
       "9"
      ]
     },
     "execution_count": 101,
     "metadata": {},
     "output_type": "execute_result"
    },
    {
     "data": {
      "text/plain": [
       "7"
      ]
     },
     "execution_count": 101,
     "metadata": {},
     "output_type": "execute_result"
    },
    {
     "data": {
      "text/plain": [
       "9"
      ]
     },
     "execution_count": 101,
     "metadata": {},
     "output_type": "execute_result"
    },
    {
     "data": {
      "text/plain": [
       "8"
      ]
     },
     "execution_count": 101,
     "metadata": {},
     "output_type": "execute_result"
    },
    {
     "data": {
      "text/plain": [
       "9"
      ]
     },
     "execution_count": 101,
     "metadata": {},
     "output_type": "execute_result"
    },
    {
     "data": {
      "text/plain": [
       "7"
      ]
     },
     "execution_count": 101,
     "metadata": {},
     "output_type": "execute_result"
    },
    {
     "data": {
      "text/plain": [
       "8"
      ]
     },
     "execution_count": 101,
     "metadata": {},
     "output_type": "execute_result"
    },
    {
     "data": {
      "text/plain": [
       "8"
      ]
     },
     "execution_count": 101,
     "metadata": {},
     "output_type": "execute_result"
    },
    {
     "data": {
      "text/plain": [
       "10"
      ]
     },
     "execution_count": 101,
     "metadata": {},
     "output_type": "execute_result"
    },
    {
     "data": {
      "text/plain": [
       "10"
      ]
     },
     "execution_count": 101,
     "metadata": {},
     "output_type": "execute_result"
    },
    {
     "data": {
      "text/plain": [
       "8"
      ]
     },
     "execution_count": 101,
     "metadata": {},
     "output_type": "execute_result"
    },
    {
     "data": {
      "text/plain": [
       "7"
      ]
     },
     "execution_count": 101,
     "metadata": {},
     "output_type": "execute_result"
    },
    {
     "data": {
      "text/plain": [
       "7"
      ]
     },
     "execution_count": 101,
     "metadata": {},
     "output_type": "execute_result"
    },
    {
     "data": {
      "text/plain": [
       "7"
      ]
     },
     "execution_count": 101,
     "metadata": {},
     "output_type": "execute_result"
    },
    {
     "data": {
      "text/plain": [
       "10"
      ]
     },
     "execution_count": 101,
     "metadata": {},
     "output_type": "execute_result"
    },
    {
     "data": {
      "text/plain": [
       "7"
      ]
     },
     "execution_count": 101,
     "metadata": {},
     "output_type": "execute_result"
    },
    {
     "data": {
      "text/plain": [
       "8"
      ]
     },
     "execution_count": 101,
     "metadata": {},
     "output_type": "execute_result"
    },
    {
     "data": {
      "text/plain": [
       "7"
      ]
     },
     "execution_count": 101,
     "metadata": {},
     "output_type": "execute_result"
    },
    {
     "data": {
      "text/plain": [
       "9"
      ]
     },
     "execution_count": 101,
     "metadata": {},
     "output_type": "execute_result"
    },
    {
     "data": {
      "text/plain": [
       "8"
      ]
     },
     "execution_count": 101,
     "metadata": {},
     "output_type": "execute_result"
    },
    {
     "data": {
      "text/plain": [
       "9"
      ]
     },
     "execution_count": 101,
     "metadata": {},
     "output_type": "execute_result"
    },
    {
     "data": {
      "text/plain": [
       "12"
      ]
     },
     "execution_count": 101,
     "metadata": {},
     "output_type": "execute_result"
    },
    {
     "data": {
      "text/plain": [
       "8"
      ]
     },
     "execution_count": 101,
     "metadata": {},
     "output_type": "execute_result"
    },
    {
     "data": {
      "text/plain": [
       "9"
      ]
     },
     "execution_count": 101,
     "metadata": {},
     "output_type": "execute_result"
    },
    {
     "data": {
      "text/plain": [
       "10"
      ]
     },
     "execution_count": 101,
     "metadata": {},
     "output_type": "execute_result"
    },
    {
     "data": {
      "text/plain": [
       "9"
      ]
     },
     "execution_count": 101,
     "metadata": {},
     "output_type": "execute_result"
    },
    {
     "data": {
      "text/plain": [
       "9"
      ]
     },
     "execution_count": 101,
     "metadata": {},
     "output_type": "execute_result"
    },
    {
     "data": {
      "text/plain": [
       "8"
      ]
     },
     "execution_count": 101,
     "metadata": {},
     "output_type": "execute_result"
    },
    {
     "data": {
      "text/plain": [
       "8"
      ]
     },
     "execution_count": 101,
     "metadata": {},
     "output_type": "execute_result"
    },
    {
     "data": {
      "text/plain": [
       "10"
      ]
     },
     "execution_count": 101,
     "metadata": {},
     "output_type": "execute_result"
    },
    {
     "data": {
      "text/plain": [
       "10"
      ]
     },
     "execution_count": 101,
     "metadata": {},
     "output_type": "execute_result"
    },
    {
     "data": {
      "text/plain": [
       "11"
      ]
     },
     "execution_count": 101,
     "metadata": {},
     "output_type": "execute_result"
    },
    {
     "data": {
      "text/plain": [
       "13"
      ]
     },
     "execution_count": 101,
     "metadata": {},
     "output_type": "execute_result"
    },
    {
     "data": {
      "text/plain": [
       "11"
      ]
     },
     "execution_count": 101,
     "metadata": {},
     "output_type": "execute_result"
    },
    {
     "data": {
      "text/plain": [
       "9"
      ]
     },
     "execution_count": 101,
     "metadata": {},
     "output_type": "execute_result"
    },
    {
     "data": {
      "text/plain": [
       "11"
      ]
     },
     "execution_count": 101,
     "metadata": {},
     "output_type": "execute_result"
    },
    {
     "data": {
      "text/plain": [
       "11"
      ]
     },
     "execution_count": 101,
     "metadata": {},
     "output_type": "execute_result"
    },
    {
     "data": {
      "text/plain": [
       "10"
      ]
     },
     "execution_count": 101,
     "metadata": {},
     "output_type": "execute_result"
    },
    {
     "data": {
      "text/plain": [
       "9"
      ]
     },
     "execution_count": 101,
     "metadata": {},
     "output_type": "execute_result"
    },
    {
     "data": {
      "text/plain": [
       "8"
      ]
     },
     "execution_count": 101,
     "metadata": {},
     "output_type": "execute_result"
    },
    {
     "data": {
      "text/plain": [
       "8"
      ]
     },
     "execution_count": 101,
     "metadata": {},
     "output_type": "execute_result"
    },
    {
     "data": {
      "text/plain": [
       "8"
      ]
     },
     "execution_count": 101,
     "metadata": {},
     "output_type": "execute_result"
    },
    {
     "data": {
      "text/plain": [
       "9"
      ]
     },
     "execution_count": 101,
     "metadata": {},
     "output_type": "execute_result"
    },
    {
     "data": {
      "text/plain": [
       "9"
      ]
     },
     "execution_count": 101,
     "metadata": {},
     "output_type": "execute_result"
    },
    {
     "data": {
      "text/plain": [
       "10"
      ]
     },
     "execution_count": 101,
     "metadata": {},
     "output_type": "execute_result"
    },
    {
     "data": {
      "text/plain": [
       "9"
      ]
     },
     "execution_count": 101,
     "metadata": {},
     "output_type": "execute_result"
    },
    {
     "data": {
      "text/plain": [
       "9"
      ]
     },
     "execution_count": 101,
     "metadata": {},
     "output_type": "execute_result"
    },
    {
     "data": {
      "text/plain": [
       "8"
      ]
     },
     "execution_count": 101,
     "metadata": {},
     "output_type": "execute_result"
    },
    {
     "data": {
      "text/plain": [
       "9"
      ]
     },
     "execution_count": 101,
     "metadata": {},
     "output_type": "execute_result"
    },
    {
     "data": {
      "text/plain": [
       "7"
      ]
     },
     "execution_count": 101,
     "metadata": {},
     "output_type": "execute_result"
    },
    {
     "data": {
      "text/plain": [
       "8"
      ]
     },
     "execution_count": 101,
     "metadata": {},
     "output_type": "execute_result"
    },
    {
     "data": {
      "text/plain": [
       "9"
      ]
     },
     "execution_count": 101,
     "metadata": {},
     "output_type": "execute_result"
    },
    {
     "data": {
      "text/plain": [
       "11"
      ]
     },
     "execution_count": 101,
     "metadata": {},
     "output_type": "execute_result"
    },
    {
     "data": {
      "text/plain": [
       "10"
      ]
     },
     "execution_count": 101,
     "metadata": {},
     "output_type": "execute_result"
    },
    {
     "data": {
      "text/plain": [
       "9"
      ]
     },
     "execution_count": 101,
     "metadata": {},
     "output_type": "execute_result"
    },
    {
     "data": {
      "text/plain": [
       "10"
      ]
     },
     "execution_count": 101,
     "metadata": {},
     "output_type": "execute_result"
    },
    {
     "data": {
      "text/plain": [
       "9"
      ]
     },
     "execution_count": 101,
     "metadata": {},
     "output_type": "execute_result"
    },
    {
     "data": {
      "text/plain": [
       "8"
      ]
     },
     "execution_count": 101,
     "metadata": {},
     "output_type": "execute_result"
    },
    {
     "data": {
      "text/plain": [
       "9"
      ]
     },
     "execution_count": 101,
     "metadata": {},
     "output_type": "execute_result"
    },
    {
     "data": {
      "text/plain": [
       "9"
      ]
     },
     "execution_count": 101,
     "metadata": {},
     "output_type": "execute_result"
    },
    {
     "data": {
      "text/plain": [
       "10"
      ]
     },
     "execution_count": 101,
     "metadata": {},
     "output_type": "execute_result"
    },
    {
     "data": {
      "text/plain": [
       "9"
      ]
     },
     "execution_count": 101,
     "metadata": {},
     "output_type": "execute_result"
    },
    {
     "data": {
      "text/plain": [
       "12"
      ]
     },
     "execution_count": 101,
     "metadata": {},
     "output_type": "execute_result"
    },
    {
     "data": {
      "text/plain": [
       "13"
      ]
     },
     "execution_count": 101,
     "metadata": {},
     "output_type": "execute_result"
    },
    {
     "data": {
      "text/plain": [
       "12"
      ]
     },
     "execution_count": 101,
     "metadata": {},
     "output_type": "execute_result"
    },
    {
     "data": {
      "text/plain": [
       "11"
      ]
     },
     "execution_count": 101,
     "metadata": {},
     "output_type": "execute_result"
    },
    {
     "data": {
      "text/plain": [
       "13"
      ]
     },
     "execution_count": 101,
     "metadata": {},
     "output_type": "execute_result"
    },
    {
     "data": {
      "text/plain": [
       "11"
      ]
     },
     "execution_count": 101,
     "metadata": {},
     "output_type": "execute_result"
    },
    {
     "data": {
      "text/plain": [
       "13"
      ]
     },
     "execution_count": 101,
     "metadata": {},
     "output_type": "execute_result"
    },
    {
     "data": {
      "text/plain": [
       "11"
      ]
     },
     "execution_count": 101,
     "metadata": {},
     "output_type": "execute_result"
    },
    {
     "data": {
      "text/plain": [
       "10"
      ]
     },
     "execution_count": 101,
     "metadata": {},
     "output_type": "execute_result"
    },
    {
     "data": {
      "text/plain": [
       "10"
      ]
     },
     "execution_count": 101,
     "metadata": {},
     "output_type": "execute_result"
    },
    {
     "data": {
      "text/plain": [
       "12"
      ]
     },
     "execution_count": 101,
     "metadata": {},
     "output_type": "execute_result"
    },
    {
     "data": {
      "text/plain": [
       "12"
      ]
     },
     "execution_count": 101,
     "metadata": {},
     "output_type": "execute_result"
    },
    {
     "data": {
      "text/plain": [
       "12"
      ]
     },
     "execution_count": 101,
     "metadata": {},
     "output_type": "execute_result"
    },
    {
     "data": {
      "text/plain": [
       "9"
      ]
     },
     "execution_count": 101,
     "metadata": {},
     "output_type": "execute_result"
    },
    {
     "data": {
      "text/plain": [
       "9"
      ]
     },
     "execution_count": 101,
     "metadata": {},
     "output_type": "execute_result"
    },
    {
     "data": {
      "text/plain": [
       "11"
      ]
     },
     "execution_count": 101,
     "metadata": {},
     "output_type": "execute_result"
    },
    {
     "data": {
      "text/plain": [
       "9"
      ]
     },
     "execution_count": 101,
     "metadata": {},
     "output_type": "execute_result"
    },
    {
     "data": {
      "text/plain": [
       "10"
      ]
     },
     "execution_count": 101,
     "metadata": {},
     "output_type": "execute_result"
    },
    {
     "data": {
      "text/plain": [
       "11"
      ]
     },
     "execution_count": 101,
     "metadata": {},
     "output_type": "execute_result"
    },
    {
     "data": {
      "text/plain": [
       "12"
      ]
     },
     "execution_count": 101,
     "metadata": {},
     "output_type": "execute_result"
    },
    {
     "data": {
      "text/plain": [
       "12"
      ]
     },
     "execution_count": 101,
     "metadata": {},
     "output_type": "execute_result"
    },
    {
     "data": {
      "text/plain": [
       "9"
      ]
     },
     "execution_count": 101,
     "metadata": {},
     "output_type": "execute_result"
    },
    {
     "data": {
      "text/plain": [
       "10"
      ]
     },
     "execution_count": 101,
     "metadata": {},
     "output_type": "execute_result"
    },
    {
     "data": {
      "text/plain": [
       "13"
      ]
     },
     "execution_count": 101,
     "metadata": {},
     "output_type": "execute_result"
    },
    {
     "data": {
      "text/plain": [
       "8"
      ]
     },
     "execution_count": 101,
     "metadata": {},
     "output_type": "execute_result"
    },
    {
     "data": {
      "text/plain": [
       "10"
      ]
     },
     "execution_count": 101,
     "metadata": {},
     "output_type": "execute_result"
    },
    {
     "data": {
      "text/plain": [
       "11"
      ]
     },
     "execution_count": 101,
     "metadata": {},
     "output_type": "execute_result"
    },
    {
     "data": {
      "text/plain": [
       "11"
      ]
     },
     "execution_count": 101,
     "metadata": {},
     "output_type": "execute_result"
    },
    {
     "data": {
      "text/plain": [
       "10"
      ]
     },
     "execution_count": 101,
     "metadata": {},
     "output_type": "execute_result"
    },
    {
     "data": {
      "text/plain": [
       "9"
      ]
     },
     "execution_count": 101,
     "metadata": {},
     "output_type": "execute_result"
    },
    {
     "data": {
      "text/plain": [
       "11"
      ]
     },
     "execution_count": 101,
     "metadata": {},
     "output_type": "execute_result"
    },
    {
     "data": {
      "text/plain": [
       "9"
      ]
     },
     "execution_count": 101,
     "metadata": {},
     "output_type": "execute_result"
    },
    {
     "data": {
      "text/plain": [
       "9"
      ]
     },
     "execution_count": 101,
     "metadata": {},
     "output_type": "execute_result"
    },
    {
     "data": {
      "text/plain": [
       "9"
      ]
     },
     "execution_count": 101,
     "metadata": {},
     "output_type": "execute_result"
    },
    {
     "data": {
      "text/plain": [
       "10"
      ]
     },
     "execution_count": 101,
     "metadata": {},
     "output_type": "execute_result"
    },
    {
     "data": {
      "text/plain": [
       "9"
      ]
     },
     "execution_count": 101,
     "metadata": {},
     "output_type": "execute_result"
    },
    {
     "data": {
      "text/plain": [
       "8"
      ]
     },
     "execution_count": 101,
     "metadata": {},
     "output_type": "execute_result"
    },
    {
     "data": {
      "text/plain": [
       "9"
      ]
     },
     "execution_count": 101,
     "metadata": {},
     "output_type": "execute_result"
    },
    {
     "data": {
      "text/plain": [
       "8"
      ]
     },
     "execution_count": 101,
     "metadata": {},
     "output_type": "execute_result"
    },
    {
     "data": {
      "text/plain": [
       "6"
      ]
     },
     "execution_count": 101,
     "metadata": {},
     "output_type": "execute_result"
    },
    {
     "data": {
      "text/plain": [
       "10"
      ]
     },
     "execution_count": 101,
     "metadata": {},
     "output_type": "execute_result"
    },
    {
     "data": {
      "text/plain": [
       "10"
      ]
     },
     "execution_count": 101,
     "metadata": {},
     "output_type": "execute_result"
    },
    {
     "data": {
      "text/plain": [
       "10"
      ]
     },
     "execution_count": 101,
     "metadata": {},
     "output_type": "execute_result"
    },
    {
     "data": {
      "text/plain": [
       "9"
      ]
     },
     "execution_count": 101,
     "metadata": {},
     "output_type": "execute_result"
    },
    {
     "data": {
      "text/plain": [
       "9"
      ]
     },
     "execution_count": 101,
     "metadata": {},
     "output_type": "execute_result"
    },
    {
     "data": {
      "text/plain": [
       "10"
      ]
     },
     "execution_count": 101,
     "metadata": {},
     "output_type": "execute_result"
    },
    {
     "data": {
      "text/plain": [
       "11"
      ]
     },
     "execution_count": 101,
     "metadata": {},
     "output_type": "execute_result"
    },
    {
     "data": {
      "text/plain": [
       "8"
      ]
     },
     "execution_count": 101,
     "metadata": {},
     "output_type": "execute_result"
    },
    {
     "data": {
      "text/plain": [
       "8"
      ]
     },
     "execution_count": 101,
     "metadata": {},
     "output_type": "execute_result"
    },
    {
     "data": {
      "text/plain": [
       "10"
      ]
     },
     "execution_count": 101,
     "metadata": {},
     "output_type": "execute_result"
    },
    {
     "data": {
      "text/plain": [
       "11"
      ]
     },
     "execution_count": 101,
     "metadata": {},
     "output_type": "execute_result"
    },
    {
     "data": {
      "text/plain": [
       "12"
      ]
     },
     "execution_count": 101,
     "metadata": {},
     "output_type": "execute_result"
    },
    {
     "data": {
      "text/plain": [
       "12"
      ]
     },
     "execution_count": 101,
     "metadata": {},
     "output_type": "execute_result"
    },
    {
     "data": {
      "text/plain": [
       "11"
      ]
     },
     "execution_count": 101,
     "metadata": {},
     "output_type": "execute_result"
    },
    {
     "data": {
      "text/plain": [
       "10"
      ]
     },
     "execution_count": 101,
     "metadata": {},
     "output_type": "execute_result"
    },
    {
     "data": {
      "text/plain": [
       "12"
      ]
     },
     "execution_count": 101,
     "metadata": {},
     "output_type": "execute_result"
    },
    {
     "data": {
      "text/plain": [
       "11"
      ]
     },
     "execution_count": 101,
     "metadata": {},
     "output_type": "execute_result"
    },
    {
     "data": {
      "text/plain": [
       "11"
      ]
     },
     "execution_count": 101,
     "metadata": {},
     "output_type": "execute_result"
    },
    {
     "data": {
      "text/plain": [
       "8"
      ]
     },
     "execution_count": 101,
     "metadata": {},
     "output_type": "execute_result"
    },
    {
     "data": {
      "text/plain": [
       "12"
      ]
     },
     "execution_count": 101,
     "metadata": {},
     "output_type": "execute_result"
    },
    {
     "data": {
      "text/plain": [
       "9"
      ]
     },
     "execution_count": 101,
     "metadata": {},
     "output_type": "execute_result"
    },
    {
     "data": {
      "text/plain": [
       "8"
      ]
     },
     "execution_count": 101,
     "metadata": {},
     "output_type": "execute_result"
    },
    {
     "data": {
      "text/plain": [
       "11"
      ]
     },
     "execution_count": 101,
     "metadata": {},
     "output_type": "execute_result"
    },
    {
     "data": {
      "text/plain": [
       "9"
      ]
     },
     "execution_count": 101,
     "metadata": {},
     "output_type": "execute_result"
    },
    {
     "data": {
      "text/plain": [
       "7"
      ]
     },
     "execution_count": 101,
     "metadata": {},
     "output_type": "execute_result"
    },
    {
     "data": {
      "text/plain": [
       "12"
      ]
     },
     "execution_count": 101,
     "metadata": {},
     "output_type": "execute_result"
    },
    {
     "data": {
      "text/plain": [
       "8"
      ]
     },
     "execution_count": 101,
     "metadata": {},
     "output_type": "execute_result"
    },
    {
     "data": {
      "text/plain": [
       "10"
      ]
     },
     "execution_count": 101,
     "metadata": {},
     "output_type": "execute_result"
    },
    {
     "data": {
      "text/plain": [
       "8"
      ]
     },
     "execution_count": 101,
     "metadata": {},
     "output_type": "execute_result"
    },
    {
     "data": {
      "text/plain": [
       "10"
      ]
     },
     "execution_count": 101,
     "metadata": {},
     "output_type": "execute_result"
    },
    {
     "data": {
      "text/plain": [
       "9"
      ]
     },
     "execution_count": 101,
     "metadata": {},
     "output_type": "execute_result"
    },
    {
     "data": {
      "text/plain": [
       "9"
      ]
     },
     "execution_count": 101,
     "metadata": {},
     "output_type": "execute_result"
    },
    {
     "data": {
      "text/plain": [
       "8"
      ]
     },
     "execution_count": 101,
     "metadata": {},
     "output_type": "execute_result"
    },
    {
     "data": {
      "text/plain": [
       "9"
      ]
     },
     "execution_count": 101,
     "metadata": {},
     "output_type": "execute_result"
    },
    {
     "data": {
      "text/plain": [
       "10"
      ]
     },
     "execution_count": 101,
     "metadata": {},
     "output_type": "execute_result"
    },
    {
     "data": {
      "text/plain": [
       "9"
      ]
     },
     "execution_count": 101,
     "metadata": {},
     "output_type": "execute_result"
    },
    {
     "data": {
      "text/plain": [
       "10"
      ]
     },
     "execution_count": 101,
     "metadata": {},
     "output_type": "execute_result"
    },
    {
     "data": {
      "text/plain": [
       "11"
      ]
     },
     "execution_count": 101,
     "metadata": {},
     "output_type": "execute_result"
    },
    {
     "data": {
      "text/plain": [
       "9"
      ]
     },
     "execution_count": 101,
     "metadata": {},
     "output_type": "execute_result"
    },
    {
     "data": {
      "text/plain": [
       "9"
      ]
     },
     "execution_count": 101,
     "metadata": {},
     "output_type": "execute_result"
    },
    {
     "data": {
      "text/plain": [
       "8"
      ]
     },
     "execution_count": 101,
     "metadata": {},
     "output_type": "execute_result"
    },
    {
     "data": {
      "text/plain": [
       "8"
      ]
     },
     "execution_count": 101,
     "metadata": {},
     "output_type": "execute_result"
    },
    {
     "data": {
      "text/plain": [
       "10"
      ]
     },
     "execution_count": 101,
     "metadata": {},
     "output_type": "execute_result"
    },
    {
     "data": {
      "text/plain": [
       "10"
      ]
     },
     "execution_count": 101,
     "metadata": {},
     "output_type": "execute_result"
    },
    {
     "data": {
      "text/plain": [
       "8"
      ]
     },
     "execution_count": 101,
     "metadata": {},
     "output_type": "execute_result"
    },
    {
     "data": {
      "text/plain": [
       "9"
      ]
     },
     "execution_count": 101,
     "metadata": {},
     "output_type": "execute_result"
    },
    {
     "data": {
      "text/plain": [
       "8"
      ]
     },
     "execution_count": 101,
     "metadata": {},
     "output_type": "execute_result"
    },
    {
     "data": {
      "text/plain": [
       "9"
      ]
     },
     "execution_count": 101,
     "metadata": {},
     "output_type": "execute_result"
    },
    {
     "data": {
      "text/plain": [
       "9"
      ]
     },
     "execution_count": 101,
     "metadata": {},
     "output_type": "execute_result"
    },
    {
     "data": {
      "text/plain": [
       "8"
      ]
     },
     "execution_count": 101,
     "metadata": {},
     "output_type": "execute_result"
    },
    {
     "data": {
      "text/plain": [
       "8"
      ]
     },
     "execution_count": 101,
     "metadata": {},
     "output_type": "execute_result"
    },
    {
     "data": {
      "text/plain": [
       "11"
      ]
     },
     "execution_count": 101,
     "metadata": {},
     "output_type": "execute_result"
    },
    {
     "data": {
      "text/plain": [
       "10"
      ]
     },
     "execution_count": 101,
     "metadata": {},
     "output_type": "execute_result"
    },
    {
     "data": {
      "text/plain": [
       "9"
      ]
     },
     "execution_count": 101,
     "metadata": {},
     "output_type": "execute_result"
    },
    {
     "data": {
      "text/plain": [
       "8"
      ]
     },
     "execution_count": 101,
     "metadata": {},
     "output_type": "execute_result"
    },
    {
     "data": {
      "text/plain": [
       "9"
      ]
     },
     "execution_count": 101,
     "metadata": {},
     "output_type": "execute_result"
    },
    {
     "data": {
      "text/plain": [
       "9"
      ]
     },
     "execution_count": 101,
     "metadata": {},
     "output_type": "execute_result"
    },
    {
     "data": {
      "text/plain": [
       "9"
      ]
     },
     "execution_count": 101,
     "metadata": {},
     "output_type": "execute_result"
    },
    {
     "data": {
      "text/plain": [
       "10"
      ]
     },
     "execution_count": 101,
     "metadata": {},
     "output_type": "execute_result"
    },
    {
     "data": {
      "text/plain": [
       "9"
      ]
     },
     "execution_count": 101,
     "metadata": {},
     "output_type": "execute_result"
    },
    {
     "data": {
      "text/plain": [
       "10"
      ]
     },
     "execution_count": 101,
     "metadata": {},
     "output_type": "execute_result"
    },
    {
     "data": {
      "text/plain": [
       "11"
      ]
     },
     "execution_count": 101,
     "metadata": {},
     "output_type": "execute_result"
    },
    {
     "data": {
      "text/plain": [
       "8"
      ]
     },
     "execution_count": 101,
     "metadata": {},
     "output_type": "execute_result"
    },
    {
     "data": {
      "text/plain": [
       "8"
      ]
     },
     "execution_count": 101,
     "metadata": {},
     "output_type": "execute_result"
    },
    {
     "data": {
      "text/plain": [
       "7"
      ]
     },
     "execution_count": 101,
     "metadata": {},
     "output_type": "execute_result"
    },
    {
     "data": {
      "text/plain": [
       "8"
      ]
     },
     "execution_count": 101,
     "metadata": {},
     "output_type": "execute_result"
    },
    {
     "data": {
      "text/plain": [
       "9"
      ]
     },
     "execution_count": 101,
     "metadata": {},
     "output_type": "execute_result"
    },
    {
     "data": {
      "text/plain": [
       "8"
      ]
     },
     "execution_count": 101,
     "metadata": {},
     "output_type": "execute_result"
    },
    {
     "data": {
      "text/plain": [
       "11"
      ]
     },
     "execution_count": 101,
     "metadata": {},
     "output_type": "execute_result"
    },
    {
     "data": {
      "text/plain": [
       "9"
      ]
     },
     "execution_count": 101,
     "metadata": {},
     "output_type": "execute_result"
    },
    {
     "data": {
      "text/plain": [
       "8"
      ]
     },
     "execution_count": 101,
     "metadata": {},
     "output_type": "execute_result"
    },
    {
     "data": {
      "text/plain": [
       "8"
      ]
     },
     "execution_count": 101,
     "metadata": {},
     "output_type": "execute_result"
    },
    {
     "data": {
      "text/plain": [
       "9"
      ]
     },
     "execution_count": 101,
     "metadata": {},
     "output_type": "execute_result"
    },
    {
     "data": {
      "text/plain": [
       "10"
      ]
     },
     "execution_count": 101,
     "metadata": {},
     "output_type": "execute_result"
    },
    {
     "data": {
      "text/plain": [
       "9"
      ]
     },
     "execution_count": 101,
     "metadata": {},
     "output_type": "execute_result"
    },
    {
     "data": {
      "text/plain": [
       "8"
      ]
     },
     "execution_count": 101,
     "metadata": {},
     "output_type": "execute_result"
    },
    {
     "data": {
      "text/plain": [
       "7"
      ]
     },
     "execution_count": 101,
     "metadata": {},
     "output_type": "execute_result"
    },
    {
     "data": {
      "text/plain": [
       "8"
      ]
     },
     "execution_count": 101,
     "metadata": {},
     "output_type": "execute_result"
    },
    {
     "data": {
      "text/plain": [
       "8"
      ]
     },
     "execution_count": 101,
     "metadata": {},
     "output_type": "execute_result"
    },
    {
     "data": {
      "text/plain": [
       "11"
      ]
     },
     "execution_count": 101,
     "metadata": {},
     "output_type": "execute_result"
    },
    {
     "data": {
      "text/plain": [
       "9"
      ]
     },
     "execution_count": 101,
     "metadata": {},
     "output_type": "execute_result"
    },
    {
     "data": {
      "text/plain": [
       "7"
      ]
     },
     "execution_count": 101,
     "metadata": {},
     "output_type": "execute_result"
    },
    {
     "data": {
      "text/plain": [
       "9"
      ]
     },
     "execution_count": 101,
     "metadata": {},
     "output_type": "execute_result"
    },
    {
     "data": {
      "text/plain": [
       "8"
      ]
     },
     "execution_count": 101,
     "metadata": {},
     "output_type": "execute_result"
    },
    {
     "data": {
      "text/plain": [
       "8"
      ]
     },
     "execution_count": 101,
     "metadata": {},
     "output_type": "execute_result"
    },
    {
     "data": {
      "text/plain": [
       "8"
      ]
     },
     "execution_count": 101,
     "metadata": {},
     "output_type": "execute_result"
    },
    {
     "data": {
      "text/plain": [
       "8"
      ]
     },
     "execution_count": 101,
     "metadata": {},
     "output_type": "execute_result"
    },
    {
     "data": {
      "text/plain": [
       "8"
      ]
     },
     "execution_count": 101,
     "metadata": {},
     "output_type": "execute_result"
    },
    {
     "data": {
      "text/plain": [
       "9"
      ]
     },
     "execution_count": 101,
     "metadata": {},
     "output_type": "execute_result"
    },
    {
     "data": {
      "text/plain": [
       "11"
      ]
     },
     "execution_count": 101,
     "metadata": {},
     "output_type": "execute_result"
    },
    {
     "data": {
      "text/plain": [
       "10"
      ]
     },
     "execution_count": 101,
     "metadata": {},
     "output_type": "execute_result"
    },
    {
     "data": {
      "text/plain": [
       "9"
      ]
     },
     "execution_count": 101,
     "metadata": {},
     "output_type": "execute_result"
    },
    {
     "data": {
      "text/plain": [
       "8"
      ]
     },
     "execution_count": 101,
     "metadata": {},
     "output_type": "execute_result"
    },
    {
     "data": {
      "text/plain": [
       "12"
      ]
     },
     "execution_count": 101,
     "metadata": {},
     "output_type": "execute_result"
    },
    {
     "data": {
      "text/plain": [
       "11"
      ]
     },
     "execution_count": 101,
     "metadata": {},
     "output_type": "execute_result"
    },
    {
     "data": {
      "text/plain": [
       "8"
      ]
     },
     "execution_count": 101,
     "metadata": {},
     "output_type": "execute_result"
    },
    {
     "data": {
      "text/plain": [
       "10"
      ]
     },
     "execution_count": 101,
     "metadata": {},
     "output_type": "execute_result"
    },
    {
     "data": {
      "text/plain": [
       "10"
      ]
     },
     "execution_count": 101,
     "metadata": {},
     "output_type": "execute_result"
    },
    {
     "data": {
      "text/plain": [
       "9"
      ]
     },
     "execution_count": 101,
     "metadata": {},
     "output_type": "execute_result"
    },
    {
     "data": {
      "text/plain": [
       "9"
      ]
     },
     "execution_count": 101,
     "metadata": {},
     "output_type": "execute_result"
    },
    {
     "data": {
      "text/plain": [
       "11"
      ]
     },
     "execution_count": 101,
     "metadata": {},
     "output_type": "execute_result"
    },
    {
     "data": {
      "text/plain": [
       "9"
      ]
     },
     "execution_count": 101,
     "metadata": {},
     "output_type": "execute_result"
    },
    {
     "data": {
      "text/plain": [
       "9"
      ]
     },
     "execution_count": 101,
     "metadata": {},
     "output_type": "execute_result"
    },
    {
     "data": {
      "text/plain": [
       "9"
      ]
     },
     "execution_count": 101,
     "metadata": {},
     "output_type": "execute_result"
    },
    {
     "data": {
      "text/plain": [
       "9"
      ]
     },
     "execution_count": 101,
     "metadata": {},
     "output_type": "execute_result"
    },
    {
     "data": {
      "text/plain": [
       "9"
      ]
     },
     "execution_count": 101,
     "metadata": {},
     "output_type": "execute_result"
    },
    {
     "data": {
      "text/plain": [
       "9"
      ]
     },
     "execution_count": 101,
     "metadata": {},
     "output_type": "execute_result"
    },
    {
     "data": {
      "text/plain": [
       "8"
      ]
     },
     "execution_count": 101,
     "metadata": {},
     "output_type": "execute_result"
    },
    {
     "data": {
      "text/plain": [
       "8"
      ]
     },
     "execution_count": 101,
     "metadata": {},
     "output_type": "execute_result"
    },
    {
     "data": {
      "text/plain": [
       "9"
      ]
     },
     "execution_count": 101,
     "metadata": {},
     "output_type": "execute_result"
    },
    {
     "data": {
      "text/plain": [
       "9"
      ]
     },
     "execution_count": 101,
     "metadata": {},
     "output_type": "execute_result"
    },
    {
     "data": {
      "text/plain": [
       "9"
      ]
     },
     "execution_count": 101,
     "metadata": {},
     "output_type": "execute_result"
    },
    {
     "data": {
      "text/plain": [
       "7"
      ]
     },
     "execution_count": 101,
     "metadata": {},
     "output_type": "execute_result"
    },
    {
     "data": {
      "text/plain": [
       "9"
      ]
     },
     "execution_count": 101,
     "metadata": {},
     "output_type": "execute_result"
    },
    {
     "data": {
      "text/plain": [
       "8"
      ]
     },
     "execution_count": 101,
     "metadata": {},
     "output_type": "execute_result"
    },
    {
     "data": {
      "text/plain": [
       "9"
      ]
     },
     "execution_count": 101,
     "metadata": {},
     "output_type": "execute_result"
    },
    {
     "data": {
      "text/plain": [
       "9"
      ]
     },
     "execution_count": 101,
     "metadata": {},
     "output_type": "execute_result"
    },
    {
     "data": {
      "text/plain": [
       "7"
      ]
     },
     "execution_count": 101,
     "metadata": {},
     "output_type": "execute_result"
    },
    {
     "data": {
      "text/plain": [
       "8"
      ]
     },
     "execution_count": 101,
     "metadata": {},
     "output_type": "execute_result"
    },
    {
     "data": {
      "text/plain": [
       "10"
      ]
     },
     "execution_count": 101,
     "metadata": {},
     "output_type": "execute_result"
    },
    {
     "data": {
      "text/plain": [
       "10"
      ]
     },
     "execution_count": 101,
     "metadata": {},
     "output_type": "execute_result"
    },
    {
     "data": {
      "text/plain": [
       "13"
      ]
     },
     "execution_count": 101,
     "metadata": {},
     "output_type": "execute_result"
    },
    {
     "data": {
      "text/plain": [
       "10"
      ]
     },
     "execution_count": 101,
     "metadata": {},
     "output_type": "execute_result"
    },
    {
     "data": {
      "text/plain": [
       "10"
      ]
     },
     "execution_count": 101,
     "metadata": {},
     "output_type": "execute_result"
    },
    {
     "data": {
      "text/plain": [
       "9"
      ]
     },
     "execution_count": 101,
     "metadata": {},
     "output_type": "execute_result"
    },
    {
     "data": {
      "text/plain": [
       "10"
      ]
     },
     "execution_count": 101,
     "metadata": {},
     "output_type": "execute_result"
    },
    {
     "data": {
      "text/plain": [
       "12"
      ]
     },
     "execution_count": 101,
     "metadata": {},
     "output_type": "execute_result"
    },
    {
     "data": {
      "text/plain": [
       "12"
      ]
     },
     "execution_count": 101,
     "metadata": {},
     "output_type": "execute_result"
    },
    {
     "data": {
      "text/plain": [
       "11"
      ]
     },
     "execution_count": 101,
     "metadata": {},
     "output_type": "execute_result"
    },
    {
     "data": {
      "text/plain": [
       "10"
      ]
     },
     "execution_count": 101,
     "metadata": {},
     "output_type": "execute_result"
    },
    {
     "data": {
      "text/plain": [
       "11"
      ]
     },
     "execution_count": 101,
     "metadata": {},
     "output_type": "execute_result"
    },
    {
     "data": {
      "text/plain": [
       "10"
      ]
     },
     "execution_count": 101,
     "metadata": {},
     "output_type": "execute_result"
    },
    {
     "data": {
      "text/plain": [
       "9"
      ]
     },
     "execution_count": 101,
     "metadata": {},
     "output_type": "execute_result"
    },
    {
     "data": {
      "text/plain": [
       "10"
      ]
     },
     "execution_count": 101,
     "metadata": {},
     "output_type": "execute_result"
    },
    {
     "data": {
      "text/plain": [
       "13"
      ]
     },
     "execution_count": 101,
     "metadata": {},
     "output_type": "execute_result"
    },
    {
     "data": {
      "text/plain": [
       "10"
      ]
     },
     "execution_count": 101,
     "metadata": {},
     "output_type": "execute_result"
    },
    {
     "data": {
      "text/plain": [
       "10"
      ]
     },
     "execution_count": 101,
     "metadata": {},
     "output_type": "execute_result"
    },
    {
     "data": {
      "text/plain": [
       "12"
      ]
     },
     "execution_count": 101,
     "metadata": {},
     "output_type": "execute_result"
    },
    {
     "data": {
      "text/plain": [
       "9"
      ]
     },
     "execution_count": 101,
     "metadata": {},
     "output_type": "execute_result"
    },
    {
     "data": {
      "text/plain": [
       "8"
      ]
     },
     "execution_count": 101,
     "metadata": {},
     "output_type": "execute_result"
    },
    {
     "data": {
      "text/plain": [
       "9"
      ]
     },
     "execution_count": 101,
     "metadata": {},
     "output_type": "execute_result"
    },
    {
     "data": {
      "text/plain": [
       "9"
      ]
     },
     "execution_count": 101,
     "metadata": {},
     "output_type": "execute_result"
    },
    {
     "data": {
      "text/plain": [
       "8"
      ]
     },
     "execution_count": 101,
     "metadata": {},
     "output_type": "execute_result"
    },
    {
     "data": {
      "text/plain": [
       "12"
      ]
     },
     "execution_count": 101,
     "metadata": {},
     "output_type": "execute_result"
    },
    {
     "data": {
      "text/plain": [
       "13"
      ]
     },
     "execution_count": 101,
     "metadata": {},
     "output_type": "execute_result"
    },
    {
     "data": {
      "text/plain": [
       "11"
      ]
     },
     "execution_count": 101,
     "metadata": {},
     "output_type": "execute_result"
    },
    {
     "data": {
      "text/plain": [
       "11"
      ]
     },
     "execution_count": 101,
     "metadata": {},
     "output_type": "execute_result"
    },
    {
     "data": {
      "text/plain": [
       "10"
      ]
     },
     "execution_count": 101,
     "metadata": {},
     "output_type": "execute_result"
    },
    {
     "data": {
      "text/plain": [
       "11"
      ]
     },
     "execution_count": 101,
     "metadata": {},
     "output_type": "execute_result"
    },
    {
     "data": {
      "text/plain": [
       "11"
      ]
     },
     "execution_count": 101,
     "metadata": {},
     "output_type": "execute_result"
    },
    {
     "data": {
      "text/plain": [
       "11"
      ]
     },
     "execution_count": 101,
     "metadata": {},
     "output_type": "execute_result"
    },
    {
     "data": {
      "text/plain": [
       "11"
      ]
     },
     "execution_count": 101,
     "metadata": {},
     "output_type": "execute_result"
    },
    {
     "data": {
      "text/plain": [
       "11"
      ]
     },
     "execution_count": 101,
     "metadata": {},
     "output_type": "execute_result"
    },
    {
     "data": {
      "text/plain": [
       "12"
      ]
     },
     "execution_count": 101,
     "metadata": {},
     "output_type": "execute_result"
    },
    {
     "data": {
      "text/plain": [
       "10"
      ]
     },
     "execution_count": 101,
     "metadata": {},
     "output_type": "execute_result"
    },
    {
     "data": {
      "text/plain": [
       "9"
      ]
     },
     "execution_count": 101,
     "metadata": {},
     "output_type": "execute_result"
    },
    {
     "data": {
      "text/plain": [
       "9"
      ]
     },
     "execution_count": 101,
     "metadata": {},
     "output_type": "execute_result"
    },
    {
     "data": {
      "text/plain": [
       "12"
      ]
     },
     "execution_count": 101,
     "metadata": {},
     "output_type": "execute_result"
    },
    {
     "data": {
      "text/plain": [
       "8"
      ]
     },
     "execution_count": 101,
     "metadata": {},
     "output_type": "execute_result"
    },
    {
     "data": {
      "text/plain": [
       "10"
      ]
     },
     "execution_count": 101,
     "metadata": {},
     "output_type": "execute_result"
    },
    {
     "data": {
      "text/plain": [
       "8"
      ]
     },
     "execution_count": 101,
     "metadata": {},
     "output_type": "execute_result"
    },
    {
     "data": {
      "text/plain": [
       "10"
      ]
     },
     "execution_count": 101,
     "metadata": {},
     "output_type": "execute_result"
    },
    {
     "data": {
      "text/plain": [
       "9"
      ]
     },
     "execution_count": 101,
     "metadata": {},
     "output_type": "execute_result"
    },
    {
     "data": {
      "text/plain": [
       "9"
      ]
     },
     "execution_count": 101,
     "metadata": {},
     "output_type": "execute_result"
    },
    {
     "data": {
      "text/plain": [
       "9"
      ]
     },
     "execution_count": 101,
     "metadata": {},
     "output_type": "execute_result"
    },
    {
     "data": {
      "text/plain": [
       "8"
      ]
     },
     "execution_count": 101,
     "metadata": {},
     "output_type": "execute_result"
    },
    {
     "data": {
      "text/plain": [
       "8"
      ]
     },
     "execution_count": 101,
     "metadata": {},
     "output_type": "execute_result"
    },
    {
     "data": {
      "text/plain": [
       "10"
      ]
     },
     "execution_count": 101,
     "metadata": {},
     "output_type": "execute_result"
    },
    {
     "data": {
      "text/plain": [
       "9"
      ]
     },
     "execution_count": 101,
     "metadata": {},
     "output_type": "execute_result"
    },
    {
     "data": {
      "text/plain": [
       "11"
      ]
     },
     "execution_count": 101,
     "metadata": {},
     "output_type": "execute_result"
    },
    {
     "data": {
      "text/plain": [
       "10"
      ]
     },
     "execution_count": 101,
     "metadata": {},
     "output_type": "execute_result"
    },
    {
     "data": {
      "text/plain": [
       "11"
      ]
     },
     "execution_count": 101,
     "metadata": {},
     "output_type": "execute_result"
    },
    {
     "data": {
      "text/plain": [
       "12"
      ]
     },
     "execution_count": 101,
     "metadata": {},
     "output_type": "execute_result"
    },
    {
     "data": {
      "text/plain": [
       "12"
      ]
     },
     "execution_count": 101,
     "metadata": {},
     "output_type": "execute_result"
    },
    {
     "data": {
      "text/plain": [
       "11"
      ]
     },
     "execution_count": 101,
     "metadata": {},
     "output_type": "execute_result"
    },
    {
     "data": {
      "text/plain": [
       "13"
      ]
     },
     "execution_count": 101,
     "metadata": {},
     "output_type": "execute_result"
    },
    {
     "data": {
      "text/plain": [
       "10"
      ]
     },
     "execution_count": 101,
     "metadata": {},
     "output_type": "execute_result"
    },
    {
     "data": {
      "text/plain": [
       "10"
      ]
     },
     "execution_count": 101,
     "metadata": {},
     "output_type": "execute_result"
    },
    {
     "data": {
      "text/plain": [
       "11"
      ]
     },
     "execution_count": 101,
     "metadata": {},
     "output_type": "execute_result"
    },
    {
     "data": {
      "text/plain": [
       "10"
      ]
     },
     "execution_count": 101,
     "metadata": {},
     "output_type": "execute_result"
    },
    {
     "data": {
      "text/plain": [
       "10"
      ]
     },
     "execution_count": 101,
     "metadata": {},
     "output_type": "execute_result"
    },
    {
     "data": {
      "text/plain": [
       "10"
      ]
     },
     "execution_count": 101,
     "metadata": {},
     "output_type": "execute_result"
    },
    {
     "data": {
      "text/plain": [
       "10"
      ]
     },
     "execution_count": 101,
     "metadata": {},
     "output_type": "execute_result"
    },
    {
     "data": {
      "text/plain": [
       "9"
      ]
     },
     "execution_count": 101,
     "metadata": {},
     "output_type": "execute_result"
    },
    {
     "data": {
      "text/plain": [
       "9"
      ]
     },
     "execution_count": 101,
     "metadata": {},
     "output_type": "execute_result"
    },
    {
     "data": {
      "text/plain": [
       "9"
      ]
     },
     "execution_count": 101,
     "metadata": {},
     "output_type": "execute_result"
    },
    {
     "data": {
      "text/plain": [
       "9"
      ]
     },
     "execution_count": 101,
     "metadata": {},
     "output_type": "execute_result"
    },
    {
     "data": {
      "text/plain": [
       "10"
      ]
     },
     "execution_count": 101,
     "metadata": {},
     "output_type": "execute_result"
    },
    {
     "data": {
      "text/plain": [
       "9"
      ]
     },
     "execution_count": 101,
     "metadata": {},
     "output_type": "execute_result"
    },
    {
     "data": {
      "text/plain": [
       "10"
      ]
     },
     "execution_count": 101,
     "metadata": {},
     "output_type": "execute_result"
    },
    {
     "data": {
      "text/plain": [
       "10"
      ]
     },
     "execution_count": 101,
     "metadata": {},
     "output_type": "execute_result"
    },
    {
     "data": {
      "text/plain": [
       "10"
      ]
     },
     "execution_count": 101,
     "metadata": {},
     "output_type": "execute_result"
    },
    {
     "data": {
      "text/plain": [
       "11"
      ]
     },
     "execution_count": 101,
     "metadata": {},
     "output_type": "execute_result"
    },
    {
     "data": {
      "text/plain": [
       "9"
      ]
     },
     "execution_count": 101,
     "metadata": {},
     "output_type": "execute_result"
    },
    {
     "data": {
      "text/plain": [
       "9"
      ]
     },
     "execution_count": 101,
     "metadata": {},
     "output_type": "execute_result"
    },
    {
     "data": {
      "text/plain": [
       "11"
      ]
     },
     "execution_count": 101,
     "metadata": {},
     "output_type": "execute_result"
    },
    {
     "data": {
      "text/plain": [
       "9"
      ]
     },
     "execution_count": 101,
     "metadata": {},
     "output_type": "execute_result"
    },
    {
     "data": {
      "text/plain": [
       "8"
      ]
     },
     "execution_count": 101,
     "metadata": {},
     "output_type": "execute_result"
    },
    {
     "data": {
      "text/plain": [
       "10"
      ]
     },
     "execution_count": 101,
     "metadata": {},
     "output_type": "execute_result"
    },
    {
     "data": {
      "text/plain": [
       "9"
      ]
     },
     "execution_count": 101,
     "metadata": {},
     "output_type": "execute_result"
    },
    {
     "data": {
      "text/plain": [
       "10"
      ]
     },
     "execution_count": 101,
     "metadata": {},
     "output_type": "execute_result"
    },
    {
     "data": {
      "text/plain": [
       "9"
      ]
     },
     "execution_count": 101,
     "metadata": {},
     "output_type": "execute_result"
    },
    {
     "data": {
      "text/plain": [
       "8"
      ]
     },
     "execution_count": 101,
     "metadata": {},
     "output_type": "execute_result"
    },
    {
     "data": {
      "text/plain": [
       "9"
      ]
     },
     "execution_count": 101,
     "metadata": {},
     "output_type": "execute_result"
    },
    {
     "data": {
      "text/plain": [
       "8"
      ]
     },
     "execution_count": 101,
     "metadata": {},
     "output_type": "execute_result"
    },
    {
     "data": {
      "text/plain": [
       "10"
      ]
     },
     "execution_count": 101,
     "metadata": {},
     "output_type": "execute_result"
    },
    {
     "data": {
      "text/plain": [
       "8"
      ]
     },
     "execution_count": 101,
     "metadata": {},
     "output_type": "execute_result"
    },
    {
     "data": {
      "text/plain": [
       "10"
      ]
     },
     "execution_count": 101,
     "metadata": {},
     "output_type": "execute_result"
    },
    {
     "data": {
      "text/plain": [
       "12"
      ]
     },
     "execution_count": 101,
     "metadata": {},
     "output_type": "execute_result"
    },
    {
     "data": {
      "text/plain": [
       "10"
      ]
     },
     "execution_count": 101,
     "metadata": {},
     "output_type": "execute_result"
    },
    {
     "data": {
      "text/plain": [
       "11"
      ]
     },
     "execution_count": 101,
     "metadata": {},
     "output_type": "execute_result"
    },
    {
     "data": {
      "text/plain": [
       "10"
      ]
     },
     "execution_count": 101,
     "metadata": {},
     "output_type": "execute_result"
    },
    {
     "data": {
      "text/plain": [
       "9"
      ]
     },
     "execution_count": 101,
     "metadata": {},
     "output_type": "execute_result"
    },
    {
     "data": {
      "text/plain": [
       "12"
      ]
     },
     "execution_count": 101,
     "metadata": {},
     "output_type": "execute_result"
    },
    {
     "data": {
      "text/plain": [
       "10"
      ]
     },
     "execution_count": 101,
     "metadata": {},
     "output_type": "execute_result"
    },
    {
     "data": {
      "text/plain": [
       "9"
      ]
     },
     "execution_count": 101,
     "metadata": {},
     "output_type": "execute_result"
    },
    {
     "data": {
      "text/plain": [
       "10"
      ]
     },
     "execution_count": 101,
     "metadata": {},
     "output_type": "execute_result"
    },
    {
     "data": {
      "text/plain": [
       "11"
      ]
     },
     "execution_count": 101,
     "metadata": {},
     "output_type": "execute_result"
    },
    {
     "data": {
      "text/plain": [
       "10"
      ]
     },
     "execution_count": 101,
     "metadata": {},
     "output_type": "execute_result"
    },
    {
     "data": {
      "text/plain": [
       "11"
      ]
     },
     "execution_count": 101,
     "metadata": {},
     "output_type": "execute_result"
    },
    {
     "data": {
      "text/plain": [
       "10"
      ]
     },
     "execution_count": 101,
     "metadata": {},
     "output_type": "execute_result"
    },
    {
     "data": {
      "text/plain": [
       "10"
      ]
     },
     "execution_count": 101,
     "metadata": {},
     "output_type": "execute_result"
    },
    {
     "data": {
      "text/plain": [
       "10"
      ]
     },
     "execution_count": 101,
     "metadata": {},
     "output_type": "execute_result"
    },
    {
     "data": {
      "text/plain": [
       "10"
      ]
     },
     "execution_count": 101,
     "metadata": {},
     "output_type": "execute_result"
    },
    {
     "data": {
      "text/plain": [
       "10"
      ]
     },
     "execution_count": 101,
     "metadata": {},
     "output_type": "execute_result"
    },
    {
     "data": {
      "text/plain": [
       "10"
      ]
     },
     "execution_count": 101,
     "metadata": {},
     "output_type": "execute_result"
    },
    {
     "data": {
      "text/plain": [
       "9"
      ]
     },
     "execution_count": 101,
     "metadata": {},
     "output_type": "execute_result"
    },
    {
     "data": {
      "text/plain": [
       "8"
      ]
     },
     "execution_count": 101,
     "metadata": {},
     "output_type": "execute_result"
    },
    {
     "data": {
      "text/plain": [
       "9"
      ]
     },
     "execution_count": 101,
     "metadata": {},
     "output_type": "execute_result"
    },
    {
     "data": {
      "text/plain": [
       "9"
      ]
     },
     "execution_count": 101,
     "metadata": {},
     "output_type": "execute_result"
    },
    {
     "data": {
      "text/plain": [
       "8"
      ]
     },
     "execution_count": 101,
     "metadata": {},
     "output_type": "execute_result"
    },
    {
     "data": {
      "text/plain": [
       "9"
      ]
     },
     "execution_count": 101,
     "metadata": {},
     "output_type": "execute_result"
    },
    {
     "data": {
      "text/plain": [
       "9"
      ]
     },
     "execution_count": 101,
     "metadata": {},
     "output_type": "execute_result"
    },
    {
     "data": {
      "text/plain": [
       "10"
      ]
     },
     "execution_count": 101,
     "metadata": {},
     "output_type": "execute_result"
    },
    {
     "data": {
      "text/plain": [
       "9"
      ]
     },
     "execution_count": 101,
     "metadata": {},
     "output_type": "execute_result"
    },
    {
     "data": {
      "text/plain": [
       "9"
      ]
     },
     "execution_count": 101,
     "metadata": {},
     "output_type": "execute_result"
    },
    {
     "data": {
      "text/plain": [
       "10"
      ]
     },
     "execution_count": 101,
     "metadata": {},
     "output_type": "execute_result"
    },
    {
     "data": {
      "text/plain": [
       "9"
      ]
     },
     "execution_count": 101,
     "metadata": {},
     "output_type": "execute_result"
    },
    {
     "data": {
      "text/plain": [
       "11"
      ]
     },
     "execution_count": 101,
     "metadata": {},
     "output_type": "execute_result"
    },
    {
     "data": {
      "text/plain": [
       "9"
      ]
     },
     "execution_count": 101,
     "metadata": {},
     "output_type": "execute_result"
    },
    {
     "data": {
      "text/plain": [
       "10"
      ]
     },
     "execution_count": 101,
     "metadata": {},
     "output_type": "execute_result"
    },
    {
     "data": {
      "text/plain": [
       "11"
      ]
     },
     "execution_count": 101,
     "metadata": {},
     "output_type": "execute_result"
    },
    {
     "data": {
      "text/plain": [
       "8"
      ]
     },
     "execution_count": 101,
     "metadata": {},
     "output_type": "execute_result"
    },
    {
     "data": {
      "text/plain": [
       "9"
      ]
     },
     "execution_count": 101,
     "metadata": {},
     "output_type": "execute_result"
    },
    {
     "data": {
      "text/plain": [
       "9"
      ]
     },
     "execution_count": 101,
     "metadata": {},
     "output_type": "execute_result"
    },
    {
     "data": {
      "text/plain": [
       "10"
      ]
     },
     "execution_count": 101,
     "metadata": {},
     "output_type": "execute_result"
    },
    {
     "data": {
      "text/plain": [
       "9"
      ]
     },
     "execution_count": 101,
     "metadata": {},
     "output_type": "execute_result"
    },
    {
     "data": {
      "text/plain": [
       "10"
      ]
     },
     "execution_count": 101,
     "metadata": {},
     "output_type": "execute_result"
    },
    {
     "data": {
      "text/plain": [
       "9"
      ]
     },
     "execution_count": 101,
     "metadata": {},
     "output_type": "execute_result"
    },
    {
     "data": {
      "text/plain": [
       "9"
      ]
     },
     "execution_count": 101,
     "metadata": {},
     "output_type": "execute_result"
    },
    {
     "data": {
      "text/plain": [
       "10"
      ]
     },
     "execution_count": 101,
     "metadata": {},
     "output_type": "execute_result"
    },
    {
     "data": {
      "text/plain": [
       "9"
      ]
     },
     "execution_count": 101,
     "metadata": {},
     "output_type": "execute_result"
    },
    {
     "data": {
      "text/plain": [
       "9"
      ]
     },
     "execution_count": 101,
     "metadata": {},
     "output_type": "execute_result"
    },
    {
     "data": {
      "text/plain": [
       "10"
      ]
     },
     "execution_count": 101,
     "metadata": {},
     "output_type": "execute_result"
    },
    {
     "data": {
      "text/plain": [
       "8"
      ]
     },
     "execution_count": 101,
     "metadata": {},
     "output_type": "execute_result"
    },
    {
     "data": {
      "text/plain": [
       "9"
      ]
     },
     "execution_count": 101,
     "metadata": {},
     "output_type": "execute_result"
    },
    {
     "data": {
      "text/plain": [
       "8"
      ]
     },
     "execution_count": 101,
     "metadata": {},
     "output_type": "execute_result"
    },
    {
     "data": {
      "text/plain": [
       "9"
      ]
     },
     "execution_count": 101,
     "metadata": {},
     "output_type": "execute_result"
    },
    {
     "data": {
      "text/plain": [
       "8"
      ]
     },
     "execution_count": 101,
     "metadata": {},
     "output_type": "execute_result"
    },
    {
     "data": {
      "text/plain": [
       "8"
      ]
     },
     "execution_count": 101,
     "metadata": {},
     "output_type": "execute_result"
    },
    {
     "data": {
      "text/plain": [
       "9"
      ]
     },
     "execution_count": 101,
     "metadata": {},
     "output_type": "execute_result"
    },
    {
     "data": {
      "text/plain": [
       "9"
      ]
     },
     "execution_count": 101,
     "metadata": {},
     "output_type": "execute_result"
    },
    {
     "data": {
      "text/plain": [
       "10"
      ]
     },
     "execution_count": 101,
     "metadata": {},
     "output_type": "execute_result"
    },
    {
     "data": {
      "text/plain": [
       "10"
      ]
     },
     "execution_count": 101,
     "metadata": {},
     "output_type": "execute_result"
    },
    {
     "data": {
      "text/plain": [
       "9"
      ]
     },
     "execution_count": 101,
     "metadata": {},
     "output_type": "execute_result"
    },
    {
     "data": {
      "text/plain": [
       "11"
      ]
     },
     "execution_count": 101,
     "metadata": {},
     "output_type": "execute_result"
    },
    {
     "data": {
      "text/plain": [
       "9"
      ]
     },
     "execution_count": 101,
     "metadata": {},
     "output_type": "execute_result"
    },
    {
     "data": {
      "text/plain": [
       "8"
      ]
     },
     "execution_count": 101,
     "metadata": {},
     "output_type": "execute_result"
    },
    {
     "data": {
      "text/plain": [
       "8"
      ]
     },
     "execution_count": 101,
     "metadata": {},
     "output_type": "execute_result"
    },
    {
     "data": {
      "text/plain": [
       "10"
      ]
     },
     "execution_count": 101,
     "metadata": {},
     "output_type": "execute_result"
    },
    {
     "data": {
      "text/plain": [
       "8"
      ]
     },
     "execution_count": 101,
     "metadata": {},
     "output_type": "execute_result"
    },
    {
     "data": {
      "text/plain": [
       "10"
      ]
     },
     "execution_count": 101,
     "metadata": {},
     "output_type": "execute_result"
    },
    {
     "data": {
      "text/plain": [
       "11"
      ]
     },
     "execution_count": 101,
     "metadata": {},
     "output_type": "execute_result"
    },
    {
     "data": {
      "text/plain": [
       "12"
      ]
     },
     "execution_count": 101,
     "metadata": {},
     "output_type": "execute_result"
    },
    {
     "data": {
      "text/plain": [
       "10"
      ]
     },
     "execution_count": 101,
     "metadata": {},
     "output_type": "execute_result"
    },
    {
     "data": {
      "text/plain": [
       "12"
      ]
     },
     "execution_count": 101,
     "metadata": {},
     "output_type": "execute_result"
    },
    {
     "data": {
      "text/plain": [
       "9"
      ]
     },
     "execution_count": 101,
     "metadata": {},
     "output_type": "execute_result"
    },
    {
     "data": {
      "text/plain": [
       "9"
      ]
     },
     "execution_count": 101,
     "metadata": {},
     "output_type": "execute_result"
    },
    {
     "data": {
      "text/plain": [
       "9"
      ]
     },
     "execution_count": 101,
     "metadata": {},
     "output_type": "execute_result"
    },
    {
     "data": {
      "text/plain": [
       "9"
      ]
     },
     "execution_count": 101,
     "metadata": {},
     "output_type": "execute_result"
    },
    {
     "data": {
      "text/plain": [
       "9"
      ]
     },
     "execution_count": 101,
     "metadata": {},
     "output_type": "execute_result"
    },
    {
     "data": {
      "text/plain": [
       "9"
      ]
     },
     "execution_count": 101,
     "metadata": {},
     "output_type": "execute_result"
    },
    {
     "data": {
      "text/plain": [
       "10"
      ]
     },
     "execution_count": 101,
     "metadata": {},
     "output_type": "execute_result"
    },
    {
     "data": {
      "text/plain": [
       "12"
      ]
     },
     "execution_count": 101,
     "metadata": {},
     "output_type": "execute_result"
    },
    {
     "data": {
      "text/plain": [
       "10"
      ]
     },
     "execution_count": 101,
     "metadata": {},
     "output_type": "execute_result"
    },
    {
     "data": {
      "text/plain": [
       "9"
      ]
     },
     "execution_count": 101,
     "metadata": {},
     "output_type": "execute_result"
    },
    {
     "data": {
      "text/plain": [
       "9"
      ]
     },
     "execution_count": 101,
     "metadata": {},
     "output_type": "execute_result"
    },
    {
     "data": {
      "text/plain": [
       "10"
      ]
     },
     "execution_count": 101,
     "metadata": {},
     "output_type": "execute_result"
    },
    {
     "data": {
      "text/plain": [
       "11"
      ]
     },
     "execution_count": 101,
     "metadata": {},
     "output_type": "execute_result"
    },
    {
     "data": {
      "text/plain": [
       "11"
      ]
     },
     "execution_count": 101,
     "metadata": {},
     "output_type": "execute_result"
    },
    {
     "data": {
      "text/plain": [
       "11"
      ]
     },
     "execution_count": 101,
     "metadata": {},
     "output_type": "execute_result"
    },
    {
     "data": {
      "text/plain": [
       "9"
      ]
     },
     "execution_count": 101,
     "metadata": {},
     "output_type": "execute_result"
    },
    {
     "data": {
      "text/plain": [
       "8"
      ]
     },
     "execution_count": 101,
     "metadata": {},
     "output_type": "execute_result"
    },
    {
     "data": {
      "text/plain": [
       "9"
      ]
     },
     "execution_count": 101,
     "metadata": {},
     "output_type": "execute_result"
    },
    {
     "data": {
      "text/plain": [
       "9"
      ]
     },
     "execution_count": 101,
     "metadata": {},
     "output_type": "execute_result"
    },
    {
     "data": {
      "text/plain": [
       "8"
      ]
     },
     "execution_count": 101,
     "metadata": {},
     "output_type": "execute_result"
    },
    {
     "data": {
      "text/plain": [
       "7"
      ]
     },
     "execution_count": 101,
     "metadata": {},
     "output_type": "execute_result"
    },
    {
     "data": {
      "text/plain": [
       "11"
      ]
     },
     "execution_count": 101,
     "metadata": {},
     "output_type": "execute_result"
    },
    {
     "data": {
      "text/plain": [
       "8"
      ]
     },
     "execution_count": 101,
     "metadata": {},
     "output_type": "execute_result"
    },
    {
     "data": {
      "text/plain": [
       "10"
      ]
     },
     "execution_count": 101,
     "metadata": {},
     "output_type": "execute_result"
    },
    {
     "data": {
      "text/plain": [
       "8"
      ]
     },
     "execution_count": 101,
     "metadata": {},
     "output_type": "execute_result"
    },
    {
     "data": {
      "text/plain": [
       "7"
      ]
     },
     "execution_count": 101,
     "metadata": {},
     "output_type": "execute_result"
    },
    {
     "data": {
      "text/plain": [
       "8"
      ]
     },
     "execution_count": 101,
     "metadata": {},
     "output_type": "execute_result"
    },
    {
     "data": {
      "text/plain": [
       "9"
      ]
     },
     "execution_count": 101,
     "metadata": {},
     "output_type": "execute_result"
    },
    {
     "data": {
      "text/plain": [
       "8"
      ]
     },
     "execution_count": 101,
     "metadata": {},
     "output_type": "execute_result"
    },
    {
     "data": {
      "text/plain": [
       "8"
      ]
     },
     "execution_count": 101,
     "metadata": {},
     "output_type": "execute_result"
    },
    {
     "data": {
      "text/plain": [
       "9"
      ]
     },
     "execution_count": 101,
     "metadata": {},
     "output_type": "execute_result"
    },
    {
     "data": {
      "text/plain": [
       "10"
      ]
     },
     "execution_count": 101,
     "metadata": {},
     "output_type": "execute_result"
    },
    {
     "data": {
      "text/plain": [
       "10"
      ]
     },
     "execution_count": 101,
     "metadata": {},
     "output_type": "execute_result"
    },
    {
     "data": {
      "text/plain": [
       "14"
      ]
     },
     "execution_count": 101,
     "metadata": {},
     "output_type": "execute_result"
    },
    {
     "data": {
      "text/plain": [
       "8"
      ]
     },
     "execution_count": 101,
     "metadata": {},
     "output_type": "execute_result"
    },
    {
     "data": {
      "text/plain": [
       "9"
      ]
     },
     "execution_count": 101,
     "metadata": {},
     "output_type": "execute_result"
    },
    {
     "data": {
      "text/plain": [
       "8"
      ]
     },
     "execution_count": 101,
     "metadata": {},
     "output_type": "execute_result"
    },
    {
     "data": {
      "text/plain": [
       "9"
      ]
     },
     "execution_count": 101,
     "metadata": {},
     "output_type": "execute_result"
    },
    {
     "data": {
      "text/plain": [
       "9"
      ]
     },
     "execution_count": 101,
     "metadata": {},
     "output_type": "execute_result"
    },
    {
     "data": {
      "text/plain": [
       "8"
      ]
     },
     "execution_count": 101,
     "metadata": {},
     "output_type": "execute_result"
    },
    {
     "data": {
      "text/plain": [
       "10"
      ]
     },
     "execution_count": 101,
     "metadata": {},
     "output_type": "execute_result"
    },
    {
     "data": {
      "text/plain": [
       "10"
      ]
     },
     "execution_count": 101,
     "metadata": {},
     "output_type": "execute_result"
    },
    {
     "data": {
      "text/plain": [
       "10"
      ]
     },
     "execution_count": 101,
     "metadata": {},
     "output_type": "execute_result"
    },
    {
     "data": {
      "text/plain": [
       "7"
      ]
     },
     "execution_count": 101,
     "metadata": {},
     "output_type": "execute_result"
    },
    {
     "data": {
      "text/plain": [
       "11"
      ]
     },
     "execution_count": 101,
     "metadata": {},
     "output_type": "execute_result"
    },
    {
     "data": {
      "text/plain": [
       "10"
      ]
     },
     "execution_count": 101,
     "metadata": {},
     "output_type": "execute_result"
    },
    {
     "data": {
      "text/plain": [
       "8"
      ]
     },
     "execution_count": 101,
     "metadata": {},
     "output_type": "execute_result"
    },
    {
     "data": {
      "text/plain": [
       "8"
      ]
     },
     "execution_count": 101,
     "metadata": {},
     "output_type": "execute_result"
    },
    {
     "data": {
      "text/plain": [
       "9"
      ]
     },
     "execution_count": 101,
     "metadata": {},
     "output_type": "execute_result"
    },
    {
     "data": {
      "text/plain": [
       "7"
      ]
     },
     "execution_count": 101,
     "metadata": {},
     "output_type": "execute_result"
    },
    {
     "data": {
      "text/plain": [
       "10"
      ]
     },
     "execution_count": 101,
     "metadata": {},
     "output_type": "execute_result"
    },
    {
     "data": {
      "text/plain": [
       "9"
      ]
     },
     "execution_count": 101,
     "metadata": {},
     "output_type": "execute_result"
    },
    {
     "data": {
      "text/plain": [
       "8"
      ]
     },
     "execution_count": 101,
     "metadata": {},
     "output_type": "execute_result"
    },
    {
     "data": {
      "text/plain": [
       "9"
      ]
     },
     "execution_count": 101,
     "metadata": {},
     "output_type": "execute_result"
    },
    {
     "data": {
      "text/plain": [
       "9"
      ]
     },
     "execution_count": 101,
     "metadata": {},
     "output_type": "execute_result"
    },
    {
     "data": {
      "text/plain": [
       "8"
      ]
     },
     "execution_count": 101,
     "metadata": {},
     "output_type": "execute_result"
    },
    {
     "data": {
      "text/plain": [
       "9"
      ]
     },
     "execution_count": 101,
     "metadata": {},
     "output_type": "execute_result"
    },
    {
     "data": {
      "text/plain": [
       "11"
      ]
     },
     "execution_count": 101,
     "metadata": {},
     "output_type": "execute_result"
    },
    {
     "data": {
      "text/plain": [
       "9"
      ]
     },
     "execution_count": 101,
     "metadata": {},
     "output_type": "execute_result"
    },
    {
     "data": {
      "text/plain": [
       "8"
      ]
     },
     "execution_count": 101,
     "metadata": {},
     "output_type": "execute_result"
    },
    {
     "data": {
      "text/plain": [
       "7"
      ]
     },
     "execution_count": 101,
     "metadata": {},
     "output_type": "execute_result"
    },
    {
     "data": {
      "text/plain": [
       "8"
      ]
     },
     "execution_count": 101,
     "metadata": {},
     "output_type": "execute_result"
    },
    {
     "data": {
      "text/plain": [
       "10"
      ]
     },
     "execution_count": 101,
     "metadata": {},
     "output_type": "execute_result"
    },
    {
     "data": {
      "text/plain": [
       "9"
      ]
     },
     "execution_count": 101,
     "metadata": {},
     "output_type": "execute_result"
    },
    {
     "data": {
      "text/plain": [
       "8"
      ]
     },
     "execution_count": 101,
     "metadata": {},
     "output_type": "execute_result"
    },
    {
     "data": {
      "text/plain": [
       "8"
      ]
     },
     "execution_count": 101,
     "metadata": {},
     "output_type": "execute_result"
    },
    {
     "data": {
      "text/plain": [
       "11"
      ]
     },
     "execution_count": 101,
     "metadata": {},
     "output_type": "execute_result"
    },
    {
     "data": {
      "text/plain": [
       "7"
      ]
     },
     "execution_count": 101,
     "metadata": {},
     "output_type": "execute_result"
    },
    {
     "data": {
      "text/plain": [
       "11"
      ]
     },
     "execution_count": 101,
     "metadata": {},
     "output_type": "execute_result"
    },
    {
     "data": {
      "text/plain": [
       "10"
      ]
     },
     "execution_count": 101,
     "metadata": {},
     "output_type": "execute_result"
    },
    {
     "data": {
      "text/plain": [
       "10"
      ]
     },
     "execution_count": 101,
     "metadata": {},
     "output_type": "execute_result"
    },
    {
     "data": {
      "text/plain": [
       "10"
      ]
     },
     "execution_count": 101,
     "metadata": {},
     "output_type": "execute_result"
    },
    {
     "data": {
      "text/plain": [
       "11"
      ]
     },
     "execution_count": 101,
     "metadata": {},
     "output_type": "execute_result"
    },
    {
     "data": {
      "text/plain": [
       "12"
      ]
     },
     "execution_count": 101,
     "metadata": {},
     "output_type": "execute_result"
    },
    {
     "data": {
      "text/plain": [
       "9"
      ]
     },
     "execution_count": 101,
     "metadata": {},
     "output_type": "execute_result"
    },
    {
     "data": {
      "text/plain": [
       "11"
      ]
     },
     "execution_count": 101,
     "metadata": {},
     "output_type": "execute_result"
    },
    {
     "data": {
      "text/plain": [
       "10"
      ]
     },
     "execution_count": 101,
     "metadata": {},
     "output_type": "execute_result"
    },
    {
     "data": {
      "text/plain": [
       "11"
      ]
     },
     "execution_count": 101,
     "metadata": {},
     "output_type": "execute_result"
    },
    {
     "data": {
      "text/plain": [
       "11"
      ]
     },
     "execution_count": 101,
     "metadata": {},
     "output_type": "execute_result"
    },
    {
     "data": {
      "text/plain": [
       "10"
      ]
     },
     "execution_count": 101,
     "metadata": {},
     "output_type": "execute_result"
    },
    {
     "data": {
      "text/plain": [
       "10"
      ]
     },
     "execution_count": 101,
     "metadata": {},
     "output_type": "execute_result"
    },
    {
     "data": {
      "text/plain": [
       "9"
      ]
     },
     "execution_count": 101,
     "metadata": {},
     "output_type": "execute_result"
    },
    {
     "data": {
      "text/plain": [
       "12"
      ]
     },
     "execution_count": 101,
     "metadata": {},
     "output_type": "execute_result"
    },
    {
     "data": {
      "text/plain": [
       "11"
      ]
     },
     "execution_count": 101,
     "metadata": {},
     "output_type": "execute_result"
    },
    {
     "data": {
      "text/plain": [
       "12"
      ]
     },
     "execution_count": 101,
     "metadata": {},
     "output_type": "execute_result"
    },
    {
     "data": {
      "text/plain": [
       "9"
      ]
     },
     "execution_count": 101,
     "metadata": {},
     "output_type": "execute_result"
    },
    {
     "data": {
      "text/plain": [
       "10"
      ]
     },
     "execution_count": 101,
     "metadata": {},
     "output_type": "execute_result"
    },
    {
     "data": {
      "text/plain": [
       "12"
      ]
     },
     "execution_count": 101,
     "metadata": {},
     "output_type": "execute_result"
    },
    {
     "data": {
      "text/plain": [
       "10"
      ]
     },
     "execution_count": 101,
     "metadata": {},
     "output_type": "execute_result"
    },
    {
     "data": {
      "text/plain": [
       "10"
      ]
     },
     "execution_count": 101,
     "metadata": {},
     "output_type": "execute_result"
    },
    {
     "data": {
      "text/plain": [
       "9"
      ]
     },
     "execution_count": 101,
     "metadata": {},
     "output_type": "execute_result"
    },
    {
     "data": {
      "text/plain": [
       "9"
      ]
     },
     "execution_count": 101,
     "metadata": {},
     "output_type": "execute_result"
    },
    {
     "data": {
      "text/plain": [
       "10"
      ]
     },
     "execution_count": 101,
     "metadata": {},
     "output_type": "execute_result"
    },
    {
     "data": {
      "text/plain": [
       "9"
      ]
     },
     "execution_count": 101,
     "metadata": {},
     "output_type": "execute_result"
    },
    {
     "data": {
      "text/plain": [
       "9"
      ]
     },
     "execution_count": 101,
     "metadata": {},
     "output_type": "execute_result"
    },
    {
     "data": {
      "text/plain": [
       "10"
      ]
     },
     "execution_count": 101,
     "metadata": {},
     "output_type": "execute_result"
    },
    {
     "data": {
      "text/plain": [
       "12"
      ]
     },
     "execution_count": 101,
     "metadata": {},
     "output_type": "execute_result"
    },
    {
     "data": {
      "text/plain": [
       "10"
      ]
     },
     "execution_count": 101,
     "metadata": {},
     "output_type": "execute_result"
    },
    {
     "data": {
      "text/plain": [
       "11"
      ]
     },
     "execution_count": 101,
     "metadata": {},
     "output_type": "execute_result"
    },
    {
     "data": {
      "text/plain": [
       "8"
      ]
     },
     "execution_count": 101,
     "metadata": {},
     "output_type": "execute_result"
    },
    {
     "data": {
      "text/plain": [
       "11"
      ]
     },
     "execution_count": 101,
     "metadata": {},
     "output_type": "execute_result"
    },
    {
     "data": {
      "text/plain": [
       "10"
      ]
     },
     "execution_count": 101,
     "metadata": {},
     "output_type": "execute_result"
    },
    {
     "data": {
      "text/plain": [
       "10"
      ]
     },
     "execution_count": 101,
     "metadata": {},
     "output_type": "execute_result"
    },
    {
     "data": {
      "text/plain": [
       "8"
      ]
     },
     "execution_count": 101,
     "metadata": {},
     "output_type": "execute_result"
    },
    {
     "data": {
      "text/plain": [
       "8"
      ]
     },
     "execution_count": 101,
     "metadata": {},
     "output_type": "execute_result"
    },
    {
     "data": {
      "text/plain": [
       "9"
      ]
     },
     "execution_count": 101,
     "metadata": {},
     "output_type": "execute_result"
    },
    {
     "data": {
      "text/plain": [
       "9"
      ]
     },
     "execution_count": 101,
     "metadata": {},
     "output_type": "execute_result"
    },
    {
     "data": {
      "text/plain": [
       "9"
      ]
     },
     "execution_count": 101,
     "metadata": {},
     "output_type": "execute_result"
    },
    {
     "data": {
      "text/plain": [
       "8"
      ]
     },
     "execution_count": 101,
     "metadata": {},
     "output_type": "execute_result"
    },
    {
     "data": {
      "text/plain": [
       "8"
      ]
     },
     "execution_count": 101,
     "metadata": {},
     "output_type": "execute_result"
    },
    {
     "data": {
      "text/plain": [
       "9"
      ]
     },
     "execution_count": 101,
     "metadata": {},
     "output_type": "execute_result"
    },
    {
     "data": {
      "text/plain": [
       "9"
      ]
     },
     "execution_count": 101,
     "metadata": {},
     "output_type": "execute_result"
    },
    {
     "data": {
      "text/plain": [
       "8"
      ]
     },
     "execution_count": 101,
     "metadata": {},
     "output_type": "execute_result"
    },
    {
     "data": {
      "text/plain": [
       "8"
      ]
     },
     "execution_count": 101,
     "metadata": {},
     "output_type": "execute_result"
    },
    {
     "data": {
      "text/plain": [
       "10"
      ]
     },
     "execution_count": 101,
     "metadata": {},
     "output_type": "execute_result"
    },
    {
     "data": {
      "text/plain": [
       "9"
      ]
     },
     "execution_count": 101,
     "metadata": {},
     "output_type": "execute_result"
    },
    {
     "data": {
      "text/plain": [
       "9"
      ]
     },
     "execution_count": 101,
     "metadata": {},
     "output_type": "execute_result"
    },
    {
     "data": {
      "text/plain": [
       "8"
      ]
     },
     "execution_count": 101,
     "metadata": {},
     "output_type": "execute_result"
    },
    {
     "data": {
      "text/plain": [
       "9"
      ]
     },
     "execution_count": 101,
     "metadata": {},
     "output_type": "execute_result"
    },
    {
     "data": {
      "text/plain": [
       "7"
      ]
     },
     "execution_count": 101,
     "metadata": {},
     "output_type": "execute_result"
    },
    {
     "data": {
      "text/plain": [
       "9"
      ]
     },
     "execution_count": 101,
     "metadata": {},
     "output_type": "execute_result"
    },
    {
     "data": {
      "text/plain": [
       "8"
      ]
     },
     "execution_count": 101,
     "metadata": {},
     "output_type": "execute_result"
    },
    {
     "data": {
      "text/plain": [
       "8"
      ]
     },
     "execution_count": 101,
     "metadata": {},
     "output_type": "execute_result"
    },
    {
     "data": {
      "text/plain": [
       "8"
      ]
     },
     "execution_count": 101,
     "metadata": {},
     "output_type": "execute_result"
    },
    {
     "data": {
      "text/plain": [
       "9"
      ]
     },
     "execution_count": 101,
     "metadata": {},
     "output_type": "execute_result"
    },
    {
     "data": {
      "text/plain": [
       "9"
      ]
     },
     "execution_count": 101,
     "metadata": {},
     "output_type": "execute_result"
    },
    {
     "data": {
      "text/plain": [
       "10"
      ]
     },
     "execution_count": 101,
     "metadata": {},
     "output_type": "execute_result"
    },
    {
     "data": {
      "text/plain": [
       "9"
      ]
     },
     "execution_count": 101,
     "metadata": {},
     "output_type": "execute_result"
    },
    {
     "data": {
      "text/plain": [
       "9"
      ]
     },
     "execution_count": 101,
     "metadata": {},
     "output_type": "execute_result"
    },
    {
     "data": {
      "text/plain": [
       "9"
      ]
     },
     "execution_count": 101,
     "metadata": {},
     "output_type": "execute_result"
    },
    {
     "data": {
      "text/plain": [
       "9"
      ]
     },
     "execution_count": 101,
     "metadata": {},
     "output_type": "execute_result"
    },
    {
     "data": {
      "text/plain": [
       "10"
      ]
     },
     "execution_count": 101,
     "metadata": {},
     "output_type": "execute_result"
    },
    {
     "data": {
      "text/plain": [
       "9"
      ]
     },
     "execution_count": 101,
     "metadata": {},
     "output_type": "execute_result"
    },
    {
     "data": {
      "text/plain": [
       "10"
      ]
     },
     "execution_count": 101,
     "metadata": {},
     "output_type": "execute_result"
    },
    {
     "data": {
      "text/plain": [
       "8"
      ]
     },
     "execution_count": 101,
     "metadata": {},
     "output_type": "execute_result"
    },
    {
     "data": {
      "text/plain": [
       "10"
      ]
     },
     "execution_count": 101,
     "metadata": {},
     "output_type": "execute_result"
    },
    {
     "data": {
      "text/plain": [
       "8"
      ]
     },
     "execution_count": 101,
     "metadata": {},
     "output_type": "execute_result"
    },
    {
     "data": {
      "text/plain": [
       "10"
      ]
     },
     "execution_count": 101,
     "metadata": {},
     "output_type": "execute_result"
    },
    {
     "data": {
      "text/plain": [
       "9"
      ]
     },
     "execution_count": 101,
     "metadata": {},
     "output_type": "execute_result"
    },
    {
     "data": {
      "text/plain": [
       "9"
      ]
     },
     "execution_count": 101,
     "metadata": {},
     "output_type": "execute_result"
    },
    {
     "data": {
      "text/plain": [
       "9"
      ]
     },
     "execution_count": 101,
     "metadata": {},
     "output_type": "execute_result"
    },
    {
     "data": {
      "text/plain": [
       "9"
      ]
     },
     "execution_count": 101,
     "metadata": {},
     "output_type": "execute_result"
    },
    {
     "data": {
      "text/plain": [
       "8"
      ]
     },
     "execution_count": 101,
     "metadata": {},
     "output_type": "execute_result"
    },
    {
     "data": {
      "text/plain": [
       "10"
      ]
     },
     "execution_count": 101,
     "metadata": {},
     "output_type": "execute_result"
    },
    {
     "data": {
      "text/plain": [
       "10"
      ]
     },
     "execution_count": 101,
     "metadata": {},
     "output_type": "execute_result"
    },
    {
     "data": {
      "text/plain": [
       "10"
      ]
     },
     "execution_count": 101,
     "metadata": {},
     "output_type": "execute_result"
    },
    {
     "data": {
      "text/plain": [
       "10"
      ]
     },
     "execution_count": 101,
     "metadata": {},
     "output_type": "execute_result"
    },
    {
     "data": {
      "text/plain": [
       "8"
      ]
     },
     "execution_count": 101,
     "metadata": {},
     "output_type": "execute_result"
    },
    {
     "data": {
      "text/plain": [
       "9"
      ]
     },
     "execution_count": 101,
     "metadata": {},
     "output_type": "execute_result"
    },
    {
     "data": {
      "text/plain": [
       "10"
      ]
     },
     "execution_count": 101,
     "metadata": {},
     "output_type": "execute_result"
    },
    {
     "data": {
      "text/plain": [
       "9"
      ]
     },
     "execution_count": 101,
     "metadata": {},
     "output_type": "execute_result"
    },
    {
     "data": {
      "text/plain": [
       "9"
      ]
     },
     "execution_count": 101,
     "metadata": {},
     "output_type": "execute_result"
    },
    {
     "data": {
      "text/plain": [
       "8"
      ]
     },
     "execution_count": 101,
     "metadata": {},
     "output_type": "execute_result"
    },
    {
     "data": {
      "text/plain": [
       "11"
      ]
     },
     "execution_count": 101,
     "metadata": {},
     "output_type": "execute_result"
    },
    {
     "data": {
      "text/plain": [
       "8"
      ]
     },
     "execution_count": 101,
     "metadata": {},
     "output_type": "execute_result"
    },
    {
     "data": {
      "text/plain": [
       "10"
      ]
     },
     "execution_count": 101,
     "metadata": {},
     "output_type": "execute_result"
    },
    {
     "data": {
      "text/plain": [
       "10"
      ]
     },
     "execution_count": 101,
     "metadata": {},
     "output_type": "execute_result"
    },
    {
     "data": {
      "text/plain": [
       "9"
      ]
     },
     "execution_count": 101,
     "metadata": {},
     "output_type": "execute_result"
    },
    {
     "data": {
      "text/plain": [
       "8"
      ]
     },
     "execution_count": 101,
     "metadata": {},
     "output_type": "execute_result"
    },
    {
     "data": {
      "text/plain": [
       "9"
      ]
     },
     "execution_count": 101,
     "metadata": {},
     "output_type": "execute_result"
    },
    {
     "data": {
      "text/plain": [
       "9"
      ]
     },
     "execution_count": 101,
     "metadata": {},
     "output_type": "execute_result"
    },
    {
     "data": {
      "text/plain": [
       "9"
      ]
     },
     "execution_count": 101,
     "metadata": {},
     "output_type": "execute_result"
    },
    {
     "data": {
      "text/plain": [
       "9"
      ]
     },
     "execution_count": 101,
     "metadata": {},
     "output_type": "execute_result"
    },
    {
     "data": {
      "text/plain": [
       "9"
      ]
     },
     "execution_count": 101,
     "metadata": {},
     "output_type": "execute_result"
    },
    {
     "data": {
      "text/plain": [
       "9"
      ]
     },
     "execution_count": 101,
     "metadata": {},
     "output_type": "execute_result"
    },
    {
     "data": {
      "text/plain": [
       "8"
      ]
     },
     "execution_count": 101,
     "metadata": {},
     "output_type": "execute_result"
    },
    {
     "data": {
      "text/plain": [
       "9"
      ]
     },
     "execution_count": 101,
     "metadata": {},
     "output_type": "execute_result"
    },
    {
     "data": {
      "text/plain": [
       "9"
      ]
     },
     "execution_count": 101,
     "metadata": {},
     "output_type": "execute_result"
    },
    {
     "data": {
      "text/plain": [
       "9"
      ]
     },
     "execution_count": 101,
     "metadata": {},
     "output_type": "execute_result"
    },
    {
     "data": {
      "text/plain": [
       "11"
      ]
     },
     "execution_count": 101,
     "metadata": {},
     "output_type": "execute_result"
    },
    {
     "data": {
      "text/plain": [
       "8"
      ]
     },
     "execution_count": 101,
     "metadata": {},
     "output_type": "execute_result"
    },
    {
     "data": {
      "text/plain": [
       "7"
      ]
     },
     "execution_count": 101,
     "metadata": {},
     "output_type": "execute_result"
    },
    {
     "data": {
      "text/plain": [
       "6"
      ]
     },
     "execution_count": 101,
     "metadata": {},
     "output_type": "execute_result"
    },
    {
     "data": {
      "text/plain": [
       "6"
      ]
     },
     "execution_count": 101,
     "metadata": {},
     "output_type": "execute_result"
    },
    {
     "data": {
      "text/plain": [
       "8"
      ]
     },
     "execution_count": 101,
     "metadata": {},
     "output_type": "execute_result"
    },
    {
     "data": {
      "text/plain": [
       "7"
      ]
     },
     "execution_count": 101,
     "metadata": {},
     "output_type": "execute_result"
    },
    {
     "data": {
      "text/plain": [
       "7"
      ]
     },
     "execution_count": 101,
     "metadata": {},
     "output_type": "execute_result"
    },
    {
     "data": {
      "text/plain": [
       "9"
      ]
     },
     "execution_count": 101,
     "metadata": {},
     "output_type": "execute_result"
    },
    {
     "data": {
      "text/plain": [
       "11"
      ]
     },
     "execution_count": 101,
     "metadata": {},
     "output_type": "execute_result"
    },
    {
     "data": {
      "text/plain": [
       "9"
      ]
     },
     "execution_count": 101,
     "metadata": {},
     "output_type": "execute_result"
    },
    {
     "data": {
      "text/plain": [
       "7"
      ]
     },
     "execution_count": 101,
     "metadata": {},
     "output_type": "execute_result"
    },
    {
     "data": {
      "text/plain": [
       "8"
      ]
     },
     "execution_count": 101,
     "metadata": {},
     "output_type": "execute_result"
    },
    {
     "data": {
      "text/plain": [
       "8"
      ]
     },
     "execution_count": 101,
     "metadata": {},
     "output_type": "execute_result"
    },
    {
     "data": {
      "text/plain": [
       "8"
      ]
     },
     "execution_count": 101,
     "metadata": {},
     "output_type": "execute_result"
    },
    {
     "data": {
      "text/plain": [
       "8"
      ]
     },
     "execution_count": 101,
     "metadata": {},
     "output_type": "execute_result"
    },
    {
     "data": {
      "text/plain": [
       "9"
      ]
     },
     "execution_count": 101,
     "metadata": {},
     "output_type": "execute_result"
    },
    {
     "data": {
      "text/plain": [
       "9"
      ]
     },
     "execution_count": 101,
     "metadata": {},
     "output_type": "execute_result"
    },
    {
     "data": {
      "text/plain": [
       "8"
      ]
     },
     "execution_count": 101,
     "metadata": {},
     "output_type": "execute_result"
    },
    {
     "data": {
      "text/plain": [
       "9"
      ]
     },
     "execution_count": 101,
     "metadata": {},
     "output_type": "execute_result"
    },
    {
     "data": {
      "text/plain": [
       "10"
      ]
     },
     "execution_count": 101,
     "metadata": {},
     "output_type": "execute_result"
    },
    {
     "data": {
      "text/plain": [
       "10"
      ]
     },
     "execution_count": 101,
     "metadata": {},
     "output_type": "execute_result"
    },
    {
     "data": {
      "text/plain": [
       "9"
      ]
     },
     "execution_count": 101,
     "metadata": {},
     "output_type": "execute_result"
    },
    {
     "data": {
      "text/plain": [
       "8"
      ]
     },
     "execution_count": 101,
     "metadata": {},
     "output_type": "execute_result"
    },
    {
     "data": {
      "text/plain": [
       "8"
      ]
     },
     "execution_count": 101,
     "metadata": {},
     "output_type": "execute_result"
    },
    {
     "data": {
      "text/plain": [
       "8"
      ]
     },
     "execution_count": 101,
     "metadata": {},
     "output_type": "execute_result"
    },
    {
     "data": {
      "text/plain": [
       "8"
      ]
     },
     "execution_count": 101,
     "metadata": {},
     "output_type": "execute_result"
    },
    {
     "data": {
      "text/plain": [
       "7"
      ]
     },
     "execution_count": 101,
     "metadata": {},
     "output_type": "execute_result"
    },
    {
     "data": {
      "text/plain": [
       "7"
      ]
     },
     "execution_count": 101,
     "metadata": {},
     "output_type": "execute_result"
    },
    {
     "data": {
      "text/plain": [
       "8"
      ]
     },
     "execution_count": 101,
     "metadata": {},
     "output_type": "execute_result"
    },
    {
     "data": {
      "text/plain": [
       "8"
      ]
     },
     "execution_count": 101,
     "metadata": {},
     "output_type": "execute_result"
    },
    {
     "data": {
      "text/plain": [
       "10"
      ]
     },
     "execution_count": 101,
     "metadata": {},
     "output_type": "execute_result"
    },
    {
     "data": {
      "text/plain": [
       "10"
      ]
     },
     "execution_count": 101,
     "metadata": {},
     "output_type": "execute_result"
    },
    {
     "data": {
      "text/plain": [
       "11"
      ]
     },
     "execution_count": 101,
     "metadata": {},
     "output_type": "execute_result"
    },
    {
     "data": {
      "text/plain": [
       "10"
      ]
     },
     "execution_count": 101,
     "metadata": {},
     "output_type": "execute_result"
    },
    {
     "data": {
      "text/plain": [
       "9"
      ]
     },
     "execution_count": 101,
     "metadata": {},
     "output_type": "execute_result"
    },
    {
     "data": {
      "text/plain": [
       "11"
      ]
     },
     "execution_count": 101,
     "metadata": {},
     "output_type": "execute_result"
    },
    {
     "data": {
      "text/plain": [
       "12"
      ]
     },
     "execution_count": 101,
     "metadata": {},
     "output_type": "execute_result"
    },
    {
     "data": {
      "text/plain": [
       "11"
      ]
     },
     "execution_count": 101,
     "metadata": {},
     "output_type": "execute_result"
    },
    {
     "data": {
      "text/plain": [
       "11"
      ]
     },
     "execution_count": 101,
     "metadata": {},
     "output_type": "execute_result"
    },
    {
     "data": {
      "text/plain": [
       "9"
      ]
     },
     "execution_count": 101,
     "metadata": {},
     "output_type": "execute_result"
    },
    {
     "data": {
      "text/plain": [
       "10"
      ]
     },
     "execution_count": 101,
     "metadata": {},
     "output_type": "execute_result"
    },
    {
     "data": {
      "text/plain": [
       "10"
      ]
     },
     "execution_count": 101,
     "metadata": {},
     "output_type": "execute_result"
    },
    {
     "data": {
      "text/plain": [
       "10"
      ]
     },
     "execution_count": 101,
     "metadata": {},
     "output_type": "execute_result"
    },
    {
     "data": {
      "text/plain": [
       "11"
      ]
     },
     "execution_count": 101,
     "metadata": {},
     "output_type": "execute_result"
    },
    {
     "data": {
      "text/plain": [
       "10"
      ]
     },
     "execution_count": 101,
     "metadata": {},
     "output_type": "execute_result"
    },
    {
     "data": {
      "text/plain": [
       "9"
      ]
     },
     "execution_count": 101,
     "metadata": {},
     "output_type": "execute_result"
    },
    {
     "data": {
      "text/plain": [
       "11"
      ]
     },
     "execution_count": 101,
     "metadata": {},
     "output_type": "execute_result"
    },
    {
     "data": {
      "text/plain": [
       "8"
      ]
     },
     "execution_count": 101,
     "metadata": {},
     "output_type": "execute_result"
    },
    {
     "data": {
      "text/plain": [
       "9"
      ]
     },
     "execution_count": 101,
     "metadata": {},
     "output_type": "execute_result"
    },
    {
     "data": {
      "text/plain": [
       "9"
      ]
     },
     "execution_count": 101,
     "metadata": {},
     "output_type": "execute_result"
    },
    {
     "data": {
      "text/plain": [
       "9"
      ]
     },
     "execution_count": 101,
     "metadata": {},
     "output_type": "execute_result"
    },
    {
     "data": {
      "text/plain": [
       "10"
      ]
     },
     "execution_count": 101,
     "metadata": {},
     "output_type": "execute_result"
    },
    {
     "data": {
      "text/plain": [
       "9"
      ]
     },
     "execution_count": 101,
     "metadata": {},
     "output_type": "execute_result"
    },
    {
     "data": {
      "text/plain": [
       "8"
      ]
     },
     "execution_count": 101,
     "metadata": {},
     "output_type": "execute_result"
    },
    {
     "data": {
      "text/plain": [
       "9"
      ]
     },
     "execution_count": 101,
     "metadata": {},
     "output_type": "execute_result"
    },
    {
     "data": {
      "text/plain": [
       "9"
      ]
     },
     "execution_count": 101,
     "metadata": {},
     "output_type": "execute_result"
    },
    {
     "data": {
      "text/plain": [
       "10"
      ]
     },
     "execution_count": 101,
     "metadata": {},
     "output_type": "execute_result"
    },
    {
     "data": {
      "text/plain": [
       "9"
      ]
     },
     "execution_count": 101,
     "metadata": {},
     "output_type": "execute_result"
    },
    {
     "data": {
      "text/plain": [
       "14"
      ]
     },
     "execution_count": 101,
     "metadata": {},
     "output_type": "execute_result"
    },
    {
     "data": {
      "text/plain": [
       "10"
      ]
     },
     "execution_count": 101,
     "metadata": {},
     "output_type": "execute_result"
    },
    {
     "data": {
      "text/plain": [
       "11"
      ]
     },
     "execution_count": 101,
     "metadata": {},
     "output_type": "execute_result"
    },
    {
     "data": {
      "text/plain": [
       "12"
      ]
     },
     "execution_count": 101,
     "metadata": {},
     "output_type": "execute_result"
    },
    {
     "data": {
      "text/plain": [
       "10"
      ]
     },
     "execution_count": 101,
     "metadata": {},
     "output_type": "execute_result"
    },
    {
     "data": {
      "text/plain": [
       "10"
      ]
     },
     "execution_count": 101,
     "metadata": {},
     "output_type": "execute_result"
    },
    {
     "data": {
      "text/plain": [
       "10"
      ]
     },
     "execution_count": 101,
     "metadata": {},
     "output_type": "execute_result"
    },
    {
     "data": {
      "text/plain": [
       "11"
      ]
     },
     "execution_count": 101,
     "metadata": {},
     "output_type": "execute_result"
    },
    {
     "data": {
      "text/plain": [
       "10"
      ]
     },
     "execution_count": 101,
     "metadata": {},
     "output_type": "execute_result"
    },
    {
     "data": {
      "text/plain": [
       "8"
      ]
     },
     "execution_count": 101,
     "metadata": {},
     "output_type": "execute_result"
    },
    {
     "data": {
      "text/plain": [
       "9"
      ]
     },
     "execution_count": 101,
     "metadata": {},
     "output_type": "execute_result"
    },
    {
     "data": {
      "text/plain": [
       "12"
      ]
     },
     "execution_count": 101,
     "metadata": {},
     "output_type": "execute_result"
    },
    {
     "data": {
      "text/plain": [
       "11"
      ]
     },
     "execution_count": 101,
     "metadata": {},
     "output_type": "execute_result"
    },
    {
     "data": {
      "text/plain": [
       "12"
      ]
     },
     "execution_count": 101,
     "metadata": {},
     "output_type": "execute_result"
    },
    {
     "data": {
      "text/plain": [
       "10"
      ]
     },
     "execution_count": 101,
     "metadata": {},
     "output_type": "execute_result"
    },
    {
     "data": {
      "text/plain": [
       "11"
      ]
     },
     "execution_count": 101,
     "metadata": {},
     "output_type": "execute_result"
    },
    {
     "data": {
      "text/plain": [
       "11"
      ]
     },
     "execution_count": 101,
     "metadata": {},
     "output_type": "execute_result"
    },
    {
     "data": {
      "text/plain": [
       "11"
      ]
     },
     "execution_count": 101,
     "metadata": {},
     "output_type": "execute_result"
    },
    {
     "data": {
      "text/plain": [
       "10"
      ]
     },
     "execution_count": 101,
     "metadata": {},
     "output_type": "execute_result"
    },
    {
     "data": {
      "text/plain": [
       "11"
      ]
     },
     "execution_count": 101,
     "metadata": {},
     "output_type": "execute_result"
    },
    {
     "data": {
      "text/plain": [
       "12"
      ]
     },
     "execution_count": 101,
     "metadata": {},
     "output_type": "execute_result"
    },
    {
     "data": {
      "text/plain": [
       "9"
      ]
     },
     "execution_count": 101,
     "metadata": {},
     "output_type": "execute_result"
    },
    {
     "data": {
      "text/plain": [
       "10"
      ]
     },
     "execution_count": 101,
     "metadata": {},
     "output_type": "execute_result"
    },
    {
     "data": {
      "text/plain": [
       "10"
      ]
     },
     "execution_count": 101,
     "metadata": {},
     "output_type": "execute_result"
    },
    {
     "data": {
      "text/plain": [
       "10"
      ]
     },
     "execution_count": 101,
     "metadata": {},
     "output_type": "execute_result"
    },
    {
     "data": {
      "text/plain": [
       "9"
      ]
     },
     "execution_count": 101,
     "metadata": {},
     "output_type": "execute_result"
    },
    {
     "data": {
      "text/plain": [
       "9"
      ]
     },
     "execution_count": 101,
     "metadata": {},
     "output_type": "execute_result"
    },
    {
     "data": {
      "text/plain": [
       "9"
      ]
     },
     "execution_count": 101,
     "metadata": {},
     "output_type": "execute_result"
    },
    {
     "data": {
      "text/plain": [
       "9"
      ]
     },
     "execution_count": 101,
     "metadata": {},
     "output_type": "execute_result"
    },
    {
     "data": {
      "text/plain": [
       "11"
      ]
     },
     "execution_count": 101,
     "metadata": {},
     "output_type": "execute_result"
    },
    {
     "data": {
      "text/plain": [
       "11"
      ]
     },
     "execution_count": 101,
     "metadata": {},
     "output_type": "execute_result"
    },
    {
     "data": {
      "text/plain": [
       "9"
      ]
     },
     "execution_count": 101,
     "metadata": {},
     "output_type": "execute_result"
    },
    {
     "data": {
      "text/plain": [
       "10"
      ]
     },
     "execution_count": 101,
     "metadata": {},
     "output_type": "execute_result"
    },
    {
     "data": {
      "text/plain": [
       "10"
      ]
     },
     "execution_count": 101,
     "metadata": {},
     "output_type": "execute_result"
    },
    {
     "data": {
      "text/plain": [
       "12"
      ]
     },
     "execution_count": 101,
     "metadata": {},
     "output_type": "execute_result"
    },
    {
     "data": {
      "text/plain": [
       "9"
      ]
     },
     "execution_count": 101,
     "metadata": {},
     "output_type": "execute_result"
    },
    {
     "data": {
      "text/plain": [
       "10"
      ]
     },
     "execution_count": 101,
     "metadata": {},
     "output_type": "execute_result"
    },
    {
     "data": {
      "text/plain": [
       "10"
      ]
     },
     "execution_count": 101,
     "metadata": {},
     "output_type": "execute_result"
    },
    {
     "data": {
      "text/plain": [
       "9"
      ]
     },
     "execution_count": 101,
     "metadata": {},
     "output_type": "execute_result"
    },
    {
     "data": {
      "text/plain": [
       "9"
      ]
     },
     "execution_count": 101,
     "metadata": {},
     "output_type": "execute_result"
    },
    {
     "data": {
      "text/plain": [
       "9"
      ]
     },
     "execution_count": 101,
     "metadata": {},
     "output_type": "execute_result"
    },
    {
     "data": {
      "text/plain": [
       "11"
      ]
     },
     "execution_count": 101,
     "metadata": {},
     "output_type": "execute_result"
    },
    {
     "data": {
      "text/plain": [
       "10"
      ]
     },
     "execution_count": 101,
     "metadata": {},
     "output_type": "execute_result"
    },
    {
     "data": {
      "text/plain": [
       "11"
      ]
     },
     "execution_count": 101,
     "metadata": {},
     "output_type": "execute_result"
    },
    {
     "data": {
      "text/plain": [
       "10"
      ]
     },
     "execution_count": 101,
     "metadata": {},
     "output_type": "execute_result"
    },
    {
     "data": {
      "text/plain": [
       "10"
      ]
     },
     "execution_count": 101,
     "metadata": {},
     "output_type": "execute_result"
    },
    {
     "data": {
      "text/plain": [
       "11"
      ]
     },
     "execution_count": 101,
     "metadata": {},
     "output_type": "execute_result"
    },
    {
     "data": {
      "text/plain": [
       "10"
      ]
     },
     "execution_count": 101,
     "metadata": {},
     "output_type": "execute_result"
    },
    {
     "data": {
      "text/plain": [
       "8"
      ]
     },
     "execution_count": 101,
     "metadata": {},
     "output_type": "execute_result"
    },
    {
     "data": {
      "text/plain": [
       "8"
      ]
     },
     "execution_count": 101,
     "metadata": {},
     "output_type": "execute_result"
    },
    {
     "data": {
      "text/plain": [
       "10"
      ]
     },
     "execution_count": 101,
     "metadata": {},
     "output_type": "execute_result"
    },
    {
     "data": {
      "text/plain": [
       "9"
      ]
     },
     "execution_count": 101,
     "metadata": {},
     "output_type": "execute_result"
    },
    {
     "data": {
      "text/plain": [
       "9"
      ]
     },
     "execution_count": 101,
     "metadata": {},
     "output_type": "execute_result"
    },
    {
     "data": {
      "text/plain": [
       "9"
      ]
     },
     "execution_count": 101,
     "metadata": {},
     "output_type": "execute_result"
    },
    {
     "data": {
      "text/plain": [
       "10"
      ]
     },
     "execution_count": 101,
     "metadata": {},
     "output_type": "execute_result"
    },
    {
     "data": {
      "text/plain": [
       "9"
      ]
     },
     "execution_count": 101,
     "metadata": {},
     "output_type": "execute_result"
    },
    {
     "data": {
      "text/plain": [
       "10"
      ]
     },
     "execution_count": 101,
     "metadata": {},
     "output_type": "execute_result"
    },
    {
     "data": {
      "text/plain": [
       "10"
      ]
     },
     "execution_count": 101,
     "metadata": {},
     "output_type": "execute_result"
    },
    {
     "data": {
      "text/plain": [
       "11"
      ]
     },
     "execution_count": 101,
     "metadata": {},
     "output_type": "execute_result"
    },
    {
     "data": {
      "text/plain": [
       "10"
      ]
     },
     "execution_count": 101,
     "metadata": {},
     "output_type": "execute_result"
    },
    {
     "data": {
      "text/plain": [
       "11"
      ]
     },
     "execution_count": 101,
     "metadata": {},
     "output_type": "execute_result"
    },
    {
     "data": {
      "text/plain": [
       "11"
      ]
     },
     "execution_count": 101,
     "metadata": {},
     "output_type": "execute_result"
    },
    {
     "data": {
      "text/plain": [
       "11"
      ]
     },
     "execution_count": 101,
     "metadata": {},
     "output_type": "execute_result"
    },
    {
     "data": {
      "text/plain": [
       "9"
      ]
     },
     "execution_count": 101,
     "metadata": {},
     "output_type": "execute_result"
    },
    {
     "data": {
      "text/plain": [
       "9"
      ]
     },
     "execution_count": 101,
     "metadata": {},
     "output_type": "execute_result"
    },
    {
     "data": {
      "text/plain": [
       "12"
      ]
     },
     "execution_count": 101,
     "metadata": {},
     "output_type": "execute_result"
    },
    {
     "data": {
      "text/plain": [
       "8"
      ]
     },
     "execution_count": 101,
     "metadata": {},
     "output_type": "execute_result"
    },
    {
     "data": {
      "text/plain": [
       "8"
      ]
     },
     "execution_count": 101,
     "metadata": {},
     "output_type": "execute_result"
    },
    {
     "data": {
      "text/plain": [
       "8"
      ]
     },
     "execution_count": 101,
     "metadata": {},
     "output_type": "execute_result"
    },
    {
     "data": {
      "text/plain": [
       "10"
      ]
     },
     "execution_count": 101,
     "metadata": {},
     "output_type": "execute_result"
    },
    {
     "data": {
      "text/plain": [
       "8"
      ]
     },
     "execution_count": 101,
     "metadata": {},
     "output_type": "execute_result"
    },
    {
     "data": {
      "text/plain": [
       "9"
      ]
     },
     "execution_count": 101,
     "metadata": {},
     "output_type": "execute_result"
    },
    {
     "data": {
      "text/plain": [
       "10"
      ]
     },
     "execution_count": 101,
     "metadata": {},
     "output_type": "execute_result"
    },
    {
     "data": {
      "text/plain": [
       "11"
      ]
     },
     "execution_count": 101,
     "metadata": {},
     "output_type": "execute_result"
    },
    {
     "data": {
      "text/plain": [
       "11"
      ]
     },
     "execution_count": 101,
     "metadata": {},
     "output_type": "execute_result"
    },
    {
     "data": {
      "text/plain": [
       "8"
      ]
     },
     "execution_count": 101,
     "metadata": {},
     "output_type": "execute_result"
    },
    {
     "data": {
      "text/plain": [
       "11"
      ]
     },
     "execution_count": 101,
     "metadata": {},
     "output_type": "execute_result"
    },
    {
     "data": {
      "text/plain": [
       "10"
      ]
     },
     "execution_count": 101,
     "metadata": {},
     "output_type": "execute_result"
    },
    {
     "data": {
      "text/plain": [
       "8"
      ]
     },
     "execution_count": 101,
     "metadata": {},
     "output_type": "execute_result"
    },
    {
     "data": {
      "text/plain": [
       "9"
      ]
     },
     "execution_count": 101,
     "metadata": {},
     "output_type": "execute_result"
    },
    {
     "data": {
      "text/plain": [
       "9"
      ]
     },
     "execution_count": 101,
     "metadata": {},
     "output_type": "execute_result"
    },
    {
     "data": {
      "text/plain": [
       "10"
      ]
     },
     "execution_count": 101,
     "metadata": {},
     "output_type": "execute_result"
    },
    {
     "data": {
      "text/plain": [
       "10"
      ]
     },
     "execution_count": 101,
     "metadata": {},
     "output_type": "execute_result"
    },
    {
     "data": {
      "text/plain": [
       "8"
      ]
     },
     "execution_count": 101,
     "metadata": {},
     "output_type": "execute_result"
    },
    {
     "data": {
      "text/plain": [
       "10"
      ]
     },
     "execution_count": 101,
     "metadata": {},
     "output_type": "execute_result"
    },
    {
     "data": {
      "text/plain": [
       "11"
      ]
     },
     "execution_count": 101,
     "metadata": {},
     "output_type": "execute_result"
    },
    {
     "data": {
      "text/plain": [
       "9"
      ]
     },
     "execution_count": 101,
     "metadata": {},
     "output_type": "execute_result"
    },
    {
     "data": {
      "text/plain": [
       "9"
      ]
     },
     "execution_count": 101,
     "metadata": {},
     "output_type": "execute_result"
    },
    {
     "data": {
      "text/plain": [
       "12"
      ]
     },
     "execution_count": 101,
     "metadata": {},
     "output_type": "execute_result"
    },
    {
     "data": {
      "text/plain": [
       "8"
      ]
     },
     "execution_count": 101,
     "metadata": {},
     "output_type": "execute_result"
    },
    {
     "data": {
      "text/plain": [
       "9"
      ]
     },
     "execution_count": 101,
     "metadata": {},
     "output_type": "execute_result"
    },
    {
     "data": {
      "text/plain": [
       "10"
      ]
     },
     "execution_count": 101,
     "metadata": {},
     "output_type": "execute_result"
    },
    {
     "data": {
      "text/plain": [
       "10"
      ]
     },
     "execution_count": 101,
     "metadata": {},
     "output_type": "execute_result"
    },
    {
     "data": {
      "text/plain": [
       "10"
      ]
     },
     "execution_count": 101,
     "metadata": {},
     "output_type": "execute_result"
    },
    {
     "data": {
      "text/plain": [
       "10"
      ]
     },
     "execution_count": 101,
     "metadata": {},
     "output_type": "execute_result"
    },
    {
     "data": {
      "text/plain": [
       "8"
      ]
     },
     "execution_count": 101,
     "metadata": {},
     "output_type": "execute_result"
    },
    {
     "data": {
      "text/plain": [
       "7"
      ]
     },
     "execution_count": 101,
     "metadata": {},
     "output_type": "execute_result"
    },
    {
     "data": {
      "text/plain": [
       "8"
      ]
     },
     "execution_count": 101,
     "metadata": {},
     "output_type": "execute_result"
    },
    {
     "data": {
      "text/plain": [
       "11"
      ]
     },
     "execution_count": 101,
     "metadata": {},
     "output_type": "execute_result"
    },
    {
     "data": {
      "text/plain": [
       "9"
      ]
     },
     "execution_count": 101,
     "metadata": {},
     "output_type": "execute_result"
    },
    {
     "data": {
      "text/plain": [
       "9"
      ]
     },
     "execution_count": 101,
     "metadata": {},
     "output_type": "execute_result"
    },
    {
     "data": {
      "text/plain": [
       "9"
      ]
     },
     "execution_count": 101,
     "metadata": {},
     "output_type": "execute_result"
    },
    {
     "data": {
      "text/plain": [
       "9"
      ]
     },
     "execution_count": 101,
     "metadata": {},
     "output_type": "execute_result"
    },
    {
     "data": {
      "text/plain": [
       "9"
      ]
     },
     "execution_count": 101,
     "metadata": {},
     "output_type": "execute_result"
    },
    {
     "data": {
      "text/plain": [
       "9"
      ]
     },
     "execution_count": 101,
     "metadata": {},
     "output_type": "execute_result"
    },
    {
     "data": {
      "text/plain": [
       "10"
      ]
     },
     "execution_count": 101,
     "metadata": {},
     "output_type": "execute_result"
    },
    {
     "data": {
      "text/plain": [
       "10"
      ]
     },
     "execution_count": 101,
     "metadata": {},
     "output_type": "execute_result"
    },
    {
     "data": {
      "text/plain": [
       "11"
      ]
     },
     "execution_count": 101,
     "metadata": {},
     "output_type": "execute_result"
    },
    {
     "data": {
      "text/plain": [
       "9"
      ]
     },
     "execution_count": 101,
     "metadata": {},
     "output_type": "execute_result"
    },
    {
     "data": {
      "text/plain": [
       "11"
      ]
     },
     "execution_count": 101,
     "metadata": {},
     "output_type": "execute_result"
    },
    {
     "data": {
      "text/plain": [
       "11"
      ]
     },
     "execution_count": 101,
     "metadata": {},
     "output_type": "execute_result"
    },
    {
     "data": {
      "text/plain": [
       "9"
      ]
     },
     "execution_count": 101,
     "metadata": {},
     "output_type": "execute_result"
    },
    {
     "data": {
      "text/plain": [
       "10"
      ]
     },
     "execution_count": 101,
     "metadata": {},
     "output_type": "execute_result"
    },
    {
     "data": {
      "text/plain": [
       "8"
      ]
     },
     "execution_count": 101,
     "metadata": {},
     "output_type": "execute_result"
    },
    {
     "data": {
      "text/plain": [
       "10"
      ]
     },
     "execution_count": 101,
     "metadata": {},
     "output_type": "execute_result"
    },
    {
     "data": {
      "text/plain": [
       "8"
      ]
     },
     "execution_count": 101,
     "metadata": {},
     "output_type": "execute_result"
    },
    {
     "data": {
      "text/plain": [
       "8"
      ]
     },
     "execution_count": 101,
     "metadata": {},
     "output_type": "execute_result"
    },
    {
     "data": {
      "text/plain": [
       "11"
      ]
     },
     "execution_count": 101,
     "metadata": {},
     "output_type": "execute_result"
    },
    {
     "data": {
      "text/plain": [
       "12"
      ]
     },
     "execution_count": 101,
     "metadata": {},
     "output_type": "execute_result"
    },
    {
     "data": {
      "text/plain": [
       "7"
      ]
     },
     "execution_count": 101,
     "metadata": {},
     "output_type": "execute_result"
    },
    {
     "data": {
      "text/plain": [
       "10"
      ]
     },
     "execution_count": 101,
     "metadata": {},
     "output_type": "execute_result"
    },
    {
     "data": {
      "text/plain": [
       "10"
      ]
     },
     "execution_count": 101,
     "metadata": {},
     "output_type": "execute_result"
    },
    {
     "data": {
      "text/plain": [
       "10"
      ]
     },
     "execution_count": 101,
     "metadata": {},
     "output_type": "execute_result"
    },
    {
     "data": {
      "text/plain": [
       "10"
      ]
     },
     "execution_count": 101,
     "metadata": {},
     "output_type": "execute_result"
    },
    {
     "data": {
      "text/plain": [
       "9"
      ]
     },
     "execution_count": 101,
     "metadata": {},
     "output_type": "execute_result"
    },
    {
     "data": {
      "text/plain": [
       "9"
      ]
     },
     "execution_count": 101,
     "metadata": {},
     "output_type": "execute_result"
    },
    {
     "data": {
      "text/plain": [
       "10"
      ]
     },
     "execution_count": 101,
     "metadata": {},
     "output_type": "execute_result"
    },
    {
     "data": {
      "text/plain": [
       "9"
      ]
     },
     "execution_count": 101,
     "metadata": {},
     "output_type": "execute_result"
    },
    {
     "data": {
      "text/plain": [
       "8"
      ]
     },
     "execution_count": 101,
     "metadata": {},
     "output_type": "execute_result"
    },
    {
     "data": {
      "text/plain": [
       "10"
      ]
     },
     "execution_count": 101,
     "metadata": {},
     "output_type": "execute_result"
    },
    {
     "data": {
      "text/plain": [
       "9"
      ]
     },
     "execution_count": 101,
     "metadata": {},
     "output_type": "execute_result"
    },
    {
     "data": {
      "text/plain": [
       "9"
      ]
     },
     "execution_count": 101,
     "metadata": {},
     "output_type": "execute_result"
    },
    {
     "data": {
      "text/plain": [
       "11"
      ]
     },
     "execution_count": 101,
     "metadata": {},
     "output_type": "execute_result"
    },
    {
     "data": {
      "text/plain": [
       "9"
      ]
     },
     "execution_count": 101,
     "metadata": {},
     "output_type": "execute_result"
    },
    {
     "data": {
      "text/plain": [
       "10"
      ]
     },
     "execution_count": 101,
     "metadata": {},
     "output_type": "execute_result"
    },
    {
     "data": {
      "text/plain": [
       "9"
      ]
     },
     "execution_count": 101,
     "metadata": {},
     "output_type": "execute_result"
    },
    {
     "data": {
      "text/plain": [
       "10"
      ]
     },
     "execution_count": 101,
     "metadata": {},
     "output_type": "execute_result"
    },
    {
     "data": {
      "text/plain": [
       "10"
      ]
     },
     "execution_count": 101,
     "metadata": {},
     "output_type": "execute_result"
    },
    {
     "data": {
      "text/plain": [
       "10"
      ]
     },
     "execution_count": 101,
     "metadata": {},
     "output_type": "execute_result"
    },
    {
     "data": {
      "text/plain": [
       "9"
      ]
     },
     "execution_count": 101,
     "metadata": {},
     "output_type": "execute_result"
    },
    {
     "data": {
      "text/plain": [
       "10"
      ]
     },
     "execution_count": 101,
     "metadata": {},
     "output_type": "execute_result"
    },
    {
     "data": {
      "text/plain": [
       "8"
      ]
     },
     "execution_count": 101,
     "metadata": {},
     "output_type": "execute_result"
    },
    {
     "data": {
      "text/plain": [
       "9"
      ]
     },
     "execution_count": 101,
     "metadata": {},
     "output_type": "execute_result"
    },
    {
     "data": {
      "text/plain": [
       "9"
      ]
     },
     "execution_count": 101,
     "metadata": {},
     "output_type": "execute_result"
    },
    {
     "data": {
      "text/plain": [
       "8"
      ]
     },
     "execution_count": 101,
     "metadata": {},
     "output_type": "execute_result"
    },
    {
     "data": {
      "text/plain": [
       "8"
      ]
     },
     "execution_count": 101,
     "metadata": {},
     "output_type": "execute_result"
    },
    {
     "data": {
      "text/plain": [
       "7"
      ]
     },
     "execution_count": 101,
     "metadata": {},
     "output_type": "execute_result"
    },
    {
     "data": {
      "text/plain": [
       "8"
      ]
     },
     "execution_count": 101,
     "metadata": {},
     "output_type": "execute_result"
    },
    {
     "data": {
      "text/plain": [
       "7"
      ]
     },
     "execution_count": 101,
     "metadata": {},
     "output_type": "execute_result"
    },
    {
     "data": {
      "text/plain": [
       "8"
      ]
     },
     "execution_count": 101,
     "metadata": {},
     "output_type": "execute_result"
    },
    {
     "data": {
      "text/plain": [
       "8"
      ]
     },
     "execution_count": 101,
     "metadata": {},
     "output_type": "execute_result"
    },
    {
     "data": {
      "text/plain": [
       "8"
      ]
     },
     "execution_count": 101,
     "metadata": {},
     "output_type": "execute_result"
    },
    {
     "data": {
      "text/plain": [
       "9"
      ]
     },
     "execution_count": 101,
     "metadata": {},
     "output_type": "execute_result"
    },
    {
     "data": {
      "text/plain": [
       "7"
      ]
     },
     "execution_count": 101,
     "metadata": {},
     "output_type": "execute_result"
    },
    {
     "data": {
      "text/plain": [
       "8"
      ]
     },
     "execution_count": 101,
     "metadata": {},
     "output_type": "execute_result"
    },
    {
     "data": {
      "text/plain": [
       "10"
      ]
     },
     "execution_count": 101,
     "metadata": {},
     "output_type": "execute_result"
    },
    {
     "data": {
      "text/plain": [
       "8"
      ]
     },
     "execution_count": 101,
     "metadata": {},
     "output_type": "execute_result"
    },
    {
     "data": {
      "text/plain": [
       "8"
      ]
     },
     "execution_count": 101,
     "metadata": {},
     "output_type": "execute_result"
    },
    {
     "data": {
      "text/plain": [
       "8"
      ]
     },
     "execution_count": 101,
     "metadata": {},
     "output_type": "execute_result"
    },
    {
     "data": {
      "text/plain": [
       "9"
      ]
     },
     "execution_count": 101,
     "metadata": {},
     "output_type": "execute_result"
    },
    {
     "data": {
      "text/plain": [
       "13"
      ]
     },
     "execution_count": 101,
     "metadata": {},
     "output_type": "execute_result"
    },
    {
     "data": {
      "text/plain": [
       "11"
      ]
     },
     "execution_count": 101,
     "metadata": {},
     "output_type": "execute_result"
    },
    {
     "data": {
      "text/plain": [
       "10"
      ]
     },
     "execution_count": 101,
     "metadata": {},
     "output_type": "execute_result"
    },
    {
     "data": {
      "text/plain": [
       "10"
      ]
     },
     "execution_count": 101,
     "metadata": {},
     "output_type": "execute_result"
    },
    {
     "data": {
      "text/plain": [
       "8"
      ]
     },
     "execution_count": 101,
     "metadata": {},
     "output_type": "execute_result"
    },
    {
     "data": {
      "text/plain": [
       "10"
      ]
     },
     "execution_count": 101,
     "metadata": {},
     "output_type": "execute_result"
    },
    {
     "data": {
      "text/plain": [
       "10"
      ]
     },
     "execution_count": 101,
     "metadata": {},
     "output_type": "execute_result"
    },
    {
     "data": {
      "text/plain": [
       "10"
      ]
     },
     "execution_count": 101,
     "metadata": {},
     "output_type": "execute_result"
    },
    {
     "data": {
      "text/plain": [
       "10"
      ]
     },
     "execution_count": 101,
     "metadata": {},
     "output_type": "execute_result"
    },
    {
     "data": {
      "text/plain": [
       "8"
      ]
     },
     "execution_count": 101,
     "metadata": {},
     "output_type": "execute_result"
    },
    {
     "data": {
      "text/plain": [
       "10"
      ]
     },
     "execution_count": 101,
     "metadata": {},
     "output_type": "execute_result"
    },
    {
     "data": {
      "text/plain": [
       "10"
      ]
     },
     "execution_count": 101,
     "metadata": {},
     "output_type": "execute_result"
    },
    {
     "data": {
      "text/plain": [
       "8"
      ]
     },
     "execution_count": 101,
     "metadata": {},
     "output_type": "execute_result"
    },
    {
     "data": {
      "text/plain": [
       "8"
      ]
     },
     "execution_count": 101,
     "metadata": {},
     "output_type": "execute_result"
    },
    {
     "data": {
      "text/plain": [
       "10"
      ]
     },
     "execution_count": 101,
     "metadata": {},
     "output_type": "execute_result"
    },
    {
     "data": {
      "text/plain": [
       "8"
      ]
     },
     "execution_count": 101,
     "metadata": {},
     "output_type": "execute_result"
    },
    {
     "data": {
      "text/plain": [
       "8"
      ]
     },
     "execution_count": 101,
     "metadata": {},
     "output_type": "execute_result"
    },
    {
     "data": {
      "text/plain": [
       "9"
      ]
     },
     "execution_count": 101,
     "metadata": {},
     "output_type": "execute_result"
    },
    {
     "data": {
      "text/plain": [
       "11"
      ]
     },
     "execution_count": 101,
     "metadata": {},
     "output_type": "execute_result"
    },
    {
     "data": {
      "text/plain": [
       "11"
      ]
     },
     "execution_count": 101,
     "metadata": {},
     "output_type": "execute_result"
    },
    {
     "data": {
      "text/plain": [
       "10"
      ]
     },
     "execution_count": 101,
     "metadata": {},
     "output_type": "execute_result"
    },
    {
     "data": {
      "text/plain": [
       "11"
      ]
     },
     "execution_count": 101,
     "metadata": {},
     "output_type": "execute_result"
    },
    {
     "data": {
      "text/plain": [
       "12"
      ]
     },
     "execution_count": 101,
     "metadata": {},
     "output_type": "execute_result"
    },
    {
     "data": {
      "text/plain": [
       "9"
      ]
     },
     "execution_count": 101,
     "metadata": {},
     "output_type": "execute_result"
    },
    {
     "data": {
      "text/plain": [
       "9"
      ]
     },
     "execution_count": 101,
     "metadata": {},
     "output_type": "execute_result"
    },
    {
     "data": {
      "text/plain": [
       "9"
      ]
     },
     "execution_count": 101,
     "metadata": {},
     "output_type": "execute_result"
    },
    {
     "data": {
      "text/plain": [
       "10"
      ]
     },
     "execution_count": 101,
     "metadata": {},
     "output_type": "execute_result"
    },
    {
     "data": {
      "text/plain": [
       "10"
      ]
     },
     "execution_count": 101,
     "metadata": {},
     "output_type": "execute_result"
    },
    {
     "data": {
      "text/plain": [
       "9"
      ]
     },
     "execution_count": 101,
     "metadata": {},
     "output_type": "execute_result"
    },
    {
     "data": {
      "text/plain": [
       "8"
      ]
     },
     "execution_count": 101,
     "metadata": {},
     "output_type": "execute_result"
    },
    {
     "data": {
      "text/plain": [
       "11"
      ]
     },
     "execution_count": 101,
     "metadata": {},
     "output_type": "execute_result"
    },
    {
     "data": {
      "text/plain": [
       "9"
      ]
     },
     "execution_count": 101,
     "metadata": {},
     "output_type": "execute_result"
    },
    {
     "data": {
      "text/plain": [
       "7"
      ]
     },
     "execution_count": 101,
     "metadata": {},
     "output_type": "execute_result"
    },
    {
     "data": {
      "text/plain": [
       "14"
      ]
     },
     "execution_count": 101,
     "metadata": {},
     "output_type": "execute_result"
    },
    {
     "data": {
      "text/plain": [
       "13"
      ]
     },
     "execution_count": 101,
     "metadata": {},
     "output_type": "execute_result"
    },
    {
     "data": {
      "text/plain": [
       "10"
      ]
     },
     "execution_count": 101,
     "metadata": {},
     "output_type": "execute_result"
    },
    {
     "data": {
      "text/plain": [
       "10"
      ]
     },
     "execution_count": 101,
     "metadata": {},
     "output_type": "execute_result"
    },
    {
     "data": {
      "text/plain": [
       "10"
      ]
     },
     "execution_count": 101,
     "metadata": {},
     "output_type": "execute_result"
    },
    {
     "data": {
      "text/plain": [
       "10"
      ]
     },
     "execution_count": 101,
     "metadata": {},
     "output_type": "execute_result"
    },
    {
     "data": {
      "text/plain": [
       "10"
      ]
     },
     "execution_count": 101,
     "metadata": {},
     "output_type": "execute_result"
    },
    {
     "data": {
      "text/plain": [
       "9"
      ]
     },
     "execution_count": 101,
     "metadata": {},
     "output_type": "execute_result"
    },
    {
     "data": {
      "text/plain": [
       "10"
      ]
     },
     "execution_count": 101,
     "metadata": {},
     "output_type": "execute_result"
    },
    {
     "data": {
      "text/plain": [
       "9"
      ]
     },
     "execution_count": 101,
     "metadata": {},
     "output_type": "execute_result"
    },
    {
     "data": {
      "text/plain": [
       "12"
      ]
     },
     "execution_count": 101,
     "metadata": {},
     "output_type": "execute_result"
    },
    {
     "data": {
      "text/plain": [
       "11"
      ]
     },
     "execution_count": 101,
     "metadata": {},
     "output_type": "execute_result"
    },
    {
     "data": {
      "text/plain": [
       "10"
      ]
     },
     "execution_count": 101,
     "metadata": {},
     "output_type": "execute_result"
    },
    {
     "data": {
      "text/plain": [
       "10"
      ]
     },
     "execution_count": 101,
     "metadata": {},
     "output_type": "execute_result"
    },
    {
     "data": {
      "text/plain": [
       "11"
      ]
     },
     "execution_count": 101,
     "metadata": {},
     "output_type": "execute_result"
    },
    {
     "data": {
      "text/plain": [
       "9"
      ]
     },
     "execution_count": 101,
     "metadata": {},
     "output_type": "execute_result"
    },
    {
     "data": {
      "text/plain": [
       "11"
      ]
     },
     "execution_count": 101,
     "metadata": {},
     "output_type": "execute_result"
    },
    {
     "data": {
      "text/plain": [
       "10"
      ]
     },
     "execution_count": 101,
     "metadata": {},
     "output_type": "execute_result"
    },
    {
     "data": {
      "text/plain": [
       "8"
      ]
     },
     "execution_count": 101,
     "metadata": {},
     "output_type": "execute_result"
    },
    {
     "data": {
      "text/plain": [
       "10"
      ]
     },
     "execution_count": 101,
     "metadata": {},
     "output_type": "execute_result"
    },
    {
     "data": {
      "text/plain": [
       "12"
      ]
     },
     "execution_count": 101,
     "metadata": {},
     "output_type": "execute_result"
    },
    {
     "data": {
      "text/plain": [
       "9"
      ]
     },
     "execution_count": 101,
     "metadata": {},
     "output_type": "execute_result"
    },
    {
     "data": {
      "text/plain": [
       "7"
      ]
     },
     "execution_count": 101,
     "metadata": {},
     "output_type": "execute_result"
    },
    {
     "data": {
      "text/plain": [
       "10"
      ]
     },
     "execution_count": 101,
     "metadata": {},
     "output_type": "execute_result"
    },
    {
     "data": {
      "text/plain": [
       "10"
      ]
     },
     "execution_count": 101,
     "metadata": {},
     "output_type": "execute_result"
    },
    {
     "data": {
      "text/plain": [
       "10"
      ]
     },
     "execution_count": 101,
     "metadata": {},
     "output_type": "execute_result"
    },
    {
     "data": {
      "text/plain": [
       "11"
      ]
     },
     "execution_count": 101,
     "metadata": {},
     "output_type": "execute_result"
    },
    {
     "data": {
      "text/plain": [
       "10"
      ]
     },
     "execution_count": 101,
     "metadata": {},
     "output_type": "execute_result"
    },
    {
     "data": {
      "text/plain": [
       "10"
      ]
     },
     "execution_count": 101,
     "metadata": {},
     "output_type": "execute_result"
    },
    {
     "data": {
      "text/plain": [
       "9"
      ]
     },
     "execution_count": 101,
     "metadata": {},
     "output_type": "execute_result"
    },
    {
     "data": {
      "text/plain": [
       "10"
      ]
     },
     "execution_count": 101,
     "metadata": {},
     "output_type": "execute_result"
    },
    {
     "data": {
      "text/plain": [
       "11"
      ]
     },
     "execution_count": 101,
     "metadata": {},
     "output_type": "execute_result"
    },
    {
     "data": {
      "text/plain": [
       "9"
      ]
     },
     "execution_count": 101,
     "metadata": {},
     "output_type": "execute_result"
    },
    {
     "data": {
      "text/plain": [
       "9"
      ]
     },
     "execution_count": 101,
     "metadata": {},
     "output_type": "execute_result"
    },
    {
     "data": {
      "text/plain": [
       "9"
      ]
     },
     "execution_count": 101,
     "metadata": {},
     "output_type": "execute_result"
    },
    {
     "data": {
      "text/plain": [
       "8"
      ]
     },
     "execution_count": 101,
     "metadata": {},
     "output_type": "execute_result"
    },
    {
     "data": {
      "text/plain": [
       "10"
      ]
     },
     "execution_count": 101,
     "metadata": {},
     "output_type": "execute_result"
    },
    {
     "data": {
      "text/plain": [
       "10"
      ]
     },
     "execution_count": 101,
     "metadata": {},
     "output_type": "execute_result"
    },
    {
     "data": {
      "text/plain": [
       "9"
      ]
     },
     "execution_count": 101,
     "metadata": {},
     "output_type": "execute_result"
    },
    {
     "data": {
      "text/plain": [
       "10"
      ]
     },
     "execution_count": 101,
     "metadata": {},
     "output_type": "execute_result"
    },
    {
     "data": {
      "text/plain": [
       "8"
      ]
     },
     "execution_count": 101,
     "metadata": {},
     "output_type": "execute_result"
    },
    {
     "data": {
      "text/plain": [
       "8"
      ]
     },
     "execution_count": 101,
     "metadata": {},
     "output_type": "execute_result"
    },
    {
     "data": {
      "text/plain": [
       "8"
      ]
     },
     "execution_count": 101,
     "metadata": {},
     "output_type": "execute_result"
    },
    {
     "data": {
      "text/plain": [
       "9"
      ]
     },
     "execution_count": 101,
     "metadata": {},
     "output_type": "execute_result"
    },
    {
     "data": {
      "text/plain": [
       "9"
      ]
     },
     "execution_count": 101,
     "metadata": {},
     "output_type": "execute_result"
    },
    {
     "data": {
      "text/plain": [
       "9"
      ]
     },
     "execution_count": 101,
     "metadata": {},
     "output_type": "execute_result"
    },
    {
     "data": {
      "text/plain": [
       "10"
      ]
     },
     "execution_count": 101,
     "metadata": {},
     "output_type": "execute_result"
    },
    {
     "data": {
      "text/plain": [
       "9"
      ]
     },
     "execution_count": 101,
     "metadata": {},
     "output_type": "execute_result"
    },
    {
     "data": {
      "text/plain": [
       "8"
      ]
     },
     "execution_count": 101,
     "metadata": {},
     "output_type": "execute_result"
    },
    {
     "data": {
      "text/plain": [
       "10"
      ]
     },
     "execution_count": 101,
     "metadata": {},
     "output_type": "execute_result"
    },
    {
     "data": {
      "text/plain": [
       "9"
      ]
     },
     "execution_count": 101,
     "metadata": {},
     "output_type": "execute_result"
    },
    {
     "data": {
      "text/plain": [
       "9"
      ]
     },
     "execution_count": 101,
     "metadata": {},
     "output_type": "execute_result"
    },
    {
     "data": {
      "text/plain": [
       "11"
      ]
     },
     "execution_count": 101,
     "metadata": {},
     "output_type": "execute_result"
    },
    {
     "data": {
      "text/plain": [
       "10"
      ]
     },
     "execution_count": 101,
     "metadata": {},
     "output_type": "execute_result"
    },
    {
     "data": {
      "text/plain": [
       "9"
      ]
     },
     "execution_count": 101,
     "metadata": {},
     "output_type": "execute_result"
    },
    {
     "data": {
      "text/plain": [
       "10"
      ]
     },
     "execution_count": 101,
     "metadata": {},
     "output_type": "execute_result"
    },
    {
     "data": {
      "text/plain": [
       "10"
      ]
     },
     "execution_count": 101,
     "metadata": {},
     "output_type": "execute_result"
    },
    {
     "data": {
      "text/plain": [
       "10"
      ]
     },
     "execution_count": 101,
     "metadata": {},
     "output_type": "execute_result"
    },
    {
     "data": {
      "text/plain": [
       "10"
      ]
     },
     "execution_count": 101,
     "metadata": {},
     "output_type": "execute_result"
    },
    {
     "data": {
      "text/plain": [
       "13"
      ]
     },
     "execution_count": 101,
     "metadata": {},
     "output_type": "execute_result"
    },
    {
     "data": {
      "text/plain": [
       "13"
      ]
     },
     "execution_count": 101,
     "metadata": {},
     "output_type": "execute_result"
    },
    {
     "data": {
      "text/plain": [
       "12"
      ]
     },
     "execution_count": 101,
     "metadata": {},
     "output_type": "execute_result"
    },
    {
     "data": {
      "text/plain": [
       "10"
      ]
     },
     "execution_count": 101,
     "metadata": {},
     "output_type": "execute_result"
    },
    {
     "data": {
      "text/plain": [
       "10"
      ]
     },
     "execution_count": 101,
     "metadata": {},
     "output_type": "execute_result"
    },
    {
     "data": {
      "text/plain": [
       "9"
      ]
     },
     "execution_count": 101,
     "metadata": {},
     "output_type": "execute_result"
    },
    {
     "data": {
      "text/plain": [
       "12"
      ]
     },
     "execution_count": 101,
     "metadata": {},
     "output_type": "execute_result"
    },
    {
     "data": {
      "text/plain": [
       "10"
      ]
     },
     "execution_count": 101,
     "metadata": {},
     "output_type": "execute_result"
    },
    {
     "data": {
      "text/plain": [
       "9"
      ]
     },
     "execution_count": 101,
     "metadata": {},
     "output_type": "execute_result"
    },
    {
     "data": {
      "text/plain": [
       "12"
      ]
     },
     "execution_count": 101,
     "metadata": {},
     "output_type": "execute_result"
    },
    {
     "data": {
      "text/plain": [
       "9"
      ]
     },
     "execution_count": 101,
     "metadata": {},
     "output_type": "execute_result"
    },
    {
     "data": {
      "text/plain": [
       "10"
      ]
     },
     "execution_count": 101,
     "metadata": {},
     "output_type": "execute_result"
    },
    {
     "data": {
      "text/plain": [
       "9"
      ]
     },
     "execution_count": 101,
     "metadata": {},
     "output_type": "execute_result"
    },
    {
     "data": {
      "text/plain": [
       "9"
      ]
     },
     "execution_count": 101,
     "metadata": {},
     "output_type": "execute_result"
    },
    {
     "data": {
      "text/plain": [
       "8"
      ]
     },
     "execution_count": 101,
     "metadata": {},
     "output_type": "execute_result"
    },
    {
     "data": {
      "text/plain": [
       "9"
      ]
     },
     "execution_count": 101,
     "metadata": {},
     "output_type": "execute_result"
    },
    {
     "data": {
      "text/plain": [
       "11"
      ]
     },
     "execution_count": 101,
     "metadata": {},
     "output_type": "execute_result"
    },
    {
     "data": {
      "text/plain": [
       "9"
      ]
     },
     "execution_count": 101,
     "metadata": {},
     "output_type": "execute_result"
    },
    {
     "data": {
      "text/plain": [
       "9"
      ]
     },
     "execution_count": 101,
     "metadata": {},
     "output_type": "execute_result"
    },
    {
     "data": {
      "text/plain": [
       "8"
      ]
     },
     "execution_count": 101,
     "metadata": {},
     "output_type": "execute_result"
    },
    {
     "data": {
      "text/plain": [
       "10"
      ]
     },
     "execution_count": 101,
     "metadata": {},
     "output_type": "execute_result"
    },
    {
     "data": {
      "text/plain": [
       "11"
      ]
     },
     "execution_count": 101,
     "metadata": {},
     "output_type": "execute_result"
    },
    {
     "data": {
      "text/plain": [
       "8"
      ]
     },
     "execution_count": 101,
     "metadata": {},
     "output_type": "execute_result"
    },
    {
     "data": {
      "text/plain": [
       "8"
      ]
     },
     "execution_count": 101,
     "metadata": {},
     "output_type": "execute_result"
    },
    {
     "data": {
      "text/plain": [
       "9"
      ]
     },
     "execution_count": 101,
     "metadata": {},
     "output_type": "execute_result"
    },
    {
     "data": {
      "text/plain": [
       "9"
      ]
     },
     "execution_count": 101,
     "metadata": {},
     "output_type": "execute_result"
    },
    {
     "data": {
      "text/plain": [
       "8"
      ]
     },
     "execution_count": 101,
     "metadata": {},
     "output_type": "execute_result"
    },
    {
     "data": {
      "text/plain": [
       "8"
      ]
     },
     "execution_count": 101,
     "metadata": {},
     "output_type": "execute_result"
    },
    {
     "data": {
      "text/plain": [
       "7"
      ]
     },
     "execution_count": 101,
     "metadata": {},
     "output_type": "execute_result"
    },
    {
     "data": {
      "text/plain": [
       "8"
      ]
     },
     "execution_count": 101,
     "metadata": {},
     "output_type": "execute_result"
    },
    {
     "data": {
      "text/plain": [
       "7"
      ]
     },
     "execution_count": 101,
     "metadata": {},
     "output_type": "execute_result"
    },
    {
     "data": {
      "text/plain": [
       "8"
      ]
     },
     "execution_count": 101,
     "metadata": {},
     "output_type": "execute_result"
    },
    {
     "data": {
      "text/plain": [
       "8"
      ]
     },
     "execution_count": 101,
     "metadata": {},
     "output_type": "execute_result"
    },
    {
     "data": {
      "text/plain": [
       "10"
      ]
     },
     "execution_count": 101,
     "metadata": {},
     "output_type": "execute_result"
    },
    {
     "data": {
      "text/plain": [
       "10"
      ]
     },
     "execution_count": 101,
     "metadata": {},
     "output_type": "execute_result"
    },
    {
     "data": {
      "text/plain": [
       "11"
      ]
     },
     "execution_count": 101,
     "metadata": {},
     "output_type": "execute_result"
    },
    {
     "data": {
      "text/plain": [
       "9"
      ]
     },
     "execution_count": 101,
     "metadata": {},
     "output_type": "execute_result"
    },
    {
     "data": {
      "text/plain": [
       "10"
      ]
     },
     "execution_count": 101,
     "metadata": {},
     "output_type": "execute_result"
    },
    {
     "data": {
      "text/plain": [
       "9"
      ]
     },
     "execution_count": 101,
     "metadata": {},
     "output_type": "execute_result"
    },
    {
     "data": {
      "text/plain": [
       "9"
      ]
     },
     "execution_count": 101,
     "metadata": {},
     "output_type": "execute_result"
    },
    {
     "data": {
      "text/plain": [
       "9"
      ]
     },
     "execution_count": 101,
     "metadata": {},
     "output_type": "execute_result"
    },
    {
     "data": {
      "text/plain": [
       "8"
      ]
     },
     "execution_count": 101,
     "metadata": {},
     "output_type": "execute_result"
    },
    {
     "data": {
      "text/plain": [
       "10"
      ]
     },
     "execution_count": 101,
     "metadata": {},
     "output_type": "execute_result"
    },
    {
     "data": {
      "text/plain": [
       "9"
      ]
     },
     "execution_count": 101,
     "metadata": {},
     "output_type": "execute_result"
    },
    {
     "data": {
      "text/plain": [
       "9"
      ]
     },
     "execution_count": 101,
     "metadata": {},
     "output_type": "execute_result"
    },
    {
     "data": {
      "text/plain": [
       "10"
      ]
     },
     "execution_count": 101,
     "metadata": {},
     "output_type": "execute_result"
    },
    {
     "data": {
      "text/plain": [
       "10"
      ]
     },
     "execution_count": 101,
     "metadata": {},
     "output_type": "execute_result"
    },
    {
     "data": {
      "text/plain": [
       "9"
      ]
     },
     "execution_count": 101,
     "metadata": {},
     "output_type": "execute_result"
    },
    {
     "data": {
      "text/plain": [
       "10"
      ]
     },
     "execution_count": 101,
     "metadata": {},
     "output_type": "execute_result"
    },
    {
     "data": {
      "text/plain": [
       "11"
      ]
     },
     "execution_count": 101,
     "metadata": {},
     "output_type": "execute_result"
    },
    {
     "data": {
      "text/plain": [
       "11"
      ]
     },
     "execution_count": 101,
     "metadata": {},
     "output_type": "execute_result"
    },
    {
     "data": {
      "text/plain": [
       "9"
      ]
     },
     "execution_count": 101,
     "metadata": {},
     "output_type": "execute_result"
    },
    {
     "data": {
      "text/plain": [
       "8"
      ]
     },
     "execution_count": 101,
     "metadata": {},
     "output_type": "execute_result"
    },
    {
     "data": {
      "text/plain": [
       "11"
      ]
     },
     "execution_count": 101,
     "metadata": {},
     "output_type": "execute_result"
    },
    {
     "data": {
      "text/plain": [
       "11"
      ]
     },
     "execution_count": 101,
     "metadata": {},
     "output_type": "execute_result"
    },
    {
     "data": {
      "text/plain": [
       "10"
      ]
     },
     "execution_count": 101,
     "metadata": {},
     "output_type": "execute_result"
    },
    {
     "data": {
      "text/plain": [
       "10"
      ]
     },
     "execution_count": 101,
     "metadata": {},
     "output_type": "execute_result"
    },
    {
     "data": {
      "text/plain": [
       "9"
      ]
     },
     "execution_count": 101,
     "metadata": {},
     "output_type": "execute_result"
    },
    {
     "data": {
      "text/plain": [
       "9"
      ]
     },
     "execution_count": 101,
     "metadata": {},
     "output_type": "execute_result"
    },
    {
     "data": {
      "text/plain": [
       "10"
      ]
     },
     "execution_count": 101,
     "metadata": {},
     "output_type": "execute_result"
    },
    {
     "data": {
      "text/plain": [
       "9"
      ]
     },
     "execution_count": 101,
     "metadata": {},
     "output_type": "execute_result"
    },
    {
     "data": {
      "text/plain": [
       "8"
      ]
     },
     "execution_count": 101,
     "metadata": {},
     "output_type": "execute_result"
    },
    {
     "data": {
      "text/plain": [
       "9"
      ]
     },
     "execution_count": 101,
     "metadata": {},
     "output_type": "execute_result"
    },
    {
     "data": {
      "text/plain": [
       "10"
      ]
     },
     "execution_count": 101,
     "metadata": {},
     "output_type": "execute_result"
    },
    {
     "data": {
      "text/plain": [
       "8"
      ]
     },
     "execution_count": 101,
     "metadata": {},
     "output_type": "execute_result"
    },
    {
     "data": {
      "text/plain": [
       "8"
      ]
     },
     "execution_count": 101,
     "metadata": {},
     "output_type": "execute_result"
    },
    {
     "data": {
      "text/plain": [
       "8"
      ]
     },
     "execution_count": 101,
     "metadata": {},
     "output_type": "execute_result"
    },
    {
     "data": {
      "text/plain": [
       "10"
      ]
     },
     "execution_count": 101,
     "metadata": {},
     "output_type": "execute_result"
    },
    {
     "data": {
      "text/plain": [
       "8"
      ]
     },
     "execution_count": 101,
     "metadata": {},
     "output_type": "execute_result"
    },
    {
     "data": {
      "text/plain": [
       "10"
      ]
     },
     "execution_count": 101,
     "metadata": {},
     "output_type": "execute_result"
    },
    {
     "data": {
      "text/plain": [
       "9"
      ]
     },
     "execution_count": 101,
     "metadata": {},
     "output_type": "execute_result"
    },
    {
     "data": {
      "text/plain": [
       "10"
      ]
     },
     "execution_count": 101,
     "metadata": {},
     "output_type": "execute_result"
    },
    {
     "data": {
      "text/plain": [
       "8"
      ]
     },
     "execution_count": 101,
     "metadata": {},
     "output_type": "execute_result"
    },
    {
     "data": {
      "text/plain": [
       "8"
      ]
     },
     "execution_count": 101,
     "metadata": {},
     "output_type": "execute_result"
    },
    {
     "data": {
      "text/plain": [
       "9"
      ]
     },
     "execution_count": 101,
     "metadata": {},
     "output_type": "execute_result"
    },
    {
     "data": {
      "text/plain": [
       "10"
      ]
     },
     "execution_count": 101,
     "metadata": {},
     "output_type": "execute_result"
    },
    {
     "data": {
      "text/plain": [
       "8"
      ]
     },
     "execution_count": 101,
     "metadata": {},
     "output_type": "execute_result"
    },
    {
     "data": {
      "text/plain": [
       "9"
      ]
     },
     "execution_count": 101,
     "metadata": {},
     "output_type": "execute_result"
    },
    {
     "data": {
      "text/plain": [
       "8"
      ]
     },
     "execution_count": 101,
     "metadata": {},
     "output_type": "execute_result"
    },
    {
     "data": {
      "text/plain": [
       "11"
      ]
     },
     "execution_count": 101,
     "metadata": {},
     "output_type": "execute_result"
    },
    {
     "data": {
      "text/plain": [
       "12"
      ]
     },
     "execution_count": 101,
     "metadata": {},
     "output_type": "execute_result"
    },
    {
     "data": {
      "text/plain": [
       "9"
      ]
     },
     "execution_count": 101,
     "metadata": {},
     "output_type": "execute_result"
    },
    {
     "data": {
      "text/plain": [
       "11"
      ]
     },
     "execution_count": 101,
     "metadata": {},
     "output_type": "execute_result"
    },
    {
     "data": {
      "text/plain": [
       "9"
      ]
     },
     "execution_count": 101,
     "metadata": {},
     "output_type": "execute_result"
    },
    {
     "data": {
      "text/plain": [
       "11"
      ]
     },
     "execution_count": 101,
     "metadata": {},
     "output_type": "execute_result"
    },
    {
     "data": {
      "text/plain": [
       "8"
      ]
     },
     "execution_count": 101,
     "metadata": {},
     "output_type": "execute_result"
    },
    {
     "data": {
      "text/plain": [
       "8"
      ]
     },
     "execution_count": 101,
     "metadata": {},
     "output_type": "execute_result"
    },
    {
     "data": {
      "text/plain": [
       "9"
      ]
     },
     "execution_count": 101,
     "metadata": {},
     "output_type": "execute_result"
    },
    {
     "data": {
      "text/plain": [
       "8"
      ]
     },
     "execution_count": 101,
     "metadata": {},
     "output_type": "execute_result"
    },
    {
     "data": {
      "text/plain": [
       "9"
      ]
     },
     "execution_count": 101,
     "metadata": {},
     "output_type": "execute_result"
    },
    {
     "data": {
      "text/plain": [
       "8"
      ]
     },
     "execution_count": 101,
     "metadata": {},
     "output_type": "execute_result"
    },
    {
     "data": {
      "text/plain": [
       "10"
      ]
     },
     "execution_count": 101,
     "metadata": {},
     "output_type": "execute_result"
    },
    {
     "data": {
      "text/plain": [
       "10"
      ]
     },
     "execution_count": 101,
     "metadata": {},
     "output_type": "execute_result"
    },
    {
     "data": {
      "text/plain": [
       "9"
      ]
     },
     "execution_count": 101,
     "metadata": {},
     "output_type": "execute_result"
    },
    {
     "data": {
      "text/plain": [
       "9"
      ]
     },
     "execution_count": 101,
     "metadata": {},
     "output_type": "execute_result"
    },
    {
     "data": {
      "text/plain": [
       "9"
      ]
     },
     "execution_count": 101,
     "metadata": {},
     "output_type": "execute_result"
    },
    {
     "data": {
      "text/plain": [
       "9"
      ]
     },
     "execution_count": 101,
     "metadata": {},
     "output_type": "execute_result"
    },
    {
     "data": {
      "text/plain": [
       "8"
      ]
     },
     "execution_count": 101,
     "metadata": {},
     "output_type": "execute_result"
    },
    {
     "data": {
      "text/plain": [
       "7"
      ]
     },
     "execution_count": 101,
     "metadata": {},
     "output_type": "execute_result"
    },
    {
     "data": {
      "text/plain": [
       "8"
      ]
     },
     "execution_count": 101,
     "metadata": {},
     "output_type": "execute_result"
    },
    {
     "data": {
      "text/plain": [
       "8"
      ]
     },
     "execution_count": 101,
     "metadata": {},
     "output_type": "execute_result"
    },
    {
     "data": {
      "text/plain": [
       "8"
      ]
     },
     "execution_count": 101,
     "metadata": {},
     "output_type": "execute_result"
    },
    {
     "data": {
      "text/plain": [
       "9"
      ]
     },
     "execution_count": 101,
     "metadata": {},
     "output_type": "execute_result"
    },
    {
     "data": {
      "text/plain": [
       "8"
      ]
     },
     "execution_count": 101,
     "metadata": {},
     "output_type": "execute_result"
    },
    {
     "data": {
      "text/plain": [
       "10"
      ]
     },
     "execution_count": 101,
     "metadata": {},
     "output_type": "execute_result"
    },
    {
     "data": {
      "text/plain": [
       "9"
      ]
     },
     "execution_count": 101,
     "metadata": {},
     "output_type": "execute_result"
    },
    {
     "data": {
      "text/plain": [
       "8"
      ]
     },
     "execution_count": 101,
     "metadata": {},
     "output_type": "execute_result"
    },
    {
     "data": {
      "text/plain": [
       "8"
      ]
     },
     "execution_count": 101,
     "metadata": {},
     "output_type": "execute_result"
    },
    {
     "data": {
      "text/plain": [
       "9"
      ]
     },
     "execution_count": 101,
     "metadata": {},
     "output_type": "execute_result"
    },
    {
     "data": {
      "text/plain": [
       "8"
      ]
     },
     "execution_count": 101,
     "metadata": {},
     "output_type": "execute_result"
    },
    {
     "data": {
      "text/plain": [
       "8"
      ]
     },
     "execution_count": 101,
     "metadata": {},
     "output_type": "execute_result"
    },
    {
     "data": {
      "text/plain": [
       "7"
      ]
     },
     "execution_count": 101,
     "metadata": {},
     "output_type": "execute_result"
    },
    {
     "data": {
      "text/plain": [
       "10"
      ]
     },
     "execution_count": 101,
     "metadata": {},
     "output_type": "execute_result"
    },
    {
     "data": {
      "text/plain": [
       "9"
      ]
     },
     "execution_count": 101,
     "metadata": {},
     "output_type": "execute_result"
    },
    {
     "data": {
      "text/plain": [
       "11"
      ]
     },
     "execution_count": 101,
     "metadata": {},
     "output_type": "execute_result"
    },
    {
     "data": {
      "text/plain": [
       "8"
      ]
     },
     "execution_count": 101,
     "metadata": {},
     "output_type": "execute_result"
    },
    {
     "data": {
      "text/plain": [
       "10"
      ]
     },
     "execution_count": 101,
     "metadata": {},
     "output_type": "execute_result"
    },
    {
     "data": {
      "text/plain": [
       "7"
      ]
     },
     "execution_count": 101,
     "metadata": {},
     "output_type": "execute_result"
    },
    {
     "data": {
      "text/plain": [
       "8"
      ]
     },
     "execution_count": 101,
     "metadata": {},
     "output_type": "execute_result"
    },
    {
     "data": {
      "text/plain": [
       "10"
      ]
     },
     "execution_count": 101,
     "metadata": {},
     "output_type": "execute_result"
    },
    {
     "data": {
      "text/plain": [
       "7"
      ]
     },
     "execution_count": 101,
     "metadata": {},
     "output_type": "execute_result"
    },
    {
     "data": {
      "text/plain": [
       "10"
      ]
     },
     "execution_count": 101,
     "metadata": {},
     "output_type": "execute_result"
    },
    {
     "data": {
      "text/plain": [
       "11"
      ]
     },
     "execution_count": 101,
     "metadata": {},
     "output_type": "execute_result"
    },
    {
     "data": {
      "text/plain": [
       "9"
      ]
     },
     "execution_count": 101,
     "metadata": {},
     "output_type": "execute_result"
    },
    {
     "data": {
      "text/plain": [
       "10"
      ]
     },
     "execution_count": 101,
     "metadata": {},
     "output_type": "execute_result"
    },
    {
     "data": {
      "text/plain": [
       "9"
      ]
     },
     "execution_count": 101,
     "metadata": {},
     "output_type": "execute_result"
    },
    {
     "data": {
      "text/plain": [
       "8"
      ]
     },
     "execution_count": 101,
     "metadata": {},
     "output_type": "execute_result"
    },
    {
     "data": {
      "text/plain": [
       "10"
      ]
     },
     "execution_count": 101,
     "metadata": {},
     "output_type": "execute_result"
    },
    {
     "data": {
      "text/plain": [
       "8"
      ]
     },
     "execution_count": 101,
     "metadata": {},
     "output_type": "execute_result"
    },
    {
     "data": {
      "text/plain": [
       "9"
      ]
     },
     "execution_count": 101,
     "metadata": {},
     "output_type": "execute_result"
    },
    {
     "data": {
      "text/plain": [
       "9"
      ]
     },
     "execution_count": 101,
     "metadata": {},
     "output_type": "execute_result"
    },
    {
     "data": {
      "text/plain": [
       "9"
      ]
     },
     "execution_count": 101,
     "metadata": {},
     "output_type": "execute_result"
    },
    {
     "data": {
      "text/plain": [
       "10"
      ]
     },
     "execution_count": 101,
     "metadata": {},
     "output_type": "execute_result"
    },
    {
     "data": {
      "text/plain": [
       "9"
      ]
     },
     "execution_count": 101,
     "metadata": {},
     "output_type": "execute_result"
    },
    {
     "data": {
      "text/plain": [
       "10"
      ]
     },
     "execution_count": 101,
     "metadata": {},
     "output_type": "execute_result"
    },
    {
     "data": {
      "text/plain": [
       "8"
      ]
     },
     "execution_count": 101,
     "metadata": {},
     "output_type": "execute_result"
    },
    {
     "data": {
      "text/plain": [
       "8"
      ]
     },
     "execution_count": 101,
     "metadata": {},
     "output_type": "execute_result"
    },
    {
     "data": {
      "text/plain": [
       "9"
      ]
     },
     "execution_count": 101,
     "metadata": {},
     "output_type": "execute_result"
    },
    {
     "data": {
      "text/plain": [
       "8"
      ]
     },
     "execution_count": 101,
     "metadata": {},
     "output_type": "execute_result"
    },
    {
     "name": "stderr",
     "output_type": "stream",
     "text": [
      "IOPub message rate exceeded.\n",
      "The Jupyter server will temporarily stop sending output\n",
      "to the client in order to avoid crashing it.\n",
      "To change this limit, set the config variable\n",
      "`--ServerApp.iopub_msg_rate_limit`.\n",
      "\n",
      "Current values:\n",
      "ServerApp.iopub_msg_rate_limit=1000.0 (msgs/sec)\n",
      "ServerApp.rate_limit_window=3.0 (secs)\n",
      "\n"
     ]
    }
   ],
   "source": [
    "def sum_of_word(word):\n",
    "    sum = 0\n",
    "    for char in word:\n",
    "        sum += ord(char) - 96\n",
    "    return sum\n",
    "\n",
    "with open('results.txt', 'w') as result:\n",
    "    with open('words_alpha.txt', mode='r') as file:\n",
    "        for word in file.readlines():\n",
    "            if sum_of_word(word.strip()) == 100:\n",
    "                result.write(word)\n"
   ]
  },
  {
   "cell_type": "code",
   "execution_count": 102,
   "id": "54526356-3882-4c87-888d-8faa0b48a334",
   "metadata": {},
   "outputs": [],
   "source": [
    "### Functions\n",
    "def do_nothing():\n",
    "    pass\n",
    "\n",
    "do_nothing()"
   ]
  },
  {
   "cell_type": "code",
   "execution_count": 109,
   "id": "ae916133-364c-456b-8f5a-2b0ca5572242",
   "metadata": {
    "scrolled": true
   },
   "outputs": [
    {
     "data": {
      "text/plain": [
       "['False',\n",
       " 'None',\n",
       " 'True',\n",
       " 'and',\n",
       " 'as',\n",
       " 'assert',\n",
       " 'async',\n",
       " 'await',\n",
       " 'break',\n",
       " 'class',\n",
       " 'continue',\n",
       " 'def',\n",
       " 'del',\n",
       " 'elif',\n",
       " 'else',\n",
       " 'except',\n",
       " 'finally',\n",
       " 'for',\n",
       " 'from',\n",
       " 'global',\n",
       " 'if',\n",
       " 'import',\n",
       " 'in',\n",
       " 'is',\n",
       " 'lambda',\n",
       " 'nonlocal',\n",
       " 'not',\n",
       " 'or',\n",
       " 'pass',\n",
       " 'raise',\n",
       " 'return',\n",
       " 'try',\n",
       " 'while',\n",
       " 'with',\n",
       " 'yield']"
      ]
     },
     "execution_count": 109,
     "metadata": {},
     "output_type": "execute_result"
    },
    {
     "data": {
      "text/plain": [
       "True"
      ]
     },
     "execution_count": 109,
     "metadata": {},
     "output_type": "execute_result"
    }
   ],
   "source": [
    "from IPython.core.interactiveshell import InteractiveShell\n",
    "InteractiveShell.ast_node_interactivity = 'all'\n",
    "\n",
    "import keyword\n",
    "keyword.kwlist\n",
    "keyword.iskeyword('if')"
   ]
  },
  {
   "cell_type": "code",
   "execution_count": 110,
   "id": "d626baaa-1d83-4b7e-99c5-7db29f7125eb",
   "metadata": {},
   "outputs": [
    {
     "name": "stdout",
     "output_type": "stream",
     "text": [
      "This is a function do not accept any parameters and do nothing\n"
     ]
    }
   ],
   "source": [
    "def do_nothing():\n",
    "    print('This is a function do not accept any parameters and do nothing')\n",
    "    pass\n",
    "    \n",
    "do_nothing()"
   ]
  },
  {
   "cell_type": "code",
   "execution_count": 111,
   "id": "48f58f6f-556e-4163-88cd-0d6173ad2fb9",
   "metadata": {},
   "outputs": [
    {
     "name": "stdout",
     "output_type": "stream",
     "text": [
      "This is a message form the function do_nothing\n",
      "The return of do_nothing() is none\n"
     ]
    }
   ],
   "source": [
    "def do_nothing():\n",
    "    print('This is a message form the function do_nothing')\n",
    "\n",
    "if not do_nothing():\n",
    "    print('The return of do_nothing() is none')"
   ]
  },
  {
   "cell_type": "code",
   "execution_count": 116,
   "id": "37078728-5828-4a68-92ac-55d1bb880ebd",
   "metadata": {},
   "outputs": [
    {
     "data": {
      "text/plain": [
       "False"
      ]
     },
     "execution_count": 116,
     "metadata": {},
     "output_type": "execute_result"
    },
    {
     "data": {
      "text/plain": [
       "True"
      ]
     },
     "execution_count": 116,
     "metadata": {},
     "output_type": "execute_result"
    },
    {
     "data": {
      "text/plain": [
       "False"
      ]
     },
     "execution_count": 116,
     "metadata": {},
     "output_type": "execute_result"
    }
   ],
   "source": [
    "def is_leap(year):\n",
    "    leap = False\n",
    "    if year%4 == 0:\n",
    "        leap = True\n",
    "        if year%100 == 0 and year%400 !=0:\n",
    "            leap=False\n",
    "    return leap\n",
    "\n",
    "is_leap(7)\n",
    "is_leap(2000)\n",
    "is_leap(300)    \n",
    "        "
   ]
  },
  {
   "cell_type": "code",
   "execution_count": 115,
   "id": "57b0da7c-4a47-4df1-9ae4-f62badc4cfb5",
   "metadata": {},
   "outputs": [
    {
     "data": {
      "text/plain": [
       "False"
      ]
     },
     "execution_count": 115,
     "metadata": {},
     "output_type": "execute_result"
    }
   ],
   "source": [
    "def _is_leap(year):\n",
    "    return year%4 == 0 and (year%100 != 0 or year%400 == 0)\n",
    "_is_leap(300)"
   ]
  },
  {
   "cell_type": "code",
   "execution_count": 2,
   "id": "13f4c2b3-b487-42fe-8307-e85666954271",
   "metadata": {},
   "outputs": [
    {
     "data": {
      "text/plain": [
       "[144, 233, 377, 610, 987]"
      ]
     },
     "execution_count": 2,
     "metadata": {},
     "output_type": "execute_result"
    }
   ],
   "source": [
    "def fib_between(start, end):\n",
    "    r = []\n",
    "    a, b = 0, 1\n",
    "    while a < end:\n",
    "        if a >= start:\n",
    "            r.append(a)\n",
    "        a, b = b, a+b\n",
    "    return r\n",
    "\n",
    "fib = fib_between(100, 1000)\n",
    "fib\n",
    "    "
   ]
  },
  {
   "cell_type": "code",
   "execution_count": 3,
   "id": "57e9350c-c392-4b10-9c94-516a05f79607",
   "metadata": {},
   "outputs": [
    {
     "data": {
      "text/plain": [
       "(1, ['What?!', 2, 3])"
      ]
     },
     "execution_count": 3,
     "metadata": {},
     "output_type": "execute_result"
    }
   ],
   "source": [
    "def be_careful(a, b):\n",
    "    a = 2\n",
    "    b[0] = 'What?!'\n",
    "\n",
    "a = 1\n",
    "b = [1, 2, 3]\n",
    "be_careful(a, b)\n",
    "a, b\n",
    "\n"
   ]
  },
  {
   "cell_type": "code",
   "execution_count": 4,
   "id": "81038264-be93-4485-aeee-671ca37e66b7",
   "metadata": {},
   "outputs": [
    {
     "data": {
      "text/plain": [
       "(1, [1, 2, 3])"
      ]
     },
     "execution_count": 4,
     "metadata": {},
     "output_type": "execute_result"
    }
   ],
   "source": [
    "def be_careful(a, b):\n",
    "    a = 2\n",
    "    b_copy = b.copy()\n",
    "    b_copy[0] = 'What?!'\n",
    "\n",
    "a = 1\n",
    "b = [1, 2, 3]\n",
    "be_careful(a, b)\n",
    "a, b"
   ]
  },
  {
   "cell_type": "code",
   "execution_count": 9,
   "id": "1b2220df-5ee1-465d-9b04-7fc59c3bae91",
   "metadata": {},
   "outputs": [
    {
     "name": "stdout",
     "output_type": "stream",
     "text": [
      "hi, Ann\n",
      "hi, \n",
      "hi, Ann\n",
      "hi, Benn\n",
      "hi, Chin\n"
     ]
    }
   ],
   "source": [
    "def say_hi(*names):\n",
    "    for name in names:\n",
    "        print(f'hi, {name}')\n",
    "\n",
    "say_hi('Ann')\n",
    "say_hi('')\n",
    "say_hi('Ann', 'Benn', 'Chin')"
   ]
  },
  {
   "cell_type": "code",
   "execution_count": 10,
   "id": "672a4424-32a4-4909-96e3-a9459ce977ca",
   "metadata": {
    "scrolled": true
   },
   "outputs": [
    {
     "name": "stdout",
     "output_type": "stream",
     "text": [
      "hi, P\n",
      "hi, y\n",
      "hi, t\n",
      "hi, h\n",
      "hi, o\n",
      "hi, n\n",
      "hi, 0\n",
      "hi, 1\n",
      "hi, 2\n",
      "hi, 3\n",
      "hi, 4\n",
      "hi, 5\n",
      "hi, 6\n",
      "hi, 7\n",
      "hi, 8\n",
      "hi, 9\n",
      "hi, 10\n",
      "hi, 9\n",
      "hi, 8\n",
      "hi, 7\n",
      "hi, 6\n",
      "hi, 5\n",
      "hi, 4\n",
      "hi, 3\n",
      "hi, 2\n",
      "hi, 1\n",
      "hi, ann\n",
      "hi, mike\n",
      "hi, joe\n"
     ]
    }
   ],
   "source": [
    "a_string = 'Python'\n",
    "say_hi(*a_string)\n",
    "\n",
    "a_range = range(10)\n",
    "say_hi(*a_range)\n",
    "\n",
    "a_list = list(range(10, 0, -1))\n",
    "say_hi(*a_list)\n",
    "\n",
    "a_dictionary = {'ann':2321, 'mike':8712, 'joe': 7610}\n",
    "say_hi(*a_dictionary)"
   ]
  },
  {
   "cell_type": "code",
   "execution_count": 12,
   "id": "c09a4ada-2433-4509-85d9-280ac10ef217",
   "metadata": {},
   "outputs": [
    {
     "name": "stdout",
     "output_type": "stream",
     "text": [
      "Hi, Ann\n",
      "Hi, Benn\n",
      "Hi, David\n"
     ]
    }
   ],
   "source": [
    "def say_hi(greetings, *names):\n",
    "    for name in names:\n",
    "        print(f'{greetings}, {name}')\n",
    "\n",
    "say_hi('Hi', 'Ann', 'Benn', 'David')"
   ]
  },
  {
   "cell_type": "code",
   "execution_count": 15,
   "id": "3afd71e9-776f-4a30-bf19-72519cec6298",
   "metadata": {},
   "outputs": [
    {
     "name": "stdout",
     "output_type": "stream",
     "text": [
      "Hello, ann\n",
      "Hello, benn\n",
      "Hello, dave\n",
      "Hello, Ann\n",
      "Hello, Benn\n"
     ]
    }
   ],
   "source": [
    "def say_hi(greetings, *names, captilized=False):\n",
    "    for name in names:\n",
    "        if captilized:\n",
    "            name = name.capitalize()\n",
    "        print(f'{greetings}, {name}')\n",
    "\n",
    "say_hi('Hello', 'ann', 'benn', 'dave', captilized=False)\n",
    "say_hi('Hello', 'ann', 'benn', captilized=True)"
   ]
  },
  {
   "cell_type": "code",
   "execution_count": 18,
   "id": "7d2c7e40-6efc-49f0-a105-6cdf0de1cda6",
   "metadata": {},
   "outputs": [
    {
     "name": "stdout",
     "output_type": "stream",
     "text": [
      "Hello, Ann\n",
      "Oh, Darling, Benn\n",
      "\n",
      "Hello, mike\n",
      "Oh, my darling, ann\n",
      "Hi, john\n",
      "\n"
     ]
    }
   ],
   "source": [
    "def say_hi(**names_greetings):\n",
    "    for name, greeting in names_greetings.items():\n",
    "        print(f'{greeting}, {name}')\n",
    "        \n",
    "say_hi(Ann='Hello', Benn='Oh, Darling')\n",
    "print()\n",
    "\n",
    "a_dictionary = {'mike':'Hello', 'ann':'Oh, my darling', 'john':'Hi'}\n",
    "say_hi(**a_dictionary)\n",
    "print()"
   ]
  },
  {
   "cell_type": "code",
   "execution_count": 19,
   "id": "7232187d-5199-4bde-9e2b-12b19702369a",
   "metadata": {},
   "outputs": [
    {
     "name": "stdout",
     "output_type": "stream",
     "text": [
      "Hello, mike!\n",
      "Oh, my darling, ann!\n",
      "Hi, john!\n"
     ]
    }
   ],
   "source": [
    "def say_hi_2(**names_greetings):\n",
    "    for name in names_greetings:\n",
    "        print(f'{names_greetings[name]}, {name}!')\n",
    "say_hi_2(mike='Hello', ann='Oh, my darling', john='Hi')\n",
    "\n",
    "\"\"\"\n",
    "Order of Arguments\n",
    "\n",
    "Positional # greetings\n",
    "Arbitrary Positional # *names\n",
    "Keyword # capitalized=True\n",
    "Arbitrary Keyword # **names_greetings\n",
    "\"\"\""
   ]
  },
  {
   "cell_type": "code",
   "execution_count": 25,
   "id": "05ddcd48-2550-4c98-9f9d-4bc09d857426",
   "metadata": {},
   "outputs": [
    {
     "data": {
      "text/plain": [
       "<function __main__._is_leap(year)>"
      ]
     },
     "execution_count": 25,
     "metadata": {},
     "output_type": "execute_result"
    },
    {
     "data": {
      "text/plain": [
       "True"
      ]
     },
     "execution_count": 25,
     "metadata": {},
     "output_type": "execute_result"
    },
    {
     "data": {
      "text/plain": [
       "4937352512"
      ]
     },
     "execution_count": 25,
     "metadata": {},
     "output_type": "execute_result"
    },
    {
     "data": {
      "text/plain": [
       "4937352512"
      ]
     },
     "execution_count": 25,
     "metadata": {},
     "output_type": "execute_result"
    },
    {
     "data": {
      "text/plain": [
       "function"
      ]
     },
     "execution_count": 25,
     "metadata": {},
     "output_type": "execute_result"
    },
    {
     "data": {
      "text/plain": [
       "function"
      ]
     },
     "execution_count": 25,
     "metadata": {},
     "output_type": "execute_result"
    }
   ],
   "source": [
    "from IPython.core.interactiveshell import InteractiveShell\n",
    "InteractiveShell.ast_node_interactivity = 'all'\n",
    "\n",
    "def _is_leap(year):\n",
    "    return year%4==0 and (year%100 != 0 or year%400==0)\n",
    "    \n",
    "year_leap_bool = _is_leap\n",
    "year_leap_bool\n",
    "\n",
    "year_leap_bool(396)\n",
    "\n",
    "id(year_leap_bool)          # id() 这个函数可以查询某对象的内存地址\n",
    "id(_is_leap)                # year_leap_bool 和 _is_leap 其实保存在同一个地址中，也就是说，它们是同一个对象。\n",
    "\n",
    "type(year_leap_bool)\n",
    "type(_is_leap)   "
   ]
  },
  {
   "cell_type": "code",
   "execution_count": 33,
   "id": "cd084049-b00b-4684-8404-365716cf0e8e",
   "metadata": {},
   "outputs": [
    {
     "data": {
      "text/plain": [
       "8"
      ]
     },
     "execution_count": 33,
     "metadata": {},
     "output_type": "execute_result"
    }
   ],
   "source": [
    "add = lambda x, y: x+y\n",
    "add(3, 5)\n",
    "\n",
    "# lambda_expr ::= \"lambda\" [parameter_list] \":\" expression"
   ]
  },
  {
   "cell_type": "code",
   "execution_count": 35,
   "id": "836cb647-25d1-4cb5-b026-878162975b85",
   "metadata": {},
   "outputs": [
    {
     "data": {
      "text/plain": [
       "<function __main__.make_increment.<locals>.<lambda>(x)>"
      ]
     },
     "execution_count": 35,
     "metadata": {},
     "output_type": "execute_result"
    },
    {
     "data": {
      "text/plain": [
       "4937364512"
      ]
     },
     "execution_count": 35,
     "metadata": {},
     "output_type": "execute_result"
    },
    {
     "data": {
      "text/plain": [
       "4937366432"
      ]
     },
     "execution_count": 35,
     "metadata": {},
     "output_type": "execute_result"
    },
    {
     "data": {
      "text/plain": [
       "42"
      ]
     },
     "execution_count": 35,
     "metadata": {},
     "output_type": "execute_result"
    },
    {
     "data": {
      "text/plain": [
       "47"
      ]
     },
     "execution_count": 35,
     "metadata": {},
     "output_type": "execute_result"
    }
   ],
   "source": [
    "def make_increment(n):\n",
    "    return lambda x: x+n\n",
    "\n",
    "f = make_increment(42)\n",
    "f\n",
    "id(make_increment)\n",
    "id(f)\n",
    "\n",
    "f(0)\n",
    "f(5)"
   ]
  },
  {
   "cell_type": "code",
   "execution_count": 40,
   "id": "086f5540-b287-4c98-a2f2-99bbfd5dd449",
   "metadata": {},
   "outputs": [
    {
     "data": {
      "text/plain": [
       "16"
      ]
     },
     "execution_count": 40,
     "metadata": {},
     "output_type": "execute_result"
    },
    {
     "data": {
      "text/plain": [
       "[2, 4, 6, 8, 10]"
      ]
     },
     "execution_count": 40,
     "metadata": {},
     "output_type": "execute_result"
    },
    {
     "data": {
      "text/plain": [
       "[2, 4, 6, 8, 10]"
      ]
     },
     "execution_count": 40,
     "metadata": {},
     "output_type": "execute_result"
    }
   ],
   "source": [
    "def double_it(n):\n",
    "    return(n*2)\n",
    "    \n",
    "double_it(8)\n",
    "\n",
    "a_list = [1, 2, 3, 4, 5]\n",
    "\n",
    "b_list = [double_it(x) for x in a_list]\n",
    "b_list\n",
    "\n",
    "c_list = list(map(lambda x: x*2, a_list))\n",
    "c_list"
   ]
  },
  {
   "cell_type": "code",
   "execution_count": 41,
   "id": "9d4903f9-0114-48d9-8286-6e2ee50f8d3c",
   "metadata": {},
   "outputs": [
    {
     "data": {
      "text/plain": [
       "[{'name': 'john', 'phone': 9876},\n",
       " {'name': 'mike', 'phone': 5603},\n",
       " {'name': 'stan', 'phone': 6898},\n",
       " {'name': 'eric', 'phone': 7898}]"
      ]
     },
     "execution_count": 41,
     "metadata": {},
     "output_type": "execute_result"
    },
    {
     "data": {
      "text/plain": [
       "['john', 'mike', 'stan', 'eric']"
      ]
     },
     "execution_count": 41,
     "metadata": {},
     "output_type": "execute_result"
    },
    {
     "data": {
      "text/plain": [
       "[9876, 5603, 6898, 7898]"
      ]
     },
     "execution_count": 41,
     "metadata": {},
     "output_type": "execute_result"
    }
   ],
   "source": [
    "phonebook = [\n",
    "    {\n",
    "        'name': 'john',\n",
    "        'phone': 9876\n",
    "    },\n",
    "    {\n",
    "        'name': 'mike',\n",
    "        'phone': 5603\n",
    "    },\n",
    "    {\n",
    "        'name': 'stan',\n",
    "        'phone': 6898\n",
    "    },\n",
    "    {\n",
    "        'name': 'eric',\n",
    "        'phone': 7898\n",
    "    }\n",
    "]\n",
    "\n",
    "phonebook\n",
    "list(map(lambda x: x['name'], phonebook))\n",
    "list(map(lambda x: x['phone'], phonebook))\n"
   ]
  },
  {
   "cell_type": "code",
   "execution_count": 42,
   "id": "0fa28b05-a684-4f92-93c9-06efd4b13d74",
   "metadata": {},
   "outputs": [
    {
     "data": {
      "text/plain": [
       "[4, 10, 18]"
      ]
     },
     "execution_count": 42,
     "metadata": {},
     "output_type": "execute_result"
    }
   ],
   "source": [
    "a_list = [1, 2, 3]\n",
    "b_list = [4, 5, 6]\n",
    "\n",
    "c_list = list(map(lambda x, y: x*y, a_list, b_list))\n",
    "c_list"
   ]
  },
  {
   "cell_type": "code",
   "execution_count": 43,
   "id": "b0476ba0-f3af-45be-9d80-e2b040f055be",
   "metadata": {},
   "outputs": [
    {
     "data": {
      "text/plain": [
       "[(4, 'four'), (1, 'one'), (3, 'three'), (2, 'two')]"
      ]
     },
     "execution_count": 43,
     "metadata": {},
     "output_type": "execute_result"
    }
   ],
   "source": [
    "pairs = [(1, 'one'), (2, 'two'), (3, 'three'), (4, 'four')]\n",
    "pairs.sort(key=lambda p: p[1])\n",
    "pairs"
   ]
  },
  {
   "cell_type": "code",
   "execution_count": 44,
   "id": "fc340545-59a0-4caf-9095-b1a52f5c2d50",
   "metadata": {},
   "outputs": [
    {
     "data": {
      "text/plain": [
       "3628800"
      ]
     },
     "execution_count": 44,
     "metadata": {},
     "output_type": "execute_result"
    }
   ],
   "source": [
    "### Recursion function\n",
    "def f(n):\n",
    "    if n==1:\n",
    "        return 1\n",
    "    else:\n",
    "        return n*f(n-1)\n",
    "f(10)       "
   ]
  },
  {
   "cell_type": "code",
   "execution_count": 47,
   "id": "25f61019-9883-47a8-845b-59970ec0df7f",
   "metadata": {},
   "outputs": [
    {
     "name": "stdout",
     "output_type": "stream",
     "text": [
      "\tn= 5\n",
      "\tn= 4\n",
      "\tn= 3\n",
      "\tn= 2\n",
      "\tn= 1\n",
      "Returning ...\n",
      "\tn= 1 return: 1\n",
      "\tn = 2 return: 2\n",
      "\tn = 3 return: 6\n",
      "\tn = 4 return: 24\n",
      "\tn = 5 return: 120\n"
     ]
    },
    {
     "data": {
      "text/plain": [
       "120"
      ]
     },
     "execution_count": 47,
     "metadata": {},
     "output_type": "execute_result"
    }
   ],
   "source": [
    "def f(n):\n",
    "    print('\\tn=', n)\n",
    "    if n == 1:\n",
    "        print('Returning ...')\n",
    "        print('\\tn=', n, 'return:', 1)\n",
    "        return 1\n",
    "    else:\n",
    "        r = n * f(n-1)\n",
    "        print('\\tn =', n, 'return:', r)\n",
    "        return r\n",
    "f(5)       "
   ]
  },
  {
   "cell_type": "code",
   "execution_count": 59,
   "id": "54fc1adc-be3f-4d96-ba82-81d7e20b749e",
   "metadata": {
    "scrolled": true
   },
   "outputs": [
    {
     "name": "stdout",
     "output_type": "stream",
     "text": [
      "\t\n",
      "山上有座庙，庙里有个和尚，和尚讲故事，他说…… \n",
      "\t\n",
      "山上有座庙，庙里有个和尚，和尚讲故事，他说…… \n",
      "\t\n",
      "山上有座庙，庙里有个和尚，和尚讲故事，他说…… \n",
      "\t\n",
      "山上有座庙，庙里有个和尚，和尚讲故事，他说…… \n",
      "\t\n",
      "山上有座庙，庙里有个和尚，和尚讲故事，他说…… \n",
      "\t\n",
      "山上有座庙，庙里有个和尚，和尚讲故事，他说…… \n",
      "\t\n",
      "山上有座庙，庙里有个和尚，和尚讲故事，他说…… \n",
      "\t\n",
      "山上有座庙，庙里有个和尚，和尚讲故事，他说…… \n",
      "\t\n",
      "山上有座庙，庙里有个和尚，和尚讲故事，他说…… \n",
      "\t\n",
      "山上有座庙，庙里有个和尚，和尚讲故事，他说…… \n",
      "\t\n",
      "山上有座庙，庙里有个和尚，和尚讲故事，他说…… \n",
      "\t\n",
      "山上有座庙，庙里有个和尚，和尚讲故事，他说…… \n",
      "\t\n",
      "山上有座庙，庙里有个和尚，和尚讲故事，他说…… \n",
      "\t\n",
      "山上有座庙，庙里有个和尚，和尚讲故事，他说…… \n",
      "\t\n",
      "山上有座庙，庙里有个和尚，和尚讲故事，他说…… \n",
      "\t\n",
      "山上有座庙，庙里有个和尚，和尚讲故事，他说…… \n",
      "\t\n",
      "山上有座庙，庙里有个和尚，和尚讲故事，他说…… \n",
      "\t\n",
      "山上有座庙，庙里有个和尚，和尚讲故事，他说…… \n",
      "\t\n",
      "山上有座庙，庙里有个和尚，和尚讲故事，他说…… \n",
      "\t\n",
      "山上有座庙，庙里有个和尚，和尚讲故事，他说…… \n",
      "\t\n",
      "山上有座庙，庙里有个和尚，和尚讲故事，他说…… \n",
      "\t\n",
      "山上有座庙，庙里有个和尚，和尚讲故事，他说…… \n",
      "\t\n",
      "山上有座庙，庙里有个和尚，和尚讲故事，他说…… \n",
      "\t\n",
      "山上有座庙，庙里有个和尚，和尚讲故事，他说…… \n",
      "\t\n",
      "山上有座庙，庙里有个和尚，和尚讲故事，他说…… \n",
      "\t\n",
      "山上有座庙，庙里有个和尚，和尚讲故事，他说…… \n",
      "\t\n",
      "山上有座庙，庙里有个和尚，和尚讲故事，他说…… \n",
      "\t\n",
      "山上有座庙，庙里有个和尚，和尚讲故事，他说…… \n",
      "\t\n",
      "山上有座庙，庙里有个和尚，和尚讲故事，他说…… \n",
      "\t\n",
      "山上有座庙，庙里有个和尚，和尚讲故事，他说…… \n",
      "\t\n",
      "山上有座庙，庙里有个和尚，和尚讲故事，他说…… \n",
      "\t\n",
      "山上有座庙，庙里有个和尚，和尚讲故事，他说…… \n",
      "\t\n",
      "山上有座庙，庙里有个和尚，和尚讲故事，他说…… \n",
      "\t\n",
      "山上有座庙，庙里有个和尚，和尚讲故事，他说…… \n",
      "\t\n",
      "山上有座庙，庙里有个和尚，和尚讲故事，他说…… \n",
      "\t\n",
      "山上有座庙，庙里有个和尚，和尚讲故事，他说…… \n",
      "\t\n",
      "山上有座庙，庙里有个和尚，和尚讲故事，他说…… \n",
      "\t\n",
      "山上有座庙，庙里有个和尚，和尚讲故事，他说…… \n",
      "\t\n",
      "山上有座庙，庙里有个和尚，和尚讲故事，他说…… \n",
      "\t\n",
      "山上有座庙，庙里有个和尚，和尚讲故事，他说…… \n",
      "\t\n",
      "山上有座庙，庙里有个和尚，和尚讲故事，他说…… \n",
      "\t\n",
      "山上有座庙，庙里有个和尚，和尚讲故事，他说…… \n",
      "\t\n",
      "山上有座庙，庙里有个和尚，和尚讲故事，他说…… \n",
      "\t\n",
      "山上有座庙，庙里有个和尚，和尚讲故事，他说…… \n",
      "\t\n",
      "山上有座庙，庙里有个和尚，和尚讲故事，他说…… \n",
      "\t\n",
      "山上有座庙，庙里有个和尚，和尚讲故事，他说…… \n",
      "\t\n",
      "山上有座庙，庙里有个和尚，和尚讲故事，他说…… \n",
      "\t\n",
      "山上有座庙，庙里有个和尚，和尚讲故事，他说…… \n",
      "\t\n",
      "山上有座庙，庙里有个和尚，和尚讲故事，他说…… \n",
      "\t\n",
      "山上有座庙，庙里有个和尚，和尚讲故事，他说…… \n",
      "\t\n",
      "山上有座庙，庙里有个和尚，和尚讲故事，他说…… \n",
      "\t\n",
      "山上有座庙，庙里有个和尚，和尚讲故事，他说…… \n",
      "\t\n",
      "山上有座庙，庙里有个和尚，和尚讲故事，他说…… \n",
      "\t\n",
      "山上有座庙，庙里有个和尚，和尚讲故事，他说…… \n",
      "\t\n",
      "山上有座庙，庙里有个和尚，和尚讲故事，他说…… \n",
      "\t\n",
      "山上有座庙，庙里有个和尚，和尚讲故事，他说…… \n",
      "\t\n",
      "山上有座庙，庙里有个和尚，和尚讲故事，他说…… \n",
      "\t\n",
      "山上有座庙，庙里有个和尚，和尚讲故事，他说…… \n",
      "\t\n",
      "山上有座庙，庙里有个和尚，和尚讲故事，他说…… \n",
      "\t\n",
      "山上有座庙，庙里有个和尚，和尚讲故事，他说…… \n",
      "\t\n",
      "山上有座庙，庙里有个和尚，和尚讲故事，他说…… \n",
      "\t\n",
      "山上有座庙，庙里有个和尚，和尚讲故事，他说…… \n",
      "\t\n",
      "山上有座庙，庙里有个和尚，和尚讲故事，他说…… \n",
      "\t\n",
      "山上有座庙，庙里有个和尚，和尚讲故事，他说…… \n",
      "\t\n",
      "山上有座庙，庙里有个和尚，和尚讲故事，他说…… \n",
      "\t\n",
      "山上有座庙，庙里有个和尚，和尚讲故事，他说…… \n",
      "\t\n",
      "山上有座庙，庙里有个和尚，和尚讲故事，他说…… \n",
      "\t\n",
      "山上有座庙，庙里有个和尚，和尚讲故事，他说…… \n",
      "\t\n",
      "山上有座庙，庙里有个和尚，和尚讲故事，他说…… \n",
      "\t\n",
      "山上有座庙，庙里有个和尚，和尚讲故事，他说…… \n",
      "\t\n",
      "山上有座庙，庙里有个和尚，和尚讲故事，他说…… \n",
      "\t\n",
      "山上有座庙，庙里有个和尚，和尚讲故事，他说…… \n",
      "\t\n",
      "山上有座庙，庙里有个和尚，和尚讲故事，他说…… \n",
      "\t\n",
      "山上有座庙，庙里有个和尚，和尚讲故事，他说…… \n",
      "\t\n",
      "山上有座庙，庙里有个和尚，和尚讲故事，他说…… \n",
      "\t\n",
      "山上有座庙，庙里有个和尚，和尚讲故事，他说…… \n",
      "\t\n",
      "山上有座庙，庙里有个和尚，和尚讲故事，他说…… \n",
      "\t\n",
      "山上有座庙，庙里有个和尚，和尚讲故事，他说…… \n",
      "\t\n",
      "山上有座庙，庙里有个和尚，和尚讲故事，他说…… \n",
      "\t\n",
      "山上有座庙，庙里有个和尚，和尚讲故事，他说…… \n",
      "\t\n",
      "山上有座庙，庙里有个和尚，和尚讲故事，他说…… \n",
      "\t\n",
      "山上有座庙，庙里有个和尚，和尚讲故事，他说…… \n",
      "\t\n",
      "山上有座庙，庙里有个和尚，和尚讲故事，他说…… \n",
      "\t\n",
      "山上有座庙，庙里有个和尚，和尚讲故事，他说…… \n",
      "\t\n",
      "山上有座庙，庙里有个和尚，和尚讲故事，他说…… \n",
      "\t\n",
      "山上有座庙，庙里有个和尚，和尚讲故事，他说…… \n",
      "\t\n",
      "山上有座庙，庙里有个和尚，和尚讲故事，他说…… \n",
      "\t\n",
      "山上有座庙，庙里有个和尚，和尚讲故事，他说…… \n",
      "\t\n",
      "山上有座庙，庙里有个和尚，和尚讲故事，他说…… \n",
      "\t\n",
      "山上有座庙，庙里有个和尚，和尚讲故事，他说…… \n",
      "\t\n",
      "山上有座庙，庙里有个和尚，和尚讲故事，他说…… \n",
      "\t\n",
      "山上有座庙，庙里有个和尚，和尚讲故事，他说…… \n",
      "\t\n",
      "山上有座庙，庙里有个和尚，和尚讲故事，他说…… \n",
      "\t\n",
      "山上有座庙，庙里有个和尚，和尚讲故事，他说…… \n",
      "\t\n",
      "山上有座庙，庙里有个和尚，和尚讲故事，他说…… \n",
      "\t\n",
      "山上有座庙，庙里有个和尚，和尚讲故事，他说…… \n",
      "\t\n",
      "山上有座庙，庙里有个和尚，和尚讲故事，他说…… \n",
      "\t\n",
      "山上有座庙，庙里有个和尚，和尚讲故事，他说…… \n",
      "\t\n",
      "山上有座庙，庙里有个和尚，和尚讲故事，他说…… \n",
      "\t\n",
      "山上有座庙，庙里有个和尚，和尚讲故事，他说…… \n",
      "\t\n",
      "山上有座庙，庙里有个和尚，和尚讲故事，他说…… \n",
      "\t\n",
      "山上有座庙，庙里有个和尚，和尚讲故事，他说…… \n",
      "\t\n",
      "山上有座庙，庙里有个和尚，和尚讲故事，他说…… \n",
      "\t\n",
      "山上有座庙，庙里有个和尚，和尚讲故事，他说…… \n",
      "\t\n",
      "山上有座庙，庙里有个和尚，和尚讲故事，他说…… \n",
      "\t\n",
      "山上有座庙，庙里有个和尚，和尚讲故事，他说…… \n",
      "\t\n",
      "山上有座庙，庙里有个和尚，和尚讲故事，他说…… \n",
      "\t\n",
      "山上有座庙，庙里有个和尚，和尚讲故事，他说…… \n",
      "\t\n",
      "山上有座庙，庙里有个和尚，和尚讲故事，他说…… \n",
      "\t\n",
      "山上有座庙，庙里有个和尚，和尚讲故事，他说…… \n",
      "\t\n",
      "山上有座庙，庙里有个和尚，和尚讲故事，他说…… \n",
      "\t\n",
      "山上有座庙，庙里有个和尚，和尚讲故事，他说…… \n",
      "\t\n",
      "山上有座庙，庙里有个和尚，和尚讲故事，他说…… \n",
      "\t\n",
      "山上有座庙，庙里有个和尚，和尚讲故事，他说…… \n",
      "\t\n",
      "山上有座庙，庙里有个和尚，和尚讲故事，他说…… \n",
      "\t\n",
      "山上有座庙，庙里有个和尚，和尚讲故事，他说…… \n",
      "\t\n",
      "山上有座庙，庙里有个和尚，和尚讲故事，他说…… \n",
      "\t\n",
      "山上有座庙，庙里有个和尚，和尚讲故事，他说…… \n",
      "\t\n",
      "山上有座庙，庙里有个和尚，和尚讲故事，他说…… \n",
      "\t\n",
      "山上有座庙，庙里有个和尚，和尚讲故事，他说…… \n",
      "\t\n",
      "山上有座庙，庙里有个和尚，和尚讲故事，他说…… \n",
      "\t\n",
      "山上有座庙，庙里有个和尚，和尚讲故事，他说…… \n",
      "\t\n",
      "山上有座庙，庙里有个和尚，和尚讲故事，他说…… \n",
      "\t\n",
      "山上有座庙，庙里有个和尚，和尚讲故事，他说…… \n",
      "\t\n",
      "山上有座庙，庙里有个和尚，和尚讲故事，他说…… \n",
      "\t\n",
      "山上有座庙，庙里有个和尚，和尚讲故事，他说…… \n",
      "\t\n",
      "山上有座庙，庙里有个和尚，和尚讲故事，他说…… \n",
      "\t\n",
      "山上有座庙，庙里有个和尚，和尚讲故事，他说…… \n",
      "\t\n",
      "山上有座庙，庙里有个和尚，和尚讲故事，他说…… \n",
      "\t\n",
      "山上有座庙，庙里有个和尚，和尚讲故事，他说…… \n",
      "\t\n",
      "山上有座庙，庙里有个和尚，和尚讲故事，他说…… \n",
      "\t\n",
      "山上有座庙，庙里有个和尚，和尚讲故事，他说…… \n",
      "\t\n",
      "山上有座庙，庙里有个和尚，和尚讲故事，他说…… \n",
      "\t\n",
      "山上有座庙，庙里有个和尚，和尚讲故事，他说…… \n",
      "\t\n",
      "山上有座庙，庙里有个和尚，和尚讲故事，他说…… \n",
      "\t\n",
      "山上有座庙，庙里有个和尚，和尚讲故事，他说…… \n",
      "\t\n",
      "山上有座庙，庙里有个和尚，和尚讲故事，他说…… \n",
      "\t\n",
      "山上有座庙，庙里有个和尚，和尚讲故事，他说…… \n",
      "\t\n",
      "山上有座庙，庙里有个和尚，和尚讲故事，他说…… \n",
      "\t\n",
      "山上有座庙，庙里有个和尚，和尚讲故事，他说…… \n",
      "\t\n",
      "山上有座庙，庙里有个和尚，和尚讲故事，他说…… \n",
      "\t\n",
      "山上有座庙，庙里有个和尚，和尚讲故事，他说…… \n",
      "\t\n",
      "山上有座庙，庙里有个和尚，和尚讲故事，他说…… \n",
      "\t\n",
      "山上有座庙，庙里有个和尚，和尚讲故事，他说…… \n",
      "\t\n",
      "山上有座庙，庙里有个和尚，和尚讲故事，他说…… \n",
      "\t\n",
      "山上有座庙，庙里有个和尚，和尚讲故事，他说…… \n",
      "\t\n",
      "山上有座庙，庙里有个和尚，和尚讲故事，他说…… \n",
      "\t\n",
      "山上有座庙，庙里有个和尚，和尚讲故事，他说…… \n",
      "\t\n",
      "山上有座庙，庙里有个和尚，和尚讲故事，他说…… \n",
      "\t\n",
      "山上有座庙，庙里有个和尚，和尚讲故事，他说…… \n",
      "\t\n",
      "山上有座庙，庙里有个和尚，和尚讲故事，他说…… \n",
      "\t\n",
      "山上有座庙，庙里有个和尚，和尚讲故事，他说…… \n",
      "\t\n",
      "山上有座庙，庙里有个和尚，和尚讲故事，他说…… \n",
      "\t\n",
      "山上有座庙，庙里有个和尚，和尚讲故事，他说…… \n",
      "\t\n",
      "山上有座庙，庙里有个和尚，和尚讲故事，他说…… \n",
      "\t\n",
      "山上有座庙，庙里有个和尚，和尚讲故事，他说…… \n",
      "\t\n",
      "山上有座庙，庙里有个和尚，和尚讲故事，他说…… \n",
      "\t\n",
      "山上有座庙，庙里有个和尚，和尚讲故事，他说…… \n",
      "\t\n",
      "山上有座庙，庙里有个和尚，和尚讲故事，他说…… \n",
      "\t\n",
      "山上有座庙，庙里有个和尚，和尚讲故事，他说…… \n",
      "\t\n",
      "山上有座庙，庙里有个和尚，和尚讲故事，他说…… \n",
      "\t\n",
      "山上有座庙，庙里有个和尚，和尚讲故事，他说…… \n",
      "\t\n",
      "山上有座庙，庙里有个和尚，和尚讲故事，他说…… \n",
      "\t\n",
      "山上有座庙，庙里有个和尚，和尚讲故事，他说…… \n",
      "\t\n",
      "山上有座庙，庙里有个和尚，和尚讲故事，他说…… \n",
      "\t\n",
      "山上有座庙，庙里有个和尚，和尚讲故事，他说…… \n",
      "\t\n",
      "山上有座庙，庙里有个和尚，和尚讲故事，他说…… \n",
      "\t\n",
      "山上有座庙，庙里有个和尚，和尚讲故事，他说…… \n",
      "\t\n",
      "山上有座庙，庙里有个和尚，和尚讲故事，他说…… \n",
      "\t\n",
      "山上有座庙，庙里有个和尚，和尚讲故事，他说…… \n",
      "\t\n",
      "山上有座庙，庙里有个和尚，和尚讲故事，他说…… \n",
      "\t\n",
      "山上有座庙，庙里有个和尚，和尚讲故事，他说…… \n",
      "\t\n",
      "山上有座庙，庙里有个和尚，和尚讲故事，他说…… \n",
      "\t\n",
      "山上有座庙，庙里有个和尚，和尚讲故事，他说…… \n",
      "\t\n",
      "山上有座庙，庙里有个和尚，和尚讲故事，他说…… \n",
      "\t\n",
      "山上有座庙，庙里有个和尚，和尚讲故事，他说…… \n",
      "\t\n",
      "山上有座庙，庙里有个和尚，和尚讲故事，他说…… \n",
      "\t\n",
      "山上有座庙，庙里有个和尚，和尚讲故事，他说…… \n",
      "\t\n",
      "山上有座庙，庙里有个和尚，和尚讲故事，他说…… \n",
      "\t\n",
      "山上有座庙，庙里有个和尚，和尚讲故事，他说…… \n",
      "\t\n",
      "山上有座庙，庙里有个和尚，和尚讲故事，他说…… \n",
      "\t\n",
      "山上有座庙，庙里有个和尚，和尚讲故事，他说…… \n",
      "\t\n",
      "山上有座庙，庙里有个和尚，和尚讲故事，他说…… \n",
      "\t\n",
      "山上有座庙，庙里有个和尚，和尚讲故事，他说…… \n",
      "\t\n",
      "山上有座庙，庙里有个和尚，和尚讲故事，他说…… \n",
      "\t\n",
      "山上有座庙，庙里有个和尚，和尚讲故事，他说…… \n",
      "\t\n",
      "山上有座庙，庙里有个和尚，和尚讲故事，他说…… \n",
      "\t\n",
      "山上有座庙，庙里有个和尚，和尚讲故事，他说…… \n",
      "\t\n",
      "山上有座庙，庙里有个和尚，和尚讲故事，他说…… \n",
      "\t\n",
      "山上有座庙，庙里有个和尚，和尚讲故事，他说…… \n",
      "\t\n",
      "山上有座庙，庙里有个和尚，和尚讲故事，他说…… \n",
      "\t\n",
      "山上有座庙，庙里有个和尚，和尚讲故事，他说…… \n",
      "\t\n",
      "山上有座庙，庙里有个和尚，和尚讲故事，他说…… \n",
      "\t\n",
      "山上有座庙，庙里有个和尚，和尚讲故事，他说…… \n",
      "\t\n",
      "山上有座庙，庙里有个和尚，和尚讲故事，他说…… \n",
      "\t\n",
      "山上有座庙，庙里有个和尚，和尚讲故事，他说…… \n",
      "\t\n",
      "山上有座庙，庙里有个和尚，和尚讲故事，他说…… \n",
      "\t\n",
      "山上有座庙，庙里有个和尚，和尚讲故事，他说…… \n",
      "\t\n",
      "山上有座庙，庙里有个和尚，和尚讲故事，他说…… \n",
      "\t\n",
      "山上有座庙，庙里有个和尚，和尚讲故事，他说…… \n",
      "\t\n",
      "山上有座庙，庙里有个和尚，和尚讲故事，他说…… \n",
      "\t\n",
      "山上有座庙，庙里有个和尚，和尚讲故事，他说…… \n",
      "\t\n",
      "山上有座庙，庙里有个和尚，和尚讲故事，他说…… \n",
      "\t\n",
      "山上有座庙，庙里有个和尚，和尚讲故事，他说…… \n",
      "\t\n",
      "山上有座庙，庙里有个和尚，和尚讲故事，他说…… \n",
      "\t\n",
      "山上有座庙，庙里有个和尚，和尚讲故事，他说…… \n",
      "\t\n",
      "山上有座庙，庙里有个和尚，和尚讲故事，他说…… \n",
      "\t\n",
      "山上有座庙，庙里有个和尚，和尚讲故事，他说…… \n",
      "\t\n",
      "山上有座庙，庙里有个和尚，和尚讲故事，他说…… \n",
      "\t\n",
      "山上有座庙，庙里有个和尚，和尚讲故事，他说…… \n",
      "\t\n",
      "山上有座庙，庙里有个和尚，和尚讲故事，他说…… \n",
      "\t\n",
      "山上有座庙，庙里有个和尚，和尚讲故事，他说…… \n",
      "\t\n",
      "山上有座庙，庙里有个和尚，和尚讲故事，他说…… \n",
      "\t\n",
      "山上有座庙，庙里有个和尚，和尚讲故事，他说…… \n",
      "\t\n",
      "山上有座庙，庙里有个和尚，和尚讲故事，他说…… \n",
      "\t\n",
      "山上有座庙，庙里有个和尚，和尚讲故事，他说…… \n",
      "\t\n",
      "山上有座庙，庙里有个和尚，和尚讲故事，他说…… \n",
      "\t\n",
      "山上有座庙，庙里有个和尚，和尚讲故事，他说…… \n",
      "\t\n",
      "山上有座庙，庙里有个和尚，和尚讲故事，他说…… \n",
      "\t\n",
      "山上有座庙，庙里有个和尚，和尚讲故事，他说…… \n",
      "\t\n",
      "山上有座庙，庙里有个和尚，和尚讲故事，他说…… \n",
      "\t\n",
      "山上有座庙，庙里有个和尚，和尚讲故事，他说…… \n",
      "\t\n",
      "山上有座庙，庙里有个和尚，和尚讲故事，他说…… \n",
      "\t\n",
      "山上有座庙，庙里有个和尚，和尚讲故事，他说…… \n",
      "\t\n",
      "山上有座庙，庙里有个和尚，和尚讲故事，他说…… \n",
      "\t\n",
      "山上有座庙，庙里有个和尚，和尚讲故事，他说…… \n",
      "\t\n",
      "山上有座庙，庙里有个和尚，和尚讲故事，他说…… \n",
      "\t\n",
      "山上有座庙，庙里有个和尚，和尚讲故事，他说…… \n",
      "\t\n",
      "山上有座庙，庙里有个和尚，和尚讲故事，他说…… \n",
      "\t\n",
      "山上有座庙，庙里有个和尚，和尚讲故事，他说…… \n",
      "\t\n",
      "山上有座庙，庙里有个和尚，和尚讲故事，他说…… \n",
      "\t\n",
      "山上有座庙，庙里有个和尚，和尚讲故事，他说…… \n",
      "\t\n",
      "山上有座庙，庙里有个和尚，和尚讲故事，他说…… \n",
      "\t\n",
      "山上有座庙，庙里有个和尚，和尚讲故事，他说…… \n",
      "\t\n",
      "山上有座庙，庙里有个和尚，和尚讲故事，他说…… \n",
      "\t\n",
      "山上有座庙，庙里有个和尚，和尚讲故事，他说…… \n",
      "\t\n",
      "山上有座庙，庙里有个和尚，和尚讲故事，他说…… \n",
      "\t\n",
      "山上有座庙，庙里有个和尚，和尚讲故事，他说…… \n",
      "\t\n",
      "山上有座庙，庙里有个和尚，和尚讲故事，他说…… \n",
      "\t\n",
      "山上有座庙，庙里有个和尚，和尚讲故事，他说…… \n",
      "\t\n",
      "山上有座庙，庙里有个和尚，和尚讲故事，他说…… \n",
      "\t\n",
      "山上有座庙，庙里有个和尚，和尚讲故事，他说…… \n",
      "\t\n",
      "山上有座庙，庙里有个和尚，和尚讲故事，他说…… \n",
      "\t\n",
      "山上有座庙，庙里有个和尚，和尚讲故事，他说…… \n",
      "\t\n",
      "山上有座庙，庙里有个和尚，和尚讲故事，他说…… \n",
      "\t\n",
      "山上有座庙，庙里有个和尚，和尚讲故事，他说…… \n",
      "\t\n",
      "山上有座庙，庙里有个和尚，和尚讲故事，他说…… \n",
      "\t\n",
      "山上有座庙，庙里有个和尚，和尚讲故事，他说…… \n",
      "\t\n",
      "山上有座庙，庙里有个和尚，和尚讲故事，他说…… \n",
      "\t\n",
      "山上有座庙，庙里有个和尚，和尚讲故事，他说…… \n",
      "\t\n",
      "山上有座庙，庙里有个和尚，和尚讲故事，他说…… \n",
      "\t\n",
      "山上有座庙，庙里有个和尚，和尚讲故事，他说…… \n",
      "\t\n",
      "山上有座庙，庙里有个和尚，和尚讲故事，他说…… \n",
      "\t\n",
      "山上有座庙，庙里有个和尚，和尚讲故事，他说…… \n",
      "\t\n",
      "山上有座庙，庙里有个和尚，和尚讲故事，他说…… \n",
      "\t\n",
      "山上有座庙，庙里有个和尚，和尚讲故事，他说…… \n",
      "\t\n",
      "山上有座庙，庙里有个和尚，和尚讲故事，他说…… \n",
      "\t\n",
      "山上有座庙，庙里有个和尚，和尚讲故事，他说…… \n",
      "\t\n",
      "山上有座庙，庙里有个和尚，和尚讲故事，他说…… \n",
      "\t\n",
      "山上有座庙，庙里有个和尚，和尚讲故事，他说…… \n",
      "\t\n",
      "山上有座庙，庙里有个和尚，和尚讲故事，他说…… \n",
      "\t\n",
      "山上有座庙，庙里有个和尚，和尚讲故事，他说…… \n",
      "\t\n",
      "山上有座庙，庙里有个和尚，和尚讲故事，他说…… \n",
      "\t\n",
      "山上有座庙，庙里有个和尚，和尚讲故事，他说…… \n",
      "\t\n",
      "山上有座庙，庙里有个和尚，和尚讲故事，他说…… \n",
      "\t\n",
      "山上有座庙，庙里有个和尚，和尚讲故事，他说…… \n",
      "\t\n",
      "山上有座庙，庙里有个和尚，和尚讲故事，他说…… \n",
      "\t\n",
      "山上有座庙，庙里有个和尚，和尚讲故事，他说…… \n",
      "\t\n",
      "山上有座庙，庙里有个和尚，和尚讲故事，他说…… \n",
      "\t\n",
      "山上有座庙，庙里有个和尚，和尚讲故事，他说…… \n",
      "\t\n",
      "山上有座庙，庙里有个和尚，和尚讲故事，他说…… \n",
      "\t\n",
      "山上有座庙，庙里有个和尚，和尚讲故事，他说…… \n",
      "\t\n",
      "山上有座庙，庙里有个和尚，和尚讲故事，他说…… \n",
      "\t\n",
      "山上有座庙，庙里有个和尚，和尚讲故事，他说…… \n",
      "\t\n",
      "山上有座庙，庙里有个和尚，和尚讲故事，他说…… \n",
      "\t\n",
      "山上有座庙，庙里有个和尚，和尚讲故事，他说…… \n",
      "\t\n",
      "山上有座庙，庙里有个和尚，和尚讲故事，他说…… \n",
      "\t\n",
      "山上有座庙，庙里有个和尚，和尚讲故事，他说…… \n",
      "\t\n",
      "山上有座庙，庙里有个和尚，和尚讲故事，他说…… \n",
      "\t\n",
      "山上有座庙，庙里有个和尚，和尚讲故事，他说…… \n",
      "\t\n",
      "山上有座庙，庙里有个和尚，和尚讲故事，他说…… \n",
      "\t\n",
      "山上有座庙，庙里有个和尚，和尚讲故事，他说…… \n",
      "\t\n",
      "山上有座庙，庙里有个和尚，和尚讲故事，他说…… \n",
      "\t\n",
      "山上有座庙，庙里有个和尚，和尚讲故事，他说…… \n",
      "\t\n",
      "山上有座庙，庙里有个和尚，和尚讲故事，他说…… \n",
      "\t\n",
      "山上有座庙，庙里有个和尚，和尚讲故事，他说…… \n",
      "\t\n",
      "山上有座庙，庙里有个和尚，和尚讲故事，他说…… \n",
      "\t\n",
      "山上有座庙，庙里有个和尚，和尚讲故事，他说…… \n",
      "\t\n",
      "山上有座庙，庙里有个和尚，和尚讲故事，他说…… \n",
      "\t\n",
      "山上有座庙，庙里有个和尚，和尚讲故事，他说…… \n",
      "\t\n",
      "山上有座庙，庙里有个和尚，和尚讲故事，他说…… \n",
      "\t\n",
      "山上有座庙，庙里有个和尚，和尚讲故事，他说…… \n",
      "\t\n",
      "山上有座庙，庙里有个和尚，和尚讲故事，他说…… \n",
      "\t\n",
      "山上有座庙，庙里有个和尚，和尚讲故事，他说…… \n",
      "\t\n",
      "山上有座庙，庙里有个和尚，和尚讲故事，他说…… \n",
      "\t\n",
      "山上有座庙，庙里有个和尚，和尚讲故事，他说…… \n",
      "\t\n",
      "山上有座庙，庙里有个和尚，和尚讲故事，他说…… \n",
      "\t\n",
      "山上有座庙，庙里有个和尚，和尚讲故事，他说…… \n",
      "\t\n",
      "山上有座庙，庙里有个和尚，和尚讲故事，他说…… \n",
      "\t\n",
      "山上有座庙，庙里有个和尚，和尚讲故事，他说…… \n",
      "\t\n",
      "山上有座庙，庙里有个和尚，和尚讲故事，他说…… \n",
      "\t\n",
      "山上有座庙，庙里有个和尚，和尚讲故事，他说…… \n",
      "\t\n",
      "山上有座庙，庙里有个和尚，和尚讲故事，他说…… \n",
      "\t\n",
      "山上有座庙，庙里有个和尚，和尚讲故事，他说…… \n",
      "\t\n",
      "山上有座庙，庙里有个和尚，和尚讲故事，他说…… \n",
      "\t\n",
      "山上有座庙，庙里有个和尚，和尚讲故事，他说…… \n",
      "\t\n",
      "山上有座庙，庙里有个和尚，和尚讲故事，他说…… \n",
      "\t\n",
      "山上有座庙，庙里有个和尚，和尚讲故事，他说…… \n",
      "\t\n",
      "山上有座庙，庙里有个和尚，和尚讲故事，他说…… \n",
      "\t\n",
      "山上有座庙，庙里有个和尚，和尚讲故事，他说…… \n",
      "\t\n",
      "山上有座庙，庙里有个和尚，和尚讲故事，他说…… \n",
      "\t\n",
      "山上有座庙，庙里有个和尚，和尚讲故事，他说…… \n",
      "\t\n",
      "山上有座庙，庙里有个和尚，和尚讲故事，他说…… \n",
      "\t\n",
      "山上有座庙，庙里有个和尚，和尚讲故事，他说…… \n",
      "\t\n",
      "山上有座庙，庙里有个和尚，和尚讲故事，他说…… \n",
      "\t\n",
      "山上有座庙，庙里有个和尚，和尚讲故事，他说…… \n",
      "\t\n",
      "山上有座庙，庙里有个和尚，和尚讲故事，他说…… \n",
      "\t\n",
      "山上有座庙，庙里有个和尚，和尚讲故事，他说…… \n",
      "\t\n",
      "山上有座庙，庙里有个和尚，和尚讲故事，他说…… \n",
      "\t\n",
      "山上有座庙，庙里有个和尚，和尚讲故事，他说…… \n",
      "\t\n",
      "山上有座庙，庙里有个和尚，和尚讲故事，他说…… \n",
      "\t\n",
      "山上有座庙，庙里有个和尚，和尚讲故事，他说…… \n",
      "\t\n",
      "山上有座庙，庙里有个和尚，和尚讲故事，他说…… \n",
      "\t\n",
      "山上有座庙，庙里有个和尚，和尚讲故事，他说…… \n",
      "\t\n",
      "山上有座庙，庙里有个和尚，和尚讲故事，他说…… \n",
      "\t\n",
      "山上有座庙，庙里有个和尚，和尚讲故事，他说…… \n",
      "\t\n",
      "山上有座庙，庙里有个和尚，和尚讲故事，他说…… \n",
      "\t\n",
      "山上有座庙，庙里有个和尚，和尚讲故事，他说…… \n",
      "\t\n",
      "山上有座庙，庙里有个和尚，和尚讲故事，他说…… \n",
      "\t\n",
      "山上有座庙，庙里有个和尚，和尚讲故事，他说…… \n",
      "\t\n",
      "山上有座庙，庙里有个和尚，和尚讲故事，他说…… \n",
      "\t\n",
      "山上有座庙，庙里有个和尚，和尚讲故事，他说…… \n",
      "\t\n",
      "山上有座庙，庙里有个和尚，和尚讲故事，他说…… \n",
      "\t\n",
      "山上有座庙，庙里有个和尚，和尚讲故事，他说…… \n",
      "\t\n",
      "山上有座庙，庙里有个和尚，和尚讲故事，他说…… \n",
      "\t\n",
      "山上有座庙，庙里有个和尚，和尚讲故事，他说…… \n",
      "\t\n",
      "山上有座庙，庙里有个和尚，和尚讲故事，他说…… \n",
      "\t\n",
      "山上有座庙，庙里有个和尚，和尚讲故事，他说…… \n",
      "\t\n",
      "山上有座庙，庙里有个和尚，和尚讲故事，他说…… \n",
      "\t\n",
      "山上有座庙，庙里有个和尚，和尚讲故事，他说…… \n",
      "\t\n",
      "山上有座庙，庙里有个和尚，和尚讲故事，他说…… \n",
      "\t\n",
      "山上有座庙，庙里有个和尚，和尚讲故事，他说…… \n",
      "\t\n",
      "山上有座庙，庙里有个和尚，和尚讲故事，他说…… \n",
      "\t\n",
      "山上有座庙，庙里有个和尚，和尚讲故事，他说…… \n",
      "\t\n",
      "山上有座庙，庙里有个和尚，和尚讲故事，他说…… \n",
      "\t\n",
      "山上有座庙，庙里有个和尚，和尚讲故事，他说…… \n",
      "\t\n",
      "山上有座庙，庙里有个和尚，和尚讲故事，他说…… \n",
      "\t\n",
      "山上有座庙，庙里有个和尚，和尚讲故事，他说…… \n",
      "\t\n",
      "山上有座庙，庙里有个和尚，和尚讲故事，他说…… \n",
      "\t\n",
      "山上有座庙，庙里有个和尚，和尚讲故事，他说…… \n",
      "\t\n",
      "山上有座庙，庙里有个和尚，和尚讲故事，他说…… \n",
      "\t\n",
      "山上有座庙，庙里有个和尚，和尚讲故事，他说…… \n",
      "\t\n",
      "山上有座庙，庙里有个和尚，和尚讲故事，他说…… \n",
      "\t\n",
      "山上有座庙，庙里有个和尚，和尚讲故事，他说…… \n",
      "\t\n",
      "山上有座庙，庙里有个和尚，和尚讲故事，他说…… \n",
      "\t\n",
      "山上有座庙，庙里有个和尚，和尚讲故事，他说…… \n",
      "\t\n",
      "山上有座庙，庙里有个和尚，和尚讲故事，他说…… \n",
      "\t\n",
      "山上有座庙，庙里有个和尚，和尚讲故事，他说…… \n",
      "\t\n",
      "山上有座庙，庙里有个和尚，和尚讲故事，他说…… \n",
      "\t\n",
      "山上有座庙，庙里有个和尚，和尚讲故事，他说…… \n",
      "\t\n",
      "山上有座庙，庙里有个和尚，和尚讲故事，他说…… \n",
      "\t\n",
      "山上有座庙，庙里有个和尚，和尚讲故事，他说…… \n",
      "\t\n",
      "山上有座庙，庙里有个和尚，和尚讲故事，他说…… \n",
      "\t\n",
      "山上有座庙，庙里有个和尚，和尚讲故事，他说…… \n",
      "\t\n",
      "山上有座庙，庙里有个和尚，和尚讲故事，他说…… \n",
      "\t\n",
      "山上有座庙，庙里有个和尚，和尚讲故事，他说…… \n",
      "\t\n",
      "山上有座庙，庙里有个和尚，和尚讲故事，他说…… \n",
      "\t\n",
      "山上有座庙，庙里有个和尚，和尚讲故事，他说…… \n",
      "\t\n",
      "山上有座庙，庙里有个和尚，和尚讲故事，他说…… \n",
      "\t\n",
      "山上有座庙，庙里有个和尚，和尚讲故事，他说…… \n",
      "\t\n",
      "山上有座庙，庙里有个和尚，和尚讲故事，他说…… \n",
      "\t\n",
      "山上有座庙，庙里有个和尚，和尚讲故事，他说…… \n",
      "\t\n",
      "山上有座庙，庙里有个和尚，和尚讲故事，他说…… \n",
      "\t\n",
      "山上有座庙，庙里有个和尚，和尚讲故事，他说…… \n",
      "\t\n",
      "山上有座庙，庙里有个和尚，和尚讲故事，他说…… \n",
      "\t\n",
      "山上有座庙，庙里有个和尚，和尚讲故事，他说…… \n",
      "\t\n",
      "山上有座庙，庙里有个和尚，和尚讲故事，他说…… \n",
      "\t\n",
      "山上有座庙，庙里有个和尚，和尚讲故事，他说…… \n",
      "\t\n",
      "山上有座庙，庙里有个和尚，和尚讲故事，他说…… \n",
      "\t\n",
      "山上有座庙，庙里有个和尚，和尚讲故事，他说…… \n",
      "\t\n",
      "山上有座庙，庙里有个和尚，和尚讲故事，他说…… \n",
      "\t\n",
      "山上有座庙，庙里有个和尚，和尚讲故事，他说…… \n",
      "\t\n",
      "山上有座庙，庙里有个和尚，和尚讲故事，他说…… \n",
      "\t\n",
      "山上有座庙，庙里有个和尚，和尚讲故事，他说…… \n",
      "\t\n",
      "山上有座庙，庙里有个和尚，和尚讲故事，他说…… \n",
      "\t\n",
      "山上有座庙，庙里有个和尚，和尚讲故事，他说…… \n",
      "\t\n",
      "山上有座庙，庙里有个和尚，和尚讲故事，他说…… \n",
      "\t\n",
      "山上有座庙，庙里有个和尚，和尚讲故事，他说…… \n",
      "\t\n",
      "山上有座庙，庙里有个和尚，和尚讲故事，他说…… \n",
      "\t\n",
      "山上有座庙，庙里有个和尚，和尚讲故事，他说…… \n",
      "\t\n",
      "山上有座庙，庙里有个和尚，和尚讲故事，他说…… \n",
      "\t\n",
      "山上有座庙，庙里有个和尚，和尚讲故事，他说…… \n",
      "\t\n",
      "山上有座庙，庙里有个和尚，和尚讲故事，他说…… \n",
      "\t\n",
      "山上有座庙，庙里有个和尚，和尚讲故事，他说…… \n",
      "\t\n",
      "山上有座庙，庙里有个和尚，和尚讲故事，他说…… \n",
      "\t\n",
      "山上有座庙，庙里有个和尚，和尚讲故事，他说…… \n",
      "\t\n",
      "山上有座庙，庙里有个和尚，和尚讲故事，他说…… \n",
      "\t\n",
      "山上有座庙，庙里有个和尚，和尚讲故事，他说…… \n",
      "\t\n",
      "山上有座庙，庙里有个和尚，和尚讲故事，他说…… \n",
      "\t\n",
      "山上有座庙，庙里有个和尚，和尚讲故事，他说…… \n",
      "\t\n",
      "山上有座庙，庙里有个和尚，和尚讲故事，他说…… \n",
      "\t\n",
      "山上有座庙，庙里有个和尚，和尚讲故事，他说…… \n",
      "\t\n",
      "山上有座庙，庙里有个和尚，和尚讲故事，他说…… \n",
      "\t\n",
      "山上有座庙，庙里有个和尚，和尚讲故事，他说…… \n",
      "\t\n",
      "山上有座庙，庙里有个和尚，和尚讲故事，他说…… \n",
      "\t\n",
      "山上有座庙，庙里有个和尚，和尚讲故事，他说…… \n",
      "\t\n",
      "山上有座庙，庙里有个和尚，和尚讲故事，他说…… \n",
      "\t\n",
      "山上有座庙，庙里有个和尚，和尚讲故事，他说…… \n",
      "\t\n",
      "山上有座庙，庙里有个和尚，和尚讲故事，他说…… \n",
      "\t\n",
      "山上有座庙，庙里有个和尚，和尚讲故事，他说…… \n",
      "\t\n",
      "山上有座庙，庙里有个和尚，和尚讲故事，他说…… \n",
      "\t\n",
      "山上有座庙，庙里有个和尚，和尚讲故事，他说…… \n",
      "\t\n",
      "山上有座庙，庙里有个和尚，和尚讲故事，他说…… \n",
      "\t\n",
      "山上有座庙，庙里有个和尚，和尚讲故事，他说…… \n",
      "\t\n",
      "山上有座庙，庙里有个和尚，和尚讲故事，他说…… \n",
      "\t\n",
      "山上有座庙，庙里有个和尚，和尚讲故事，他说…… \n",
      "\t\n",
      "山上有座庙，庙里有个和尚，和尚讲故事，他说…… \n",
      "\t\n",
      "山上有座庙，庙里有个和尚，和尚讲故事，他说…… \n",
      "\t\n",
      "山上有座庙，庙里有个和尚，和尚讲故事，他说…… \n",
      "\t\n",
      "山上有座庙，庙里有个和尚，和尚讲故事，他说…… \n",
      "\t\n",
      "山上有座庙，庙里有个和尚，和尚讲故事，他说…… \n",
      "\t\n",
      "山上有座庙，庙里有个和尚，和尚讲故事，他说…… \n",
      "\t\n",
      "山上有座庙，庙里有个和尚，和尚讲故事，他说…… \n",
      "\t\n",
      "山上有座庙，庙里有个和尚，和尚讲故事，他说…… \n",
      "\t\n",
      "山上有座庙，庙里有个和尚，和尚讲故事，他说…… \n",
      "\t\n",
      "山上有座庙，庙里有个和尚，和尚讲故事，他说…… \n",
      "\t\n",
      "山上有座庙，庙里有个和尚，和尚讲故事，他说…… \n",
      "\t\n",
      "山上有座庙，庙里有个和尚，和尚讲故事，他说…… \n",
      "\t\n",
      "山上有座庙，庙里有个和尚，和尚讲故事，他说…… \n",
      "\t\n",
      "山上有座庙，庙里有个和尚，和尚讲故事，他说…… \n",
      "\t\n",
      "山上有座庙，庙里有个和尚，和尚讲故事，他说…… \n",
      "\t\n",
      "山上有座庙，庙里有个和尚，和尚讲故事，他说…… \n",
      "\t\n",
      "山上有座庙，庙里有个和尚，和尚讲故事，他说…… \n",
      "\t\n",
      "山上有座庙，庙里有个和尚，和尚讲故事，他说…… \n",
      "\t\n",
      "山上有座庙，庙里有个和尚，和尚讲故事，他说…… \n",
      "\t\n",
      "山上有座庙，庙里有个和尚，和尚讲故事，他说…… \n",
      "\t\n",
      "山上有座庙，庙里有个和尚，和尚讲故事，他说…… \n",
      "\t\n",
      "山上有座庙，庙里有个和尚，和尚讲故事，他说…… \n",
      "\t\n",
      "山上有座庙，庙里有个和尚，和尚讲故事，他说…… \n",
      "\t\n",
      "山上有座庙，庙里有个和尚，和尚讲故事，他说…… \n",
      "\t\n",
      "山上有座庙，庙里有个和尚，和尚讲故事，他说…… \n",
      "\t\n",
      "山上有座庙，庙里有个和尚，和尚讲故事，他说…… \n",
      "\t\n",
      "山上有座庙，庙里有个和尚，和尚讲故事，他说…… \n",
      "\t\n",
      "山上有座庙，庙里有个和尚，和尚讲故事，他说…… \n",
      "\t\n",
      "山上有座庙，庙里有个和尚，和尚讲故事，他说…… \n",
      "\t\n",
      "山上有座庙，庙里有个和尚，和尚讲故事，他说…… \n",
      "\t\n",
      "山上有座庙，庙里有个和尚，和尚讲故事，他说…… \n",
      "\t\n",
      "山上有座庙，庙里有个和尚，和尚讲故事，他说…… \n",
      "\t\n",
      "山上有座庙，庙里有个和尚，和尚讲故事，他说…… \n",
      "\t\n",
      "山上有座庙，庙里有个和尚，和尚讲故事，他说…… \n",
      "\t\n",
      "山上有座庙，庙里有个和尚，和尚讲故事，他说…… \n",
      "\t\n",
      "山上有座庙，庙里有个和尚，和尚讲故事，他说…… \n",
      "\t\n",
      "山上有座庙，庙里有个和尚，和尚讲故事，他说…… \n",
      "\t\n",
      "山上有座庙，庙里有个和尚，和尚讲故事，他说…… \n",
      "\t\n",
      "山上有座庙，庙里有个和尚，和尚讲故事，他说…… \n",
      "\t\n",
      "山上有座庙，庙里有个和尚，和尚讲故事，他说…… \n",
      "\t\n",
      "山上有座庙，庙里有个和尚，和尚讲故事，他说…… \n",
      "\t\n",
      "山上有座庙，庙里有个和尚，和尚讲故事，他说…… \n",
      "\t\n",
      "山上有座庙，庙里有个和尚，和尚讲故事，他说…… \n",
      "\t\n",
      "山上有座庙，庙里有个和尚，和尚讲故事，他说…… \n",
      "\t\n",
      "山上有座庙，庙里有个和尚，和尚讲故事，他说…… \n",
      "\t\n",
      "山上有座庙，庙里有个和尚，和尚讲故事，他说…… \n",
      "\t\n",
      "山上有座庙，庙里有个和尚，和尚讲故事，他说…… \n",
      "\t\n",
      "山上有座庙，庙里有个和尚，和尚讲故事，他说…… \n",
      "\t\n",
      "山上有座庙，庙里有个和尚，和尚讲故事，他说…… \n",
      "\t\n",
      "山上有座庙，庙里有个和尚，和尚讲故事，他说…… \n",
      "\t\n",
      "山上有座庙，庙里有个和尚，和尚讲故事，他说…… \n",
      "\t\n",
      "山上有座庙，庙里有个和尚，和尚讲故事，他说…… \n",
      "\t\n",
      "山上有座庙，庙里有个和尚，和尚讲故事，他说…… \n",
      "\t\n",
      "山上有座庙，庙里有个和尚，和尚讲故事，他说…… \n",
      "\t\n",
      "山上有座庙，庙里有个和尚，和尚讲故事，他说…… \n",
      "\t\n",
      "山上有座庙，庙里有个和尚，和尚讲故事，他说…… \n",
      "\t\n",
      "山上有座庙，庙里有个和尚，和尚讲故事，他说…… \n",
      "\t\n",
      "山上有座庙，庙里有个和尚，和尚讲故事，他说…… \n",
      "\t\n",
      "山上有座庙，庙里有个和尚，和尚讲故事，他说…… \n",
      "\t\n",
      "山上有座庙，庙里有个和尚，和尚讲故事，他说…… \n",
      "\t\n",
      "山上有座庙，庙里有个和尚，和尚讲故事，他说…… \n",
      "\t\n",
      "山上有座庙，庙里有个和尚，和尚讲故事，他说…… \n",
      "\t\n",
      "山上有座庙，庙里有个和尚，和尚讲故事，他说…… \n",
      "\t\n",
      "山上有座庙，庙里有个和尚，和尚讲故事，他说…… \n",
      "\t\n",
      "山上有座庙，庙里有个和尚，和尚讲故事，他说…… \n",
      "\t\n",
      "山上有座庙，庙里有个和尚，和尚讲故事，他说…… \n",
      "\t\n",
      "山上有座庙，庙里有个和尚，和尚讲故事，他说…… \n",
      "\t\n",
      "山上有座庙，庙里有个和尚，和尚讲故事，他说…… \n",
      "\t\n",
      "山上有座庙，庙里有个和尚，和尚讲故事，他说…… \n",
      "\t\n",
      "山上有座庙，庙里有个和尚，和尚讲故事，他说…… \n",
      "\t\n",
      "山上有座庙，庙里有个和尚，和尚讲故事，他说…… \n",
      "\t\n",
      "山上有座庙，庙里有个和尚，和尚讲故事，他说…… \n",
      "\t\n",
      "山上有座庙，庙里有个和尚，和尚讲故事，他说…… \n",
      "\t\n",
      "山上有座庙，庙里有个和尚，和尚讲故事，他说…… \n",
      "\t\n",
      "山上有座庙，庙里有个和尚，和尚讲故事，他说…… \n",
      "\t\n",
      "山上有座庙，庙里有个和尚，和尚讲故事，他说…… \n",
      "\t\n",
      "山上有座庙，庙里有个和尚，和尚讲故事，他说…… \n",
      "\t\n",
      "山上有座庙，庙里有个和尚，和尚讲故事，他说…… \n",
      "\t\n",
      "山上有座庙，庙里有个和尚，和尚讲故事，他说…… \n",
      "\t\n",
      "山上有座庙，庙里有个和尚，和尚讲故事，他说…… \n",
      "\t\n",
      "山上有座庙，庙里有个和尚，和尚讲故事，他说…… \n",
      "\t\n",
      "山上有座庙，庙里有个和尚，和尚讲故事，他说…… \n",
      "\t\n",
      "山上有座庙，庙里有个和尚，和尚讲故事，他说…… \n",
      "\t\n",
      "山上有座庙，庙里有个和尚，和尚讲故事，他说…… \n",
      "\t\n",
      "山上有座庙，庙里有个和尚，和尚讲故事，他说…… \n",
      "\t\n",
      "山上有座庙，庙里有个和尚，和尚讲故事，他说…… \n",
      "\t\n",
      "山上有座庙，庙里有个和尚，和尚讲故事，他说…… \n",
      "\t\n",
      "山上有座庙，庙里有个和尚，和尚讲故事，他说…… \n",
      "\t\n",
      "山上有座庙，庙里有个和尚，和尚讲故事，他说…… \n",
      "\t\n",
      "山上有座庙，庙里有个和尚，和尚讲故事，他说…… \n",
      "\t\n",
      "山上有座庙，庙里有个和尚，和尚讲故事，他说…… \n",
      "\t\n",
      "山上有座庙，庙里有个和尚，和尚讲故事，他说…… \n",
      "\t\n",
      "山上有座庙，庙里有个和尚，和尚讲故事，他说…… \n",
      "\t\n",
      "山上有座庙，庙里有个和尚，和尚讲故事，他说…… \n",
      "\t\n",
      "山上有座庙，庙里有个和尚，和尚讲故事，他说…… \n",
      "\t\n",
      "山上有座庙，庙里有个和尚，和尚讲故事，他说…… \n",
      "\t\n",
      "山上有座庙，庙里有个和尚，和尚讲故事，他说…… \n",
      "\t\n",
      "山上有座庙，庙里有个和尚，和尚讲故事，他说…… \n",
      "\t\n",
      "山上有座庙，庙里有个和尚，和尚讲故事，他说…… \n",
      "\t\n",
      "山上有座庙，庙里有个和尚，和尚讲故事，他说…… \n",
      "\t\n",
      "山上有座庙，庙里有个和尚，和尚讲故事，他说…… \n",
      "\t\n",
      "山上有座庙，庙里有个和尚，和尚讲故事，他说…… \n",
      "\t\n",
      "山上有座庙，庙里有个和尚，和尚讲故事，他说…… \n",
      "\t\n",
      "山上有座庙，庙里有个和尚，和尚讲故事，他说…… \n",
      "\t\n",
      "山上有座庙，庙里有个和尚，和尚讲故事，他说…… \n",
      "\t\n",
      "山上有座庙，庙里有个和尚，和尚讲故事，他说…… \n",
      "\t\n",
      "山上有座庙，庙里有个和尚，和尚讲故事，他说…… \n",
      "\t\n",
      "山上有座庙，庙里有个和尚，和尚讲故事，他说…… \n",
      "\t\n",
      "山上有座庙，庙里有个和尚，和尚讲故事，他说…… \n",
      "\t\n",
      "山上有座庙，庙里有个和尚，和尚讲故事，他说…… \n",
      "\t\n",
      "山上有座庙，庙里有个和尚，和尚讲故事，他说…… \n",
      "\t\n",
      "山上有座庙，庙里有个和尚，和尚讲故事，他说…… \n",
      "\t\n",
      "山上有座庙，庙里有个和尚，和尚讲故事，他说…… \n",
      "\t\n",
      "山上有座庙，庙里有个和尚，和尚讲故事，他说…… \n",
      "\t\n",
      "山上有座庙，庙里有个和尚，和尚讲故事，他说…… \n",
      "\t\n",
      "山上有座庙，庙里有个和尚，和尚讲故事，他说…… \n",
      "\t\n",
      "山上有座庙，庙里有个和尚，和尚讲故事，他说…… \n",
      "\t\n",
      "山上有座庙，庙里有个和尚，和尚讲故事，他说…… \n",
      "\t\n",
      "山上有座庙，庙里有个和尚，和尚讲故事，他说…… \n",
      "\t\n",
      "山上有座庙，庙里有个和尚，和尚讲故事，他说…… \n",
      "\t\n",
      "山上有座庙，庙里有个和尚，和尚讲故事，他说…… \n",
      "\t\n",
      "山上有座庙，庙里有个和尚，和尚讲故事，他说…… \n",
      "\t\n",
      "山上有座庙，庙里有个和尚，和尚讲故事，他说…… \n",
      "\t\n",
      "山上有座庙，庙里有个和尚，和尚讲故事，他说…… \n",
      "\t\n",
      "山上有座庙，庙里有个和尚，和尚讲故事，他说…… \n",
      "\t\n",
      "山上有座庙，庙里有个和尚，和尚讲故事，他说…… \n",
      "\t\n",
      "山上有座庙，庙里有个和尚，和尚讲故事，他说…… \n",
      "\t\n",
      "山上有座庙，庙里有个和尚，和尚讲故事，他说…… \n",
      "\t\n",
      "山上有座庙，庙里有个和尚，和尚讲故事，他说…… \n",
      "\t\n",
      "山上有座庙，庙里有个和尚，和尚讲故事，他说…… \n",
      "\t\n",
      "山上有座庙，庙里有个和尚，和尚讲故事，他说…… \n",
      "\t\n",
      "山上有座庙，庙里有个和尚，和尚讲故事，他说…… \n",
      "\t\n",
      "山上有座庙，庙里有个和尚，和尚讲故事，他说…… \n",
      "\t\n",
      "山上有座庙，庙里有个和尚，和尚讲故事，他说…… \n",
      "\t\n",
      "山上有座庙，庙里有个和尚，和尚讲故事，他说…… \n",
      "\t\n",
      "山上有座庙，庙里有个和尚，和尚讲故事，他说…… \n",
      "\t\n",
      "山上有座庙，庙里有个和尚，和尚讲故事，他说…… \n",
      "\t\n",
      "山上有座庙，庙里有个和尚，和尚讲故事，他说…… \n",
      "\t\n",
      "山上有座庙，庙里有个和尚，和尚讲故事，他说…… \n",
      "\t\n",
      "山上有座庙，庙里有个和尚，和尚讲故事，他说…… \n",
      "\t\n",
      "山上有座庙，庙里有个和尚，和尚讲故事，他说…… \n",
      "\t\n",
      "山上有座庙，庙里有个和尚，和尚讲故事，他说…… \n",
      "\t\n",
      "山上有座庙，庙里有个和尚，和尚讲故事，他说…… \n",
      "\t\n",
      "山上有座庙，庙里有个和尚，和尚讲故事，他说…… \n",
      "\t\n",
      "山上有座庙，庙里有个和尚，和尚讲故事，他说…… \n",
      "\t\n",
      "山上有座庙，庙里有个和尚，和尚讲故事，他说…… \n",
      "\t\n",
      "山上有座庙，庙里有个和尚，和尚讲故事，他说…… \n",
      "\t\n",
      "山上有座庙，庙里有个和尚，和尚讲故事，他说…… \n",
      "\t\n",
      "山上有座庙，庙里有个和尚，和尚讲故事，他说…… \n",
      "\t\n",
      "山上有座庙，庙里有个和尚，和尚讲故事，他说…… \n",
      "\t\n",
      "山上有座庙，庙里有个和尚，和尚讲故事，他说…… \n",
      "\t\n",
      "山上有座庙，庙里有个和尚，和尚讲故事，他说…… \n",
      "\t\n",
      "山上有座庙，庙里有个和尚，和尚讲故事，他说…… \n",
      "\t\n",
      "山上有座庙，庙里有个和尚，和尚讲故事，他说…… \n",
      "\t\n",
      "山上有座庙，庙里有个和尚，和尚讲故事，他说…… \n",
      "\t\n",
      "山上有座庙，庙里有个和尚，和尚讲故事，他说…… \n",
      "\t\n",
      "山上有座庙，庙里有个和尚，和尚讲故事，他说…… \n",
      "\t\n",
      "山上有座庙，庙里有个和尚，和尚讲故事，他说…… \n",
      "\t\n",
      "山上有座庙，庙里有个和尚，和尚讲故事，他说…… \n",
      "\t\n",
      "山上有座庙，庙里有个和尚，和尚讲故事，他说…… \n",
      "\t\n",
      "山上有座庙，庙里有个和尚，和尚讲故事，他说…… \n",
      "\t\n",
      "山上有座庙，庙里有个和尚，和尚讲故事，他说…… \n",
      "\t\n",
      "山上有座庙，庙里有个和尚，和尚讲故事，他说…… \n",
      "\t\n",
      "山上有座庙，庙里有个和尚，和尚讲故事，他说…… \n",
      "\t\n",
      "山上有座庙，庙里有个和尚，和尚讲故事，他说…… \n",
      "\t\n",
      "山上有座庙，庙里有个和尚，和尚讲故事，他说…… \n",
      "\t\n",
      "山上有座庙，庙里有个和尚，和尚讲故事，他说…… \n",
      "\t\n",
      "山上有座庙，庙里有个和尚，和尚讲故事，他说…… \n",
      "\t\n",
      "山上有座庙，庙里有个和尚，和尚讲故事，他说…… \n",
      "\t\n",
      "山上有座庙，庙里有个和尚，和尚讲故事，他说…… \n",
      "\t\n",
      "山上有座庙，庙里有个和尚，和尚讲故事，他说…… \n",
      "\t\n",
      "山上有座庙，庙里有个和尚，和尚讲故事，他说…… \n",
      "\t\n",
      "山上有座庙，庙里有个和尚，和尚讲故事，他说…… \n",
      "\t\n",
      "山上有座庙，庙里有个和尚，和尚讲故事，他说…… \n",
      "\t\n",
      "山上有座庙，庙里有个和尚，和尚讲故事，他说…… \n",
      "\t\n",
      "山上有座庙，庙里有个和尚，和尚讲故事，他说…… \n",
      "\t\n",
      "山上有座庙，庙里有个和尚，和尚讲故事，他说…… \n",
      "\t\n",
      "山上有座庙，庙里有个和尚，和尚讲故事，他说…… \n",
      "\t\n",
      "山上有座庙，庙里有个和尚，和尚讲故事，他说…… \n",
      "\t\n",
      "山上有座庙，庙里有个和尚，和尚讲故事，他说…… \n",
      "\t\n",
      "山上有座庙，庙里有个和尚，和尚讲故事，他说…… \n",
      "\t\n",
      "山上有座庙，庙里有个和尚，和尚讲故事，他说…… \n",
      "\t\n",
      "山上有座庙，庙里有个和尚，和尚讲故事，他说…… \n",
      "\t\n",
      "山上有座庙，庙里有个和尚，和尚讲故事，他说…… \n",
      "\t\n",
      "山上有座庙，庙里有个和尚，和尚讲故事，他说…… \n",
      "\t\n",
      "山上有座庙，庙里有个和尚，和尚讲故事，他说…… \n",
      "\t\n",
      "山上有座庙，庙里有个和尚，和尚讲故事，他说…… \n",
      "\t\n",
      "山上有座庙，庙里有个和尚，和尚讲故事，他说…… \n",
      "\t\n",
      "山上有座庙，庙里有个和尚，和尚讲故事，他说…… \n",
      "\t\n",
      "山上有座庙，庙里有个和尚，和尚讲故事，他说…… \n",
      "\t\n",
      "山上有座庙，庙里有个和尚，和尚讲故事，他说…… \n",
      "\t\n",
      "山上有座庙，庙里有个和尚，和尚讲故事，他说…… \n",
      "\t\n",
      "山上有座庙，庙里有个和尚，和尚讲故事，他说…… \n",
      "\t\n",
      "山上有座庙，庙里有个和尚，和尚讲故事，他说…… \n",
      "\t\n",
      "山上有座庙，庙里有个和尚，和尚讲故事，他说…… \n",
      "\t\n",
      "山上有座庙，庙里有个和尚，和尚讲故事，他说…… \n",
      "\t\n",
      "山上有座庙，庙里有个和尚，和尚讲故事，他说…… \n",
      "\t\n",
      "山上有座庙，庙里有个和尚，和尚讲故事，他说…… \n",
      "\t\n",
      "山上有座庙，庙里有个和尚，和尚讲故事，他说…… \n",
      "\t\n",
      "山上有座庙，庙里有个和尚，和尚讲故事，他说…… \n",
      "\t\n",
      "山上有座庙，庙里有个和尚，和尚讲故事，他说…… \n",
      "\t\n",
      "山上有座庙，庙里有个和尚，和尚讲故事，他说…… \n",
      "\t\n",
      "山上有座庙，庙里有个和尚，和尚讲故事，他说…… \n",
      "\t\n",
      "山上有座庙，庙里有个和尚，和尚讲故事，他说…… \n",
      "\t\n",
      "山上有座庙，庙里有个和尚，和尚讲故事，他说…… \n",
      "\t\n",
      "山上有座庙，庙里有个和尚，和尚讲故事，他说…… \n",
      "\t\n",
      "山上有座庙，庙里有个和尚，和尚讲故事，他说…… \n",
      "\t\n",
      "山上有座庙，庙里有个和尚，和尚讲故事，他说…… \n",
      "\t\n",
      "山上有座庙，庙里有个和尚，和尚讲故事，他说…… \n",
      "\t\n",
      "山上有座庙，庙里有个和尚，和尚讲故事，他说…… \n",
      "\t\n",
      "山上有座庙，庙里有个和尚，和尚讲故事，他说…… \n",
      "\t\n",
      "山上有座庙，庙里有个和尚，和尚讲故事，他说…… \n",
      "\t\n",
      "山上有座庙，庙里有个和尚，和尚讲故事，他说…… \n",
      "\t\n",
      "山上有座庙，庙里有个和尚，和尚讲故事，他说…… \n",
      "\t\n",
      "山上有座庙，庙里有个和尚，和尚讲故事，他说…… \n",
      "\t\n",
      "山上有座庙，庙里有个和尚，和尚讲故事，他说…… \n",
      "\t\n",
      "山上有座庙，庙里有个和尚，和尚讲故事，他说…… \n",
      "\t\n",
      "山上有座庙，庙里有个和尚，和尚讲故事，他说…… \n",
      "\t\n",
      "山上有座庙，庙里有个和尚，和尚讲故事，他说…… \n",
      "\t\n",
      "山上有座庙，庙里有个和尚，和尚讲故事，他说…… \n",
      "\t\n",
      "山上有座庙，庙里有个和尚，和尚讲故事，他说…… \n",
      "\t\n",
      "山上有座庙，庙里有个和尚，和尚讲故事，他说…… \n",
      "\t\n",
      "山上有座庙，庙里有个和尚，和尚讲故事，他说…… \n",
      "\t\n",
      "山上有座庙，庙里有个和尚，和尚讲故事，他说…… \n",
      "\t\n",
      "山上有座庙，庙里有个和尚，和尚讲故事，他说…… \n",
      "\t\n",
      "山上有座庙，庙里有个和尚，和尚讲故事，他说…… \n",
      "\t\n",
      "山上有座庙，庙里有个和尚，和尚讲故事，他说…… \n",
      "\t\n",
      "山上有座庙，庙里有个和尚，和尚讲故事，他说…… \n",
      "\t\n",
      "山上有座庙，庙里有个和尚，和尚讲故事，他说…… \n",
      "\t\n",
      "山上有座庙，庙里有个和尚，和尚讲故事，他说…… \n",
      "\t\n",
      "山上有座庙，庙里有个和尚，和尚讲故事，他说…… \n",
      "\t\n",
      "山上有座庙，庙里有个和尚，和尚讲故事，他说…… \n",
      "\t\n",
      "山上有座庙，庙里有个和尚，和尚讲故事，他说…… \n",
      "\t\n",
      "山上有座庙，庙里有个和尚，和尚讲故事，他说…… \n",
      "\t\n",
      "山上有座庙，庙里有个和尚，和尚讲故事，他说…… \n",
      "\t\n",
      "山上有座庙，庙里有个和尚，和尚讲故事，他说…… \n",
      "\t\n",
      "山上有座庙，庙里有个和尚，和尚讲故事，他说…… \n",
      "\t\n",
      "山上有座庙，庙里有个和尚，和尚讲故事，他说…… \n",
      "\t\n",
      "山上有座庙，庙里有个和尚，和尚讲故事，他说…… \n",
      "\t\n",
      "山上有座庙，庙里有个和尚，和尚讲故事，他说…… \n",
      "\t\n",
      "山上有座庙，庙里有个和尚，和尚讲故事，他说…… \n",
      "\t\n",
      "山上有座庙，庙里有个和尚，和尚讲故事，他说…… \n",
      "\t\n",
      "山上有座庙，庙里有个和尚，和尚讲故事，他说…… \n",
      "\t\n",
      "山上有座庙，庙里有个和尚，和尚讲故事，他说…… \n",
      "\t\n",
      "山上有座庙，庙里有个和尚，和尚讲故事，他说…… \n",
      "\t\n",
      "山上有座庙，庙里有个和尚，和尚讲故事，他说…… \n",
      "\t\n",
      "山上有座庙，庙里有个和尚，和尚讲故事，他说…… \n",
      "\t\n",
      "山上有座庙，庙里有个和尚，和尚讲故事，他说…… \n",
      "\t\n",
      "山上有座庙，庙里有个和尚，和尚讲故事，他说…… \n",
      "\t\n",
      "山上有座庙，庙里有个和尚，和尚讲故事，他说…… \n",
      "\t\n",
      "山上有座庙，庙里有个和尚，和尚讲故事，他说…… \n",
      "\t\n",
      "山上有座庙，庙里有个和尚，和尚讲故事，他说…… \n",
      "\t\n",
      "山上有座庙，庙里有个和尚，和尚讲故事，他说…… \n",
      "\t\n",
      "山上有座庙，庙里有个和尚，和尚讲故事，他说…… \n",
      "\t\n",
      "山上有座庙，庙里有个和尚，和尚讲故事，他说…… \n",
      "\t\n",
      "山上有座庙，庙里有个和尚，和尚讲故事，他说…… \n",
      "\t\n",
      "山上有座庙，庙里有个和尚，和尚讲故事，他说…… \n",
      "\t\n",
      "山上有座庙，庙里有个和尚，和尚讲故事，他说…… \n",
      "\t\n",
      "山上有座庙，庙里有个和尚，和尚讲故事，他说…… \n",
      "\t\n",
      "山上有座庙，庙里有个和尚，和尚讲故事，他说…… \n",
      "\t\n",
      "山上有座庙，庙里有个和尚，和尚讲故事，他说…… \n",
      "\t\n",
      "山上有座庙，庙里有个和尚，和尚讲故事，他说…… \n",
      "\t\n",
      "山上有座庙，庙里有个和尚，和尚讲故事，他说…… \n",
      "\t\n",
      "山上有座庙，庙里有个和尚，和尚讲故事，他说…… \n",
      "\t\n",
      "山上有座庙，庙里有个和尚，和尚讲故事，他说…… \n",
      "\t\n",
      "山上有座庙，庙里有个和尚，和尚讲故事，他说…… \n",
      "\t\n",
      "山上有座庙，庙里有个和尚，和尚讲故事，他说…… \n",
      "\t\n",
      "山上有座庙，庙里有个和尚，和尚讲故事，他说…… \n",
      "\t\n",
      "山上有座庙，庙里有个和尚，和尚讲故事，他说…… \n",
      "\t\n",
      "山上有座庙，庙里有个和尚，和尚讲故事，他说…… \n",
      "\t\n",
      "山上有座庙，庙里有个和尚，和尚讲故事，他说…… \n",
      "\t\n",
      "山上有座庙，庙里有个和尚，和尚讲故事，他说…… \n",
      "\t\n",
      "山上有座庙，庙里有个和尚，和尚讲故事，他说…… \n",
      "\t\n",
      "山上有座庙，庙里有个和尚，和尚讲故事，他说…… \n",
      "\t\n",
      "山上有座庙，庙里有个和尚，和尚讲故事，他说…… \n",
      "\t\n",
      "山上有座庙，庙里有个和尚，和尚讲故事，他说…… \n",
      "\t\n",
      "山上有座庙，庙里有个和尚，和尚讲故事，他说…… \n",
      "\t\n",
      "山上有座庙，庙里有个和尚，和尚讲故事，他说…… \n",
      "\t\n",
      "山上有座庙，庙里有个和尚，和尚讲故事，他说…… \n",
      "\t\n",
      "山上有座庙，庙里有个和尚，和尚讲故事，他说…… \n",
      "\t\n",
      "山上有座庙，庙里有个和尚，和尚讲故事，他说…… \n",
      "\t\n",
      "山上有座庙，庙里有个和尚，和尚讲故事，他说…… \n",
      "\t\n",
      "山上有座庙，庙里有个和尚，和尚讲故事，他说…… \n",
      "\t\n",
      "山上有座庙，庙里有个和尚，和尚讲故事，他说…… \n",
      "\t\n",
      "山上有座庙，庙里有个和尚，和尚讲故事，他说…… \n",
      "\t\n",
      "山上有座庙，庙里有个和尚，和尚讲故事，他说…… \n",
      "\t\n",
      "山上有座庙，庙里有个和尚，和尚讲故事，他说…… \n",
      "\t\n",
      "山上有座庙，庙里有个和尚，和尚讲故事，他说…… \n",
      "\t\n",
      "山上有座庙，庙里有个和尚，和尚讲故事，他说…… \n",
      "\t\n",
      "山上有座庙，庙里有个和尚，和尚讲故事，他说…… \n",
      "\t\n",
      "山上有座庙，庙里有个和尚，和尚讲故事，他说…… \n",
      "\t\n",
      "山上有座庙，庙里有个和尚，和尚讲故事，他说…… \n",
      "\t\n",
      "山上有座庙，庙里有个和尚，和尚讲故事，他说…… \n",
      "\t\n",
      "山上有座庙，庙里有个和尚，和尚讲故事，他说…… \n",
      "\t\n",
      "山上有座庙，庙里有个和尚，和尚讲故事，他说…… \n",
      "\t\n",
      "山上有座庙，庙里有个和尚，和尚讲故事，他说…… \n",
      "\t\n",
      "山上有座庙，庙里有个和尚，和尚讲故事，他说…… \n",
      "\t\n",
      "山上有座庙，庙里有个和尚，和尚讲故事，他说…… \n",
      "\t\n",
      "山上有座庙，庙里有个和尚，和尚讲故事，他说…… \n",
      "\t\n",
      "山上有座庙，庙里有个和尚，和尚讲故事，他说…… \n",
      "\t\n",
      "山上有座庙，庙里有个和尚，和尚讲故事，他说…… \n",
      "\t\n",
      "山上有座庙，庙里有个和尚，和尚讲故事，他说…… \n",
      "\t\n",
      "山上有座庙，庙里有个和尚，和尚讲故事，他说…… \n",
      "\t\n",
      "山上有座庙，庙里有个和尚，和尚讲故事，他说…… \n",
      "\t\n",
      "山上有座庙，庙里有个和尚，和尚讲故事，他说…… \n",
      "\t\n",
      "山上有座庙，庙里有个和尚，和尚讲故事，他说…… \n",
      "\t\n",
      "山上有座庙，庙里有个和尚，和尚讲故事，他说…… \n",
      "\t\n",
      "山上有座庙，庙里有个和尚，和尚讲故事，他说…… \n",
      "\t\n",
      "山上有座庙，庙里有个和尚，和尚讲故事，他说…… \n",
      "\t\n",
      "山上有座庙，庙里有个和尚，和尚讲故事，他说…… \n",
      "\t\n",
      "山上有座庙，庙里有个和尚，和尚讲故事，他说…… \n",
      "\t\n",
      "山上有座庙，庙里有个和尚，和尚讲故事，他说…… \n",
      "\t\n",
      "山上有座庙，庙里有个和尚，和尚讲故事，他说…… \n",
      "\t\n",
      "山上有座庙，庙里有个和尚，和尚讲故事，他说…… \n",
      "\t\n",
      "山上有座庙，庙里有个和尚，和尚讲故事，他说…… \n",
      "\t\n",
      "山上有座庙，庙里有个和尚，和尚讲故事，他说…… \n",
      "\t\n",
      "山上有座庙，庙里有个和尚，和尚讲故事，他说…… \n",
      "\t\n",
      "山上有座庙，庙里有个和尚，和尚讲故事，他说…… \n",
      "\t\n",
      "山上有座庙，庙里有个和尚，和尚讲故事，他说…… \n",
      "\t\n",
      "山上有座庙，庙里有个和尚，和尚讲故事，他说…… \n",
      "\t\n",
      "山上有座庙，庙里有个和尚，和尚讲故事，他说…… \n",
      "\t\n",
      "山上有座庙，庙里有个和尚，和尚讲故事，他说…… \n",
      "\t\n",
      "山上有座庙，庙里有个和尚，和尚讲故事，他说…… \n",
      "\t\n",
      "山上有座庙，庙里有个和尚，和尚讲故事，他说…… \n",
      "\t\n",
      "山上有座庙，庙里有个和尚，和尚讲故事，他说…… \n",
      "\t\n",
      "山上有座庙，庙里有个和尚，和尚讲故事，他说…… \n",
      "\t\n",
      "山上有座庙，庙里有个和尚，和尚讲故事，他说…… \n",
      "\t\n",
      "山上有座庙，庙里有个和尚，和尚讲故事，他说…… \n",
      "\t\n",
      "山上有座庙，庙里有个和尚，和尚讲故事，他说…… \n",
      "\t\n",
      "山上有座庙，庙里有个和尚，和尚讲故事，他说…… \n",
      "\t\n",
      "山上有座庙，庙里有个和尚，和尚讲故事，他说…… \n",
      "\t\n",
      "山上有座庙，庙里有个和尚，和尚讲故事，他说…… \n",
      "\t\n",
      "山上有座庙，庙里有个和尚，和尚讲故事，他说…… \n",
      "\t\n",
      "山上有座庙，庙里有个和尚，和尚讲故事，他说…… \n",
      "\t\n",
      "山上有座庙，庙里有个和尚，和尚讲故事，他说…… \n",
      "\t\n",
      "山上有座庙，庙里有个和尚，和尚讲故事，他说…… \n",
      "\t\n",
      "山上有座庙，庙里有个和尚，和尚讲故事，他说…… \n",
      "\t\n",
      "山上有座庙，庙里有个和尚，和尚讲故事，他说…… \n",
      "\t\n",
      "山上有座庙，庙里有个和尚，和尚讲故事，他说…… \n",
      "\t\n",
      "山上有座庙，庙里有个和尚，和尚讲故事，他说…… \n",
      "\t\n",
      "山上有座庙，庙里有个和尚，和尚讲故事，他说…… \n",
      "\t\n",
      "山上有座庙，庙里有个和尚，和尚讲故事，他说…… \n",
      "\t\n",
      "山上有座庙，庙里有个和尚，和尚讲故事，他说…… \n",
      "\t\n",
      "山上有座庙，庙里有个和尚，和尚讲故事，他说…… \n",
      "\t\n",
      "山上有座庙，庙里有个和尚，和尚讲故事，他说…… \n",
      "\t\n",
      "山上有座庙，庙里有个和尚，和尚讲故事，他说…… \n",
      "\t\n",
      "山上有座庙，庙里有个和尚，和尚讲故事，他说…… \n",
      "\t\n",
      "山上有座庙，庙里有个和尚，和尚讲故事，他说…… \n",
      "\t\n",
      "山上有座庙，庙里有个和尚，和尚讲故事，他说…… \n",
      "\t\n",
      "山上有座庙，庙里有个和尚，和尚讲故事，他说…… \n",
      "\t\n",
      "山上有座庙，庙里有个和尚，和尚讲故事，他说…… \n",
      "\t\n",
      "山上有座庙，庙里有个和尚，和尚讲故事，他说…… \n",
      "\t\n",
      "山上有座庙，庙里有个和尚，和尚讲故事，他说…… \n",
      "\t\n",
      "山上有座庙，庙里有个和尚，和尚讲故事，他说…… \n",
      "\t\n",
      "山上有座庙，庙里有个和尚，和尚讲故事，他说…… \n",
      "\t\n",
      "山上有座庙，庙里有个和尚，和尚讲故事，他说…… \n",
      "\t\n",
      "山上有座庙，庙里有个和尚，和尚讲故事，他说…… \n",
      "\t\n",
      "山上有座庙，庙里有个和尚，和尚讲故事，他说…… \n",
      "\t\n",
      "山上有座庙，庙里有个和尚，和尚讲故事，他说…… \n",
      "\t\n",
      "山上有座庙，庙里有个和尚，和尚讲故事，他说…… \n",
      "\t\n",
      "山上有座庙，庙里有个和尚，和尚讲故事，他说…… \n",
      "\t\n",
      "山上有座庙，庙里有个和尚，和尚讲故事，他说…… \n",
      "\t\n",
      "山上有座庙，庙里有个和尚，和尚讲故事，他说…… \n",
      "\t\n",
      "山上有座庙，庙里有个和尚，和尚讲故事，他说…… \n",
      "\t\n",
      "山上有座庙，庙里有个和尚，和尚讲故事，他说…… \n",
      "\t\n",
      "山上有座庙，庙里有个和尚，和尚讲故事，他说…… \n",
      "\t\n",
      "山上有座庙，庙里有个和尚，和尚讲故事，他说…… \n",
      "\t\n",
      "山上有座庙，庙里有个和尚，和尚讲故事，他说…… \n",
      "\t\n",
      "山上有座庙，庙里有个和尚，和尚讲故事，他说…… \n",
      "\t\n",
      "山上有座庙，庙里有个和尚，和尚讲故事，他说…… \n",
      "\t\n",
      "山上有座庙，庙里有个和尚，和尚讲故事，他说…… \n",
      "\t\n",
      "山上有座庙，庙里有个和尚，和尚讲故事，他说…… \n",
      "\t\n",
      "山上有座庙，庙里有个和尚，和尚讲故事，他说…… \n",
      "\t\n",
      "山上有座庙，庙里有个和尚，和尚讲故事，他说…… \n",
      "\t\n",
      "山上有座庙，庙里有个和尚，和尚讲故事，他说…… \n",
      "\t\n",
      "山上有座庙，庙里有个和尚，和尚讲故事，他说…… \n",
      "\t\n",
      "山上有座庙，庙里有个和尚，和尚讲故事，他说…… \n",
      "\t\n",
      "山上有座庙，庙里有个和尚，和尚讲故事，他说…… \n",
      "\t\n",
      "山上有座庙，庙里有个和尚，和尚讲故事，他说…… \n",
      "\t\n",
      "山上有座庙，庙里有个和尚，和尚讲故事，他说…… \n",
      "\t\n",
      "山上有座庙，庙里有个和尚，和尚讲故事，他说…… \n",
      "\t\n",
      "山上有座庙，庙里有个和尚，和尚讲故事，他说…… \n",
      "\t\n",
      "山上有座庙，庙里有个和尚，和尚讲故事，他说…… \n",
      "\t\n",
      "山上有座庙，庙里有个和尚，和尚讲故事，他说…… \n",
      "\t\n",
      "山上有座庙，庙里有个和尚，和尚讲故事，他说…… \n",
      "\t\n",
      "山上有座庙，庙里有个和尚，和尚讲故事，他说…… \n",
      "\t\n",
      "山上有座庙，庙里有个和尚，和尚讲故事，他说…… \n",
      "\t\n",
      "山上有座庙，庙里有个和尚，和尚讲故事，他说…… \n",
      "\t\n",
      "山上有座庙，庙里有个和尚，和尚讲故事，他说…… \n",
      "\t\n",
      "山上有座庙，庙里有个和尚，和尚讲故事，他说…… \n",
      "\t\n",
      "山上有座庙，庙里有个和尚，和尚讲故事，他说…… \n",
      "\t\n",
      "山上有座庙，庙里有个和尚，和尚讲故事，他说…… \n",
      "\t\n",
      "山上有座庙，庙里有个和尚，和尚讲故事，他说…… \n",
      "\t\n",
      "山上有座庙，庙里有个和尚，和尚讲故事，他说…… \n",
      "\t\n",
      "山上有座庙，庙里有个和尚，和尚讲故事，他说…… \n",
      "\t\n",
      "山上有座庙，庙里有个和尚，和尚讲故事，他说…… \n",
      "\t\n",
      "山上有座庙，庙里有个和尚，和尚讲故事，他说…… \n",
      "\t\n",
      "山上有座庙，庙里有个和尚，和尚讲故事，他说…… \n",
      "\t\n",
      "山上有座庙，庙里有个和尚，和尚讲故事，他说…… \n",
      "\t\n",
      "山上有座庙，庙里有个和尚，和尚讲故事，他说…… \n",
      "\t\n",
      "山上有座庙，庙里有个和尚，和尚讲故事，他说…… \n",
      "\t\n",
      "山上有座庙，庙里有个和尚，和尚讲故事，他说…… \n",
      "\t\n",
      "山上有座庙，庙里有个和尚，和尚讲故事，他说…… \n",
      "\t\n",
      "山上有座庙，庙里有个和尚，和尚讲故事，他说…… \n",
      "\t\n",
      "山上有座庙，庙里有个和尚，和尚讲故事，他说…… \n",
      "\t\n",
      "山上有座庙，庙里有个和尚，和尚讲故事，他说…… \n",
      "\t\n",
      "山上有座庙，庙里有个和尚，和尚讲故事，他说…… \n",
      "\t\n",
      "山上有座庙，庙里有个和尚，和尚讲故事，他说…… \n",
      "\t\n",
      "山上有座庙，庙里有个和尚，和尚讲故事，他说…… \n",
      "\t\n",
      "山上有座庙，庙里有个和尚，和尚讲故事，他说…… \n",
      "\t\n",
      "山上有座庙，庙里有个和尚，和尚讲故事，他说…… \n",
      "\t\n",
      "山上有座庙，庙里有个和尚，和尚讲故事，他说…… \n",
      "\t\n",
      "山上有座庙，庙里有个和尚，和尚讲故事，他说…… \n",
      "\t\n",
      "山上有座庙，庙里有个和尚，和尚讲故事，他说…… \n",
      "\t\n",
      "山上有座庙，庙里有个和尚，和尚讲故事，他说…… \n",
      "\t\n",
      "山上有座庙，庙里有个和尚，和尚讲故事，他说…… \n",
      "\t\n",
      "山上有座庙，庙里有个和尚，和尚讲故事，他说…… \n",
      "\t\n",
      "山上有座庙，庙里有个和尚，和尚讲故事，他说…… \n",
      "\t\n",
      "山上有座庙，庙里有个和尚，和尚讲故事，他说…… \n",
      "\t\n",
      "山上有座庙，庙里有个和尚，和尚讲故事，他说…… \n",
      "\t\n",
      "山上有座庙，庙里有个和尚，和尚讲故事，他说…… \n",
      "\t\n",
      "山上有座庙，庙里有个和尚，和尚讲故事，他说…… \n",
      "\t\n",
      "山上有座庙，庙里有个和尚，和尚讲故事，他说…… \n",
      "\t\n",
      "山上有座庙，庙里有个和尚，和尚讲故事，他说…… \n",
      "\t\n",
      "山上有座庙，庙里有个和尚，和尚讲故事，他说…… \n",
      "\t\n",
      "山上有座庙，庙里有个和尚，和尚讲故事，他说…… \n",
      "\t\n",
      "山上有座庙，庙里有个和尚，和尚讲故事，他说…… \n",
      "\t\n",
      "山上有座庙，庙里有个和尚，和尚讲故事，他说…… \n",
      "\t\n",
      "山上有座庙，庙里有个和尚，和尚讲故事，他说…… \n",
      "\t\n",
      "山上有座庙，庙里有个和尚，和尚讲故事，他说…… \n",
      "\t\n",
      "山上有座庙，庙里有个和尚，和尚讲故事，他说…… \n",
      "\t\n",
      "山上有座庙，庙里有个和尚，和尚讲故事，他说…… \n",
      "\t\n",
      "山上有座庙，庙里有个和尚，和尚讲故事，他说…… \n",
      "\t\n",
      "山上有座庙，庙里有个和尚，和尚讲故事，他说…… \n",
      "\t\n",
      "山上有座庙，庙里有个和尚，和尚讲故事，他说…… \n",
      "\t\n",
      "山上有座庙，庙里有个和尚，和尚讲故事，他说…… \n",
      "\t\n",
      "山上有座庙，庙里有个和尚，和尚讲故事，他说…… \n",
      "\t\n",
      "山上有座庙，庙里有个和尚，和尚讲故事，他说…… \n",
      "\t\n",
      "山上有座庙，庙里有个和尚，和尚讲故事，他说…… \n",
      "\t\n",
      "山上有座庙，庙里有个和尚，和尚讲故事，他说…… \n",
      "\t\n",
      "山上有座庙，庙里有个和尚，和尚讲故事，他说…… \n",
      "\t\n",
      "山上有座庙，庙里有个和尚，和尚讲故事，他说…… \n",
      "\t\n",
      "山上有座庙，庙里有个和尚，和尚讲故事，他说…… \n",
      "\t\n",
      "山上有座庙，庙里有个和尚，和尚讲故事，他说…… \n",
      "\t\n",
      "山上有座庙，庙里有个和尚，和尚讲故事，他说…… \n",
      "\t\n",
      "山上有座庙，庙里有个和尚，和尚讲故事，他说…… \n",
      "\t\n",
      "山上有座庙，庙里有个和尚，和尚讲故事，他说…… \n",
      "\t\n",
      "山上有座庙，庙里有个和尚，和尚讲故事，他说…… \n",
      "\t\n",
      "山上有座庙，庙里有个和尚，和尚讲故事，他说…… \n",
      "\t\n",
      "山上有座庙，庙里有个和尚，和尚讲故事，他说…… \n",
      "\t\n",
      "山上有座庙，庙里有个和尚，和尚讲故事，他说…… \n",
      "\t\n",
      "山上有座庙，庙里有个和尚，和尚讲故事，他说…… \n",
      "\t\n",
      "山上有座庙，庙里有个和尚，和尚讲故事，他说…… \n",
      "\t\n",
      "山上有座庙，庙里有个和尚，和尚讲故事，他说…… \n",
      "\t\n",
      "山上有座庙，庙里有个和尚，和尚讲故事，他说…… \n",
      "\t\n",
      "山上有座庙，庙里有个和尚，和尚讲故事，他说…… \n",
      "\t\n",
      "山上有座庙，庙里有个和尚，和尚讲故事，他说…… \n",
      "\t\n",
      "山上有座庙，庙里有个和尚，和尚讲故事，他说…… \n",
      "\t\n",
      "山上有座庙，庙里有个和尚，和尚讲故事，他说…… \n",
      "\t\n",
      "山上有座庙，庙里有个和尚，和尚讲故事，他说…… \n",
      "\t\n",
      "山上有座庙，庙里有个和尚，和尚讲故事，他说…… \n",
      "\t\n",
      "山上有座庙，庙里有个和尚，和尚讲故事，他说…… \n",
      "\t\n",
      "山上有座庙，庙里有个和尚，和尚讲故事，他说…… \n",
      "\t\n",
      "山上有座庙，庙里有个和尚，和尚讲故事，他说…… \n",
      "\t\n",
      "山上有座庙，庙里有个和尚，和尚讲故事，他说…… \n",
      "\t\n",
      "山上有座庙，庙里有个和尚，和尚讲故事，他说…… \n",
      "\t\n",
      "山上有座庙，庙里有个和尚，和尚讲故事，他说…… \n",
      "\t\n",
      "山上有座庙，庙里有个和尚，和尚讲故事，他说…… \n",
      "\t\n",
      "山上有座庙，庙里有个和尚，和尚讲故事，他说…… \n",
      "\t\n",
      "山上有座庙，庙里有个和尚，和尚讲故事，他说…… \n",
      "\t\n",
      "山上有座庙，庙里有个和尚，和尚讲故事，他说…… \n",
      "\t\n",
      "山上有座庙，庙里有个和尚，和尚讲故事，他说…… \n",
      "\t\n",
      "山上有座庙，庙里有个和尚，和尚讲故事，他说…… \n",
      "\t\n",
      "山上有座庙，庙里有个和尚，和尚讲故事，他说…… \n",
      "\t\n",
      "山上有座庙，庙里有个和尚，和尚讲故事，他说…… \n",
      "\t\n",
      "山上有座庙，庙里有个和尚，和尚讲故事，他说…… \n",
      "\t\n",
      "山上有座庙，庙里有个和尚，和尚讲故事，他说…… \n",
      "\t\n",
      "山上有座庙，庙里有个和尚，和尚讲故事，他说…… \n",
      "\t\n",
      "山上有座庙，庙里有个和尚，和尚讲故事，他说…… \n",
      "\t\n",
      "山上有座庙，庙里有个和尚，和尚讲故事，他说…… \n",
      "\t\n",
      "山上有座庙，庙里有个和尚，和尚讲故事，他说…… \n",
      "\t\n",
      "山上有座庙，庙里有个和尚，和尚讲故事，他说…… \n",
      "\t\n",
      "山上有座庙，庙里有个和尚，和尚讲故事，他说…… \n",
      "\t\n",
      "山上有座庙，庙里有个和尚，和尚讲故事，他说…… \n",
      "\t\n",
      "山上有座庙，庙里有个和尚，和尚讲故事，他说…… \n",
      "\t\n",
      "山上有座庙，庙里有个和尚，和尚讲故事，他说…… \n",
      "\t\n",
      "山上有座庙，庙里有个和尚，和尚讲故事，他说…… \n",
      "\t\n",
      "山上有座庙，庙里有个和尚，和尚讲故事，他说…… \n",
      "\t\n",
      "山上有座庙，庙里有个和尚，和尚讲故事，他说…… \n",
      "\t\n",
      "山上有座庙，庙里有个和尚，和尚讲故事，他说…… \n",
      "\t\n",
      "山上有座庙，庙里有个和尚，和尚讲故事，他说…… \n",
      "\t\n",
      "山上有座庙，庙里有个和尚，和尚讲故事，他说…… \n",
      "\t\n",
      "山上有座庙，庙里有个和尚，和尚讲故事，他说…… \n",
      "\t\n",
      "山上有座庙，庙里有个和尚，和尚讲故事，他说…… \n",
      "\t\n",
      "山上有座庙，庙里有个和尚，和尚讲故事，他说…… \n",
      "\t\n",
      "山上有座庙，庙里有个和尚，和尚讲故事，他说…… \n",
      "\t\n",
      "山上有座庙，庙里有个和尚，和尚讲故事，他说…… \n",
      "\t\n",
      "山上有座庙，庙里有个和尚，和尚讲故事，他说…… \n",
      "\t\n",
      "山上有座庙，庙里有个和尚，和尚讲故事，他说…… \n",
      "\t\n",
      "山上有座庙，庙里有个和尚，和尚讲故事，他说…… \n",
      "\t\n",
      "山上有座庙，庙里有个和尚，和尚讲故事，他说…… \n",
      "\t\n",
      "山上有座庙，庙里有个和尚，和尚讲故事，他说…… \n",
      "\t\n",
      "山上有座庙，庙里有个和尚，和尚讲故事，他说…… \n",
      "\t\n",
      "山上有座庙，庙里有个和尚，和尚讲故事，他说…… \n",
      "\t\n",
      "山上有座庙，庙里有个和尚，和尚讲故事，他说…… \n",
      "\t\n",
      "山上有座庙，庙里有个和尚，和尚讲故事，他说…… \n",
      "\t\n",
      "山上有座庙，庙里有个和尚，和尚讲故事，他说…… \n",
      "\t\n",
      "山上有座庙，庙里有个和尚，和尚讲故事，他说…… \n",
      "\t\n",
      "山上有座庙，庙里有个和尚，和尚讲故事，他说…… \n",
      "\t\n",
      "山上有座庙，庙里有个和尚，和尚讲故事，他说…… \n",
      "\t\n",
      "山上有座庙，庙里有个和尚，和尚讲故事，他说…… \n",
      "\t\n",
      "山上有座庙，庙里有个和尚，和尚讲故事，他说…… \n",
      "\t\n",
      "山上有座庙，庙里有个和尚，和尚讲故事，他说…… \n",
      "\t\n",
      "山上有座庙，庙里有个和尚，和尚讲故事，他说…… \n",
      "\t\n",
      "山上有座庙，庙里有个和尚，和尚讲故事，他说…… \n",
      "\t\n",
      "山上有座庙，庙里有个和尚，和尚讲故事，他说…… \n",
      "\t\n",
      "山上有座庙，庙里有个和尚，和尚讲故事，他说…… \n",
      "\t\n",
      "山上有座庙，庙里有个和尚，和尚讲故事，他说…… \n",
      "\t\n",
      "山上有座庙，庙里有个和尚，和尚讲故事，他说…… \n",
      "\t\n",
      "山上有座庙，庙里有个和尚，和尚讲故事，他说…… \n",
      "\t\n",
      "山上有座庙，庙里有个和尚，和尚讲故事，他说…… \n",
      "\t\n",
      "山上有座庙，庙里有个和尚，和尚讲故事，他说…… \n",
      "\t\n",
      "山上有座庙，庙里有个和尚，和尚讲故事，他说…… \n",
      "\t\n",
      "山上有座庙，庙里有个和尚，和尚讲故事，他说…… \n",
      "\t\n",
      "山上有座庙，庙里有个和尚，和尚讲故事，他说…… \n",
      "\t\n",
      "山上有座庙，庙里有个和尚，和尚讲故事，他说…… \n",
      "\t\n",
      "山上有座庙，庙里有个和尚，和尚讲故事，他说…… \n",
      "\t\n",
      "山上有座庙，庙里有个和尚，和尚讲故事，他说…… \n",
      "\t\n",
      "山上有座庙，庙里有个和尚，和尚讲故事，他说…… \n",
      "\t\n",
      "山上有座庙，庙里有个和尚，和尚讲故事，他说…… \n",
      "\t\n",
      "山上有座庙，庙里有个和尚，和尚讲故事，他说…… \n",
      "\t\n",
      "山上有座庙，庙里有个和尚，和尚讲故事，他说…… \n",
      "\t\n",
      "山上有座庙，庙里有个和尚，和尚讲故事，他说…… \n",
      "\t\n",
      "山上有座庙，庙里有个和尚，和尚讲故事，他说…… \n",
      "\t\n",
      "山上有座庙，庙里有个和尚，和尚讲故事，他说…… \n",
      "\t\n",
      "山上有座庙，庙里有个和尚，和尚讲故事，他说…… \n",
      "\t\n",
      "山上有座庙，庙里有个和尚，和尚讲故事，他说…… \n",
      "\t\n",
      "山上有座庙，庙里有个和尚，和尚讲故事，他说…… \n",
      "\t\n",
      "山上有座庙，庙里有个和尚，和尚讲故事，他说…… \n",
      "\t\n",
      "山上有座庙，庙里有个和尚，和尚讲故事，他说…… \n",
      "\t\n",
      "山上有座庙，庙里有个和尚，和尚讲故事，他说…… \n",
      "\t\n",
      "山上有座庙，庙里有个和尚，和尚讲故事，他说…… \n",
      "\t\n",
      "山上有座庙，庙里有个和尚，和尚讲故事，他说…… \n",
      "\t\n",
      "山上有座庙，庙里有个和尚，和尚讲故事，他说…… \n",
      "\t\n",
      "山上有座庙，庙里有个和尚，和尚讲故事，他说…… \n",
      "\t\n",
      "山上有座庙，庙里有个和尚，和尚讲故事，他说…… \n",
      "\t\n",
      "山上有座庙，庙里有个和尚，和尚讲故事，他说…… \n",
      "\t\n",
      "山上有座庙，庙里有个和尚，和尚讲故事，他说…… \n",
      "\t\n",
      "山上有座庙，庙里有个和尚，和尚讲故事，他说…… \n",
      "\t\n",
      "山上有座庙，庙里有个和尚，和尚讲故事，他说…… \n",
      "\t\n",
      "山上有座庙，庙里有个和尚，和尚讲故事，他说…… \n",
      "\t\n",
      "山上有座庙，庙里有个和尚，和尚讲故事，他说…… \n",
      "\t\n",
      "山上有座庙，庙里有个和尚，和尚讲故事，他说…… \n",
      "\t\n",
      "山上有座庙，庙里有个和尚，和尚讲故事，他说…… \n",
      "\t\n",
      "山上有座庙，庙里有个和尚，和尚讲故事，他说…… \n",
      "\t\n",
      "山上有座庙，庙里有个和尚，和尚讲故事，他说…… \n",
      "\t\n",
      "山上有座庙，庙里有个和尚，和尚讲故事，他说…… \n",
      "\t\n",
      "山上有座庙，庙里有个和尚，和尚讲故事，他说…… \n",
      "\t\n",
      "山上有座庙，庙里有个和尚，和尚讲故事，他说…… \n",
      "\t\n",
      "山上有座庙，庙里有个和尚，和尚讲故事，他说…… \n",
      "\t\n",
      "山上有座庙，庙里有个和尚，和尚讲故事，他说…… \n",
      "\t\n",
      "山上有座庙，庙里有个和尚，和尚讲故事，他说…… \n",
      "\t\n",
      "山上有座庙，庙里有个和尚，和尚讲故事，他说…… \n",
      "\t\n",
      "山上有座庙，庙里有个和尚，和尚讲故事，他说…… \n",
      "\t\n",
      "山上有座庙，庙里有个和尚，和尚讲故事，他说…… \n",
      "\t\n",
      "山上有座庙，庙里有个和尚，和尚讲故事，他说…… \n",
      "\t\n",
      "山上有座庙，庙里有个和尚，和尚讲故事，他说…… \n",
      "\t\n",
      "山上有座庙，庙里有个和尚，和尚讲故事，他说…… \n",
      "\t\n",
      "山上有座庙，庙里有个和尚，和尚讲故事，他说…… \n",
      "\t\n",
      "山上有座庙，庙里有个和尚，和尚讲故事，他说…… \n",
      "\t\n",
      "山上有座庙，庙里有个和尚，和尚讲故事，他说…… \n",
      "\t\n",
      "山上有座庙，庙里有个和尚，和尚讲故事，他说…… \n",
      "\t\n",
      "山上有座庙，庙里有个和尚，和尚讲故事，他说…… \n",
      "\t\n",
      "山上有座庙，庙里有个和尚，和尚讲故事，他说…… \n",
      "\t\n",
      "山上有座庙，庙里有个和尚，和尚讲故事，他说…… \n",
      "\t\n",
      "山上有座庙，庙里有个和尚，和尚讲故事，他说…… \n",
      "\t\n",
      "山上有座庙，庙里有个和尚，和尚讲故事，他说…… \n",
      "\t\n",
      "山上有座庙，庙里有个和尚，和尚讲故事，他说…… \n",
      "\t\n",
      "山上有座庙，庙里有个和尚，和尚讲故事，他说…… \n",
      "\t\n",
      "山上有座庙，庙里有个和尚，和尚讲故事，他说…… \n",
      "\t\n",
      "山上有座庙，庙里有个和尚，和尚讲故事，他说…… \n",
      "\t\n",
      "山上有座庙，庙里有个和尚，和尚讲故事，他说…… \n",
      "\t\n",
      "山上有座庙，庙里有个和尚，和尚讲故事，他说…… \n",
      "\t\n",
      "山上有座庙，庙里有个和尚，和尚讲故事，他说…… \n",
      "\t\n",
      "山上有座庙，庙里有个和尚，和尚讲故事，他说…… \n",
      "\t\n",
      "山上有座庙，庙里有个和尚，和尚讲故事，他说…… \n",
      "\t\n",
      "山上有座庙，庙里有个和尚，和尚讲故事，他说…… \n",
      "\t\n",
      "山上有座庙，庙里有个和尚，和尚讲故事，他说…… \n",
      "\t\n",
      "山上有座庙，庙里有个和尚，和尚讲故事，他说…… \n",
      "\t\n",
      "山上有座庙，庙里有个和尚，和尚讲故事，他说…… \n",
      "\t\n",
      "山上有座庙，庙里有个和尚，和尚讲故事，他说…… \n",
      "\t\n",
      "山上有座庙，庙里有个和尚，和尚讲故事，他说…… \n",
      "\t\n",
      "山上有座庙，庙里有个和尚，和尚讲故事，他说…… \n",
      "\t\n",
      "山上有座庙，庙里有个和尚，和尚讲故事，他说…… \n",
      "\t\n",
      "山上有座庙，庙里有个和尚，和尚讲故事，他说…… \n",
      "\t\n",
      "山上有座庙，庙里有个和尚，和尚讲故事，他说…… \n",
      "\t\n",
      "山上有座庙，庙里有个和尚，和尚讲故事，他说…… \n",
      "\t\n",
      "山上有座庙，庙里有个和尚，和尚讲故事，他说…… \n",
      "\t\n",
      "山上有座庙，庙里有个和尚，和尚讲故事，他说…… \n",
      "\t\n",
      "山上有座庙，庙里有个和尚，和尚讲故事，他说…… \n",
      "\t\n",
      "山上有座庙，庙里有个和尚，和尚讲故事，他说…… \n",
      "\t\n",
      "山上有座庙，庙里有个和尚，和尚讲故事，他说…… \n",
      "\t\n",
      "山上有座庙，庙里有个和尚，和尚讲故事，他说…… \n",
      "\t\n",
      "山上有座庙，庙里有个和尚，和尚讲故事，他说…… \n",
      "\t\n",
      "山上有座庙，庙里有个和尚，和尚讲故事，他说…… \n",
      "\t\n",
      "山上有座庙，庙里有个和尚，和尚讲故事，他说…… \n",
      "\t\n",
      "山上有座庙，庙里有个和尚，和尚讲故事，他说…… \n",
      "\t\n",
      "山上有座庙，庙里有个和尚，和尚讲故事，他说…… \n",
      "\t\n",
      "山上有座庙，庙里有个和尚，和尚讲故事，他说…… \n",
      "\t\n",
      "山上有座庙，庙里有个和尚，和尚讲故事，他说…… \n",
      "\t\n",
      "山上有座庙，庙里有个和尚，和尚讲故事，他说…… \n",
      "\t\n",
      "山上有座庙，庙里有个和尚，和尚讲故事，他说…… \n",
      "\t\n",
      "山上有座庙，庙里有个和尚，和尚讲故事，他说…… \n",
      "\t\n",
      "山上有座庙，庙里有个和尚，和尚讲故事，他说…… \n",
      "\t\n",
      "山上有座庙，庙里有个和尚，和尚讲故事，他说…… \n",
      "\t\n",
      "山上有座庙，庙里有个和尚，和尚讲故事，他说…… \n",
      "\t\n",
      "山上有座庙，庙里有个和尚，和尚讲故事，他说…… \n",
      "\t\n",
      "山上有座庙，庙里有个和尚，和尚讲故事，他说…… \n",
      "\t\n",
      "山上有座庙，庙里有个和尚，和尚讲故事，他说…… \n",
      "\t\n",
      "山上有座庙，庙里有个和尚，和尚讲故事，他说…… \n",
      "\t\n",
      "山上有座庙，庙里有个和尚，和尚讲故事，他说…… \n",
      "\t\n",
      "山上有座庙，庙里有个和尚，和尚讲故事，他说…… \n",
      "\t\n",
      "山上有座庙，庙里有个和尚，和尚讲故事，他说…… \n",
      "\t\n",
      "山上有座庙，庙里有个和尚，和尚讲故事，他说…… \n",
      "\t\n",
      "山上有座庙，庙里有个和尚，和尚讲故事，他说…… \n",
      "\t\n",
      "山上有座庙，庙里有个和尚，和尚讲故事，他说…… \n",
      "\t\n",
      "山上有座庙，庙里有个和尚，和尚讲故事，他说…… \n",
      "\t\n",
      "山上有座庙，庙里有个和尚，和尚讲故事，他说…… \n",
      "\t\n",
      "山上有座庙，庙里有个和尚，和尚讲故事，他说…… \n",
      "\t\n",
      "山上有座庙，庙里有个和尚，和尚讲故事，他说…… \n",
      "\t\n",
      "山上有座庙，庙里有个和尚，和尚讲故事，他说…… \n",
      "\t\n",
      "山上有座庙，庙里有个和尚，和尚讲故事，他说…… \n",
      "\t\n",
      "山上有座庙，庙里有个和尚，和尚讲故事，他说…… \n",
      "\t\n",
      "山上有座庙，庙里有个和尚，和尚讲故事，他说…… \n",
      "\t\n",
      "山上有座庙，庙里有个和尚，和尚讲故事，他说…… \n",
      "\t\n",
      "山上有座庙，庙里有个和尚，和尚讲故事，他说…… \n",
      "\t\n",
      "山上有座庙，庙里有个和尚，和尚讲故事，他说…… \n",
      "\t\n",
      "山上有座庙，庙里有个和尚，和尚讲故事，他说…… \n",
      "\t\n",
      "山上有座庙，庙里有个和尚，和尚讲故事，他说…… \n",
      "\t\n",
      "山上有座庙，庙里有个和尚，和尚讲故事，他说…… \n",
      "\t\n",
      "山上有座庙，庙里有个和尚，和尚讲故事，他说…… \n",
      "\t\n",
      "山上有座庙，庙里有个和尚，和尚讲故事，他说…… \n",
      "\t\n",
      "山上有座庙，庙里有个和尚，和尚讲故事，他说…… \n",
      "\t\n",
      "山上有座庙，庙里有个和尚，和尚讲故事，他说…… \n",
      "\t\n",
      "山上有座庙，庙里有个和尚，和尚讲故事，他说…… \n",
      "\t\n",
      "山上有座庙，庙里有个和尚，和尚讲故事，他说…… \n",
      "\t\n",
      "山上有座庙，庙里有个和尚，和尚讲故事，他说…… \n",
      "\t\n",
      "山上有座庙，庙里有个和尚，和尚讲故事，他说…… \n",
      "\t\n",
      "山上有座庙，庙里有个和尚，和尚讲故事，他说…… \n",
      "\t\n",
      "山上有座庙，庙里有个和尚，和尚讲故事，他说…… \n",
      "\t\n",
      "山上有座庙，庙里有个和尚，和尚讲故事，他说…… \n",
      "\t\n",
      "山上有座庙，庙里有个和尚，和尚讲故事，他说…… \n",
      "\t\n",
      "山上有座庙，庙里有个和尚，和尚讲故事，他说…… \n",
      "\t\n",
      "山上有座庙，庙里有个和尚，和尚讲故事，他说…… \n",
      "\t\n",
      "山上有座庙，庙里有个和尚，和尚讲故事，他说…… \n",
      "\t\n",
      "山上有座庙，庙里有个和尚，和尚讲故事，他说…… \n",
      "\t\n",
      "山上有座庙，庙里有个和尚，和尚讲故事，他说…… \n",
      "\t\n",
      "山上有座庙，庙里有个和尚，和尚讲故事，他说…… \n",
      "\t\n",
      "山上有座庙，庙里有个和尚，和尚讲故事，他说…… \n",
      "\t\n",
      "山上有座庙，庙里有个和尚，和尚讲故事，他说…… \n",
      "\t\n",
      "山上有座庙，庙里有个和尚，和尚讲故事，他说…… \n",
      "\t\n",
      "山上有座庙，庙里有个和尚，和尚讲故事，他说…… \n",
      "\t\n",
      "山上有座庙，庙里有个和尚，和尚讲故事，他说…… \n",
      "\t\n",
      "山上有座庙，庙里有个和尚，和尚讲故事，他说…… \n",
      "\t\n",
      "山上有座庙，庙里有个和尚，和尚讲故事，他说…… \n",
      "\t\n",
      "山上有座庙，庙里有个和尚，和尚讲故事，他说…… \n",
      "\t\n",
      "山上有座庙，庙里有个和尚，和尚讲故事，他说…… \n",
      "\t\n",
      "山上有座庙，庙里有个和尚，和尚讲故事，他说…… \n",
      "\t\n",
      "山上有座庙，庙里有个和尚，和尚讲故事，他说…… \n",
      "\t\n",
      "山上有座庙，庙里有个和尚，和尚讲故事，他说…… \n",
      "\t\n",
      "山上有座庙，庙里有个和尚，和尚讲故事，他说…… \n",
      "\t\n",
      "山上有座庙，庙里有个和尚，和尚讲故事，他说…… \n",
      "\t\n",
      "山上有座庙，庙里有个和尚，和尚讲故事，他说…… \n",
      "\t\n",
      "山上有座庙，庙里有个和尚，和尚讲故事，他说…… \n",
      "\t\n",
      "山上有座庙，庙里有个和尚，和尚讲故事，他说…… \n",
      "\t\n",
      "山上有座庙，庙里有个和尚，和尚讲故事，他说…… \n",
      "\t\n",
      "山上有座庙，庙里有个和尚，和尚讲故事，他说…… \n",
      "\t\n",
      "山上有座庙，庙里有个和尚，和尚讲故事，他说…… \n",
      "\t\n",
      "山上有座庙，庙里有个和尚，和尚讲故事，他说…… \n",
      "\t\n",
      "山上有座庙，庙里有个和尚，和尚讲故事，他说…… \n",
      "\t\n",
      "山上有座庙，庙里有个和尚，和尚讲故事，他说…… \n",
      "\t\n",
      "山上有座庙，庙里有个和尚，和尚讲故事，他说…… \n",
      "\t\n",
      "山上有座庙，庙里有个和尚，和尚讲故事，他说…… \n",
      "\t\n",
      "山上有座庙，庙里有个和尚，和尚讲故事，他说…… \n",
      "\t\n",
      "山上有座庙，庙里有个和尚，和尚讲故事，他说…… \n",
      "\t\n",
      "山上有座庙，庙里有个和尚，和尚讲故事，他说…… \n",
      "\t\n",
      "山上有座庙，庙里有个和尚，和尚讲故事，他说…… \n",
      "\t\n",
      "山上有座庙，庙里有个和尚，和尚讲故事，他说…… \n",
      "\t\n",
      "山上有座庙，庙里有个和尚，和尚讲故事，他说…… \n",
      "\t\n",
      "山上有座庙，庙里有个和尚，和尚讲故事，他说…… \n",
      "\t\n",
      "山上有座庙，庙里有个和尚，和尚讲故事，他说…… \n",
      "\t\n",
      "山上有座庙，庙里有个和尚，和尚讲故事，他说…… \n",
      "\t\n",
      "山上有座庙，庙里有个和尚，和尚讲故事，他说…… \n",
      "\t\n",
      "山上有座庙，庙里有个和尚，和尚讲故事，他说…… \n",
      "\t\n",
      "山上有座庙，庙里有个和尚，和尚讲故事，他说…… \n",
      "\t\n",
      "山上有座庙，庙里有个和尚，和尚讲故事，他说…… \n",
      "\t\n",
      "山上有座庙，庙里有个和尚，和尚讲故事，他说…… \n",
      "\t\n",
      "山上有座庙，庙里有个和尚，和尚讲故事，他说…… \n",
      "\t\n",
      "山上有座庙，庙里有个和尚，和尚讲故事，他说…… \n",
      "\t\n",
      "山上有座庙，庙里有个和尚，和尚讲故事，他说…… \n",
      "\t\n",
      "山上有座庙，庙里有个和尚，和尚讲故事，他说…… \n",
      "\t\n",
      "山上有座庙，庙里有个和尚，和尚讲故事，他说…… \n",
      "\t\n",
      "山上有座庙，庙里有个和尚，和尚讲故事，他说…… \n",
      "\t\n",
      "山上有座庙，庙里有个和尚，和尚讲故事，他说…… \n",
      "\t\n",
      "山上有座庙，庙里有个和尚，和尚讲故事，他说…… \n",
      "\t\n",
      "山上有座庙，庙里有个和尚，和尚讲故事，他说…… \n",
      "\t\n",
      "山上有座庙，庙里有个和尚，和尚讲故事，他说…… \n",
      "\t\n",
      "山上有座庙，庙里有个和尚，和尚讲故事，他说…… \n",
      "\t\n",
      "山上有座庙，庙里有个和尚，和尚讲故事，他说…… \n",
      "\t\n",
      "山上有座庙，庙里有个和尚，和尚讲故事，他说…… \n",
      "\t\n",
      "山上有座庙，庙里有个和尚，和尚讲故事，他说…… \n",
      "\t\n",
      "山上有座庙，庙里有个和尚，和尚讲故事，他说…… \n",
      "\t\n",
      "山上有座庙，庙里有个和尚，和尚讲故事，他说…… \n",
      "\t\n",
      "山上有座庙，庙里有个和尚，和尚讲故事，他说…… \n",
      "\t\n",
      "山上有座庙，庙里有个和尚，和尚讲故事，他说…… \n",
      "\t\n",
      "山上有座庙，庙里有个和尚，和尚讲故事，他说…… \n",
      "\t\n",
      "山上有座庙，庙里有个和尚，和尚讲故事，他说…… \n",
      "\t\n",
      "山上有座庙，庙里有个和尚，和尚讲故事，他说…… \n",
      "\t\n",
      "山上有座庙，庙里有个和尚，和尚讲故事，他说…… \n",
      "\t\n",
      "山上有座庙，庙里有个和尚，和尚讲故事，他说…… \n",
      "\t\n",
      "山上有座庙，庙里有个和尚，和尚讲故事，他说…… \n",
      "\t\n",
      "山上有座庙，庙里有个和尚，和尚讲故事，他说…… \n",
      "\t\n",
      "山上有座庙，庙里有个和尚，和尚讲故事，他说…… \n",
      "\t\n",
      "山上有座庙，庙里有个和尚，和尚讲故事，他说…… \n",
      "\t\n",
      "山上有座庙，庙里有个和尚，和尚讲故事，他说…… \n",
      "\t\n",
      "山上有座庙，庙里有个和尚，和尚讲故事，他说…… \n",
      "\t\n",
      "山上有座庙，庙里有个和尚，和尚讲故事，他说…… \n",
      "\t\n",
      "山上有座庙，庙里有个和尚，和尚讲故事，他说…… \n",
      "\t\n",
      "山上有座庙，庙里有个和尚，和尚讲故事，他说…… \n",
      "\t\n",
      "山上有座庙，庙里有个和尚，和尚讲故事，他说…… \n",
      "\t\n",
      "山上有座庙，庙里有个和尚，和尚讲故事，他说…… \n",
      "\t\n",
      "山上有座庙，庙里有个和尚，和尚讲故事，他说…… \n",
      "\t\n",
      "山上有座庙，庙里有个和尚，和尚讲故事，他说…… \n",
      "\t\n",
      "山上有座庙，庙里有个和尚，和尚讲故事，他说…… \n",
      "\t\n",
      "山上有座庙，庙里有个和尚，和尚讲故事，他说…… \n",
      "\t\n",
      "山上有座庙，庙里有个和尚，和尚讲故事，他说…… \n",
      "\t\n",
      "山上有座庙，庙里有个和尚，和尚讲故事，他说…… \n",
      "\t\n",
      "山上有座庙，庙里有个和尚，和尚讲故事，他说…… \n",
      "\t\n",
      "山上有座庙，庙里有个和尚，和尚讲故事，他说…… \n",
      "\t\n",
      "山上有座庙，庙里有个和尚，和尚讲故事，他说…… \n",
      "\t\n",
      "山上有座庙，庙里有个和尚，和尚讲故事，他说…… \n",
      "\t\n",
      "山上有座庙，庙里有个和尚，和尚讲故事，他说…… \n",
      "\t\n",
      "山上有座庙，庙里有个和尚，和尚讲故事，他说…… \n",
      "\t\n",
      "山上有座庙，庙里有个和尚，和尚讲故事，他说…… \n",
      "\t\n",
      "山上有座庙，庙里有个和尚，和尚讲故事，他说…… \n",
      "\t\n",
      "山上有座庙，庙里有个和尚，和尚讲故事，他说…… \n",
      "\t\n",
      "山上有座庙，庙里有个和尚，和尚讲故事，他说…… \n",
      "\t\n",
      "山上有座庙，庙里有个和尚，和尚讲故事，他说…… \n",
      "\t\n",
      "山上有座庙，庙里有个和尚，和尚讲故事，他说…… \n",
      "\t\n",
      "山上有座庙，庙里有个和尚，和尚讲故事，他说…… \n",
      "\t\n",
      "山上有座庙，庙里有个和尚，和尚讲故事，他说…… \n",
      "\t\n",
      "山上有座庙，庙里有个和尚，和尚讲故事，他说…… \n",
      "\t\n",
      "山上有座庙，庙里有个和尚，和尚讲故事，他说…… \n",
      "\t\n",
      "山上有座庙，庙里有个和尚，和尚讲故事，他说…… \n",
      "\t\n",
      "山上有座庙，庙里有个和尚，和尚讲故事，他说…… \n",
      "\t\n",
      "山上有座庙，庙里有个和尚，和尚讲故事，他说…… \n",
      "\t\n",
      "山上有座庙，庙里有个和尚，和尚讲故事，他说…… \n",
      "\t\n",
      "山上有座庙，庙里有个和尚，和尚讲故事，他说…… \n",
      "\t\n",
      "山上有座庙，庙里有个和尚，和尚讲故事，他说…… \n",
      "\t\n",
      "山上有座庙，庙里有个和尚，和尚讲故事，他说…… \n",
      "\t\n",
      "山上有座庙，庙里有个和尚，和尚讲故事，他说…… \n",
      "\t\n",
      "山上有座庙，庙里有个和尚，和尚讲故事，他说…… \n",
      "\t\n",
      "山上有座庙，庙里有个和尚，和尚讲故事，他说…… \n",
      "\t\n",
      "山上有座庙，庙里有个和尚，和尚讲故事，他说…… \n",
      "\t\n",
      "山上有座庙，庙里有个和尚，和尚讲故事，他说…… \n",
      "\t\n",
      "山上有座庙，庙里有个和尚，和尚讲故事，他说…… \n",
      "\t\n",
      "山上有座庙，庙里有个和尚，和尚讲故事，他说…… \n",
      "\t\n",
      "山上有座庙，庙里有个和尚，和尚讲故事，他说…… \n",
      "\t\n",
      "山上有座庙，庙里有个和尚，和尚讲故事，他说…… \n",
      "\t\n",
      "山上有座庙，庙里有个和尚，和尚讲故事，他说…… \n",
      "\t\n",
      "山上有座庙，庙里有个和尚，和尚讲故事，他说…… \n",
      "\t\n",
      "山上有座庙，庙里有个和尚，和尚讲故事，他说…… \n",
      "\t\n",
      "山上有座庙，庙里有个和尚，和尚讲故事，他说…… \n",
      "\t\n",
      "山上有座庙，庙里有个和尚，和尚讲故事，他说…… \n",
      "\t\n",
      "山上有座庙，庙里有个和尚，和尚讲故事，他说…… \n",
      "\t\n",
      "山上有座庙，庙里有个和尚，和尚讲故事，他说…… \n",
      "\t\n",
      "山上有座庙，庙里有个和尚，和尚讲故事，他说…… \n",
      "\t\n",
      "山上有座庙，庙里有个和尚，和尚讲故事，他说…… \n",
      "\t\n",
      "山上有座庙，庙里有个和尚，和尚讲故事，他说…… \n",
      "\t\n",
      "山上有座庙，庙里有个和尚，和尚讲故事，他说…… \n",
      "\t\n",
      "山上有座庙，庙里有个和尚，和尚讲故事，他说…… \n",
      "\t\n",
      "山上有座庙，庙里有个和尚，和尚讲故事，他说…… \n",
      "\t\n",
      "山上有座庙，庙里有个和尚，和尚讲故事，他说…… \n",
      "\t\n",
      "山上有座庙，庙里有个和尚，和尚讲故事，他说…… \n",
      "\t\n",
      "山上有座庙，庙里有个和尚，和尚讲故事，他说…… \n",
      "\t\n",
      "山上有座庙，庙里有个和尚，和尚讲故事，他说…… \n",
      "\t\n",
      "山上有座庙，庙里有个和尚，和尚讲故事，他说…… \n",
      "\t\n",
      "山上有座庙，庙里有个和尚，和尚讲故事，他说…… \n",
      "\t\n",
      "山上有座庙，庙里有个和尚，和尚讲故事，他说…… \n",
      "\t\n",
      "山上有座庙，庙里有个和尚，和尚讲故事，他说…… \n",
      "\t\n",
      "山上有座庙，庙里有个和尚，和尚讲故事，他说…… \n",
      "\t\n",
      "山上有座庙，庙里有个和尚，和尚讲故事，他说…… \n",
      "\t\n",
      "山上有座庙，庙里有个和尚，和尚讲故事，他说…… \n",
      "\t\n",
      "山上有座庙，庙里有个和尚，和尚讲故事，他说…… \n",
      "\t\n",
      "山上有座庙，庙里有个和尚，和尚讲故事，他说…… \n",
      "\t\n",
      "山上有座庙，庙里有个和尚，和尚讲故事，他说…… \n",
      "\t\n",
      "山上有座庙，庙里有个和尚，和尚讲故事，他说…… \n",
      "\t\n",
      "山上有座庙，庙里有个和尚，和尚讲故事，他说…… \n",
      "\t\n",
      "山上有座庙，庙里有个和尚，和尚讲故事，他说…… \n",
      "\t\n",
      "山上有座庙，庙里有个和尚，和尚讲故事，他说…… \n",
      "\t\n",
      "山上有座庙，庙里有个和尚，和尚讲故事，他说…… \n",
      "\t\n",
      "山上有座庙，庙里有个和尚，和尚讲故事，他说…… \n",
      "\t\n",
      "山上有座庙，庙里有个和尚，和尚讲故事，他说…… \n",
      "\t\n",
      "山上有座庙，庙里有个和尚，和尚讲故事，他说…… \n",
      "\t\n",
      "山上有座庙，庙里有个和尚，和尚讲故事，他说…… \n",
      "\t\n",
      "山上有座庙，庙里有个和尚，和尚讲故事，他说…… \n",
      "\t\n",
      "山上有座庙，庙里有个和尚，和尚讲故事，他说…… \n",
      "\t\n",
      "山上有座庙，庙里有个和尚，和尚讲故事，他说…… \n",
      "\t\n",
      "山上有座庙，庙里有个和尚，和尚讲故事，他说…… \n",
      "\t\n",
      "山上有座庙，庙里有个和尚，和尚讲故事，他说…… \n",
      "\t\n",
      "山上有座庙，庙里有个和尚，和尚讲故事，他说…… \n",
      "\t\n",
      "山上有座庙，庙里有个和尚，和尚讲故事，他说…… \n",
      "\t\n",
      "山上有座庙，庙里有个和尚，和尚讲故事，他说…… \n",
      "\t\n",
      "山上有座庙，庙里有个和尚，和尚讲故事，他说…… \n",
      "\t\n",
      "山上有座庙，庙里有个和尚，和尚讲故事，他说…… \n",
      "\t\n",
      "山上有座庙，庙里有个和尚，和尚讲故事，他说…… \n",
      "\t\n",
      "山上有座庙，庙里有个和尚，和尚讲故事，他说…… \n",
      "\t\n",
      "山上有座庙，庙里有个和尚，和尚讲故事，他说…… \n",
      "\t\n",
      "山上有座庙，庙里有个和尚，和尚讲故事，他说…… \n",
      "\t\n",
      "山上有座庙，庙里有个和尚，和尚讲故事，他说…… \n",
      "\t\n",
      "山上有座庙，庙里有个和尚，和尚讲故事，他说…… \n",
      "\t\n",
      "山上有座庙，庙里有个和尚，和尚讲故事，他说…… \n",
      "\t\n",
      "山上有座庙，庙里有个和尚，和尚讲故事，他说…… \n",
      "\t\n",
      "山上有座庙，庙里有个和尚，和尚讲故事，他说…… \n",
      "\t\n",
      "山上有座庙，庙里有个和尚，和尚讲故事，他说…… \n",
      "\t\n",
      "山上有座庙，庙里有个和尚，和尚讲故事，他说…… \n",
      "\t\n",
      "山上有座庙，庙里有个和尚，和尚讲故事，他说…… \n",
      "\t\n",
      "山上有座庙，庙里有个和尚，和尚讲故事，他说…… \n",
      "\t\n",
      "山上有座庙，庙里有个和尚，和尚讲故事，他说…… \n",
      "\t\n",
      "山上有座庙，庙里有个和尚，和尚讲故事，他说…… \n",
      "\t\n",
      "山上有座庙，庙里有个和尚，和尚讲故事，他说…… \n",
      "\t\n",
      "山上有座庙，庙里有个和尚，和尚讲故事，他说…… \n",
      "\t\n",
      "山上有座庙，庙里有个和尚，和尚讲故事，他说…… \n",
      "\t\n",
      "山上有座庙，庙里有个和尚，和尚讲故事，他说…… \n",
      "\t\n",
      "山上有座庙，庙里有个和尚，和尚讲故事，他说…… \n",
      "\t\n",
      "山上有座庙，庙里有个和尚，和尚讲故事，他说…… \n",
      "\t\n",
      "山上有座庙，庙里有个和尚，和尚讲故事，他说…… \n",
      "\t\n",
      "山上有座庙，庙里有个和尚，和尚讲故事，他说…… \n",
      "\t\n",
      "山上有座庙，庙里有个和尚，和尚讲故事，他说…… \n",
      "\t\n",
      "山上有座庙，庙里有个和尚，和尚讲故事，他说…… \n",
      "\t\n",
      "山上有座庙，庙里有个和尚，和尚讲故事，他说…… \n",
      "\t\n",
      "山上有座庙，庙里有个和尚，和尚讲故事，他说…… \n",
      "\t\n",
      "山上有座庙，庙里有个和尚，和尚讲故事，他说…… \n",
      "\t\n",
      "山上有座庙，庙里有个和尚，和尚讲故事，他说…… \n",
      "\t\n",
      "山上有座庙，庙里有个和尚，和尚讲故事，他说…… \n",
      "\t\n",
      "山上有座庙，庙里有个和尚，和尚讲故事，他说…… \n",
      "\t\n",
      "山上有座庙，庙里有个和尚，和尚讲故事，他说…… \n",
      "\t\n",
      "山上有座庙，庙里有个和尚，和尚讲故事，他说…… \n",
      "\t\n",
      "山上有座庙，庙里有个和尚，和尚讲故事，他说…… \n",
      "\t\n",
      "山上有座庙，庙里有个和尚，和尚讲故事，他说…… \n",
      "\t\n",
      "山上有座庙，庙里有个和尚，和尚讲故事，他说…… \n",
      "\t\n",
      "山上有座庙，庙里有个和尚，和尚讲故事，他说…… \n",
      "\t\n",
      "山上有座庙，庙里有个和尚，和尚讲故事，他说…… \n",
      "\t\n",
      "山上有座庙，庙里有个和尚，和尚讲故事，他说…… \n",
      "\t\n",
      "山上有座庙，庙里有个和尚，和尚讲故事，他说…… \n",
      "\t\n",
      "山上有座庙，庙里有个和尚，和尚讲故事，他说…… \n",
      "\t\n",
      "山上有座庙，庙里有个和尚，和尚讲故事，他说…… \n",
      "\t\n",
      "山上有座庙，庙里有个和尚，和尚讲故事，他说…… \n",
      "\t\n",
      "山上有座庙，庙里有个和尚，和尚讲故事，他说…… \n",
      "\t\n",
      "山上有座庙，庙里有个和尚，和尚讲故事，他说…… \n",
      "\t\n",
      "山上有座庙，庙里有个和尚，和尚讲故事，他说…… \n",
      "\t\n",
      "山上有座庙，庙里有个和尚，和尚讲故事，他说…… \n",
      "\t\n",
      "山上有座庙，庙里有个和尚，和尚讲故事，他说…… \n",
      "\t\n",
      "山上有座庙，庙里有个和尚，和尚讲故事，他说…… \n",
      "\t\n",
      "山上有座庙，庙里有个和尚，和尚讲故事，他说…… \n",
      "\t\n",
      "山上有座庙，庙里有个和尚，和尚讲故事，他说…… \n",
      "\t\n",
      "山上有座庙，庙里有个和尚，和尚讲故事，他说…… \n",
      "\t\n",
      "山上有座庙，庙里有个和尚，和尚讲故事，他说…… \n",
      "\t\n",
      "山上有座庙，庙里有个和尚，和尚讲故事，他说…… \n",
      "\t\n",
      "山上有座庙，庙里有个和尚，和尚讲故事，他说…… \n",
      "\t\n",
      "山上有座庙，庙里有个和尚，和尚讲故事，他说…… \n",
      "\t\n",
      "山上有座庙，庙里有个和尚，和尚讲故事，他说…… \n",
      "\t\n",
      "山上有座庙，庙里有个和尚，和尚讲故事，他说…… \n",
      "\t\n",
      "山上有座庙，庙里有个和尚，和尚讲故事，他说…… \n",
      "\t\n",
      "山上有座庙，庙里有个和尚，和尚讲故事，他说…… \n",
      "\t\n",
      "山上有座庙，庙里有个和尚，和尚讲故事，他说…… \n",
      "\t\n",
      "山上有座庙，庙里有个和尚，和尚讲故事，他说…… \n",
      "\t\n",
      "山上有座庙，庙里有个和尚，和尚讲故事，他说…… \n",
      "\t\n",
      "山上有座庙，庙里有个和尚，和尚讲故事，他说…… \n",
      "\t\n",
      "山上有座庙，庙里有个和尚，和尚讲故事，他说…… \n",
      "\t\n",
      "山上有座庙，庙里有个和尚，和尚讲故事，他说…… \n",
      "\t\n",
      "山上有座庙，庙里有个和尚，和尚讲故事，他说…… \n",
      "\t\n",
      "山上有座庙，庙里有个和尚，和尚讲故事，他说…… \n",
      "\t\n",
      "山上有座庙，庙里有个和尚，和尚讲故事，他说…… \n",
      "\t\n",
      "山上有座庙，庙里有个和尚，和尚讲故事，他说…… \n",
      "\t\n",
      "山上有座庙，庙里有个和尚，和尚讲故事，他说…… \n",
      "\t\n",
      "山上有座庙，庙里有个和尚，和尚讲故事，他说…… \n",
      "\t\n",
      "山上有座庙，庙里有个和尚，和尚讲故事，他说…… \n",
      "\t\n",
      "山上有座庙，庙里有个和尚，和尚讲故事，他说…… \n",
      "\t\n",
      "山上有座庙，庙里有个和尚，和尚讲故事，他说…… \n",
      "\t\n",
      "山上有座庙，庙里有个和尚，和尚讲故事，他说…… \n",
      "\t\n",
      "山上有座庙，庙里有个和尚，和尚讲故事，他说…… \n",
      "\t\n",
      "山上有座庙，庙里有个和尚，和尚讲故事，他说…… \n",
      "\t\n",
      "山上有座庙，庙里有个和尚，和尚讲故事，他说…… \n",
      "\t\n",
      "山上有座庙，庙里有个和尚，和尚讲故事，他说…… \n",
      "\t\n",
      "山上有座庙，庙里有个和尚，和尚讲故事，他说…… \n",
      "\t\n",
      "山上有座庙，庙里有个和尚，和尚讲故事，他说…… \n",
      "\t\n",
      "山上有座庙，庙里有个和尚，和尚讲故事，他说…… \n",
      "\t\n",
      "山上有座庙，庙里有个和尚，和尚讲故事，他说…… \n",
      "\t\n",
      "山上有座庙，庙里有个和尚，和尚讲故事，他说…… \n",
      "\t\n",
      "山上有座庙，庙里有个和尚，和尚讲故事，他说…… \n",
      "\t\n",
      "山上有座庙，庙里有个和尚，和尚讲故事，他说…… \n",
      "\t\n",
      "山上有座庙，庙里有个和尚，和尚讲故事，他说…… \n",
      "\t\n",
      "山上有座庙，庙里有个和尚，和尚讲故事，他说…… \n",
      "\t\n",
      "山上有座庙，庙里有个和尚，和尚讲故事，他说…… \n",
      "\t\n",
      "山上有座庙，庙里有个和尚，和尚讲故事，他说…… \n",
      "\t\n",
      "山上有座庙，庙里有个和尚，和尚讲故事，他说…… \n",
      "\t\n",
      "山上有座庙，庙里有个和尚，和尚讲故事，他说…… \n",
      "\t\n",
      "山上有座庙，庙里有个和尚，和尚讲故事，他说…… \n",
      "\t\n",
      "山上有座庙，庙里有个和尚，和尚讲故事，他说…… \n",
      "\t\n",
      "山上有座庙，庙里有个和尚，和尚讲故事，他说…… \n",
      "\t\n",
      "山上有座庙，庙里有个和尚，和尚讲故事，他说…… \n",
      "\t\n",
      "山上有座庙，庙里有个和尚，和尚讲故事，他说…… \n",
      "\t\n",
      "山上有座庙，庙里有个和尚，和尚讲故事，他说…… \n",
      "\t\n",
      "山上有座庙，庙里有个和尚，和尚讲故事，他说…… \n",
      "\t\n",
      "山上有座庙，庙里有个和尚，和尚讲故事，他说…… \n",
      "\t\n",
      "山上有座庙，庙里有个和尚，和尚讲故事，他说…… \n",
      "\t\n",
      "山上有座庙，庙里有个和尚，和尚讲故事，他说…… \n",
      "\t\n",
      "山上有座庙，庙里有个和尚，和尚讲故事，他说…… \n",
      "\t\n",
      "山上有座庙，庙里有个和尚，和尚讲故事，他说…… \n",
      "\t\n",
      "山上有座庙，庙里有个和尚，和尚讲故事，他说…… \n",
      "\t\n",
      "山上有座庙，庙里有个和尚，和尚讲故事，他说…… \n",
      "\t\n",
      "山上有座庙，庙里有个和尚，和尚讲故事，他说…… \n",
      "\t\n",
      "山上有座庙，庙里有个和尚，和尚讲故事，他说…… \n",
      "\t\n",
      "山上有座庙，庙里有个和尚，和尚讲故事，他说…… \n",
      "\t\n",
      "山上有座庙，庙里有个和尚，和尚讲故事，他说…… \n",
      "\t\n",
      "山上有座庙，庙里有个和尚，和尚讲故事，他说…… \n",
      "\t\n",
      "山上有座庙，庙里有个和尚，和尚讲故事，他说…… \n",
      "\t\n",
      "山上有座庙，庙里有个和尚，和尚讲故事，他说…… \n",
      "\t\n",
      "山上有座庙，庙里有个和尚，和尚讲故事，他说…… \n",
      "\t\n",
      "山上有座庙，庙里有个和尚，和尚讲故事，他说…… \n",
      "\t\n",
      "山上有座庙，庙里有个和尚，和尚讲故事，他说…… \n",
      "\t\n",
      "山上有座庙，庙里有个和尚，和尚讲故事，他说…… \n",
      "\t\n",
      "山上有座庙，庙里有个和尚，和尚讲故事，他说…… \n",
      "\t\n",
      "山上有座庙，庙里有个和尚，和尚讲故事，他说…… \n",
      "\t\n",
      "山上有座庙，庙里有个和尚，和尚讲故事，他说…… \n",
      "\t\n",
      "山上有座庙，庙里有个和尚，和尚讲故事，他说…… \n",
      "\t\n",
      "山上有座庙，庙里有个和尚，和尚讲故事，他说…… \n",
      "\t\n",
      "山上有座庙，庙里有个和尚，和尚讲故事，他说…… \n",
      "\t\n",
      "山上有座庙，庙里有个和尚，和尚讲故事，他说…… \n",
      "\t\n",
      "山上有座庙，庙里有个和尚，和尚讲故事，他说…… \n",
      "\t\n",
      "山上有座庙，庙里有个和尚，和尚讲故事，他说…… \n",
      "\t\n",
      "山上有座庙，庙里有个和尚，和尚讲故事，他说…… \n",
      "\t\n",
      "山上有座庙，庙里有个和尚，和尚讲故事，他说…… \n",
      "\t\n",
      "山上有座庙，庙里有个和尚，和尚讲故事，他说…… \n",
      "\t\n",
      "山上有座庙，庙里有个和尚，和尚讲故事，他说…… \n",
      "\t\n",
      "山上有座庙，庙里有个和尚，和尚讲故事，他说…… \n",
      "\t\n",
      "山上有座庙，庙里有个和尚，和尚讲故事，他说…… \n",
      "\t\n",
      "山上有座庙，庙里有个和尚，和尚讲故事，他说…… \n",
      "\t\n",
      "山上有座庙，庙里有个和尚，和尚讲故事，他说…… \n",
      "\t\n",
      "山上有座庙，庙里有个和尚，和尚讲故事，他说…… \n",
      "\t\n",
      "山上有座庙，庙里有个和尚，和尚讲故事，他说…… \n",
      "\t\n",
      "山上有座庙，庙里有个和尚，和尚讲故事，他说…… \n",
      "\t\n",
      "山上有座庙，庙里有个和尚，和尚讲故事，他说…… \n",
      "\t\n",
      "山上有座庙，庙里有个和尚，和尚讲故事，他说…… \n",
      "\t\n",
      "山上有座庙，庙里有个和尚，和尚讲故事，他说…… \n",
      "\t\n",
      "山上有座庙，庙里有个和尚，和尚讲故事，他说…… \n",
      "\t\n",
      "山上有座庙，庙里有个和尚，和尚讲故事，他说…… \n",
      "\t\n",
      "山上有座庙，庙里有个和尚，和尚讲故事，他说…… \n",
      "\t\n",
      "山上有座庙，庙里有个和尚，和尚讲故事，他说…… \n",
      "\t\n",
      "山上有座庙，庙里有个和尚，和尚讲故事，他说…… \n",
      "\t\n",
      "山上有座庙，庙里有个和尚，和尚讲故事，他说…… \n",
      "\t\n",
      "山上有座庙，庙里有个和尚，和尚讲故事，他说…… \n",
      "\t\n",
      "山上有座庙，庙里有个和尚，和尚讲故事，他说…… \n",
      "\t\n",
      "山上有座庙，庙里有个和尚，和尚讲故事，他说…… \n",
      "\t\n",
      "山上有座庙，庙里有个和尚，和尚讲故事，他说…… \n",
      "\t\n",
      "山上有座庙，庙里有个和尚，和尚讲故事，他说…… \n",
      "\t\n",
      "山上有座庙，庙里有个和尚，和尚讲故事，他说…… \n",
      "\t\n",
      "山上有座庙，庙里有个和尚，和尚讲故事，他说…… \n",
      "\t\n",
      "山上有座庙，庙里有个和尚，和尚讲故事，他说…… \n",
      "\t\n",
      "山上有座庙，庙里有个和尚，和尚讲故事，他说…… \n",
      "\t\n",
      "山上有座庙，庙里有个和尚，和尚讲故事，他说…… \n",
      "\t\n",
      "山上有座庙，庙里有个和尚，和尚讲故事，他说…… \n",
      "\t\n",
      "山上有座庙，庙里有个和尚，和尚讲故事，他说…… \n",
      "\t\n",
      "山上有座庙，庙里有个和尚，和尚讲故事，他说…… \n",
      "\t\n",
      "山上有座庙，庙里有个和尚，和尚讲故事，他说…… \n",
      "\t\n",
      "山上有座庙，庙里有个和尚，和尚讲故事，他说…… \n",
      "\t\n",
      "山上有座庙，庙里有个和尚，和尚讲故事，他说…… \n",
      "\t\n",
      "山上有座庙，庙里有个和尚，和尚讲故事，他说…… \n",
      "\t\n",
      "山上有座庙，庙里有个和尚，和尚讲故事，他说…… \n",
      "\t\n",
      "山上有座庙，庙里有个和尚，和尚讲故事，他说…… \n",
      "\t\n",
      "山上有座庙，庙里有个和尚，和尚讲故事，他说…… \n",
      "\t\n",
      "山上有座庙，庙里有个和尚，和尚讲故事，他说…… \n",
      "\t\n",
      "山上有座庙，庙里有个和尚，和尚讲故事，他说…… \n",
      "\t\n",
      "山上有座庙，庙里有个和尚，和尚讲故事，他说…… \n",
      "\t\n",
      "山上有座庙，庙里有个和尚，和尚讲故事，他说…… \n",
      "\t\n",
      "山上有座庙，庙里有个和尚，和尚讲故事，他说…… \n",
      "\t\n",
      "山上有座庙，庙里有个和尚，和尚讲故事，他说…… \n",
      "\t\n",
      "山上有座庙，庙里有个和尚，和尚讲故事，他说…… \n",
      "\t\n",
      "山上有座庙，庙里有个和尚，和尚讲故事，他说…… \n",
      "\t\n",
      "山上有座庙，庙里有个和尚，和尚讲故事，他说…… \n",
      "\t\n",
      "山上有座庙，庙里有个和尚，和尚讲故事，他说…… \n",
      "\t\n",
      "山上有座庙，庙里有个和尚，和尚讲故事，他说…… \n",
      "\t\n",
      "山上有座庙，庙里有个和尚，和尚讲故事，他说…… \n",
      "\t\n",
      "山上有座庙，庙里有个和尚，和尚讲故事，他说…… \n",
      "\t\n",
      "山上有座庙，庙里有个和尚，和尚讲故事，他说…… \n",
      "\t\n",
      "山上有座庙，庙里有个和尚，和尚讲故事，他说…… \n",
      "\t\n",
      "山上有座庙，庙里有个和尚，和尚讲故事，他说…… \n",
      "\t\n",
      "山上有座庙，庙里有个和尚，和尚讲故事，他说…… \n",
      "\t\n",
      "山上有座庙，庙里有个和尚，和尚讲故事，他说…… \n",
      "\t\n",
      "山上有座庙，庙里有个和尚，和尚讲故事，他说…… \n",
      "\t\n",
      "山上有座庙，庙里有个和尚，和尚讲故事，他说…… \n",
      "\t\n",
      "山上有座庙，庙里有个和尚，和尚讲故事，他说…… \n",
      "\t\n",
      "山上有座庙，庙里有个和尚，和尚讲故事，他说…… \n",
      "\t\n",
      "山上有座庙，庙里有个和尚，和尚讲故事，他说…… \n",
      "\t\n",
      "山上有座庙，庙里有个和尚，和尚讲故事，他说…… \n",
      "\t\n",
      "山上有座庙，庙里有个和尚，和尚讲故事，他说…… \n",
      "\t\n",
      "山上有座庙，庙里有个和尚，和尚讲故事，他说…… \n",
      "\t\n",
      "山上有座庙，庙里有个和尚，和尚讲故事，他说…… \n",
      "\t\n",
      "山上有座庙，庙里有个和尚，和尚讲故事，他说…… \n",
      "\t\n",
      "山上有座庙，庙里有个和尚，和尚讲故事，他说…… \n",
      "\t\n",
      "山上有座庙，庙里有个和尚，和尚讲故事，他说…… \n",
      "\t\n",
      "山上有座庙，庙里有个和尚，和尚讲故事，他说…… \n",
      "\t\n",
      "山上有座庙，庙里有个和尚，和尚讲故事，他说…… \n",
      "\t\n",
      "山上有座庙，庙里有个和尚，和尚讲故事，他说…… \n",
      "\t\n",
      "山上有座庙，庙里有个和尚，和尚讲故事，他说…… \n",
      "\t\n",
      "山上有座庙，庙里有个和尚，和尚讲故事，他说…… \n",
      "\t\n",
      "山上有座庙，庙里有个和尚，和尚讲故事，他说…… \n",
      "\t\n",
      "山上有座庙，庙里有个和尚，和尚讲故事，他说…… \n",
      "\t\n",
      "山上有座庙，庙里有个和尚，和尚讲故事，他说…… \n",
      "\t\n",
      "山上有座庙，庙里有个和尚，和尚讲故事，他说…… \n",
      "\t\n",
      "山上有座庙，庙里有个和尚，和尚讲故事，他说…… \n",
      "\t\n",
      "山上有座庙，庙里有个和尚，和尚讲故事，他说…… \n",
      "\t\n",
      "山上有座庙，庙里有个和尚，和尚讲故事，他说…… \n",
      "\t\n",
      "山上有座庙，庙里有个和尚，和尚讲故事，他说…… \n",
      "\t\n",
      "山上有座庙，庙里有个和尚，和尚讲故事，他说…… \n",
      "\t\n",
      "山上有座庙，庙里有个和尚，和尚讲故事，他说…… \n",
      "\t\n",
      "山上有座庙，庙里有个和尚，和尚讲故事，他说…… \n",
      "\t\n",
      "山上有座庙，庙里有个和尚，和尚讲故事，他说…… \n",
      "\t\n",
      "山上有座庙，庙里有个和尚，和尚讲故事，他说…… \n",
      "\t\n",
      "山上有座庙，庙里有个和尚，和尚讲故事，他说…… \n",
      "\t\n",
      "山上有座庙，庙里有个和尚，和尚讲故事，他说…… \n",
      "\t\n",
      "山上有座庙，庙里有个和尚，和尚讲故事，他说…… \n",
      "\t\n",
      "山上有座庙，庙里有个和尚，和尚讲故事，他说…… \n",
      "\t\n",
      "山上有座庙，庙里有个和尚，和尚讲故事，他说…… \n",
      "\t\n",
      "山上有座庙，庙里有个和尚，和尚讲故事，他说…… \n",
      "\t\n",
      "山上有座庙，庙里有个和尚，和尚讲故事，他说…… \n",
      "\t\n",
      "山上有座庙，庙里有个和尚，和尚讲故事，他说…… \n",
      "\t\n",
      "山上有座庙，庙里有个和尚，和尚讲故事，他说…… \n",
      "\t\n",
      "山上有座庙，庙里有个和尚，和尚讲故事，他说…… \n",
      "\t\n",
      "山上有座庙，庙里有个和尚，和尚讲故事，他说…… \n",
      "\t\n",
      "山上有座庙，庙里有个和尚，和尚讲故事，他说…… \n",
      "\t\n",
      "山上有座庙，庙里有个和尚，和尚讲故事，他说…… \n",
      "\t\n",
      "山上有座庙，庙里有个和尚，和尚讲故事，他说…… \n",
      "\t\n",
      "山上有座庙，庙里有个和尚，和尚讲故事，他说…… \n",
      "\t\n",
      "山上有座庙，庙里有个和尚，和尚讲故事，他说…… \n",
      "\t\n",
      "山上有座庙，庙里有个和尚，和尚讲故事，他说…… \n",
      "\t\n",
      "山上有座庙，庙里有个和尚，和尚讲故事，他说…… \n",
      "\t\n",
      "山上有座庙，庙里有个和尚，和尚讲故事，他说…… \n",
      "\t\n",
      "山上有座庙，庙里有个和尚，和尚讲故事，他说…… \n",
      "\t\n",
      "山上有座庙，庙里有个和尚，和尚讲故事，他说…… \n",
      "\t\n",
      "山上有座庙，庙里有个和尚，和尚讲故事，他说…… \n",
      "\t\n",
      "山上有座庙，庙里有个和尚，和尚讲故事，他说…… \n",
      "\t\n",
      "山上有座庙，庙里有个和尚，和尚讲故事，他说…… \n",
      "\t\n",
      "山上有座庙，庙里有个和尚，和尚讲故事，他说…… \n",
      "\t\n",
      "山上有座庙，庙里有个和尚，和尚讲故事，他说…… \n",
      "\t\n",
      "山上有座庙，庙里有个和尚，和尚讲故事，他说…… \n",
      "\t\n",
      "山上有座庙，庙里有个和尚，和尚讲故事，他说…… \n",
      "\t\n",
      "山上有座庙，庙里有个和尚，和尚讲故事，他说…… \n",
      "\t\n",
      "山上有座庙，庙里有个和尚，和尚讲故事，他说…… \n",
      "\t\n",
      "山上有座庙，庙里有个和尚，和尚讲故事，他说…… \n",
      "\t\n",
      "山上有座庙，庙里有个和尚，和尚讲故事，他说…… \n",
      "\t\n",
      "山上有座庙，庙里有个和尚，和尚讲故事，他说…… \n",
      "\t\n",
      "山上有座庙，庙里有个和尚，和尚讲故事，他说…… \n",
      "\t\n",
      "山上有座庙，庙里有个和尚，和尚讲故事，他说…… \n",
      "\t\n",
      "山上有座庙，庙里有个和尚，和尚讲故事，他说…… \n",
      "\t\n",
      "山上有座庙，庙里有个和尚，和尚讲故事，他说…… \n",
      "\t\n",
      "山上有座庙，庙里有个和尚，和尚讲故事，他说…… \n",
      "\t\n",
      "山上有座庙，庙里有个和尚，和尚讲故事，他说…… \n",
      "\t\n",
      "山上有座庙，庙里有个和尚，和尚讲故事，他说…… \n",
      "\t\n",
      "山上有座庙，庙里有个和尚，和尚讲故事，他说…… \n",
      "\t\n",
      "山上有座庙，庙里有个和尚，和尚讲故事，他说…… \n",
      "\t\n",
      "山上有座庙，庙里有个和尚，和尚讲故事，他说…… \n",
      "\t\n",
      "山上有座庙，庙里有个和尚，和尚讲故事，他说…… \n",
      "\t\n",
      "山上有座庙，庙里有个和尚，和尚讲故事，他说…… \n",
      "\t\n",
      "山上有座庙，庙里有个和尚，和尚讲故事，他说…… \n",
      "\t\n",
      "山上有座庙，庙里有个和尚，和尚讲故事，他说…… \n",
      "\t\n",
      "山上有座庙，庙里有个和尚，和尚讲故事，他说…… \n",
      "\t\n",
      "山上有座庙，庙里有个和尚，和尚讲故事，他说…… \n",
      "\t\n",
      "山上有座庙，庙里有个和尚，和尚讲故事，他说…… \n",
      "\t\n",
      "山上有座庙，庙里有个和尚，和尚讲故事，他说…… \n",
      "\t\n",
      "山上有座庙，庙里有个和尚，和尚讲故事，他说…… \n",
      "\t\n",
      "山上有座庙，庙里有个和尚，和尚讲故事，他说…… \n",
      "\t\n",
      "山上有座庙，庙里有个和尚，和尚讲故事，他说…… \n",
      "\t\n",
      "山上有座庙，庙里有个和尚，和尚讲故事，他说…… \n",
      "\t\n",
      "山上有座庙，庙里有个和尚，和尚讲故事，他说…… \n",
      "\t\n",
      "山上有座庙，庙里有个和尚，和尚讲故事，他说…… \n",
      "\t\n",
      "山上有座庙，庙里有个和尚，和尚讲故事，他说…… \n",
      "\t\n",
      "山上有座庙，庙里有个和尚，和尚讲故事，他说…… \n",
      "\t\n",
      "山上有座庙，庙里有个和尚，和尚讲故事，他说…… \n",
      "\t\n",
      "山上有座庙，庙里有个和尚，和尚讲故事，他说…… \n",
      "\t\n",
      "山上有座庙，庙里有个和尚，和尚讲故事，他说…… \n",
      "\t\n",
      "山上有座庙，庙里有个和尚，和尚讲故事，他说…… \n",
      "\t\n",
      "山上有座庙，庙里有个和尚，和尚讲故事，他说…… \n",
      "\t\n",
      "山上有座庙，庙里有个和尚，和尚讲故事，他说…… \n",
      "\t\n",
      "山上有座庙，庙里有个和尚，和尚讲故事，他说…… \n",
      "\t\n",
      "山上有座庙，庙里有个和尚，和尚讲故事，他说…… \n",
      "\t\n",
      "山上有座庙，庙里有个和尚，和尚讲故事，他说…… \n",
      "\t\n",
      "山上有座庙，庙里有个和尚，和尚讲故事，他说…… \n",
      "\t\n",
      "山上有座庙，庙里有个和尚，和尚讲故事，他说…… \n",
      "\t\n",
      "山上有座庙，庙里有个和尚，和尚讲故事，他说…… \n",
      "\t\n",
      "山上有座庙，庙里有个和尚，和尚讲故事，他说…… \n",
      "\t\n",
      "山上有座庙，庙里有个和尚，和尚讲故事，他说…… \n",
      "\t\n",
      "山上有座庙，庙里有个和尚，和尚讲故事，他说…… \n",
      "\t\n",
      "山上有座庙，庙里有个和尚，和尚讲故事，他说…… \n",
      "\t\n",
      "山上有座庙，庙里有个和尚，和尚讲故事，他说…… \n",
      "\t\n",
      "山上有座庙，庙里有个和尚，和尚讲故事，他说…… \n",
      "\t\n",
      "山上有座庙，庙里有个和尚，和尚讲故事，他说…… \n",
      "\t\n",
      "山上有座庙，庙里有个和尚，和尚讲故事，他说…… \n",
      "\t\n",
      "山上有座庙，庙里有个和尚，和尚讲故事，他说…… \n",
      "\t\n",
      "山上有座庙，庙里有个和尚，和尚讲故事，他说…… \n",
      "\t\n",
      "山上有座庙，庙里有个和尚，和尚讲故事，他说…… \n",
      "\t\n",
      "山上有座庙，庙里有个和尚，和尚讲故事，他说…… \n",
      "\t\n",
      "山上有座庙，庙里有个和尚，和尚讲故事，他说…… \n",
      "\t\n",
      "山上有座庙，庙里有个和尚，和尚讲故事，他说…… \n",
      "\t\n",
      "山上有座庙，庙里有个和尚，和尚讲故事，他说…… \n",
      "\t\n",
      "山上有座庙，庙里有个和尚，和尚讲故事，他说…… \n",
      "\t\n",
      "山上有座庙，庙里有个和尚，和尚讲故事，他说…… \n",
      "\t\n",
      "山上有座庙，庙里有个和尚，和尚讲故事，他说…… \n",
      "\t\n",
      "山上有座庙，庙里有个和尚，和尚讲故事，他说…… \n",
      "\t\n",
      "山上有座庙，庙里有个和尚，和尚讲故事，他说…… \n",
      "\t\n",
      "山上有座庙，庙里有个和尚，和尚讲故事，他说…… \n",
      "\t\n",
      "山上有座庙，庙里有个和尚，和尚讲故事，他说…… \n",
      "\t\n",
      "山上有座庙，庙里有个和尚，和尚讲故事，他说…… \n",
      "\t\n",
      "山上有座庙，庙里有个和尚，和尚讲故事，他说…… \n",
      "\t\n",
      "山上有座庙，庙里有个和尚，和尚讲故事，他说…… \n",
      "\t\n",
      "山上有座庙，庙里有个和尚，和尚讲故事，他说…… \n",
      "\t\n",
      "山上有座庙，庙里有个和尚，和尚讲故事，他说…… \n",
      "\t\n",
      "山上有座庙，庙里有个和尚，和尚讲故事，他说…… \n",
      "\t\n",
      "山上有座庙，庙里有个和尚，和尚讲故事，他说…… \n",
      "\t\n",
      "山上有座庙，庙里有个和尚，和尚讲故事，他说…… \n",
      "\t\n",
      "山上有座庙，庙里有个和尚，和尚讲故事，他说…… \n",
      "\t\n",
      "山上有座庙，庙里有个和尚，和尚讲故事，他说…… \n",
      "\t\n",
      "山上有座庙，庙里有个和尚，和尚讲故事，他说…… \n",
      "\t\n",
      "山上有座庙，庙里有个和尚，和尚讲故事，他说…… \n",
      "\t\n",
      "山上有座庙，庙里有个和尚，和尚讲故事，他说…… \n",
      "\t\n",
      "山上有座庙，庙里有个和尚，和尚讲故事，他说…… \n",
      "\t\n",
      "山上有座庙，庙里有个和尚，和尚讲故事，他说…… \n",
      "\t\n",
      "山上有座庙，庙里有个和尚，和尚讲故事，他说…… \n",
      "\t\n",
      "山上有座庙，庙里有个和尚，和尚讲故事，他说…… \n",
      "\t\n",
      "山上有座庙，庙里有个和尚，和尚讲故事，他说…… \n",
      "\t\n",
      "山上有座庙，庙里有个和尚，和尚讲故事，他说…… \n",
      "\t\n",
      "山上有座庙，庙里有个和尚，和尚讲故事，他说…… \n",
      "\t\n",
      "山上有座庙，庙里有个和尚，和尚讲故事，他说…… \n",
      "\t\n",
      "山上有座庙，庙里有个和尚，和尚讲故事，他说…… \n",
      "\t\n",
      "山上有座庙，庙里有个和尚，和尚讲故事，他说…… \n",
      "\t\n",
      "山上有座庙，庙里有个和尚，和尚讲故事，他说…… \n",
      "\t\n",
      "山上有座庙，庙里有个和尚，和尚讲故事，他说…… \n",
      "\t\n",
      "山上有座庙，庙里有个和尚，和尚讲故事，他说…… \n",
      "\t\n",
      "山上有座庙，庙里有个和尚，和尚讲故事，他说…… \n",
      "\t\n",
      "山上有座庙，庙里有个和尚，和尚讲故事，他说…… \n",
      "\t\n",
      "山上有座庙，庙里有个和尚，和尚讲故事，他说…… \n",
      "\t\n",
      "山上有座庙，庙里有个和尚，和尚讲故事，他说…… \n",
      "\t\n",
      "山上有座庙，庙里有个和尚，和尚讲故事，他说…… \n",
      "\t\n",
      "山上有座庙，庙里有个和尚，和尚讲故事，他说…… \n",
      "\t\n",
      "山上有座庙，庙里有个和尚，和尚讲故事，他说…… \n",
      "\t\n",
      "山上有座庙，庙里有个和尚，和尚讲故事，他说…… \n",
      "\t\n",
      "山上有座庙，庙里有个和尚，和尚讲故事，他说…… \n",
      "\t\n",
      "山上有座庙，庙里有个和尚，和尚讲故事，他说…… \n",
      "\t\n",
      "山上有座庙，庙里有个和尚，和尚讲故事，他说…… \n",
      "\t\n",
      "山上有座庙，庙里有个和尚，和尚讲故事，他说…… \n",
      "\t\n",
      "山上有座庙，庙里有个和尚，和尚讲故事，他说…… \n",
      "\t\n",
      "山上有座庙，庙里有个和尚，和尚讲故事，他说…… \n",
      "\t\n",
      "山上有座庙，庙里有个和尚，和尚讲故事，他说…… \n",
      "\t\n",
      "山上有座庙，庙里有个和尚，和尚讲故事，他说…… \n",
      "\t\n",
      "山上有座庙，庙里有个和尚，和尚讲故事，他说…… \n",
      "\t\n",
      "山上有座庙，庙里有个和尚，和尚讲故事，他说…… \n",
      "\t\n",
      "山上有座庙，庙里有个和尚，和尚讲故事，他说…… \n",
      "\t\n",
      "山上有座庙，庙里有个和尚，和尚讲故事，他说…… \n",
      "\t\n",
      "山上有座庙，庙里有个和尚，和尚讲故事，他说…… \n",
      "\t\n",
      "山上有座庙，庙里有个和尚，和尚讲故事，他说…… \n",
      "\t\n",
      "山上有座庙，庙里有个和尚，和尚讲故事，他说…… \n",
      "\t\n",
      "山上有座庙，庙里有个和尚，和尚讲故事，他说…… \n",
      "\t\n",
      "山上有座庙，庙里有个和尚，和尚讲故事，他说…… \n",
      "\t\n",
      "山上有座庙，庙里有个和尚，和尚讲故事，他说…… \n",
      "\t\n",
      "山上有座庙，庙里有个和尚，和尚讲故事，他说…… \n",
      "\t\n",
      "山上有座庙，庙里有个和尚，和尚讲故事，他说…… \n",
      "\t\n",
      "山上有座庙，庙里有个和尚，和尚讲故事，他说…… \n",
      "\t\n",
      "山上有座庙，庙里有个和尚，和尚讲故事，他说…… \n",
      "\t\n",
      "山上有座庙，庙里有个和尚，和尚讲故事，他说…… \n",
      "\t\n",
      "山上有座庙，庙里有个和尚，和尚讲故事，他说…… \n",
      "\t\n",
      "山上有座庙，庙里有个和尚，和尚讲故事，他说…… \n",
      "\t\n",
      "山上有座庙，庙里有个和尚，和尚讲故事，他说…… \n",
      "\t\n",
      "山上有座庙，庙里有个和尚，和尚讲故事，他说…… \n",
      "\t\n",
      "山上有座庙，庙里有个和尚，和尚讲故事，他说…… \n",
      "\t\n",
      "山上有座庙，庙里有个和尚，和尚讲故事，他说…… \n",
      "\t\n",
      "山上有座庙，庙里有个和尚，和尚讲故事，他说…… \n",
      "\t\n",
      "山上有座庙，庙里有个和尚，和尚讲故事，他说…… \n",
      "\t\n",
      "山上有座庙，庙里有个和尚，和尚讲故事，他说…… \n",
      "\t\n",
      "山上有座庙，庙里有个和尚，和尚讲故事，他说…… \n",
      "\t\n",
      "山上有座庙，庙里有个和尚，和尚讲故事，他说…… \n",
      "\t\n",
      "山上有座庙，庙里有个和尚，和尚讲故事，他说…… \n",
      "\t\n",
      "山上有座庙，庙里有个和尚，和尚讲故事，他说…… \n",
      "\t\n",
      "山上有座庙，庙里有个和尚，和尚讲故事，他说…… \n",
      "\t\n",
      "山上有座庙，庙里有个和尚，和尚讲故事，他说…… \n",
      "\t\n",
      "山上有座庙，庙里有个和尚，和尚讲故事，他说…… \n",
      "\t\n",
      "山上有座庙，庙里有个和尚，和尚讲故事，他说…… \n",
      "\t\n",
      "山上有座庙，庙里有个和尚，和尚讲故事，他说…… \n",
      "\t\n",
      "山上有座庙，庙里有个和尚，和尚讲故事，他说…… \n",
      "\t\n",
      "山上有座庙，庙里有个和尚，和尚讲故事，他说…… \n",
      "\t\n",
      "山上有座庙，庙里有个和尚，和尚讲故事，他说…… \n",
      "\t\n",
      "山上有座庙，庙里有个和尚，和尚讲故事，他说…… \n",
      "\t\n",
      "山上有座庙，庙里有个和尚，和尚讲故事，他说…… \n",
      "\t\n",
      "山上有座庙，庙里有个和尚，和尚讲故事，他说…… \n",
      "\t\n",
      "山上有座庙，庙里有个和尚，和尚讲故事，他说…… \n",
      "\t\n",
      "山上有座庙，庙里有个和尚，和尚讲故事，他说…… \n",
      "\t\n",
      "山上有座庙，庙里有个和尚，和尚讲故事，他说…… \n",
      "\t\n",
      "山上有座庙，庙里有个和尚，和尚讲故事，他说…… \n",
      "\t\n",
      "山上有座庙，庙里有个和尚，和尚讲故事，他说…… \n",
      "\t\n",
      "山上有座庙，庙里有个和尚，和尚讲故事，他说…… \n",
      "\t\n",
      "山上有座庙，庙里有个和尚，和尚讲故事，他说…… \n",
      "\t\n",
      "山上有座庙，庙里有个和尚，和尚讲故事，他说…… \n",
      "\t\n",
      "山上有座庙，庙里有个和尚，和尚讲故事，他说…… \n",
      "\t\n",
      "山上有座庙，庙里有个和尚，和尚讲故事，他说…… \n",
      "\t\n",
      "山上有座庙，庙里有个和尚，和尚讲故事，他说…… \n",
      "\t\n",
      "山上有座庙，庙里有个和尚，和尚讲故事，他说…… \n",
      "\t\n",
      "山上有座庙，庙里有个和尚，和尚讲故事，他说…… \n",
      "\t\n",
      "山上有座庙，庙里有个和尚，和尚讲故事，他说…… \n",
      "\t\n",
      "山上有座庙，庙里有个和尚，和尚讲故事，他说…… \n",
      "\t\n",
      "山上有座庙，庙里有个和尚，和尚讲故事，他说…… \n",
      "\t\n",
      "山上有座庙，庙里有个和尚，和尚讲故事，他说…… \n",
      "\t\n",
      "山上有座庙，庙里有个和尚，和尚讲故事，他说…… \n",
      "\t\n",
      "山上有座庙，庙里有个和尚，和尚讲故事，他说…… \n",
      "\t\n",
      "山上有座庙，庙里有个和尚，和尚讲故事，他说…… \n",
      "\t\n",
      "山上有座庙，庙里有个和尚，和尚讲故事，他说…… \n",
      "\t\n",
      "山上有座庙，庙里有个和尚，和尚讲故事，他说…… \n",
      "\t\n",
      "山上有座庙，庙里有个和尚，和尚讲故事，他说…… \n",
      "\t\n",
      "山上有座庙，庙里有个和尚，和尚讲故事，他说…… \n",
      "\t\n",
      "山上有座庙，庙里有个和尚，和尚讲故事，他说…… \n",
      "\t\n",
      "山上有座庙，庙里有个和尚，和尚讲故事，他说…… \n",
      "\t\n",
      "山上有座庙，庙里有个和尚，和尚讲故事，他说…… \n",
      "\t\n",
      "山上有座庙，庙里有个和尚，和尚讲故事，他说…… \n",
      "\t\n",
      "山上有座庙，庙里有个和尚，和尚讲故事，他说…… \n",
      "\t\n",
      "山上有座庙，庙里有个和尚，和尚讲故事，他说…… \n",
      "\t\n",
      "山上有座庙，庙里有个和尚，和尚讲故事，他说…… \n",
      "\t\n",
      "山上有座庙，庙里有个和尚，和尚讲故事，他说…… \n",
      "\t\n",
      "山上有座庙，庙里有个和尚，和尚讲故事，他说…… \n",
      "\t\n",
      "山上有座庙，庙里有个和尚，和尚讲故事，他说…… \n",
      "\t\n",
      "山上有座庙，庙里有个和尚，和尚讲故事，他说…… \n",
      "\t\n",
      "山上有座庙，庙里有个和尚，和尚讲故事，他说…… \n",
      "\t\n",
      "山上有座庙，庙里有个和尚，和尚讲故事，他说…… \n",
      "\t\n",
      "山上有座庙，庙里有个和尚，和尚讲故事，他说…… \n",
      "\t\n",
      "山上有座庙，庙里有个和尚，和尚讲故事，他说…… \n",
      "\t\n",
      "山上有座庙，庙里有个和尚，和尚讲故事，他说…… \n",
      "\t\n",
      "山上有座庙，庙里有个和尚，和尚讲故事，他说…… \n",
      "\t\n",
      "山上有座庙，庙里有个和尚，和尚讲故事，他说…… \n",
      "\t\n",
      "山上有座庙，庙里有个和尚，和尚讲故事，他说…… \n",
      "\t\n",
      "山上有座庙，庙里有个和尚，和尚讲故事，他说…… \n",
      "\t\n",
      "山上有座庙，庙里有个和尚，和尚讲故事，他说…… \n",
      "\t\n",
      "山上有座庙，庙里有个和尚，和尚讲故事，他说…… \n",
      "\t\n",
      "山上有座庙，庙里有个和尚，和尚讲故事，他说…… \n",
      "\t\n",
      "山上有座庙，庙里有个和尚，和尚讲故事，他说…… \n",
      "\t\n",
      "山上有座庙，庙里有个和尚，和尚讲故事，他说…… \n",
      "\t\n",
      "山上有座庙，庙里有个和尚，和尚讲故事，他说…… \n",
      "\t\n",
      "山上有座庙，庙里有个和尚，和尚讲故事，他说…… \n",
      "\t\n",
      "山上有座庙，庙里有个和尚，和尚讲故事，他说…… \n",
      "\t\n",
      "山上有座庙，庙里有个和尚，和尚讲故事，他说…… \n",
      "\t\n",
      "山上有座庙，庙里有个和尚，和尚讲故事，他说…… \n",
      "\t\n",
      "山上有座庙，庙里有个和尚，和尚讲故事，他说…… \n",
      "\t\n",
      "山上有座庙，庙里有个和尚，和尚讲故事，他说…… \n",
      "\t\n",
      "山上有座庙，庙里有个和尚，和尚讲故事，他说…… \n",
      "\t\n",
      "山上有座庙，庙里有个和尚，和尚讲故事，他说…… \n",
      "\t\n",
      "山上有座庙，庙里有个和尚，和尚讲故事，他说…… \n",
      "\t\n",
      "山上有座庙，庙里有个和尚，和尚讲故事，他说…… \n",
      "\t\n",
      "山上有座庙，庙里有个和尚，和尚讲故事，他说…… \n",
      "\t\n",
      "山上有座庙，庙里有个和尚，和尚讲故事，他说…… \n",
      "\t\n",
      "山上有座庙，庙里有个和尚，和尚讲故事，他说…… \n",
      "\t\n",
      "山上有座庙，庙里有个和尚，和尚讲故事，他说…… \n",
      "\t\n",
      "山上有座庙，庙里有个和尚，和尚讲故事，他说…… \n",
      "\t\n",
      "山上有座庙，庙里有个和尚，和尚讲故事，他说…… \n",
      "\t\n",
      "山上有座庙，庙里有个和尚，和尚讲故事，他说…… \n",
      "\t\n",
      "山上有座庙，庙里有个和尚，和尚讲故事，他说…… \n",
      "\t\n",
      "山上有座庙，庙里有个和尚，和尚讲故事，他说…… \n",
      "\t\n",
      "山上有座庙，庙里有个和尚，和尚讲故事，他说…… \n",
      "\t\n",
      "山上有座庙，庙里有个和尚，和尚讲故事，他说…… \n",
      "\t\n",
      "山上有座庙，庙里有个和尚，和尚讲故事，他说…… \n",
      "\t\n",
      "山上有座庙，庙里有个和尚，和尚讲故事，他说…… \n",
      "\t\n",
      "山上有座庙，庙里有个和尚，和尚讲故事，他说…… \n",
      "\t\n",
      "山上有座庙，庙里有个和尚，和尚讲故事，他说…… \n",
      "\t\n",
      "山上有座庙，庙里有个和尚，和尚讲故事，他说…… \n",
      "\t\n",
      "山上有座庙，庙里有个和尚，和尚讲故事，他说…… \n",
      "\t\n",
      "山上有座庙，庙里有个和尚，和尚讲故事，他说…… \n",
      "\t\n",
      "山上有座庙，庙里有个和尚，和尚讲故事，他说…… \n",
      "\t\n",
      "山上有座庙，庙里有个和尚，和尚讲故事，他说…… \n",
      "\t\n",
      "山上有座庙，庙里有个和尚，和尚讲故事，他说…… \n",
      "\t\n",
      "山上有座庙，庙里有个和尚，和尚讲故事，他说…… \n",
      "\t\n",
      "山上有座庙，庙里有个和尚，和尚讲故事，他说…… \n",
      "\t\n",
      "山上有座庙，庙里有个和尚，和尚讲故事，他说…… \n",
      "\t\n",
      "山上有座庙，庙里有个和尚，和尚讲故事，他说…… \n",
      "\t\n",
      "山上有座庙，庙里有个和尚，和尚讲故事，他说…… \n",
      "\t\n",
      "山上有座庙，庙里有个和尚，和尚讲故事，他说…… \n",
      "\t\n",
      "山上有座庙，庙里有个和尚，和尚讲故事，他说…… \n",
      "\t\n",
      "山上有座庙，庙里有个和尚，和尚讲故事，他说…… \n",
      "\t\n",
      "山上有座庙，庙里有个和尚，和尚讲故事，他说…… \n",
      "\t\n",
      "山上有座庙，庙里有个和尚，和尚讲故事，他说…… \n",
      "\t\n",
      "山上有座庙，庙里有个和尚，和尚讲故事，他说…… \n",
      "\t\n",
      "山上有座庙，庙里有个和尚，和尚讲故事，他说…… \n",
      "\t\n",
      "山上有座庙，庙里有个和尚，和尚讲故事，他说…… \n",
      "\t\n",
      "山上有座庙，庙里有个和尚，和尚讲故事，他说…… \n",
      "\t\n",
      "山上有座庙，庙里有个和尚，和尚讲故事，他说…… \n",
      "\t\n",
      "山上有座庙，庙里有个和尚，和尚讲故事，他说…… \n",
      "\t\n",
      "山上有座庙，庙里有个和尚，和尚讲故事，他说…… \n",
      "\t\n",
      "山上有座庙，庙里有个和尚，和尚讲故事，他说…… \n",
      "\t\n",
      "山上有座庙，庙里有个和尚，和尚讲故事，他说…… \n",
      "\t\n",
      "山上有座庙，庙里有个和尚，和尚讲故事，他说…… \n",
      "\t\n",
      "山上有座庙，庙里有个和尚，和尚讲故事，他说…… \n",
      "\t\n",
      "山上有座庙，庙里有个和尚，和尚讲故事，他说…… \n",
      "\t\n",
      "山上有座庙，庙里有个和尚，和尚讲故事，他说…… \n",
      "\t\n",
      "山上有座庙，庙里有个和尚，和尚讲故事，他说…… \n",
      "\t\n",
      "山上有座庙，庙里有个和尚，和尚讲故事，他说…… \n",
      "\t\n",
      "山上有座庙，庙里有个和尚，和尚讲故事，他说…… \n",
      "\t\n",
      "山上有座庙，庙里有个和尚，和尚讲故事，他说…… \n",
      "\t\n",
      "山上有座庙，庙里有个和尚，和尚讲故事，他说…… \n",
      "\t\n",
      "山上有座庙，庙里有个和尚，和尚讲故事，他说…… \n",
      "\t\n",
      "山上有座庙，庙里有个和尚，和尚讲故事，他说…… \n",
      "\t\n",
      "山上有座庙，庙里有个和尚，和尚讲故事，他说…… \n",
      "\t\n",
      "山上有座庙，庙里有个和尚，和尚讲故事，他说…… \n",
      "\t\n",
      "山上有座庙，庙里有个和尚，和尚讲故事，他说…… \n",
      "\t\n",
      "山上有座庙，庙里有个和尚，和尚讲故事，他说…… \n",
      "\t\n",
      "山上有座庙，庙里有个和尚，和尚讲故事，他说…… \n",
      "\t\n",
      "山上有座庙，庙里有个和尚，和尚讲故事，他说…… \n",
      "\t\n",
      "山上有座庙，庙里有个和尚，和尚讲故事，他说…… \n",
      "\t\n",
      "山上有座庙，庙里有个和尚，和尚讲故事，他说…… \n",
      "\t\n",
      "山上有座庙，庙里有个和尚，和尚讲故事，他说…… \n",
      "\t\n",
      "山上有座庙，庙里有个和尚，和尚讲故事，他说…… \n",
      "\t\n",
      "山上有座庙，庙里有个和尚，和尚讲故事，他说…… \n",
      "\t\n",
      "山上有座庙，庙里有个和尚，和尚讲故事，他说…… \n",
      "\t\n",
      "山上有座庙，庙里有个和尚，和尚讲故事，他说…… \n",
      "\t\n",
      "山上有座庙，庙里有个和尚，和尚讲故事，他说…… \n",
      "\t\n",
      "山上有座庙，庙里有个和尚，和尚讲故事，他说…… \n",
      "\t\n",
      "山上有座庙，庙里有个和尚，和尚讲故事，他说…… \n",
      "\t\n",
      "山上有座庙，庙里有个和尚，和尚讲故事，他说…… \n",
      "\t\n",
      "山上有座庙，庙里有个和尚，和尚讲故事，他说…… \n",
      "\t\n",
      "山上有座庙，庙里有个和尚，和尚讲故事，他说…… \n",
      "\t\n",
      "山上有座庙，庙里有个和尚，和尚讲故事，他说…… \n",
      "\t\n",
      "山上有座庙，庙里有个和尚，和尚讲故事，他说…… \n",
      "\t\n",
      "山上有座庙，庙里有个和尚，和尚讲故事，他说…… \n",
      "\t\n",
      "山上有座庙，庙里有个和尚，和尚讲故事，他说…… \n",
      "\t\n",
      "山上有座庙，庙里有个和尚，和尚讲故事，他说…… \n",
      "\t\n",
      "山上有座庙，庙里有个和尚，和尚讲故事，他说…… \n",
      "\t\n",
      "山上有座庙，庙里有个和尚，和尚讲故事，他说…… \n",
      "\t\n",
      "山上有座庙，庙里有个和尚，和尚讲故事，他说…… \n",
      "\t\n",
      "山上有座庙，庙里有个和尚，和尚讲故事，他说…… \n",
      "\t\n",
      "山上有座庙，庙里有个和尚，和尚讲故事，他说…… \n",
      "\t\n",
      "山上有座庙，庙里有个和尚，和尚讲故事，他说…… \n",
      "\t\n",
      "山上有座庙，庙里有个和尚，和尚讲故事，他说…… \n",
      "\t\n",
      "山上有座庙，庙里有个和尚，和尚讲故事，他说…… \n",
      "\t\n",
      "山上有座庙，庙里有个和尚，和尚讲故事，他说…… \n",
      "\t\n",
      "山上有座庙，庙里有个和尚，和尚讲故事，他说…… \n",
      "\t\n",
      "山上有座庙，庙里有个和尚，和尚讲故事，他说…… \n",
      "\t\n",
      "山上有座庙，庙里有个和尚，和尚讲故事，他说…… \n",
      "\t\n",
      "山上有座庙，庙里有个和尚，和尚讲故事，他说…… \n",
      "\t\n",
      "山上有座庙，庙里有个和尚，和尚讲故事，他说…… \n",
      "\t\n",
      "山上有座庙，庙里有个和尚，和尚讲故事，他说…… \n",
      "\t\n",
      "山上有座庙，庙里有个和尚，和尚讲故事，他说…… \n",
      "\t\n",
      "山上有座庙，庙里有个和尚，和尚讲故事，他说…… \n",
      "\t\n",
      "山上有座庙，庙里有个和尚，和尚讲故事，他说…… \n",
      "\t\n",
      "山上有座庙，庙里有个和尚，和尚讲故事，他说…… \n",
      "\t\n",
      "山上有座庙，庙里有个和尚，和尚讲故事，他说…… \n",
      "\t\n",
      "山上有座庙，庙里有个和尚，和尚讲故事，他说…… \n",
      "\t\n",
      "山上有座庙，庙里有个和尚，和尚讲故事，他说…… \n",
      "\t\n",
      "山上有座庙，庙里有个和尚，和尚讲故事，他说…… \n",
      "\t\n",
      "山上有座庙，庙里有个和尚，和尚讲故事，他说…… \n",
      "\t\n",
      "山上有座庙，庙里有个和尚，和尚讲故事，他说…… \n",
      "\t\n",
      "山上有座庙，庙里有个和尚，和尚讲故事，他说…… \n",
      "\t\n",
      "山上有座庙，庙里有个和尚，和尚讲故事，他说…… \n",
      "\t\n",
      "山上有座庙，庙里有个和尚，和尚讲故事，他说…… \n",
      "\t\n",
      "山上有座庙，庙里有个和尚，和尚讲故事，他说…… \n",
      "\t\n",
      "山上有座庙，庙里有个和尚，和尚讲故事，他说…… \n",
      "\t\n",
      "山上有座庙，庙里有个和尚，和尚讲故事，他说…… \n",
      "\t\n",
      "山上有座庙，庙里有个和尚，和尚讲故事，他说…… \n",
      "\t\n",
      "山上有座庙，庙里有个和尚，和尚讲故事，他说…… \n",
      "\t\n",
      "山上有座庙，庙里有个和尚，和尚讲故事，他说…… \n",
      "\t\n",
      "山上有座庙，庙里有个和尚，和尚讲故事，他说…… \n",
      "\t\n",
      "山上有座庙，庙里有个和尚，和尚讲故事，他说…… \n",
      "\t\n",
      "山上有座庙，庙里有个和尚，和尚讲故事，他说…… \n",
      "\t\n",
      "山上有座庙，庙里有个和尚，和尚讲故事，他说…… \n",
      "\t\n",
      "山上有座庙，庙里有个和尚，和尚讲故事，他说…… \n",
      "\t\n",
      "山上有座庙，庙里有个和尚，和尚讲故事，他说…… \n",
      "\t\n",
      "山上有座庙，庙里有个和尚，和尚讲故事，他说…… \n",
      "\t\n",
      "山上有座庙，庙里有个和尚，和尚讲故事，他说…… \n",
      "\t\n",
      "山上有座庙，庙里有个和尚，和尚讲故事，他说…… \n",
      "\t\n",
      "山上有座庙，庙里有个和尚，和尚讲故事，他说…… \n",
      "\t\n",
      "山上有座庙，庙里有个和尚，和尚讲故事，他说…… \n",
      "\t\n",
      "山上有座庙，庙里有个和尚，和尚讲故事，他说…… \n",
      "\t\n",
      "山上有座庙，庙里有个和尚，和尚讲故事，他说…… \n",
      "\t\n",
      "山上有座庙，庙里有个和尚，和尚讲故事，他说…… \n",
      "\t\n",
      "山上有座庙，庙里有个和尚，和尚讲故事，他说…… \n",
      "\t\n",
      "山上有座庙，庙里有个和尚，和尚讲故事，他说…… \n",
      "\t\n",
      "山上有座庙，庙里有个和尚，和尚讲故事，他说…… \n",
      "\t\n",
      "山上有座庙，庙里有个和尚，和尚讲故事，他说…… \n",
      "\t\n",
      "山上有座庙，庙里有个和尚，和尚讲故事，他说…… \n",
      "\t\n",
      "山上有座庙，庙里有个和尚，和尚讲故事，他说…… \n",
      "\t\n",
      "山上有座庙，庙里有个和尚，和尚讲故事，他说…… \n",
      "\t\n",
      "山上有座庙，庙里有个和尚，和尚讲故事，他说…… \n",
      "\t\n",
      "山上有座庙，庙里有个和尚，和尚讲故事，他说…… \n",
      "\t\n",
      "山上有座庙，庙里有个和尚，和尚讲故事，他说…… \n",
      "\t\n",
      "山上有座庙，庙里有个和尚，和尚讲故事，他说…… \n",
      "\t\n",
      "山上有座庙，庙里有个和尚，和尚讲故事，他说…… \n",
      "\t\n",
      "山上有座庙，庙里有个和尚，和尚讲故事，他说…… \n",
      "\t\n",
      "山上有座庙，庙里有个和尚，和尚讲故事，他说…… \n",
      "\t\n",
      "山上有座庙，庙里有个和尚，和尚讲故事，他说…… \n",
      "\t\n",
      "山上有座庙，庙里有个和尚，和尚讲故事，他说…… \n",
      "\t\n",
      "山上有座庙，庙里有个和尚，和尚讲故事，他说…… \n",
      "\t\n",
      "山上有座庙，庙里有个和尚，和尚讲故事，他说…… \n",
      "\t\n",
      "山上有座庙，庙里有个和尚，和尚讲故事，他说…… \n",
      "\t\n",
      "山上有座庙，庙里有个和尚，和尚讲故事，他说…… \n",
      "\t\n",
      "山上有座庙，庙里有个和尚，和尚讲故事，他说…… \n",
      "\t\n",
      "山上有座庙，庙里有个和尚，和尚讲故事，他说…… \n",
      "\t\n",
      "山上有座庙，庙里有个和尚，和尚讲故事，他说…… \n",
      "\t\n",
      "山上有座庙，庙里有个和尚，和尚讲故事，他说…… \n",
      "\t\n",
      "山上有座庙，庙里有个和尚，和尚讲故事，他说…… \n",
      "\t\n",
      "山上有座庙，庙里有个和尚，和尚讲故事，他说…… \n",
      "\t\n",
      "山上有座庙，庙里有个和尚，和尚讲故事，他说…… \n",
      "\t\n",
      "山上有座庙，庙里有个和尚，和尚讲故事，他说…… \n",
      "\t\n",
      "山上有座庙，庙里有个和尚，和尚讲故事，他说…… \n",
      "\t\n",
      "山上有座庙，庙里有个和尚，和尚讲故事，他说…… \n",
      "\t\n",
      "山上有座庙，庙里有个和尚，和尚讲故事，他说…… \n",
      "\t\n",
      "山上有座庙，庙里有个和尚，和尚讲故事，他说…… \n",
      "\t\n",
      "山上有座庙，庙里有个和尚，和尚讲故事，他说…… \n",
      "\t\n",
      "山上有座庙，庙里有个和尚，和尚讲故事，他说…… \n",
      "\t\n",
      "山上有座庙，庙里有个和尚，和尚讲故事，他说…… \n",
      "\t\n",
      "山上有座庙，庙里有个和尚，和尚讲故事，他说…… \n",
      "\t\n",
      "山上有座庙，庙里有个和尚，和尚讲故事，他说…… \n",
      "\t\n",
      "山上有座庙，庙里有个和尚，和尚讲故事，他说…… \n",
      "\t\n",
      "山上有座庙，庙里有个和尚，和尚讲故事，他说…… \n",
      "\t\n",
      "山上有座庙，庙里有个和尚，和尚讲故事，他说…… \n",
      "\t\n",
      "山上有座庙，庙里有个和尚，和尚讲故事，他说…… \n",
      "\t\n",
      "山上有座庙，庙里有个和尚，和尚讲故事，他说…… \n",
      "\t\n",
      "山上有座庙，庙里有个和尚，和尚讲故事，他说…… \n",
      "\t\n",
      "山上有座庙，庙里有个和尚，和尚讲故事，他说…… \n",
      "\t\n",
      "山上有座庙，庙里有个和尚，和尚讲故事，他说…… \n",
      "\t\n",
      "山上有座庙，庙里有个和尚，和尚讲故事，他说…… \n",
      "\t\n",
      "山上有座庙，庙里有个和尚，和尚讲故事，他说…… \n",
      "\t\n",
      "山上有座庙，庙里有个和尚，和尚讲故事，他说…… \n",
      "\t\n",
      "山上有座庙，庙里有个和尚，和尚讲故事，他说…… \n",
      "\t\n",
      "山上有座庙，庙里有个和尚，和尚讲故事，他说…… \n",
      "\t\n",
      "山上有座庙，庙里有个和尚，和尚讲故事，他说…… \n",
      "\t\n",
      "山上有座庙，庙里有个和尚，和尚讲故事，他说…… \n",
      "\t\n",
      "山上有座庙，庙里有个和尚，和尚讲故事，他说…… \n",
      "\t\n",
      "山上有座庙，庙里有个和尚，和尚讲故事，他说…… \n",
      "\t\n",
      "山上有座庙，庙里有个和尚，和尚讲故事，他说…… \n",
      "\t\n",
      "山上有座庙，庙里有个和尚，和尚讲故事，他说…… \n",
      "\t\n",
      "山上有座庙，庙里有个和尚，和尚讲故事，他说…… \n",
      "\t\n",
      "山上有座庙，庙里有个和尚，和尚讲故事，他说…… \n",
      "\t\n",
      "山上有座庙，庙里有个和尚，和尚讲故事，他说…… \n",
      "\t\n",
      "山上有座庙，庙里有个和尚，和尚讲故事，他说…… \n",
      "\t\n",
      "山上有座庙，庙里有个和尚，和尚讲故事，他说…… \n",
      "\t\n",
      "山上有座庙，庙里有个和尚，和尚讲故事，他说…… \n",
      "\t\n",
      "山上有座庙，庙里有个和尚，和尚讲故事，他说…… \n",
      "\t\n",
      "山上有座庙，庙里有个和尚，和尚讲故事，他说…… \n",
      "\t\n",
      "山上有座庙，庙里有个和尚，和尚讲故事，他说…… \n",
      "\t\n",
      "山上有座庙，庙里有个和尚，和尚讲故事，他说…… \n",
      "\t\n",
      "山上有座庙，庙里有个和尚，和尚讲故事，他说…… \n",
      "\t\n",
      "山上有座庙，庙里有个和尚，和尚讲故事，他说…… \n",
      "\t\n",
      "山上有座庙，庙里有个和尚，和尚讲故事，他说…… \n",
      "\t\n",
      "山上有座庙，庙里有个和尚，和尚讲故事，他说…… \n",
      "\t\n",
      "山上有座庙，庙里有个和尚，和尚讲故事，他说…… \n",
      "\t\n",
      "山上有座庙，庙里有个和尚，和尚讲故事，他说…… \n",
      "\t\n",
      "山上有座庙，庙里有个和尚，和尚讲故事，他说…… \n",
      "\t\n",
      "山上有座庙，庙里有个和尚，和尚讲故事，他说…… \n",
      "\t\n",
      "山上有座庙，庙里有个和尚，和尚讲故事，他说…… \n",
      "\t\n",
      "山上有座庙，庙里有个和尚，和尚讲故事，他说…… \n",
      "\t\n",
      "山上有座庙，庙里有个和尚，和尚讲故事，他说…… \n",
      "\t\n",
      "山上有座庙，庙里有个和尚，和尚讲故事，他说…… \n",
      "\t\n",
      "山上有座庙，庙里有个和尚，和尚讲故事，他说…… \n",
      "\t\n",
      "山上有座庙，庙里有个和尚，和尚讲故事，他说…… \n",
      "\t\n",
      "山上有座庙，庙里有个和尚，和尚讲故事，他说…… \n",
      "\t\n",
      "山上有座庙，庙里有个和尚，和尚讲故事，他说…… \n",
      "\t\n",
      "山上有座庙，庙里有个和尚，和尚讲故事，他说…… \n",
      "\t\n",
      "山上有座庙，庙里有个和尚，和尚讲故事，他说…… \n",
      "\t\n",
      "山上有座庙，庙里有个和尚，和尚讲故事，他说…… \n",
      "\t\n",
      "山上有座庙，庙里有个和尚，和尚讲故事，他说…… \n",
      "\t\n",
      "山上有座庙，庙里有个和尚，和尚讲故事，他说…… \n",
      "\t\n",
      "山上有座庙，庙里有个和尚，和尚讲故事，他说…… \n",
      "\t\n",
      "山上有座庙，庙里有个和尚，和尚讲故事，他说…… \n",
      "\t\n",
      "山上有座庙，庙里有个和尚，和尚讲故事，他说…… \n",
      "\t\n",
      "山上有座庙，庙里有个和尚，和尚讲故事，他说…… \n",
      "\t\n",
      "山上有座庙，庙里有个和尚，和尚讲故事，他说…… \n",
      "\t\n",
      "山上有座庙，庙里有个和尚，和尚讲故事，他说…… \n",
      "\t\n",
      "山上有座庙，庙里有个和尚，和尚讲故事，他说…… \n",
      "\t\n",
      "山上有座庙，庙里有个和尚，和尚讲故事，他说…… \n",
      "\t\n",
      "山上有座庙，庙里有个和尚，和尚讲故事，他说…… \n",
      "\t\n",
      "山上有座庙，庙里有个和尚，和尚讲故事，他说…… \n",
      "\t\n",
      "山上有座庙，庙里有个和尚，和尚讲故事，他说…… \n",
      "\t\n",
      "山上有座庙，庙里有个和尚，和尚讲故事，他说…… \n",
      "\t\n",
      "山上有座庙，庙里有个和尚，和尚讲故事，他说…… \n",
      "\t\n",
      "山上有座庙，庙里有个和尚，和尚讲故事，他说…… \n",
      "\t\n",
      "山上有座庙，庙里有个和尚，和尚讲故事，他说…… \n",
      "\t\n",
      "山上有座庙，庙里有个和尚，和尚讲故事，他说…… \n",
      "\t\n",
      "山上有座庙，庙里有个和尚，和尚讲故事，他说…… \n",
      "\t\n",
      "山上有座庙，庙里有个和尚，和尚讲故事，他说…… \n",
      "\t\n",
      "山上有座庙，庙里有个和尚，和尚讲故事，他说…… \n",
      "\t\n",
      "山上有座庙，庙里有个和尚，和尚讲故事，他说…… \n",
      "\t\n",
      "山上有座庙，庙里有个和尚，和尚讲故事，他说…… \n",
      "\t\n",
      "山上有座庙，庙里有个和尚，和尚讲故事，他说…… \n",
      "\t\n",
      "山上有座庙，庙里有个和尚，和尚讲故事，他说…… \n",
      "\t\n",
      "山上有座庙，庙里有个和尚，和尚讲故事，他说…… \n",
      "\t\n",
      "山上有座庙，庙里有个和尚，和尚讲故事，他说…… \n",
      "\t\n",
      "山上有座庙，庙里有个和尚，和尚讲故事，他说…… \n",
      "\t\n",
      "山上有座庙，庙里有个和尚，和尚讲故事，他说…… \n",
      "\t\n",
      "山上有座庙，庙里有个和尚，和尚讲故事，他说…… \n",
      "\t\n",
      "山上有座庙，庙里有个和尚，和尚讲故事，他说…… \n",
      "\t\n",
      "山上有座庙，庙里有个和尚，和尚讲故事，他说…… \n",
      "\t\n",
      "山上有座庙，庙里有个和尚，和尚讲故事，他说…… \n",
      "\t\n",
      "山上有座庙，庙里有个和尚，和尚讲故事，他说…… \n",
      "\t\n",
      "山上有座庙，庙里有个和尚，和尚讲故事，他说…… \n",
      "\t\n",
      "山上有座庙，庙里有个和尚，和尚讲故事，他说…… \n",
      "\t\n",
      "山上有座庙，庙里有个和尚，和尚讲故事，他说…… \n",
      "\t\n",
      "山上有座庙，庙里有个和尚，和尚讲故事，他说…… \n",
      "\t\n",
      "山上有座庙，庙里有个和尚，和尚讲故事，他说…… \n",
      "\t\n",
      "山上有座庙，庙里有个和尚，和尚讲故事，他说…… \n",
      "\t\n",
      "山上有座庙，庙里有个和尚，和尚讲故事，他说…… \n",
      "\t\n",
      "山上有座庙，庙里有个和尚，和尚讲故事，他说…… \n",
      "\t\n",
      "山上有座庙，庙里有个和尚，和尚讲故事，他说…… \n",
      "\t\n",
      "山上有座庙，庙里有个和尚，和尚讲故事，他说…… \n",
      "\t\n",
      "山上有座庙，庙里有个和尚，和尚讲故事，他说…… \n",
      "\t\n",
      "山上有座庙，庙里有个和尚，和尚讲故事，他说…… \n",
      "\t\n",
      "山上有座庙，庙里有个和尚，和尚讲故事，他说…… \n",
      "\t\n",
      "山上有座庙，庙里有个和尚，和尚讲故事，他说…… \n",
      "\t\n",
      "山上有座庙，庙里有个和尚，和尚讲故事，他说…… \n",
      "\t\n",
      "山上有座庙，庙里有个和尚，和尚讲故事，他说…… \n",
      "\t\n",
      "山上有座庙，庙里有个和尚，和尚讲故事，他说…… \n",
      "\t\n",
      "山上有座庙，庙里有个和尚，和尚讲故事，他说…… \n",
      "\t\n",
      "山上有座庙，庙里有个和尚，和尚讲故事，他说…… \n",
      "\t\n",
      "山上有座庙，庙里有个和尚，和尚讲故事，他说…… \n",
      "\t\n",
      "山上有座庙，庙里有个和尚，和尚讲故事，他说…… \n",
      "\t\n",
      "山上有座庙，庙里有个和尚，和尚讲故事，他说…… \n",
      "\t\n",
      "山上有座庙，庙里有个和尚，和尚讲故事，他说…… \n",
      "\t\n",
      "山上有座庙，庙里有个和尚，和尚讲故事，他说…… \n",
      "\t\n",
      "山上有座庙，庙里有个和尚，和尚讲故事，他说…… \n",
      "\t\n",
      "山上有座庙，庙里有个和尚，和尚讲故事，他说…… \n",
      "\t\n",
      "山上有座庙，庙里有个和尚，和尚讲故事，他说…… \n",
      "\t\n",
      "山上有座庙，庙里有个和尚，和尚讲故事，他说…… \n",
      "\t\n",
      "山上有座庙，庙里有个和尚，和尚讲故事，他说…… \n",
      "\t\n",
      "山上有座庙，庙里有个和尚，和尚讲故事，他说…… \n",
      "\t\n",
      "山上有座庙，庙里有个和尚，和尚讲故事，他说…… \n",
      "\t\n",
      "山上有座庙，庙里有个和尚，和尚讲故事，他说…… \n",
      "\t\n",
      "山上有座庙，庙里有个和尚，和尚讲故事，他说…… \n",
      "\t\n",
      "山上有座庙，庙里有个和尚，和尚讲故事，他说…… \n",
      "\t\n",
      "山上有座庙，庙里有个和尚，和尚讲故事，他说…… \n",
      "\t\n",
      "山上有座庙，庙里有个和尚，和尚讲故事，他说…… \n",
      "\t\n",
      "山上有座庙，庙里有个和尚，和尚讲故事，他说…… \n",
      "\t\n",
      "山上有座庙，庙里有个和尚，和尚讲故事，他说…… \n",
      "\t\n",
      "山上有座庙，庙里有个和尚，和尚讲故事，他说…… \n",
      "\t\n",
      "山上有座庙，庙里有个和尚，和尚讲故事，他说…… \n",
      "\t\n",
      "山上有座庙，庙里有个和尚，和尚讲故事，他说…… \n",
      "\t\n",
      "山上有座庙，庙里有个和尚，和尚讲故事，他说…… \n",
      "\t\n",
      "山上有座庙，庙里有个和尚，和尚讲故事，他说…… \n",
      "\t\n",
      "山上有座庙，庙里有个和尚，和尚讲故事，他说…… \n",
      "\t\n",
      "山上有座庙，庙里有个和尚，和尚讲故事，他说…… \n",
      "\t\n",
      "山上有座庙，庙里有个和尚，和尚讲故事，他说…… \n",
      "\t\n",
      "山上有座庙，庙里有个和尚，和尚讲故事，他说…… \n",
      "\t\n",
      "山上有座庙，庙里有个和尚，和尚讲故事，他说…… \n",
      "\t\n",
      "山上有座庙，庙里有个和尚，和尚讲故事，他说…… \n",
      "\t\n",
      "山上有座庙，庙里有个和尚，和尚讲故事，他说…… \n",
      "\t\n",
      "山上有座庙，庙里有个和尚，和尚讲故事，他说…… \n",
      "\t\n",
      "山上有座庙，庙里有个和尚，和尚讲故事，他说…… \n",
      "\t\n",
      "山上有座庙，庙里有个和尚，和尚讲故事，他说…… \n",
      "\t\n",
      "山上有座庙，庙里有个和尚，和尚讲故事，他说…… \n",
      "\t\n",
      "山上有座庙，庙里有个和尚，和尚讲故事，他说…… \n",
      "\t\n",
      "山上有座庙，庙里有个和尚，和尚讲故事，他说…… \n",
      "\t\n",
      "山上有座庙，庙里有个和尚，和尚讲故事，他说…… \n",
      "\t\n",
      "山上有座庙，庙里有个和尚，和尚讲故事，他说…… \n",
      "\t\n",
      "山上有座庙，庙里有个和尚，和尚讲故事，他说…… \n",
      "\t\n",
      "山上有座庙，庙里有个和尚，和尚讲故事，他说…… \n",
      "\t\n",
      "山上有座庙，庙里有个和尚，和尚讲故事，他说…… \n",
      "\t\n",
      "山上有座庙，庙里有个和尚，和尚讲故事，他说…… \n",
      "\t\n",
      "山上有座庙，庙里有个和尚，和尚讲故事，他说…… \n",
      "\t\n",
      "山上有座庙，庙里有个和尚，和尚讲故事，他说…… \n",
      "\t\n",
      "山上有座庙，庙里有个和尚，和尚讲故事，他说…… \n",
      "\t\n",
      "山上有座庙，庙里有个和尚，和尚讲故事，他说…… \n",
      "\t\n",
      "山上有座庙，庙里有个和尚，和尚讲故事，他说…… \n",
      "\t\n",
      "山上有座庙，庙里有个和尚，和尚讲故事，他说…… \n",
      "\t\n",
      "山上有座庙，庙里有个和尚，和尚讲故事，他说…… \n",
      "\t\n",
      "山上有座庙，庙里有个和尚，和尚讲故事，他说…… \n",
      "\t\n",
      "山上有座庙，庙里有个和尚，和尚讲故事，他说…… \n",
      "\t\n",
      "山上有座庙，庙里有个和尚，和尚讲故事，他说…… \n",
      "\t\n",
      "山上有座庙，庙里有个和尚，和尚讲故事，他说…… \n",
      "\t\n",
      "山上有座庙，庙里有个和尚，和尚讲故事，他说…… \n",
      "\t\n",
      "山上有座庙，庙里有个和尚，和尚讲故事，他说…… \n",
      "\t\n",
      "山上有座庙，庙里有个和尚，和尚讲故事，他说…… \n",
      "\t\n",
      "山上有座庙，庙里有个和尚，和尚讲故事，他说…… \n",
      "\t\n",
      "山上有座庙，庙里有个和尚，和尚讲故事，他说…… \n",
      "\t\n",
      "山上有座庙，庙里有个和尚，和尚讲故事，他说…… \n",
      "\t\n",
      "山上有座庙，庙里有个和尚，和尚讲故事，他说…… \n",
      "\t\n",
      "山上有座庙，庙里有个和尚，和尚讲故事，他说…… \n",
      "\t\n",
      "山上有座庙，庙里有个和尚，和尚讲故事，他说…… \n",
      "\t\n",
      "山上有座庙，庙里有个和尚，和尚讲故事，他说…… \n",
      "\t\n",
      "山上有座庙，庙里有个和尚，和尚讲故事，他说…… \n",
      "\t\n",
      "山上有座庙，庙里有个和尚，和尚讲故事，他说…… \n",
      "\t\n",
      "山上有座庙，庙里有个和尚，和尚讲故事，他说…… \n",
      "\t\n",
      "山上有座庙，庙里有个和尚，和尚讲故事，他说…… \n",
      "\t\n",
      "山上有座庙，庙里有个和尚，和尚讲故事，他说…… \n",
      "\t\n",
      "山上有座庙，庙里有个和尚，和尚讲故事，他说…… \n",
      "\t\n",
      "山上有座庙，庙里有个和尚，和尚讲故事，他说…… \n",
      "\t\n",
      "山上有座庙，庙里有个和尚，和尚讲故事，他说…… \n",
      "\t\n",
      "山上有座庙，庙里有个和尚，和尚讲故事，他说…… \n",
      "\t\n",
      "山上有座庙，庙里有个和尚，和尚讲故事，他说…… \n",
      "\t\n",
      "山上有座庙，庙里有个和尚，和尚讲故事，他说…… \n",
      "\t\n",
      "山上有座庙，庙里有个和尚，和尚讲故事，他说…… \n",
      "\t\n",
      "山上有座庙，庙里有个和尚，和尚讲故事，他说…… \n",
      "\t\n",
      "山上有座庙，庙里有个和尚，和尚讲故事，他说…… \n",
      "\t\n",
      "山上有座庙，庙里有个和尚，和尚讲故事，他说…… \n",
      "\t\n",
      "山上有座庙，庙里有个和尚，和尚讲故事，他说…… \n",
      "\t\n",
      "山上有座庙，庙里有个和尚，和尚讲故事，他说…… \n",
      "\t\n",
      "山上有座庙，庙里有个和尚，和尚讲故事，他说…… \n",
      "\t\n",
      "山上有座庙，庙里有个和尚，和尚讲故事，他说…… \n",
      "\t\n",
      "山上有座庙，庙里有个和尚，和尚讲故事，他说…… \n",
      "\t\n",
      "山上有座庙，庙里有个和尚，和尚讲故事，他说…… \n",
      "\t\n",
      "山上有座庙，庙里有个和尚，和尚讲故事，他说…… \n",
      "\t\n",
      "山上有座庙，庙里有个和尚，和尚讲故事，他说…… \n",
      "\t\n",
      "山上有座庙，庙里有个和尚，和尚讲故事，他说…… \n",
      "\t\n",
      "山上有座庙，庙里有个和尚，和尚讲故事，他说…… \n",
      "\t\n",
      "山上有座庙，庙里有个和尚，和尚讲故事，他说…… \n",
      "\t\n",
      "山上有座庙，庙里有个和尚，和尚讲故事，他说…… \n",
      "\t\n",
      "山上有座庙，庙里有个和尚，和尚讲故事，他说…… \n",
      "\t\n",
      "山上有座庙，庙里有个和尚，和尚讲故事，他说…… \n",
      "\t\n",
      "山上有座庙，庙里有个和尚，和尚讲故事，他说…… \n",
      "\t\n",
      "山上有座庙，庙里有个和尚，和尚讲故事，他说…… \n",
      "\t\n",
      "山上有座庙，庙里有个和尚，和尚讲故事，他说…… \n",
      "\t\n",
      "山上有座庙，庙里有个和尚，和尚讲故事，他说…… \n",
      "\t\n",
      "山上有座庙，庙里有个和尚，和尚讲故事，他说…… \n",
      "\t\n",
      "山上有座庙，庙里有个和尚，和尚讲故事，他说…… \n",
      "\t\n",
      "山上有座庙，庙里有个和尚，和尚讲故事，他说…… \n",
      "\t\n",
      "山上有座庙，庙里有个和尚，和尚讲故事，他说…… \n",
      "\t\n",
      "山上有座庙，庙里有个和尚，和尚讲故事，他说…… \n",
      "\t\n",
      "山上有座庙，庙里有个和尚，和尚讲故事，他说…… \n",
      "\t\n",
      "山上有座庙，庙里有个和尚，和尚讲故事，他说…… \n",
      "\t\n",
      "山上有座庙，庙里有个和尚，和尚讲故事，他说…… \n",
      "\t\n",
      "山上有座庙，庙里有个和尚，和尚讲故事，他说…… \n",
      "\t\n",
      "山上有座庙，庙里有个和尚，和尚讲故事，他说…… \n",
      "\t\n",
      "山上有座庙，庙里有个和尚，和尚讲故事，他说…… \n",
      "\t\n",
      "山上有座庙，庙里有个和尚，和尚讲故事，他说…… \n",
      "\t\n",
      "山上有座庙，庙里有个和尚，和尚讲故事，他说…… \n",
      "\t\n",
      "山上有座庙，庙里有个和尚，和尚讲故事，他说…… \n",
      "\t\n",
      "山上有座庙，庙里有个和尚，和尚讲故事，他说…… \n",
      "\t\n",
      "山上有座庙，庙里有个和尚，和尚讲故事，他说…… \n",
      "\t\n",
      "山上有座庙，庙里有个和尚，和尚讲故事，他说…… \n",
      "\t\n",
      "山上有座庙，庙里有个和尚，和尚讲故事，他说…… \n",
      "\t\n",
      "山上有座庙，庙里有个和尚，和尚讲故事，他说…… \n",
      "\t\n",
      "山上有座庙，庙里有个和尚，和尚讲故事，他说…… \n",
      "\t\n",
      "山上有座庙，庙里有个和尚，和尚讲故事，他说…… \n",
      "\t\n",
      "山上有座庙，庙里有个和尚，和尚讲故事，他说…… \n",
      "\t\n",
      "山上有座庙，庙里有个和尚，和尚讲故事，他说…… \n",
      "\t\n",
      "山上有座庙，庙里有个和尚，和尚讲故事，他说…… \n",
      "\t\n",
      "山上有座庙，庙里有个和尚，和尚讲故事，他说…… \n",
      "\t\n",
      "山上有座庙，庙里有个和尚，和尚讲故事，他说…… \n",
      "\t\n",
      "山上有座庙，庙里有个和尚，和尚讲故事，他说…… \n",
      "\t\n",
      "山上有座庙，庙里有个和尚，和尚讲故事，他说…… \n",
      "\t\n",
      "山上有座庙，庙里有个和尚，和尚讲故事，他说…… \n",
      "\t\n",
      "山上有座庙，庙里有个和尚，和尚讲故事，他说…… \n",
      "\t\n",
      "山上有座庙，庙里有个和尚，和尚讲故事，他说…… \n",
      "\t\n",
      "山上有座庙，庙里有个和尚，和尚讲故事，他说…… \n",
      "\t\n",
      "山上有座庙，庙里有个和尚，和尚讲故事，他说…… \n",
      "\t\n",
      "山上有座庙，庙里有个和尚，和尚讲故事，他说…… \n",
      "\t\n",
      "山上有座庙，庙里有个和尚，和尚讲故事，他说…… \n",
      "\t\n",
      "山上有座庙，庙里有个和尚，和尚讲故事，他说…… \n",
      "\t\n",
      "山上有座庙，庙里有个和尚，和尚讲故事，他说…… \n",
      "\t\n",
      "山上有座庙，庙里有个和尚，和尚讲故事，他说…… \n",
      "\t\n",
      "山上有座庙，庙里有个和尚，和尚讲故事，他说…… \n",
      "\t\n",
      "山上有座庙，庙里有个和尚，和尚讲故事，他说…… \n",
      "\t\n",
      "山上有座庙，庙里有个和尚，和尚讲故事，他说…… \n",
      "\t\n",
      "山上有座庙，庙里有个和尚，和尚讲故事，他说…… \n",
      "\t\n",
      "山上有座庙，庙里有个和尚，和尚讲故事，他说…… \n",
      "\t\n",
      "山上有座庙，庙里有个和尚，和尚讲故事，他说…… \n",
      "\t\n",
      "山上有座庙，庙里有个和尚，和尚讲故事，他说…… \n",
      "\t\n",
      "山上有座庙，庙里有个和尚，和尚讲故事，他说…… \n",
      "\t\n",
      "山上有座庙，庙里有个和尚，和尚讲故事，他说…… \n",
      "\t\n",
      "山上有座庙，庙里有个和尚，和尚讲故事，他说…… \n",
      "\t\n",
      "山上有座庙，庙里有个和尚，和尚讲故事，他说…… \n",
      "\t\n",
      "山上有座庙，庙里有个和尚，和尚讲故事，他说…… \n",
      "\t\n",
      "山上有座庙，庙里有个和尚，和尚讲故事，他说…… \n",
      "\t\n",
      "山上有座庙，庙里有个和尚，和尚讲故事，他说…… \n",
      "\t\n",
      "山上有座庙，庙里有个和尚，和尚讲故事，他说…… \n",
      "\t\n",
      "山上有座庙，庙里有个和尚，和尚讲故事，他说…… \n",
      "\t\n",
      "山上有座庙，庙里有个和尚，和尚讲故事，他说…… \n",
      "\t\n",
      "山上有座庙，庙里有个和尚，和尚讲故事，他说…… \n",
      "\t\n",
      "山上有座庙，庙里有个和尚，和尚讲故事，他说…… \n",
      "\t\n",
      "山上有座庙，庙里有个和尚，和尚讲故事，他说…… \n",
      "\t\n",
      "山上有座庙，庙里有个和尚，和尚讲故事，他说…… \n",
      "\t\n",
      "山上有座庙，庙里有个和尚，和尚讲故事，他说…… \n",
      "\t\n",
      "山上有座庙，庙里有个和尚，和尚讲故事，他说…… \n",
      "\t\n",
      "山上有座庙，庙里有个和尚，和尚讲故事，他说…… \n",
      "\t\n",
      "山上有座庙，庙里有个和尚，和尚讲故事，他说…… \n",
      "\t\n",
      "山上有座庙，庙里有个和尚，和尚讲故事，他说…… \n",
      "\t\n",
      "山上有座庙，庙里有个和尚，和尚讲故事，他说…… \n",
      "\t\n",
      "山上有座庙，庙里有个和尚，和尚讲故事，他说…… \n",
      "\t\n",
      "山上有座庙，庙里有个和尚，和尚讲故事，他说…… \n",
      "\t\n",
      "山上有座庙，庙里有个和尚，和尚讲故事，他说…… \n",
      "\t\n",
      "山上有座庙，庙里有个和尚，和尚讲故事，他说…… \n",
      "\t\n",
      "山上有座庙，庙里有个和尚，和尚讲故事，他说…… \n",
      "\t\n",
      "山上有座庙，庙里有个和尚，和尚讲故事，他说…… \n",
      "\t\n",
      "山上有座庙，庙里有个和尚，和尚讲故事，他说…… \n",
      "\t\n",
      "山上有座庙，庙里有个和尚，和尚讲故事，他说…… \n",
      "\t\n",
      "山上有座庙，庙里有个和尚，和尚讲故事，他说…… \n",
      "\t\n",
      "山上有座庙，庙里有个和尚，和尚讲故事，他说…… \n",
      "\t\n",
      "山上有座庙，庙里有个和尚，和尚讲故事，他说…… \n",
      "\t\n",
      "山上有座庙，庙里有个和尚，和尚讲故事，他说…… \n",
      "\t\n",
      "山上有座庙，庙里有个和尚，和尚讲故事，他说…… \n",
      "\t\n",
      "山上有座庙，庙里有个和尚，和尚讲故事，他说…… \n",
      "\t\n",
      "山上有座庙，庙里有个和尚，和尚讲故事，他说…… \n",
      "\t\n",
      "山上有座庙，庙里有个和尚，和尚讲故事，他说…… \n",
      "\t\n",
      "山上有座庙，庙里有个和尚，和尚讲故事，他说…… \n",
      "\t\n",
      "山上有座庙，庙里有个和尚，和尚讲故事，他说…… \n",
      "\t\n",
      "山上有座庙，庙里有个和尚，和尚讲故事，他说…… \n",
      "\t\n",
      "山上有座庙，庙里有个和尚，和尚讲故事，他说…… \n",
      "\t\n",
      "山上有座庙，庙里有个和尚，和尚讲故事，他说…… \n",
      "\t\n",
      "山上有座庙，庙里有个和尚，和尚讲故事，他说…… \n",
      "\t\n",
      "山上有座庙，庙里有个和尚，和尚讲故事，他说…… \n",
      "\t\n",
      "山上有座庙，庙里有个和尚，和尚讲故事，他说…… \n",
      "\t\n",
      "山上有座庙，庙里有个和尚，和尚讲故事，他说…… \n",
      "\t\n",
      "山上有座庙，庙里有个和尚，和尚讲故事，他说…… \n",
      "\t\n",
      "山上有座庙，庙里有个和尚，和尚讲故事，他说…… \n",
      "\t\n",
      "山上有座庙，庙里有个和尚，和尚讲故事，他说…… \n",
      "\t\n",
      "山上有座庙，庙里有个和尚，和尚讲故事，他说…… \n",
      "\t\n",
      "山上有座庙，庙里有个和尚，和尚讲故事，他说…… \n",
      "\t\n",
      "山上有座庙，庙里有个和尚，和尚讲故事，他说…… \n",
      "\t\n",
      "山上有座庙，庙里有个和尚，和尚讲故事，他说…… \n",
      "\t\n",
      "山上有座庙，庙里有个和尚，和尚讲故事，他说…… \n",
      "\t\n",
      "山上有座庙，庙里有个和尚，和尚讲故事，他说…… \n",
      "\t\n",
      "山上有座庙，庙里有个和尚，和尚讲故事，他说…… \n",
      "\t\n",
      "山上有座庙，庙里有个和尚，和尚讲故事，他说…… \n",
      "\t\n",
      "山上有座庙，庙里有个和尚，和尚讲故事，他说…… \n",
      "\t\n",
      "山上有座庙，庙里有个和尚，和尚讲故事，他说…… \n",
      "\t\n",
      "山上有座庙，庙里有个和尚，和尚讲故事，他说…… \n",
      "\t\n",
      "山上有座庙，庙里有个和尚，和尚讲故事，他说…… \n",
      "\t\n",
      "山上有座庙，庙里有个和尚，和尚讲故事，他说…… \n",
      "\t\n",
      "山上有座庙，庙里有个和尚，和尚讲故事，他说…… \n",
      "\t\n",
      "山上有座庙，庙里有个和尚，和尚讲故事，他说…… \n",
      "\t\n",
      "山上有座庙，庙里有个和尚，和尚讲故事，他说…… \n",
      "\t\n",
      "山上有座庙，庙里有个和尚，和尚讲故事，他说…… \n",
      "\t\n",
      "山上有座庙，庙里有个和尚，和尚讲故事，他说…… \n",
      "\t\n",
      "山上有座庙，庙里有个和尚，和尚讲故事，他说…… \n",
      "\t\n",
      "山上有座庙，庙里有个和尚，和尚讲故事，他说…… \n",
      "\t\n",
      "山上有座庙，庙里有个和尚，和尚讲故事，他说…… \n",
      "\t\n",
      "山上有座庙，庙里有个和尚，和尚讲故事，他说…… \n",
      "\t\n",
      "山上有座庙，庙里有个和尚，和尚讲故事，他说…… \n",
      "\t\n",
      "山上有座庙，庙里有个和尚，和尚讲故事，他说…… \n",
      "\t\n",
      "山上有座庙，庙里有个和尚，和尚讲故事，他说…… \n",
      "\t\n",
      "山上有座庙，庙里有个和尚，和尚讲故事，他说…… \n",
      "\t\n",
      "山上有座庙，庙里有个和尚，和尚讲故事，他说…… \n",
      "\t\n",
      "山上有座庙，庙里有个和尚，和尚讲故事，他说…… \n",
      "\t\n",
      "山上有座庙，庙里有个和尚，和尚讲故事，他说…… \n",
      "\t\n",
      "山上有座庙，庙里有个和尚，和尚讲故事，他说…… \n",
      "\t\n",
      "山上有座庙，庙里有个和尚，和尚讲故事，他说…… \n",
      "\t\n",
      "山上有座庙，庙里有个和尚，和尚讲故事，他说…… \n",
      "\t\n",
      "山上有座庙，庙里有个和尚，和尚讲故事，他说…… \n",
      "\t\n",
      "山上有座庙，庙里有个和尚，和尚讲故事，他说…… \n",
      "\t\n",
      "山上有座庙，庙里有个和尚，和尚讲故事，他说…… \n",
      "\t\n",
      "山上有座庙，庙里有个和尚，和尚讲故事，他说…… \n",
      "\t\n",
      "山上有座庙，庙里有个和尚，和尚讲故事，他说…… \n",
      "\t\n",
      "山上有座庙，庙里有个和尚，和尚讲故事，他说…… \n",
      "\t\n",
      "山上有座庙，庙里有个和尚，和尚讲故事，他说…… \n",
      "\t\n",
      "山上有座庙，庙里有个和尚，和尚讲故事，他说…… \n",
      "\t\n",
      "山上有座庙，庙里有个和尚，和尚讲故事，他说…… \n",
      "\t\n",
      "山上有座庙，庙里有个和尚，和尚讲故事，他说…… \n",
      "\t\n",
      "山上有座庙，庙里有个和尚，和尚讲故事，他说…… \n",
      "\t\n",
      "山上有座庙，庙里有个和尚，和尚讲故事，他说…… \n",
      "\t\n",
      "山上有座庙，庙里有个和尚，和尚讲故事，他说…… \n",
      "\t\n",
      "山上有座庙，庙里有个和尚，和尚讲故事，他说…… \n",
      "\t\n",
      "山上有座庙，庙里有个和尚，和尚讲故事，他说…… \n",
      "\t\n",
      "山上有座庙，庙里有个和尚，和尚讲故事，他说…… \n",
      "\t\n",
      "山上有座庙，庙里有个和尚，和尚讲故事，他说…… \n",
      "\t\n",
      "山上有座庙，庙里有个和尚，和尚讲故事，他说…… \n",
      "\t\n",
      "山上有座庙，庙里有个和尚，和尚讲故事，他说…… \n",
      "\t\n",
      "山上有座庙，庙里有个和尚，和尚讲故事，他说…… \n",
      "\t\n",
      "山上有座庙，庙里有个和尚，和尚讲故事，他说…… \n",
      "\t\n",
      "山上有座庙，庙里有个和尚，和尚讲故事，他说…… \n",
      "\t\n",
      "山上有座庙，庙里有个和尚，和尚讲故事，他说…… \n",
      "\t\n",
      "山上有座庙，庙里有个和尚，和尚讲故事，他说…… \n",
      "\t\n",
      "山上有座庙，庙里有个和尚，和尚讲故事，他说…… \n",
      "\t\n",
      "山上有座庙，庙里有个和尚，和尚讲故事，他说…… \n",
      "\t\n",
      "山上有座庙，庙里有个和尚，和尚讲故事，他说…… \n",
      "\t\n",
      "山上有座庙，庙里有个和尚，和尚讲故事，他说…… \n",
      "\t\n",
      "山上有座庙，庙里有个和尚，和尚讲故事，他说…… \n",
      "\t\n",
      "山上有座庙，庙里有个和尚，和尚讲故事，他说…… \n",
      "\t\n",
      "山上有座庙，庙里有个和尚，和尚讲故事，他说…… \n",
      "\t\n",
      "山上有座庙，庙里有个和尚，和尚讲故事，他说…… \n",
      "\t\n",
      "山上有座庙，庙里有个和尚，和尚讲故事，他说…… \n",
      "\t\n",
      "山上有座庙，庙里有个和尚，和尚讲故事，他说…… \n",
      "\t\n",
      "山上有座庙，庙里有个和尚，和尚讲故事，他说…… \n",
      "\t\n",
      "山上有座庙，庙里有个和尚，和尚讲故事，他说…… \n",
      "\t\n",
      "山上有座庙，庙里有个和尚，和尚讲故事，他说…… \n",
      "\t\n",
      "山上有座庙，庙里有个和尚，和尚讲故事，他说…… \n",
      "\t\n",
      "山上有座庙，庙里有个和尚，和尚讲故事，他说…… \n",
      "\t\n",
      "山上有座庙，庙里有个和尚，和尚讲故事，他说…… \n",
      "\t\n",
      "山上有座庙，庙里有个和尚，和尚讲故事，他说…… \n",
      "\t\n",
      "山上有座庙，庙里有个和尚，和尚讲故事，他说…… \n",
      "\t\n",
      "山上有座庙，庙里有个和尚，和尚讲故事，他说…… \n",
      "\t\n",
      "山上有座庙，庙里有个和尚，和尚讲故事，他说…… \n",
      "\t\n",
      "山上有座庙，庙里有个和尚，和尚讲故事，他说…… \n",
      "\t\n",
      "山上有座庙，庙里有个和尚，和尚讲故事，他说…… \n",
      "\t\n",
      "山上有座庙，庙里有个和尚，和尚讲故事，他说…… \n",
      "\t\n",
      "山上有座庙，庙里有个和尚，和尚讲故事，他说…… \n",
      "\t\n",
      "山上有座庙，庙里有个和尚，和尚讲故事，他说…… \n",
      "\t\n",
      "山上有座庙，庙里有个和尚，和尚讲故事，他说…… \n",
      "\t\n",
      "山上有座庙，庙里有个和尚，和尚讲故事，他说…… \n",
      "\t\n",
      "山上有座庙，庙里有个和尚，和尚讲故事，他说…… \n",
      "\t\n",
      "山上有座庙，庙里有个和尚，和尚讲故事，他说…… \n",
      "\t\n",
      "山上有座庙，庙里有个和尚，和尚讲故事，他说…… \n",
      "\t\n",
      "山上有座庙，庙里有个和尚，和尚讲故事，他说…… \n",
      "\t\n",
      "山上有座庙，庙里有个和尚，和尚讲故事，他说…… \n",
      "\t\n",
      "山上有座庙，庙里有个和尚，和尚讲故事，他说…… \n",
      "\t\n",
      "山上有座庙，庙里有个和尚，和尚讲故事，他说…… \n",
      "\t\n",
      "山上有座庙，庙里有个和尚，和尚讲故事，他说…… \n",
      "\t\n",
      "山上有座庙，庙里有个和尚，和尚讲故事，他说…… \n",
      "\t\n",
      "山上有座庙，庙里有个和尚，和尚讲故事，他说…… \n",
      "\t\n",
      "山上有座庙，庙里有个和尚，和尚讲故事，他说…… \n",
      "\t\n",
      "山上有座庙，庙里有个和尚，和尚讲故事，他说…… \n",
      "\t\n",
      "山上有座庙，庙里有个和尚，和尚讲故事，他说…… \n",
      "\t\n",
      "山上有座庙，庙里有个和尚，和尚讲故事，他说…… \n",
      "\t\n",
      "山上有座庙，庙里有个和尚，和尚讲故事，他说…… \n",
      "\t\n",
      "山上有座庙，庙里有个和尚，和尚讲故事，他说…… \n",
      "\t\n",
      "山上有座庙，庙里有个和尚，和尚讲故事，他说…… \n",
      "\t\n",
      "山上有座庙，庙里有个和尚，和尚讲故事，他说…… \n",
      "\t\n",
      "山上有座庙，庙里有个和尚，和尚讲故事，他说…… \n",
      "\t\n",
      "山上有座庙，庙里有个和尚，和尚讲故事，他说…… \n",
      "\t\n",
      "山上有座庙，庙里有个和尚，和尚讲故事，他说…… \n",
      "\t\n",
      "山上有座庙，庙里有个和尚，和尚讲故事，他说…… \n",
      "\t\n",
      "山上有座庙，庙里有个和尚，和尚讲故事，他说…… \n",
      "\t\n",
      "山上有座庙，庙里有个和尚，和尚讲故事，他说…… \n",
      "\t\n",
      "山上有座庙，庙里有个和尚，和尚讲故事，他说…… \n",
      "\t\n",
      "山上有座庙，庙里有个和尚，和尚讲故事，他说…… \n",
      "\t\n",
      "山上有座庙，庙里有个和尚，和尚讲故事，他说…… \n",
      "\t\n",
      "山上有座庙，庙里有个和尚，和尚讲故事，他说…… \n",
      "\t\n",
      "山上有座庙，庙里有个和尚，和尚讲故事，他说…… \n",
      "\t\n",
      "山上有座庙，庙里有个和尚，和尚讲故事，他说…… \n",
      "\t\n",
      "山上有座庙，庙里有个和尚，和尚讲故事，他说…… \n",
      "\t\n",
      "山上有座庙，庙里有个和尚，和尚讲故事，他说…… \n",
      "\t\n",
      "山上有座庙，庙里有个和尚，和尚讲故事，他说…… \n",
      "\t\n",
      "山上有座庙，庙里有个和尚，和尚讲故事，他说…… \n",
      "\t\n",
      "山上有座庙，庙里有个和尚，和尚讲故事，他说…… \n",
      "\t\n",
      "山上有座庙，庙里有个和尚，和尚讲故事，他说…… \n",
      "\t\n",
      "山上有座庙，庙里有个和尚，和尚讲故事，他说…… \n",
      "\t\n",
      "山上有座庙，庙里有个和尚，和尚讲故事，他说…… \n",
      "\t\n",
      "山上有座庙，庙里有个和尚，和尚讲故事，他说…… \n",
      "\t\n",
      "山上有座庙，庙里有个和尚，和尚讲故事，他说…… \n",
      "\t\n",
      "山上有座庙，庙里有个和尚，和尚讲故事，他说…… \n",
      "\t\n",
      "山上有座庙，庙里有个和尚，和尚讲故事，他说…… \n",
      "\t\n",
      "山上有座庙，庙里有个和尚，和尚讲故事，他说…… \n",
      "\t\n",
      "山上有座庙，庙里有个和尚，和尚讲故事，他说…… \n",
      "\t\n",
      "山上有座庙，庙里有个和尚，和尚讲故事，他说…… \n",
      "\t\n",
      "山上有座庙，庙里有个和尚，和尚讲故事，他说…… \n",
      "\t\n",
      "山上有座庙，庙里有个和尚，和尚讲故事，他说…… \n",
      "\t\n",
      "山上有座庙，庙里有个和尚，和尚讲故事，他说…… \n",
      "\t\n",
      "山上有座庙，庙里有个和尚，和尚讲故事，他说…… \n",
      "\t\n",
      "山上有座庙，庙里有个和尚，和尚讲故事，他说…… \n",
      "\t\n",
      "山上有座庙，庙里有个和尚，和尚讲故事，他说…… \n",
      "\t\n",
      "山上有座庙，庙里有个和尚，和尚讲故事，他说…… \n",
      "\t\n",
      "山上有座庙，庙里有个和尚，和尚讲故事，他说…… \n",
      "\t\n",
      "山上有座庙，庙里有个和尚，和尚讲故事，他说…… \n",
      "\t\n",
      "山上有座庙，庙里有个和尚，和尚讲故事，他说…… \n",
      "\t\n",
      "山上有座庙，庙里有个和尚，和尚讲故事，他说…… \n",
      "\t\n",
      "山上有座庙，庙里有个和尚，和尚讲故事，他说…… \n",
      "\t\n",
      "山上有座庙，庙里有个和尚，和尚讲故事，他说…… \n",
      "\t\n",
      "山上有座庙，庙里有个和尚，和尚讲故事，他说…… \n",
      "\t\n",
      "山上有座庙，庙里有个和尚，和尚讲故事，他说…… \n",
      "\t\n",
      "山上有座庙，庙里有个和尚，和尚讲故事，他说…… \n",
      "\t\n",
      "山上有座庙，庙里有个和尚，和尚讲故事，他说…… \n",
      "\t\n",
      "山上有座庙，庙里有个和尚，和尚讲故事，他说…… \n",
      "\t\n",
      "山上有座庙，庙里有个和尚，和尚讲故事，他说…… \n",
      "\t\n",
      "山上有座庙，庙里有个和尚，和尚讲故事，他说…… \n",
      "\t\n",
      "山上有座庙，庙里有个和尚，和尚讲故事，他说…… \n",
      "\t\n",
      "山上有座庙，庙里有个和尚，和尚讲故事，他说…… \n",
      "\t\n",
      "山上有座庙，庙里有个和尚，和尚讲故事，他说…… \n",
      "\t\n",
      "山上有座庙，庙里有个和尚，和尚讲故事，他说…… \n",
      "\t\n",
      "山上有座庙，庙里有个和尚，和尚讲故事，他说…… \n",
      "\t\n",
      "山上有座庙，庙里有个和尚，和尚讲故事，他说…… \n",
      "\t\n",
      "山上有座庙，庙里有个和尚，和尚讲故事，他说…… \n",
      "\t\n",
      "山上有座庙，庙里有个和尚，和尚讲故事，他说…… \n",
      "\t\n",
      "山上有座庙，庙里有个和尚，和尚讲故事，他说…… \n",
      "\t\n",
      "山上有座庙，庙里有个和尚，和尚讲故事，他说…… \n",
      "\t\n",
      "山上有座庙，庙里有个和尚，和尚讲故事，他说…… \n",
      "\t\n",
      "山上有座庙，庙里有个和尚，和尚讲故事，他说…… \n",
      "\t\n",
      "山上有座庙，庙里有个和尚，和尚讲故事，他说…… \n",
      "\t\n",
      "山上有座庙，庙里有个和尚，和尚讲故事，他说…… \n",
      "\t\n",
      "山上有座庙，庙里有个和尚，和尚讲故事，他说…… \n",
      "\t\n",
      "山上有座庙，庙里有个和尚，和尚讲故事，他说…… \n",
      "\t\n",
      "山上有座庙，庙里有个和尚，和尚讲故事，他说…… \n",
      "\t\n",
      "山上有座庙，庙里有个和尚，和尚讲故事，他说…… \n",
      "\t\n",
      "山上有座庙，庙里有个和尚，和尚讲故事，他说…… \n",
      "\t\n",
      "山上有座庙，庙里有个和尚，和尚讲故事，他说…… \n",
      "\t\n",
      "山上有座庙，庙里有个和尚，和尚讲故事，他说…… \n",
      "\t\n",
      "山上有座庙，庙里有个和尚，和尚讲故事，他说…… \n",
      "\t\n",
      "山上有座庙，庙里有个和尚，和尚讲故事，他说…… \n",
      "\t\n",
      "山上有座庙，庙里有个和尚，和尚讲故事，他说…… \n",
      "\t\n",
      "山上有座庙，庙里有个和尚，和尚讲故事，他说…… \n",
      "\t\n",
      "山上有座庙，庙里有个和尚，和尚讲故事，他说…… \n",
      "\t\n",
      "山上有座庙，庙里有个和尚，和尚讲故事，他说…… \n",
      "\t\n",
      "山上有座庙，庙里有个和尚，和尚讲故事，他说…… \n",
      "\t\n",
      "山上有座庙，庙里有个和尚，和尚讲故事，他说…… \n",
      "\t\n",
      "山上有座庙，庙里有个和尚，和尚讲故事，他说…… \n",
      "\t\n",
      "山上有座庙，庙里有个和尚，和尚讲故事，他说…… \n",
      "\t\n",
      "山上有座庙，庙里有个和尚，和尚讲故事，他说…… \n",
      "\t\n",
      "山上有座庙，庙里有个和尚，和尚讲故事，他说…… \n",
      "\t\n",
      "山上有座庙，庙里有个和尚，和尚讲故事，他说…… \n",
      "\t\n",
      "山上有座庙，庙里有个和尚，和尚讲故事，他说…… \n",
      "\t\n",
      "山上有座庙，庙里有个和尚，和尚讲故事，他说…… \n",
      "\t\n",
      "山上有座庙，庙里有个和尚，和尚讲故事，他说…… \n",
      "\t\n",
      "山上有座庙，庙里有个和尚，和尚讲故事，他说…… \n",
      "\t\n",
      "山上有座庙，庙里有个和尚，和尚讲故事，他说…… \n",
      "\t\n",
      "山上有座庙，庙里有个和尚，和尚讲故事，他说…… \n",
      "\t\n",
      "山上有座庙，庙里有个和尚，和尚讲故事，他说…… \n",
      "\t\n",
      "山上有座庙，庙里有个和尚，和尚讲故事，他说…… \n",
      "\t\n",
      "山上有座庙，庙里有个和尚，和尚讲故事，他说…… \n",
      "\t\n",
      "山上有座庙，庙里有个和尚，和尚讲故事，他说…… \n",
      "\t\n",
      "山上有座庙，庙里有个和尚，和尚讲故事，他说…… \n",
      "\t\n",
      "山上有座庙，庙里有个和尚，和尚讲故事，他说…… \n",
      "\t\n",
      "山上有座庙，庙里有个和尚，和尚讲故事，他说…… \n",
      "\t\n",
      "山上有座庙，庙里有个和尚，和尚讲故事，他说…… \n",
      "\t\n",
      "山上有座庙，庙里有个和尚，和尚讲故事，他说…… \n",
      "\t\n",
      "山上有座庙，庙里有个和尚，和尚讲故事，他说…… \n",
      "\t\n",
      "山上有座庙，庙里有个和尚，和尚讲故事，他说…… \n",
      "\t\n",
      "山上有座庙，庙里有个和尚，和尚讲故事，他说…… \n",
      "\t\n",
      "山上有座庙，庙里有个和尚，和尚讲故事，他说…… \n",
      "\t\n",
      "山上有座庙，庙里有个和尚，和尚讲故事，他说…… \n",
      "\t\n",
      "山上有座庙，庙里有个和尚，和尚讲故事，他说…… \n",
      "\t\n",
      "山上有座庙，庙里有个和尚，和尚讲故事，他说…… \n",
      "\t\n",
      "山上有座庙，庙里有个和尚，和尚讲故事，他说…… \n",
      "\t\n",
      "山上有座庙，庙里有个和尚，和尚讲故事，他说…… \n",
      "\t\n",
      "山上有座庙，庙里有个和尚，和尚讲故事，他说…… \n",
      "\t\n",
      "山上有座庙，庙里有个和尚，和尚讲故事，他说…… \n",
      "\t\n",
      "山上有座庙，庙里有个和尚，和尚讲故事，他说…… \n",
      "\t\n",
      "山上有座庙，庙里有个和尚，和尚讲故事，他说…… \n",
      "\t\n",
      "山上有座庙，庙里有个和尚，和尚讲故事，他说…… \n",
      "\t\n",
      "山上有座庙，庙里有个和尚，和尚讲故事，他说…… \n",
      "\t\n",
      "山上有座庙，庙里有个和尚，和尚讲故事，他说…… \n",
      "\t\n",
      "山上有座庙，庙里有个和尚，和尚讲故事，他说…… \n",
      "\t\n",
      "山上有座庙，庙里有个和尚，和尚讲故事，他说…… \n",
      "\t\n",
      "山上有座庙，庙里有个和尚，和尚讲故事，他说…… \n",
      "\t\n",
      "山上有座庙，庙里有个和尚，和尚讲故事，他说…… \n",
      "\t\n",
      "山上有座庙，庙里有个和尚，和尚讲故事，他说…… \n",
      "\t\n",
      "山上有座庙，庙里有个和尚，和尚讲故事，他说…… \n",
      "\t\n",
      "山上有座庙，庙里有个和尚，和尚讲故事，他说…… \n",
      "\t\n",
      "山上有座庙，庙里有个和尚，和尚讲故事，他说…… \n",
      "\t\n",
      "山上有座庙，庙里有个和尚，和尚讲故事，他说…… \n",
      "\t\n",
      "山上有座庙，庙里有个和尚，和尚讲故事，他说…… \n",
      "\t\n",
      "山上有座庙，庙里有个和尚，和尚讲故事，他说…… \n",
      "\t\n",
      "山上有座庙，庙里有个和尚，和尚讲故事，他说…… \n",
      "\t\n",
      "山上有座庙，庙里有个和尚，和尚讲故事，他说…… \n",
      "\t\n",
      "山上有座庙，庙里有个和尚，和尚讲故事，他说…… \n",
      "\t\n",
      "山上有座庙，庙里有个和尚，和尚讲故事，他说…… \n",
      "\t\n",
      "山上有座庙，庙里有个和尚，和尚讲故事，他说…… \n",
      "\t\n",
      "山上有座庙，庙里有个和尚，和尚讲故事，他说…… \n",
      "\t\n",
      "山上有座庙，庙里有个和尚，和尚讲故事，他说…… \n",
      "\t\n",
      "山上有座庙，庙里有个和尚，和尚讲故事，他说…… \n",
      "\t\n",
      "山上有座庙，庙里有个和尚，和尚讲故事，他说…… \n",
      "\t\n",
      "山上有座庙，庙里有个和尚，和尚讲故事，他说…… \n",
      "\t\n",
      "山上有座庙，庙里有个和尚，和尚讲故事，他说…… \n",
      "\t\n",
      "山上有座庙，庙里有个和尚，和尚讲故事，他说…… \n",
      "\t\n",
      "山上有座庙，庙里有个和尚，和尚讲故事，他说…… \n",
      "\t\n",
      "山上有座庙，庙里有个和尚，和尚讲故事，他说…… \n",
      "\t\n",
      "山上有座庙，庙里有个和尚，和尚讲故事，他说…… \n",
      "\t\n",
      "山上有座庙，庙里有个和尚，和尚讲故事，他说…… \n",
      "\t\n",
      "山上有座庙，庙里有个和尚，和尚讲故事，他说…… \n",
      "\t\n",
      "山上有座庙，庙里有个和尚，和尚讲故事，他说…… \n",
      "\t\n",
      "山上有座庙，庙里有个和尚，和尚讲故事，他说…… \n",
      "\t\n",
      "山上有座庙，庙里有个和尚，和尚讲故事，他说…… \n",
      "\t\n",
      "山上有座庙，庙里有个和尚，和尚讲故事，他说…… \n",
      "\t\n",
      "山上有座庙，庙里有个和尚，和尚讲故事，他说…… \n",
      "\t\n",
      "山上有座庙，庙里有个和尚，和尚讲故事，他说…… \n",
      "\t\n",
      "山上有座庙，庙里有个和尚，和尚讲故事，他说…… \n",
      "\t\n",
      "山上有座庙，庙里有个和尚，和尚讲故事，他说…… \n",
      "\t\n",
      "山上有座庙，庙里有个和尚，和尚讲故事，他说…… \n",
      "\t\n",
      "山上有座庙，庙里有个和尚，和尚讲故事，他说…… \n",
      "\t\n",
      "山上有座庙，庙里有个和尚，和尚讲故事，他说…… \n",
      "\t\n",
      "山上有座庙，庙里有个和尚，和尚讲故事，他说…… \n",
      "\t\n",
      "山上有座庙，庙里有个和尚，和尚讲故事，他说…… \n",
      "\t\n",
      "山上有座庙，庙里有个和尚，和尚讲故事，他说…… \n",
      "\t\n",
      "山上有座庙，庙里有个和尚，和尚讲故事，他说…… \n",
      "\t\n",
      "山上有座庙，庙里有个和尚，和尚讲故事，他说…… \n",
      "\t\n",
      "山上有座庙，庙里有个和尚，和尚讲故事，他说…… \n",
      "\t\n",
      "山上有座庙，庙里有个和尚，和尚讲故事，他说…… \n",
      "\t\n",
      "山上有座庙，庙里有个和尚，和尚讲故事，他说…… \n",
      "\t\n",
      "山上有座庙，庙里有个和尚，和尚讲故事，他说…… \n",
      "\t\n",
      "山上有座庙，庙里有个和尚，和尚讲故事，他说…… \n",
      "\t\n",
      "山上有座庙，庙里有个和尚，和尚讲故事，他说…… \n",
      "\t\n",
      "山上有座庙，庙里有个和尚，和尚讲故事，他说…… \n",
      "\t\n",
      "山上有座庙，庙里有个和尚，和尚讲故事，他说…… \n",
      "\t\n",
      "山上有座庙，庙里有个和尚，和尚讲故事，他说…… \n",
      "\t\n",
      "山上有座庙，庙里有个和尚，和尚讲故事，他说…… \n",
      "\t\n",
      "山上有座庙，庙里有个和尚，和尚讲故事，他说…… \n",
      "\t\n",
      "山上有座庙，庙里有个和尚，和尚讲故事，他说…… \n",
      "\t\n",
      "山上有座庙，庙里有个和尚，和尚讲故事，他说…… \n",
      "\t\n",
      "山上有座庙，庙里有个和尚，和尚讲故事，他说…… \n",
      "\t\n",
      "山上有座庙，庙里有个和尚，和尚讲故事，他说…… \n",
      "\t\n",
      "山上有座庙，庙里有个和尚，和尚讲故事，他说…… \n",
      "\t\n",
      "山上有座庙，庙里有个和尚，和尚讲故事，他说…… \n",
      "\t\n",
      "山上有座庙，庙里有个和尚，和尚讲故事，他说…… \n",
      "\t\n",
      "山上有座庙，庙里有个和尚，和尚讲故事，他说…… \n",
      "\t\n",
      "山上有座庙，庙里有个和尚，和尚讲故事，他说…… \n",
      "\t\n",
      "山上有座庙，庙里有个和尚，和尚讲故事，他说…… \n",
      "\t\n",
      "山上有座庙，庙里有个和尚，和尚讲故事，他说…… \n",
      "\t\n",
      "山上有座庙，庙里有个和尚，和尚讲故事，他说…… \n",
      "\t\n",
      "山上有座庙，庙里有个和尚，和尚讲故事，他说…… \n",
      "\t\n",
      "山上有座庙，庙里有个和尚，和尚讲故事，他说…… \n",
      "\t\n",
      "山上有座庙，庙里有个和尚，和尚讲故事，他说…… \n",
      "\t\n",
      "山上有座庙，庙里有个和尚，和尚讲故事，他说…… \n",
      "\t\n",
      "山上有座庙，庙里有个和尚，和尚讲故事，他说…… \n",
      "\t\n",
      "山上有座庙，庙里有个和尚，和尚讲故事，他说…… \n",
      "\t\n",
      "山上有座庙，庙里有个和尚，和尚讲故事，他说…… \n",
      "\t\n",
      "山上有座庙，庙里有个和尚，和尚讲故事，他说…… \n",
      "\t\n",
      "山上有座庙，庙里有个和尚，和尚讲故事，他说…… \n",
      "\t\n",
      "山上有座庙，庙里有个和尚，和尚讲故事，他说…… \n",
      "\t\n",
      "山上有座庙，庙里有个和尚，和尚讲故事，他说…… \n",
      "\t\n",
      "山上有座庙，庙里有个和尚，和尚讲故事，他说…… \n",
      "\t\n",
      "山上有座庙，庙里有个和尚，和尚讲故事，他说…… \n",
      "\t\n",
      "山上有座庙，庙里有个和尚，和尚讲故事，他说…… \n",
      "\t\n",
      "山上有座庙，庙里有个和尚，和尚讲故事，他说…… \n",
      "\t\n",
      "山上有座庙，庙里有个和尚，和尚讲故事，他说…… \n",
      "\t\n",
      "山上有座庙，庙里有个和尚，和尚讲故事，他说…… \n",
      "\t\n",
      "山上有座庙，庙里有个和尚，和尚讲故事，他说…… \n",
      "\t\n",
      "山上有座庙，庙里有个和尚，和尚讲故事，他说…… \n",
      "\t\n",
      "山上有座庙，庙里有个和尚，和尚讲故事，他说…… \n",
      "\t\n",
      "山上有座庙，庙里有个和尚，和尚讲故事，他说…… \n",
      "\t\n",
      "山上有座庙，庙里有个和尚，和尚讲故事，他说…… \n",
      "\t\n",
      "山上有座庙，庙里有个和尚，和尚讲故事，他说…… \n",
      "\t\n",
      "山上有座庙，庙里有个和尚，和尚讲故事，他说…… \n",
      "\t\n",
      "山上有座庙，庙里有个和尚，和尚讲故事，他说…… \n",
      "\t\n",
      "山上有座庙，庙里有个和尚，和尚讲故事，他说…… \n",
      "\t\n",
      "山上有座庙，庙里有个和尚，和尚讲故事，他说…… \n",
      "\t\n",
      "山上有座庙，庙里有个和尚，和尚讲故事，他说…… \n",
      "\t\n",
      "山上有座庙，庙里有个和尚，和尚讲故事，他说…… \n",
      "\t\n",
      "山上有座庙，庙里有个和尚，和尚讲故事，他说…… \n",
      "\t\n",
      "山上有座庙，庙里有个和尚，和尚讲故事，他说…… \n",
      "\t\n",
      "山上有座庙，庙里有个和尚，和尚讲故事，他说…… \n",
      "\t\n",
      "山上有座庙，庙里有个和尚，和尚讲故事，他说…… \n",
      "\t\n",
      "山上有座庙，庙里有个和尚，和尚讲故事，他说…… \n",
      "\t\n",
      "山上有座庙，庙里有个和尚，和尚讲故事，他说…… \n",
      "\t\n",
      "山上有座庙，庙里有个和尚，和尚讲故事，他说…… \n",
      "\t\n",
      "山上有座庙，庙里有个和尚，和尚讲故事，他说…… \n",
      "\t\n",
      "山上有座庙，庙里有个和尚，和尚讲故事，他说…… \n",
      "\t\n",
      "山上有座庙，庙里有个和尚，和尚讲故事，他说…… \n",
      "\t\n",
      "山上有座庙，庙里有个和尚，和尚讲故事，他说…… \n",
      "\t\n",
      "山上有座庙，庙里有个和尚，和尚讲故事，他说…… \n",
      "\t\n",
      "山上有座庙，庙里有个和尚，和尚讲故事，他说…… \n",
      "\t\n",
      "山上有座庙，庙里有个和尚，和尚讲故事，他说…… \n",
      "\t\n",
      "山上有座庙，庙里有个和尚，和尚讲故事，他说…… \n",
      "\t\n",
      "山上有座庙，庙里有个和尚，和尚讲故事，他说…… \n",
      "\t\n",
      "山上有座庙，庙里有个和尚，和尚讲故事，他说…… \n",
      "\t\n",
      "山上有座庙，庙里有个和尚，和尚讲故事，他说…… \n",
      "\t\n",
      "山上有座庙，庙里有个和尚，和尚讲故事，他说…… \n",
      "\t\n",
      "山上有座庙，庙里有个和尚，和尚讲故事，他说…… \n",
      "\t\n",
      "山上有座庙，庙里有个和尚，和尚讲故事，他说…… \n",
      "\t\n",
      "山上有座庙，庙里有个和尚，和尚讲故事，他说…… \n",
      "\t\n",
      "山上有座庙，庙里有个和尚，和尚讲故事，他说…… \n",
      "\t\n",
      "山上有座庙，庙里有个和尚，和尚讲故事，他说…… \n",
      "\t\n",
      "山上有座庙，庙里有个和尚，和尚讲故事，他说…… \n",
      "\t\n",
      "山上有座庙，庙里有个和尚，和尚讲故事，他说…… \n",
      "\t\n",
      "山上有座庙，庙里有个和尚，和尚讲故事，他说…… \n",
      "\t\n",
      "山上有座庙，庙里有个和尚，和尚讲故事，他说…… \n",
      "\t\n",
      "山上有座庙，庙里有个和尚，和尚讲故事，他说…… \n",
      "\t\n",
      "山上有座庙，庙里有个和尚，和尚讲故事，他说…… \n",
      "\t\n",
      "山上有座庙，庙里有个和尚，和尚讲故事，他说…… \n",
      "\t\n",
      "山上有座庙，庙里有个和尚，和尚讲故事，他说…… \n",
      "\t\n",
      "山上有座庙，庙里有个和尚，和尚讲故事，他说…… \n",
      "\t\n",
      "山上有座庙，庙里有个和尚，和尚讲故事，他说…… \n",
      "\t\n",
      "山上有座庙，庙里有个和尚，和尚讲故事，他说…… \n",
      "\t\n",
      "山上有座庙，庙里有个和尚，和尚讲故事，他说…… \n",
      "\t\n",
      "山上有座庙，庙里有个和尚，和尚讲故事，他说…… \n",
      "\t\n",
      "山上有座庙，庙里有个和尚，和尚讲故事，他说…… \n",
      "\t\n",
      "山上有座庙，庙里有个和尚，和尚讲故事，他说…… \n",
      "\t\n",
      "山上有座庙，庙里有个和尚，和尚讲故事，他说…… \n",
      "\t\n",
      "山上有座庙，庙里有个和尚，和尚讲故事，他说…… \n",
      "\t\n",
      "山上有座庙，庙里有个和尚，和尚讲故事，他说…… \n",
      "\t\n",
      "山上有座庙，庙里有个和尚，和尚讲故事，他说…… \n",
      "\t\n",
      "山上有座庙，庙里有个和尚，和尚讲故事，他说…… \n",
      "\t\n",
      "山上有座庙，庙里有个和尚，和尚讲故事，他说…… \n",
      "\t\n",
      "山上有座庙，庙里有个和尚，和尚讲故事，他说…… \n",
      "\t\n",
      "山上有座庙，庙里有个和尚，和尚讲故事，他说…… \n",
      "\t\n",
      "山上有座庙，庙里有个和尚，和尚讲故事，他说…… \n",
      "\t\n",
      "山上有座庙，庙里有个和尚，和尚讲故事，他说…… \n",
      "\t\n",
      "山上有座庙，庙里有个和尚，和尚讲故事，他说…… \n",
      "\t\n",
      "山上有座庙，庙里有个和尚，和尚讲故事，他说…… \n",
      "\t\n",
      "山上有座庙，庙里有个和尚，和尚讲故事，他说…… \n",
      "\t\n",
      "山上有座庙，庙里有个和尚，和尚讲故事，他说…… \n",
      "\t\n",
      "山上有座庙，庙里有个和尚，和尚讲故事，他说…… \n",
      "\t\n",
      "山上有座庙，庙里有个和尚，和尚讲故事，他说…… \n",
      "\t\n",
      "山上有座庙，庙里有个和尚，和尚讲故事，他说…… \n",
      "\t\n",
      "山上有座庙，庙里有个和尚，和尚讲故事，他说…… \n",
      "\t\n",
      "山上有座庙，庙里有个和尚，和尚讲故事，他说…… \n",
      "\t\n",
      "山上有座庙，庙里有个和尚，和尚讲故事，他说…… \n",
      "\t\n",
      "山上有座庙，庙里有个和尚，和尚讲故事，他说…… \n",
      "\t\n",
      "山上有座庙，庙里有个和尚，和尚讲故事，他说…… \n",
      "\t\n",
      "山上有座庙，庙里有个和尚，和尚讲故事，他说…… \n",
      "\t\n",
      "山上有座庙，庙里有个和尚，和尚讲故事，他说…… \n",
      "\t\n",
      "山上有座庙，庙里有个和尚，和尚讲故事，他说…… \n",
      "\t\n",
      "山上有座庙，庙里有个和尚，和尚讲故事，他说…… \n",
      "\t\n",
      "山上有座庙，庙里有个和尚，和尚讲故事，他说…… \n",
      "\t\n",
      "山上有座庙，庙里有个和尚，和尚讲故事，他说…… \n",
      "\t\n",
      "山上有座庙，庙里有个和尚，和尚讲故事，他说…… \n",
      "\t\n",
      "山上有座庙，庙里有个和尚，和尚讲故事，他说…… \n",
      "\t\n",
      "山上有座庙，庙里有个和尚，和尚讲故事，他说…… \n",
      "\t\n",
      "山上有座庙，庙里有个和尚，和尚讲故事，他说…… \n",
      "\t\n",
      "山上有座庙，庙里有个和尚，和尚讲故事，他说…… \n",
      "\t\n",
      "山上有座庙，庙里有个和尚，和尚讲故事，他说…… \n",
      "\t\n",
      "山上有座庙，庙里有个和尚，和尚讲故事，他说…… \n",
      "\t\n",
      "山上有座庙，庙里有个和尚，和尚讲故事，他说…… \n",
      "\t\n",
      "山上有座庙，庙里有个和尚，和尚讲故事，他说…… \n",
      "\t\n",
      "山上有座庙，庙里有个和尚，和尚讲故事，他说…… \n",
      "\t\n",
      "山上有座庙，庙里有个和尚，和尚讲故事，他说…… \n",
      "\t\n",
      "山上有座庙，庙里有个和尚，和尚讲故事，他说…… \n",
      "\t\n",
      "山上有座庙，庙里有个和尚，和尚讲故事，他说…… \n",
      "\t\n",
      "山上有座庙，庙里有个和尚，和尚讲故事，他说…… \n",
      "\t\n",
      "山上有座庙，庙里有个和尚，和尚讲故事，他说…… \n",
      "\t\n",
      "山上有座庙，庙里有个和尚，和尚讲故事，他说…… \n",
      "\t\n",
      "山上有座庙，庙里有个和尚，和尚讲故事，他说…… \n",
      "\t\n",
      "山上有座庙，庙里有个和尚，和尚讲故事，他说…… \n",
      "\t\n",
      "山上有座庙，庙里有个和尚，和尚讲故事，他说…… \n",
      "\t\n",
      "山上有座庙，庙里有个和尚，和尚讲故事，他说…… \n",
      "\t\n",
      "山上有座庙，庙里有个和尚，和尚讲故事，他说…… \n",
      "\t\n",
      "山上有座庙，庙里有个和尚，和尚讲故事，他说…… \n",
      "\t\n",
      "山上有座庙，庙里有个和尚，和尚讲故事，他说…… \n",
      "\t\n",
      "山上有座庙，庙里有个和尚，和尚讲故事，他说…… \n",
      "\t\n",
      "山上有座庙，庙里有个和尚，和尚讲故事，他说…… \n",
      "\t\n",
      "山上有座庙，庙里有个和尚，和尚讲故事，他说…… \n",
      "\t\n",
      "山上有座庙，庙里有个和尚，和尚讲故事，他说…… \n",
      "\t\n",
      "山上有座庙，庙里有个和尚，和尚讲故事，他说…… \n",
      "\t\n",
      "山上有座庙，庙里有个和尚，和尚讲故事，他说…… \n",
      "\t\n",
      "山上有座庙，庙里有个和尚，和尚讲故事，他说…… \n",
      "\t\n",
      "山上有座庙，庙里有个和尚，和尚讲故事，他说…… \n",
      "\t\n",
      "山上有座庙，庙里有个和尚，和尚讲故事，他说…… \n",
      "\t\n",
      "山上有座庙，庙里有个和尚，和尚讲故事，他说…… \n",
      "\t\n",
      "山上有座庙，庙里有个和尚，和尚讲故事，他说…… \n",
      "\t\n",
      "山上有座庙，庙里有个和尚，和尚讲故事，他说…… \n",
      "\t\n",
      "山上有座庙，庙里有个和尚，和尚讲故事，他说…… \n",
      "\t\n",
      "山上有座庙，庙里有个和尚，和尚讲故事，他说…… \n",
      "\t\n",
      "山上有座庙，庙里有个和尚，和尚讲故事，他说…… \n",
      "\t\n",
      "山上有座庙，庙里有个和尚，和尚讲故事，他说…… \n",
      "\t\n",
      "山上有座庙，庙里有个和尚，和尚讲故事，他说…… \n",
      "\t\n",
      "山上有座庙，庙里有个和尚，和尚讲故事，他说…… \n",
      "\t\n",
      "山上有座庙，庙里有个和尚，和尚讲故事，他说…… \n",
      "\t\n",
      "山上有座庙，庙里有个和尚，和尚讲故事，他说…… \n",
      "\t\n",
      "山上有座庙，庙里有个和尚，和尚讲故事，他说…… \n",
      "\t\n",
      "山上有座庙，庙里有个和尚，和尚讲故事，他说…… \n",
      "\t\n",
      "山上有座庙，庙里有个和尚，和尚讲故事，他说…… \n",
      "\t\n",
      "山上有座庙，庙里有个和尚，和尚讲故事，他说…… \n",
      "\t\n",
      "山上有座庙，庙里有个和尚，和尚讲故事，他说…… \n",
      "\t\n",
      "山上有座庙，庙里有个和尚，和尚讲故事，他说…… \n",
      "\t\n",
      "山上有座庙，庙里有个和尚，和尚讲故事，他说…… \n",
      "\t\n",
      "山上有座庙，庙里有个和尚，和尚讲故事，他说…… \n",
      "\t\n",
      "山上有座庙，庙里有个和尚，和尚讲故事，他说…… \n",
      "\t\n",
      "山上有座庙，庙里有个和尚，和尚讲故事，他说…… \n",
      "\t\n",
      "山上有座庙，庙里有个和尚，和尚讲故事，他说…… \n",
      "\t\n",
      "山上有座庙，庙里有个和尚，和尚讲故事，他说…… \n",
      "\t\n",
      "山上有座庙，庙里有个和尚，和尚讲故事，他说…… \n",
      "\t\n",
      "山上有座庙，庙里有个和尚，和尚讲故事，他说…… \n",
      "\t\n",
      "山上有座庙，庙里有个和尚，和尚讲故事，他说…… \n",
      "\t\n",
      "山上有座庙，庙里有个和尚，和尚讲故事，他说…… \n",
      "\t\n",
      "山上有座庙，庙里有个和尚，和尚讲故事，他说…… \n",
      "\t\n",
      "山上有座庙，庙里有个和尚，和尚讲故事，他说…… \n",
      "\t\n",
      "山上有座庙，庙里有个和尚，和尚讲故事，他说…… \n",
      "\t\n",
      "山上有座庙，庙里有个和尚，和尚讲故事，他说…… \n",
      "\t\n",
      "山上有座庙，庙里有个和尚，和尚讲故事，他说…… \n",
      "\t\n",
      "山上有座庙，庙里有个和尚，和尚讲故事，他说…… \n",
      "\t\n",
      "山上有座庙，庙里有个和尚，和尚讲故事，他说…… \n",
      "\t\n",
      "山上有座庙，庙里有个和尚，和尚讲故事，他说…… \n",
      "\t\n",
      "山上有座庙，庙里有个和尚，和尚讲故事，他说…… \n",
      "\t\n",
      "山上有座庙，庙里有个和尚，和尚讲故事，他说…… \n",
      "\t\n",
      "山上有座庙，庙里有个和尚，和尚讲故事，他说…… \n",
      "\t\n",
      "山上有座庙，庙里有个和尚，和尚讲故事，他说…… \n",
      "\t\n",
      "山上有座庙，庙里有个和尚，和尚讲故事，他说…… \n",
      "\t\n",
      "山上有座庙，庙里有个和尚，和尚讲故事，他说…… \n",
      "\t\n",
      "山上有座庙，庙里有个和尚，和尚讲故事，他说…… \n",
      "\t\n",
      "山上有座庙，庙里有个和尚，和尚讲故事，他说…… \n",
      "\t\n",
      "山上有座庙，庙里有个和尚，和尚讲故事，他说…… \n",
      "\t\n",
      "山上有座庙，庙里有个和尚，和尚讲故事，他说…… \n",
      "\t\n",
      "山上有座庙，庙里有个和尚，和尚讲故事，他说…… \n",
      "\t\n",
      "山上有座庙，庙里有个和尚，和尚讲故事，他说…… \n",
      "\t\n",
      "山上有座庙，庙里有个和尚，和尚讲故事，他说…… \n",
      "\t\n",
      "山上有座庙，庙里有个和尚，和尚讲故事，他说…… \n",
      "\t\n",
      "山上有座庙，庙里有个和尚，和尚讲故事，他说…… \n",
      "\t\n",
      "山上有座庙，庙里有个和尚，和尚讲故事，他说…… \n",
      "\t\n",
      "山上有座庙，庙里有个和尚，和尚讲故事，他说…… \n",
      "\t\n",
      "山上有座庙，庙里有个和尚，和尚讲故事，他说…… \n",
      "\t\n",
      "山上有座庙，庙里有个和尚，和尚讲故事，他说…… \n",
      "\t\n",
      "山上有座庙，庙里有个和尚，和尚讲故事，他说…… \n",
      "\t\n",
      "山上有座庙，庙里有个和尚，和尚讲故事，他说…… \n",
      "\t\n",
      "山上有座庙，庙里有个和尚，和尚讲故事，他说…… \n",
      "\t\n",
      "山上有座庙，庙里有个和尚，和尚讲故事，他说…… \n",
      "\t\n",
      "山上有座庙，庙里有个和尚，和尚讲故事，他说…… \n",
      "\t\n",
      "山上有座庙，庙里有个和尚，和尚讲故事，他说…… \n",
      "\t\n",
      "山上有座庙，庙里有个和尚，和尚讲故事，他说…… \n",
      "\t\n",
      "山上有座庙，庙里有个和尚，和尚讲故事，他说…… \n",
      "\t\n",
      "山上有座庙，庙里有个和尚，和尚讲故事，他说…… \n",
      "\t\n",
      "山上有座庙，庙里有个和尚，和尚讲故事，他说…… \n",
      "\t\n",
      "山上有座庙，庙里有个和尚，和尚讲故事，他说…… \n",
      "\t\n",
      "山上有座庙，庙里有个和尚，和尚讲故事，他说…… \n",
      "\t\n",
      "山上有座庙，庙里有个和尚，和尚讲故事，他说…… \n",
      "\t\n",
      "山上有座庙，庙里有个和尚，和尚讲故事，他说…… \n",
      "\t\n",
      "山上有座庙，庙里有个和尚，和尚讲故事，他说…… \n",
      "\t\n",
      "山上有座庙，庙里有个和尚，和尚讲故事，他说…… \n",
      "\t\n",
      "山上有座庙，庙里有个和尚，和尚讲故事，他说…… \n",
      "\t\n",
      "山上有座庙，庙里有个和尚，和尚讲故事，他说…… \n",
      "\t\n",
      "山上有座庙，庙里有个和尚，和尚讲故事，他说…… \n",
      "\t\n",
      "山上有座庙，庙里有个和尚，和尚讲故事，他说…… \n",
      "\t\n",
      "山上有座庙，庙里有个和尚，和尚讲故事，他说…… \n",
      "\t\n",
      "山上有座庙，庙里有个和尚，和尚讲故事，他说…… \n",
      "\t\n",
      "山上有座庙，庙里有个和尚，和尚讲故事，他说…… \n",
      "\t\n",
      "山上有座庙，庙里有个和尚，和尚讲故事，他说…… \n",
      "\t\n",
      "山上有座庙，庙里有个和尚，和尚讲故事，他说…… \n",
      "\t\n",
      "山上有座庙，庙里有个和尚，和尚讲故事，他说…… \n",
      "\t\n",
      "山上有座庙，庙里有个和尚，和尚讲故事，他说…… \n",
      "\t\n",
      "山上有座庙，庙里有个和尚，和尚讲故事，他说…… \n",
      "\t\n",
      "山上有座庙，庙里有个和尚，和尚讲故事，他说…… \n",
      "\t\n",
      "山上有座庙，庙里有个和尚，和尚讲故事，他说…… \n",
      "\t\n",
      "山上有座庙，庙里有个和尚，和尚讲故事，他说…… \n",
      "\t\n",
      "山上有座庙，庙里有个和尚，和尚讲故事，他说…… \n",
      "\t\n",
      "山上有座庙，庙里有个和尚，和尚讲故事，他说…… \n",
      "\t\n",
      "山上有座庙，庙里有个和尚，和尚讲故事，他说…… \n",
      "\t\n",
      "山上有座庙，庙里有个和尚，和尚讲故事，他说…… \n",
      "\t\n",
      "山上有座庙，庙里有个和尚，和尚讲故事，他说…… \n",
      "\t\n",
      "山上有座庙，庙里有个和尚，和尚讲故事，他说…… \n",
      "\t\n",
      "山上有座庙，庙里有个和尚，和尚讲故事，他说…… \n",
      "\t\n",
      "山上有座庙，庙里有个和尚，和尚讲故事，他说…… \n",
      "\t\n",
      "山上有座庙，庙里有个和尚，和尚讲故事，他说…… \n",
      "\t\n",
      "山上有座庙，庙里有个和尚，和尚讲故事，他说…… \n",
      "\t\n",
      "山上有座庙，庙里有个和尚，和尚讲故事，他说…… \n",
      "\t\n",
      "山上有座庙，庙里有个和尚，和尚讲故事，他说…… \n",
      "\t\n",
      "山上有座庙，庙里有个和尚，和尚讲故事，他说…… \n",
      "\t\n",
      "山上有座庙，庙里有个和尚，和尚讲故事，他说…… \n",
      "\t\n",
      "山上有座庙，庙里有个和尚，和尚讲故事，他说…… \n",
      "\t\n",
      "山上有座庙，庙里有个和尚，和尚讲故事，他说…… \n",
      "\t\n",
      "山上有座庙，庙里有个和尚，和尚讲故事，他说…… \n",
      "\t\n",
      "山上有座庙，庙里有个和尚，和尚讲故事，他说…… \n",
      "\t\n",
      "山上有座庙，庙里有个和尚，和尚讲故事，他说…… \n",
      "\t\n",
      "山上有座庙，庙里有个和尚，和尚讲故事，他说…… \n",
      "\t\n",
      "山上有座庙，庙里有个和尚，和尚讲故事，他说…… \n",
      "\t\n",
      "山上有座庙，庙里有个和尚，和尚讲故事，他说…… \n",
      "\t\n",
      "山上有座庙，庙里有个和尚，和尚讲故事，他说…… \n",
      "\t\n",
      "山上有座庙，庙里有个和尚，和尚讲故事，他说…… \n",
      "\t\n",
      "山上有座庙，庙里有个和尚，和尚讲故事，他说…… \n",
      "\t\n",
      "山上有座庙，庙里有个和尚，和尚讲故事，他说…… \n",
      "\t\n",
      "山上有座庙，庙里有个和尚，和尚讲故事，他说…… \n",
      "\t\n",
      "山上有座庙，庙里有个和尚，和尚讲故事，他说…… \n",
      "\t\n",
      "山上有座庙，庙里有个和尚，和尚讲故事，他说…… \n",
      "\t\n",
      "山上有座庙，庙里有个和尚，和尚讲故事，他说…… \n",
      "\t\n",
      "山上有座庙，庙里有个和尚，和尚讲故事，他说…… \n",
      "\t\n",
      "山上有座庙，庙里有个和尚，和尚讲故事，他说…… \n",
      "\t\n",
      "山上有座庙，庙里有个和尚，和尚讲故事，他说…… \n",
      "\t\n",
      "山上有座庙，庙里有个和尚，和尚讲故事，他说…… \n",
      "\t\n",
      "山上有座庙，庙里有个和尚，和尚讲故事，他说…… \n",
      "\t\n",
      "山上有座庙，庙里有个和尚，和尚讲故事，他说…… \n",
      "\t\n",
      "山上有座庙，庙里有个和尚，和尚讲故事，他说…… \n",
      "\t\n",
      "山上有座庙，庙里有个和尚，和尚讲故事，他说…… \n",
      "\t\n",
      "山上有座庙，庙里有个和尚，和尚讲故事，他说…… \n",
      "\t\n",
      "山上有座庙，庙里有个和尚，和尚讲故事，他说…… \n",
      "\t\n",
      "山上有座庙，庙里有个和尚，和尚讲故事，他说…… \n",
      "\t\n",
      "山上有座庙，庙里有个和尚，和尚讲故事，他说…… \n",
      "\t\n",
      "山上有座庙，庙里有个和尚，和尚讲故事，他说…… \n",
      "\t\n",
      "山上有座庙，庙里有个和尚，和尚讲故事，他说…… \n",
      "\t\n",
      "山上有座庙，庙里有个和尚，和尚讲故事，他说…… \n",
      "\t\n",
      "山上有座庙，庙里有个和尚，和尚讲故事，他说…… \n",
      "\t\n",
      "山上有座庙，庙里有个和尚，和尚讲故事，他说…… \n",
      "\t\n",
      "山上有座庙，庙里有个和尚，和尚讲故事，他说…… \n",
      "\t\n",
      "山上有座庙，庙里有个和尚，和尚讲故事，他说…… \n",
      "\t\n",
      "山上有座庙，庙里有个和尚，和尚讲故事，他说…… \n",
      "\t\n",
      "山上有座庙，庙里有个和尚，和尚讲故事，他说…… \n",
      "\t\n",
      "山上有座庙，庙里有个和尚，和尚讲故事，他说…… \n",
      "\t\n",
      "山上有座庙，庙里有个和尚，和尚讲故事，他说…… \n",
      "\t\n",
      "山上有座庙，庙里有个和尚，和尚讲故事，他说…… \n",
      "\t\n",
      "山上有座庙，庙里有个和尚，和尚讲故事，他说…… \n",
      "\t\n",
      "山上有座庙，庙里有个和尚，和尚讲故事，他说…… \n",
      "\t\n",
      "山上有座庙，庙里有个和尚，和尚讲故事，他说…… \n",
      "\t\n",
      "山上有座庙，庙里有个和尚，和尚讲故事，他说…… \n",
      "\t\n",
      "山上有座庙，庙里有个和尚，和尚讲故事，他说…… \n",
      "\t\n",
      "山上有座庙，庙里有个和尚，和尚讲故事，他说…… \n",
      "\t\n",
      "山上有座庙，庙里有个和尚，和尚讲故事，他说…… \n",
      "\t\n",
      "山上有座庙，庙里有个和尚，和尚讲故事，他说…… \n",
      "\t\n",
      "山上有座庙，庙里有个和尚，和尚讲故事，他说…… \n",
      "\t\n",
      "山上有座庙，庙里有个和尚，和尚讲故事，他说…… \n",
      "\t\n",
      "山上有座庙，庙里有个和尚，和尚讲故事，他说…… \n",
      "\t\n",
      "山上有座庙，庙里有个和尚，和尚讲故事，他说…… \n",
      "\t\n",
      "山上有座庙，庙里有个和尚，和尚讲故事，他说…… \n",
      "\t\n",
      "山上有座庙，庙里有个和尚，和尚讲故事，他说…… \n",
      "\t\n",
      "山上有座庙，庙里有个和尚，和尚讲故事，他说…… \n",
      "\t\n",
      "山上有座庙，庙里有个和尚，和尚讲故事，他说…… \n",
      "\t\n",
      "山上有座庙，庙里有个和尚，和尚讲故事，他说…… \n",
      "\t\n",
      "山上有座庙，庙里有个和尚，和尚讲故事，他说…… \n",
      "\t\n",
      "山上有座庙，庙里有个和尚，和尚讲故事，他说…… \n",
      "\t\n",
      "山上有座庙，庙里有个和尚，和尚讲故事，他说…… \n",
      "\t\n",
      "山上有座庙，庙里有个和尚，和尚讲故事，他说…… \n",
      "\t\n",
      "山上有座庙，庙里有个和尚，和尚讲故事，他说…… \n",
      "\t\n",
      "山上有座庙，庙里有个和尚，和尚讲故事，他说…… \n",
      "\t\n",
      "山上有座庙，庙里有个和尚，和尚讲故事，他说…… \n",
      "\t\n",
      "山上有座庙，庙里有个和尚，和尚讲故事，他说…… \n",
      "\t\n",
      "山上有座庙，庙里有个和尚，和尚讲故事，他说…… \n",
      "\t\n",
      "山上有座庙，庙里有个和尚，和尚讲故事，他说…… \n",
      "\t\n",
      "山上有座庙，庙里有个和尚，和尚讲故事，他说…… \n",
      "\t\n",
      "山上有座庙，庙里有个和尚，和尚讲故事，他说…… \n",
      "\t\n",
      "山上有座庙，庙里有个和尚，和尚讲故事，他说…… \n",
      "\t\n",
      "山上有座庙，庙里有个和尚，和尚讲故事，他说…… \n",
      "\t\n",
      "山上有座庙，庙里有个和尚，和尚讲故事，他说…… \n",
      "\t\n",
      "山上有座庙，庙里有个和尚，和尚讲故事，他说…… \n",
      "\t\n",
      "山上有座庙，庙里有个和尚，和尚讲故事，他说…… \n",
      "\t\n",
      "山上有座庙，庙里有个和尚，和尚讲故事，他说…… \n",
      "\t\n",
      "山上有座庙，庙里有个和尚，和尚讲故事，他说…… \n",
      "\t\n",
      "山上有座庙，庙里有个和尚，和尚讲故事，他说…… \n",
      "\t\n",
      "山上有座庙，庙里有个和尚，和尚讲故事，他说…… \n",
      "\t\n",
      "山上有座庙，庙里有个和尚，和尚讲故事，他说…… \n",
      "\t\n",
      "山上有座庙，庙里有个和尚，和尚讲故事，他说…… \n",
      "\t\n",
      "山上有座庙，庙里有个和尚，和尚讲故事，他说…… \n",
      "\t\n",
      "山上有座庙，庙里有个和尚，和尚讲故事，他说…… \n",
      "\t\n",
      "山上有座庙，庙里有个和尚，和尚讲故事，他说…… \n",
      "\t\n",
      "山上有座庙，庙里有个和尚，和尚讲故事，他说…… \n",
      "\t\n",
      "山上有座庙，庙里有个和尚，和尚讲故事，他说…… \n",
      "\t\n",
      "山上有座庙，庙里有个和尚，和尚讲故事，他说…… \n",
      "\t\n",
      "山上有座庙，庙里有个和尚，和尚讲故事，他说…… \n",
      "\t\n",
      "山上有座庙，庙里有个和尚，和尚讲故事，他说…… \n",
      "\t\n",
      "山上有座庙，庙里有个和尚，和尚讲故事，他说…… \n",
      "\t\n",
      "山上有座庙，庙里有个和尚，和尚讲故事，他说…… \n",
      "\t\n",
      "山上有座庙，庙里有个和尚，和尚讲故事，他说…… \n",
      "\t\n",
      "山上有座庙，庙里有个和尚，和尚讲故事，他说…… \n",
      "\t\n",
      "山上有座庙，庙里有个和尚，和尚讲故事，他说…… \n",
      "\t\n",
      "山上有座庙，庙里有个和尚，和尚讲故事，他说…… \n",
      "\t\n",
      "山上有座庙，庙里有个和尚，和尚讲故事，他说…… \n",
      "\t\n",
      "山上有座庙，庙里有个和尚，和尚讲故事，他说…… \n",
      "\t\n",
      "山上有座庙，庙里有个和尚，和尚讲故事，他说…… \n",
      "\t\n",
      "山上有座庙，庙里有个和尚，和尚讲故事，他说…… \n",
      "\t\n",
      "山上有座庙，庙里有个和尚，和尚讲故事，他说…… \n",
      "\t\n",
      "山上有座庙，庙里有个和尚，和尚讲故事，他说…… \n",
      "\t\n",
      "山上有座庙，庙里有个和尚，和尚讲故事，他说…… \n",
      "\t\n",
      "山上有座庙，庙里有个和尚，和尚讲故事，他说…… \n",
      "\t\n",
      "山上有座庙，庙里有个和尚，和尚讲故事，他说…… \n",
      "\t\n",
      "山上有座庙，庙里有个和尚，和尚讲故事，他说…… \n",
      "\t\n",
      "山上有座庙，庙里有个和尚，和尚讲故事，他说…… \n",
      "\t\n",
      "山上有座庙，庙里有个和尚，和尚讲故事，他说…… \n",
      "\t\n",
      "山上有座庙，庙里有个和尚，和尚讲故事，他说…… \n",
      "\t\n",
      "山上有座庙，庙里有个和尚，和尚讲故事，他说…… \n",
      "\t\n",
      "山上有座庙，庙里有个和尚，和尚讲故事，他说…… \n",
      "\t\n",
      "山上有座庙，庙里有个和尚，和尚讲故事，他说…… \n",
      "\t\n",
      "山上有座庙，庙里有个和尚，和尚讲故事，他说…… \n",
      "\t\n",
      "山上有座庙，庙里有个和尚，和尚讲故事，他说…… \n",
      "\t\n",
      "山上有座庙，庙里有个和尚，和尚讲故事，他说…… \n",
      "\t\n",
      "山上有座庙，庙里有个和尚，和尚讲故事，他说…… \n",
      "\t\n",
      "山上有座庙，庙里有个和尚，和尚讲故事，他说…… \n",
      "\t\n",
      "山上有座庙，庙里有个和尚，和尚讲故事，他说…… \n",
      "\t\n",
      "山上有座庙，庙里有个和尚，和尚讲故事，他说…… \n",
      "\t\n",
      "山上有座庙，庙里有个和尚，和尚讲故事，他说…… \n",
      "\t\n",
      "山上有座庙，庙里有个和尚，和尚讲故事，他说…… \n",
      "\t\n",
      "山上有座庙，庙里有个和尚，和尚讲故事，他说…… \n",
      "\t\n",
      "山上有座庙，庙里有个和尚，和尚讲故事，他说…… \n",
      "\t\n",
      "山上有座庙，庙里有个和尚，和尚讲故事，他说…… \n",
      "\t\n",
      "山上有座庙，庙里有个和尚，和尚讲故事，他说…… \n",
      "\t\n",
      "山上有座庙，庙里有个和尚，和尚讲故事，他说…… \n",
      "\t\n",
      "山上有座庙，庙里有个和尚，和尚讲故事，他说…… \n",
      "\t\n",
      "山上有座庙，庙里有个和尚，和尚讲故事，他说…… \n",
      "\t\n",
      "山上有座庙，庙里有个和尚，和尚讲故事，他说…… \n",
      "\t\n",
      "山上有座庙，庙里有个和尚，和尚讲故事，他说…… \n",
      "\t\n",
      "山上有座庙，庙里有个和尚，和尚讲故事，他说…… \n",
      "\t\n",
      "山上有座庙，庙里有个和尚，和尚讲故事，他说…… \n",
      "\t\n",
      "山上有座庙，庙里有个和尚，和尚讲故事，他说…… \n",
      "\t\n",
      "山上有座庙，庙里有个和尚，和尚讲故事，他说…… \n",
      "\t\n",
      "山上有座庙，庙里有个和尚，和尚讲故事，他说…… \n",
      "\t\n",
      "山上有座庙，庙里有个和尚，和尚讲故事，他说…… \n",
      "\t\n",
      "山上有座庙，庙里有个和尚，和尚讲故事，他说…… \n",
      "\t\n",
      "山上有座庙，庙里有个和尚，和尚讲故事，他说…… \n",
      "\t\n",
      "山上有座庙，庙里有个和尚，和尚讲故事，他说…… \n",
      "\t\n",
      "山上有座庙，庙里有个和尚，和尚讲故事，他说…… \n",
      "\t\n",
      "山上有座庙，庙里有个和尚，和尚讲故事，他说…… \n",
      "\t\n",
      "山上有座庙，庙里有个和尚，和尚讲故事，他说…… \n",
      "\t\n",
      "山上有座庙，庙里有个和尚，和尚讲故事，他说…… \n",
      "\t\n",
      "山上有座庙，庙里有个和尚，和尚讲故事，他说…… \n",
      "\t\n",
      "山上有座庙，庙里有个和尚，和尚讲故事，他说…… \n",
      "\t\n",
      "山上有座庙，庙里有个和尚，和尚讲故事，他说…… \n",
      "\t\n",
      "山上有座庙，庙里有个和尚，和尚讲故事，他说…… \n",
      "\t\n",
      "山上有座庙，庙里有个和尚，和尚讲故事，他说…… \n",
      "\t\n",
      "山上有座庙，庙里有个和尚，和尚讲故事，他说…… \n",
      "\t\n",
      "山上有座庙，庙里有个和尚，和尚讲故事，他说…… \n",
      "\t\n",
      "山上有座庙，庙里有个和尚，和尚讲故事，他说…… \n",
      "\t\n",
      "山上有座庙，庙里有个和尚，和尚讲故事，他说…… \n",
      "\t\n",
      "山上有座庙，庙里有个和尚，和尚讲故事，他说…… \n",
      "\t\n",
      "山上有座庙，庙里有个和尚，和尚讲故事，他说…… \n",
      "\t\n",
      "山上有座庙，庙里有个和尚，和尚讲故事，他说…… \n",
      "\t\n",
      "山上有座庙，庙里有个和尚，和尚讲故事，他说…… \n",
      "\t\n",
      "山上有座庙，庙里有个和尚，和尚讲故事，他说…… \n",
      "\t\n",
      "山上有座庙，庙里有个和尚，和尚讲故事，他说…… \n",
      "\t\n",
      "山上有座庙，庙里有个和尚，和尚讲故事，他说…… \n",
      "\t\n",
      "山上有座庙，庙里有个和尚，和尚讲故事，他说…… \n",
      "\t\n",
      "山上有座庙，庙里有个和尚，和尚讲故事，他说…… \n",
      "\t\n",
      "山上有座庙，庙里有个和尚，和尚讲故事，他说…… \n",
      "\t\n",
      "山上有座庙，庙里有个和尚，和尚讲故事，他说…… \n",
      "\t\n",
      "山上有座庙，庙里有个和尚，和尚讲故事，他说…… \n",
      "\t\n",
      "山上有座庙，庙里有个和尚，和尚讲故事，他说…… \n",
      "\t\n",
      "山上有座庙，庙里有个和尚，和尚讲故事，他说…… \n",
      "\t\n",
      "山上有座庙，庙里有个和尚，和尚讲故事，他说…… \n",
      "\t\n",
      "山上有座庙，庙里有个和尚，和尚讲故事，他说…… \n",
      "\t\n",
      "山上有座庙，庙里有个和尚，和尚讲故事，他说…… \n",
      "\t\n",
      "山上有座庙，庙里有个和尚，和尚讲故事，他说…… \n",
      "\t\n",
      "山上有座庙，庙里有个和尚，和尚讲故事，他说…… \n",
      "\t\n",
      "山上有座庙，庙里有个和尚，和尚讲故事，他说…… \n",
      "\t\n",
      "山上有座庙，庙里有个和尚，和尚讲故事，他说…… \n",
      "\t\n",
      "山上有座庙，庙里有个和尚，和尚讲故事，他说…… \n",
      "\t\n",
      "山上有座庙，庙里有个和尚，和尚讲故事，他说…… \n",
      "\t\n",
      "山上有座庙，庙里有个和尚，和尚讲故事，他说…… \n",
      "\t\n",
      "山上有座庙，庙里有个和尚，和尚讲故事，他说…… \n",
      "\t\n",
      "山上有座庙，庙里有个和尚，和尚讲故事，他说…… \n",
      "\t\n",
      "山上有座庙，庙里有个和尚，和尚讲故事，他说…… \n",
      "\t\n",
      "山上有座庙，庙里有个和尚，和尚讲故事，他说…… \n",
      "\t\n",
      "山上有座庙，庙里有个和尚，和尚讲故事，他说…… \n",
      "\t\n",
      "山上有座庙，庙里有个和尚，和尚讲故事，他说…… \n",
      "\t\n",
      "山上有座庙，庙里有个和尚，和尚讲故事，他说…… \n",
      "\t\n",
      "山上有座庙，庙里有个和尚，和尚讲故事，他说…… \n",
      "\t\n",
      "山上有座庙，庙里有个和尚，和尚讲故事，他说…… \n",
      "\t\n",
      "山上有座庙，庙里有个和尚，和尚讲故事，他说…… \n",
      "\t\n",
      "山上有座庙，庙里有个和尚，和尚讲故事，他说…… \n",
      "\t\n",
      "山上有座庙，庙里有个和尚，和尚讲故事，他说…… \n",
      "\t\n",
      "山上有座庙，庙里有个和尚，和尚讲故事，他说…… \n",
      "\t\n",
      "山上有座庙，庙里有个和尚，和尚讲故事，他说…… \n",
      "\t\n",
      "山上有座庙，庙里有个和尚，和尚讲故事，他说…… \n",
      "\t\n",
      "山上有座庙，庙里有个和尚，和尚讲故事，他说…… \n",
      "\t\n",
      "山上有座庙，庙里有个和尚，和尚讲故事，他说…… \n",
      "\t\n",
      "山上有座庙，庙里有个和尚，和尚讲故事，他说…… \n",
      "\t\n",
      "山上有座庙，庙里有个和尚，和尚讲故事，他说…… \n",
      "\t\n",
      "山上有座庙，庙里有个和尚，和尚讲故事，他说…… \n",
      "\t\n",
      "山上有座庙，庙里有个和尚，和尚讲故事，他说…… \n",
      "\t\n",
      "山上有座庙，庙里有个和尚，和尚讲故事，他说…… \n",
      "\t\n",
      "山上有座庙，庙里有个和尚，和尚讲故事，他说…… \n",
      "\t\n",
      "山上有座庙，庙里有个和尚，和尚讲故事，他说…… \n",
      "\t\n",
      "山上有座庙，庙里有个和尚，和尚讲故事，他说…… \n",
      "\t\n",
      "山上有座庙，庙里有个和尚，和尚讲故事，他说…… \n",
      "\t\n",
      "山上有座庙，庙里有个和尚，和尚讲故事，他说…… \n",
      "\t\n",
      "山上有座庙，庙里有个和尚，和尚讲故事，他说…… \n",
      "\t\n",
      "山上有座庙，庙里有个和尚，和尚讲故事，他说…… \n",
      "\t\n",
      "山上有座庙，庙里有个和尚，和尚讲故事，他说…… \n",
      "\t\n",
      "山上有座庙，庙里有个和尚，和尚讲故事，他说…… \n",
      "\t\n",
      "山上有座庙，庙里有个和尚，和尚讲故事，他说…… \n",
      "\t\n",
      "山上有座庙，庙里有个和尚，和尚讲故事，他说…… \n",
      "\t\n",
      "山上有座庙，庙里有个和尚，和尚讲故事，他说…… \n",
      "\t\n",
      "山上有座庙，庙里有个和尚，和尚讲故事，他说…… \n",
      "\t\n",
      "山上有座庙，庙里有个和尚，和尚讲故事，他说…… \n",
      "\t\n",
      "山上有座庙，庙里有个和尚，和尚讲故事，他说…… \n",
      "\t\n",
      "山上有座庙，庙里有个和尚，和尚讲故事，他说…… \n",
      "\t\n",
      "山上有座庙，庙里有个和尚，和尚讲故事，他说…… \n",
      "\t\n",
      "山上有座庙，庙里有个和尚，和尚讲故事，他说…… \n",
      "\t\n",
      "山上有座庙，庙里有个和尚，和尚讲故事，他说…… \n",
      "\t\n",
      "山上有座庙，庙里有个和尚，和尚讲故事，他说…… \n",
      "\t\n",
      "山上有座庙，庙里有个和尚，和尚讲故事，他说…… \n",
      "\t\n",
      "山上有座庙，庙里有个和尚，和尚讲故事，他说…… \n",
      "\t\n",
      "山上有座庙，庙里有个和尚，和尚讲故事，他说…… \n",
      "\t\n",
      "山上有座庙，庙里有个和尚，和尚讲故事，他说…… \n",
      "\t\n",
      "山上有座庙，庙里有个和尚，和尚讲故事，他说…… \n",
      "\t\n",
      "山上有座庙，庙里有个和尚，和尚讲故事，他说…… \n",
      "\t\n",
      "山上有座庙，庙里有个和尚，和尚讲故事，他说…… \n",
      "\t\n",
      "山上有座庙，庙里有个和尚，和尚讲故事，他说…… \n",
      "\t\n",
      "山上有座庙，庙里有个和尚，和尚讲故事，他说…… \n",
      "\t\n",
      "山上有座庙，庙里有个和尚，和尚讲故事，他说…… \n",
      "\t\n",
      "山上有座庙，庙里有个和尚，和尚讲故事，他说…… \n",
      "\t\n",
      "山上有座庙，庙里有个和尚，和尚讲故事，他说…… \n",
      "\t\n",
      "山上有座庙，庙里有个和尚，和尚讲故事，他说…… \n",
      "\t\n",
      "山上有座庙，庙里有个和尚，和尚讲故事，他说…… \n",
      "\t\n",
      "山上有座庙，庙里有个和尚，和尚讲故事，他说…… \n",
      "\t\n",
      "山上有座庙，庙里有个和尚，和尚讲故事，他说…… \n",
      "\t\n",
      "山上有座庙，庙里有个和尚，和尚讲故事，他说…… \n",
      "\t\n",
      "山上有座庙，庙里有个和尚，和尚讲故事，他说…… \n",
      "\t\n",
      "山上有座庙，庙里有个和尚，和尚讲故事，他说…… \n",
      "\t\n",
      "山上有座庙，庙里有个和尚，和尚讲故事，他说…… \n",
      "\t\n",
      "山上有座庙，庙里有个和尚，和尚讲故事，他说…… \n",
      "\t\n",
      "山上有座庙，庙里有个和尚，和尚讲故事，他说…… \n",
      "\t\n",
      "山上有座庙，庙里有个和尚，和尚讲故事，他说…… \n",
      "\t\n",
      "山上有座庙，庙里有个和尚，和尚讲故事，他说…… \n",
      "\t\n",
      "山上有座庙，庙里有个和尚，和尚讲故事，他说…… \n",
      "\t\n",
      "山上有座庙，庙里有个和尚，和尚讲故事，他说…… \n",
      "\t\n",
      "山上有座庙，庙里有个和尚，和尚讲故事，他说…… \n",
      "\t\n",
      "山上有座庙，庙里有个和尚，和尚讲故事，他说…… \n",
      "\t\n",
      "山上有座庙，庙里有个和尚，和尚讲故事，他说…… \n",
      "\t\n",
      "山上有座庙，庙里有个和尚，和尚讲故事，他说…… \n",
      "\t\n",
      "山上有座庙，庙里有个和尚，和尚讲故事，他说…… \n",
      "\t\n",
      "山上有座庙，庙里有个和尚，和尚讲故事，他说…… \n",
      "\t\n",
      "山上有座庙，庙里有个和尚，和尚讲故事，他说…… \n",
      "\t\n",
      "山上有座庙，庙里有个和尚，和尚讲故事，他说…… \n",
      "\t\n",
      "山上有座庙，庙里有个和尚，和尚讲故事，他说…… \n",
      "\t\n",
      "山上有座庙，庙里有个和尚，和尚讲故事，他说…… \n",
      "\t\n",
      "山上有座庙，庙里有个和尚，和尚讲故事，他说…… \n",
      "\t\n",
      "山上有座庙，庙里有个和尚，和尚讲故事，他说…… \n",
      "\t\n",
      "山上有座庙，庙里有个和尚，和尚讲故事，他说…… \n",
      "\t\n",
      "山上有座庙，庙里有个和尚，和尚讲故事，他说…… \n",
      "\t\n",
      "山上有座庙，庙里有个和尚，和尚讲故事，他说…… \n",
      "\t\n",
      "山上有座庙，庙里有个和尚，和尚讲故事，他说…… \n",
      "\t\n",
      "山上有座庙，庙里有个和尚，和尚讲故事，他说…… \n",
      "\t\n",
      "山上有座庙，庙里有个和尚，和尚讲故事，他说…… \n",
      "\t\n",
      "山上有座庙，庙里有个和尚，和尚讲故事，他说…… \n",
      "\t\n",
      "山上有座庙，庙里有个和尚，和尚讲故事，他说…… \n",
      "\t\n",
      "山上有座庙，庙里有个和尚，和尚讲故事，他说…… \n",
      "\t\n",
      "山上有座庙，庙里有个和尚，和尚讲故事，他说…… \n",
      "\t\n",
      "山上有座庙，庙里有个和尚，和尚讲故事，他说…… \n",
      "\t\n",
      "山上有座庙，庙里有个和尚，和尚讲故事，他说…… \n",
      "\t\n",
      "山上有座庙，庙里有个和尚，和尚讲故事，他说…… \n",
      "\t\n",
      "山上有座庙，庙里有个和尚，和尚讲故事，他说…… \n",
      "\t\n",
      "山上有座庙，庙里有个和尚，和尚讲故事，他说…… \n",
      "\t\n",
      "山上有座庙，庙里有个和尚，和尚讲故事，他说…… \n",
      "\t\n",
      "山上有座庙，庙里有个和尚，和尚讲故事，他说…… \n",
      "\t\n",
      "山上有座庙，庙里有个和尚，和尚讲故事，他说…… \n",
      "\t\n",
      "山上有座庙，庙里有个和尚，和尚讲故事，他说…… \n",
      "\t\n",
      "山上有座庙，庙里有个和尚，和尚讲故事，他说…… \n",
      "\t\n",
      "山上有座庙，庙里有个和尚，和尚讲故事，他说…… \n",
      "\t\n",
      "山上有座庙，庙里有个和尚，和尚讲故事，他说…… \n",
      "\t\n",
      "山上有座庙，庙里有个和尚，和尚讲故事，他说…… \n",
      "\t\n",
      "山上有座庙，庙里有个和尚，和尚讲故事，他说…… \n",
      "\t\n",
      "山上有座庙，庙里有个和尚，和尚讲故事，他说…… \n",
      "\t\n",
      "山上有座庙，庙里有个和尚，和尚讲故事，他说…… \n",
      "\t\n",
      "山上有座庙，庙里有个和尚，和尚讲故事，他说…… \n",
      "\t\n",
      "山上有座庙，庙里有个和尚，和尚讲故事，他说…… \n",
      "\t\n",
      "山上有座庙，庙里有个和尚，和尚讲故事，他说…… \n",
      "\t\n",
      "山上有座庙，庙里有个和尚，和尚讲故事，他说…… \n",
      "\t\n",
      "山上有座庙，庙里有个和尚，和尚讲故事，他说…… \n",
      "\t\n",
      "山上有座庙，庙里有个和尚，和尚讲故事，他说…… \n",
      "\t\n",
      "山上有座庙，庙里有个和尚，和尚讲故事，他说…… \n",
      "\t\n",
      "山上有座庙，庙里有个和尚，和尚讲故事，他说…… \n",
      "\t\n",
      "山上有座庙，庙里有个和尚，和尚讲故事，他说…… \n",
      "\t\n",
      "山上有座庙，庙里有个和尚，和尚讲故事，他说…… \n",
      "\t\n",
      "山上有座庙，庙里有个和尚，和尚讲故事，他说…… \n",
      "\t\n",
      "山上有座庙，庙里有个和尚，和尚讲故事，他说…… \n",
      "\t\n",
      "山上有座庙，庙里有个和尚，和尚讲故事，他说…… \n",
      "\t\n",
      "山上有座庙，庙里有个和尚，和尚讲故事，他说…… \n",
      "\t\n",
      "山上有座庙，庙里有个和尚，和尚讲故事，他说…… \n",
      "\t\n",
      "山上有座庙，庙里有个和尚，和尚讲故事，他说…… \n",
      "\t\n",
      "山上有座庙，庙里有个和尚，和尚讲故事，他说…… \n",
      "\t\n",
      "山上有座庙，庙里有个和尚，和尚讲故事，他说…… \n",
      "\t\n",
      "山上有座庙，庙里有个和尚，和尚讲故事，他说…… \n",
      "\t\n",
      "山上有座庙，庙里有个和尚，和尚讲故事，他说…… \n",
      "\t\n",
      "山上有座庙，庙里有个和尚，和尚讲故事，他说…… \n",
      "\t\n",
      "山上有座庙，庙里有个和尚，和尚讲故事，他说…… \n",
      "\t\n",
      "山上有座庙，庙里有个和尚，和尚讲故事，他说…… \n",
      "\t\n",
      "山上有座庙，庙里有个和尚，和尚讲故事，他说…… \n",
      "\t\n",
      "山上有座庙，庙里有个和尚，和尚讲故事，他说…… \n",
      "\t\n",
      "山上有座庙，庙里有个和尚，和尚讲故事，他说…… \n",
      "\t\n",
      "山上有座庙，庙里有个和尚，和尚讲故事，他说…… \n",
      "\t\n",
      "山上有座庙，庙里有个和尚，和尚讲故事，他说…… \n",
      "\t\n",
      "山上有座庙，庙里有个和尚，和尚讲故事，他说…… \n",
      "\t\n",
      "山上有座庙，庙里有个和尚，和尚讲故事，他说…… \n",
      "\t\n",
      "山上有座庙，庙里有个和尚，和尚讲故事，他说…… \n",
      "\t\n",
      "山上有座庙，庙里有个和尚，和尚讲故事，他说…… \n",
      "\t\n",
      "山上有座庙，庙里有个和尚，和尚讲故事，他说…… \n",
      "\t\n",
      "山上有座庙，庙里有个和尚，和尚讲故事，他说…… \n",
      "\t\n",
      "山上有座庙，庙里有个和尚，和尚讲故事，他说…… \n",
      "\t\n",
      "山上有座庙，庙里有个和尚，和尚讲故事，他说…… \n",
      "\t\n",
      "山上有座庙，庙里有个和尚，和尚讲故事，他说…… \n",
      "\t\n",
      "山上有座庙，庙里有个和尚，和尚讲故事，他说…… \n",
      "\t\n",
      "山上有座庙，庙里有个和尚，和尚讲故事，他说…… \n",
      "\t\n",
      "山上有座庙，庙里有个和尚，和尚讲故事，他说…… \n",
      "\t\n",
      "山上有座庙，庙里有个和尚，和尚讲故事，他说…… \n",
      "\t\n",
      "山上有座庙，庙里有个和尚，和尚讲故事，他说…… \n",
      "\t\n",
      "山上有座庙，庙里有个和尚，和尚讲故事，他说…… \n",
      "\t\n",
      "山上有座庙，庙里有个和尚，和尚讲故事，他说…… \n",
      "\t\n",
      "山上有座庙，庙里有个和尚，和尚讲故事，他说…… \n",
      "\t\n",
      "山上有座庙，庙里有个和尚，和尚讲故事，他说…… \n",
      "\t\n",
      "山上有座庙，庙里有个和尚，和尚讲故事，他说…… \n",
      "\t\n",
      "山上有座庙，庙里有个和尚，和尚讲故事，他说…… \n",
      "\t\n",
      "山上有座庙，庙里有个和尚，和尚讲故事，他说…… \n",
      "\t\n",
      "山上有座庙，庙里有个和尚，和尚讲故事，他说…… \n",
      "\t\n",
      "山上有座庙，庙里有个和尚，和尚讲故事，他说…… \n",
      "\t\n",
      "山上有座庙，庙里有个和尚，和尚讲故事，他说…… \n",
      "\t\n",
      "山上有座庙，庙里有个和尚，和尚讲故事，他说…… \n"
     ]
    },
    {
     "ename": "RecursionError",
     "evalue": "maximum recursion depth exceeded while calling a Python object",
     "output_type": "error",
     "traceback": [
      "\u001b[0;31m---------------------------------------------------------------------------\u001b[0m",
      "\u001b[0;31mRecursionError\u001b[0m                            Traceback (most recent call last)",
      "Cell \u001b[0;32mIn[59], line 6\u001b[0m\n\u001b[1;32m      3\u001b[0m     \u001b[38;5;28mprint\u001b[39m(\u001b[38;5;124m'\u001b[39m\u001b[38;5;124m山上有座庙，庙里有个和尚，和尚讲故事，他说…… \u001b[39m\u001b[38;5;124m'\u001b[39m)\n\u001b[1;32m      4\u001b[0m     \u001b[38;5;28;01mreturn\u001b[39;00m a_monk_telling_story()\n\u001b[0;32m----> 6\u001b[0m a_monk_telling_story()\n",
      "Cell \u001b[0;32mIn[59], line 4\u001b[0m, in \u001b[0;36ma_monk_telling_story\u001b[0;34m()\u001b[0m\n\u001b[1;32m      2\u001b[0m \u001b[38;5;28mprint\u001b[39m(\u001b[38;5;124m'\u001b[39m\u001b[38;5;130;01m\\t\u001b[39;00m\u001b[38;5;124m'\u001b[39m)\n\u001b[1;32m      3\u001b[0m \u001b[38;5;28mprint\u001b[39m(\u001b[38;5;124m'\u001b[39m\u001b[38;5;124m山上有座庙，庙里有个和尚，和尚讲故事，他说…… \u001b[39m\u001b[38;5;124m'\u001b[39m)\n\u001b[0;32m----> 4\u001b[0m \u001b[38;5;28;01mreturn\u001b[39;00m a_monk_telling_story()\n",
      "Cell \u001b[0;32mIn[59], line 4\u001b[0m, in \u001b[0;36ma_monk_telling_story\u001b[0;34m()\u001b[0m\n\u001b[1;32m      2\u001b[0m \u001b[38;5;28mprint\u001b[39m(\u001b[38;5;124m'\u001b[39m\u001b[38;5;130;01m\\t\u001b[39;00m\u001b[38;5;124m'\u001b[39m)\n\u001b[1;32m      3\u001b[0m \u001b[38;5;28mprint\u001b[39m(\u001b[38;5;124m'\u001b[39m\u001b[38;5;124m山上有座庙，庙里有个和尚，和尚讲故事，他说…… \u001b[39m\u001b[38;5;124m'\u001b[39m)\n\u001b[0;32m----> 4\u001b[0m \u001b[38;5;28;01mreturn\u001b[39;00m a_monk_telling_story()\n",
      "    \u001b[0;31m[... skipping similar frames: a_monk_telling_story at line 4 (2968 times)]\u001b[0m\n",
      "Cell \u001b[0;32mIn[59], line 4\u001b[0m, in \u001b[0;36ma_monk_telling_story\u001b[0;34m()\u001b[0m\n\u001b[1;32m      2\u001b[0m \u001b[38;5;28mprint\u001b[39m(\u001b[38;5;124m'\u001b[39m\u001b[38;5;130;01m\\t\u001b[39;00m\u001b[38;5;124m'\u001b[39m)\n\u001b[1;32m      3\u001b[0m \u001b[38;5;28mprint\u001b[39m(\u001b[38;5;124m'\u001b[39m\u001b[38;5;124m山上有座庙，庙里有个和尚，和尚讲故事，他说…… \u001b[39m\u001b[38;5;124m'\u001b[39m)\n\u001b[0;32m----> 4\u001b[0m \u001b[38;5;28;01mreturn\u001b[39;00m a_monk_telling_story()\n",
      "Cell \u001b[0;32mIn[59], line 2\u001b[0m, in \u001b[0;36ma_monk_telling_story\u001b[0;34m()\u001b[0m\n\u001b[1;32m      1\u001b[0m \u001b[38;5;28;01mdef\u001b[39;00m \u001b[38;5;21ma_monk_telling_story\u001b[39m():\n\u001b[0;32m----> 2\u001b[0m     \u001b[38;5;28mprint\u001b[39m(\u001b[38;5;124m'\u001b[39m\u001b[38;5;130;01m\\t\u001b[39;00m\u001b[38;5;124m'\u001b[39m)\n\u001b[1;32m      3\u001b[0m     \u001b[38;5;28mprint\u001b[39m(\u001b[38;5;124m'\u001b[39m\u001b[38;5;124m山上有座庙，庙里有个和尚，和尚讲故事，他说…… \u001b[39m\u001b[38;5;124m'\u001b[39m)\n\u001b[1;32m      4\u001b[0m     \u001b[38;5;28;01mreturn\u001b[39;00m a_monk_telling_story()\n",
      "File \u001b[0;32m~/anaconda3/lib/python3.11/site-packages/ipykernel/iostream.py:649\u001b[0m, in \u001b[0;36mOutStream.write\u001b[0;34m(self, string)\u001b[0m\n\u001b[1;32m    646\u001b[0m     msg \u001b[38;5;241m=\u001b[39m \u001b[38;5;124m\"\u001b[39m\u001b[38;5;124mI/O operation on closed file\u001b[39m\u001b[38;5;124m\"\u001b[39m\n\u001b[1;32m    647\u001b[0m     \u001b[38;5;28;01mraise\u001b[39;00m \u001b[38;5;167;01mValueError\u001b[39;00m(msg)\n\u001b[0;32m--> 649\u001b[0m is_child \u001b[38;5;241m=\u001b[39m \u001b[38;5;129;01mnot\u001b[39;00m \u001b[38;5;28mself\u001b[39m\u001b[38;5;241m.\u001b[39m_is_master_process()\n\u001b[1;32m    650\u001b[0m \u001b[38;5;66;03m# only touch the buffer in the IO thread to avoid races\u001b[39;00m\n\u001b[1;32m    651\u001b[0m \u001b[38;5;28;01mwith\u001b[39;00m \u001b[38;5;28mself\u001b[39m\u001b[38;5;241m.\u001b[39m_buffer_lock:\n",
      "File \u001b[0;32m~/anaconda3/lib/python3.11/site-packages/ipykernel/iostream.py:520\u001b[0m, in \u001b[0;36mOutStream._is_master_process\u001b[0;34m(self)\u001b[0m\n\u001b[1;32m    519\u001b[0m \u001b[38;5;28;01mdef\u001b[39;00m \u001b[38;5;21m_is_master_process\u001b[39m(\u001b[38;5;28mself\u001b[39m):\n\u001b[0;32m--> 520\u001b[0m     \u001b[38;5;28;01mreturn\u001b[39;00m os\u001b[38;5;241m.\u001b[39mgetpid() \u001b[38;5;241m==\u001b[39m \u001b[38;5;28mself\u001b[39m\u001b[38;5;241m.\u001b[39m_master_pid\n",
      "\u001b[0;31mRecursionError\u001b[0m: maximum recursion depth exceeded while calling a Python object"
     ]
    }
   ],
   "source": [
    "def a_monk_telling_story():\n",
    "    print('\\t')\n",
    "    print('山上有座庙，庙里有个和尚，和尚讲故事，他说…… ')\n",
    "    return a_monk_telling_story()\n",
    "        \n",
    "a_monk_telling_story()"
   ]
  },
  {
   "cell_type": "code",
   "execution_count": 71,
   "id": "b4ae5caf-6f27-4608-8372-370703863af5",
   "metadata": {},
   "outputs": [
    {
     "name": "stdout",
     "output_type": "stream",
     "text": [
      "dead: False kicked: True\n",
      "I lived 1 days in dreams, and kicked out of dream\n"
     ]
    },
    {
     "data": {
      "text/plain": [
       "1"
      ]
     },
     "execution_count": 71,
     "metadata": {},
     "output_type": "execute_result"
    }
   ],
   "source": [
    "import random\n",
    "def in_dreams(days=0, dead=False, kicked=False):\n",
    "    dead = not random.randrange(0, 10)\n",
    "    kicked = not random.randrange(0, 10)\n",
    "    days += 1\n",
    "    print('dead:', dead, 'kicked:', kicked)\n",
    "    \n",
    "    if dead:\n",
    "        print(f'I lived {days} days in dreams, and out the dreams due to death')\n",
    "        return days\n",
    "    elif kicked:\n",
    "        print(f'I lived {days} days in dreams, and kicked out of dream')\n",
    "        return days\n",
    "        \n",
    "    return in_dreams(days)\n",
    "\n",
    "in_dreams()"
   ]
  },
  {
   "cell_type": "code",
   "execution_count": 73,
   "id": "3d452107-3028-47e4-818c-98534044f327",
   "metadata": {},
   "outputs": [
    {
     "data": {
      "text/plain": [
       "362880"
      ]
     },
     "execution_count": 73,
     "metadata": {},
     "output_type": "execute_result"
    }
   ],
   "source": [
    "def factorial(n):\n",
    "    if n == 1:\n",
    "        return 1\n",
    "    else:\n",
    "        return n*factorial(n-1)\n",
    "\n",
    "factorial(9)"
   ]
  },
  {
   "cell_type": "code",
   "execution_count": 76,
   "id": "53aef2e6-cedb-4d22-98fd-cda10c5e8bca",
   "metadata": {},
   "outputs": [
    {
     "data": {
      "text/plain": [
       "True"
      ]
     },
     "execution_count": 76,
     "metadata": {},
     "output_type": "execute_result"
    },
    {
     "data": {
      "text/plain": [
       "'\\n    Return a boolen value based on\\n    whether a number is a prime\\n    '"
      ]
     },
     "execution_count": 76,
     "metadata": {},
     "output_type": "execute_result"
    },
    {
     "name": "stdout",
     "output_type": "stream",
     "text": [
      "Help on function is_prime in module __main__:\n",
      "\n",
      "is_prime(n)\n",
      "    Return a boolen value based on\n",
      "    whether a number is a prime\n",
      "\n"
     ]
    }
   ],
   "source": [
    "### Document of function\n",
    "def is_prime(n):\n",
    "    '''\n",
    "    Return a boolen value based on\n",
    "    whether a number is a prime\n",
    "    '''\n",
    "    if n < 2:\n",
    "        return False\n",
    "    elif n == 2:\n",
    "        return True\n",
    "    for i in range(2, int(n**0.5) + 1):\n",
    "        if n%i == 0:\n",
    "            return False\n",
    "    else:\n",
    "        return True\n",
    "\n",
    "is_prime(5)\n",
    "is_prime.__doc__\n",
    "help(is_prime)"
   ]
  },
  {
   "cell_type": "code",
   "execution_count": 78,
   "id": "f749e62d-e6f0-4580-a620-8a2a71605745",
   "metadata": {},
   "outputs": [],
   "source": [
    "# %load mycode.py\n",
    "import mycode"
   ]
  },
  {
   "cell_type": "code",
   "execution_count": 80,
   "id": "710b6e20-0173-4812-8690-ad5b9dae6d67",
   "metadata": {},
   "outputs": [],
   "source": [
    "# %load mycode.py\n",
    "\"\"\"\n",
    "Example of python module\n",
    "\"\"\"\n",
    "\n",
    "def is_prime(n):\n",
    "    \"\"\"\n",
    "    Return a boolean value based upon\n",
    "    whether the argument n is a prime number.\n",
    "    \"\"\"\n",
    "    if n < 2:\n",
    "        return False\n",
    "    if n == 2:\n",
    "        return True\n",
    "    for m in range(2, int(n**0.5)+1):\n",
    "        if (n % m) == 0:\n",
    "            return False\n",
    "    else:\n",
    "        return True\n",
    "\n",
    "def say_hi(*names, greeting='Hello', capitalized=False):\n",
    "    \"\"\"\n",
    "    Print a string, with a greeting to everyone.\n",
    "    :param *names: tuple of names to be greeted.\n",
    "    :param greeting: 'Hello' as default.\n",
    "    :param capitalized: Whether name should be converted to capitalized before print. False as default.\n",
    "    :returns: None\n",
    "    \"\"\"\n",
    "    for name in names:\n",
    "        if capitalized:\n",
    "            name = name.capitalize()\n",
    "        print(f'{greeting}, {name}!')"
   ]
  },
  {
   "cell_type": "code",
   "execution_count": 86,
   "id": "4fc9c9c6-f4a7-4c06-9bcf-4be621dc77ae",
   "metadata": {},
   "outputs": [
    {
     "name": "stdout",
     "output_type": "stream",
     "text": [
      "Help on function is_prime in module mycode:\n",
      "\n",
      "is_prime(n)\n",
      "    Return a boolean value based upon\n",
      "    whether the argument n is a prime number.\n",
      "\n",
      "Help on function say_hi in module mycode:\n",
      "\n",
      "say_hi(*names, greeting='Hello', capitalized=False)\n",
      "    Print a string, with a greeting to everyone.\n",
      "    :param *names: tuple of names to be greeted.\n",
      "    :param greeting: 'Hello' as default.\n",
      "    :param capitalized: Whether name should be converted to capitalized before print. False as default.\n",
      "    :returns: None\n",
      "\n"
     ]
    },
    {
     "data": {
      "text/plain": [
       "'mycode'"
      ]
     },
     "execution_count": 86,
     "metadata": {},
     "output_type": "execute_result"
    },
    {
     "data": {
      "text/plain": [
       "True"
      ]
     },
     "execution_count": 86,
     "metadata": {},
     "output_type": "execute_result"
    },
    {
     "name": "stdout",
     "output_type": "stream",
     "text": [
      "Hello, ann!\n",
      "Hello, robert!\n"
     ]
    }
   ],
   "source": [
    "import mycode\n",
    "help(mycode.is_prime)\n",
    "help(mycode.say_hi)\n",
    "mycode.__name__\n",
    "\n",
    "mycode.is_prime(3)\n",
    "mycode.say_hi('ann', 'robert')\n"
   ]
  },
  {
   "cell_type": "code",
   "execution_count": 90,
   "id": "bd713be7-082f-4331-98cc-af907067d6f8",
   "metadata": {
    "scrolled": true
   },
   "outputs": [
    {
     "data": {
      "text/plain": [
       "['/Users/ruichaowang/Documents/GitHub/PythonStudy/the-craft-of-selfteaching',\n",
       " '/Users/ruichaowang/anaconda3/lib/python311.zip',\n",
       " '/Users/ruichaowang/anaconda3/lib/python3.11',\n",
       " '/Users/ruichaowang/anaconda3/lib/python3.11/lib-dynload',\n",
       " '',\n",
       " '/Users/ruichaowang/anaconda3/lib/python3.11/site-packages',\n",
       " '/Users/ruichaowang/anaconda3/lib/python3.11/site-packages/aeosa']"
      ]
     },
     "execution_count": 90,
     "metadata": {},
     "output_type": "execute_result"
    },
    {
     "data": {
      "text/plain": [
       "('_abc',\n",
       " '_ast',\n",
       " '_codecs',\n",
       " '_collections',\n",
       " '_functools',\n",
       " '_imp',\n",
       " '_io',\n",
       " '_locale',\n",
       " '_operator',\n",
       " '_signal',\n",
       " '_sre',\n",
       " '_stat',\n",
       " '_string',\n",
       " '_symtable',\n",
       " '_thread',\n",
       " '_tokenize',\n",
       " '_tracemalloc',\n",
       " '_warnings',\n",
       " '_weakref',\n",
       " 'atexit',\n",
       " 'builtins',\n",
       " 'errno',\n",
       " 'faulthandler',\n",
       " 'gc',\n",
       " 'itertools',\n",
       " 'marshal',\n",
       " 'posix',\n",
       " 'pwd',\n",
       " 'sys',\n",
       " 'time',\n",
       " 'xxsubtype')"
      ]
     },
     "execution_count": 90,
     "metadata": {},
     "output_type": "execute_result"
    },
    {
     "data": {
      "text/plain": [
       "True"
      ]
     },
     "execution_count": 90,
     "metadata": {},
     "output_type": "execute_result"
    },
    {
     "data": {
      "text/plain": [
       "False"
      ]
     },
     "execution_count": 90,
     "metadata": {},
     "output_type": "execute_result"
    }
   ],
   "source": [
    "import sys\n",
    "sys.path\n",
    "sys.builtin_module_names\n",
    "\"_sre\" in sys.builtin_module_names # True\n",
    "\"math\" in sys.builtin_module_names # True"
   ]
  },
  {
   "cell_type": "code",
   "execution_count": 93,
   "id": "9fb6be99-33c7-4b0e-a6b8-cd3a1270a699",
   "metadata": {},
   "outputs": [
    {
     "data": {
      "text/plain": [
       "True"
      ]
     },
     "execution_count": 93,
     "metadata": {},
     "output_type": "execute_result"
    },
    {
     "data": {
      "text/plain": [
       "False"
      ]
     },
     "execution_count": 93,
     "metadata": {},
     "output_type": "execute_result"
    },
    {
     "name": "stdout",
     "output_type": "stream",
     "text": [
      "Hello, ann!\n",
      "Hello, zoe!\n"
     ]
    }
   ],
   "source": [
    "from mycode import *\n",
    "from mycode import is_prime\n",
    "is_prime(7)\n",
    "\n",
    "from mycode import is_prime as ipm\n",
    "ipm(8)\n",
    "\n",
    "import mycode as m\n",
    "m.say_hi('ann', 'zoe')"
   ]
  },
  {
   "cell_type": "code",
   "execution_count": 96,
   "id": "4264a8e5-1aca-4439-8750-6d95d45619ea",
   "metadata": {
    "scrolled": true
   },
   "outputs": [
    {
     "data": {
      "text/plain": [
       "{'A': 'N',\n",
       " 'B': 'O',\n",
       " 'C': 'P',\n",
       " 'D': 'Q',\n",
       " 'E': 'R',\n",
       " 'F': 'S',\n",
       " 'G': 'T',\n",
       " 'H': 'U',\n",
       " 'I': 'V',\n",
       " 'J': 'W',\n",
       " 'K': 'X',\n",
       " 'L': 'Y',\n",
       " 'M': 'Z',\n",
       " 'N': 'A',\n",
       " 'O': 'B',\n",
       " 'P': 'C',\n",
       " 'Q': 'D',\n",
       " 'R': 'E',\n",
       " 'S': 'F',\n",
       " 'T': 'G',\n",
       " 'U': 'H',\n",
       " 'V': 'I',\n",
       " 'W': 'J',\n",
       " 'X': 'K',\n",
       " 'Y': 'L',\n",
       " 'Z': 'M',\n",
       " 'a': 'n',\n",
       " 'b': 'o',\n",
       " 'c': 'p',\n",
       " 'd': 'q',\n",
       " 'e': 'r',\n",
       " 'f': 's',\n",
       " 'g': 't',\n",
       " 'h': 'u',\n",
       " 'i': 'v',\n",
       " 'j': 'w',\n",
       " 'k': 'x',\n",
       " 'l': 'y',\n",
       " 'm': 'z',\n",
       " 'n': 'a',\n",
       " 'o': 'b',\n",
       " 'p': 'c',\n",
       " 'q': 'd',\n",
       " 'r': 'e',\n",
       " 's': 'f',\n",
       " 't': 'g',\n",
       " 'u': 'h',\n",
       " 'v': 'i',\n",
       " 'w': 'j',\n",
       " 'x': 'k',\n",
       " 'y': 'l',\n",
       " 'z': 'm'}"
      ]
     },
     "execution_count": 96,
     "metadata": {},
     "output_type": "execute_result"
    },
    {
     "data": {
      "text/plain": [
       "\"Gur Mra bs Clguba, ol Gvz Crgref\\n\\nOrnhgvshy vf orggre guna htyl.\\nRkcyvpvg vf orggre guna vzcyvpvg.\\nFvzcyr vf orggre guna pbzcyrk.\\nPbzcyrk vf orggre guna pbzcyvpngrq.\\nSyng vf orggre guna arfgrq.\\nFcnefr vf orggre guna qrafr.\\nErnqnovyvgl pbhagf.\\nFcrpvny pnfrf nera'g fcrpvny rabhtu gb oernx gur ehyrf.\\nNygubhtu cenpgvpnyvgl orngf chevgl.\\nReebef fubhyq arire cnff fvyragyl.\\nHayrff rkcyvpvgyl fvyraprq.\\nVa gur snpr bs nzovthvgl, ershfr gur grzcgngvba gb thrff.\\nGurer fubhyq or bar-- naq cersrenoyl bayl bar --boivbhf jnl gb qb vg.\\nNygubhtu gung jnl znl abg or boivbhf ng svefg hayrff lbh'er Qhgpu.\\nAbj vf orggre guna arire.\\nNygubhtu arire vf bsgra orggre guna *evtug* abj.\\nVs gur vzcyrzragngvba vf uneq gb rkcynva, vg'f n onq vqrn.\\nVs gur vzcyrzragngvba vf rnfl gb rkcynva, vg znl or n tbbq vqrn.\\nAnzrfcnprf ner bar ubaxvat terng vqrn -- yrg'f qb zber bs gubfr!\""
      ]
     },
     "execution_count": 96,
     "metadata": {},
     "output_type": "execute_result"
    }
   ],
   "source": [
    "import this\n",
    "this.d\n",
    "this.s"
   ]
  },
  {
   "cell_type": "code",
   "execution_count": 97,
   "id": "891491fa-bc12-4260-bb32-9d3a84d4e5c6",
   "metadata": {},
   "outputs": [
    {
     "name": "stdout",
     "output_type": "stream",
     "text": [
      "The Zen of Python, by Tim Peters\n",
      "Beautiful is better than ugly.\n",
      "Explicit is better than implicit.\n",
      "Simple is better than complex.\n",
      "Complex is better than complicated.\n",
      "Flat is better than nested.\n",
      "Sparse is better than dense.\n",
      "Readability counts.\n",
      "Special cases aren't special enough to break the rules.\n",
      "Although practicality beats purity.\n",
      "Errors should never pass silently.\n",
      "Unless explicitly silenced.\n",
      "In the face of ambiguity, refuse the temptation to guess.\n",
      "There should be one-- and preferably only one --obvious way to do it.\n",
      "Although that way may not be obvious at first unless you're Dutch.\n",
      "Now is better than never.\n",
      "Although never is often better than *right* now.\n",
      "If the implementation is hard to explain, it's a bad idea.\n",
      "If the implementation is easy to explain, it may be a good idea.\n",
      "Namespaces are one honking great idea -- let's do more of those!\n"
     ]
    }
   ],
   "source": [
    "### The contents in this.py\n",
    "\n",
    "s = \"\"\"Gur Mra bs Clguba, ol Gvz Crgref\n",
    "Ornhgvshy vf orggre guna htyl.\n",
    "Rkcyvpvg vf orggre guna vzcyvpvg.\n",
    "Fvzcyr vf orggre guna pbzcyrk.\n",
    "Pbzcyrk vf orggre guna pbzcyvpngrq.\n",
    "Syng vf orggre guna arfgrq.\n",
    "Fcnefr vf orggre guna qrafr.\n",
    "Ernqnovyvgl pbhagf.\n",
    "Fcrpvny pnfrf nera'g fcrpvny rabhtu gb oernx gur ehyrf.\n",
    "Nygubhtu cenpgvpnyvgl orngf chevgl.\n",
    "Reebef fubhyq arire cnff fvyragyl.\n",
    "Hayrff rkcyvpvgyl fvyraprq.\n",
    "Va gur snpr bs nzovthvgl, ershfr gur grzcgngvba gb thrff.\n",
    "Gurer fubhyq or bar-- naq cersrenoyl bayl bar --boivbhf jnl gb qb vg.\n",
    "Nygubhtu gung jnl znl abg or boivbhf ng svefg hayrff lbh'er Qhgpu.\n",
    "Abj vf orggre guna arire.\n",
    "Nygubhtu arire vf bsgra orggre guna *evtug* abj.\n",
    "Vs gur vzcyrzragngvba vf uneq gb rkcynva, vg'f n onq vqrn.\n",
    "Vs gur vzcyrzragngvba vf rnfl gb rkcynva, vg znl or n tbbq vqrn.\n",
    "Anzrfcnprf ner bar ubaxvat terng vqrn -- yrg'f qb zber bs gubfr!\"\"\"\n",
    "\n",
    "d = {}\n",
    "for c in (65, 97):\n",
    "    for i in range(26):\n",
    "        d[chr(i+c)] = chr((i+13) % 26 + c)\n",
    "\n",
    "print(\"\".join([d.get(c, c) for c in s]))"
   ]
  },
  {
   "cell_type": "code",
   "execution_count": 98,
   "id": "4154802d-c0bd-48d6-8d23-15b8f7d0a421",
   "metadata": {
    "scrolled": true
   },
   "outputs": [
    {
     "name": "stdout",
     "output_type": "stream",
     "text": [
      "Gur Mra bs Clguba, ol Gvz Crgref\n",
      "Ornhgvshy vf orggre guna htyl.\n",
      "Rkcyvpvg vf orggre guna vzcyvpvg.\n",
      "Fvzcyr vf orggre guna pbzcyrk.\n",
      "Pbzcyrk vf orggre guna pbzcyvpngrq.\n",
      "Syng vf orggre guna arfgrq.\n",
      "Fcnefr vf orggre guna qrafr.\n",
      "Ernqnovyvgl pbhagf.\n",
      "Fcrpvny pnfrf nera'g fcrpvny rabhtu gb oernx gur ehyrf.\n",
      "Nygubhtu cenpgvpnyvgl orngf chevgl.\n",
      "Reebef fubhyq arire cnff fvyragyl.\n",
      "Hayrff rkcyvpvgyl fvyraprq.\n",
      "Va gur snpr bs nzovthvgl, ershfr gur grzcgngvba gb thrff.\n",
      "Gurer fubhyq or bar-- naq cersrenoyl bayl bar --boivbhf jnl gb qb vg.\n",
      "Nygubhtu gung jnl znl abg or boivbhf ng svefg hayrff lbh'er Qhgpu.\n",
      "Abj vf orggre guna arire.\n",
      "Nygubhtu arire vf bsgra orggre guna *evtug* abj.\n",
      "Vs gur vzcyrzragngvba vf uneq gb rkcynva, vg'f n onq vqrn.\n",
      "Vs gur vzcyrzragngvba vf rnfl gb rkcynva, vg znl or n tbbq vqrn.\n",
      "Anzrfcnprf ner bar ubaxvat terng vqrn -- yrg'f qb zber bs gubfr!\n",
      "\n"
     ]
    }
   ],
   "source": [
    "s = '''The Zen of Python, by Tim Peters\n",
    "Beautiful is better than ugly.\n",
    "Explicit is better than implicit.\n",
    "Simple is better than complex.\n",
    "Complex is better than complicated.\n",
    "Flat is better than nested.\n",
    "Sparse is better than dense.\n",
    "Readability counts.\n",
    "Special cases aren't special enough to break the rules.\n",
    "Although practicality beats purity.\n",
    "Errors should never pass silently.\n",
    "Unless explicitly silenced.\n",
    "In the face of ambiguity, refuse the temptation to guess.\n",
    "There should be one-- and preferably only one --obvious way to do it.\n",
    "Although that way may not be obvious at first unless you're Dutch.\n",
    "Now is better than never.\n",
    "Although never is often better than *right* now.\n",
    "If the implementation is hard to explain, it's a bad idea.\n",
    "If the implementation is easy to explain, it may be a good idea.\n",
    "Namespaces are one honking great idea -- let's do more of those!\n",
    "'''\n",
    "\n",
    "d = {}\n",
    "\n",
    "for c in (65, 97):\n",
    "    for i in range(26):\n",
    "        d[chr(i+c)] = chr((i+13) % 26 + c)\n",
    "\n",
    "print(\"\".join([d.get(c, c) for c in s]))"
   ]
  },
  {
   "cell_type": "code",
   "execution_count": 99,
   "id": "cd671ab3-f173-4608-9c17-56c665c567f3",
   "metadata": {},
   "outputs": [
    {
     "data": {
      "text/plain": [
       "['__builtins__',\n",
       " '__cached__',\n",
       " '__doc__',\n",
       " '__file__',\n",
       " '__loader__',\n",
       " '__name__',\n",
       " '__package__',\n",
       " '__spec__',\n",
       " 'is_prime',\n",
       " 'say_hi']"
      ]
     },
     "execution_count": 99,
     "metadata": {},
     "output_type": "execute_result"
    }
   ],
   "source": [
    "import mycode\n",
    "dir(mycode)"
   ]
  },
  {
   "cell_type": "code",
   "execution_count": 101,
   "id": "a4a2430d-0381-4361-be5f-12cab219a582",
   "metadata": {},
   "outputs": [
    {
     "data": {
      "text/plain": [
       "True"
      ]
     },
     "execution_count": 101,
     "metadata": {},
     "output_type": "execute_result"
    },
    {
     "data": {
      "text/plain": [
       "True"
      ]
     },
     "execution_count": 101,
     "metadata": {},
     "output_type": "execute_result"
    },
    {
     "data": {
      "text/plain": [
       "True"
      ]
     },
     "execution_count": 101,
     "metadata": {},
     "output_type": "execute_result"
    },
    {
     "data": {
      "text/plain": [
       "True"
      ]
     },
     "execution_count": 101,
     "metadata": {},
     "output_type": "execute_result"
    }
   ],
   "source": [
    "def is_leap(year):\n",
    "    r = False\n",
    "    if year%4 == 0:\n",
    "        r = True\n",
    "        if year%100 == 0:\n",
    "            if year%400 != 0:\n",
    "                r = False\n",
    "    return r\n",
    "\n",
    "is_leap(4) is True\n",
    "is_leap(200) is False\n",
    "is_leap(220) is True\n",
    "is_leap(400) is True  "
   ]
  },
  {
   "cell_type": "code",
   "execution_count": 103,
   "id": "c54db21b-65f7-4f36-86ca-ab4c2240f920",
   "metadata": {},
   "outputs": [
    {
     "data": {
      "text/plain": [
       "True"
      ]
     },
     "execution_count": 103,
     "metadata": {},
     "output_type": "execute_result"
    },
    {
     "data": {
      "text/plain": [
       "False"
      ]
     },
     "execution_count": 103,
     "metadata": {},
     "output_type": "execute_result"
    }
   ],
   "source": [
    "def _is_leap(year):\n",
    "    return year%4 == 0 & (year%100 != 0 or year%400 == 0)\n",
    "\n",
    "is_leap(220)\n",
    "is_leap(700)\n"
   ]
  },
  {
   "cell_type": "code",
   "execution_count": 104,
   "id": "290c3453-9c68-4d5d-807f-1a3fff1393e4",
   "metadata": {},
   "outputs": [
    {
     "ename": "ZeroDivisionError",
     "evalue": "division by zero",
     "output_type": "error",
     "traceback": [
      "\u001b[0;31m---------------------------------------------------------------------------\u001b[0m",
      "\u001b[0;31mZeroDivisionError\u001b[0m                         Traceback (most recent call last)",
      "Cell \u001b[0;32mIn[104], line 1\u001b[0m\n\u001b[0;32m----> 1\u001b[0m \u001b[38;5;28mprint\u001b[39m(\u001b[38;5;241m11\u001b[39m\u001b[38;5;241m/\u001b[39m\u001b[38;5;241m0\u001b[39m)\n",
      "\u001b[0;31mZeroDivisionError\u001b[0m: division by zero"
     ]
    }
   ],
   "source": [
    "print(11/0)"
   ]
  },
  {
   "cell_type": "code",
   "execution_count": 108,
   "id": "8d4b9117-c53b-4115-8d81-80503384b24d",
   "metadata": {},
   "outputs": [
    {
     "name": "stdout",
     "output_type": "stream",
     "text": [
      "[Errno 2] No such file or directory: 'test_file.txt'\n"
     ]
    }
   ],
   "source": [
    "# f = open('test_file.txt', 'r')\n",
    "\n",
    "try:\n",
    "    f = open('test_file.txt', 'r')\n",
    "except FileNotFoundError as fnf_error:\n",
    "    print(fnf_error)"
   ]
  },
  {
   "cell_type": "code",
   "execution_count": 109,
   "id": "e268f309-d400-4359-bf45-d3741f3f0eba",
   "metadata": {},
   "outputs": [
    {
     "name": "stdout",
     "output_type": "stream",
     "text": [
      "Rounte 1 done\n",
      "Subroutine 1 is done\n",
      "Subroutine 2 is done\n",
      "Rounte 2 done\n"
     ]
    }
   ],
   "source": [
    "### main()\n",
    "\n",
    "def routine_1():\n",
    "    print(\"Routine 1 done\")\n",
    "\n",
    "def routine_2():\n",
    "    sub_routine_1()\n",
    "    sub_routine_2()\n",
    "    print('Routine 2 done')\n",
    "    \n",
    "def sub_routine_1():\n",
    "    print('Subroutine 1 is done')\n",
    "\n",
    "def sub_routine_2():\n",
    "    print('Subroutine 2 is done')\n",
    "\n",
    "def main():\n",
    "    routine_1()\n",
    "    routine_2()\n",
    "    print('this is the end of the program')\n",
    "\n",
    "if __name__ == '__main__':\n",
    "    main()"
   ]
  },
  {
   "cell_type": "code",
   "execution_count": 112,
   "id": "b1f5ea2c-b3fb-4590-a8fd-28535c72fb74",
   "metadata": {},
   "outputs": [
    {
     "name": "stdout",
     "output_type": "stream",
     "text": [
      "\n",
      "    The Zen of Python, by Tim Peters\n",
      "    Beautiful is better than ugly.\n",
      "    Explicit is better than implicit.\n",
      "    Simple is better than complex.\n",
      "    Complex is better than complicated.\n",
      "    Flat is better than nested.\n",
      "    Sparse is better than dense.\n",
      "    Readability counts.\n",
      "    Special cases aren't special enough to break the rules.\n",
      "    Although practicality beats purity.\n",
      "    Errors should never pass silently.\n",
      "    Unless explicitly silenced.\n",
      "    In the face of ambiguity, refuse the temptation to guess.\n",
      "    There should be one-- and preferably only one --obvious way to do it.\n",
      "    Although that way may not be obvious at first unless you're Dutch.\n",
      "    Now is better than never.\n",
      "    Although never is often better than *right* now.\n",
      "    If the implementation is hard to explain, it's a bad idea.\n",
      "    If the implementation is easy to explain, it may be a good idea.\n",
      "    Namespaces are one honking great idea -- let's do more of those!\n",
      "    \n"
     ]
    }
   ],
   "source": [
    "# %load that.py\n",
    "def main():\n",
    "\n",
    "    s = \"\"\"\n",
    "    Gur Mra bs Clguba, ol Gvz Crgref\n",
    "    Ornhgvshy vf orggre guna htyl.\n",
    "    Rkcyvpvg vf orggre guna vzcyvpvg.\n",
    "    Fvzcyr vf orggre guna pbzcyrk.\n",
    "    Pbzcyrk vf orggre guna pbzcyvpngrq.\n",
    "    Syng vf orggre guna arfgrq.\n",
    "    Fcnefr vf orggre guna qrafr.\n",
    "    Ernqnovyvgl pbhagf.\n",
    "    Fcrpvny pnfrf nera'g fcrpvny rabhtu gb oernx gur ehyrf.\n",
    "    Nygubhtu cenpgvpnyvgl orngf chevgl.\n",
    "    Reebef fubhyq arire cnff fvyragyl.\n",
    "    Hayrff rkcyvpvgyl fvyraprq.\n",
    "    Va gur snpr bs nzovthvgl, ershfr gur grzcgngvba gb thrff.\n",
    "    Gurer fubhyq or bar-- naq cersrenoyl bayl bar --boivbhf jnl gb qb vg.\n",
    "    Nygubhtu gung jnl znl abg or boivbhf ng svefg hayrff lbh'er Qhgpu.\n",
    "    Abj vf orggre guna arire.\n",
    "    Nygubhtu arire vf bsgra orggre guna *evtug* abj.\n",
    "    Vs gur vzcyrzragngvba vf uneq gb rkcynva, vg'f n onq vqrn.\n",
    "    Vs gur vzcyrzragngvba vf rnfl gb rkcynva, vg znl or n tbbq vqrn.\n",
    "    Anzrfcnprf ner bar ubaxvat terng vqrn -- yrg'f qb zber bs gubfr!\n",
    "    \"\"\"\n",
    "\n",
    "    d = {}\n",
    "    for c in (65, 97):\n",
    "        for i in range(26):\n",
    "            d[chr(i+c)] = chr((i+13) % 26 + c)\n",
    "\n",
    "    print(\"\".join([d.get(c, c) for c in s]))\n",
    "\n",
    "\n",
    "if __name__ == '__main__':\n",
    "    main()"
   ]
  },
  {
   "cell_type": "code",
   "execution_count": 114,
   "id": "56f661ff-141e-453f-bfc6-80facfd89044",
   "metadata": {},
   "outputs": [],
   "source": [
    "import that\n",
    "## nothing out put"
   ]
  },
  {
   "cell_type": "code",
   "execution_count": 115,
   "id": "ca78dfcf-0ef1-4ccd-8f87-01b3dd1fbd30",
   "metadata": {},
   "outputs": [
    {
     "name": "stderr",
     "output_type": "stream",
     "text": [
      "UsageError: Cell magic `%%` not found.\n"
     ]
    }
   ],
   "source": [
    "%% bash\n",
    "python that.py\n",
    "python -m that.py"
   ]
  },
  {
   "cell_type": "code",
   "execution_count": 116,
   "id": "e5491e04-7955-42cf-a513-17ea37db53f6",
   "metadata": {},
   "outputs": [
    {
     "name": "stdout",
     "output_type": "stream",
     "text": [
      "The Zen of Python, by Tim Peters\n",
      "    Beautiful is better than ugly.\n",
      "    Explicit is better than implicit.\n",
      "    Simple is better than complex.\n",
      "    Complex is better than complicated.\n",
      "    Flat is better than nested.\n",
      "    Sparse is better than dense.\n",
      "    Readability counts.\n",
      "    Special cases aren't special enough to break the rules.\n",
      "    Although practicality beats purity.\n",
      "    Errors should never pass silently.\n",
      "    Unless explicitly silenced.\n",
      "    In the face of ambiguity, refuse the temptation to guess.\n",
      "    There should be one-- and preferably only one --obvious way to do it.\n",
      "    Although that way may not be obvious at first unless you're Dutch.\n",
      "    Now is better than never.\n",
      "    Although never is often better than *right* now.\n",
      "    If the implementation is hard to explain, it's a bad idea.\n",
      "    If the implementation is easy to explain, it may be a good idea.\n",
      "    Namespaces are one honking great idea -- let's do more of those!\n"
     ]
    }
   ],
   "source": [
    "import that\n",
    "that.main()"
   ]
  },
  {
   "cell_type": "code",
   "execution_count": 118,
   "id": "ef050459-c722-471d-bfeb-91410f027142",
   "metadata": {},
   "outputs": [],
   "source": [
    "#!/usr/bin/env python\n",
    "\n",
    "def sum_of_word(word):\n",
    "    sum = 0\n",
    "    for char in word:\n",
    "        sum += ord(char) - 96\n",
    "    return sum\n",
    "\n",
    "def main(wordlist, result):\n",
    "    with open(result, mode='w') as result:\n",
    "        with open(wordlist, mode='r') as file:\n",
    "            for word in file.readlines():\n",
    "                if sum_of_word(word) == 100:\n",
    "                    result.write(word)\n",
    "                    \n",
    "if __name__ == '__main__':\n",
    "    main('words_alpha.txt', 'results.txt')\n"
   ]
  },
  {
   "cell_type": "code",
   "execution_count": 122,
   "id": "3115b13b-bea5-4922-b5a4-de065dd0e082",
   "metadata": {},
   "outputs": [
    {
     "data": {
      "text/plain": [
       "True"
      ]
     },
     "execution_count": 122,
     "metadata": {},
     "output_type": "execute_result"
    },
    {
     "data": {
      "text/plain": [
       "True"
      ]
     },
     "execution_count": 122,
     "metadata": {},
     "output_type": "execute_result"
    },
    {
     "data": {
      "text/plain": [
       "False"
      ]
     },
     "execution_count": 122,
     "metadata": {},
     "output_type": "execute_result"
    },
    {
     "data": {
      "text/plain": [
       "False"
      ]
     },
     "execution_count": 122,
     "metadata": {},
     "output_type": "execute_result"
    },
    {
     "data": {
      "text/plain": [
       "True"
      ]
     },
     "execution_count": 122,
     "metadata": {},
     "output_type": "execute_result"
    },
    {
     "data": {
      "text/plain": [
       "True"
      ]
     },
     "execution_count": 122,
     "metadata": {},
     "output_type": "execute_result"
    },
    {
     "data": {
      "text/plain": [
       "True"
      ]
     },
     "execution_count": 122,
     "metadata": {},
     "output_type": "execute_result"
    }
   ],
   "source": [
    "import this\n",
    "\n",
    "love = this\n",
    "this is love\n",
    "love is this\n",
    "\n",
    "love is True                            \n",
    "love is False                           \n",
    "love is not True or False               \n",
    "love is not True or False; love is love "
   ]
  },
  {
   "cell_type": "code",
   "execution_count": 123,
   "id": "bbd6f1fe-b801-4d34-9097-39f56107dda0",
   "metadata": {},
   "outputs": [],
   "source": [
    "import antigravity"
   ]
  },
  {
   "cell_type": "code",
   "execution_count": 133,
   "id": "844fd0ee-76e9-429d-a51c-a0dbf44f3f29",
   "metadata": {},
   "outputs": [
    {
     "data": {
      "text/plain": [
       "'Clay'"
      ]
     },
     "execution_count": 133,
     "metadata": {},
     "output_type": "execute_result"
    },
    {
     "data": {
      "text/plain": [
       "2024"
      ]
     },
     "execution_count": 133,
     "metadata": {},
     "output_type": "execute_result"
    },
    {
     "name": "stdout",
     "output_type": "stream",
     "text": [
      "hi\n"
     ]
    },
    {
     "data": {
      "text/plain": [
       "<bound method Golem.say_hi of <__main__.Golem object at 0x126fcc350>>"
      ]
     },
     "execution_count": 133,
     "metadata": {},
     "output_type": "execute_result"
    },
    {
     "data": {
      "text/plain": [
       "__main__.Golem"
      ]
     },
     "execution_count": 133,
     "metadata": {},
     "output_type": "execute_result"
    },
    {
     "data": {
      "text/plain": [
       "str"
      ]
     },
     "execution_count": 133,
     "metadata": {},
     "output_type": "execute_result"
    },
    {
     "data": {
      "text/plain": [
       "int"
      ]
     },
     "execution_count": 133,
     "metadata": {},
     "output_type": "execute_result"
    },
    {
     "data": {
      "text/plain": [
       "method"
      ]
     },
     "execution_count": 133,
     "metadata": {},
     "output_type": "execute_result"
    },
    {
     "data": {
      "text/plain": [
       "method"
      ]
     },
     "execution_count": 133,
     "metadata": {},
     "output_type": "execute_result"
    }
   ],
   "source": [
    "### Class\n",
    "from IPython.core.interactiveshell import InteractiveShell\n",
    "InteractiveShell.ast_node_show = 'all'\n",
    "import datetime\n",
    "\n",
    "class Golem:\n",
    "    \n",
    "    def __init__(self, name = None):\n",
    "        self.name = name\n",
    "        self.built_year = datetime.date.today().year\n",
    "    \n",
    "    def say_hi(self):\n",
    "        print('hi')\n",
    "\n",
    "g = Golem('Clay')\n",
    "g.name\n",
    "g.built_year\n",
    "g.say_hi()\n",
    "g.say_hi\n",
    "\n",
    "type(g)\n",
    "type(g.name)\n",
    "type(g.built_year)\n",
    "type(g.__init__)\n",
    "type(g.say_hi)\n",
    "\n"
   ]
  },
  {
   "cell_type": "code",
   "execution_count": 144,
   "id": "bbfaa043-239f-4cf9-8ff1-38363160f6cf",
   "metadata": {
    "scrolled": true
   },
   "outputs": [
    {
     "data": {
      "text/plain": [
       "'Clay'"
      ]
     },
     "execution_count": 144,
     "metadata": {},
     "output_type": "execute_result"
    },
    {
     "data": {
      "text/plain": [
       "2024"
      ]
     },
     "execution_count": 144,
     "metadata": {},
     "output_type": "execute_result"
    },
    {
     "name": "stdout",
     "output_type": "stream",
     "text": [
      "Nice whether, ahhhh, right\n",
      "I am runing\n"
     ]
    },
    {
     "data": {
      "text/plain": [
       "<bound method running_Golem.run of <__main__.running_Golem object at 0x126fd5610>>"
      ]
     },
     "execution_count": 144,
     "metadata": {},
     "output_type": "execute_result"
    },
    {
     "name": "stdout",
     "output_type": "stream",
     "text": [
      "Help on running_Golem in module __main__ object:\n",
      "\n",
      "class running_Golem(Golem)\n",
      " |  running_Golem(name=None)\n",
      " |  \n",
      " |  Method resolution order:\n",
      " |      running_Golem\n",
      " |      Golem\n",
      " |      builtins.object\n",
      " |  \n",
      " |  Methods defined here:\n",
      " |  \n",
      " |  run(self)\n",
      " |  \n",
      " |  say_hi(self)\n",
      " |  \n",
      " |  ----------------------------------------------------------------------\n",
      " |  Methods inherited from Golem:\n",
      " |  \n",
      " |  __init__(self, name=None)\n",
      " |      Initialize self.  See help(type(self)) for accurate signature.\n",
      " |  \n",
      " |  ----------------------------------------------------------------------\n",
      " |  Data descriptors inherited from Golem:\n",
      " |  \n",
      " |  __dict__\n",
      " |      dictionary for instance variables\n",
      " |  \n",
      " |  __weakref__\n",
      " |      list of weak references to the object\n",
      "\n"
     ]
    },
    {
     "data": {
      "text/plain": [
       "['__class__',\n",
       " '__delattr__',\n",
       " '__dict__',\n",
       " '__dir__',\n",
       " '__doc__',\n",
       " '__eq__',\n",
       " '__format__',\n",
       " '__ge__',\n",
       " '__getattribute__',\n",
       " '__getstate__',\n",
       " '__gt__',\n",
       " '__hash__',\n",
       " '__init__',\n",
       " '__init_subclass__',\n",
       " '__le__',\n",
       " '__lt__',\n",
       " '__module__',\n",
       " '__ne__',\n",
       " '__new__',\n",
       " '__reduce__',\n",
       " '__reduce_ex__',\n",
       " '__repr__',\n",
       " '__setattr__',\n",
       " '__sizeof__',\n",
       " '__str__',\n",
       " '__subclasshook__',\n",
       " '__weakref__',\n",
       " 'built_year',\n",
       " 'name',\n",
       " 'run',\n",
       " 'say_hi']"
      ]
     },
     "execution_count": 144,
     "metadata": {},
     "output_type": "execute_result"
    },
    {
     "data": {
      "text/plain": [
       "{'name': 'Clay', 'built_year': 2024}"
      ]
     },
     "execution_count": 144,
     "metadata": {},
     "output_type": "execute_result"
    },
    {
     "data": {
      "text/plain": [
       "True"
      ]
     },
     "execution_count": 144,
     "metadata": {},
     "output_type": "execute_result"
    }
   ],
   "source": [
    "### Inheritance\n",
    "class Golem:\n",
    "    def __init__(self, name=None):\n",
    "        self.name = name\n",
    "        self.built_year = datetime.date.today().year\n",
    "    def say_hi(self):\n",
    "        print('Hi')\n",
    "\n",
    "class running_Golem(Golem): # a subclass of Golem, inherit all the attributes and methods of Golem\n",
    "    def run(self):\n",
    "        print('I am runing')\n",
    "    def say_hi(self): # update the say_hi method in parent class\n",
    "        print('Nice whether, ahhhh, right')\n",
    "\n",
    "rg = running_Golem('Clay')\n",
    "rg.name\n",
    "rg.built_year\n",
    "\n",
    "rg.say_hi()\n",
    "rg.run()\n",
    "rg.run\n",
    "\n",
    "### inspect the object rg\n",
    "help(rg)\n",
    "dir(rg)\n",
    "rg.__dict__\n",
    "\n",
    "hasattr(rg, 'built_year')"
   ]
  },
  {
   "cell_type": "code",
   "execution_count": 20,
   "id": "ee1f9aba-26c2-4bcf-9e26-84387f9ea3b8",
   "metadata": {},
   "outputs": [
    {
     "data": {
      "text/plain": [
       "True"
      ]
     },
     "execution_count": 20,
     "metadata": {},
     "output_type": "execute_result"
    },
    {
     "data": {
      "text/plain": [
       "True"
      ]
     },
     "execution_count": 20,
     "metadata": {},
     "output_type": "execute_result"
    },
    {
     "data": {
      "text/plain": [
       "False"
      ]
     },
     "execution_count": 20,
     "metadata": {},
     "output_type": "execute_result"
    },
    {
     "data": {
      "text/plain": [
       "False"
      ]
     },
     "execution_count": 20,
     "metadata": {},
     "output_type": "execute_result"
    },
    {
     "data": {
      "text/plain": [
       "False"
      ]
     },
     "execution_count": 20,
     "metadata": {},
     "output_type": "execute_result"
    },
    {
     "data": {
      "text/plain": [
       "1"
      ]
     },
     "execution_count": 20,
     "metadata": {},
     "output_type": "execute_result"
    },
    {
     "data": {
      "text/plain": [
       "10"
      ]
     },
     "execution_count": 20,
     "metadata": {},
     "output_type": "execute_result"
    },
    {
     "data": {
      "text/plain": [
       "11"
      ]
     },
     "execution_count": 20,
     "metadata": {},
     "output_type": "execute_result"
    },
    {
     "data": {
      "text/plain": [
       "10"
      ]
     },
     "execution_count": 20,
     "metadata": {},
     "output_type": "execute_result"
    },
    {
     "data": {
      "text/plain": [
       "10"
      ]
     },
     "execution_count": 20,
     "metadata": {},
     "output_type": "execute_result"
    },
    {
     "data": {
      "text/plain": [
       "True"
      ]
     },
     "execution_count": 20,
     "metadata": {},
     "output_type": "execute_result"
    }
   ],
   "source": [
    "### Scope of variable\n",
    "from IPython.core.interactiveshell import InteractiveShell\n",
    "InteractiveShell.ast_node_interactivity = \"all\"\n",
    "\n",
    "import datetime\n",
    "\n",
    "class Golem:\n",
    "    population = 0\n",
    "    __life_span = 10\n",
    "    \n",
    "    def __init__(self, name=None):\n",
    "        self.name = name\n",
    "        self.built_year = datetime.date.today().year\n",
    "        self.__active = True\n",
    "        Golem.population += 1\n",
    "\n",
    "    def say_hi(self):\n",
    "        print('Hello')\n",
    "\n",
    "    def cease(self):\n",
    "        self.__active = False\n",
    "        Golem.population -= 1\n",
    "\n",
    "    def is_active(self):\n",
    "        if (datetime.date.today().year - self.built_year > Golem.__life_span):\n",
    "            self.cease()\n",
    "        return self.__active  \n",
    "        \n",
    "g = Golem()\n",
    "hasattr(Golem, 'population')      # True\n",
    "hasattr(g, 'population')          # True\n",
    "hasattr(Golem, '__life_span')     # False\n",
    "hasattr(g, '__life_span')         # False\n",
    "hasattr(g, '__active')            # False\n",
    "\n",
    "Golem.population\n",
    "setattr(Golem, 'population', 10) \n",
    "Golem.population                  # 10\n",
    "\n",
    "x = Golem()\n",
    "Golem.population                  # 11\n",
    "x.cease()\n",
    "Golem.population                  # 10\n",
    "getattr(g, 'population')          # 10\n",
    "g.is_active()\n",
    "\n"
   ]
  },
  {
   "cell_type": "code",
   "execution_count": 35,
   "id": "276ce13c-6a94-4899-bacc-bd5f8c379899",
   "metadata": {},
   "outputs": [
    {
     "data": {
      "text/plain": [
       "3"
      ]
     },
     "execution_count": 35,
     "metadata": {},
     "output_type": "execute_result"
    },
    {
     "ename": "AttributeError",
     "evalue": "property 'population' of 'Golem' object has no setter",
     "output_type": "error",
     "traceback": [
      "\u001b[0;31m---------------------------------------------------------------------------\u001b[0m",
      "\u001b[0;31mAttributeError\u001b[0m                            Traceback (most recent call last)",
      "Cell \u001b[0;32mIn[35], line 36\u001b[0m\n\u001b[1;32m     32\u001b[0m \u001b[38;5;66;03m#g.__population\u001b[39;00m\n\u001b[1;32m     33\u001b[0m \u001b[38;5;66;03m#g.population()  \u001b[39;00m\n\u001b[1;32m     34\u001b[0m \u001b[38;5;66;03m#h.population()\u001b[39;00m\n\u001b[1;32m     35\u001b[0m g\u001b[38;5;241m.\u001b[39mpopulation\n\u001b[0;32m---> 36\u001b[0m g\u001b[38;5;241m.\u001b[39mpopulation \u001b[38;5;241m=\u001b[39m \u001b[38;5;241m100\u001b[39m\n",
      "\u001b[0;31mAttributeError\u001b[0m: property 'population' of 'Golem' object has no setter"
     ]
    }
   ],
   "source": [
    "from IPython.core.interactiveshell import InteractiveShell\n",
    "InteractiveShell.ast_node_interactivity = 'all'\n",
    "\n",
    "class Golem():\n",
    "    __population = 0\n",
    "    __life_span = 10\n",
    "\n",
    "    def __init__(self, name = None):\n",
    "        self.name = name\n",
    "        self.built_year = datetime.date.today().year\n",
    "        self.__active = True\n",
    "        Golem.__population += 1\n",
    "\n",
    "    def say_hi(self):\n",
    "        print('Hello!')\n",
    "\n",
    "    def cease(self):\n",
    "        self.__active = False\n",
    "        Golem.__population -= 1\n",
    "        \n",
    "    def is_active(self):\n",
    "        if datetime.date.today().year - self.built_year >= Golem.__life_span:\n",
    "            self.__active = False\n",
    "\n",
    "    @property # so that you can use g.population, otherwise should write g.population() to return the population\n",
    "    def population(self):\n",
    "        return Golem.__population\n",
    "\n",
    "g = Golem('clay')\n",
    "h = Golem('hello')\n",
    "c = Golem('Cartoo')\n",
    "#g.__population\n",
    "#g.population()  \n",
    "#h.population()\n",
    "g.population\n",
    "g.population = 100 # raise error, since we can not assign values to population from out side\n",
    "        \n"
   ]
  },
  {
   "cell_type": "code",
   "execution_count": 48,
   "id": "2cbef30f-e274-45c2-896a-e064a167122a",
   "metadata": {},
   "outputs": [
    {
     "data": {
      "text/plain": [
       "1"
      ]
     },
     "execution_count": 48,
     "metadata": {},
     "output_type": "execute_result"
    },
    {
     "data": {
      "text/plain": [
       "2"
      ]
     },
     "execution_count": 48,
     "metadata": {},
     "output_type": "execute_result"
    },
    {
     "name": "stdout",
     "output_type": "stream",
     "text": [
      "Help on class Golem in module __main__:\n",
      "\n",
      "class Golem(builtins.object)\n",
      " |  Golem(name=None)\n",
      " |  \n",
      " |  Methods defined here:\n",
      " |  \n",
      " |  __init__(self, name=None)\n",
      " |      Initialize self.  See help(type(self)) for accurate signature.\n",
      " |  \n",
      " |  cease(self)\n",
      " |  \n",
      " |  is_active(self)\n",
      " |  \n",
      " |  say_hi(self)\n",
      " |  \n",
      " |  ----------------------------------------------------------------------\n",
      " |  Data descriptors defined here:\n",
      " |  \n",
      " |  __dict__\n",
      " |      dictionary for instance variables\n",
      " |  \n",
      " |  __weakref__\n",
      " |      list of weak references to the object\n",
      " |  \n",
      " |  population\n",
      "\n"
     ]
    },
    {
     "data": {
      "text/plain": [
       "mappingproxy({'__module__': '__main__',\n",
       "              '_Golem__population': 2,\n",
       "              '_Golem__life_span': 10,\n",
       "              '__init__': <function __main__.Golem.__init__(self, name=None)>,\n",
       "              'say_hi': <function __main__.Golem.say_hi(self)>,\n",
       "              'cease': <function __main__.Golem.cease(self)>,\n",
       "              'is_active': <function __main__.Golem.is_active(self)>,\n",
       "              'population': <property at 0x1041527a0>,\n",
       "              '__dict__': <attribute '__dict__' of 'Golem' objects>,\n",
       "              '__weakref__': <attribute '__weakref__' of 'Golem' objects>,\n",
       "              '__doc__': None})"
      ]
     },
     "execution_count": 48,
     "metadata": {},
     "output_type": "execute_result"
    },
    {
     "data": {
      "text/plain": [
       "{'name': 'Clay', 'built_year': 2024, '_Golem__active': True}"
      ]
     },
     "execution_count": 48,
     "metadata": {},
     "output_type": "execute_result"
    },
    {
     "data": {
      "text/plain": [
       "True"
      ]
     },
     "execution_count": 48,
     "metadata": {},
     "output_type": "execute_result"
    },
    {
     "data": {
      "text/plain": [
       "True"
      ]
     },
     "execution_count": 48,
     "metadata": {},
     "output_type": "execute_result"
    },
    {
     "data": {
      "text/plain": [
       "<property at 0x1041527a0>"
      ]
     },
     "execution_count": 48,
     "metadata": {},
     "output_type": "execute_result"
    },
    {
     "data": {
      "text/plain": [
       "10000"
      ]
     },
     "execution_count": 48,
     "metadata": {},
     "output_type": "execute_result"
    }
   ],
   "source": [
    "### But if we really want to assign values to population from out side \n",
    "import datetime\n",
    "\n",
    "class Golem:\n",
    "    __population = 0\n",
    "    __life_span = 10\n",
    "\n",
    "    def __init__(self, name=None):\n",
    "        self.name = name\n",
    "        self.built_year = datetime.date.today().year\n",
    "        self.__active = True\n",
    "        Golem.__population += 1\n",
    "    \n",
    "    def say_hi(self):\n",
    "        print('Hello')\n",
    "\n",
    "    def cease(self):\n",
    "        self.__active = False\n",
    "        Golem.__population -= 1\n",
    "    \n",
    "    def is_active(self):\n",
    "        if datetime.date.today().year - self.built_year <= Golem.__life_span:\n",
    "            self.__active = False\n",
    "    \n",
    "    @property # with this, we can check the population from outside\n",
    "    def population(self):\n",
    "        return Golem.__population\n",
    "\n",
    "    @population.setter # with this, we can set the population from out side\n",
    "    def population(self, value):\n",
    "        Golem.__population = value\n",
    "\n",
    "g = Golem('Clay')\n",
    "g.population\n",
    "# g.population() # got errors\n",
    "ga = Golem('NewClay')\n",
    "ga.population\n",
    "\n",
    "help(Golem)\n",
    "Golem.__dict__\n",
    "g.__dict__\n",
    "\n",
    "hasattr(Golem, 'population')\n",
    "hasattr(g, 'population')\n",
    "getattr(Golem, 'population')\n",
    "setattr(Golem, 'population', 10000)\n",
    "g.population\n"
   ]
  },
  {
   "cell_type": "code",
   "execution_count": 52,
   "id": "7ae64098-87f4-4fde-b5df-8b745e484caa",
   "metadata": {},
   "outputs": [
    {
     "name": "stdout",
     "output_type": "stream",
     "text": [
      "T, h, i, s,  , i, s,  , a,  , s, t, r, i, n, g, \n",
      "1, 6, hello, python, \n",
      "jac, abc, cnn, \n"
     ]
    }
   ],
   "source": [
    "## Iterator, Decorator, Generator\n",
    "string = 'This is a string'\n",
    "list = [1, 6, 'hello', 'python'] \n",
    "set = ('jac', 'abc', 'cnn') # tuple\n",
    "\n",
    "for s in string:\n",
    "    print(s, end = ', ')\n",
    "print()\n",
    "\n",
    "for v in list:\n",
    "    print(v, end = ', ')\n",
    "print()\n",
    "\n",
    "for t in set:\n",
    "    print(t, end = ', ')\n",
    "print()"
   ]
  },
  {
   "cell_type": "code",
   "execution_count": 54,
   "id": "08aec8ac-d613-4600-88dc-e570564b6a61",
   "metadata": {},
   "outputs": [
    {
     "data": {
      "text/plain": [
       "str_ascii_iterator"
      ]
     },
     "execution_count": 54,
     "metadata": {},
     "output_type": "execute_result"
    },
    {
     "data": {
      "text/plain": [
       "list_iterator"
      ]
     },
     "execution_count": 54,
     "metadata": {},
     "output_type": "execute_result"
    },
    {
     "data": {
      "text/plain": [
       "tuple_iterator"
      ]
     },
     "execution_count": 54,
     "metadata": {},
     "output_type": "execute_result"
    }
   ],
   "source": [
    "## use iter\n",
    "i = iter('python')\n",
    "type(i)\n",
    "\n",
    "L = iter([1, 2, 'abc', 'cnn'])\n",
    "type(L)\n",
    "\n",
    "s = iter(('Benn', 'Able', 'Ccanda'))\n",
    "type(s)\n"
   ]
  },
  {
   "cell_type": "code",
   "execution_count": 55,
   "id": "236f0ea9-a48c-4219-9c9a-6eab67761436",
   "metadata": {},
   "outputs": [
    {
     "data": {
      "text/plain": [
       "'p'"
      ]
     },
     "execution_count": 55,
     "metadata": {},
     "output_type": "execute_result"
    },
    {
     "data": {
      "text/plain": [
       "'y'"
      ]
     },
     "execution_count": 55,
     "metadata": {},
     "output_type": "execute_result"
    },
    {
     "data": {
      "text/plain": [
       "'t'"
      ]
     },
     "execution_count": 55,
     "metadata": {},
     "output_type": "execute_result"
    },
    {
     "data": {
      "text/plain": [
       "'h'"
      ]
     },
     "execution_count": 55,
     "metadata": {},
     "output_type": "execute_result"
    },
    {
     "data": {
      "text/plain": [
       "'o'"
      ]
     },
     "execution_count": 55,
     "metadata": {},
     "output_type": "execute_result"
    },
    {
     "data": {
      "text/plain": [
       "'n'"
      ]
     },
     "execution_count": 55,
     "metadata": {},
     "output_type": "execute_result"
    },
    {
     "ename": "StopIteration",
     "evalue": "",
     "output_type": "error",
     "traceback": [
      "\u001b[0;31m---------------------------------------------------------------------------\u001b[0m",
      "\u001b[0;31mStopIteration\u001b[0m                             Traceback (most recent call last)",
      "Cell \u001b[0;32mIn[55], line 9\u001b[0m\n\u001b[1;32m      7\u001b[0m \u001b[38;5;28mnext\u001b[39m(i)\n\u001b[1;32m      8\u001b[0m \u001b[38;5;28mnext\u001b[39m(i)\n\u001b[0;32m----> 9\u001b[0m \u001b[38;5;28mnext\u001b[39m(i)\n",
      "\u001b[0;31mStopIteration\u001b[0m: "
     ]
    }
   ],
   "source": [
    "## use next()\n",
    "i = iter('python')\n",
    "next(i)\n",
    "next(i)\n",
    "next(i)\n",
    "next(i)\n",
    "next(i)\n",
    "next(i)\n",
    "next(i)\n",
    "\n"
   ]
  },
  {
   "cell_type": "code",
   "execution_count": 67,
   "id": "e7df51db-2435-46fe-a16e-528ab4f62da5",
   "metadata": {},
   "outputs": [
    {
     "data": {
      "text/plain": [
       "11"
      ]
     },
     "execution_count": 67,
     "metadata": {},
     "output_type": "execute_result"
    },
    {
     "data": {
      "text/plain": [
       "12"
      ]
     },
     "execution_count": 67,
     "metadata": {},
     "output_type": "execute_result"
    },
    {
     "name": "stdout",
     "output_type": "stream",
     "text": [
      "101, 102, 103, 104, 105, "
     ]
    },
    {
     "data": {
      "text/plain": [
       "type"
      ]
     },
     "execution_count": 67,
     "metadata": {},
     "output_type": "execute_result"
    },
    {
     "name": "stdout",
     "output_type": "stream",
     "text": [
      "201\n",
      "202\n",
      "203\n"
     ]
    }
   ],
   "source": [
    "## write an iterator\n",
    "class Counter(object):\n",
    "    def __init__(self, start, stop):\n",
    "        self.current = start\n",
    "        self.stop = stop\n",
    "    def __iter__(self):\n",
    "        return self\n",
    "    def __next__(self):\n",
    "        if self.current > self.stop:\n",
    "            raise StopIteration\n",
    "        else:\n",
    "            c = self.current\n",
    "            self.current += 1\n",
    "        return c\n",
    "\n",
    "c = Counter(11, 20)\n",
    "next(c)\n",
    "next(c)\n",
    "\n",
    "for c in Counter(101, 105):\n",
    "    print(c, end=', ')\n",
    "type(Counter)\n",
    "\n",
    "c = Counter(201, 203)\n",
    "while True:\n",
    "    try:\n",
    "        print(next(c), sep = ', ')\n",
    "    except StopIteration:\n",
    "        break\n",
    "        "
   ]
  },
  {
   "cell_type": "code",
   "execution_count": 2,
   "id": "19df2945-9bec-4239-acfd-270018d4634a",
   "metadata": {},
   "outputs": [
    {
     "name": "stdout",
     "output_type": "stream",
     "text": [
      "101\n",
      "102\n",
      "103\n",
      "104\n",
      "105\n"
     ]
    }
   ],
   "source": [
    "### Generator\n",
    "def counter(start, stop):\n",
    "    while start <= stop:\n",
    "        yield start\n",
    "        start += 1\n",
    "\n",
    "for i in counter(101, 105):\n",
    "    print(i)   "
   ]
  },
  {
   "cell_type": "code",
   "execution_count": 3,
   "id": "d9eabeae-38ef-4a56-bfef-f102b1a41812",
   "metadata": {},
   "outputs": [
    {
     "name": "stdout",
     "output_type": "stream",
     "text": [
      "<generator object <genexpr> at 0x107238790>\n",
      "0\n",
      "2\n",
      "4\n",
      "6\n",
      "8\n"
     ]
    }
   ],
   "source": [
    "even = (e for e in range(10) if not e%2)\n",
    "print(even)\n",
    "for e in even:\n",
    "    print(e)"
   ]
  },
  {
   "cell_type": "code",
   "execution_count": 4,
   "id": "c30dc310-7547-4683-8251-056bcbdad56a",
   "metadata": {},
   "outputs": [
    {
     "name": "stdout",
     "output_type": "stream",
     "text": [
      "{1, 3, 5, 7, 9}\n",
      "1\n",
      "3\n",
      "5\n",
      "7\n",
      "9\n"
     ]
    }
   ],
   "source": [
    "# even = (e for e in range(10) if not e % 2)\n",
    "odd = {o for o in range(10) if o % 2}\n",
    "print(odd)\n",
    "for o in odd:\n",
    "    print(o)"
   ]
  },
  {
   "cell_type": "code",
   "execution_count": 6,
   "id": "b340eb2b-e4c1-46a0-a8bb-f47f415797e2",
   "metadata": {},
   "outputs": [
    {
     "name": "stdout",
     "output_type": "stream",
     "text": [
      "20\n"
     ]
    }
   ],
   "source": [
    "sum_of_even = sum(e for e in range(10) if not e%2)\n",
    "print(sum_of_even)"
   ]
  },
  {
   "cell_type": "code",
   "execution_count": 12,
   "id": "0bde01d8-610e-40d9-8e7a-65ba40303470",
   "metadata": {},
   "outputs": [
    {
     "name": "stdout",
     "output_type": "stream",
     "text": [
      "I am a_func\n",
      "I am b_func\n"
     ]
    },
    {
     "data": {
      "text/plain": [
       "(None, <function __main__.a_func.<locals>.b_func()>)"
      ]
     },
     "execution_count": 12,
     "metadata": {},
     "output_type": "execute_result"
    }
   ],
   "source": [
    "## functions in function\n",
    "def a_func():\n",
    "    def b_func():\n",
    "        print('I am b_func')\n",
    "    print('I am a_func')\n",
    "    return b_func(), b_func\n",
    "\n",
    "a_func()"
   ]
  },
  {
   "cell_type": "code",
   "execution_count": 18,
   "id": "9cf301e5-2e00-4624-957c-76efe883029e",
   "metadata": {},
   "outputs": [
    {
     "name": "stdout",
     "output_type": "stream",
     "text": [
      "I am a_func\n"
     ]
    },
    {
     "data": {
      "text/plain": [
       "<function __main__.a_decorator.<locals>.wrapper()>"
      ]
     },
     "execution_count": 18,
     "metadata": {},
     "output_type": "execute_result"
    }
   ],
   "source": [
    "from IPython.core.interactiveshell import InteractiveShell\n",
    "InteractiveShell.ast_node_interactivity = 'all'\n",
    "\n",
    "## Decorator\n",
    "def a_decorator(func):\n",
    "    def wrapper():\n",
    "        print('we can do something, before the function is called')\n",
    "        func()\n",
    "        print('we can do something, after the function is called')\n",
    "    #return wrapper()\n",
    "    return wrapper ## with () and without () are different, will return different thing\n",
    "\n",
    "def a_func():\n",
    "    print('I am a_func')\n",
    "\n",
    "a_func()\n",
    "a_decorator(a_func)"
   ]
  },
  {
   "cell_type": "code",
   "execution_count": 22,
   "id": "edad1488-4d0e-4899-bfcd-94e6f1ae6718",
   "metadata": {},
   "outputs": [
    {
     "name": "stdout",
     "output_type": "stream",
     "text": [
      "we can do something before the function is called\n",
      "Hi, I am a_func\n",
      "we can do something after the function is called\n"
     ]
    }
   ],
   "source": [
    "def a_decorator(func):\n",
    "    def wrapper():\n",
    "        print('we can do something before the function is called')\n",
    "        func()\n",
    "        print('we can do something after the function is called')\n",
    "    return wrapper ## we need to return this function, not the results of this function, so there should be no ()\n",
    "\n",
    "@a_decorator\n",
    "def a_func():\n",
    "    print('Hi, I am a_func')\n",
    "\n",
    "a_func()"
   ]
  },
  {
   "cell_type": "code",
   "execution_count": 34,
   "id": "eca86398-48f9-4da8-8f05-7fb4f2bf9e9d",
   "metadata": {},
   "outputs": [
    {
     "data": {
      "text/plain": [
       "'<STRONG> A FIX IS FLIPPELING <STRONG>'"
      ]
     },
     "execution_count": 34,
     "metadata": {},
     "output_type": "execute_result"
    }
   ],
   "source": [
    "def uppercase(func):\n",
    "    def wrapper():\n",
    "        original_results = func()\n",
    "        modified_results = original_results.upper()\n",
    "        return modified_results\n",
    "    return wrapper\n",
    "\n",
    "def strong(func):\n",
    "    def wrapper():\n",
    "        original_results = func()\n",
    "        modified_results = '<strong> ' + original_results + ' <strong>'\n",
    "        return modified_results\n",
    "    return wrapper\n",
    "    \n",
    "@uppercase\n",
    "@strong\n",
    "def an_output():\n",
    "    return 'a fix is flippeling'\n",
    "an_output()\n",
    "\n",
    "# The decoration is performed from bottom to up, in this case, first decorate with strong then uppercase\n"
   ]
  },
  {
   "cell_type": "code",
   "execution_count": 37,
   "id": "d5e8c1c4-0c73-421e-a72d-6025158e30d9",
   "metadata": {},
   "outputs": [
    {
     "data": {
      "text/plain": [
       "'hello! Jack'"
      ]
     },
     "execution_count": 37,
     "metadata": {},
     "output_type": "execute_result"
    }
   ],
   "source": [
    "def say_hi(greeting, name = None):\n",
    "    return greeting + '! ' + name\n",
    "say_hi('hello', 'Jack') "
   ]
  },
  {
   "cell_type": "code",
   "execution_count": 40,
   "id": "836e8336-ba44-44b6-b2b6-afb134b437b2",
   "metadata": {},
   "outputs": [
    {
     "name": "stdout",
     "output_type": "stream",
     "text": [
      "Trace: you got a function to be called: say_hi() with parameters: ('Hello',), {'name': 'Jack'}\n",
      "say_hi with ('Hello',) {'name': 'Jack'}, got: Hello! Jack\n"
     ]
    },
    {
     "data": {
      "text/plain": [
       "'Hello! Jack'"
      ]
     },
     "execution_count": 40,
     "metadata": {},
     "output_type": "execute_result"
    }
   ],
   "source": [
    "## Decorate the say_hi func\n",
    "def trace(func):\n",
    "    def wrapper(*args, **kwargs):\n",
    "        print(f'Trace: you got a function to be called: {func.__name__}()', \n",
    "             f'with parameters: {args}, {kwargs}')\n",
    "        original_result = func(*args, **kwargs)\n",
    "        print(f'{func.__name__} with {args} {kwargs}, got: {original_result}')\n",
    "        return original_result\n",
    "    return wrapper\n",
    "\n",
    "@trace\n",
    "def say_hi(greeting, name=None):\n",
    "    return greeting + '! ' + name\n",
    "\n",
    "say_hi('Hello', name='Jack')"
   ]
  },
  {
   "cell_type": "code",
   "execution_count": 42,
   "id": "295d83e8-ca67-4527-9afc-4a86caebcdcc",
   "metadata": {},
   "outputs": [
    {
     "data": {
      "text/plain": [
       "['row', 'fox', 'dog']"
      ]
     },
     "execution_count": 42,
     "metadata": {},
     "output_type": "execute_result"
    }
   ],
   "source": [
    "## Regular expression，\n",
    "## which used given regular expression to find the patterns, and process the correlated contents\n",
    "\n",
    "import re\n",
    "str = 'The quick browm fox jumped over the lazy dog'\n",
    "pttn = re.compile(r'\\wo\\w')\n",
    "re.findall(pttn, str)"
   ]
  },
  {
   "cell_type": "code",
   "execution_count": 45,
   "id": "a456daf2-5dcc-4a02-9f8e-8d31447fdd8e",
   "metadata": {},
   "outputs": [
    {
     "data": {
      "text/plain": [
       "['begin', 'began', 'begun', 'begins', 'begin']"
      ]
     },
     "execution_count": 45,
     "metadata": {},
     "output_type": "execute_result"
    }
   ],
   "source": [
    "import re\n",
    "\n",
    "with open('regex-target-text-sample.txt') as file:\n",
    "    str = file.read()\n",
    "pattern = r'beg[iau]ns?'\n",
    "re.findall(pattern, str)"
   ]
  },
  {
   "cell_type": "code",
   "execution_count": 48,
   "id": "9f2b65a1-3a7b-4ca9-8dc7-73c35e168066",
   "metadata": {},
   "outputs": [
    {
     "data": {
      "text/plain": [
       "'abcdefghijklmnopqrstuvwxyzABCDEFGHIJKLMNOPQRSTUVWXYZ'"
      ]
     },
     "execution_count": 48,
     "metadata": {},
     "output_type": "execute_result"
    },
    {
     "data": {
      "text/plain": [
       "'0123456789'"
      ]
     },
     "execution_count": 48,
     "metadata": {},
     "output_type": "execute_result"
    }
   ],
   "source": [
    "from IPython.core.interactiveshell import InteractiveShell\n",
    "InteractiveShell.ast_node_interactivity = 'all'\n",
    "\n",
    "import string\n",
    "string.ascii_letters\n",
    "string.digits"
   ]
  },
  {
   "cell_type": "code",
   "execution_count": 49,
   "id": "f8ec2d73-6307-406a-93f7-0b35886877e3",
   "metadata": {},
   "outputs": [
    {
     "data": {
      "text/plain": [
       "['begun', 'begin', 'began']"
      ]
     },
     "execution_count": 49,
     "metadata": {},
     "output_type": "execute_result"
    }
   ],
   "source": [
    "import re\n",
    "\n",
    "str = 'begun begin began'\n",
    "patten = r'beg[iua]n'\n",
    "re.findall(pattern, str)"
   ]
  },
  {
   "cell_type": "code",
   "execution_count": 50,
   "id": "f7bd0c1b-44c9-4907-be9c-7f6dd42f10f8",
   "metadata": {},
   "outputs": [
    {
     "data": {
      "text/plain": [
       "['542-', '270-']"
      ]
     },
     "execution_count": 50,
     "metadata": {},
     "output_type": "execute_result"
    }
   ],
   "source": [
    "import re\n",
    "str = \"<dl>(843) 542-4256</dl> <dl>(431) 270-9664</dl>\"\n",
    "pattern = r'\\d\\d\\d\\-'\n",
    "re.findall(pattern, str)"
   ]
  },
  {
   "cell_type": "code",
   "execution_count": 52,
   "id": "4ef7f4c3-ea0c-4551-a1e9-48f11808019c",
   "metadata": {},
   "outputs": [
    {
     "data": {
      "text/plain": [
       "['er', 'er', 'er']"
      ]
     },
     "execution_count": 52,
     "metadata": {},
     "output_type": "execute_result"
    },
    {
     "data": {
      "text/plain": [
       "['er', 'er']"
      ]
     },
     "execution_count": 52,
     "metadata": {},
     "output_type": "execute_result"
    }
   ],
   "source": [
    "import re\n",
    "str = 'never ever verb hovever everest'\n",
    "pattern1 = r'er\\b'\n",
    "re.findall(pattern1, str)\n",
    "pattern2 = r'er\\B'\n",
    "re.findall(pattern2, str)"
   ]
  },
  {
   "cell_type": "code",
   "execution_count": 63,
   "id": "29c293c5-f415-4afc-8a5f-0f2b4386d9a3",
   "metadata": {},
   "outputs": [
    {
     "data": {
      "text/plain": [
       "['google', 'gooogle', 'goooogle', 'goooooogle']"
      ]
     },
     "execution_count": 63,
     "metadata": {},
     "output_type": "execute_result"
    },
    {
     "data": {
      "text/plain": [
       "['google', 'gooogle', 'goooogle', 'goooooogle']"
      ]
     },
     "execution_count": 63,
     "metadata": {},
     "output_type": "execute_result"
    },
    {
     "data": {
      "text/plain": [
       "['coloured', 'colored']"
      ]
     },
     "execution_count": 63,
     "metadata": {},
     "output_type": "execute_result"
    },
    {
     "data": {
      "text/plain": [
       "['google']"
      ]
     },
     "execution_count": 63,
     "metadata": {},
     "output_type": "execute_result"
    },
    {
     "data": {
      "text/plain": [
       "['google', 'gooogle', 'goooogle', 'goooooogle']"
      ]
     },
     "execution_count": 63,
     "metadata": {},
     "output_type": "execute_result"
    },
    {
     "data": {
      "text/plain": [
       "['520', '52000', '5200000', '520000000', '520000000000']"
      ]
     },
     "execution_count": 63,
     "metadata": {},
     "output_type": "execute_result"
    }
   ],
   "source": [
    "import re\n",
    "\n",
    "with open('regex-target-text-sample.txt', 'r') as file:\n",
    "    str = file.read()\n",
    "pattern = r'go+gle'\n",
    "re.findall(pattern, str)\n",
    "\n",
    "pattern = r'go*gle'\n",
    "re.findall(pattern, str)\n",
    "\n",
    "pattern = r'colou?red'\n",
    "re.findall(pattern, str)\n",
    "\n",
    "pattern = r'go{2}gle'\n",
    "re.findall(pattern, str)\n",
    "\n",
    "pattern = r'go{2,6}gle'\n",
    "re.findall(pattern, str)\n",
    "\n",
    "pattern = r'520*'\n",
    "re.findall(pattern, str)"
   ]
  },
  {
   "cell_type": "code",
   "execution_count": 69,
   "id": "caeb4cde-c51b-4356-a0eb-a8c315cf6f87",
   "metadata": {},
   "outputs": [
    {
     "data": {
      "text/plain": [
       "['er', 'er', 'er', 'er']"
      ]
     },
     "execution_count": 69,
     "metadata": {},
     "output_type": "execute_result"
    },
    {
     "data": {
      "text/plain": [
       "['e', 'r', 'r', 'r', 'e', 'r', 'e', 'r', 'e', 'e', 'r', 'e']"
      ]
     },
     "execution_count": 69,
     "metadata": {},
     "output_type": "execute_result"
    },
    {
     "data": {
      "text/plain": [
       "['er', 'er', 'er', 'er']"
      ]
     },
     "execution_count": 69,
     "metadata": {},
     "output_type": "execute_result"
    },
    {
     "data": {
      "text/plain": [
       "['err', 'er', 'er', 'er']"
      ]
     },
     "execution_count": 69,
     "metadata": {},
     "output_type": "execute_result"
    },
    {
     "data": {
      "text/plain": [
       "['err', 'r', 'erer', 'e', 'er', 'e']"
      ]
     },
     "execution_count": 69,
     "metadata": {},
     "output_type": "execute_result"
    },
    {
     "data": {
      "text/plain": [
       "['er', 'er', 'er']"
      ]
     },
     "execution_count": 69,
     "metadata": {},
     "output_type": "execute_result"
    }
   ],
   "source": [
    "import re\n",
    "\n",
    "str = 'error wonderer severness'\n",
    "pattern = r'er'\n",
    "re.findall(pattern, str)\n",
    "\n",
    "pattern = r'[er]'\n",
    "re.findall(pattern, str)\n",
    "\n",
    "pattern = r'(er)'\n",
    "re.findall(pattern, str)\n",
    "\n",
    "pattern = r'er+'\n",
    "re.findall(pattern, str)\n",
    "\n",
    "pattern = r'[er]+'\n",
    "re.findall(pattern, str)\n",
    "\n",
    "pattern = r'(er)+'\n",
    "re.findall(pattern, str)\n",
    "\n"
   ]
  },
  {
   "cell_type": "code",
   "execution_count": 72,
   "id": "a1208277-f304-4c05-9a41-2cc221b33e14",
   "metadata": {},
   "outputs": [
    {
     "data": {
      "text/plain": [
       "['begin', 'began', 'begun', 'begin', 'begin']"
      ]
     },
     "execution_count": 72,
     "metadata": {},
     "output_type": "execute_result"
    },
    {
     "data": {
      "text/plain": [
       "['begin', 'began', 'begun']"
      ]
     },
     "execution_count": 72,
     "metadata": {},
     "output_type": "execute_result"
    },
    {
     "data": {
      "text/plain": [
       "['begin', 'begin']"
      ]
     },
     "execution_count": 72,
     "metadata": {},
     "output_type": "execute_result"
    }
   ],
   "source": [
    "import re\n",
    "\n",
    "str = 'begin began begun begins begining'\n",
    "pattern = r'begin|began|begun'\n",
    "re.findall(pattern, str)\n",
    "\n",
    "pattern = r'begin\\b|began\\b|begun\\b'\n",
    "re.findall(pattern, str)\n",
    "\n",
    "pattern = r'begin\\B|began\\B|begun\\B'\n",
    "re.findall(pattern, str)\n",
    "\n"
   ]
  },
  {
   "cell_type": "code",
   "execution_count": 77,
   "id": "884be961-6e0b-47d0-8cc3-61f777046096",
   "metadata": {},
   "outputs": [
    {
     "data": {
      "text/plain": [
       "['a', 'a', 'e', 'a', 'a', 'e', 'a', 'a', '|', 'e']"
      ]
     },
     "execution_count": 77,
     "metadata": {},
     "output_type": "execute_result"
    },
    {
     "data": {
      "text/plain": [
       "['a', 'a', 'e', 'a', 'a', 'e', 'a', 'a', 'e']"
      ]
     },
     "execution_count": 77,
     "metadata": {},
     "output_type": "execute_result"
    },
    {
     "data": {
      "text/plain": [
       "['ae']"
      ]
     },
     "execution_count": 77,
     "metadata": {},
     "output_type": "execute_result"
    },
    {
     "data": {
      "text/plain": [
       "['a', 'a', 'e', 'a', 'a', 'e', 'a', 'a', 'e']"
      ]
     },
     "execution_count": 77,
     "metadata": {},
     "output_type": "execute_result"
    },
    {
     "data": {
      "text/plain": [
       "['a', 'a', 'e', 'a', 'a', 'e', 'a', 'a', '|', 'e']"
      ]
     },
     "execution_count": 77,
     "metadata": {},
     "output_type": "execute_result"
    }
   ],
   "source": [
    "import re\n",
    "\n",
    "str = 'achroiocythaemia achroiocythemia a|e'\n",
    "\n",
    "pattern = r'[a|e]'\n",
    "re.findall(pattern, str)\n",
    "\n",
    "pattern = r'(a|e)'\n",
    "re.findall(pattern, str)\n",
    "\n",
    "pattern = r'ae'\n",
    "re.findall(pattern, str)\n",
    "\n",
    "pattern = r'a|e'\n",
    "re.findall(pattern, str)\n",
    "\n",
    "pattern = r'[(a|e)]'\n",
    "re.findall(pattern, str)\n",
    "\n"
   ]
  },
  {
   "cell_type": "code",
   "execution_count": 82,
   "id": "5a752075-7afe-4ef4-a1be-6c6771d49867",
   "metadata": {},
   "outputs": [
    {
     "data": {
      "text/plain": [
       "[('white', 'black')]"
      ]
     },
     "execution_count": 82,
     "metadata": {},
     "output_type": "execute_result"
    },
    {
     "data": {
      "text/plain": [
       "'The white dog wear a black hat'"
      ]
     },
     "execution_count": 82,
     "metadata": {},
     "output_type": "execute_result"
    },
    {
     "data": {
      "text/plain": [
       "'The black dog wear a white hat'"
      ]
     },
     "execution_count": 82,
     "metadata": {},
     "output_type": "execute_result"
    }
   ],
   "source": [
    "import re\n",
    "\n",
    "str = 'The white dog wear a black hat'\n",
    "pattern = 'The (white|black) dog wear a (white|black) hat' \n",
    "re.findall(pattern, str)\n",
    "\n",
    "repl = r'The \\1 dog wear a \\2 hat'\n",
    "re.sub(pattern, repl, str)\n",
    "\n",
    "repl = r'The \\2 dog wear a \\1 hat'\n",
    "re.sub(pattern, repl, str)\n"
   ]
  },
  {
   "cell_type": "code",
   "execution_count": 85,
   "id": "a85b07b7-3381-418a-8f97-49d00369c101",
   "metadata": {},
   "outputs": [
    {
     "data": {
      "text/plain": [
       "['black']"
      ]
     },
     "execution_count": 85,
     "metadata": {},
     "output_type": "execute_result"
    },
    {
     "data": {
      "text/plain": [
       "'The black dog wear a black hat'"
      ]
     },
     "execution_count": 85,
     "metadata": {},
     "output_type": "execute_result"
    }
   ],
   "source": [
    "import re\n",
    "str = 'The white dog wear a black hat'\n",
    "pattern = 'The (?:white|black) dog wear a (white|black) hat' # '?:' capture but dont return values\n",
    "re.findall(pattern, str)\n",
    "\n",
    "repl = r'The \\1 dog wear a \\1 hat'\n",
    "re.sub(pattern, repl, str)"
   ]
  },
  {
   "cell_type": "code",
   "execution_count": 88,
   "id": "304859e8-bb41-4e07-83aa-98d36632d21a",
   "metadata": {},
   "outputs": [
    {
     "data": {
      "application/json": {
       "cell": {
        "!": "OSMagics",
        "HTML": "Other",
        "SVG": "Other",
        "bash": "Other",
        "capture": "ExecutionMagics",
        "code_wrap": "ExecutionMagics",
        "debug": "ExecutionMagics",
        "file": "Other",
        "html": "DisplayMagics",
        "javascript": "DisplayMagics",
        "js": "DisplayMagics",
        "latex": "DisplayMagics",
        "markdown": "DisplayMagics",
        "perl": "Other",
        "prun": "ExecutionMagics",
        "pypy": "Other",
        "python": "Other",
        "python2": "Other",
        "python3": "Other",
        "ruby": "Other",
        "script": "ScriptMagics",
        "sh": "Other",
        "svg": "DisplayMagics",
        "sx": "OSMagics",
        "system": "OSMagics",
        "time": "ExecutionMagics",
        "timeit": "ExecutionMagics",
        "writefile": "OSMagics"
       },
       "line": {
        "alias": "OSMagics",
        "alias_magic": "BasicMagics",
        "autoawait": "AsyncMagics",
        "autocall": "AutoMagics",
        "automagic": "AutoMagics",
        "autosave": "KernelMagics",
        "bookmark": "OSMagics",
        "cat": "Other",
        "cd": "OSMagics",
        "clear": "KernelMagics",
        "code_wrap": "ExecutionMagics",
        "colors": "BasicMagics",
        "conda": "PackagingMagics",
        "config": "ConfigMagics",
        "connect_info": "KernelMagics",
        "cp": "Other",
        "debug": "ExecutionMagics",
        "dhist": "OSMagics",
        "dirs": "OSMagics",
        "doctest_mode": "BasicMagics",
        "ed": "Other",
        "edit": "KernelMagics",
        "env": "OSMagics",
        "gui": "BasicMagics",
        "hist": "Other",
        "history": "HistoryMagics",
        "killbgscripts": "ScriptMagics",
        "ldir": "Other",
        "less": "KernelMagics",
        "lf": "Other",
        "lk": "Other",
        "ll": "Other",
        "load": "CodeMagics",
        "load_ext": "ExtensionMagics",
        "loadpy": "CodeMagics",
        "logoff": "LoggingMagics",
        "logon": "LoggingMagics",
        "logstart": "LoggingMagics",
        "logstate": "LoggingMagics",
        "logstop": "LoggingMagics",
        "ls": "Other",
        "lsmagic": "BasicMagics",
        "lx": "Other",
        "macro": "ExecutionMagics",
        "magic": "BasicMagics",
        "mamba": "PackagingMagics",
        "man": "KernelMagics",
        "matplotlib": "PylabMagics",
        "micromamba": "PackagingMagics",
        "mkdir": "Other",
        "more": "KernelMagics",
        "mv": "Other",
        "notebook": "BasicMagics",
        "page": "BasicMagics",
        "pastebin": "CodeMagics",
        "pdb": "ExecutionMagics",
        "pdef": "NamespaceMagics",
        "pdoc": "NamespaceMagics",
        "pfile": "NamespaceMagics",
        "pinfo": "NamespaceMagics",
        "pinfo2": "NamespaceMagics",
        "pip": "PackagingMagics",
        "popd": "OSMagics",
        "pprint": "BasicMagics",
        "precision": "BasicMagics",
        "prun": "ExecutionMagics",
        "psearch": "NamespaceMagics",
        "psource": "NamespaceMagics",
        "pushd": "OSMagics",
        "pwd": "OSMagics",
        "pycat": "OSMagics",
        "pylab": "PylabMagics",
        "qtconsole": "KernelMagics",
        "quickref": "BasicMagics",
        "recall": "HistoryMagics",
        "rehashx": "OSMagics",
        "reload_ext": "ExtensionMagics",
        "rep": "Other",
        "rerun": "HistoryMagics",
        "reset": "NamespaceMagics",
        "reset_selective": "NamespaceMagics",
        "rm": "Other",
        "rmdir": "Other",
        "run": "ExecutionMagics",
        "save": "CodeMagics",
        "sc": "OSMagics",
        "set_env": "OSMagics",
        "store": "StoreMagics",
        "sx": "OSMagics",
        "system": "OSMagics",
        "tb": "ExecutionMagics",
        "time": "ExecutionMagics",
        "timeit": "ExecutionMagics",
        "unalias": "OSMagics",
        "unload_ext": "ExtensionMagics",
        "who": "NamespaceMagics",
        "who_ls": "NamespaceMagics",
        "whos": "NamespaceMagics",
        "xdel": "NamespaceMagics",
        "xmode": "BasicMagics"
       }
      },
      "text/plain": [
       "Available line magics:\n",
       "%alias  %alias_magic  %autoawait  %autocall  %automagic  %autosave  %bookmark  %cat  %cd  %clear  %code_wrap  %colors  %conda  %config  %connect_info  %cp  %debug  %dhist  %dirs  %doctest_mode  %ed  %edit  %env  %gui  %hist  %history  %killbgscripts  %ldir  %less  %lf  %lk  %ll  %load  %load_ext  %loadpy  %logoff  %logon  %logstart  %logstate  %logstop  %ls  %lsmagic  %lx  %macro  %magic  %mamba  %man  %matplotlib  %micromamba  %mkdir  %more  %mv  %notebook  %page  %pastebin  %pdb  %pdef  %pdoc  %pfile  %pinfo  %pinfo2  %pip  %popd  %pprint  %precision  %prun  %psearch  %psource  %pushd  %pwd  %pycat  %pylab  %qtconsole  %quickref  %recall  %rehashx  %reload_ext  %rep  %rerun  %reset  %reset_selective  %rm  %rmdir  %run  %save  %sc  %set_env  %store  %sx  %system  %tb  %time  %timeit  %unalias  %unload_ext  %who  %who_ls  %whos  %xdel  %xmode\n",
       "\n",
       "Available cell magics:\n",
       "%%!  %%HTML  %%SVG  %%bash  %%capture  %%code_wrap  %%debug  %%file  %%html  %%javascript  %%js  %%latex  %%markdown  %%perl  %%prun  %%pypy  %%python  %%python2  %%python3  %%ruby  %%script  %%sh  %%svg  %%sx  %%system  %%time  %%timeit  %%writefile\n",
       "\n",
       "Automagic is ON, % prefix IS NOT needed for line magics."
      ]
     },
     "execution_count": 88,
     "metadata": {},
     "output_type": "execute_result"
    },
    {
     "name": "stdout",
     "output_type": "stream",
     "text": [
      "\n",
      "Automagic is OFF, % prefix IS needed for line magics.\n"
     ]
    }
   ],
   "source": [
    "%lsmagic\n",
    "%automagic"
   ]
  }
 ],
 "metadata": {
  "kernelspec": {
   "display_name": "Python 3 (ipykernel)",
   "language": "python",
   "name": "python3"
  },
  "language_info": {
   "codemirror_mode": {
    "name": "ipython",
    "version": 3
   },
   "file_extension": ".py",
   "mimetype": "text/x-python",
   "name": "python",
   "nbconvert_exporter": "python",
   "pygments_lexer": "ipython3",
   "version": "3.11.7"
  }
 },
 "nbformat": 4,
 "nbformat_minor": 5
}
